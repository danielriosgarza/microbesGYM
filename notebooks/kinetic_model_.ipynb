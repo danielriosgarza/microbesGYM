{
  "nbformat": 4,
  "nbformat_minor": 0,
  "metadata": {
    "colab": {
      "provenance": [],
      "authorship_tag": "ABX9TyM8tpREeArBq0hd5rIR50SJ",
      "include_colab_link": true
    },
    "kernelspec": {
      "name": "python3",
      "display_name": "Python 3"
    },
    "language_info": {
      "name": "python"
    },
    "widgets": {
      "state": {
        "e1ff6f4181984ebe89cff1be9460e18a": {
          "model_module": "jupyter-cytoscape",
          "model_name": "CytoscapeModel",
          "model_module_version": "^1.3.3",
          "state": {
            "_dom_classes": [],
            "_interaction_handlers": {},
            "_model_module": "jupyter-cytoscape",
            "_model_module_version": "^1.3.3",
            "_model_name": "CytoscapeModel",
            "_view_count": null,
            "_view_module": "jupyter-cytoscape",
            "_view_module_version": "^1.3.3",
            "_view_name": "CytoscapeView",
            "auto_ungrabify": false,
            "auto_unselectify": true,
            "autolock": false,
            "box_selection_enabled": false,
            "cytoscape_layout": {
              "name": "preset"
            },
            "cytoscape_style": [],
            "desktop_tap_threshold": 4,
            "graph": "IPY_MODEL_50eabbbfc9284572a49b19d43e102a88",
            "headless": false,
            "hide_edges_on_viewport": false,
            "layout": "IPY_MODEL_61846012de3848918c0b1668d9139084",
            "max_zoom": 1e+50,
            "min_zoom": 1e-50,
            "motion_blur": false,
            "motion_blur_opacity": 0.2,
            "panning_enabled": true,
            "pixel_ratio": "auto",
            "rendered_position": { "renderedPosition": { "x": 100, "y": 100 } },
            "selection_type": "single",
            "style_enabled": true,
            "texture_on_viewport": false,
            "tooltip_source": "tooltip",
            "touch_tap_threshold": 8,
            "user_panning_enabled": true,
            "user_zooming_enabled": true,
            "wheel_sensitivity": 1,
            "zoom": 2,
            "zooming_enabled": true
          }
        },
        "50eabbbfc9284572a49b19d43e102a88": {
          "model_module": "jupyter-cytoscape",
          "model_name": "GraphModel",
          "model_module_version": "^1.3.3",
          "state": {
            "_adj": {
              "met:acetate": {},
              "met:co2": {},
              "met:glucose": {}
            },
            "_model_module": "jupyter-cytoscape",
            "_model_module_version": "^1.3.3",
            "_model_name": "GraphModel",
            "_view_count": null,
            "_view_module": "jupyter-cytoscape",
            "_view_module_version": "^1.3.3",
            "_view_name": null,
            "edges": [],
            "nodes": [
              "IPY_MODEL_a9e1226bb44e42b79945a6c4beff82f2",
              "IPY_MODEL_40453e86056e41deb1af3cbe13a341bf",
              "IPY_MODEL_c606dd16f5cc4ac790ef1747cbdab9c9"
            ]
          }
        },
        "61846012de3848918c0b1668d9139084": {
          "model_module": "@jupyter-widgets/base",
          "model_name": "LayoutModel",
          "model_module_version": "1.2.0",
          "state": {
            "_model_module": "@jupyter-widgets/base",
            "_model_module_version": "1.2.0",
            "_model_name": "LayoutModel",
            "_view_count": null,
            "_view_module": "@jupyter-widgets/base",
            "_view_module_version": "1.2.0",
            "_view_name": "LayoutView"
          }
        },
        "a9e1226bb44e42b79945a6c4beff82f2": {
          "model_module": "jupyter-cytoscape",
          "model_name": "NodeModel",
          "model_module_version": "^1.3.3",
          "state": {}
        },
        "40453e86056e41deb1af3cbe13a341bf": {
          "model_module": "jupyter-cytoscape",
          "model_name": "NodeModel",
          "model_module_version": "^1.3.3",
          "state": {}
        },
        "c606dd16f5cc4ac790ef1747cbdab9c9": {
          "model_module": "jupyter-cytoscape",
          "model_name": "NodeModel",
          "model_module_version": "^1.3.3",
          "state": {}
        }
      },
      "version_major": 2,
      "version_minor": 0
    }
  },
  "cells": [
    {
      "cell_type": "markdown",
      "metadata": { "id": "view-in-github", "colab_type": "text" },
      "source": [
        "<a href=\"https://colab.research.google.com/github/danielriosgarza/microbesGYM/blob/main/notebooks/kinetic_model_.ipynb\" target=\"_parent\"><img src=\"https://colab.research.google.com/assets/colab-badge.svg\" alt=\"Open In Colab\"/></a>"
      ]
    },
    { "cell_type": "markdown", "metadata": { "id": "jwgUNvjcSESI" }, "source": ["# **Building and simulating a kinetic microbiome model**"] }
  ]
}

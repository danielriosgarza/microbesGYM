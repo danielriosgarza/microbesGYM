{
  "nbformat": 4,
  "nbformat_minor": 0,
  "metadata": {
    "colab": {
      "provenance": [],
      "authorship_tag": "ABX9TyM8tpREeArBq0hd5rIR50SJ",
      "include_colab_link": true
    },
    "kernelspec": {
      "name": "python3",
      "display_name": "Python 3"
    },
    "language_info": {
      "name": "python"
    },
    "widgets": {
      "application/vnd.jupyter.widget-state+json": {
        "e1ff6f4181984ebe89cff1be9460e18a": {
          "model_module": "jupyter-cytoscape",
          "model_name": "CytoscapeModel",
          "model_module_version": "^1.3.3",
          "state": {
            "_dom_classes": [],
            "_interaction_handlers": {},
            "_model_module": "jupyter-cytoscape",
            "_model_module_version": "^1.3.3",
            "_model_name": "CytoscapeModel",
            "_view_count": null,
            "_view_module": "jupyter-cytoscape",
            "_view_module_version": "^1.3.3",
            "_view_name": "CytoscapeView",
            "auto_ungrabify": false,
            "auto_unselectify": true,
            "autolock": false,
            "box_selection_enabled": false,
            "cytoscape_layout": {
              "name": "preset"
            },
            "cytoscape_style": [
              {
                "selector": "node",
                "style": {
                  "label": "data(label)",
                  "text-wrap": "wrap",
                  "text-max-width": 120,
                  "font-size": 10,
                  "background-color": "data(color)",
                  "width": "mapData(size, 0, 5, 20, 120)",
                  "height": "mapData(size, 0, 5, 20, 120)",
                  "border-width": 1,
                  "border-color": "#334155"
                }
              },
              {
                "selector": "node[type = \"metabolite\"]",
                "style": {
                  "shape": "ellipse",
                  "background-color": "data(color)"
                }
              },
              {
                "selector": "node[type = \"subpopulation\"]",
                "style": {
                  "shape": "hexagon",
                  "background-color": "data(color)"
                }
              },
              {
                "selector": "node[type = \"feedingTerm\"]",
                "style": {
                  "shape": "triangle",
                  "background-color": "data(color)"
                }
              },
              {
                "selector": "node[type = \"pH\"]",
                "style": {
                  "shape": "diamond",
                  "background-color": "data(color)"
                }
              },
              {
                "selector": "node[type = \"group\"]",
                "style": {
                  "shape": "round-rectangle",
                  "background-opacity": 0,
                  "z-compound-depth": "bottom",
                  "border-width": 6,
                  "border-color": "#94a3b8",
                  "padding": "12px"
                }
              },
              {
                "selector": "edge",
                "style": {
                  "curve-style": "bezier",
                  "width": 2,
                  "line-color": "#94a3b8",
                  "target-arrow-shape": "vee",
                  "target-arrow-color": "#94a3b8"
                }
              },
              {
                "selector": "edge[role = \"feeds\"]",
                "style": {
                  "line-color": "#64748b",
                  "target-arrow-color": "#64748b",
                  "target-arrow-shape": "triangle",
                  "display": "element"
                }
              },
              {
                "selector": "edge[role = \"consumes\"]",
                "style": {
                  "line-color": "#3b82f6",
                  "target-arrow-color": "#3b82f6",
                  "target-arrow-shape": "triangle",
                  "width": "mapData(rateAbs, 0, 5, 1, 8)",
                  "display": "element"
                }
              },
              {
                "selector": "edge[role = \"produces\"]",
                "style": {
                  "line-color": "#16a34a",
                  "target-arrow-color": "#16a34a",
                  "target-arrow-shape": "triangle",
                  "width": "mapData(rateAbs, 0, 5, 1, 8)",
                  "display": "element"
                }
              },
              {
                "selector": "edge[role = \"connects\"]",
                "style": {
                  "line-style": "dashed",
                  "line-color": "#6b7280",
                  "target-arrow-color": "#6b7280",
                  "display": "element"
                }
              },
              {
                "selector": "edge[role = \"controls\"]",
                "style": {
                  "line-color": "#f97316",
                  "target-arrow-color": "#f97316",
                  "target-arrow-shape": "triangle",
                  "width": "mapData(coeff, -1, 1, 1, 6)",
                  "display": "element"
                }
              },
              {
                "selector": "node:selected",
                "style": {
                  "label": "data(hoverLabel)",
                  "font-size": 11,
                  "text-background-color": "#ffffff",
                  "text-background-opacity": 0.85,
                  "text-background-padding": 2,
                  "z-index": 999
                }
              },
              {
                "selector": "edge:selected",
                "style": {
                  "label": "data(edgeLabel)",
                  "font-size": 10,
                  "text-rotation": "autorotate",
                  "text-background-color": "#ffffff",
                  "text-background-opacity": 0.85,
                  "text-background-padding": 2,
                  "z-index": 999
                }
              },
              {
                "selector": "edge",
                "style": {
                  "label": "data(edgeLabel)",
                  "font-size": 9,
                  "text-rotation": "autorotate",
                  "text-background-color": "#ffffff",
                  "text-background-opacity": 0.7,
                  "text-background-padding": 2
                }
              }
            ],
            "desktop_tap_threshold": 4,
            "graph": "IPY_MODEL_50eabbbfc9284572a49b19d43e102a88",
            "headless": false,
            "hide_edges_on_viewport": false,
            "layout": "IPY_MODEL_61846012de3848918c0b1668d9139084",
            "max_zoom": 1e+50,
            "min_zoom": 1e-50,
            "motion_blur": false,
            "motion_blur_opacity": 0.2,
            "panning_enabled": true,
            "pixel_ratio": "auto",
            "rendered_position": {
              "renderedPosition": {
                "x": 100,
                "y": 100
              }
            },
            "selection_type": "single",
            "style_enabled": true,
            "texture_on_viewport": false,
            "tooltip_source": "tooltip",
            "touch_tap_threshold": 8,
            "user_panning_enabled": true,
            "user_zooming_enabled": true,
            "wheel_sensitivity": 1,
            "zoom": 2,
            "zooming_enabled": true
          }
        },
        "50eabbbfc9284572a49b19d43e102a88": {
          "model_module": "jupyter-cytoscape",
          "model_name": "GraphModel",
          "model_module_version": "^1.3.3",
          "state": {
            "_adj": {
              "met:acetate": {},
              "met:co2": {},
              "met:glucose": {}
            },
            "_model_module": "jupyter-cytoscape",
            "_model_module_version": "^1.3.3",
            "_model_name": "GraphModel",
            "_view_count": null,
            "_view_module": "jupyter-cytoscape",
            "_view_module_version": "^1.3.3",
            "_view_name": null,
            "edges": [],
            "nodes": [
              "IPY_MODEL_a9e1226bb44e42b79945a6c4beff82f2",
              "IPY_MODEL_40453e86056e41deb1af3cbe13a341bf",
              "IPY_MODEL_c606dd16f5cc4ac790ef1747cbdab9c9"
            ]
          }
        },
        "61846012de3848918c0b1668d9139084": {
          "model_module": "@jupyter-widgets/base",
          "model_name": "LayoutModel",
          "model_module_version": "1.2.0",
          "state": {
            "_model_module": "@jupyter-widgets/base",
            "_model_module_version": "1.2.0",
            "_model_name": "LayoutModel",
            "_view_count": null,
            "_view_module": "@jupyter-widgets/base",
            "_view_module_version": "1.2.0",
            "_view_name": "LayoutView",
            "align_content": null,
            "align_items": null,
            "align_self": null,
            "border": null,
            "bottom": null,
            "display": null,
            "flex": null,
            "flex_flow": null,
            "grid_area": null,
            "grid_auto_columns": null,
            "grid_auto_flow": null,
            "grid_auto_rows": null,
            "grid_column": null,
            "grid_gap": null,
            "grid_row": null,
            "grid_template_areas": null,
            "grid_template_columns": null,
            "grid_template_rows": null,
            "height": null,
            "justify_content": null,
            "justify_items": null,
            "left": null,
            "margin": null,
            "max_height": null,
            "max_width": null,
            "min_height": null,
            "min_width": null,
            "object_fit": null,
            "object_position": null,
            "order": null,
            "overflow": null,
            "overflow_x": null,
            "overflow_y": null,
            "padding": null,
            "right": null,
            "top": null,
            "visibility": null,
            "width": null
          }
        },
        "a9e1226bb44e42b79945a6c4beff82f2": {
          "model_module": "jupyter-cytoscape",
          "model_name": "NodeModel",
          "model_module_version": "^1.3.3",
          "state": {
            "_model_module": "jupyter-cytoscape",
            "_model_module_version": "^1.3.3",
            "_model_name": "NodeModel",
            "_view_count": null,
            "_view_module": "jupyter-cytoscape",
            "_view_module_version": "^1.3.3",
            "_view_name": "NodeView",
            "classes": "",
            "data": {
              "id": "met:acetate",
              "label": "acetate",
              "type": "metabolite",
              "concentration": 0,
              "formula": {
                "C": 2,
                "H": 4,
                "O": 3,
                "N": 0,
                "S": 0,
                "P": 0
              },
              "size": 0,
              "hoverLabel": "acetate (metabolite) | conc=0 | formula=C2H4O3",
              "color": "#003eff"
            },
            "grabbable": true,
            "grabbed": false,
            "locked": false,
            "pannable": false,
            "position": {
              "x": -128,
              "y": 0
            },
            "removed": false,
            "selectable": false,
            "selected": false
          }
        },
        "40453e86056e41deb1af3cbe13a341bf": {
          "model_module": "jupyter-cytoscape",
          "model_name": "NodeModel",
          "model_module_version": "^1.3.3",
          "state": {
            "_model_module": "jupyter-cytoscape",
            "_model_module_version": "^1.3.3",
            "_model_name": "NodeModel",
            "_view_count": null,
            "_view_module": "jupyter-cytoscape",
            "_view_module_version": "^1.3.3",
            "_view_name": "NodeView",
            "classes": "",
            "data": {
              "id": "met:co2",
              "label": "co2",
              "type": "metabolite",
              "concentration": 0,
              "formula": {
                "C": 1,
                "H": 0,
                "O": 2,
                "N": 0,
                "S": 0,
                "P": 0
              },
              "size": 0,
              "hoverLabel": "co2 (metabolite) | conc=0 | formula=C1O2",
              "color": "#00B8FF"
            },
            "grabbable": true,
            "grabbed": false,
            "locked": false,
            "pannable": false,
            "position": {
              "x": 0,
              "y": 0
            },
            "removed": false,
            "selectable": false,
            "selected": false
          }
        },
        "c606dd16f5cc4ac790ef1747cbdab9c9": {
          "model_module": "jupyter-cytoscape",
          "model_name": "NodeModel",
          "model_module_version": "^1.3.3",
          "state": {
            "_model_module": "jupyter-cytoscape",
            "_model_module_version": "^1.3.3",
            "_model_name": "NodeModel",
            "_view_count": null,
            "_view_module": "jupyter-cytoscape",
            "_view_module_version": "^1.3.3",
            "_view_name": "NodeView",
            "classes": "",
            "data": {
              "id": "met:glucose",
              "label": "glucose",
              "type": "metabolite",
              "concentration": 5,
              "formula": {
                "C": 6,
                "H": 12,
                "O": 6,
                "N": 0,
                "S": 0,
                "P": 0
              },
              "size": 1.0795880017344075,
              "hoverLabel": "glucose (metabolite) | conc=5 | formula=C6H12O6",
              "color": "#ff0000"
            },
            "grabbable": true,
            "grabbed": false,
            "locked": false,
            "pannable": false,
            "position": {
              "x": 128,
              "y": 0
            },
            "removed": false,
            "selectable": false,
            "selected": false
          }
        }
      }
    }
  },
  "cells": [
    {
      "cell_type": "markdown",
      "metadata": {
        "id": "view-in-github",
        "colab_type": "text"
      },
      "source": [
        "<a href=\"https://colab.research.google.com/github/danielriosgarza/microbesGYM/blob/main/notebooks/kinetic_model_.ipynb\" target=\"_parent\"><img src=\"https://colab.research.google.com/assets/colab-badge.svg\" alt=\"Open In Colab\"/></a>"
      ]
    },
    {
      "cell_type": "markdown",
      "source": [
        "# **Building and simulating a kinetic microbiome model**"
      ],
      "metadata": {
        "id": "jwgUNvjcSESI"
      }
    },
    {
      "cell_type": "markdown",
      "source": [
        "### **Install the package and dependencies**"
      ],
      "metadata": {
        "id": "FpLITdcnSXUq"
      }
    },
    {
      "cell_type": "code",
      "execution_count": 1,
      "metadata": {
        "colab": {
          "base_uri": "https://localhost:8080/"
        },
        "id": "JRPt9NYrIy_H",
        "outputId": "2be061f5-9daf-497a-83c5-ff3d2d982811",
        "collapsed": true
      },
      "outputs": [
        {
          "output_type": "stream",
          "name": "stdout",
          "text": [
            "Cloning into 'microbesGYM'...\n",
            "remote: Enumerating objects: 116, done.\u001b[K\n",
            "remote: Counting objects: 100% (116/116), done.\u001b[K\n",
            "remote: Compressing objects: 100% (81/81), done.\u001b[K\n",
            "remote: Total 116 (delta 28), reused 111 (delta 23), pack-reused 0 (from 0)\u001b[K\n",
            "Receiving objects: 100% (116/116), 5.71 MiB | 14.80 MiB/s, done.\n",
            "Resolving deltas: 100% (28/28), done.\n"
          ]
        }
      ],
      "source": [
        "!git clone https://github.com/danielriosgarza/microbesGYM.git"
      ]
    },
    {
      "cell_type": "code",
      "source": [
        "%cd microbesGYM\n",
        "!uv pip install .[all]"
      ],
      "metadata": {
        "colab": {
          "base_uri": "https://localhost:8080/"
        },
        "id": "x9F3b-zII53Z",
        "outputId": "c4b54ad2-678e-47a7-ae1c-30ff57c60f05",
        "collapsed": true
      },
      "execution_count": 2,
      "outputs": [
        {
          "output_type": "stream",
          "name": "stdout",
          "text": [
            "/content/microbesGYM\n",
            "\u001b[2mUsing Python 3.12.11 environment at: /usr\u001b[0m\n",
            "\u001b[2K\u001b[2mResolved \u001b[1m175 packages\u001b[0m \u001b[2min 5.50s\u001b[0m\u001b[0m\n",
            "\u001b[2K\u001b[2mPrepared \u001b[1m19 packages\u001b[0m \u001b[2min 1.04s\u001b[0m\u001b[0m\n",
            "\u001b[2mUninstalled \u001b[1m1 package\u001b[0m \u001b[2min 24ms\u001b[0m\u001b[0m\n",
            "\u001b[2K\u001b[2mInstalled \u001b[1m19 packages\u001b[0m \u001b[2min 89ms\u001b[0m\u001b[0m\n",
            " \u001b[32m+\u001b[39m \u001b[1mblack\u001b[0m\u001b[2m==25.9.0\u001b[0m\n",
            " \u001b[32m+\u001b[39m \u001b[1mflake8\u001b[0m\u001b[2m==7.3.0\u001b[0m\n",
            " \u001b[32m+\u001b[39m \u001b[1mipycytoscape\u001b[0m\u001b[2m==1.3.3\u001b[0m\n",
            " \u001b[32m+\u001b[39m \u001b[1mjabbar\u001b[0m\u001b[2m==0.0.16\u001b[0m\n",
            " \u001b[32m+\u001b[39m \u001b[1mjedi\u001b[0m\u001b[2m==0.19.2\u001b[0m\n",
            " \u001b[32m+\u001b[39m \u001b[1mmccabe\u001b[0m\u001b[2m==0.7.0\u001b[0m\n",
            " \u001b[32m+\u001b[39m \u001b[1mmicrobesgym\u001b[0m\u001b[2m==0.1.0 (from file:///content/microbesGYM)\u001b[0m\n",
            " \u001b[32m+\u001b[39m \u001b[1mmypy\u001b[0m\u001b[2m==1.18.2\u001b[0m\n",
            " \u001b[32m+\u001b[39m \u001b[1mmypy-extensions\u001b[0m\u001b[2m==1.1.0\u001b[0m\n",
            " \u001b[32m+\u001b[39m \u001b[1mpathspec\u001b[0m\u001b[2m==0.12.1\u001b[0m\n",
            " \u001b[32m+\u001b[39m \u001b[1mpyabc\u001b[0m\u001b[2m==0.12.16\u001b[0m\n",
            " \u001b[32m+\u001b[39m \u001b[1mpycodestyle\u001b[0m\u001b[2m==2.14.0\u001b[0m\n",
            " \u001b[32m+\u001b[39m \u001b[1mpyflakes\u001b[0m\u001b[2m==3.4.0\u001b[0m\n",
            " \u001b[32m+\u001b[39m \u001b[1mpytokens\u001b[0m\u001b[2m==0.1.10\u001b[0m\n",
            " \u001b[32m+\u001b[39m \u001b[1mredis\u001b[0m\u001b[2m==6.4.0\u001b[0m\n",
            " \u001b[32m+\u001b[39m \u001b[1mspectate\u001b[0m\u001b[2m==1.0.1\u001b[0m\n",
            " \u001b[32m+\u001b[39m \u001b[1mstable-baselines3\u001b[0m\u001b[2m==2.7.0\u001b[0m\n",
            " \u001b[31m-\u001b[39m \u001b[1mtensorboard\u001b[0m\u001b[2m==2.19.0\u001b[0m\n",
            " \u001b[32m+\u001b[39m \u001b[1mtensorboard\u001b[0m\u001b[2m==2.20.0\u001b[0m\n",
            " \u001b[32m+\u001b[39m \u001b[1mtorchdiffeq\u001b[0m\u001b[2m==0.2.5\u001b[0m\n"
          ]
        }
      ]
    },
    {
      "cell_type": "code",
      "source": [
        "from google.colab import output\n",
        "output.enable_custom_widget_manager()"
      ],
      "metadata": {
        "id": "j25eRGIqRfEn"
      },
      "execution_count": 3,
      "outputs": []
    },
    {
      "cell_type": "markdown",
      "source": [
        "### **Kinetic model environment**"
      ],
      "metadata": {
        "id": "dKze9wRESgY5"
      }
    },
    {
      "cell_type": "markdown",
      "source": [
        "The `kinetic model` environment allows us to simulate microbial communities and their environments using ordinary differential equations.\n",
        "\n",
        "To illustrate how it works, we build a simplified examplt with *E. coli* subpopulations.\n",
        "\n",
        "In this example, there are three subpopulations: two active and one inactive.\n",
        "\n",
        "- **Subpopulation A** consumes glucose and produces acetate (overflow).\n",
        "\n",
        "- **Subpopulation B** consumes acetate and produces CO2. Both subpopulations can transition to the inactive state.\n",
        "\n",
        "\n",
        "<div style=\"height:24px;\"></div>\n",
        "\n",
        "```css\n",
        "Glucose ---> [Subpopulation A] ---> Acetate\n",
        "Acetate ---> [Subpopulation B] ---> CO2\n",
        "\n",
        "[Subpopulation A] ---> [Inactive]\n",
        "[Subpopulation B] ---> [Inactive]\n",
        "```\n",
        "\n",
        "<div style=\"height:24px;\"></div>\n"
      ],
      "metadata": {
        "id": "UULoOD5LSqS9"
      }
    },
    {
      "cell_type": "markdown",
      "source": [
        "#### **Metabolites & Metabolome**"
      ],
      "metadata": {
        "id": "pNHUnlWVS0VN"
      }
    },
    {
      "cell_type": "markdown",
      "source": [
        "First, we create three `Metabolite` objects—glucose, acetate, and CO2—and group them in a `Metabolome`.\n"
      ],
      "metadata": {
        "id": "Dl6E5Qr6S4KG"
      }
    },
    {
      "cell_type": "code",
      "source": [
        "#import packages for the model and visualization\n",
        "from kinetic_model import Metabolite, Metabolome\n",
        "from kinetic_model.visualize import GraphSpecBuilder, CytoscapeExporter\n",
        "import json\n",
        "#to make sure plotly renders in the notebook\n",
        "import plotly.io as pio\n",
        "pio.renderers.default = \"colab\"\n",
        "# Display Cytoscape visualization\n",
        "from ipycytoscape import CytoscapeWidget\n",
        "import ipywidgets as widgets\n",
        "\n",
        "\n",
        "\n",
        "#create metabolites\n",
        "glucose = Metabolite(name = \"glucose\", concentration = 5.0, formula ={'C': 6, 'H': 12, 'O': 6}, color = '#ff0000')\n",
        "acetate = Metabolite(name = \"acetate\", concentration = 0.0, formula ={'C': 2, 'H': 4, 'O': 3}, color = '#003eff')\n",
        "co2 = Metabolite(name = \"co2\", concentration = 0.0, formula ={'C': 1, 'O': 2}, color = '#00B8FF')"
      ],
      "metadata": {
        "id": "Rh7tdaWzI-DK"
      },
      "execution_count": 4,
      "outputs": []
    },
    {
      "cell_type": "code",
      "source": [
        "#create metabolome\n",
        "metabolome = Metabolome(metabolites = [glucose, acetate, co2])\n",
        "\n",
        "#visualize it\n",
        "metabolome.make_plot()"
      ],
      "metadata": {
        "id": "sjaenUSdOskx",
        "colab": {
          "base_uri": "https://localhost:8080/",
          "height": 542
        },
        "outputId": "a764c4e0-a579-4eb5-9014-b9bbf18cf595"
      },
      "execution_count": 5,
      "outputs": [
        {
          "output_type": "display_data",
          "data": {
            "text/html": [
              "<html>\n",
              "<head><meta charset=\"utf-8\" /></head>\n",
              "<body>\n",
              "    <div>            <script src=\"https://cdnjs.cloudflare.com/ajax/libs/mathjax/2.7.5/MathJax.js?config=TeX-AMS-MML_SVG\"></script><script type=\"text/javascript\">if (window.MathJax && window.MathJax.Hub && window.MathJax.Hub.Config) {window.MathJax.Hub.Config({SVG: {font: \"STIX-Web\"}});}</script>                <script type=\"text/javascript\">window.PlotlyConfig = {MathJaxConfig: 'local'};</script>\n",
              "        <script charset=\"utf-8\" src=\"https://cdn.plot.ly/plotly-2.35.2.min.js\"></script>                <div id=\"3a649ae1-4e3d-48c3-972a-5a718f41090a\" class=\"plotly-graph-div\" style=\"height:525px; width:100%;\"></div>            <script type=\"text/javascript\">                                    window.PLOTLYENV=window.PLOTLYENV || {};                                    if (document.getElementById(\"3a649ae1-4e3d-48c3-972a-5a718f41090a\")) {                    Plotly.newPlot(                        \"3a649ae1-4e3d-48c3-972a-5a718f41090a\",                        [{\"hovertemplate\":\"\\u003cb\\u003eacetate\\u003c\\u002fb\\u003e\\u003cbr\\u003eConcentration: 0.00 mM\\u003cbr\\u003e\\u003cextra\\u003e\\u003c\\u002fextra\\u003e\",\"marker\":{\"color\":\"#003eff\",\"line\":{\"color\":\"black\",\"width\":1.5}},\"name\":\"acetate\",\"showlegend\":true,\"x\":[\"acetate\"],\"y\":[0.0],\"type\":\"bar\"},{\"hovertemplate\":\"\\u003cb\\u003eco2\\u003c\\u002fb\\u003e\\u003cbr\\u003eConcentration: 0.00 mM\\u003cbr\\u003e\\u003cextra\\u003e\\u003c\\u002fextra\\u003e\",\"marker\":{\"color\":\"#00B8FF\",\"line\":{\"color\":\"black\",\"width\":1.5}},\"name\":\"co2\",\"showlegend\":true,\"x\":[\"co2\"],\"y\":[0.0],\"type\":\"bar\"},{\"hovertemplate\":\"\\u003cb\\u003eglucose\\u003c\\u002fb\\u003e\\u003cbr\\u003eConcentration: 5.00 mM\\u003cbr\\u003e\\u003cextra\\u003e\\u003c\\u002fextra\\u003e\",\"marker\":{\"color\":\"#ff0000\",\"line\":{\"color\":\"black\",\"width\":1.5}},\"name\":\"glucose\",\"showlegend\":true,\"x\":[\"glucose\"],\"y\":[5.0],\"type\":\"bar\"}],                        {\"template\":{\"data\":{\"barpolar\":[{\"marker\":{\"line\":{\"color\":\"white\",\"width\":0.5},\"pattern\":{\"fillmode\":\"overlay\",\"size\":10,\"solidity\":0.2}},\"type\":\"barpolar\"}],\"bar\":[{\"error_x\":{\"color\":\"#2a3f5f\"},\"error_y\":{\"color\":\"#2a3f5f\"},\"marker\":{\"line\":{\"color\":\"white\",\"width\":0.5},\"pattern\":{\"fillmode\":\"overlay\",\"size\":10,\"solidity\":0.2}},\"type\":\"bar\"}],\"carpet\":[{\"aaxis\":{\"endlinecolor\":\"#2a3f5f\",\"gridcolor\":\"#C8D4E3\",\"linecolor\":\"#C8D4E3\",\"minorgridcolor\":\"#C8D4E3\",\"startlinecolor\":\"#2a3f5f\"},\"baxis\":{\"endlinecolor\":\"#2a3f5f\",\"gridcolor\":\"#C8D4E3\",\"linecolor\":\"#C8D4E3\",\"minorgridcolor\":\"#C8D4E3\",\"startlinecolor\":\"#2a3f5f\"},\"type\":\"carpet\"}],\"choropleth\":[{\"colorbar\":{\"outlinewidth\":0,\"ticks\":\"\"},\"type\":\"choropleth\"}],\"contourcarpet\":[{\"colorbar\":{\"outlinewidth\":0,\"ticks\":\"\"},\"type\":\"contourcarpet\"}],\"contour\":[{\"colorbar\":{\"outlinewidth\":0,\"ticks\":\"\"},\"colorscale\":[[0.0,\"#0d0887\"],[0.1111111111111111,\"#46039f\"],[0.2222222222222222,\"#7201a8\"],[0.3333333333333333,\"#9c179e\"],[0.4444444444444444,\"#bd3786\"],[0.5555555555555556,\"#d8576b\"],[0.6666666666666666,\"#ed7953\"],[0.7777777777777778,\"#fb9f3a\"],[0.8888888888888888,\"#fdca26\"],[1.0,\"#f0f921\"]],\"type\":\"contour\"}],\"heatmapgl\":[{\"colorbar\":{\"outlinewidth\":0,\"ticks\":\"\"},\"colorscale\":[[0.0,\"#0d0887\"],[0.1111111111111111,\"#46039f\"],[0.2222222222222222,\"#7201a8\"],[0.3333333333333333,\"#9c179e\"],[0.4444444444444444,\"#bd3786\"],[0.5555555555555556,\"#d8576b\"],[0.6666666666666666,\"#ed7953\"],[0.7777777777777778,\"#fb9f3a\"],[0.8888888888888888,\"#fdca26\"],[1.0,\"#f0f921\"]],\"type\":\"heatmapgl\"}],\"heatmap\":[{\"colorbar\":{\"outlinewidth\":0,\"ticks\":\"\"},\"colorscale\":[[0.0,\"#0d0887\"],[0.1111111111111111,\"#46039f\"],[0.2222222222222222,\"#7201a8\"],[0.3333333333333333,\"#9c179e\"],[0.4444444444444444,\"#bd3786\"],[0.5555555555555556,\"#d8576b\"],[0.6666666666666666,\"#ed7953\"],[0.7777777777777778,\"#fb9f3a\"],[0.8888888888888888,\"#fdca26\"],[1.0,\"#f0f921\"]],\"type\":\"heatmap\"}],\"histogram2dcontour\":[{\"colorbar\":{\"outlinewidth\":0,\"ticks\":\"\"},\"colorscale\":[[0.0,\"#0d0887\"],[0.1111111111111111,\"#46039f\"],[0.2222222222222222,\"#7201a8\"],[0.3333333333333333,\"#9c179e\"],[0.4444444444444444,\"#bd3786\"],[0.5555555555555556,\"#d8576b\"],[0.6666666666666666,\"#ed7953\"],[0.7777777777777778,\"#fb9f3a\"],[0.8888888888888888,\"#fdca26\"],[1.0,\"#f0f921\"]],\"type\":\"histogram2dcontour\"}],\"histogram2d\":[{\"colorbar\":{\"outlinewidth\":0,\"ticks\":\"\"},\"colorscale\":[[0.0,\"#0d0887\"],[0.1111111111111111,\"#46039f\"],[0.2222222222222222,\"#7201a8\"],[0.3333333333333333,\"#9c179e\"],[0.4444444444444444,\"#bd3786\"],[0.5555555555555556,\"#d8576b\"],[0.6666666666666666,\"#ed7953\"],[0.7777777777777778,\"#fb9f3a\"],[0.8888888888888888,\"#fdca26\"],[1.0,\"#f0f921\"]],\"type\":\"histogram2d\"}],\"histogram\":[{\"marker\":{\"pattern\":{\"fillmode\":\"overlay\",\"size\":10,\"solidity\":0.2}},\"type\":\"histogram\"}],\"mesh3d\":[{\"colorbar\":{\"outlinewidth\":0,\"ticks\":\"\"},\"type\":\"mesh3d\"}],\"parcoords\":[{\"line\":{\"colorbar\":{\"outlinewidth\":0,\"ticks\":\"\"}},\"type\":\"parcoords\"}],\"pie\":[{\"automargin\":true,\"type\":\"pie\"}],\"scatter3d\":[{\"line\":{\"colorbar\":{\"outlinewidth\":0,\"ticks\":\"\"}},\"marker\":{\"colorbar\":{\"outlinewidth\":0,\"ticks\":\"\"}},\"type\":\"scatter3d\"}],\"scattercarpet\":[{\"marker\":{\"colorbar\":{\"outlinewidth\":0,\"ticks\":\"\"}},\"type\":\"scattercarpet\"}],\"scattergeo\":[{\"marker\":{\"colorbar\":{\"outlinewidth\":0,\"ticks\":\"\"}},\"type\":\"scattergeo\"}],\"scattergl\":[{\"marker\":{\"colorbar\":{\"outlinewidth\":0,\"ticks\":\"\"}},\"type\":\"scattergl\"}],\"scattermapbox\":[{\"marker\":{\"colorbar\":{\"outlinewidth\":0,\"ticks\":\"\"}},\"type\":\"scattermapbox\"}],\"scatterpolargl\":[{\"marker\":{\"colorbar\":{\"outlinewidth\":0,\"ticks\":\"\"}},\"type\":\"scatterpolargl\"}],\"scatterpolar\":[{\"marker\":{\"colorbar\":{\"outlinewidth\":0,\"ticks\":\"\"}},\"type\":\"scatterpolar\"}],\"scatter\":[{\"fillpattern\":{\"fillmode\":\"overlay\",\"size\":10,\"solidity\":0.2},\"type\":\"scatter\"}],\"scatterternary\":[{\"marker\":{\"colorbar\":{\"outlinewidth\":0,\"ticks\":\"\"}},\"type\":\"scatterternary\"}],\"surface\":[{\"colorbar\":{\"outlinewidth\":0,\"ticks\":\"\"},\"colorscale\":[[0.0,\"#0d0887\"],[0.1111111111111111,\"#46039f\"],[0.2222222222222222,\"#7201a8\"],[0.3333333333333333,\"#9c179e\"],[0.4444444444444444,\"#bd3786\"],[0.5555555555555556,\"#d8576b\"],[0.6666666666666666,\"#ed7953\"],[0.7777777777777778,\"#fb9f3a\"],[0.8888888888888888,\"#fdca26\"],[1.0,\"#f0f921\"]],\"type\":\"surface\"}],\"table\":[{\"cells\":{\"fill\":{\"color\":\"#EBF0F8\"},\"line\":{\"color\":\"white\"}},\"header\":{\"fill\":{\"color\":\"#C8D4E3\"},\"line\":{\"color\":\"white\"}},\"type\":\"table\"}]},\"layout\":{\"annotationdefaults\":{\"arrowcolor\":\"#2a3f5f\",\"arrowhead\":0,\"arrowwidth\":1},\"autotypenumbers\":\"strict\",\"coloraxis\":{\"colorbar\":{\"outlinewidth\":0,\"ticks\":\"\"}},\"colorscale\":{\"diverging\":[[0,\"#8e0152\"],[0.1,\"#c51b7d\"],[0.2,\"#de77ae\"],[0.3,\"#f1b6da\"],[0.4,\"#fde0ef\"],[0.5,\"#f7f7f7\"],[0.6,\"#e6f5d0\"],[0.7,\"#b8e186\"],[0.8,\"#7fbc41\"],[0.9,\"#4d9221\"],[1,\"#276419\"]],\"sequential\":[[0.0,\"#0d0887\"],[0.1111111111111111,\"#46039f\"],[0.2222222222222222,\"#7201a8\"],[0.3333333333333333,\"#9c179e\"],[0.4444444444444444,\"#bd3786\"],[0.5555555555555556,\"#d8576b\"],[0.6666666666666666,\"#ed7953\"],[0.7777777777777778,\"#fb9f3a\"],[0.8888888888888888,\"#fdca26\"],[1.0,\"#f0f921\"]],\"sequentialminus\":[[0.0,\"#0d0887\"],[0.1111111111111111,\"#46039f\"],[0.2222222222222222,\"#7201a8\"],[0.3333333333333333,\"#9c179e\"],[0.4444444444444444,\"#bd3786\"],[0.5555555555555556,\"#d8576b\"],[0.6666666666666666,\"#ed7953\"],[0.7777777777777778,\"#fb9f3a\"],[0.8888888888888888,\"#fdca26\"],[1.0,\"#f0f921\"]]},\"colorway\":[\"#636efa\",\"#EF553B\",\"#00cc96\",\"#ab63fa\",\"#FFA15A\",\"#19d3f3\",\"#FF6692\",\"#B6E880\",\"#FF97FF\",\"#FECB52\"],\"font\":{\"color\":\"#2a3f5f\"},\"geo\":{\"bgcolor\":\"white\",\"lakecolor\":\"white\",\"landcolor\":\"white\",\"showlakes\":true,\"showland\":true,\"subunitcolor\":\"#C8D4E3\"},\"hoverlabel\":{\"align\":\"left\"},\"hovermode\":\"closest\",\"mapbox\":{\"style\":\"light\"},\"paper_bgcolor\":\"white\",\"plot_bgcolor\":\"white\",\"polar\":{\"angularaxis\":{\"gridcolor\":\"#EBF0F8\",\"linecolor\":\"#EBF0F8\",\"ticks\":\"\"},\"bgcolor\":\"white\",\"radialaxis\":{\"gridcolor\":\"#EBF0F8\",\"linecolor\":\"#EBF0F8\",\"ticks\":\"\"}},\"scene\":{\"xaxis\":{\"backgroundcolor\":\"white\",\"gridcolor\":\"#DFE8F3\",\"gridwidth\":2,\"linecolor\":\"#EBF0F8\",\"showbackground\":true,\"ticks\":\"\",\"zerolinecolor\":\"#EBF0F8\"},\"yaxis\":{\"backgroundcolor\":\"white\",\"gridcolor\":\"#DFE8F3\",\"gridwidth\":2,\"linecolor\":\"#EBF0F8\",\"showbackground\":true,\"ticks\":\"\",\"zerolinecolor\":\"#EBF0F8\"},\"zaxis\":{\"backgroundcolor\":\"white\",\"gridcolor\":\"#DFE8F3\",\"gridwidth\":2,\"linecolor\":\"#EBF0F8\",\"showbackground\":true,\"ticks\":\"\",\"zerolinecolor\":\"#EBF0F8\"}},\"shapedefaults\":{\"line\":{\"color\":\"#2a3f5f\"}},\"ternary\":{\"aaxis\":{\"gridcolor\":\"#DFE8F3\",\"linecolor\":\"#A2B1C6\",\"ticks\":\"\"},\"baxis\":{\"gridcolor\":\"#DFE8F3\",\"linecolor\":\"#A2B1C6\",\"ticks\":\"\"},\"bgcolor\":\"white\",\"caxis\":{\"gridcolor\":\"#DFE8F3\",\"linecolor\":\"#A2B1C6\",\"ticks\":\"\"}},\"title\":{\"x\":0.05},\"xaxis\":{\"automargin\":true,\"gridcolor\":\"#EBF0F8\",\"linecolor\":\"#EBF0F8\",\"ticks\":\"\",\"title\":{\"standoff\":15},\"zerolinecolor\":\"#EBF0F8\",\"zerolinewidth\":2},\"yaxis\":{\"automargin\":true,\"gridcolor\":\"#EBF0F8\",\"linecolor\":\"#EBF0F8\",\"ticks\":\"\",\"title\":{\"standoff\":15},\"zerolinecolor\":\"#EBF0F8\",\"zerolinewidth\":2}}},\"legend\":{\"orientation\":\"h\",\"yanchor\":\"bottom\",\"y\":1.02,\"xanchor\":\"right\",\"x\":1},\"margin\":{\"l\":50,\"r\":50,\"t\":80,\"b\":50},\"title\":{\"text\":\"Metabolite Concentrations\"},\"xaxis\":{\"title\":{\"text\":\"Metabolites\"},\"showgrid\":false,\"zeroline\":false,\"tickangle\":-45},\"yaxis\":{\"title\":{\"text\":\"Concentration (mM)\"},\"zeroline\":true,\"zerolinecolor\":\"lightgray\",\"gridcolor\":\"lightgray\",\"gridwidth\":0.5},\"hovermode\":\"closest\"},                        {\"responsive\": true}                    ).then(function(){\n",
              "                            \n",
              "var gd = document.getElementById('3a649ae1-4e3d-48c3-972a-5a718f41090a');\n",
              "var x = new MutationObserver(function (mutations, observer) {{\n",
              "        var display = window.getComputedStyle(gd).display;\n",
              "        if (!display || display === 'none') {{\n",
              "            console.log([gd, 'removed!']);\n",
              "            Plotly.purge(gd);\n",
              "            observer.disconnect();\n",
              "        }}\n",
              "}});\n",
              "\n",
              "// Listen for the removal of the full notebook cells\n",
              "var notebookContainer = gd.closest('#notebook-container');\n",
              "if (notebookContainer) {{\n",
              "    x.observe(notebookContainer, {childList: true});\n",
              "}}\n",
              "\n",
              "// Listen for the clearing of the current output cell\n",
              "var outputEl = gd.closest('.output');\n",
              "if (outputEl) {{\n",
              "    x.observe(outputEl, {childList: true});\n",
              "}}\n",
              "\n",
              "                        })                };                            </script>        </div>\n",
              "</body>\n",
              "</html>"
            ]
          },
          "metadata": {}
        }
      ]
    },
    {
      "cell_type": "markdown",
      "source": [
        "We can also visualize the model components in Cytoscape"
      ],
      "metadata": {
        "id": "Toda-1DaTJjg"
      }
    },
    {
      "cell_type": "code",
      "source": [
        "\n",
        "#cycle through a kson file\n",
        "model = json.loads(metabolome.to_json(full_model=True))\n",
        "\n",
        "# Build the graph specification\n",
        "builder = GraphSpecBuilder()\n",
        "graph_spec = builder.build_from_json(model)\n",
        "\n",
        "# Export to Cytoscape\n",
        "exporter = CytoscapeExporter()\n",
        "cytoscape_data = exporter.export(graph_spec, layout=\"nice\", show_edge_labels=True)\n",
        "\n",
        "# Create the viewer\n",
        "viewer = CytoscapeWidget()\n",
        "viewer.graph.add_graph_from_json(cytoscape_data['elements'])\n",
        "viewer.set_style(cytoscape_data['style'])\n",
        "viewer.set_layout(name=\"preset\")\n",
        "\n",
        "# Display\n",
        "display(viewer)"
      ],
      "metadata": {
        "colab": {
          "base_uri": "https://localhost:8080/",
          "height": 417,
          "referenced_widgets": [
            "e1ff6f4181984ebe89cff1be9460e18a",
            "50eabbbfc9284572a49b19d43e102a88",
            "61846012de3848918c0b1668d9139084",
            "a9e1226bb44e42b79945a6c4beff82f2",
            "40453e86056e41deb1af3cbe13a341bf",
            "c606dd16f5cc4ac790ef1747cbdab9c9"
          ]
        },
        "id": "WqkLWtE-TDkE",
        "outputId": "7bc5594f-524d-4d39-a468-bca321169a9e"
      },
      "execution_count": 6,
      "outputs": [
        {
          "output_type": "display_data",
          "data": {
            "text/plain": [
              "CytoscapeWidget(cytoscape_layout={'name': 'preset'}, cytoscape_style=[{'selector': 'node', 'style': {'label': …"
            ],
            "application/vnd.jupyter.widget-view+json": {
              "version_major": 2,
              "version_minor": 0,
              "model_id": "e1ff6f4181984ebe89cff1be9460e18a"
            }
          },
          "metadata": {
            "application/vnd.jupyter.widget-view+json": {
              "colab": {
                "custom_widget_manager": {
                  "url": "https://ssl.gstatic.com/colaboratory-static/widgets/colab-cdn-widget-manager/2b70e893a8ba7c0f/manager.min.js"
                }
              }
            }
          }
        }
      ]
    },
    {
      "cell_type": "code",
      "source": [],
      "metadata": {
        "id": "tjaM4NDBTMQO"
      },
      "execution_count": null,
      "outputs": []
    }
  ]
}
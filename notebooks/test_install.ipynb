{
 "cells": [
  {
   "cell_type": "markdown",
   "id": "d40ca0af",
   "metadata": {},
   "source": [
    "### **Import code**"
   ]
  },
  {
   "cell_type": "code",
   "execution_count": null,
   "id": "366997e6",
   "metadata": {
    "vscode": {
     "languageId": "plaintext"
    }
   },
   "outputs": [],
   "source": [
    "%cd ..\n",
    "from kinetic_model.visualize import GraphSpecBuilder, CytoscapeExporter\n",
    "import json\n",
    "import plotly.io as pio\n",
    "pio.renderers.default = \"notebook_connected\""
   ]
  },
  {
   "cell_type": "markdown",
   "id": "e3a84402",
   "metadata": {},
   "source": [
    "### **Test model visualization**"
   ]
  },
  {
   "cell_type": "code",
   "execution_count": null,
   "id": "e87fc096",
   "metadata": {
    "vscode": {
     "languageId": "plaintext"
    }
   },
   "outputs": [],
   "source": [
    "# Load the model\n",
    "with open('modelTemplates/kombucha.json', 'r') as f:\n",
    "    model = json.load(f)\n",
    "\n",
    "# Build the graph specification\n",
    "builder = GraphSpecBuilder()\n",
    "graph_spec = builder.build_from_json(model)\n",
    "\n",
    "# Export to Cytoscape\n",
    "exporter = CytoscapeExporter()\n",
    "cytoscape_data = exporter.export(graph_spec, layout=\"nice\", show_edge_labels=True)\n",
    "\n",
    "# Display the visualization\n",
    "from ipycytoscape import CytoscapeWidget\n",
    "import ipywidgets as widgets\n",
    "\n",
    "# Create the viewer\n",
    "viewer = CytoscapeWidget()\n",
    "viewer.graph.add_graph_from_json(cytoscape_data['elements'])\n",
    "viewer.set_style(cytoscape_data['style'])  # Use 'style' instead of 'stylesheet'\n",
    "viewer.set_layout(name=\"preset\")\n",
    "\n",
    "# Display\n",
    "display(viewer)"
   ]
  },
  {
   "cell_type": "markdown",
   "id": "0f7da9de",
   "metadata": {},
   "source": [
    "### **Test model**"
   ]
  },
  {
   "cell_type": "code",
   "execution_count": null,
   "id": "6dbb9335",
   "metadata": {
    "vscode": {
     "languageId": "plaintext"
    }
   },
   "outputs": [],
   "source": [
    "from kinetic_model import ModelFromJson, Pulse, Reactor\n",
    "\n",
    "def main():\n",
    "    print(\"Loading model...\")\n",
    "    model = ModelFromJson(\"modelTemplates/kombucha_refined.json\")\n",
    "\n",
    "    model_feed = ModelFromJson(\"modelTemplates/kombucha_refined.json\")\n",
    "\n",
    "    # Optional tweaks:\n",
    "\n",
    "    #model.microbiome.bacteria[\"sc\"].subpopulations['x1'].count = 4\n",
    "    #model.microbiome.bacteria[\"kx\"].subpopulations['x4'].count = 4\n",
    "    #model.microbiome.bacteria[\"aa\"].subpopulations['x7'].count = 4\n",
    "    #model.microbiome.bacteria[\"lp\"].subpopulations['x10'].count = 4\n",
    "    #model.microbiome.bacteria[\"zb\"].subpopulations['x12'].count = 4\n",
    "\n",
    "    # No back-compat property; just check truthiness\n",
    "    has_env = bool(model.environment)\n",
    "    print(f\"Model loaded with environment: {has_env}\")\n",
    "    if has_env:\n",
    "        # pH object exposes current pH value\n",
    "        print(f\"Environment pH base: {model.environment.pH.pH}\")\n",
    "\n",
    "    # Single long pulse with continuous flow (qin/qout).\n",
    "    # Note: we do NOT pass 'continuous_feed_metabolome' (unsupported).\n",
    "    model.environment.stirring.set_rate(1)\n",
    "    pulse = Pulse(\n",
    "        t_start=0.0,\n",
    "        t_end=500.0,   # 120 hours\n",
    "        n_steps=100,\n",
    "        qin=0.0,\n",
    "        qout=0.0,\n",
    "        vin=0.1,\n",
    "        vout=0.1,\n",
    "        environment=model.environment,\n",
    "        continuous_feed_metabolome = model_feed.metabolome,\n",
    "        instant_feed_metabolome = model_feed.metabolome,\n",
    "\n",
    "    )\n",
    "\n",
    "    reactor = Reactor(\n",
    "        microbiome=model.microbiome,\n",
    "        metabolome=model.metabolome,\n",
    "        pulses=[pulse],\n",
    "        volume=1.0,\n",
    "    )\n",
    "    reactor.set_fast_simulation_mode()\n",
    "\n",
    "    print(\"Starting simulation...\")\n",
    "    reactor.simulate()\n",
    "    print(\"Simulation complete!\")\n",
    "\n",
    "    # In a notebook you can visualize:\n",
    "    # fig = reactor.make_plot()\n",
    "    # fig\n",
    "\n",
    "    return reactor\n",
    "\n",
    "reactor = main()"
   ]
  },
  {
   "cell_type": "code",
   "execution_count": null,
   "id": "584582c1",
   "metadata": {
    "vscode": {
     "languageId": "plaintext"
    }
   },
   "outputs": [],
   "source": [
    "reactor.make_plot()"
   ]
  }
 ],
 "metadata": {
  "language_info": {
   "name": "python"
  }
 },
 "nbformat": 4,
 "nbformat_minor": 5
}

{
  "nbformat": 4,
  "nbformat_minor": 0,
  "metadata": {
    "colab": {
      "provenance": [],
      "authorship_tag": "ABX9TyO+04LlCcUXDKzeENy/jMSz",
      "include_colab_link": true
    },
    "kernelspec": {
      "name": "python3",
      "display_name": "Python 3"
    },
    "language_info": {
      "name": "python"
    }
  },
  "cells": [
    {
      "cell_type": "markdown",
      "metadata": {
        "id": "view-in-github",
        "colab_type": "text"
      },
      "source": [
        "<a href=\"https://colab.research.google.com/github/danielriosgarza/microbesGYM/blob/main/notebooks/kinetic_model.ipynb\" target=\"_parent\"><img src=\"https://colab.research.google.com/assets/colab-badge.svg\" alt=\"Open In Colab\"/></a>"
      ]
    },
    {
      "cell_type": "markdown",
      "source": [
        "# **Building and simulating a kinetic microbiome model**"
      ],
      "metadata": {
        "id": "jwgUNvjcSESI"
      }
    },
    {
      "cell_type": "markdown",
      "source": [
        "### **Install the package and dependencies**"
      ],
      "metadata": {
        "id": "FpLITdcnSXUq"
      }
    },
    {
      "cell_type": "code",
      "execution_count": 41,
      "metadata": {
        "colab": {
          "base_uri": "https://localhost:8080/"
        },
        "id": "JRPt9NYrIy_H",
        "outputId": "8132675b-bf6a-4392-8399-1f8140edab9e",
        "collapsed": true
      },
      "outputs": [
        {
          "output_type": "stream",
          "name": "stdout",
          "text": [
            "Cloning into 'microbesGYM'...\n",
            "remote: Enumerating objects: 132, done.\u001b[K\n",
            "remote: Counting objects: 100% (132/132), done.\u001b[K\n",
            "remote: Compressing objects: 100% (97/97), done.\u001b[K\n",
            "remote: Total 132 (delta 40), reused 110 (delta 23), pack-reused 0 (from 0)\u001b[K\n",
            "Receiving objects: 100% (132/132), 5.71 MiB | 27.59 MiB/s, done.\n",
            "Resolving deltas: 100% (40/40), done.\n"
          ]
        }
      ],
      "source": [
        "!git clone https://github.com/danielriosgarza/microbesGYM.git"
      ]
    },
    {
      "cell_type": "code",
      "source": [
        "%cd microbesGYM\n",
        "!uv pip install .[all]"
      ],
      "metadata": {
        "colab": {
          "base_uri": "https://localhost:8080/"
        },
        "id": "x9F3b-zII53Z",
        "outputId": "90ad883d-b909-45ab-b8bf-3e5b14433ec9",
        "collapsed": true
      },
      "execution_count": 42,
      "outputs": [
        {
          "output_type": "stream",
          "name": "stdout",
          "text": [
            "/content/microbesGYM/microbesGYM/microbesGYM\n",
            "\u001b[2mUsing Python 3.12.11 environment at: /usr\u001b[0m\n",
            "\u001b[2K\u001b[2mResolved \u001b[1m175 packages\u001b[0m \u001b[2min 1.02s\u001b[0m\u001b[0m\n",
            "\u001b[2K\u001b[2mPrepared \u001b[1m1 package\u001b[0m \u001b[2min 438ms\u001b[0m\u001b[0m\n",
            "\u001b[2mUninstalled \u001b[1m1 package\u001b[0m \u001b[2min 1ms\u001b[0m\u001b[0m\n",
            "\u001b[2K\u001b[2mInstalled \u001b[1m1 package\u001b[0m \u001b[2min 2ms\u001b[0m\u001b[0m\n",
            " \u001b[31m-\u001b[39m \u001b[1mmicrobesgym\u001b[0m\u001b[2m==0.1.0 (from file:///content/microbesGYM/microbesGYM)\u001b[0m\n",
            " \u001b[32m+\u001b[39m \u001b[1mmicrobesgym\u001b[0m\u001b[2m==0.1.0 (from file:///content/microbesGYM/microbesGYM/microbesGYM)\u001b[0m\n"
          ]
        }
      ]
    },
    {
      "cell_type": "code",
      "source": [
        "from google.colab import output\n",
        "output.enable_custom_widget_manager()"
      ],
      "metadata": {
        "id": "j25eRGIqRfEn"
      },
      "execution_count": 43,
      "outputs": []
    },
    {
      "cell_type": "markdown",
      "source": [
        "### **Kinetic model environment**"
      ],
      "metadata": {
        "id": "dKze9wRESgY5"
      }
    },
    {
      "cell_type": "markdown",
      "source": [
        "The `kinetic model` environment allows us to simulate microbial communities and their environments using ordinary differential equations.\n",
        "\n",
        "To illustrate how it works, we build a simplified examplt with *E. coli* subpopulations.\n",
        "\n",
        "In this example, there are three subpopulations: two active and one inactive.\n",
        "\n",
        "- **Subpopulation A** consumes glucose and produces acetate (overflow).\n",
        "\n",
        "- **Subpopulation B** consumes acetate and produces CO2. Both subpopulations can transition to the inactive state.\n",
        "\n",
        "\n",
        "<div style=\"height:24px;\"></div>\n",
        "\n",
        "```css\n",
        "Glucose ---> [Subpopulation A] ---> Acetate\n",
        "Acetate ---> [Subpopulation B] ---> CO2\n",
        "\n",
        "[Subpopulation A] ---> [Inactive]\n",
        "[Subpopulation B] ---> [Inactive]\n",
        "```\n",
        "\n",
        "<div style=\"height:24px;\"></div>\n"
      ],
      "metadata": {
        "id": "UULoOD5LSqS9"
      }
    },
    {
      "cell_type": "markdown",
      "source": [
        "#### **Metabolites & Metabolome**"
      ],
      "metadata": {
        "id": "pNHUnlWVS0VN"
      }
    },
    {
      "cell_type": "markdown",
      "source": [
        "First, we create three `Metabolite` objects—glucose, acetate, and CO2—and group them in a `Metabolome`.\n"
      ],
      "metadata": {
        "id": "Dl6E5Qr6S4KG"
      }
    },
    {
      "cell_type": "code",
      "source": [
        "#import packages for the model and visualization\n",
        "from kinetic_model import Metabolite, Metabolome\n",
        "from kinetic_model.visualize import GraphSpecBuilder, CytoscapeExporter\n",
        "import json\n",
        "#to make sure plotly renders in the notebook\n",
        "import plotly.io as pio\n",
        "pio.renderers.default = \"colab\"\n",
        "# Display Cytoscape visualization\n",
        "from ipycytoscape import CytoscapeWidget\n",
        "import ipywidgets as widgets\n",
        "\n",
        "\n",
        "\n",
        "#create metabolites\n",
        "glucose = Metabolite(name = \"glucose\", concentration = 5.0, formula ={'C': 6, 'H': 12, 'O': 6}, color = '#ff0000')\n",
        "acetate = Metabolite(name = \"acetate\", concentration = 0.0, formula ={'C': 2, 'H': 4, 'O': 3}, color = '#003eff')\n",
        "co2 = Metabolite(name = \"co2\", concentration = 0.0, formula ={'C': 1, 'O': 2}, color = '#00B8FF')"
      ],
      "metadata": {
        "id": "Rh7tdaWzI-DK"
      },
      "execution_count": 44,
      "outputs": []
    },
    {
      "cell_type": "markdown",
      "source": [
        "We can visualize the metabolome object as a barchar of metabolite concentrations. Additionally, all model components can be visualized with the Cytoscape widget."
      ],
      "metadata": {
        "id": "-N6MGfEA4tjU"
      }
    },
    {
      "cell_type": "code",
      "source": [
        "#create metabolome\n",
        "metabolome = Metabolome(metabolites = [glucose, acetate, co2])\n",
        "\n",
        "#visualize it\n",
        "metabolome.make_plot()"
      ],
      "metadata": {
        "id": "sjaenUSdOskx",
        "colab": {
          "base_uri": "https://localhost:8080/",
          "height": 542
        },
        "outputId": "aaf21820-03ed-4b8e-bed5-ab458b37e7f7"
      },
      "execution_count": 45,
      "outputs": [
        {
          "output_type": "display_data",
          "data": {
            "text/html": [
              "<html>\n",
              "<head><meta charset=\"utf-8\" /></head>\n",
              "<body>\n",
              "    <div>            <script src=\"https://cdnjs.cloudflare.com/ajax/libs/mathjax/2.7.5/MathJax.js?config=TeX-AMS-MML_SVG\"></script><script type=\"text/javascript\">if (window.MathJax && window.MathJax.Hub && window.MathJax.Hub.Config) {window.MathJax.Hub.Config({SVG: {font: \"STIX-Web\"}});}</script>                <script type=\"text/javascript\">window.PlotlyConfig = {MathJaxConfig: 'local'};</script>\n",
              "        <script charset=\"utf-8\" src=\"https://cdn.plot.ly/plotly-2.35.2.min.js\"></script>                <div id=\"2dbae02f-6d1a-4df7-91c2-94e4d96415c0\" class=\"plotly-graph-div\" style=\"height:525px; width:100%;\"></div>            <script type=\"text/javascript\">                                    window.PLOTLYENV=window.PLOTLYENV || {};                                    if (document.getElementById(\"2dbae02f-6d1a-4df7-91c2-94e4d96415c0\")) {                    Plotly.newPlot(                        \"2dbae02f-6d1a-4df7-91c2-94e4d96415c0\",                        [{\"hovertemplate\":\"\\u003cb\\u003eacetate\\u003c\\u002fb\\u003e\\u003cbr\\u003eConcentration: 0.00 mM\\u003cbr\\u003e\\u003cextra\\u003e\\u003c\\u002fextra\\u003e\",\"marker\":{\"color\":\"#003eff\",\"line\":{\"color\":\"black\",\"width\":1.5}},\"name\":\"acetate\",\"showlegend\":true,\"x\":[\"acetate\"],\"y\":[0.0],\"type\":\"bar\"},{\"hovertemplate\":\"\\u003cb\\u003eco2\\u003c\\u002fb\\u003e\\u003cbr\\u003eConcentration: 0.00 mM\\u003cbr\\u003e\\u003cextra\\u003e\\u003c\\u002fextra\\u003e\",\"marker\":{\"color\":\"#00B8FF\",\"line\":{\"color\":\"black\",\"width\":1.5}},\"name\":\"co2\",\"showlegend\":true,\"x\":[\"co2\"],\"y\":[0.0],\"type\":\"bar\"},{\"hovertemplate\":\"\\u003cb\\u003eglucose\\u003c\\u002fb\\u003e\\u003cbr\\u003eConcentration: 5.00 mM\\u003cbr\\u003e\\u003cextra\\u003e\\u003c\\u002fextra\\u003e\",\"marker\":{\"color\":\"#ff0000\",\"line\":{\"color\":\"black\",\"width\":1.5}},\"name\":\"glucose\",\"showlegend\":true,\"x\":[\"glucose\"],\"y\":[5.0],\"type\":\"bar\"}],                        {\"template\":{\"data\":{\"barpolar\":[{\"marker\":{\"line\":{\"color\":\"white\",\"width\":0.5},\"pattern\":{\"fillmode\":\"overlay\",\"size\":10,\"solidity\":0.2}},\"type\":\"barpolar\"}],\"bar\":[{\"error_x\":{\"color\":\"#2a3f5f\"},\"error_y\":{\"color\":\"#2a3f5f\"},\"marker\":{\"line\":{\"color\":\"white\",\"width\":0.5},\"pattern\":{\"fillmode\":\"overlay\",\"size\":10,\"solidity\":0.2}},\"type\":\"bar\"}],\"carpet\":[{\"aaxis\":{\"endlinecolor\":\"#2a3f5f\",\"gridcolor\":\"#C8D4E3\",\"linecolor\":\"#C8D4E3\",\"minorgridcolor\":\"#C8D4E3\",\"startlinecolor\":\"#2a3f5f\"},\"baxis\":{\"endlinecolor\":\"#2a3f5f\",\"gridcolor\":\"#C8D4E3\",\"linecolor\":\"#C8D4E3\",\"minorgridcolor\":\"#C8D4E3\",\"startlinecolor\":\"#2a3f5f\"},\"type\":\"carpet\"}],\"choropleth\":[{\"colorbar\":{\"outlinewidth\":0,\"ticks\":\"\"},\"type\":\"choropleth\"}],\"contourcarpet\":[{\"colorbar\":{\"outlinewidth\":0,\"ticks\":\"\"},\"type\":\"contourcarpet\"}],\"contour\":[{\"colorbar\":{\"outlinewidth\":0,\"ticks\":\"\"},\"colorscale\":[[0.0,\"#0d0887\"],[0.1111111111111111,\"#46039f\"],[0.2222222222222222,\"#7201a8\"],[0.3333333333333333,\"#9c179e\"],[0.4444444444444444,\"#bd3786\"],[0.5555555555555556,\"#d8576b\"],[0.6666666666666666,\"#ed7953\"],[0.7777777777777778,\"#fb9f3a\"],[0.8888888888888888,\"#fdca26\"],[1.0,\"#f0f921\"]],\"type\":\"contour\"}],\"heatmapgl\":[{\"colorbar\":{\"outlinewidth\":0,\"ticks\":\"\"},\"colorscale\":[[0.0,\"#0d0887\"],[0.1111111111111111,\"#46039f\"],[0.2222222222222222,\"#7201a8\"],[0.3333333333333333,\"#9c179e\"],[0.4444444444444444,\"#bd3786\"],[0.5555555555555556,\"#d8576b\"],[0.6666666666666666,\"#ed7953\"],[0.7777777777777778,\"#fb9f3a\"],[0.8888888888888888,\"#fdca26\"],[1.0,\"#f0f921\"]],\"type\":\"heatmapgl\"}],\"heatmap\":[{\"colorbar\":{\"outlinewidth\":0,\"ticks\":\"\"},\"colorscale\":[[0.0,\"#0d0887\"],[0.1111111111111111,\"#46039f\"],[0.2222222222222222,\"#7201a8\"],[0.3333333333333333,\"#9c179e\"],[0.4444444444444444,\"#bd3786\"],[0.5555555555555556,\"#d8576b\"],[0.6666666666666666,\"#ed7953\"],[0.7777777777777778,\"#fb9f3a\"],[0.8888888888888888,\"#fdca26\"],[1.0,\"#f0f921\"]],\"type\":\"heatmap\"}],\"histogram2dcontour\":[{\"colorbar\":{\"outlinewidth\":0,\"ticks\":\"\"},\"colorscale\":[[0.0,\"#0d0887\"],[0.1111111111111111,\"#46039f\"],[0.2222222222222222,\"#7201a8\"],[0.3333333333333333,\"#9c179e\"],[0.4444444444444444,\"#bd3786\"],[0.5555555555555556,\"#d8576b\"],[0.6666666666666666,\"#ed7953\"],[0.7777777777777778,\"#fb9f3a\"],[0.8888888888888888,\"#fdca26\"],[1.0,\"#f0f921\"]],\"type\":\"histogram2dcontour\"}],\"histogram2d\":[{\"colorbar\":{\"outlinewidth\":0,\"ticks\":\"\"},\"colorscale\":[[0.0,\"#0d0887\"],[0.1111111111111111,\"#46039f\"],[0.2222222222222222,\"#7201a8\"],[0.3333333333333333,\"#9c179e\"],[0.4444444444444444,\"#bd3786\"],[0.5555555555555556,\"#d8576b\"],[0.6666666666666666,\"#ed7953\"],[0.7777777777777778,\"#fb9f3a\"],[0.8888888888888888,\"#fdca26\"],[1.0,\"#f0f921\"]],\"type\":\"histogram2d\"}],\"histogram\":[{\"marker\":{\"pattern\":{\"fillmode\":\"overlay\",\"size\":10,\"solidity\":0.2}},\"type\":\"histogram\"}],\"mesh3d\":[{\"colorbar\":{\"outlinewidth\":0,\"ticks\":\"\"},\"type\":\"mesh3d\"}],\"parcoords\":[{\"line\":{\"colorbar\":{\"outlinewidth\":0,\"ticks\":\"\"}},\"type\":\"parcoords\"}],\"pie\":[{\"automargin\":true,\"type\":\"pie\"}],\"scatter3d\":[{\"line\":{\"colorbar\":{\"outlinewidth\":0,\"ticks\":\"\"}},\"marker\":{\"colorbar\":{\"outlinewidth\":0,\"ticks\":\"\"}},\"type\":\"scatter3d\"}],\"scattercarpet\":[{\"marker\":{\"colorbar\":{\"outlinewidth\":0,\"ticks\":\"\"}},\"type\":\"scattercarpet\"}],\"scattergeo\":[{\"marker\":{\"colorbar\":{\"outlinewidth\":0,\"ticks\":\"\"}},\"type\":\"scattergeo\"}],\"scattergl\":[{\"marker\":{\"colorbar\":{\"outlinewidth\":0,\"ticks\":\"\"}},\"type\":\"scattergl\"}],\"scattermapbox\":[{\"marker\":{\"colorbar\":{\"outlinewidth\":0,\"ticks\":\"\"}},\"type\":\"scattermapbox\"}],\"scatterpolargl\":[{\"marker\":{\"colorbar\":{\"outlinewidth\":0,\"ticks\":\"\"}},\"type\":\"scatterpolargl\"}],\"scatterpolar\":[{\"marker\":{\"colorbar\":{\"outlinewidth\":0,\"ticks\":\"\"}},\"type\":\"scatterpolar\"}],\"scatter\":[{\"fillpattern\":{\"fillmode\":\"overlay\",\"size\":10,\"solidity\":0.2},\"type\":\"scatter\"}],\"scatterternary\":[{\"marker\":{\"colorbar\":{\"outlinewidth\":0,\"ticks\":\"\"}},\"type\":\"scatterternary\"}],\"surface\":[{\"colorbar\":{\"outlinewidth\":0,\"ticks\":\"\"},\"colorscale\":[[0.0,\"#0d0887\"],[0.1111111111111111,\"#46039f\"],[0.2222222222222222,\"#7201a8\"],[0.3333333333333333,\"#9c179e\"],[0.4444444444444444,\"#bd3786\"],[0.5555555555555556,\"#d8576b\"],[0.6666666666666666,\"#ed7953\"],[0.7777777777777778,\"#fb9f3a\"],[0.8888888888888888,\"#fdca26\"],[1.0,\"#f0f921\"]],\"type\":\"surface\"}],\"table\":[{\"cells\":{\"fill\":{\"color\":\"#EBF0F8\"},\"line\":{\"color\":\"white\"}},\"header\":{\"fill\":{\"color\":\"#C8D4E3\"},\"line\":{\"color\":\"white\"}},\"type\":\"table\"}]},\"layout\":{\"annotationdefaults\":{\"arrowcolor\":\"#2a3f5f\",\"arrowhead\":0,\"arrowwidth\":1},\"autotypenumbers\":\"strict\",\"coloraxis\":{\"colorbar\":{\"outlinewidth\":0,\"ticks\":\"\"}},\"colorscale\":{\"diverging\":[[0,\"#8e0152\"],[0.1,\"#c51b7d\"],[0.2,\"#de77ae\"],[0.3,\"#f1b6da\"],[0.4,\"#fde0ef\"],[0.5,\"#f7f7f7\"],[0.6,\"#e6f5d0\"],[0.7,\"#b8e186\"],[0.8,\"#7fbc41\"],[0.9,\"#4d9221\"],[1,\"#276419\"]],\"sequential\":[[0.0,\"#0d0887\"],[0.1111111111111111,\"#46039f\"],[0.2222222222222222,\"#7201a8\"],[0.3333333333333333,\"#9c179e\"],[0.4444444444444444,\"#bd3786\"],[0.5555555555555556,\"#d8576b\"],[0.6666666666666666,\"#ed7953\"],[0.7777777777777778,\"#fb9f3a\"],[0.8888888888888888,\"#fdca26\"],[1.0,\"#f0f921\"]],\"sequentialminus\":[[0.0,\"#0d0887\"],[0.1111111111111111,\"#46039f\"],[0.2222222222222222,\"#7201a8\"],[0.3333333333333333,\"#9c179e\"],[0.4444444444444444,\"#bd3786\"],[0.5555555555555556,\"#d8576b\"],[0.6666666666666666,\"#ed7953\"],[0.7777777777777778,\"#fb9f3a\"],[0.8888888888888888,\"#fdca26\"],[1.0,\"#f0f921\"]]},\"colorway\":[\"#636efa\",\"#EF553B\",\"#00cc96\",\"#ab63fa\",\"#FFA15A\",\"#19d3f3\",\"#FF6692\",\"#B6E880\",\"#FF97FF\",\"#FECB52\"],\"font\":{\"color\":\"#2a3f5f\"},\"geo\":{\"bgcolor\":\"white\",\"lakecolor\":\"white\",\"landcolor\":\"white\",\"showlakes\":true,\"showland\":true,\"subunitcolor\":\"#C8D4E3\"},\"hoverlabel\":{\"align\":\"left\"},\"hovermode\":\"closest\",\"mapbox\":{\"style\":\"light\"},\"paper_bgcolor\":\"white\",\"plot_bgcolor\":\"white\",\"polar\":{\"angularaxis\":{\"gridcolor\":\"#EBF0F8\",\"linecolor\":\"#EBF0F8\",\"ticks\":\"\"},\"bgcolor\":\"white\",\"radialaxis\":{\"gridcolor\":\"#EBF0F8\",\"linecolor\":\"#EBF0F8\",\"ticks\":\"\"}},\"scene\":{\"xaxis\":{\"backgroundcolor\":\"white\",\"gridcolor\":\"#DFE8F3\",\"gridwidth\":2,\"linecolor\":\"#EBF0F8\",\"showbackground\":true,\"ticks\":\"\",\"zerolinecolor\":\"#EBF0F8\"},\"yaxis\":{\"backgroundcolor\":\"white\",\"gridcolor\":\"#DFE8F3\",\"gridwidth\":2,\"linecolor\":\"#EBF0F8\",\"showbackground\":true,\"ticks\":\"\",\"zerolinecolor\":\"#EBF0F8\"},\"zaxis\":{\"backgroundcolor\":\"white\",\"gridcolor\":\"#DFE8F3\",\"gridwidth\":2,\"linecolor\":\"#EBF0F8\",\"showbackground\":true,\"ticks\":\"\",\"zerolinecolor\":\"#EBF0F8\"}},\"shapedefaults\":{\"line\":{\"color\":\"#2a3f5f\"}},\"ternary\":{\"aaxis\":{\"gridcolor\":\"#DFE8F3\",\"linecolor\":\"#A2B1C6\",\"ticks\":\"\"},\"baxis\":{\"gridcolor\":\"#DFE8F3\",\"linecolor\":\"#A2B1C6\",\"ticks\":\"\"},\"bgcolor\":\"white\",\"caxis\":{\"gridcolor\":\"#DFE8F3\",\"linecolor\":\"#A2B1C6\",\"ticks\":\"\"}},\"title\":{\"x\":0.05},\"xaxis\":{\"automargin\":true,\"gridcolor\":\"#EBF0F8\",\"linecolor\":\"#EBF0F8\",\"ticks\":\"\",\"title\":{\"standoff\":15},\"zerolinecolor\":\"#EBF0F8\",\"zerolinewidth\":2},\"yaxis\":{\"automargin\":true,\"gridcolor\":\"#EBF0F8\",\"linecolor\":\"#EBF0F8\",\"ticks\":\"\",\"title\":{\"standoff\":15},\"zerolinecolor\":\"#EBF0F8\",\"zerolinewidth\":2}}},\"legend\":{\"orientation\":\"h\",\"yanchor\":\"bottom\",\"y\":1.02,\"xanchor\":\"right\",\"x\":1},\"margin\":{\"l\":50,\"r\":50,\"t\":80,\"b\":50},\"title\":{\"text\":\"Metabolite Concentrations\"},\"xaxis\":{\"title\":{\"text\":\"Metabolites\"},\"showgrid\":false,\"zeroline\":false,\"tickangle\":-45},\"yaxis\":{\"title\":{\"text\":\"Concentration (mM)\"},\"zeroline\":true,\"zerolinecolor\":\"lightgray\",\"gridcolor\":\"lightgray\",\"gridwidth\":0.5},\"hovermode\":\"closest\"},                        {\"responsive\": true}                    ).then(function(){\n",
              "                            \n",
              "var gd = document.getElementById('2dbae02f-6d1a-4df7-91c2-94e4d96415c0');\n",
              "var x = new MutationObserver(function (mutations, observer) {{\n",
              "        var display = window.getComputedStyle(gd).display;\n",
              "        if (!display || display === 'none') {{\n",
              "            console.log([gd, 'removed!']);\n",
              "            Plotly.purge(gd);\n",
              "            observer.disconnect();\n",
              "        }}\n",
              "}});\n",
              "\n",
              "// Listen for the removal of the full notebook cells\n",
              "var notebookContainer = gd.closest('#notebook-container');\n",
              "if (notebookContainer) {{\n",
              "    x.observe(notebookContainer, {childList: true});\n",
              "}}\n",
              "\n",
              "// Listen for the clearing of the current output cell\n",
              "var outputEl = gd.closest('.output');\n",
              "if (outputEl) {{\n",
              "    x.observe(outputEl, {childList: true});\n",
              "}}\n",
              "\n",
              "                        })                };                            </script>        </div>\n",
              "</body>\n",
              "</html>"
            ]
          },
          "metadata": {}
        }
      ]
    },
    {
      "cell_type": "markdown",
      "source": [
        "We can also visualize the model components in Cytoscape (Cytoscape widgets will not render in GitHub, run it in Google Colab)"
      ],
      "metadata": {
        "id": "Toda-1DaTJjg"
      }
    },
    {
      "cell_type": "code",
      "source": [
        "\n",
        "#cycle through a kson file\n",
        "model = json.loads(metabolome.to_json(full_model=True))\n",
        "\n",
        "# Build the graph specification\n",
        "builder = GraphSpecBuilder()\n",
        "graph_spec = builder.build_from_json(model)\n",
        "\n",
        "# Export to Cytoscape\n",
        "exporter = CytoscapeExporter()\n",
        "cytoscape_data = exporter.export(graph_spec, layout=\"nice\", show_edge_labels=True)\n",
        "\n",
        "# Create the viewer\n",
        "viewer = CytoscapeWidget()\n",
        "viewer.graph.add_graph_from_json(cytoscape_data['elements'])\n",
        "viewer.set_style(cytoscape_data['style'])\n",
        "viewer.set_layout(name=\"preset\")\n",
        "\n",
        "# Display\n",
        "display(viewer)"
      ],
      "metadata": {
        "id": "WqkLWtE-TDkE"
      },
      "execution_count": null,
      "outputs": []
    },
    {
      "cell_type": "markdown",
      "source": [
        "#### **Fedding terms**"
      ],
      "metadata": {
        "id": "hdDC4OOFaPQs"
      }
    },
    {
      "cell_type": "markdown",
      "source": [
        "`Feeding term` objects encode how microbial subpopulations consume metabolites and release byproducts. They are defined independently and later linked to subpopulations.\n",
        "\n",
        "\n",
        "- If the `feeding term` requires more than one input metabolite, the relation is an `AND`:\n",
        "\n",
        "\n",
        "```css\n",
        "[metabolite A] + [metabolite C] ---> [metabolite B]\n",
        "```\n",
        "\n",
        "\n",
        "- If a subpopulations has more than one feeding term, the relation is an `OR`:\n",
        "\n",
        "```css\n",
        "[metabolite A] ---> [metabolite B] + [metabolite C]\n",
        "\n",
        "[metabolite D] ---> metabolite E]\n",
        "```\n",
        "\n",
        "- A `Boost` is an  `AND` combined with an `OR`.\n",
        "\n",
        "- Sequential (`XOR`) requires alternative subpopulations.\n",
        "\n",
        "\n",
        "In the *E. coli* example, there are two feeding terms."
      ],
      "metadata": {
        "id": "qW6LudeIaSO4"
      }
    },
    {
      "cell_type": "code",
      "source": [
        "#Basic usage with simple metabolome:\n",
        "from kinetic_model import FeedingTerm\n",
        "# Create feeding term: consumes glucose, produces lactate\n",
        "feeding_term_1 = FeedingTerm(\n",
        "    id=\"glucose_to_acetate\",\n",
        "    metDict={\"glucose\": [1.0, 1.0], \"acetate\": [-1.0, 0.0]},\n",
        "    metabolome=metabolome)\n",
        "\n",
        "feeding_term_2 = FeedingTerm(\n",
        "    id=\"acetate_to_co2\",\n",
        "    metDict={\"acetate\": [1.0, 1.0], \"co2\": [-1.0, 0.0]},\n",
        "    metabolome=metabolome\n",
        ")\n"
      ],
      "metadata": {
        "id": "tjaM4NDBTMQO"
      },
      "execution_count": 47,
      "outputs": []
    },
    {
      "cell_type": "markdown",
      "source": [
        "We can perform basic calculations of metabolic rates using the current metabolite concentrations defined in the `metabolome` object."
      ],
      "metadata": {
        "id": "xVCeWphOa4Ef"
      }
    },
    {
      "cell_type": "code",
      "source": [
        "# Get current concentrations\n",
        "concentrations = metabolome.get_concentration()\n",
        "# Calculate growth and metabolism rates\n",
        "growth_contribution = feeding_term_1.intrinsicGrowth(concentrations)\n",
        "metabolism_rates = feeding_term_1.intrinsicMetabolism(concentrations)\n",
        "\n",
        "print(f\"growth_contribution ft 1: {growth_contribution:.3f}\")\n",
        "print(f\"Metabolism rates ft 1: {metabolism_rates}\")\n",
        "\n",
        "\n",
        "# Calculate growth and metabolism rates\n",
        "growth_contribution = feeding_term_2.intrinsicGrowth(concentrations)\n",
        "metabolism_rates = feeding_term_2.intrinsicMetabolism(concentrations)\n",
        "\n",
        "print(f\"growth_contribution ft 2: {growth_contribution:.3f}\")\n",
        "print(f\"Metabolism rates ft 2: {metabolism_rates}\")"
      ],
      "metadata": {
        "colab": {
          "base_uri": "https://localhost:8080/"
        },
        "id": "4n850DdgaZAZ",
        "outputId": "c0baf8d3-3fae-4e27-e833-dd6235ebd0cd"
      },
      "execution_count": 48,
      "outputs": [
        {
          "output_type": "stream",
          "name": "stdout",
          "text": [
            "growth_contribution ft 1: 0.833\n",
            "Metabolism rates ft 1: [ 0.83333333 -0.         -0.83333333]\n",
            "growth_contribution ft 2: 0.000\n",
            "Metabolism rates ft 2: [-0.  0. -0.]\n"
          ]
        }
      ]
    },
    {
      "cell_type": "markdown",
      "source": [
        "Let’s visualize the glucose (Cytoscape widgets will not render in GitHub, run it in Google Colab)\n"
      ],
      "metadata": {
        "id": "dPhYnj6Ba_Ve"
      }
    },
    {
      "cell_type": "code",
      "source": [
        "model = json.loads(feeding_term_1.to_json(full_model=True))\n",
        "\n",
        "# Build the graph specification\n",
        "builder = GraphSpecBuilder()\n",
        "graph_spec = builder.build_from_json(model)\n",
        "\n",
        "# Export to Cytoscape\n",
        "exporter = CytoscapeExporter()\n",
        "cytoscape_data = exporter.export(graph_spec, layout=\"nice\", show_edge_labels=True)\n",
        "\n",
        "# Create the viewer\n",
        "viewer = CytoscapeWidget()\n",
        "viewer.graph.add_graph_from_json(cytoscape_data['elements'])\n",
        "viewer.set_style(cytoscape_data['style'])\n",
        "viewer.set_layout(name=\"preset\")\n",
        "\n",
        "# Display\n",
        "display(viewer)"
      ],
      "metadata": {
        "id": "uN0iYJdMa69t"
      },
      "execution_count": null,
      "outputs": []
    },
    {
      "cell_type": "markdown",
      "source": [
        "#### **Subpopulations**"
      ],
      "metadata": {
        "id": "QQYCZdekdTQP"
      }
    },
    {
      "cell_type": "markdown",
      "source": [
        "Subpopulations represent microbial phenotypes—defined by their feeding terms—and their state (e.g., active or inactive)\n"
      ],
      "metadata": {
        "id": "a47ehoPsdVJ6"
      }
    },
    {
      "cell_type": "code",
      "source": [
        "from kinetic_model import Subpopulation\n",
        "\n",
        "\n",
        "# Create subpopulation\n",
        "subpop_1 = Subpopulation(\n",
        "    name=\"glucose_ecoli\",\n",
        "    count=1.0,\n",
        "    species=\"E. coli\",\n",
        "    mumax=0.5,\n",
        "    feedingTerms=[feeding_term_1],\n",
        "    pHopt=7.0,\n",
        "    pH_sensitivity_left=1.0,\n",
        "    pH_sensitivity_right=1.0,\n",
        "    Topt=37.0,\n",
        "    tempSensitivity_left=1.0,\n",
        "    tempSensitivity_right=1.0\n",
        "    )\n",
        "\n",
        "\n",
        "subpop_2 = Subpopulation(\n",
        "    name=\"acetate_ecoli\",\n",
        "    count=1.0,\n",
        "    species=\"E. coli\",\n",
        "    mumax=0.3,\n",
        "    feedingTerms=[feeding_term_2],\n",
        "    pHopt=7.0,\n",
        "    pH_sensitivity_left=1.0,\n",
        "    pH_sensitivity_right=1.0,\n",
        "    Topt=37.0,\n",
        "    tempSensitivity_left=1.0,\n",
        "    tempSensitivity_right=1.0\n",
        "    )\n",
        "\n",
        "subpop_3 = Subpopulation(\n",
        "    name=\"inactive_ecoli\",\n",
        "    count=1.0,\n",
        "    species=\"E. coli\",\n",
        "    mumax=0.0,\n",
        "    feedingTerms=[],\n",
        "    state=\"inactive\",\n",
        "    pHopt=7.0,\n",
        "    pH_sensitivity_left=1.0,\n",
        "    pH_sensitivity_right=1.0,\n",
        "    Topt=37.0,\n",
        "    tempSensitivity_left=1.0,\n",
        "    tempSensitivity_right=1.0\n",
        "    )\n",
        "\n",
        "\n",
        "\n",
        "\n",
        "# Access properties\n",
        "print(f\"Growth rate: {subpop_1.mumax}\")\n",
        "print(f\"pH sensitivity at pH 7.0: {subpop_1.pHSensitivity(7.0):.3f}\")\n",
        "print(f\"Temperature sensitivity at 37°C: {subpop_1.tempSensitivity(37.0):.3f}\")\n",
        "\n",
        "# Calculate growth and metabolism with concentration vector\n",
        "growth_rate = subpop_1.intrinsicGrowth(concentrations)\n",
        "metabolism_rates = subpop_1.intrinsicMetabolism(concentrations)\n",
        "\n"
      ],
      "metadata": {
        "colab": {
          "base_uri": "https://localhost:8080/"
        },
        "id": "wXjmLBGoc7Z1",
        "outputId": "e46da30c-d842-468a-8d3f-501eaac2794c"
      },
      "execution_count": 50,
      "outputs": [
        {
          "output_type": "stream",
          "name": "stdout",
          "text": [
            "Growth rate: 0.5\n",
            "pH sensitivity at pH 7.0: 1.000\n",
            "Temperature sensitivity at 37°C: 1.000\n"
          ]
        }
      ]
    },
    {
      "cell_type": "markdown",
      "source": [
        "#### **Bacteria and Microbiomes**"
      ],
      "metadata": {
        "id": "Ve_uatyddbNG"
      }
    },
    {
      "cell_type": "markdown",
      "source": [
        "A species is represented by a `Bacteria` object, defined as a collection of subpopulations and the transition terms between them. Transitions depend on the environment and are specified as boolean or threshold functions, each combined with a rate.\n",
        "\n",
        "For example, we can define that the glucose-consuming E. coli subpopulation transitions to the acetate-consuming subpopulation when glucose falls below $1 mM$, at a rate of $0.001.$ Conversely, when glucose rises above $1 mM$, the acetate-consuming subpopulation transitions back to glucose consumption at a rate of $0.01$.\n",
        "\n",
        "Microbiomes are encoded as collections of species."
      ],
      "metadata": {
        "id": "PnxK6gHPd2_F"
      }
    },
    {
      "cell_type": "code",
      "source": [
        "from kinetic_model import Bacteria, Microbiome, evaluate_transition_condition\n",
        "\n",
        "# Create bacteria with conditional transitions based on resource availability\n",
        "\n",
        "cond1 = evaluate_transition_condition('glucose <1 and acetate > 1', metabolome)\n",
        "cond2  = evaluate_transition_condition('glucose > 1 and acetate < 1', metabolome)\n",
        "\n",
        "ecoli = Bacteria(\n",
        "    species=\"E. coli\",\n",
        "    subpopulations={\n",
        "        \"glucose_consumer\": subpop_1,\n",
        "        \"acetate_consumer\": subpop_2,\n",
        "        \"inactive\": subpop_3\n",
        "        },\n",
        "    connections={\n",
        "        \"glucose_consumer\": [[\"acetate_consumer\", cond1, 0.001], [\"inactive\", \"\", 0.00001]],\n",
        "        \"acetate_consumer\": [[\"glucose_consumer\", cond2, 0.01], [\"inactive\", \"\", 0.0000001]],\n",
        "        }\n",
        "    )\n",
        "\n",
        "# Access properties\n",
        "print(f\"Species: {ecoli.species}\")\n",
        "print(f\"Subpopulations: {list(ecoli.subpopulations.keys())}\")\n",
        "print(f\"Connections: {ecoli.connections}\")\n",
        "\n",
        "\n",
        "# ===== CREATE MICROBIOME =====\n",
        "microbiome = Microbiome(\"E_coli_monoculture\", {\"E_coli\": ecoli})"
      ],
      "metadata": {
        "colab": {
          "base_uri": "https://localhost:8080/"
        },
        "id": "I4B3Q5WfdX8z",
        "outputId": "154a359e-5a5f-4e4f-da53-9a746f8a182e"
      },
      "execution_count": 51,
      "outputs": [
        {
          "output_type": "stream",
          "name": "stdout",
          "text": [
            "Species: E. coli\n",
            "Subpopulations: ['glucose_consumer', 'acetate_consumer', 'inactive']\n",
            "Connections: {'glucose_consumer': [['acetate_consumer', <function evaluate_transition_condition.<locals>.transition_function at 0x7e9761750220>, 0.001], ['inactive', '', 1e-05]], 'acetate_consumer': [['glucose_consumer', <function evaluate_transition_condition.<locals>.transition_function at 0x7e9761752160>, 0.01], ['inactive', '', 1e-07]]}\n"
          ]
        }
      ]
    },
    {
      "cell_type": "markdown",
      "source": [
        "Let’s visualize it."
      ],
      "metadata": {
        "id": "-8P98plYeKap"
      }
    },
    {
      "cell_type": "code",
      "source": [
        "# Get complete model structure directly - no manual structure creation needed!\n",
        "model = json.loads(microbiome.to_json(full_model=True))\n",
        "\n",
        "# Build the graph specification\n",
        "builder = GraphSpecBuilder()\n",
        "graph_spec = builder.build_from_json(model)\n",
        "\n",
        "# Export to Cytoscape\n",
        "exporter = CytoscapeExporter()\n",
        "cytoscape_data = exporter.export(graph_spec, layout=\"nice\", show_edge_labels=True)\n",
        "\n",
        "# Create the viewer\n",
        "viewer = CytoscapeWidget()\n",
        "viewer.graph.add_graph_from_json(cytoscape_data['elements'])\n",
        "viewer.set_style(cytoscape_data['style'])\n",
        "viewer.set_layout(name=\"preset\")\n",
        "\n",
        "# Display\n",
        "display(viewer)"
      ],
      "metadata": {
        "collapsed": true,
        "id": "OQyqd34gd0XJ"
      },
      "execution_count": null,
      "outputs": []
    },
    {
      "cell_type": "markdown",
      "source": [
        "#### **Environment**"
      ],
      "metadata": {
        "id": "MvXVI47feS6p"
      }
    },
    {
      "cell_type": "markdown",
      "source": [
        "The `Environment` object encodes the system’s environmental conditions—currently pH, temperature, and stirring.\n",
        "\n",
        "- `pH` influences microbial growth through each subpopulation’s pH sensitivity. It can be set as a fixed value or defined as a function of metabolite concentrations.\n",
        "\n",
        "- `Temperature` is specified as a fixed value and affects growth according to the temperature sensitivity parameter.\n",
        "\n",
        "- `Stirring controls` how evenly cells and metabolites are distributed. In a well-mixed system (stirring = 1), concentrations match their true values exactly. When stirring is zero, observed concentrations are taken as random samples of the true values."
      ],
      "metadata": {
        "id": "h-iEveGIeluo"
      }
    },
    {
      "cell_type": "code",
      "source": [
        "from kinetic_model import Environment, pH, Stirring, Temperature\n",
        "# Create components\n",
        "ph_obj = pH(metabolome, intercept=7.0, met_dictionary={}) #pH will be fixed at 7\n",
        "stirring_obj = Stirring(rate=0.8, base_std=0.05)\n",
        "temp_obj = Temperature(37.0)\n",
        "\n",
        "# Create environment\n",
        "environment = Environment(ph_obj, stirring_obj, temp_obj)\n",
        "# Apply all environmental factors at once\n",
        "concentrations = metabolome.get_concentration()  # glucose concentration\n",
        "result = environment.apply_all_factors(concentrations)\n",
        "# Or access individual components\n",
        "current_ph = environment.pH.compute_pH(concentrations)\n",
        "stirred_value = environment.stirring.apply_stirring(10.0)\n",
        "current_temp = environment.temperature.temperature\n",
        "\n",
        "\n",
        "print(f\"pH: {current_ph}\")\n",
        "print(f\"Stirred value: {stirred_value}\")\n",
        "print(f\"Temperature: {current_temp}\")"
      ],
      "metadata": {
        "colab": {
          "base_uri": "https://localhost:8080/"
        },
        "id": "3wgFFkw2eOGG",
        "outputId": "ea8c4c85-6af5-4a9f-b20b-a40314540711"
      },
      "execution_count": 53,
      "outputs": [
        {
          "output_type": "stream",
          "name": "stdout",
          "text": [
            "pH: 7.0\n",
            "Stirred value: 9.998536674141604\n",
            "Temperature: 37.0\n"
          ]
        }
      ]
    },
    {
      "cell_type": "code",
      "source": [
        "#### **Control Pulse**"
      ],
      "metadata": {
        "id": "SjjB8i9yehC_"
      },
      "execution_count": 54,
      "outputs": []
    },
    {
      "cell_type": "markdown",
      "source": [
        "The `Pulse` object defines the environmental conditions during a fixed time interval. It specifies what enters or leaves the reactor (metabolites or cells), either as a single event at the start of the interval or continuously throughout it. The `Pulse` also sets the environmental parameters (`pH`, `temperature`, `stirring`) for that period.\n"
      ],
      "metadata": {
        "id": "60LxY8H54Ly8"
      }
    },
    {
      "cell_type": "code",
      "source": [
        "from kinetic_model import Pulse\n",
        "pulse = Pulse(\n",
        "        t_start=0.0,\n",
        "        t_end=120.0,   # 120 hours\n",
        "        n_steps=1000,\n",
        "        qin=0.0,\n",
        "        qout=0.0,\n",
        "        vin=0.0,\n",
        "        vout=0.0,\n",
        "        environment=environment\n",
        "    )"
      ],
      "metadata": {
        "id": "VQAWHH7o4J7Q"
      },
      "execution_count": 55,
      "outputs": []
    },
    {
      "cell_type": "markdown",
      "source": [
        "#### **Reactor**"
      ],
      "metadata": {
        "id": "DKyFVdSb4Qee"
      }
    },
    {
      "cell_type": "markdown",
      "source": [
        "The `Reactor` object is where microbial growth is simulated. It contains a `metabolome`, a `microbiome`, and a sequence of control pulses that define `pH`, `temperature`, `stirring`, and both continuous and non-continuous `feeding`.\n"
      ],
      "metadata": {
        "id": "oqiTgM6O4S_k"
      }
    },
    {
      "cell_type": "code",
      "source": [
        "from kinetic_model import Reactor\n",
        "reactor = Reactor(\n",
        "        microbiome=microbiome,\n",
        "        metabolome=metabolome,\n",
        "        pulses=[pulse],\n",
        "        volume=15.0,\n",
        "    )"
      ],
      "metadata": {
        "id": "wstNF7bG4N-q"
      },
      "execution_count": 56,
      "outputs": []
    },
    {
      "cell_type": "markdown",
      "source": [
        "#### **Simulation**"
      ],
      "metadata": {
        "id": "eke0HbxX4cWt"
      }
    },
    {
      "cell_type": "markdown",
      "source": [
        "We can now simulate the reactor and plot the results.\n"
      ],
      "metadata": {
        "id": "g0qgxWqV4bgT"
      }
    },
    {
      "cell_type": "code",
      "source": [
        "reactor.set_fast_simulation_mode()\n",
        "reactor.simulate()\n",
        "reactor.make_plot()"
      ],
      "metadata": {
        "colab": {
          "base_uri": "https://localhost:8080/",
          "height": 904
        },
        "id": "zqBTI5Wi4U7B",
        "outputId": "8eab9b90-2613-4e75-e6f2-321b59012fb9"
      },
      "execution_count": 57,
      "outputs": [
        {
          "output_type": "stream",
          "name": "stdout",
          "text": [
            "Setting fast simulation mode...\n",
            "Reduced pulse 0.0-120.0: 1000 → 250 steps\n",
            "Total steps: 1000 → 250\n",
            "Estimated speedup: 4.0x\n",
            "Fast mode enabled: RK45 solver, relaxed tolerances (1e-2)\n"
          ]
        },
        {
          "output_type": "display_data",
          "data": {
            "text/html": [
              "<html>\n",
              "<head><meta charset=\"utf-8\" /></head>\n",
              "<body>\n",
              "    <div>            <script src=\"https://cdnjs.cloudflare.com/ajax/libs/mathjax/2.7.5/MathJax.js?config=TeX-AMS-MML_SVG\"></script><script type=\"text/javascript\">if (window.MathJax && window.MathJax.Hub && window.MathJax.Hub.Config) {window.MathJax.Hub.Config({SVG: {font: \"STIX-Web\"}});}</script>                <script type=\"text/javascript\">window.PlotlyConfig = {MathJaxConfig: 'local'};</script>\n",
              "        <script charset=\"utf-8\" src=\"https://cdn.plot.ly/plotly-2.35.2.min.js\"></script>                <div id=\"f9edbd17-ea17-4493-be12-b06e8532e132\" class=\"plotly-graph-div\" style=\"height:800px; width:100%;\"></div>            <script type=\"text/javascript\">                                    window.PLOTLYENV=window.PLOTLYENV || {};                                    if (document.getElementById(\"f9edbd17-ea17-4493-be12-b06e8532e132\")) {                    Plotly.newPlot(                        \"f9edbd17-ea17-4493-be12-b06e8532e132\",                        [{\"line\":{\"color\":\"#003eff\",\"simplify\":true},\"mode\":\"lines\",\"name\":\"acetate\",\"opacity\":0.8,\"x\":[0.0,0.4819277108433735,0.963855421686747,1.4457831325301205,1.927710843373494,2.4096385542168672,2.891566265060241,3.3734939759036147,3.855421686746988,4.337349397590361,4.8192771084337345,5.301204819277109,5.783132530120482,6.265060240963855,6.746987951807229,7.228915662650603,7.710843373493976,8.19277108433735,8.674698795180722,9.156626506024097,9.638554216867469,10.120481927710843,10.602409638554217,11.08433734939759,11.566265060240964,12.048192771084338,12.53012048192771,13.012048192771084,13.493975903614459,13.975903614457831,14.457831325301205,14.939759036144578,15.421686746987952,15.903614457831326,16.3855421686747,16.867469879518072,17.349397590361445,17.83132530120482,18.313253012048193,18.795180722891565,19.277108433734938,19.759036144578314,20.240963855421686,20.72289156626506,21.204819277108435,21.686746987951807,22.16867469879518,22.650602409638555,23.132530120481928,23.6144578313253,24.096385542168676,24.57831325301205,25.06024096385542,25.542168674698797,26.02409638554217,26.50602409638554,26.987951807228917,27.46987951807229,27.951807228915662,28.433734939759034,28.91566265060241,29.397590361445783,29.879518072289155,30.36144578313253,30.843373493975903,31.325301204819276,31.80722891566265,32.28915662650602,32.7710843373494,33.25301204819277,33.734939759036145,34.21686746987952,34.69879518072289,35.18072289156626,35.66265060240964,36.144578313253014,36.626506024096386,37.10843373493976,37.59036144578313,38.0722891566265,38.554216867469876,39.036144578313255,39.51807228915663,40.0,40.48192771084337,40.963855421686745,41.44578313253012,41.9277108433735,42.40963855421687,42.89156626506024,43.373493975903614,43.855421686746986,44.33734939759036,44.81927710843374,45.30120481927711,45.78313253012048,46.265060240963855,46.74698795180723,47.2289156626506,47.71084337349397,48.19277108433735,48.674698795180724,49.1566265060241,49.63855421686747,50.12048192771084,50.602409638554214,51.08433734939759,51.566265060240966,52.04819277108434,52.53012048192771,53.01204819277108,53.493975903614455,53.975903614457835,54.45783132530121,54.93975903614458,55.42168674698795,55.903614457831324,56.3855421686747,56.86746987951807,57.34939759036145,57.83132530120482,58.31325301204819,58.795180722891565,59.27710843373494,59.75903614457831,60.24096385542169,60.72289156626506,61.204819277108435,61.68674698795181,62.16867469879518,62.65060240963855,63.132530120481924,63.6144578313253,64.09638554216868,64.57831325301204,65.06024096385542,65.5421686746988,66.02409638554217,66.50602409638554,66.98795180722891,67.46987951807229,67.95180722891567,68.43373493975903,68.91566265060241,69.39759036144578,69.87951807228916,70.36144578313252,70.8433734939759,71.32530120481928,71.80722891566265,72.28915662650603,72.7710843373494,73.25301204819277,73.73493975903614,74.21686746987952,74.6987951807229,75.18072289156626,75.66265060240964,76.144578313253,76.62650602409639,77.10843373493975,77.59036144578313,78.07228915662651,78.55421686746988,79.03614457831326,79.51807228915662,80.0,80.48192771084338,80.96385542168674,81.44578313253012,81.92771084337349,82.40963855421687,82.89156626506023,83.37349397590361,83.855421686747,84.33734939759036,84.81927710843374,85.3012048192771,85.78313253012048,86.26506024096385,86.74698795180723,87.2289156626506,87.71084337349397,88.19277108433735,88.67469879518072,89.1566265060241,89.63855421686748,90.12048192771084,90.60240963855422,91.08433734939759,91.56626506024097,92.04819277108433,92.53012048192771,93.01204819277109,93.49397590361446,93.97590361445783,94.4578313253012,94.93975903614458,95.42168674698794,95.90361445783132,96.3855421686747,96.86746987951807,97.34939759036145,97.83132530120481,98.3132530120482,98.79518072289157,99.27710843373494,99.75903614457832,100.24096385542168,100.72289156626506,101.20481927710843,101.6867469879518,102.16867469879519,102.65060240963855,103.13253012048193,103.6144578313253,104.09638554216868,104.57831325301204,105.06024096385542,105.5421686746988,106.02409638554217,106.50602409638554,106.98795180722891,107.46987951807229,107.95180722891567,108.43373493975903,108.91566265060241,109.39759036144578,109.87951807228916,110.36144578313252,110.8433734939759,111.32530120481928,111.80722891566265,112.28915662650603,112.7710843373494,113.25301204819277,113.73493975903614,114.21686746987952,114.6987951807229,115.18072289156626,115.66265060240964,116.144578313253,116.62650602409639,117.10843373493975,117.59036144578313,118.07228915662651,118.55421686746988,119.03614457831326,119.51807228915662,120.0],\"y\":[0.0,0.20849468531330895,0.4422340380801044,0.711514817035123,1.0257000179225253,1.3914127242096694,1.8101981753227838,2.275551196348943,2.7590740984990996,3.216576955812462,3.557001391775767,3.7723656936639602,3.849756931080901,3.7703745126112564,3.5718093579616874,3.293899903615654,2.9372098311735018,2.508106110720951,2.038099734430907,1.545257725416231,1.06533388593321,0.6689054615330399,0.4146670894809908,0.2474790588066295,0.14266854277535246,0.08805470453249034,0.054616633635983534,0.033614405401214874,0.021654014874636522,0.0378002402911078,0.022558630746388603,0.01779786577936092,0.01053184854487019,0.00698356901006651,0.0023801491310048075,-0.0010631754000519733,0.024569933795409872,0.02004972800393439,0.01306825792384631,0.008999754792247263,0.015867918637827425,0.01744008335859428,0.014678947740251493,0.009635202018239534,-0.0004597693742374887,0.001255947874652448,0.006849279938176155,0.01023595278819813,0.012598769686645105,0.021295562209418032,0.0368187784639176,0.018922494507801743,0.006249187795926238,0.0020224026726669846,0.014813521551123948,0.008100398540764466,0.007525934636256463,0.004445609459272305,0.003719768707618464,0.009410556355984935,0.005411032741004403,0.00527036919953598,0.002750959628288251,0.008200339790052505,-0.009306458104301982,0.034309273989845214,0.021414277315513326,0.020818540885707948,0.02440939920249624,0.019214805225208815,0.008582228522627574,0.014680435276148672,0.011704195493797448,0.010184403425448348,0.010130739938536236,0.003176563145292871,-0.0002651172915467358,-0.0029714801325608493,-0.008905390808584357,-0.006240326545144387,0.003512773038058561,0.0021813266295003736,-0.0003899993869632217,0.004459774759495313,0.03695189341616043,0.026652324544214588,-0.006169425830023314,0.004767060225835463,0.001786101291944937,0.004675228010781423,0.0002037617579370224,0.025437811513933258,0.018529445549542493,0.002868065511084759,0.04153028886080917,0.029401902148128926,0.020966929618174753,0.01469381967751364,0.006749700976239581,0.00423013522322041,0.002288632736611849,-0.0011446981786592246,0.010570509514981515,0.014902776560540277,0.009106656464526913,0.009632438908542209,0.006837616745401667,0.011583280527838247,0.010152508120220165,0.005756745280958278,0.0037635756294603635,0.013435818950643066,0.008543536073909978,0.00595100849231277,0.003296859677809795,0.006441419395900807,0.006494931562504313,-0.005921949217310469,6.146155288186232e-6,-0.005484465558941068,0.005076168515883237,0.0014786066064849178,0.01625700492197666,0.01631725574921386,0.006701076493750527,0.0031570477299218483,0.002527801796124658,0.010389172520042421,0.024273748151012863,0.012579937732390238,0.008217997651762388,0.009057953389984295,0.006012847710504913,0.006975498917730979,0.010481153990774723,0.009252106173447502,0.012326486338118534,0.007649108569366526,0.0057414160567594305,0.015484973565376927,0.01749176575694475,0.014038261248517505,-0.0046727229588143055,0.0034566390797936865,-0.00196361894929687,0.004592847774758956,0.0013403077570957815,0.00008422539762450282,-0.002381034474634352,0.024828576472069267,0.021416338465399146,0.008236565348369347,0.028212156807601876,0.021212879132793305,0.02144998733868458,0.020240697679780865,0.0021049706952158097,-0.0043500853176701,0.0016207587737702076,-0.0022728565452592797,-0.007616027557750156,-0.005007919493742255,-0.002562335441693303,-0.00007713892370696295,0.011512951822755186,0.0065783318254570315,0.004250647021226994,-0.00970438668660402,0.0026054210156905046,0.0011339931185267858,0.030666646876965235,0.019129050570755084,0.011716819152653261,-0.016076178800159636,-0.007127842495998881,-0.003474993570604384,-0.009344606771008178,0.023427216245531807,0.01721264262463009,0.014152924039735946,0.024006053503884725,0.014288262818208167,0.02059564897151853,0.009760279597716715,0.004884993712925457,-0.0033899937391493468,0.010373639185244506,0.011877018539050222,0.0036887156652674483,0.009863888024284409,0.022372668787267354,0.015401644531940447,0.009354926689898437,-0.0005719802666863567,-0.000012370452029542966,0.016455418230033558,0.009252829354577899,0.008610853792679849,0.024591470991319787,0.014914040197820807,0.016914408234133572,0.011096752417723055,-0.00785534096375428,-0.00883739767770034,-0.00883739767770034,-0.006356504001845402,-0.0033947513864137557,0.010434298148396333,0.0071542903796532106,-0.0011698658312057865,-0.0023120873750032385,0.00034308398209659057,0.000021292818149422083,-0.0007230951774672389,-0.002504388072872214,-0.0027300830958606427,-0.003933245986273204,-0.0026059365420137964,0.002919009532844477,0.0013773508036531352,0.0007187352664100238,0.0004645684223293894,0.0025632208447321078,0.02049023833838755,0.014329615763745172,-0.004745211067367784,-0.004745211067367784,-0.004745211067367784,-0.0036233872498753756,-0.003679626441816606,0.007698401956036418,0.0027636302815203604,0.0125766606996312,0.009895719743018894,0.005815102870730372,0.0035962817721456354,0.002809668695949847,0.0004181556048588773,0.003257741432841081,0.001674429073705539,-0.0021207838688974577,0.008619765333916354,0.01612740222999204,0.00566888473795624,0.005034581002017109,0.003721793020283945,-0.0005611752276129633,0.00171911411174861,0.011969407422118815,0.007235789435911663],\"type\":\"scatter\",\"xaxis\":\"x\",\"yaxis\":\"y\"},{\"line\":{\"color\":\"#00B8FF\",\"simplify\":true},\"mode\":\"lines\",\"name\":\"co2\",\"opacity\":0.8,\"x\":[0.0,0.4819277108433735,0.963855421686747,1.4457831325301205,1.927710843373494,2.4096385542168672,2.891566265060241,3.3734939759036147,3.855421686746988,4.337349397590361,4.8192771084337345,5.301204819277109,5.783132530120482,6.265060240963855,6.746987951807229,7.228915662650603,7.710843373493976,8.19277108433735,8.674698795180722,9.156626506024097,9.638554216867469,10.120481927710843,10.602409638554217,11.08433734939759,11.566265060240964,12.048192771084338,12.53012048192771,13.012048192771084,13.493975903614459,13.975903614457831,14.457831325301205,14.939759036144578,15.421686746987952,15.903614457831326,16.3855421686747,16.867469879518072,17.349397590361445,17.83132530120482,18.313253012048193,18.795180722891565,19.277108433734938,19.759036144578314,20.240963855421686,20.72289156626506,21.204819277108435,21.686746987951807,22.16867469879518,22.650602409638555,23.132530120481928,23.6144578313253,24.096385542168676,24.57831325301205,25.06024096385542,25.542168674698797,26.02409638554217,26.50602409638554,26.987951807228917,27.46987951807229,27.951807228915662,28.433734939759034,28.91566265060241,29.397590361445783,29.879518072289155,30.36144578313253,30.843373493975903,31.325301204819276,31.80722891566265,32.28915662650602,32.7710843373494,33.25301204819277,33.734939759036145,34.21686746987952,34.69879518072289,35.18072289156626,35.66265060240964,36.144578313253014,36.626506024096386,37.10843373493976,37.59036144578313,38.0722891566265,38.554216867469876,39.036144578313255,39.51807228915663,40.0,40.48192771084337,40.963855421686745,41.44578313253012,41.9277108433735,42.40963855421687,42.89156626506024,43.373493975903614,43.855421686746986,44.33734939759036,44.81927710843374,45.30120481927711,45.78313253012048,46.265060240963855,46.74698795180723,47.2289156626506,47.71084337349397,48.19277108433735,48.674698795180724,49.1566265060241,49.63855421686747,50.12048192771084,50.602409638554214,51.08433734939759,51.566265060240966,52.04819277108434,52.53012048192771,53.01204819277108,53.493975903614455,53.975903614457835,54.45783132530121,54.93975903614458,55.42168674698795,55.903614457831324,56.3855421686747,56.86746987951807,57.34939759036145,57.83132530120482,58.31325301204819,58.795180722891565,59.27710843373494,59.75903614457831,60.24096385542169,60.72289156626506,61.204819277108435,61.68674698795181,62.16867469879518,62.65060240963855,63.132530120481924,63.6144578313253,64.09638554216868,64.57831325301204,65.06024096385542,65.5421686746988,66.02409638554217,66.50602409638554,66.98795180722891,67.46987951807229,67.95180722891567,68.43373493975903,68.91566265060241,69.39759036144578,69.87951807228916,70.36144578313252,70.8433734939759,71.32530120481928,71.80722891566265,72.28915662650603,72.7710843373494,73.25301204819277,73.73493975903614,74.21686746987952,74.6987951807229,75.18072289156626,75.66265060240964,76.144578313253,76.62650602409639,77.10843373493975,77.59036144578313,78.07228915662651,78.55421686746988,79.03614457831326,79.51807228915662,80.0,80.48192771084338,80.96385542168674,81.44578313253012,81.92771084337349,82.40963855421687,82.89156626506023,83.37349397590361,83.855421686747,84.33734939759036,84.81927710843374,85.3012048192771,85.78313253012048,86.26506024096385,86.74698795180723,87.2289156626506,87.71084337349397,88.19277108433735,88.67469879518072,89.1566265060241,89.63855421686748,90.12048192771084,90.60240963855422,91.08433734939759,91.56626506024097,92.04819277108433,92.53012048192771,93.01204819277109,93.49397590361446,93.97590361445783,94.4578313253012,94.93975903614458,95.42168674698794,95.90361445783132,96.3855421686747,96.86746987951807,97.34939759036145,97.83132530120481,98.3132530120482,98.79518072289157,99.27710843373494,99.75903614457832,100.24096385542168,100.72289156626506,101.20481927710843,101.6867469879518,102.16867469879519,102.65060240963855,103.13253012048193,103.6144578313253,104.09638554216868,104.57831325301204,105.06024096385542,105.5421686746988,106.02409638554217,106.50602409638554,106.98795180722891,107.46987951807229,107.95180722891567,108.43373493975903,108.91566265060241,109.39759036144578,109.87951807228916,110.36144578313252,110.8433734939759,111.32530120481928,111.80722891566265,112.28915662650603,112.7710843373494,113.25301204819277,113.73493975903614,114.21686746987952,114.6987951807229,115.18072289156626,115.66265060240964,116.144578313253,116.62650602409639,117.10843373493975,117.59036144578313,118.07228915662651,118.55421686746988,119.03614457831326,119.51807228915662,120.0],\"y\":[0.0,0.013467696171350848,0.0492619421179589,0.1052414313187341,0.18102546742228448,0.27633838536741656,0.3927000734941755,0.5324397490616029,0.6969776202686326,0.8885433532515671,1.109020839006409,1.3603747327862783,1.6449234991049468,1.9647681613866097,2.3201734209467,2.7127711202959977,3.141199996714616,3.603956499157908,4.091188173216792,4.587830434005387,5.066862952299252,5.479281529759646,5.811858271230541,6.058491502378322,6.221026511566441,6.3313771367178315,6.396345139457,6.4444653725447125,6.493245122787271,6.521619692571139,6.649433547693832,6.657959512858884,6.688689898556309,6.701862112398278,6.7207746351524635,6.728565773512596,6.74171910857876,6.75466251187566,6.773290612333866,6.781561462088131,6.777900635400186,6.792465244620617,6.793783838963015,6.800421679944353,6.816086248098906,6.820452924927652,6.849061916477653,6.8591880948242485,6.897018787112906,6.91466244196589,7.003531212359877,7.157935006877716,7.205051418473137,7.236910450634513,7.252153244666683,7.305058790580959,7.310195304382374,7.323291427499707,7.336621750694425,7.332492770146386,7.352311605521537,7.3717432018102365,7.387434141675602,7.374212658529405,7.394430174335415,7.380213191947718,7.429818848297543,7.443666275910006,7.442364365215492,7.492829634627016,7.5288215805585335,7.532384634435721,7.556482519278054,7.572534728471455,7.57814886007605,7.5790049121143905,7.576828968961091,7.575224801825152,7.583040294870226,7.589735224801399,7.577622515137505,7.597543920152082,7.6285389096710325,7.636157200303088,7.650131028751942,7.691227874459329,7.693786535371087,7.695595958836556,7.708381082369271,7.731097841222747,7.720857183755568,7.706401012730784,7.87637480616331,7.923791742514102,7.915899927847173,7.945910943923981,7.981740313731268,8.004863387575623,8.027413641829629,8.032655328615121,8.064745422650775,8.083857231667702,8.063933068339857,8.059159381327529,8.076843673422548,8.091689300685614,8.112997466930313,8.114843112670762,8.12072596729009,8.131159999928677,8.146101479320114,8.149058064778664,8.166977139392586,8.192631983188967,8.225408657679708,8.242864972601927,8.255626394753966,8.259183894328155,8.274298777721985,8.267693751767748,8.264349424694371,8.293791790600352,8.287616109250239,8.374356075050994,8.417493870172041,8.435150655540657,8.44685608925956,8.452299588510318,8.45671987625671,8.521055251637298,8.55717528086002,8.575728489155559,8.600172277977768,8.602475371787884,8.613833740843791,8.615798142339683,8.626692732450328,8.649789492190349,8.671774401423905,8.681134581619718,8.683756654838179,8.703160182899085,8.705115612794623,8.706688679353206,8.726029895118206,8.743557457765494,8.786761676211666,8.807339878658205,8.804960763315666,8.789149447185185,8.947154376502027,9.00003104200487,9.019724530641444,9.071456122392611,9.103522363533502,9.117995155080868,9.133587510726374,9.138962665181062,9.144965260509675,9.153689110248878,9.184222184978855,9.196357451402577,9.200449361120492,9.204358386658441,9.22327864203352,9.268138756357233,9.27431131885006,9.302743939941559,9.315029501286558,9.362327459582858,9.36365350372951,9.55742433672718,9.605442037534743,9.645533755963731,9.65182244381425,9.645715381785514,9.653773491182307,9.65335422811799,9.678295019591342,9.676889969873823,9.689526648974349,9.759014963676778,9.79249323698689,9.858050023107209,9.912709532791506,9.935929691214698,9.93182146492768,9.93798152623132,9.952468489189016,9.971436598521844,9.989143333806982,9.995138328341694,9.993264777245152,10.022392701746076,10.016023655148983,10.028862338157301,10.150607605517108,10.152499380247836,10.155219992403033,10.193286696809947,10.181412080218234,10.207009617581642,10.249199886653932,10.251971472441305,10.253790024344468,10.273586126171644,10.23139603223367,10.23309627992051,10.233354177667922,10.239545765298839,10.26657046890945,10.281039265071573,10.290770527709451,10.292307133122637,10.299292418273954,10.296803128880955,10.322948661804478,10.354165281613529,10.351300041141723,10.330516393348011,10.36083228152946,10.384971850727991,10.411480817470002,10.413043034225492,10.434000426497104,10.48067377479258,10.480052669784419,10.504154367343995,10.514048596460583,10.508615968516066,10.517639494863392,10.5880990808245,10.61018079420095,10.658121151568412,10.703359388310412,10.733812662295374,10.76404073671477,10.790177873608858,10.788744088300254,10.802694020232087,10.814251381568496,10.823882739227189,10.850847539837622,10.883310379896404,10.905014050875344,10.933797243189339,10.947527765180496,10.94493314494486,10.94040731655027,10.957920818829537],\"type\":\"scatter\",\"xaxis\":\"x\",\"yaxis\":\"y\"},{\"line\":{\"color\":\"#ff0000\",\"simplify\":true},\"mode\":\"lines\",\"name\":\"glucose\",\"opacity\":0.8,\"x\":[0.0,0.4819277108433735,0.963855421686747,1.4457831325301205,1.927710843373494,2.4096385542168672,2.891566265060241,3.3734939759036147,3.855421686746988,4.337349397590361,4.8192771084337345,5.301204819277109,5.783132530120482,6.265060240963855,6.746987951807229,7.228915662650603,7.710843373493976,8.19277108433735,8.674698795180722,9.156626506024097,9.638554216867469,10.120481927710843,10.602409638554217,11.08433734939759,11.566265060240964,12.048192771084338,12.53012048192771,13.012048192771084,13.493975903614459,13.975903614457831,14.457831325301205,14.939759036144578,15.421686746987952,15.903614457831326,16.3855421686747,16.867469879518072,17.349397590361445,17.83132530120482,18.313253012048193,18.795180722891565,19.277108433734938,19.759036144578314,20.240963855421686,20.72289156626506,21.204819277108435,21.686746987951807,22.16867469879518,22.650602409638555,23.132530120481928,23.6144578313253,24.096385542168676,24.57831325301205,25.06024096385542,25.542168674698797,26.02409638554217,26.50602409638554,26.987951807228917,27.46987951807229,27.951807228915662,28.433734939759034,28.91566265060241,29.397590361445783,29.879518072289155,30.36144578313253,30.843373493975903,31.325301204819276,31.80722891566265,32.28915662650602,32.7710843373494,33.25301204819277,33.734939759036145,34.21686746987952,34.69879518072289,35.18072289156626,35.66265060240964,36.144578313253014,36.626506024096386,37.10843373493976,37.59036144578313,38.0722891566265,38.554216867469876,39.036144578313255,39.51807228915663,40.0,40.48192771084337,40.963855421686745,41.44578313253012,41.9277108433735,42.40963855421687,42.89156626506024,43.373493975903614,43.855421686746986,44.33734939759036,44.81927710843374,45.30120481927711,45.78313253012048,46.265060240963855,46.74698795180723,47.2289156626506,47.71084337349397,48.19277108433735,48.674698795180724,49.1566265060241,49.63855421686747,50.12048192771084,50.602409638554214,51.08433734939759,51.566265060240966,52.04819277108434,52.53012048192771,53.01204819277108,53.493975903614455,53.975903614457835,54.45783132530121,54.93975903614458,55.42168674698795,55.903614457831324,56.3855421686747,56.86746987951807,57.34939759036145,57.83132530120482,58.31325301204819,58.795180722891565,59.27710843373494,59.75903614457831,60.24096385542169,60.72289156626506,61.204819277108435,61.68674698795181,62.16867469879518,62.65060240963855,63.132530120481924,63.6144578313253,64.09638554216868,64.57831325301204,65.06024096385542,65.5421686746988,66.02409638554217,66.50602409638554,66.98795180722891,67.46987951807229,67.95180722891567,68.43373493975903,68.91566265060241,69.39759036144578,69.87951807228916,70.36144578313252,70.8433734939759,71.32530120481928,71.80722891566265,72.28915662650603,72.7710843373494,73.25301204819277,73.73493975903614,74.21686746987952,74.6987951807229,75.18072289156626,75.66265060240964,76.144578313253,76.62650602409639,77.10843373493975,77.59036144578313,78.07228915662651,78.55421686746988,79.03614457831326,79.51807228915662,80.0,80.48192771084338,80.96385542168674,81.44578313253012,81.92771084337349,82.40963855421687,82.89156626506023,83.37349397590361,83.855421686747,84.33734939759036,84.81927710843374,85.3012048192771,85.78313253012048,86.26506024096385,86.74698795180723,87.2289156626506,87.71084337349397,88.19277108433735,88.67469879518072,89.1566265060241,89.63855421686748,90.12048192771084,90.60240963855422,91.08433734939759,91.56626506024097,92.04819277108433,92.53012048192771,93.01204819277109,93.49397590361446,93.97590361445783,94.4578313253012,94.93975903614458,95.42168674698794,95.90361445783132,96.3855421686747,96.86746987951807,97.34939759036145,97.83132530120481,98.3132530120482,98.79518072289157,99.27710843373494,99.75903614457832,100.24096385542168,100.72289156626506,101.20481927710843,101.6867469879518,102.16867469879519,102.65060240963855,103.13253012048193,103.6144578313253,104.09638554216868,104.57831325301204,105.06024096385542,105.5421686746988,106.02409638554217,106.50602409638554,106.98795180722891,107.46987951807229,107.95180722891567,108.43373493975903,108.91566265060241,109.39759036144578,109.87951807228916,110.36144578313252,110.8433734939759,111.32530120481928,111.80722891566265,112.28915662650603,112.7710843373494,113.25301204819277,113.73493975903614,114.21686746987952,114.6987951807229,115.18072289156626,115.66265060240964,116.144578313253,116.62650602409639,117.10843373493975,117.59036144578313,118.07228915662651,118.55421686746988,119.03614457831326,119.51807228915662,120.0],\"y\":[5.0,4.77803761851534,4.508504019801936,4.183243751646143,3.7932745146551903,3.332248890422915,2.7971017511830403,2.192009054589454,1.5424928368390005,0.9707985943733586,0.5983309060458877,0.37019978691913424,0.2285161843352924,0.14134019306098938,0.087277404444107,0.053962203090530445,0.03367411717167507,0.01986006558409865,0.011913581926340958,0.007005710560576389,0.005764570166561831,0.005206340826042096,0.004617502870657159,0.003834400921128374,0.0021384442172885793,0.001267048191454242,0.0011285160056195883,0.0006953517490995806,0.00043726436504046333,0.0002748768170730955,0.00026293781643062155,0.00023890060332535794,0.00024351379450256129,0.00013324710749749972,0.00011907204667781235,0.00010584009795475915,-0.00006671626119901094,-0.00007590205685070709,-0.00007590205685070709,-0.00007590205685070709,-0.00007590205685070709,-0.00007590205685070709,-0.00007590205685070709,-0.00007590205685070709,-0.00007590205685070709,-0.00007590205685070709,-0.00007590205685070709,-0.00007590205685070709,-0.00007590205685070709,-0.00007590205685070709,-0.00007590205685070709,-0.00007590205685070709,-0.00007590205685070709,-0.00007590205685070709,-0.00007590205685070709,-0.00007590205685070709,-0.00007590205685070709,-0.00007590205685070709,-0.00007590205685070709,-0.00007590205685070709,-0.00007590205685070709,-0.00007590205685070709,-0.00007590205685070709,-0.00007590205685070709,-0.00007590205685070709,-0.00007590205685070709,-0.00007590205685070709,-0.00007590205685070709,-0.00007590205685070709,-0.00007590205685070709,-0.00007590205685070709,-0.00007590205685070709,-0.00007590205685070709,-0.00007590205685070709,-0.00007590205685070709,-0.00007590205685070709,-0.00007590205685070709,-0.00007590205685070709,-0.00007590205685070709,-0.00007590205685070709,-0.00007590205685070709,-0.00007590205685070709,-0.00007590205685070709,-0.00007590205685070709,-0.00007590205685070709,-0.00007590205685070709,-0.00007590205685070709,-0.00007590205685070709,-0.00007590205685070709,-0.00007590205685070709,-0.00007590205685070709,-0.00007590205685070709,-0.00007590205685070709,-0.00007590205685070709,-0.00007590205685070709,-0.00007590205685070709,-0.00007590205685070709,-0.00007590205685070709,-0.00007590205685070709,-0.00007590205685070709,-0.00007590205685070709,-0.00007590205685070709,-0.00007590205685070709,-0.00007590205685070709,-0.00007590205685070709,-0.00007590205685070709,-0.00007590205685070709,-0.00007590205685070709,-0.00007590205685070709,-0.00007590205685070709,-0.00007590205685070709,-0.00007590205685070709,-0.00007590205685070709,-0.00007590205685070709,-0.00007590205685070709,-0.00007590205685070709,-0.00007590205685070709,-0.00007590205685070709,-0.00007590205685070709,-0.00007590205685070709,-0.00007590205685070709,-0.00007590205685070709,-0.00007590205685070709,-0.00007590205685070709,-0.00007590205685070709,-0.00007590205685070709,-0.00007590205685070709,-0.00007590205685070709,-0.00007590205685070709,-0.00007590205685070709,-0.00007590205685070709,-0.00007590205685070709,-0.00007590205685070709,-0.00007590205685070709,-0.00007590205685070709,-0.00007590205685070709,-0.00007590205685070709,-0.00007590205685070709,-0.00007590205685070709,-0.00007590205685070709,-0.00007590205685070709,-0.00007590205685070709,-0.00007590205685070709,-0.00007590205685070709,-0.00007590205685070709,-0.00007590205685070709,-0.00007590205685070709,-0.00007590205685070709,-0.00007590205685070709,-0.00007590205685070709,-0.00007590205685070709,-0.00007590205685070709,-0.00007590205685070709,-0.00007590205685070709,-0.00007590205685070709,-0.00007590205685070709,-0.00007590205685070709,-0.00007590205685070709,-0.00007590205685070709,-0.00007590205685070709,-0.00007590205685070709,-0.00007590205685070709,-0.00007590205685070709,-0.00007590205685070709,-0.00007590205685070709,-0.00007590205685070709,-0.00007590205685070709,-0.00007590205685070709,-0.00007590205685070709,-0.00007590205685070709,-0.00007590205685070709,-0.00007590205685070709,-0.00007590205685070709,-0.00007590205685070709,-0.00007590205685070709,-0.00007590205685070709,-0.00007590205685070709,-0.00007590205685070709,-0.00007590205685070709,-0.00007590205685070709,-0.00007590205685070709,-0.00007590205685070709,-0.00007590205685070709,-0.00007590205685070709,-0.00007590205685070709,-0.00007590205685070709,-0.00007590205685070709,-0.00007590205685070709,-0.00007590205685070709,-0.00007590205685070709,-0.00007590205685070709,-0.00007590205685070709,-0.00007590205685070709,-0.00007590205685070709,-0.00007590205685070709,-0.00007590205685070709,-0.00007590205685070709,-0.00007590205685070709,-0.00007590205685070709,-0.00007590205685070709,-0.00007590205685070709,-0.00007590205685070709,-0.00007590205685070709,-0.00007590205685070709,-0.00007590205685070709,-0.00007590205685070709,-0.00007590205685070709,-0.00007590205685070709,-0.00007590205685070709,-0.00007590205685070709,-0.00007590205685070709,-0.00007590205685070709,-0.00007590205685070709,-0.00007590205685070709,-0.00007590205685070709,-0.00007590205685070709,-0.00007590205685070709,-0.00007590205685070709,-0.00007590205685070709,-0.00007590205685070709,-0.00007590205685070709,-0.00007590205685070709,-0.00007590205685070709,-0.00007590205685070709,-0.00007590205685070709,-0.00007590205685070709,-0.00007590205685070709,-0.00007590205685070709,-0.00007590205685070709,-0.00007590205685070709,-0.00007590205685070709,-0.00007590205685070709,-0.00007590205685070709,-0.00007590205685070709,-0.00007590205685070709,-0.00007590205685070709,-0.00007590205685070709,-0.00007590205685070709,-0.00007590205685070709,-0.00007590205685070709,-0.00007590205685070709,-0.00007590205685070709,-0.00007590205685070709,-0.00007590205685070709,-0.00007590205685070709,-0.00007590205685070709,-0.00007590205685070709,-0.00007590205685070709,-0.00007590205685070709,-0.00007590205685070709],\"type\":\"scatter\",\"xaxis\":\"x\",\"yaxis\":\"y\"},{\"line\":{\"color\":\"rgb(57,255,20)\",\"simplify\":true},\"mode\":\"lines\",\"name\":\"pH\",\"opacity\":0.8,\"x\":[0.0,0.4819277108433735,0.963855421686747,1.4457831325301205,1.927710843373494,2.4096385542168672,2.891566265060241,3.3734939759036147,3.855421686746988,4.337349397590361,4.8192771084337345,5.301204819277109,5.783132530120482,6.265060240963855,6.746987951807229,7.228915662650603,7.710843373493976,8.19277108433735,8.674698795180722,9.156626506024097,9.638554216867469,10.120481927710843,10.602409638554217,11.08433734939759,11.566265060240964,12.048192771084338,12.53012048192771,13.012048192771084,13.493975903614459,13.975903614457831,14.457831325301205,14.939759036144578,15.421686746987952,15.903614457831326,16.3855421686747,16.867469879518072,17.349397590361445,17.83132530120482,18.313253012048193,18.795180722891565,19.277108433734938,19.759036144578314,20.240963855421686,20.72289156626506,21.204819277108435,21.686746987951807,22.16867469879518,22.650602409638555,23.132530120481928,23.6144578313253,24.096385542168676,24.57831325301205,25.06024096385542,25.542168674698797,26.02409638554217,26.50602409638554,26.987951807228917,27.46987951807229,27.951807228915662,28.433734939759034,28.91566265060241,29.397590361445783,29.879518072289155,30.36144578313253,30.843373493975903,31.325301204819276,31.80722891566265,32.28915662650602,32.7710843373494,33.25301204819277,33.734939759036145,34.21686746987952,34.69879518072289,35.18072289156626,35.66265060240964,36.144578313253014,36.626506024096386,37.10843373493976,37.59036144578313,38.0722891566265,38.554216867469876,39.036144578313255,39.51807228915663,40.0,40.48192771084337,40.963855421686745,41.44578313253012,41.9277108433735,42.40963855421687,42.89156626506024,43.373493975903614,43.855421686746986,44.33734939759036,44.81927710843374,45.30120481927711,45.78313253012048,46.265060240963855,46.74698795180723,47.2289156626506,47.71084337349397,48.19277108433735,48.674698795180724,49.1566265060241,49.63855421686747,50.12048192771084,50.602409638554214,51.08433734939759,51.566265060240966,52.04819277108434,52.53012048192771,53.01204819277108,53.493975903614455,53.975903614457835,54.45783132530121,54.93975903614458,55.42168674698795,55.903614457831324,56.3855421686747,56.86746987951807,57.34939759036145,57.83132530120482,58.31325301204819,58.795180722891565,59.27710843373494,59.75903614457831,60.24096385542169,60.72289156626506,61.204819277108435,61.68674698795181,62.16867469879518,62.65060240963855,63.132530120481924,63.6144578313253,64.09638554216868,64.57831325301204,65.06024096385542,65.5421686746988,66.02409638554217,66.50602409638554,66.98795180722891,67.46987951807229,67.95180722891567,68.43373493975903,68.91566265060241,69.39759036144578,69.87951807228916,70.36144578313252,70.8433734939759,71.32530120481928,71.80722891566265,72.28915662650603,72.7710843373494,73.25301204819277,73.73493975903614,74.21686746987952,74.6987951807229,75.18072289156626,75.66265060240964,76.144578313253,76.62650602409639,77.10843373493975,77.59036144578313,78.07228915662651,78.55421686746988,79.03614457831326,79.51807228915662,80.0,80.48192771084338,80.96385542168674,81.44578313253012,81.92771084337349,82.40963855421687,82.89156626506023,83.37349397590361,83.855421686747,84.33734939759036,84.81927710843374,85.3012048192771,85.78313253012048,86.26506024096385,86.74698795180723,87.2289156626506,87.71084337349397,88.19277108433735,88.67469879518072,89.1566265060241,89.63855421686748,90.12048192771084,90.60240963855422,91.08433734939759,91.56626506024097,92.04819277108433,92.53012048192771,93.01204819277109,93.49397590361446,93.97590361445783,94.4578313253012,94.93975903614458,95.42168674698794,95.90361445783132,96.3855421686747,96.86746987951807,97.34939759036145,97.83132530120481,98.3132530120482,98.79518072289157,99.27710843373494,99.75903614457832,100.24096385542168,100.72289156626506,101.20481927710843,101.6867469879518,102.16867469879519,102.65060240963855,103.13253012048193,103.6144578313253,104.09638554216868,104.57831325301204,105.06024096385542,105.5421686746988,106.02409638554217,106.50602409638554,106.98795180722891,107.46987951807229,107.95180722891567,108.43373493975903,108.91566265060241,109.39759036144578,109.87951807228916,110.36144578313252,110.8433734939759,111.32530120481928,111.80722891566265,112.28915662650603,112.7710843373494,113.25301204819277,113.73493975903614,114.21686746987952,114.6987951807229,115.18072289156626,115.66265060240964,116.144578313253,116.62650602409639,117.10843373493975,117.59036144578313,118.07228915662651,118.55421686746988,119.03614457831326,119.51807228915662,120.0],\"y\":[7.0,7.0,7.0,7.0,7.0,7.0,7.0,7.0,7.0,7.0,7.0,7.0,7.0,7.0,7.0,7.0,7.0,7.0,7.0,7.0,7.0,7.0,7.0,7.0,7.0,7.0,7.0,7.0,7.0,7.0,7.0,7.0,7.0,7.0,7.0,7.0,7.0,7.0,7.0,7.0,7.0,7.0,7.0,7.0,7.0,7.0,7.0,7.0,7.0,7.0,7.0,7.0,7.0,7.0,7.0,7.0,7.0,7.0,7.0,7.0,7.0,7.0,7.0,7.0,7.0,7.0,7.0,7.0,7.0,7.0,7.0,7.0,7.0,7.0,7.0,7.0,7.0,7.0,7.0,7.0,7.0,7.0,7.0,7.0,7.0,7.0,7.0,7.0,7.0,7.0,7.0,7.0,7.0,7.0,7.0,7.0,7.0,7.0,7.0,7.0,7.0,7.0,7.0,7.0,7.0,7.0,7.0,7.0,7.0,7.0,7.0,7.0,7.0,7.0,7.0,7.0,7.0,7.0,7.0,7.0,7.0,7.0,7.0,7.0,7.0,7.0,7.0,7.0,7.0,7.0,7.0,7.0,7.0,7.0,7.0,7.0,7.0,7.0,7.0,7.0,7.0,7.0,7.0,7.0,7.0,7.0,7.0,7.0,7.0,7.0,7.0,7.0,7.0,7.0,7.0,7.0,7.0,7.0,7.0,7.0,7.0,7.0,7.0,7.0,7.0,7.0,7.0,7.0,7.0,7.0,7.0,7.0,7.0,7.0,7.0,7.0,7.0,7.0,7.0,7.0,7.0,7.0,7.0,7.0,7.0,7.0,7.0,7.0,7.0,7.0,7.0,7.0,7.0,7.0,7.0,7.0,7.0,7.0,7.0,7.0,7.0,7.0,7.0,7.0,7.0,7.0,7.0,7.0,7.0,7.0,7.0,7.0,7.0,7.0,7.0,7.0,7.0,7.0,7.0,7.0,7.0,7.0,7.0,7.0,7.0,7.0,7.0,7.0,7.0,7.0,7.0,7.0,7.0,7.0,7.0,7.0,7.0,7.0,7.0,7.0,7.0,7.0,7.0,7.0,7.0,7.0,7.0,7.0,7.0,7.0],\"type\":\"scatter\",\"xaxis\":\"x2\",\"yaxis\":\"y2\"},{\"line\":{\"color\":\"#cf6f15\",\"simplify\":true},\"mode\":\"lines\",\"name\":\"E_coli_glucose_consumer\",\"opacity\":0.8,\"x\":[0.0,0.4819277108433735,0.963855421686747,1.4457831325301205,1.927710843373494,2.4096385542168672,2.891566265060241,3.3734939759036147,3.855421686746988,4.337349397590361,4.8192771084337345,5.301204819277109,5.783132530120482,6.265060240963855,6.746987951807229,7.228915662650603,7.710843373493976,8.19277108433735,8.674698795180722,9.156626506024097,9.638554216867469,10.120481927710843,10.602409638554217,11.08433734939759,11.566265060240964,12.048192771084338,12.53012048192771,13.012048192771084,13.493975903614459,13.975903614457831,14.457831325301205,14.939759036144578,15.421686746987952,15.903614457831326,16.3855421686747,16.867469879518072,17.349397590361445,17.83132530120482,18.313253012048193,18.795180722891565,19.277108433734938,19.759036144578314,20.240963855421686,20.72289156626506,21.204819277108435,21.686746987951807,22.16867469879518,22.650602409638555,23.132530120481928,23.6144578313253,24.096385542168676,24.57831325301205,25.06024096385542,25.542168674698797,26.02409638554217,26.50602409638554,26.987951807228917,27.46987951807229,27.951807228915662,28.433734939759034,28.91566265060241,29.397590361445783,29.879518072289155,30.36144578313253,30.843373493975903,31.325301204819276,31.80722891566265,32.28915662650602,32.7710843373494,33.25301204819277,33.734939759036145,34.21686746987952,34.69879518072289,35.18072289156626,35.66265060240964,36.144578313253014,36.626506024096386,37.10843373493976,37.59036144578313,38.0722891566265,38.554216867469876,39.036144578313255,39.51807228915663,40.0,40.48192771084337,40.963855421686745,41.44578313253012,41.9277108433735,42.40963855421687,42.89156626506024,43.373493975903614,43.855421686746986,44.33734939759036,44.81927710843374,45.30120481927711,45.78313253012048,46.265060240963855,46.74698795180723,47.2289156626506,47.71084337349397,48.19277108433735,48.674698795180724,49.1566265060241,49.63855421686747,50.12048192771084,50.602409638554214,51.08433734939759,51.566265060240966,52.04819277108434,52.53012048192771,53.01204819277108,53.493975903614455,53.975903614457835,54.45783132530121,54.93975903614458,55.42168674698795,55.903614457831324,56.3855421686747,56.86746987951807,57.34939759036145,57.83132530120482,58.31325301204819,58.795180722891565,59.27710843373494,59.75903614457831,60.24096385542169,60.72289156626506,61.204819277108435,61.68674698795181,62.16867469879518,62.65060240963855,63.132530120481924,63.6144578313253,64.09638554216868,64.57831325301204,65.06024096385542,65.5421686746988,66.02409638554217,66.50602409638554,66.98795180722891,67.46987951807229,67.95180722891567,68.43373493975903,68.91566265060241,69.39759036144578,69.87951807228916,70.36144578313252,70.8433734939759,71.32530120481928,71.80722891566265,72.28915662650603,72.7710843373494,73.25301204819277,73.73493975903614,74.21686746987952,74.6987951807229,75.18072289156626,75.66265060240964,76.144578313253,76.62650602409639,77.10843373493975,77.59036144578313,78.07228915662651,78.55421686746988,79.03614457831326,79.51807228915662,80.0,80.48192771084338,80.96385542168674,81.44578313253012,81.92771084337349,82.40963855421687,82.89156626506023,83.37349397590361,83.855421686747,84.33734939759036,84.81927710843374,85.3012048192771,85.78313253012048,86.26506024096385,86.74698795180723,87.2289156626506,87.71084337349397,88.19277108433735,88.67469879518072,89.1566265060241,89.63855421686748,90.12048192771084,90.60240963855422,91.08433734939759,91.56626506024097,92.04819277108433,92.53012048192771,93.01204819277109,93.49397590361446,93.97590361445783,94.4578313253012,94.93975903614458,95.42168674698794,95.90361445783132,96.3855421686747,96.86746987951807,97.34939759036145,97.83132530120481,98.3132530120482,98.79518072289157,99.27710843373494,99.75903614457832,100.24096385542168,100.72289156626506,101.20481927710843,101.6867469879518,102.16867469879519,102.65060240963855,103.13253012048193,103.6144578313253,104.09638554216868,104.57831325301204,105.06024096385542,105.5421686746988,106.02409638554217,106.50602409638554,106.98795180722891,107.46987951807229,107.95180722891567,108.43373493975903,108.91566265060241,109.39759036144578,109.87951807228916,110.36144578313252,110.8433734939759,111.32530120481928,111.80722891566265,112.28915662650603,112.7710843373494,113.25301204819277,113.73493975903614,114.21686746987952,114.6987951807229,115.18072289156626,115.66265060240964,116.144578313253,116.62650602409639,117.10843373493975,117.59036144578313,118.07228915662651,118.55421686746988,119.03614457831326,119.51807228915662,120.0],\"y\":[1.0,1.2268050820617429,1.5014016319050962,1.8318811158778998,2.227020194615987,2.6889205781058942,3.2244932658025,3.8300584712845054,4.478916228020831,5.126359526474948,5.676116397040463,6.1816036082312085,6.528876941396567,6.775510895328694,6.933669116035493,7.073712384724902,7.155347885804938,7.193824780542737,7.197354243563664,7.224865628029274,7.2650283352122464,7.292250024144686,7.314267978199952,7.3254734663017675,7.360692954306502,7.391003471601349,7.417046496553366,7.418648715054194,7.422480627503763,7.456624023199088,7.458570855611851,7.460563489223684,7.445583621064545,7.455443981269113,7.434377052531415,7.446712664938821,7.431875757814987,7.44454666406922,7.436744825143483,7.431093836721296,7.457982165510857,7.47446794173507,7.480960811725151,7.486561169566148,7.468795060257801,7.465359120508998,7.472468614145198,7.480569666739429,7.490895075923452,7.507089135219662,7.4978674028211305,7.488010791511149,7.491295452915686,7.494193010511089,7.498421531858601,7.533275121157608,7.562997481773108,7.564573857388194,7.570110200741647,7.592513208921119,7.593152733809906,7.592017203706348,7.602881683046913,7.604299235729207,7.619797545910711,7.614603839807794,7.61215116339789,7.62284318301613,7.624479635214282,7.6290128674851,7.625537122792354,7.6415055959653895,7.65409095660899,7.653522273792256,7.6511722696317594,7.654415030463661,7.666535214935506,7.695102459299588,7.716570661313831,7.739589152051674,7.762011966966805,7.7676020080015995,7.769037018697694,7.808212011297234,7.815072323161739,7.817062957945025,7.820678098834763,7.822351883307848,7.8338504577567045,7.84100057378383,7.818065477894128,7.830717399738896,7.825689605149134,7.827664003426547,7.889811792917754,7.911316395179202,7.93871428233412,7.946361624589466,7.944908006624033,7.938995649721892,7.972499707365911,7.9925063061402435,7.9950235974335175,7.988810109379338,8.002510282349036,8.027886391185652,8.043823969605885,8.052949817862647,8.082039580398595,8.105132567925704,8.121706174021716,8.1302240055953,8.130630822599707,8.136474591776803,8.140401589105874,8.123504686230346,8.12265443519984,8.160323324696177,8.169608974031807,8.205495483905048,8.207189047513735,8.207080132161789,8.205788868779159,8.21963332777026,8.214723842703068,8.252803846145348,8.262709758724707,8.276678705471731,8.283646531353272,8.28855345855295,8.292081615041798,8.293760327681888,8.291299502810316,8.301006332864025,8.326299713558749,8.329228567269448,8.333303340652998,8.335636660214385,8.335907765665482,8.33586759271281,8.335753685187662,8.339385537006994,8.35485087616069,8.364397975510633,8.365613403015066,8.370263759188704,8.382975056634038,8.413813271378771,8.419365862748554,8.417904659882847,8.421279646785104,8.422238890567224,8.421338203721994,8.43591790234823,8.428379027472673,8.436653695359077,8.430135190013,8.427913274576605,8.432322237235296,8.437390109782694,8.448194958718442,8.454818371225812,8.477425741086014,8.493393053662961,8.50805095396406,8.547977312407875,8.548252731754943,8.552709880356248,8.574623691756122,8.593110374947976,8.597135625934756,8.584873792353958,8.588154941205033,8.594643159443324,8.61602566513835,8.66041837261884,8.664432554747671,8.662684866551286,8.675081452739327,8.68767484817166,8.688004182825017,8.689112924909802,8.692716026708373,8.683473371559783,8.695301931615147,8.687210644365505,8.70275871091063,8.711589730969193,8.711257544978674,8.713498874856084,8.71834220255881,8.722243591659746,8.734532905159304,8.752587473775593,8.780596746632705,8.784424529012137,8.794185658330795,8.79409135120917,8.794266347622434,8.791429622409272,8.803451637642535,8.826776619722565,8.831761945448859,8.837178405026433,8.839096786396796,8.84279477748062,8.870548541227464,8.877697397461057,8.919187162028683,8.930532239675316,8.937427708939405,8.942350193783827,8.940930361281962,8.942563843086095,8.94363111249308,8.950184688909744,8.953466858864278,8.94585060106592,8.955706380606086,8.966167632727506,8.966762068557557,8.969159012652296,8.973989452733221,8.960331789412306,8.967947793568754,8.99962871547536,9.00411672642598,9.001291238738585,9.015247239737137,9.011659871297358,9.018226984502022,9.020067577474666,9.022030418966693,9.018661499938226,9.027040817722794,9.03347890700562,9.040644161922367,9.044361552893312,9.040437396673193,9.045006531711248,9.054962301127048,9.06981142587231,9.073161928537147,9.094366461149558,9.101750201483561,9.119652136464492,9.12522595104769,9.1252217012714,9.129167958063684,9.122763549581387],\"type\":\"scatter\",\"xaxis\":\"x3\",\"yaxis\":\"y3\"},{\"line\":{\"color\":\"#cf6f15\",\"simplify\":true},\"mode\":\"lines\",\"name\":\"E_coli_acetate_consumer\",\"opacity\":0.8,\"x\":[0.0,0.4819277108433735,0.963855421686747,1.4457831325301205,1.927710843373494,2.4096385542168672,2.891566265060241,3.3734939759036147,3.855421686746988,4.337349397590361,4.8192771084337345,5.301204819277109,5.783132530120482,6.265060240963855,6.746987951807229,7.228915662650603,7.710843373493976,8.19277108433735,8.674698795180722,9.156626506024097,9.638554216867469,10.120481927710843,10.602409638554217,11.08433734939759,11.566265060240964,12.048192771084338,12.53012048192771,13.012048192771084,13.493975903614459,13.975903614457831,14.457831325301205,14.939759036144578,15.421686746987952,15.903614457831326,16.3855421686747,16.867469879518072,17.349397590361445,17.83132530120482,18.313253012048193,18.795180722891565,19.277108433734938,19.759036144578314,20.240963855421686,20.72289156626506,21.204819277108435,21.686746987951807,22.16867469879518,22.650602409638555,23.132530120481928,23.6144578313253,24.096385542168676,24.57831325301205,25.06024096385542,25.542168674698797,26.02409638554217,26.50602409638554,26.987951807228917,27.46987951807229,27.951807228915662,28.433734939759034,28.91566265060241,29.397590361445783,29.879518072289155,30.36144578313253,30.843373493975903,31.325301204819276,31.80722891566265,32.28915662650602,32.7710843373494,33.25301204819277,33.734939759036145,34.21686746987952,34.69879518072289,35.18072289156626,35.66265060240964,36.144578313253014,36.626506024096386,37.10843373493976,37.59036144578313,38.0722891566265,38.554216867469876,39.036144578313255,39.51807228915663,40.0,40.48192771084337,40.963855421686745,41.44578313253012,41.9277108433735,42.40963855421687,42.89156626506024,43.373493975903614,43.855421686746986,44.33734939759036,44.81927710843374,45.30120481927711,45.78313253012048,46.265060240963855,46.74698795180723,47.2289156626506,47.71084337349397,48.19277108433735,48.674698795180724,49.1566265060241,49.63855421686747,50.12048192771084,50.602409638554214,51.08433734939759,51.566265060240966,52.04819277108434,52.53012048192771,53.01204819277108,53.493975903614455,53.975903614457835,54.45783132530121,54.93975903614458,55.42168674698795,55.903614457831324,56.3855421686747,56.86746987951807,57.34939759036145,57.83132530120482,58.31325301204819,58.795180722891565,59.27710843373494,59.75903614457831,60.24096385542169,60.72289156626506,61.204819277108435,61.68674698795181,62.16867469879518,62.65060240963855,63.132530120481924,63.6144578313253,64.09638554216868,64.57831325301204,65.06024096385542,65.5421686746988,66.02409638554217,66.50602409638554,66.98795180722891,67.46987951807229,67.95180722891567,68.43373493975903,68.91566265060241,69.39759036144578,69.87951807228916,70.36144578313252,70.8433734939759,71.32530120481928,71.80722891566265,72.28915662650603,72.7710843373494,73.25301204819277,73.73493975903614,74.21686746987952,74.6987951807229,75.18072289156626,75.66265060240964,76.144578313253,76.62650602409639,77.10843373493975,77.59036144578313,78.07228915662651,78.55421686746988,79.03614457831326,79.51807228915662,80.0,80.48192771084338,80.96385542168674,81.44578313253012,81.92771084337349,82.40963855421687,82.89156626506023,83.37349397590361,83.855421686747,84.33734939759036,84.81927710843374,85.3012048192771,85.78313253012048,86.26506024096385,86.74698795180723,87.2289156626506,87.71084337349397,88.19277108433735,88.67469879518072,89.1566265060241,89.63855421686748,90.12048192771084,90.60240963855422,91.08433734939759,91.56626506024097,92.04819277108433,92.53012048192771,93.01204819277109,93.49397590361446,93.97590361445783,94.4578313253012,94.93975903614458,95.42168674698794,95.90361445783132,96.3855421686747,96.86746987951807,97.34939759036145,97.83132530120481,98.3132530120482,98.79518072289157,99.27710843373494,99.75903614457832,100.24096385542168,100.72289156626506,101.20481927710843,101.6867469879518,102.16867469879519,102.65060240963855,103.13253012048193,103.6144578313253,104.09638554216868,104.57831325301204,105.06024096385542,105.5421686746988,106.02409638554217,106.50602409638554,106.98795180722891,107.46987951807229,107.95180722891567,108.43373493975903,108.91566265060241,109.39759036144578,109.87951807228916,110.36144578313252,110.8433734939759,111.32530120481928,111.80722891566265,112.28915662650603,112.7710843373494,113.25301204819277,113.73493975903614,114.21686746987952,114.6987951807229,115.18072289156626,115.66265060240964,116.144578313253,116.62650602409639,117.10843373493975,117.59036144578313,118.07228915662651,118.55421686746988,119.03614457831326,119.51807228915662,120.0],\"y\":[1.0,1.0096390391326124,1.041216396706524,1.0903090109933653,1.1600207933157387,1.2542082598487458,1.370153051261512,1.5100139894746256,1.6749781319550814,1.8648795528041724,2.0876343525611345,2.3420009359234415,2.629403418014683,2.952482114491702,3.3116182830138996,3.707672050151023,4.139642425589538,4.6071016347405696,5.098724426960121,5.597415071520313,6.075604706702632,6.493352969031003,6.824619655499839,7.084673745009857,7.264521681287588,7.37698907348566,7.464676635731371,7.507078682643129,7.5310359740314246,7.560790857643467,7.67668540728947,7.7159896070404415,7.726115829343176,7.727501642106862,7.745197470524432,7.741783204843398,7.778451531185218,7.805805698886474,7.829167363191473,7.8591469632160225,7.860111845514118,7.879410745660015,7.908621084624924,7.9205178697257015,7.933726009212372,7.934172889788493,7.960493539087932,7.974445802828246,7.99597442614418,8.003070373952445,8.101975116626598,8.248387356322533,8.287723657633478,8.3159544640648,8.352655158453407,8.402220627703867,8.41014537177793,8.428949510788394,8.447728526722095,8.452125328948897,8.459524044679268,8.455723197763065,8.471127956503606,8.469752206003786,8.495002646014708,8.491676103982739,8.529389819037545,8.568587846071779,8.588297870991628,8.667658242632253,8.704668101880408,8.707806478519457,8.727442497544741,8.740148864777321,8.762331362004034,8.777859122641186,8.770153449449204,8.784892154079458,8.806330334436064,8.82313397395796,8.8343594525468,8.864095473388874,8.85562620262121,8.86105966397415,8.863102337174578,8.890158379598018,8.891727217846922,8.894609268286375,8.892280149672965,8.898342133435715,8.88983279527905,8.878072125923612,9.036811255834213,9.07080194099628,9.082124477463895,9.110065250927535,9.165141135744467,9.19962863353149,9.203279035511274,9.218462855408779,9.232856139310023,9.231359167936906,9.231992012174532,9.256281049885727,9.280207547145032,9.291507171174816,9.33766498888113,9.358976701958866,9.363444009737453,9.374432521562566,9.403314879763993,9.406091621127558,9.413287171697378,9.423633652598616,9.444122473765754,9.417553390494222,9.427195052908159,9.437231750488882,9.442691952472167,9.465154214808878,9.464240041719263,9.490575859320662,9.489479130359438,9.596554617152185,9.627094950061906,9.644626514490643,9.645236534562496,9.664514898655714,9.688884965857161,9.756455024311252,9.803966710349753,9.80407234732328,9.803970897954787,9.806353376848232,9.816178894752113,9.828403798402649,9.845673959826607,9.856186039579255,9.882770730986467,9.905242364488801,9.930227462961247,9.952260793189105,9.973922859621153,9.991098539533596,10.03449357734615,10.03747071551671,10.065832061139526,10.073774060204004,10.078146915944618,10.053414222342395,10.251635521590837,10.320473752415198,10.346316534002463,10.372024034171062,10.393434419619954,10.425343109533038,10.430684212671343,10.435648065969012,10.451530978977669,10.445097343700427,10.464372909588759,10.486433622147626,10.494692216066461,10.512677218624244,10.546067230627017,10.614374991485464,10.615125082405726,10.611329768159445,10.616057510446202,10.674545265344166,10.675980149843157,10.855153408551779,10.889206119937294,10.940154972903981,10.954675105216877,10.974339232189141,10.98490890959148,10.976724221278262,11.005574266381771,11.022219736120677,11.023076755980856,11.123428806859977,11.171240100136458,11.225020311846857,11.244179492588726,11.258776633458988,11.284397064080622,11.317968191114693,11.329913053976123,11.331513224090672,11.353386501995754,11.378567145873802,11.406858512152839,11.477283296515509,11.53227069259448,11.54527299771199,11.649602934792574,11.685109486019133,11.685775407751098,11.710548500856339,11.811540194907023,11.84436280625471,11.881001402005117,11.885022347528933,11.87493093029365,11.89647917760993,11.838217444897136,11.829718030905003,11.829028131027348,11.835656630066005,11.850097190080762,11.870537887179326,11.862250108294864,11.858759826955115,11.854582987740157,11.861908028517275,11.866992146168089,11.87236137774118,11.890141481146772,11.898709689276929,11.933210317993828,11.934492981679076,11.936705795748365,11.95599846904358,12.015100842291723,12.021769650356214,12.024671545386855,12.003973109661764,12.023350681232417,12.01699272372505,12.01189109090246,12.074050816040119,12.085604419827089,12.141552838843376,12.170696636527573,12.179682554946691,12.179330947624738,12.187524701968117,12.192944998518998,12.227662934677959,12.24680436052193,12.246869843542619,12.26054042621702,12.28445532590897,12.29905956379706,12.316541894155826,12.31968071751069,12.333679736780041,12.323350537966387,12.366105548698552],\"type\":\"scatter\",\"xaxis\":\"x3\",\"yaxis\":\"y3\"},{\"line\":{\"color\":\"#cf6f15\",\"simplify\":true},\"mode\":\"lines\",\"name\":\"E_coli_inactive\",\"opacity\":0.1,\"x\":[0.0,0.4819277108433735,0.963855421686747,1.4457831325301205,1.927710843373494,2.4096385542168672,2.891566265060241,3.3734939759036147,3.855421686746988,4.337349397590361,4.8192771084337345,5.301204819277109,5.783132530120482,6.265060240963855,6.746987951807229,7.228915662650603,7.710843373493976,8.19277108433735,8.674698795180722,9.156626506024097,9.638554216867469,10.120481927710843,10.602409638554217,11.08433734939759,11.566265060240964,12.048192771084338,12.53012048192771,13.012048192771084,13.493975903614459,13.975903614457831,14.457831325301205,14.939759036144578,15.421686746987952,15.903614457831326,16.3855421686747,16.867469879518072,17.349397590361445,17.83132530120482,18.313253012048193,18.795180722891565,19.277108433734938,19.759036144578314,20.240963855421686,20.72289156626506,21.204819277108435,21.686746987951807,22.16867469879518,22.650602409638555,23.132530120481928,23.6144578313253,24.096385542168676,24.57831325301205,25.06024096385542,25.542168674698797,26.02409638554217,26.50602409638554,26.987951807228917,27.46987951807229,27.951807228915662,28.433734939759034,28.91566265060241,29.397590361445783,29.879518072289155,30.36144578313253,30.843373493975903,31.325301204819276,31.80722891566265,32.28915662650602,32.7710843373494,33.25301204819277,33.734939759036145,34.21686746987952,34.69879518072289,35.18072289156626,35.66265060240964,36.144578313253014,36.626506024096386,37.10843373493976,37.59036144578313,38.0722891566265,38.554216867469876,39.036144578313255,39.51807228915663,40.0,40.48192771084337,40.963855421686745,41.44578313253012,41.9277108433735,42.40963855421687,42.89156626506024,43.373493975903614,43.855421686746986,44.33734939759036,44.81927710843374,45.30120481927711,45.78313253012048,46.265060240963855,46.74698795180723,47.2289156626506,47.71084337349397,48.19277108433735,48.674698795180724,49.1566265060241,49.63855421686747,50.12048192771084,50.602409638554214,51.08433734939759,51.566265060240966,52.04819277108434,52.53012048192771,53.01204819277108,53.493975903614455,53.975903614457835,54.45783132530121,54.93975903614458,55.42168674698795,55.903614457831324,56.3855421686747,56.86746987951807,57.34939759036145,57.83132530120482,58.31325301204819,58.795180722891565,59.27710843373494,59.75903614457831,60.24096385542169,60.72289156626506,61.204819277108435,61.68674698795181,62.16867469879518,62.65060240963855,63.132530120481924,63.6144578313253,64.09638554216868,64.57831325301204,65.06024096385542,65.5421686746988,66.02409638554217,66.50602409638554,66.98795180722891,67.46987951807229,67.95180722891567,68.43373493975903,68.91566265060241,69.39759036144578,69.87951807228916,70.36144578313252,70.8433734939759,71.32530120481928,71.80722891566265,72.28915662650603,72.7710843373494,73.25301204819277,73.73493975903614,74.21686746987952,74.6987951807229,75.18072289156626,75.66265060240964,76.144578313253,76.62650602409639,77.10843373493975,77.59036144578313,78.07228915662651,78.55421686746988,79.03614457831326,79.51807228915662,80.0,80.48192771084338,80.96385542168674,81.44578313253012,81.92771084337349,82.40963855421687,82.89156626506023,83.37349397590361,83.855421686747,84.33734939759036,84.81927710843374,85.3012048192771,85.78313253012048,86.26506024096385,86.74698795180723,87.2289156626506,87.71084337349397,88.19277108433735,88.67469879518072,89.1566265060241,89.63855421686748,90.12048192771084,90.60240963855422,91.08433734939759,91.56626506024097,92.04819277108433,92.53012048192771,93.01204819277109,93.49397590361446,93.97590361445783,94.4578313253012,94.93975903614458,95.42168674698794,95.90361445783132,96.3855421686747,96.86746987951807,97.34939759036145,97.83132530120481,98.3132530120482,98.79518072289157,99.27710843373494,99.75903614457832,100.24096385542168,100.72289156626506,101.20481927710843,101.6867469879518,102.16867469879519,102.65060240963855,103.13253012048193,103.6144578313253,104.09638554216868,104.57831325301204,105.06024096385542,105.5421686746988,106.02409638554217,106.50602409638554,106.98795180722891,107.46987951807229,107.95180722891567,108.43373493975903,108.91566265060241,109.39759036144578,109.87951807228916,110.36144578313252,110.8433734939759,111.32530120481928,111.80722891566265,112.28915662650603,112.7710843373494,113.25301204819277,113.73493975903614,114.21686746987952,114.6987951807229,115.18072289156626,115.66265060240964,116.144578313253,116.62650602409639,117.10843373493975,117.59036144578313,118.07228915662651,118.55421686746988,119.03614457831326,119.51807228915662,120.0],\"y\":[1.0,1.000005396622163,1.0000119990206258,1.000020058218079,1.000029866064233,1.000041742234435,1.0000560243953833,1.0000730676325622,1.0000931571564746,1.0001164033459125,1.000142570709103,1.0001712741535453,1.0002020745477966,1.00023430482766,1.0002675219228083,1.0003014483065353,1.0003359346171197,1.0003707404924351,1.0004056585566463,1.0004406515841457,1.0004758582912083,1.000511237879098,1.000546770138325,1.0005823769353612,1.0006181069441142,1.0006540068703607,1.0006900467675381,1.0007261490933494,1.000762273764857,1.000798498458174,1.0008348151653985,1.0008711325823305,1.000907433530081,1.0009437014001374,1.0009799739169525,1.0010161959736255,1.0010524398985197,1.001088662486356,1.0011249057593472,1.0011611121520572,1.0011973544831207,1.0012337154661615,1.0012701385289202,1.0013065710081048,1.0013430087934598,1.0013793654767513,1.0014157479129566,1.0014521664832854,1.0014886256811464,1.0015251416452762,1.001561694357693,1.0015981974879211,1.0016346921554005,1.0016712098955447,1.0017077356657857,1.0017443484581685,1.0017811275505293,1.0018179970613232,1.001854865518163,1.0018918128742014,1.001928810882773,1.0019658084264602,1.0020028319880332,1.002039886494758,1.002076976551784,1.002114107707401,1.0021512087628444,1.0021883278473436,1.002225487925084,1.0022626539115576,1.0022998420590707,1.0023370331719044,1.0023743108564933,1.0024116196610686,1.0024489296202215,1.002486227083028,1.0025235625074305,1.0025609939711477,1.002598564863347,1.0026362255262449,1.0026740116837454,1.0027118605294414,1.0027497166907788,1.0027876772956401,1.0028257701051695,1.0028638594833412,1.0029019745995054,1.0029401000201064,1.002978249887999,1.003016441889962,1.003054616939933,1.0030927685277315,1.0031309218471869,1.0031691047015092,1.0032073779093642,1.0032458971337463,1.0032845227753995,1.0033232365615843,1.003361978996646,1.003400702123469,1.0034394716890327,1.0034783952947501,1.0035173685842154,1.0035563331565331,1.0035953013088936,1.0036343797204037,1.0036735560961108,1.0037127974159354,1.003752125868257,1.003791580458678,1.0038311362585943,1.003870757579239,1.0039103917757506,1.003950041081605,1.0039897178540835,1.0040293731457017,1.0040689799920206,1.0041086502426049,1.0041484496589363,1.0041883574226407,1.0042283643961307,1.0042683733256585,1.0043083887836004,1.0043484143108992,1.0043884895640418,1.0044286114042522,1.0044688952188086,1.0045092004747223,1.0045495737699082,1.004589972007631,1.004630397319139,1.0046708353183533,1.0047112830371083,1.0047517278394342,1.0047922617360006,1.0048328736956718,1.004873487576723,1.0049141329965923,1.0049547851078038,1.0049954348274894,1.0050360853527625,1.005076736319162,1.0051174519918158,1.0051582209315386,1.0051990169449954,1.005239831237819,1.0052806686330746,1.0053216339265458,1.0053626904812465,1.0054037512951122,1.0054448109221183,1.005485894267543,1.0055269757158025,1.00556808958582,1.0056092357332689,1.0056503686136662,1.00569152420347,1.0057326475456638,1.0057737800840711,1.0058149254122246,1.005856121812628,1.005897352659956,1.0059386571559032,1.0059800679261175,1.0060215293285841,1.0060631430720517,1.0061048542365838,1.0061465617783398,1.0061883487831538,1.0062302308105633,1.0062721699402375,1.0063140980322485,1.0063559995382767,1.0063979298139547,1.0064399134529929,1.0064820800884693,1.0065243543192346,1.0065666426761606,1.0066089408775463,1.0066513152675702,1.0066937133675145,1.0067361211955659,1.0067785360519281,1.0068209516191908,1.0068633660313504,1.0069057992430748,1.006948238365005,1.006990752795691,1.0070332833200453,1.0070758165067162,1.0071183647690203,1.0071609350356807,1.007203551156876,1.0072462306808478,1.0072890443149822,1.007331925413801,1.0073748404015288,1.0074177841977723,1.007460728716764,1.0075036779976663,1.0075466187160322,1.0075896742912327,1.007632799565982,1.007675960497446,1.0077191173269031,1.0077623010978363,1.007805544910466,1.0078489054027817,1.0078923369563935,1.0079359414889149,1.0079795570599306,1.008023208505597,1.0080668733070932,1.0081105407328455,1.0081542106380914,1.0081978911029388,1.0082416111993555,1.0082853111366037,1.0083290219881764,1.0083727725748195,1.0084165625102146,1.0084603535328698,1.0085041630134135,1.008547960441104,1.0085917342980812,1.0086356104144676,1.008679570634532,1.0087235331757003,1.0087675347370118,1.0088115538362803,1.0088555901657008,1.0088996320747408,1.0089436841642916,1.0089877456973275,1.0090318037402777,1.0090759191284993,1.009120049066612,1.0091642233098166,1.009208392239916,1.0092525561640788,1.0092967516774853,1.0093410209527045,1.0093853291764936,1.0094296995154595,1.0094741356172632,1.0095186373244065,1.00956319543907,1.0096077673871402,1.0096523428970625,1.0096969265454097],\"type\":\"scatter\",\"xaxis\":\"x3\",\"yaxis\":\"y3\"},{\"line\":{\"color\":\"#54f542\",\"simplify\":true,\"width\":2},\"mode\":\"lines\",\"name\":\"E_coli_active\",\"opacity\":1,\"x\":[0.0,0.4819277108433735,0.963855421686747,1.4457831325301205,1.927710843373494,2.4096385542168672,2.891566265060241,3.3734939759036147,3.855421686746988,4.337349397590361,4.8192771084337345,5.301204819277109,5.783132530120482,6.265060240963855,6.746987951807229,7.228915662650603,7.710843373493976,8.19277108433735,8.674698795180722,9.156626506024097,9.638554216867469,10.120481927710843,10.602409638554217,11.08433734939759,11.566265060240964,12.048192771084338,12.53012048192771,13.012048192771084,13.493975903614459,13.975903614457831,14.457831325301205,14.939759036144578,15.421686746987952,15.903614457831326,16.3855421686747,16.867469879518072,17.349397590361445,17.83132530120482,18.313253012048193,18.795180722891565,19.277108433734938,19.759036144578314,20.240963855421686,20.72289156626506,21.204819277108435,21.686746987951807,22.16867469879518,22.650602409638555,23.132530120481928,23.6144578313253,24.096385542168676,24.57831325301205,25.06024096385542,25.542168674698797,26.02409638554217,26.50602409638554,26.987951807228917,27.46987951807229,27.951807228915662,28.433734939759034,28.91566265060241,29.397590361445783,29.879518072289155,30.36144578313253,30.843373493975903,31.325301204819276,31.80722891566265,32.28915662650602,32.7710843373494,33.25301204819277,33.734939759036145,34.21686746987952,34.69879518072289,35.18072289156626,35.66265060240964,36.144578313253014,36.626506024096386,37.10843373493976,37.59036144578313,38.0722891566265,38.554216867469876,39.036144578313255,39.51807228915663,40.0,40.48192771084337,40.963855421686745,41.44578313253012,41.9277108433735,42.40963855421687,42.89156626506024,43.373493975903614,43.855421686746986,44.33734939759036,44.81927710843374,45.30120481927711,45.78313253012048,46.265060240963855,46.74698795180723,47.2289156626506,47.71084337349397,48.19277108433735,48.674698795180724,49.1566265060241,49.63855421686747,50.12048192771084,50.602409638554214,51.08433734939759,51.566265060240966,52.04819277108434,52.53012048192771,53.01204819277108,53.493975903614455,53.975903614457835,54.45783132530121,54.93975903614458,55.42168674698795,55.903614457831324,56.3855421686747,56.86746987951807,57.34939759036145,57.83132530120482,58.31325301204819,58.795180722891565,59.27710843373494,59.75903614457831,60.24096385542169,60.72289156626506,61.204819277108435,61.68674698795181,62.16867469879518,62.65060240963855,63.132530120481924,63.6144578313253,64.09638554216868,64.57831325301204,65.06024096385542,65.5421686746988,66.02409638554217,66.50602409638554,66.98795180722891,67.46987951807229,67.95180722891567,68.43373493975903,68.91566265060241,69.39759036144578,69.87951807228916,70.36144578313252,70.8433734939759,71.32530120481928,71.80722891566265,72.28915662650603,72.7710843373494,73.25301204819277,73.73493975903614,74.21686746987952,74.6987951807229,75.18072289156626,75.66265060240964,76.144578313253,76.62650602409639,77.10843373493975,77.59036144578313,78.07228915662651,78.55421686746988,79.03614457831326,79.51807228915662,80.0,80.48192771084338,80.96385542168674,81.44578313253012,81.92771084337349,82.40963855421687,82.89156626506023,83.37349397590361,83.855421686747,84.33734939759036,84.81927710843374,85.3012048192771,85.78313253012048,86.26506024096385,86.74698795180723,87.2289156626506,87.71084337349397,88.19277108433735,88.67469879518072,89.1566265060241,89.63855421686748,90.12048192771084,90.60240963855422,91.08433734939759,91.56626506024097,92.04819277108433,92.53012048192771,93.01204819277109,93.49397590361446,93.97590361445783,94.4578313253012,94.93975903614458,95.42168674698794,95.90361445783132,96.3855421686747,96.86746987951807,97.34939759036145,97.83132530120481,98.3132530120482,98.79518072289157,99.27710843373494,99.75903614457832,100.24096385542168,100.72289156626506,101.20481927710843,101.6867469879518,102.16867469879519,102.65060240963855,103.13253012048193,103.6144578313253,104.09638554216868,104.57831325301204,105.06024096385542,105.5421686746988,106.02409638554217,106.50602409638554,106.98795180722891,107.46987951807229,107.95180722891567,108.43373493975903,108.91566265060241,109.39759036144578,109.87951807228916,110.36144578313252,110.8433734939759,111.32530120481928,111.80722891566265,112.28915662650603,112.7710843373494,113.25301204819277,113.73493975903614,114.21686746987952,114.6987951807229,115.18072289156626,115.66265060240964,116.144578313253,116.62650602409639,117.10843373493975,117.59036144578313,118.07228915662651,118.55421686746988,119.03614457831326,119.51807228915662,120.0],\"y\":[2.0,2.2364441211943555,2.5426180286116202,2.922190126871265,3.3870409879317256,3.94312883795464,4.5946463170640115,5.3400724607591314,6.1538943599759115,6.99123907927912,7.763750749601598,8.52360454415465,9.15828035941125,9.727993009820397,10.245287399049392,10.781384434875925,11.294990311394475,11.800926415283307,12.296078670523785,12.822280699549587,13.340633041914877,13.78560299317569,14.138887633699792,14.410147211311624,14.62521463559409,14.767992545087008,14.881723132284737,14.925727397697322,14.953516601535188,15.017414880842555,15.13525626290132,15.176553096264126,15.171699450407722,15.182945623375975,15.179574523055848,15.18849586978222,15.210327289000205,15.250352362955695,15.265912188334957,15.290240799937319,15.318094011024975,15.353878687395085,15.389581896350075,15.40707903929185,15.402521069470172,15.399532010297492,15.432962153233131,15.455015469567675,15.48686950206763,15.510159509172107,15.599842519447728,15.736398147833683,15.779019110549164,15.810147474575889,15.85107669031201,15.935495748861475,15.973142853551037,15.99352336817659,16.01783872746374,16.044638537870014,16.052676778489175,16.04774040146941,16.074009639550518,16.074051441732994,16.11480019192542,16.106279943790533,16.141540982435437,16.19143102908791,16.21277750620591,16.29667111011735,16.33020522467276,16.349312074484846,16.381533454153733,16.393671138569577,16.41350363163579,16.432274153104846,16.43668866438471,16.479994613379045,16.522900995749893,16.562723126009633,16.596371419513602,16.631697481390475,16.624663221318905,16.669271675271382,16.678174660336317,16.707221337543043,16.712405316681686,16.716961151594223,16.72613060742967,16.739342707219546,16.70789827317318,16.70878952566251,16.862500860983346,16.898465944422824,16.971936270381647,17.021381646106736,17.103855418078588,17.145990258120953,17.148187042135305,17.15745850513067,17.205355846675936,17.22386547407715,17.22701560960805,17.245091159265066,17.282717829494068,17.319393562360467,17.381488958487015,17.411926519821513,17.44548359013605,17.47956508948827,17.525021053785707,17.53631562672286,17.543917994297086,17.56010824437542,17.58452406287163,17.541058076724568,17.549849488108,17.59755507518506,17.612300926503973,17.670649698713927,17.671429089232998,17.69765599148245,17.695267999138597,17.816187944922447,17.841818792764975,17.89743036063599,17.907946293287203,17.941193604127445,17.972531497210433,18.045008482864205,18.09604832539155,18.097832675005165,18.095270400765102,18.107359709712256,18.14247860831086,18.157632365672097,18.178977300479605,18.19182269979364,18.218678496651947,18.241109957201612,18.26598114814891,18.291646330196098,18.328773735781844,18.35549651504423,18.400106980361215,18.407734474705414,18.448807117773562,18.487587331582773,18.49751277869317,18.47131888222524,18.67291516837594,18.742712642982422,18.767654737724456,18.807941936519292,18.821813447092627,18.861996804892115,18.860819402684342,18.863561340545616,18.883853216212962,18.882487453483122,18.9125678683072,18.941251993373438,18.972117957152477,19.006070272287204,19.054118184591076,19.16235230389334,19.16337781416067,19.164039648515693,19.190681202202324,19.26765564029214,19.273115775777914,19.44002720090574,19.477361061142325,19.534798132347305,19.570700770355227,19.63475760480798,19.64934146433915,19.63940908782955,19.6806557191211,19.709894584292336,19.71108093880587,19.812541731769777,19.863956126844833,19.90849368340664,19.939481424203873,19.945987277824493,19.98715577499125,20.029557922083885,20.041170598954796,20.045012098946756,20.071728704554566,20.10081073753355,20.141391417312143,20.2298707702911,20.312867439227183,20.329697526724125,20.44378859312337,20.479200837228305,20.480041755373534,20.50197812326561,20.614991832549556,20.671139425977273,20.712763347453976,20.722200752555366,20.714027716690445,20.73927395509055,20.7087659861246,20.707415428366062,20.74821529305603,20.76618886974132,20.787524899020166,20.812888080963155,20.803180469576827,20.80132367004121,20.79821410023324,20.81209271742702,20.82045900503237,20.8182119788071,20.84584786175286,20.864877322004435,20.899972386551383,20.903651994331373,20.910695248481588,20.916330258455886,20.983048635860477,21.021398365831573,21.028788271812836,21.00526434840035,21.038597920969554,21.028652595022407,21.03011807540448,21.094118393514783,21.107634838793782,21.1602143387816,21.197737454250365,21.21316146195231,21.219975109547107,21.23188625486143,21.23338239519219,21.272669466389207,21.301766661648976,21.31668126941493,21.333702354754166,21.378821787058527,21.40080976528062,21.436194030620317,21.44490666855838,21.45890143805144,21.452518496030073,21.48886909827994],\"type\":\"scatter\",\"xaxis\":\"x4\",\"yaxis\":\"y4\"},{\"line\":{\"color\":\"#54f542\",\"simplify\":true,\"width\":2},\"mode\":\"lines\",\"name\":\"E_coli_inactive\",\"opacity\":0.1,\"x\":[0.0,0.4819277108433735,0.963855421686747,1.4457831325301205,1.927710843373494,2.4096385542168672,2.891566265060241,3.3734939759036147,3.855421686746988,4.337349397590361,4.8192771084337345,5.301204819277109,5.783132530120482,6.265060240963855,6.746987951807229,7.228915662650603,7.710843373493976,8.19277108433735,8.674698795180722,9.156626506024097,9.638554216867469,10.120481927710843,10.602409638554217,11.08433734939759,11.566265060240964,12.048192771084338,12.53012048192771,13.012048192771084,13.493975903614459,13.975903614457831,14.457831325301205,14.939759036144578,15.421686746987952,15.903614457831326,16.3855421686747,16.867469879518072,17.349397590361445,17.83132530120482,18.313253012048193,18.795180722891565,19.277108433734938,19.759036144578314,20.240963855421686,20.72289156626506,21.204819277108435,21.686746987951807,22.16867469879518,22.650602409638555,23.132530120481928,23.6144578313253,24.096385542168676,24.57831325301205,25.06024096385542,25.542168674698797,26.02409638554217,26.50602409638554,26.987951807228917,27.46987951807229,27.951807228915662,28.433734939759034,28.91566265060241,29.397590361445783,29.879518072289155,30.36144578313253,30.843373493975903,31.325301204819276,31.80722891566265,32.28915662650602,32.7710843373494,33.25301204819277,33.734939759036145,34.21686746987952,34.69879518072289,35.18072289156626,35.66265060240964,36.144578313253014,36.626506024096386,37.10843373493976,37.59036144578313,38.0722891566265,38.554216867469876,39.036144578313255,39.51807228915663,40.0,40.48192771084337,40.963855421686745,41.44578313253012,41.9277108433735,42.40963855421687,42.89156626506024,43.373493975903614,43.855421686746986,44.33734939759036,44.81927710843374,45.30120481927711,45.78313253012048,46.265060240963855,46.74698795180723,47.2289156626506,47.71084337349397,48.19277108433735,48.674698795180724,49.1566265060241,49.63855421686747,50.12048192771084,50.602409638554214,51.08433734939759,51.566265060240966,52.04819277108434,52.53012048192771,53.01204819277108,53.493975903614455,53.975903614457835,54.45783132530121,54.93975903614458,55.42168674698795,55.903614457831324,56.3855421686747,56.86746987951807,57.34939759036145,57.83132530120482,58.31325301204819,58.795180722891565,59.27710843373494,59.75903614457831,60.24096385542169,60.72289156626506,61.204819277108435,61.68674698795181,62.16867469879518,62.65060240963855,63.132530120481924,63.6144578313253,64.09638554216868,64.57831325301204,65.06024096385542,65.5421686746988,66.02409638554217,66.50602409638554,66.98795180722891,67.46987951807229,67.95180722891567,68.43373493975903,68.91566265060241,69.39759036144578,69.87951807228916,70.36144578313252,70.8433734939759,71.32530120481928,71.80722891566265,72.28915662650603,72.7710843373494,73.25301204819277,73.73493975903614,74.21686746987952,74.6987951807229,75.18072289156626,75.66265060240964,76.144578313253,76.62650602409639,77.10843373493975,77.59036144578313,78.07228915662651,78.55421686746988,79.03614457831326,79.51807228915662,80.0,80.48192771084338,80.96385542168674,81.44578313253012,81.92771084337349,82.40963855421687,82.89156626506023,83.37349397590361,83.855421686747,84.33734939759036,84.81927710843374,85.3012048192771,85.78313253012048,86.26506024096385,86.74698795180723,87.2289156626506,87.71084337349397,88.19277108433735,88.67469879518072,89.1566265060241,89.63855421686748,90.12048192771084,90.60240963855422,91.08433734939759,91.56626506024097,92.04819277108433,92.53012048192771,93.01204819277109,93.49397590361446,93.97590361445783,94.4578313253012,94.93975903614458,95.42168674698794,95.90361445783132,96.3855421686747,96.86746987951807,97.34939759036145,97.83132530120481,98.3132530120482,98.79518072289157,99.27710843373494,99.75903614457832,100.24096385542168,100.72289156626506,101.20481927710843,101.6867469879518,102.16867469879519,102.65060240963855,103.13253012048193,103.6144578313253,104.09638554216868,104.57831325301204,105.06024096385542,105.5421686746988,106.02409638554217,106.50602409638554,106.98795180722891,107.46987951807229,107.95180722891567,108.43373493975903,108.91566265060241,109.39759036144578,109.87951807228916,110.36144578313252,110.8433734939759,111.32530120481928,111.80722891566265,112.28915662650603,112.7710843373494,113.25301204819277,113.73493975903614,114.21686746987952,114.6987951807229,115.18072289156626,115.66265060240964,116.144578313253,116.62650602409639,117.10843373493975,117.59036144578313,118.07228915662651,118.55421686746988,119.03614457831326,119.51807228915662,120.0],\"y\":[1.0,1.000005396622163,1.0000119990206258,1.000020058218079,1.000029866064233,1.000041742234435,1.0000560243953833,1.0000730676325622,1.0000931571564746,1.0001164033459125,1.000142570709103,1.0001712741535453,1.0002020745477966,1.00023430482766,1.0002675219228083,1.0003014483065353,1.0003359346171197,1.0003707404924351,1.0004056585566463,1.0004406515841457,1.0004758582912083,1.000511237879098,1.000546770138325,1.0005823769353612,1.0006181069441142,1.0006540068703607,1.0006900467675381,1.0007261490933494,1.000762273764857,1.000798498458174,1.0008348151653985,1.0008711325823305,1.000907433530081,1.0009437014001374,1.0009799739169525,1.0010161959736255,1.0010524398985197,1.001088662486356,1.0011249057593472,1.0011611121520572,1.0011973544831207,1.0012337154661615,1.0012701385289202,1.0013065710081048,1.0013430087934598,1.0013793654767513,1.0014157479129566,1.0014521664832854,1.0014886256811464,1.0015251416452762,1.001561694357693,1.0015981974879211,1.0016346921554005,1.0016712098955447,1.0017077356657857,1.0017443484581685,1.0017811275505293,1.0018179970613232,1.001854865518163,1.0018918128742014,1.001928810882773,1.0019658084264602,1.0020028319880332,1.002039886494758,1.002076976551784,1.002114107707401,1.0021512087628444,1.0021883278473436,1.002225487925084,1.0022626539115576,1.0022998420590707,1.0023370331719044,1.0023743108564933,1.0024116196610686,1.0024489296202215,1.002486227083028,1.0025235625074305,1.0025609939711477,1.002598564863347,1.0026362255262449,1.0026740116837454,1.0027118605294414,1.0027497166907788,1.0027876772956401,1.0028257701051695,1.0028638594833412,1.0029019745995054,1.0029401000201064,1.002978249887999,1.003016441889962,1.003054616939933,1.0030927685277315,1.0031309218471869,1.0031691047015092,1.0032073779093642,1.0032458971337463,1.0032845227753995,1.0033232365615843,1.003361978996646,1.003400702123469,1.0034394716890327,1.0034783952947501,1.0035173685842154,1.0035563331565331,1.0035953013088936,1.0036343797204037,1.0036735560961108,1.0037127974159354,1.003752125868257,1.003791580458678,1.0038311362585943,1.003870757579239,1.0039103917757506,1.003950041081605,1.0039897178540835,1.0040293731457017,1.0040689799920206,1.0041086502426049,1.0041484496589363,1.0041883574226407,1.0042283643961307,1.0042683733256585,1.0043083887836004,1.0043484143108992,1.0043884895640418,1.0044286114042522,1.0044688952188086,1.0045092004747223,1.0045495737699082,1.004589972007631,1.004630397319139,1.0046708353183533,1.0047112830371083,1.0047517278394342,1.0047922617360006,1.0048328736956718,1.004873487576723,1.0049141329965923,1.0049547851078038,1.0049954348274894,1.0050360853527625,1.005076736319162,1.0051174519918158,1.0051582209315386,1.0051990169449954,1.005239831237819,1.0052806686330746,1.0053216339265458,1.0053626904812465,1.0054037512951122,1.0054448109221183,1.005485894267543,1.0055269757158025,1.00556808958582,1.0056092357332689,1.0056503686136662,1.00569152420347,1.0057326475456638,1.0057737800840711,1.0058149254122246,1.005856121812628,1.005897352659956,1.0059386571559032,1.0059800679261175,1.0060215293285841,1.0060631430720517,1.0061048542365838,1.0061465617783398,1.0061883487831538,1.0062302308105633,1.0062721699402375,1.0063140980322485,1.0063559995382767,1.0063979298139547,1.0064399134529929,1.0064820800884693,1.0065243543192346,1.0065666426761606,1.0066089408775463,1.0066513152675702,1.0066937133675145,1.0067361211955659,1.0067785360519281,1.0068209516191908,1.0068633660313504,1.0069057992430748,1.006948238365005,1.006990752795691,1.0070332833200453,1.0070758165067162,1.0071183647690203,1.0071609350356807,1.007203551156876,1.0072462306808478,1.0072890443149822,1.007331925413801,1.0073748404015288,1.0074177841977723,1.007460728716764,1.0075036779976663,1.0075466187160322,1.0075896742912327,1.007632799565982,1.007675960497446,1.0077191173269031,1.0077623010978363,1.007805544910466,1.0078489054027817,1.0078923369563935,1.0079359414889149,1.0079795570599306,1.008023208505597,1.0080668733070932,1.0081105407328455,1.0081542106380914,1.0081978911029388,1.0082416111993555,1.0082853111366037,1.0083290219881764,1.0083727725748195,1.0084165625102146,1.0084603535328698,1.0085041630134135,1.008547960441104,1.0085917342980812,1.0086356104144676,1.008679570634532,1.0087235331757003,1.0087675347370118,1.0088115538362803,1.0088555901657008,1.0088996320747408,1.0089436841642916,1.0089877456973275,1.0090318037402777,1.0090759191284993,1.009120049066612,1.0091642233098166,1.009208392239916,1.0092525561640788,1.0092967516774853,1.0093410209527045,1.0093853291764936,1.0094296995154595,1.0094741356172632,1.0095186373244065,1.00956319543907,1.0096077673871402,1.0096523428970625,1.0096969265454097],\"type\":\"scatter\",\"xaxis\":\"x4\",\"yaxis\":\"y4\"},{\"line\":{\"color\":\"#54f542\",\"simplify\":true,\"width\":2},\"mode\":\"lines\",\"name\":\"E_coli_dead\",\"opacity\":0.1,\"x\":[0.0,0.4819277108433735,0.963855421686747,1.4457831325301205,1.927710843373494,2.4096385542168672,2.891566265060241,3.3734939759036147,3.855421686746988,4.337349397590361,4.8192771084337345,5.301204819277109,5.783132530120482,6.265060240963855,6.746987951807229,7.228915662650603,7.710843373493976,8.19277108433735,8.674698795180722,9.156626506024097,9.638554216867469,10.120481927710843,10.602409638554217,11.08433734939759,11.566265060240964,12.048192771084338,12.53012048192771,13.012048192771084,13.493975903614459,13.975903614457831,14.457831325301205,14.939759036144578,15.421686746987952,15.903614457831326,16.3855421686747,16.867469879518072,17.349397590361445,17.83132530120482,18.313253012048193,18.795180722891565,19.277108433734938,19.759036144578314,20.240963855421686,20.72289156626506,21.204819277108435,21.686746987951807,22.16867469879518,22.650602409638555,23.132530120481928,23.6144578313253,24.096385542168676,24.57831325301205,25.06024096385542,25.542168674698797,26.02409638554217,26.50602409638554,26.987951807228917,27.46987951807229,27.951807228915662,28.433734939759034,28.91566265060241,29.397590361445783,29.879518072289155,30.36144578313253,30.843373493975903,31.325301204819276,31.80722891566265,32.28915662650602,32.7710843373494,33.25301204819277,33.734939759036145,34.21686746987952,34.69879518072289,35.18072289156626,35.66265060240964,36.144578313253014,36.626506024096386,37.10843373493976,37.59036144578313,38.0722891566265,38.554216867469876,39.036144578313255,39.51807228915663,40.0,40.48192771084337,40.963855421686745,41.44578313253012,41.9277108433735,42.40963855421687,42.89156626506024,43.373493975903614,43.855421686746986,44.33734939759036,44.81927710843374,45.30120481927711,45.78313253012048,46.265060240963855,46.74698795180723,47.2289156626506,47.71084337349397,48.19277108433735,48.674698795180724,49.1566265060241,49.63855421686747,50.12048192771084,50.602409638554214,51.08433734939759,51.566265060240966,52.04819277108434,52.53012048192771,53.01204819277108,53.493975903614455,53.975903614457835,54.45783132530121,54.93975903614458,55.42168674698795,55.903614457831324,56.3855421686747,56.86746987951807,57.34939759036145,57.83132530120482,58.31325301204819,58.795180722891565,59.27710843373494,59.75903614457831,60.24096385542169,60.72289156626506,61.204819277108435,61.68674698795181,62.16867469879518,62.65060240963855,63.132530120481924,63.6144578313253,64.09638554216868,64.57831325301204,65.06024096385542,65.5421686746988,66.02409638554217,66.50602409638554,66.98795180722891,67.46987951807229,67.95180722891567,68.43373493975903,68.91566265060241,69.39759036144578,69.87951807228916,70.36144578313252,70.8433734939759,71.32530120481928,71.80722891566265,72.28915662650603,72.7710843373494,73.25301204819277,73.73493975903614,74.21686746987952,74.6987951807229,75.18072289156626,75.66265060240964,76.144578313253,76.62650602409639,77.10843373493975,77.59036144578313,78.07228915662651,78.55421686746988,79.03614457831326,79.51807228915662,80.0,80.48192771084338,80.96385542168674,81.44578313253012,81.92771084337349,82.40963855421687,82.89156626506023,83.37349397590361,83.855421686747,84.33734939759036,84.81927710843374,85.3012048192771,85.78313253012048,86.26506024096385,86.74698795180723,87.2289156626506,87.71084337349397,88.19277108433735,88.67469879518072,89.1566265060241,89.63855421686748,90.12048192771084,90.60240963855422,91.08433734939759,91.56626506024097,92.04819277108433,92.53012048192771,93.01204819277109,93.49397590361446,93.97590361445783,94.4578313253012,94.93975903614458,95.42168674698794,95.90361445783132,96.3855421686747,96.86746987951807,97.34939759036145,97.83132530120481,98.3132530120482,98.79518072289157,99.27710843373494,99.75903614457832,100.24096385542168,100.72289156626506,101.20481927710843,101.6867469879518,102.16867469879519,102.65060240963855,103.13253012048193,103.6144578313253,104.09638554216868,104.57831325301204,105.06024096385542,105.5421686746988,106.02409638554217,106.50602409638554,106.98795180722891,107.46987951807229,107.95180722891567,108.43373493975903,108.91566265060241,109.39759036144578,109.87951807228916,110.36144578313252,110.8433734939759,111.32530120481928,111.80722891566265,112.28915662650603,112.7710843373494,113.25301204819277,113.73493975903614,114.21686746987952,114.6987951807229,115.18072289156626,115.66265060240964,116.144578313253,116.62650602409639,117.10843373493975,117.59036144578313,118.07228915662651,118.55421686746988,119.03614457831326,119.51807228915662,120.0],\"y\":[0.0,0.0,0.0,0.0,0.0,0.0,0.0,0.0,0.0,0.0,0.0,0.0,0.0,0.0,0.0,0.0,0.0,0.0,0.0,0.0,0.0,0.0,0.0,0.0,0.0,0.0,0.0,0.0,0.0,0.0,0.0,0.0,0.0,0.0,0.0,0.0,0.0,0.0,0.0,0.0,0.0,0.0,0.0,0.0,0.0,0.0,0.0,0.0,0.0,0.0,0.0,0.0,0.0,0.0,0.0,0.0,0.0,0.0,0.0,0.0,0.0,0.0,0.0,0.0,0.0,0.0,0.0,0.0,0.0,0.0,0.0,0.0,0.0,0.0,0.0,0.0,0.0,0.0,0.0,0.0,0.0,0.0,0.0,0.0,0.0,0.0,0.0,0.0,0.0,0.0,0.0,0.0,0.0,0.0,0.0,0.0,0.0,0.0,0.0,0.0,0.0,0.0,0.0,0.0,0.0,0.0,0.0,0.0,0.0,0.0,0.0,0.0,0.0,0.0,0.0,0.0,0.0,0.0,0.0,0.0,0.0,0.0,0.0,0.0,0.0,0.0,0.0,0.0,0.0,0.0,0.0,0.0,0.0,0.0,0.0,0.0,0.0,0.0,0.0,0.0,0.0,0.0,0.0,0.0,0.0,0.0,0.0,0.0,0.0,0.0,0.0,0.0,0.0,0.0,0.0,0.0,0.0,0.0,0.0,0.0,0.0,0.0,0.0,0.0,0.0,0.0,0.0,0.0,0.0,0.0,0.0,0.0,0.0,0.0,0.0,0.0,0.0,0.0,0.0,0.0,0.0,0.0,0.0,0.0,0.0,0.0,0.0,0.0,0.0,0.0,0.0,0.0,0.0,0.0,0.0,0.0,0.0,0.0,0.0,0.0,0.0,0.0,0.0,0.0,0.0,0.0,0.0,0.0,0.0,0.0,0.0,0.0,0.0,0.0,0.0,0.0,0.0,0.0,0.0,0.0,0.0,0.0,0.0,0.0,0.0,0.0,0.0,0.0,0.0,0.0,0.0,0.0,0.0,0.0,0.0,0.0,0.0,0.0,0.0,0.0,0.0,0.0,0.0,0.0,0.0,0.0,0.0,0.0,0.0,0.0],\"type\":\"scatter\",\"xaxis\":\"x4\",\"yaxis\":\"y4\"}],                        {\"template\":{\"data\":{\"histogram2dcontour\":[{\"type\":\"histogram2dcontour\",\"colorbar\":{\"outlinewidth\":0,\"ticks\":\"\"},\"colorscale\":[[0.0,\"#0d0887\"],[0.1111111111111111,\"#46039f\"],[0.2222222222222222,\"#7201a8\"],[0.3333333333333333,\"#9c179e\"],[0.4444444444444444,\"#bd3786\"],[0.5555555555555556,\"#d8576b\"],[0.6666666666666666,\"#ed7953\"],[0.7777777777777778,\"#fb9f3a\"],[0.8888888888888888,\"#fdca26\"],[1.0,\"#f0f921\"]]}],\"choropleth\":[{\"type\":\"choropleth\",\"colorbar\":{\"outlinewidth\":0,\"ticks\":\"\"}}],\"histogram2d\":[{\"type\":\"histogram2d\",\"colorbar\":{\"outlinewidth\":0,\"ticks\":\"\"},\"colorscale\":[[0.0,\"#0d0887\"],[0.1111111111111111,\"#46039f\"],[0.2222222222222222,\"#7201a8\"],[0.3333333333333333,\"#9c179e\"],[0.4444444444444444,\"#bd3786\"],[0.5555555555555556,\"#d8576b\"],[0.6666666666666666,\"#ed7953\"],[0.7777777777777778,\"#fb9f3a\"],[0.8888888888888888,\"#fdca26\"],[1.0,\"#f0f921\"]]}],\"heatmap\":[{\"type\":\"heatmap\",\"colorbar\":{\"outlinewidth\":0,\"ticks\":\"\"},\"colorscale\":[[0.0,\"#0d0887\"],[0.1111111111111111,\"#46039f\"],[0.2222222222222222,\"#7201a8\"],[0.3333333333333333,\"#9c179e\"],[0.4444444444444444,\"#bd3786\"],[0.5555555555555556,\"#d8576b\"],[0.6666666666666666,\"#ed7953\"],[0.7777777777777778,\"#fb9f3a\"],[0.8888888888888888,\"#fdca26\"],[1.0,\"#f0f921\"]]}],\"heatmapgl\":[{\"type\":\"heatmapgl\",\"colorbar\":{\"outlinewidth\":0,\"ticks\":\"\"},\"colorscale\":[[0.0,\"#0d0887\"],[0.1111111111111111,\"#46039f\"],[0.2222222222222222,\"#7201a8\"],[0.3333333333333333,\"#9c179e\"],[0.4444444444444444,\"#bd3786\"],[0.5555555555555556,\"#d8576b\"],[0.6666666666666666,\"#ed7953\"],[0.7777777777777778,\"#fb9f3a\"],[0.8888888888888888,\"#fdca26\"],[1.0,\"#f0f921\"]]}],\"contourcarpet\":[{\"type\":\"contourcarpet\",\"colorbar\":{\"outlinewidth\":0,\"ticks\":\"\"}}],\"contour\":[{\"type\":\"contour\",\"colorbar\":{\"outlinewidth\":0,\"ticks\":\"\"},\"colorscale\":[[0.0,\"#0d0887\"],[0.1111111111111111,\"#46039f\"],[0.2222222222222222,\"#7201a8\"],[0.3333333333333333,\"#9c179e\"],[0.4444444444444444,\"#bd3786\"],[0.5555555555555556,\"#d8576b\"],[0.6666666666666666,\"#ed7953\"],[0.7777777777777778,\"#fb9f3a\"],[0.8888888888888888,\"#fdca26\"],[1.0,\"#f0f921\"]]}],\"surface\":[{\"type\":\"surface\",\"colorbar\":{\"outlinewidth\":0,\"ticks\":\"\"},\"colorscale\":[[0.0,\"#0d0887\"],[0.1111111111111111,\"#46039f\"],[0.2222222222222222,\"#7201a8\"],[0.3333333333333333,\"#9c179e\"],[0.4444444444444444,\"#bd3786\"],[0.5555555555555556,\"#d8576b\"],[0.6666666666666666,\"#ed7953\"],[0.7777777777777778,\"#fb9f3a\"],[0.8888888888888888,\"#fdca26\"],[1.0,\"#f0f921\"]]}],\"mesh3d\":[{\"type\":\"mesh3d\",\"colorbar\":{\"outlinewidth\":0,\"ticks\":\"\"}}],\"scatter\":[{\"fillpattern\":{\"fillmode\":\"overlay\",\"size\":10,\"solidity\":0.2},\"type\":\"scatter\"}],\"parcoords\":[{\"type\":\"parcoords\",\"line\":{\"colorbar\":{\"outlinewidth\":0,\"ticks\":\"\"}}}],\"scatterpolargl\":[{\"type\":\"scatterpolargl\",\"marker\":{\"colorbar\":{\"outlinewidth\":0,\"ticks\":\"\"}}}],\"bar\":[{\"error_x\":{\"color\":\"#2a3f5f\"},\"error_y\":{\"color\":\"#2a3f5f\"},\"marker\":{\"line\":{\"color\":\"#E5ECF6\",\"width\":0.5},\"pattern\":{\"fillmode\":\"overlay\",\"size\":10,\"solidity\":0.2}},\"type\":\"bar\"}],\"scattergeo\":[{\"type\":\"scattergeo\",\"marker\":{\"colorbar\":{\"outlinewidth\":0,\"ticks\":\"\"}}}],\"scatterpolar\":[{\"type\":\"scatterpolar\",\"marker\":{\"colorbar\":{\"outlinewidth\":0,\"ticks\":\"\"}}}],\"histogram\":[{\"marker\":{\"pattern\":{\"fillmode\":\"overlay\",\"size\":10,\"solidity\":0.2}},\"type\":\"histogram\"}],\"scattergl\":[{\"type\":\"scattergl\",\"marker\":{\"colorbar\":{\"outlinewidth\":0,\"ticks\":\"\"}}}],\"scatter3d\":[{\"type\":\"scatter3d\",\"line\":{\"colorbar\":{\"outlinewidth\":0,\"ticks\":\"\"}},\"marker\":{\"colorbar\":{\"outlinewidth\":0,\"ticks\":\"\"}}}],\"scattermapbox\":[{\"type\":\"scattermapbox\",\"marker\":{\"colorbar\":{\"outlinewidth\":0,\"ticks\":\"\"}}}],\"scatterternary\":[{\"type\":\"scatterternary\",\"marker\":{\"colorbar\":{\"outlinewidth\":0,\"ticks\":\"\"}}}],\"scattercarpet\":[{\"type\":\"scattercarpet\",\"marker\":{\"colorbar\":{\"outlinewidth\":0,\"ticks\":\"\"}}}],\"carpet\":[{\"aaxis\":{\"endlinecolor\":\"#2a3f5f\",\"gridcolor\":\"white\",\"linecolor\":\"white\",\"minorgridcolor\":\"white\",\"startlinecolor\":\"#2a3f5f\"},\"baxis\":{\"endlinecolor\":\"#2a3f5f\",\"gridcolor\":\"white\",\"linecolor\":\"white\",\"minorgridcolor\":\"white\",\"startlinecolor\":\"#2a3f5f\"},\"type\":\"carpet\"}],\"table\":[{\"cells\":{\"fill\":{\"color\":\"#EBF0F8\"},\"line\":{\"color\":\"white\"}},\"header\":{\"fill\":{\"color\":\"#C8D4E3\"},\"line\":{\"color\":\"white\"}},\"type\":\"table\"}],\"barpolar\":[{\"marker\":{\"line\":{\"color\":\"#E5ECF6\",\"width\":0.5},\"pattern\":{\"fillmode\":\"overlay\",\"size\":10,\"solidity\":0.2}},\"type\":\"barpolar\"}],\"pie\":[{\"automargin\":true,\"type\":\"pie\"}]},\"layout\":{\"autotypenumbers\":\"strict\",\"colorway\":[\"#636efa\",\"#EF553B\",\"#00cc96\",\"#ab63fa\",\"#FFA15A\",\"#19d3f3\",\"#FF6692\",\"#B6E880\",\"#FF97FF\",\"#FECB52\"],\"font\":{\"color\":\"#2a3f5f\"},\"hovermode\":\"closest\",\"hoverlabel\":{\"align\":\"left\"},\"paper_bgcolor\":\"white\",\"plot_bgcolor\":\"#E5ECF6\",\"polar\":{\"bgcolor\":\"#E5ECF6\",\"angularaxis\":{\"gridcolor\":\"white\",\"linecolor\":\"white\",\"ticks\":\"\"},\"radialaxis\":{\"gridcolor\":\"white\",\"linecolor\":\"white\",\"ticks\":\"\"}},\"ternary\":{\"bgcolor\":\"#E5ECF6\",\"aaxis\":{\"gridcolor\":\"white\",\"linecolor\":\"white\",\"ticks\":\"\"},\"baxis\":{\"gridcolor\":\"white\",\"linecolor\":\"white\",\"ticks\":\"\"},\"caxis\":{\"gridcolor\":\"white\",\"linecolor\":\"white\",\"ticks\":\"\"}},\"coloraxis\":{\"colorbar\":{\"outlinewidth\":0,\"ticks\":\"\"}},\"colorscale\":{\"sequential\":[[0.0,\"#0d0887\"],[0.1111111111111111,\"#46039f\"],[0.2222222222222222,\"#7201a8\"],[0.3333333333333333,\"#9c179e\"],[0.4444444444444444,\"#bd3786\"],[0.5555555555555556,\"#d8576b\"],[0.6666666666666666,\"#ed7953\"],[0.7777777777777778,\"#fb9f3a\"],[0.8888888888888888,\"#fdca26\"],[1.0,\"#f0f921\"]],\"sequentialminus\":[[0.0,\"#0d0887\"],[0.1111111111111111,\"#46039f\"],[0.2222222222222222,\"#7201a8\"],[0.3333333333333333,\"#9c179e\"],[0.4444444444444444,\"#bd3786\"],[0.5555555555555556,\"#d8576b\"],[0.6666666666666666,\"#ed7953\"],[0.7777777777777778,\"#fb9f3a\"],[0.8888888888888888,\"#fdca26\"],[1.0,\"#f0f921\"]],\"diverging\":[[0,\"#8e0152\"],[0.1,\"#c51b7d\"],[0.2,\"#de77ae\"],[0.3,\"#f1b6da\"],[0.4,\"#fde0ef\"],[0.5,\"#f7f7f7\"],[0.6,\"#e6f5d0\"],[0.7,\"#b8e186\"],[0.8,\"#7fbc41\"],[0.9,\"#4d9221\"],[1,\"#276419\"]]},\"xaxis\":{\"gridcolor\":\"white\",\"linecolor\":\"white\",\"ticks\":\"\",\"title\":{\"standoff\":15},\"zerolinecolor\":\"white\",\"automargin\":true,\"zerolinewidth\":2},\"yaxis\":{\"gridcolor\":\"white\",\"linecolor\":\"white\",\"ticks\":\"\",\"title\":{\"standoff\":15},\"zerolinecolor\":\"white\",\"automargin\":true,\"zerolinewidth\":2},\"scene\":{\"xaxis\":{\"backgroundcolor\":\"#E5ECF6\",\"gridcolor\":\"white\",\"linecolor\":\"white\",\"showbackground\":true,\"ticks\":\"\",\"zerolinecolor\":\"white\",\"gridwidth\":2},\"yaxis\":{\"backgroundcolor\":\"#E5ECF6\",\"gridcolor\":\"white\",\"linecolor\":\"white\",\"showbackground\":true,\"ticks\":\"\",\"zerolinecolor\":\"white\",\"gridwidth\":2},\"zaxis\":{\"backgroundcolor\":\"#E5ECF6\",\"gridcolor\":\"white\",\"linecolor\":\"white\",\"showbackground\":true,\"ticks\":\"\",\"zerolinecolor\":\"white\",\"gridwidth\":2}},\"shapedefaults\":{\"line\":{\"color\":\"#2a3f5f\"}},\"annotationdefaults\":{\"arrowcolor\":\"#2a3f5f\",\"arrowhead\":0,\"arrowwidth\":1},\"geo\":{\"bgcolor\":\"white\",\"landcolor\":\"#E5ECF6\",\"subunitcolor\":\"white\",\"showland\":true,\"showlakes\":true,\"lakecolor\":\"white\"},\"title\":{\"x\":0.05},\"mapbox\":{\"style\":\"light\"}}},\"xaxis\":{\"anchor\":\"y\",\"domain\":[0.0,0.45]},\"yaxis\":{\"anchor\":\"x\",\"domain\":[0.625,1.0]},\"xaxis2\":{\"anchor\":\"y2\",\"domain\":[0.55,1.0]},\"yaxis2\":{\"anchor\":\"x2\",\"domain\":[0.625,1.0]},\"xaxis3\":{\"anchor\":\"y3\",\"domain\":[0.0,0.45]},\"yaxis3\":{\"anchor\":\"x3\",\"domain\":[0.0,0.375]},\"xaxis4\":{\"anchor\":\"y4\",\"domain\":[0.55,1.0]},\"yaxis4\":{\"anchor\":\"x4\",\"domain\":[0.0,0.375]},\"annotations\":[{\"font\":{\"size\":16},\"showarrow\":false,\"text\":\"Metabolites\",\"x\":0.225,\"xanchor\":\"center\",\"xref\":\"paper\",\"y\":1.0,\"yanchor\":\"bottom\",\"yref\":\"paper\"},{\"font\":{\"size\":16},\"showarrow\":false,\"text\":\"pH\",\"x\":0.775,\"xanchor\":\"center\",\"xref\":\"paper\",\"y\":1.0,\"yanchor\":\"bottom\",\"yref\":\"paper\"},{\"font\":{\"size\":16},\"showarrow\":false,\"text\":\"Subpopulations\",\"x\":0.225,\"xanchor\":\"center\",\"xref\":\"paper\",\"y\":0.375,\"yanchor\":\"bottom\",\"yref\":\"paper\"},{\"font\":{\"size\":16},\"showarrow\":false,\"text\":\"Species States\",\"x\":0.775,\"xanchor\":\"center\",\"xref\":\"paper\",\"y\":0.375,\"yanchor\":\"bottom\",\"yref\":\"paper\"}],\"title\":{\"text\":\"Reactor Simulation Results\"},\"height\":800,\"showlegend\":true},                        {\"responsive\": true}                    ).then(function(){\n",
              "                            \n",
              "var gd = document.getElementById('f9edbd17-ea17-4493-be12-b06e8532e132');\n",
              "var x = new MutationObserver(function (mutations, observer) {{\n",
              "        var display = window.getComputedStyle(gd).display;\n",
              "        if (!display || display === 'none') {{\n",
              "            console.log([gd, 'removed!']);\n",
              "            Plotly.purge(gd);\n",
              "            observer.disconnect();\n",
              "        }}\n",
              "}});\n",
              "\n",
              "// Listen for the removal of the full notebook cells\n",
              "var notebookContainer = gd.closest('#notebook-container');\n",
              "if (notebookContainer) {{\n",
              "    x.observe(notebookContainer, {childList: true});\n",
              "}}\n",
              "\n",
              "// Listen for the clearing of the current output cell\n",
              "var outputEl = gd.closest('.output');\n",
              "if (outputEl) {{\n",
              "    x.observe(outputEl, {childList: true});\n",
              "}}\n",
              "\n",
              "                        })                };                            </script>        </div>\n",
              "</body>\n",
              "</html>"
            ]
          },
          "metadata": {}
        }
      ]
    }
  ]
}
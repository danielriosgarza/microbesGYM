{
  "cells": [
    {
      "cell_type": "markdown",
      "id": "3679101f",
      "metadata": {
        "colab_type": "text",
        "id": "view-in-github"
      },
      "source": [
        "<a href=\"https://colab.research.google.com/github/danielriosgarza/AiSchool/blob/main/content/DanielGarza/notebooks/kinetic_model.ipynb\" target=\"_parent\"><img src=\"https://colab.research.google.com/assets/colab-badge.svg\" alt=\"Open In Colab\"/></a>"
      ]
    },
    {
      "cell_type": "code",
      "execution_count": 1,
      "id": "oIVIXbXQuzDw",
      "metadata": {
        "id": "oIVIXbXQuzDw"
      },
      "outputs": [],
      "source": [
        "from google.colab import output\n",
        "output.enable_custom_widget_manager()"
      ]
    },
    {
      "cell_type": "code",
      "execution_count": null,
      "id": "tobDAXt2tz9T",
      "metadata": {
        "colab": {
          "base_uri": "https://localhost:8080/"
        },
        "id": "tobDAXt2tz9T",
        "outputId": "e5b75021-f69c-4193-f3e6-174fe1566b07"
      },
      "outputs": [],
      "source": [
        "!git clone https://github.com/danielriosgarza/AiSchool.git\n",
        "\n",
        "%cd AiSchool/content/DanielGarza/\n",
        "!pip install .[all]"
      ]
    },
    {
      "cell_type": "markdown",
      "id": "d8f6adcf",
      "metadata": {
        "id": "d8f6adcf"
      },
      "source": [
        "# **Kinetic model environment**"
      ]
    },
    {
      "cell_type": "markdown",
      "id": "9b280df2",
      "metadata": {
        "id": "9b280df2"
      },
      "source": [
        "The `kinetic model` environment allows us to simulate microbial communities and their environments using ordinary differential equations.\n",
        "\n",
        "To illustrate how it works, we build a simplified examplt with *E. coli* subpopulations.\n",
        "\n",
        "In this example, there are three subpopulations: two active and one inactive.\n",
        "\n",
        "- **Subpopulation A** consumes glucose and produces acetate (overflow).\n",
        "\n",
        "- **Subpopulation B** consumes acetate and produces CO2. Both subpopulations can transition to the inactive state.\n",
        "\n",
        "\n",
        "<div style=\"height:24px;\"></div>\n",
        "\n",
        "```css\n",
        "Glucose ---> [Subpopulation A] ---> Acetate\n",
        "Acetate ---> [Subpopulation B] ---> CO2\n",
        "\n",
        "[Subpopulation A] ---> [Inactive]\n",
        "[Subpopulation B] ---> [Inactive]\n",
        "```\n",
        "\n",
        "<div style=\"height:24px;\"></div>\n"
      ]
    },
    {
      "cell_type": "markdown",
      "id": "d9dbc4ee",
      "metadata": {
        "id": "d9dbc4ee"
      },
      "source": [
        "#### **Metabolites & Metabolome**"
      ]
    },
    {
      "cell_type": "markdown",
      "id": "a3edd2dc",
      "metadata": {
        "id": "a3edd2dc"
      },
      "source": [
        "First, we create three `Metabolite` objects—glucose, acetate, and CO2—and group them in a `Metabolome`.\n"
      ]
    },
    {
      "cell_type": "code",
      "execution_count": 3,
      "id": "60f193a5",
      "metadata": {
        "id": "60f193a5"
      },
      "outputs": [],
      "source": [
        "#import packages for the model and visualization\n",
        "from kinetic_model import Metabolite, Metabolome\n",
        "from kinetic_model.visualize import GraphSpecBuilder, CytoscapeExporter\n",
        "import json\n",
        "#to make sure plotly renders in the notebook\n",
        "import plotly.io as pio\n",
        "pio.renderers.default = \"colab\"\n",
        "# Display Cytoscape visualization\n",
        "from ipycytoscape import CytoscapeWidget\n",
        "import ipywidgets as widgets\n",
        "\n",
        "\n",
        "\n",
        "#create metabolites\n",
        "glucose = Metabolite(name = \"glucose\", concentration = 5.0, formula ={'C': 6, 'H': 12, 'O': 6}, color = '#ff0000')\n",
        "acetate = Metabolite(name = \"acetate\", concentration = 0.0, formula ={'C': 2, 'H': 4, 'O': 3}, color = '#003eff')\n",
        "co2 = Metabolite(name = \"co2\", concentration = 0.0, formula ={'C': 1, 'O': 2}, color = '#00B8FF')"
      ]
    },
    {
      "cell_type": "code",
      "execution_count": 4,
      "id": "375c805a",
      "metadata": {
        "colab": {
          "base_uri": "https://localhost:8080/",
          "height": 542
        },
        "id": "375c805a",
        "outputId": "9f3d22b7-a311-478f-e8ab-9b641f2be334"
      },
      "outputs": [
        {
          "data": {
            "text/html": [
              "<html>\n",
              "<head><meta charset=\"utf-8\" /></head>\n",
              "<body>\n",
              "    <div>            <script src=\"https://cdnjs.cloudflare.com/ajax/libs/mathjax/2.7.5/MathJax.js?config=TeX-AMS-MML_SVG\"></script><script type=\"text/javascript\">if (window.MathJax && window.MathJax.Hub && window.MathJax.Hub.Config) {window.MathJax.Hub.Config({SVG: {font: \"STIX-Web\"}});}</script>                <script type=\"text/javascript\">window.PlotlyConfig = {MathJaxConfig: 'local'};</script>\n",
              "        <script charset=\"utf-8\" src=\"https://cdn.plot.ly/plotly-2.35.2.min.js\"></script>                <div id=\"17b274df-844f-4ab0-833e-ac6cf868e57c\" class=\"plotly-graph-div\" style=\"height:525px; width:100%;\"></div>            <script type=\"text/javascript\">                                    window.PLOTLYENV=window.PLOTLYENV || {};                                    if (document.getElementById(\"17b274df-844f-4ab0-833e-ac6cf868e57c\")) {                    Plotly.newPlot(                        \"17b274df-844f-4ab0-833e-ac6cf868e57c\",                        [{\"hovertemplate\":\"\\u003cb\\u003eacetate\\u003c\\u002fb\\u003e\\u003cbr\\u003eConcentration: 0.00 mM\\u003cbr\\u003e\\u003cextra\\u003e\\u003c\\u002fextra\\u003e\",\"marker\":{\"color\":\"#003eff\",\"line\":{\"color\":\"black\",\"width\":1.5}},\"name\":\"acetate\",\"showlegend\":true,\"x\":[\"acetate\"],\"y\":[0.0],\"type\":\"bar\"},{\"hovertemplate\":\"\\u003cb\\u003eco2\\u003c\\u002fb\\u003e\\u003cbr\\u003eConcentration: 0.00 mM\\u003cbr\\u003e\\u003cextra\\u003e\\u003c\\u002fextra\\u003e\",\"marker\":{\"color\":\"#00B8FF\",\"line\":{\"color\":\"black\",\"width\":1.5}},\"name\":\"co2\",\"showlegend\":true,\"x\":[\"co2\"],\"y\":[0.0],\"type\":\"bar\"},{\"hovertemplate\":\"\\u003cb\\u003eglucose\\u003c\\u002fb\\u003e\\u003cbr\\u003eConcentration: 5.00 mM\\u003cbr\\u003e\\u003cextra\\u003e\\u003c\\u002fextra\\u003e\",\"marker\":{\"color\":\"#ff0000\",\"line\":{\"color\":\"black\",\"width\":1.5}},\"name\":\"glucose\",\"showlegend\":true,\"x\":[\"glucose\"],\"y\":[5.0],\"type\":\"bar\"}],                        {\"template\":{\"data\":{\"barpolar\":[{\"marker\":{\"line\":{\"color\":\"white\",\"width\":0.5},\"pattern\":{\"fillmode\":\"overlay\",\"size\":10,\"solidity\":0.2}},\"type\":\"barpolar\"}],\"bar\":[{\"error_x\":{\"color\":\"#2a3f5f\"},\"error_y\":{\"color\":\"#2a3f5f\"},\"marker\":{\"line\":{\"color\":\"white\",\"width\":0.5},\"pattern\":{\"fillmode\":\"overlay\",\"size\":10,\"solidity\":0.2}},\"type\":\"bar\"}],\"carpet\":[{\"aaxis\":{\"endlinecolor\":\"#2a3f5f\",\"gridcolor\":\"#C8D4E3\",\"linecolor\":\"#C8D4E3\",\"minorgridcolor\":\"#C8D4E3\",\"startlinecolor\":\"#2a3f5f\"},\"baxis\":{\"endlinecolor\":\"#2a3f5f\",\"gridcolor\":\"#C8D4E3\",\"linecolor\":\"#C8D4E3\",\"minorgridcolor\":\"#C8D4E3\",\"startlinecolor\":\"#2a3f5f\"},\"type\":\"carpet\"}],\"choropleth\":[{\"colorbar\":{\"outlinewidth\":0,\"ticks\":\"\"},\"type\":\"choropleth\"}],\"contourcarpet\":[{\"colorbar\":{\"outlinewidth\":0,\"ticks\":\"\"},\"type\":\"contourcarpet\"}],\"contour\":[{\"colorbar\":{\"outlinewidth\":0,\"ticks\":\"\"},\"colorscale\":[[0.0,\"#0d0887\"],[0.1111111111111111,\"#46039f\"],[0.2222222222222222,\"#7201a8\"],[0.3333333333333333,\"#9c179e\"],[0.4444444444444444,\"#bd3786\"],[0.5555555555555556,\"#d8576b\"],[0.6666666666666666,\"#ed7953\"],[0.7777777777777778,\"#fb9f3a\"],[0.8888888888888888,\"#fdca26\"],[1.0,\"#f0f921\"]],\"type\":\"contour\"}],\"heatmapgl\":[{\"colorbar\":{\"outlinewidth\":0,\"ticks\":\"\"},\"colorscale\":[[0.0,\"#0d0887\"],[0.1111111111111111,\"#46039f\"],[0.2222222222222222,\"#7201a8\"],[0.3333333333333333,\"#9c179e\"],[0.4444444444444444,\"#bd3786\"],[0.5555555555555556,\"#d8576b\"],[0.6666666666666666,\"#ed7953\"],[0.7777777777777778,\"#fb9f3a\"],[0.8888888888888888,\"#fdca26\"],[1.0,\"#f0f921\"]],\"type\":\"heatmapgl\"}],\"heatmap\":[{\"colorbar\":{\"outlinewidth\":0,\"ticks\":\"\"},\"colorscale\":[[0.0,\"#0d0887\"],[0.1111111111111111,\"#46039f\"],[0.2222222222222222,\"#7201a8\"],[0.3333333333333333,\"#9c179e\"],[0.4444444444444444,\"#bd3786\"],[0.5555555555555556,\"#d8576b\"],[0.6666666666666666,\"#ed7953\"],[0.7777777777777778,\"#fb9f3a\"],[0.8888888888888888,\"#fdca26\"],[1.0,\"#f0f921\"]],\"type\":\"heatmap\"}],\"histogram2dcontour\":[{\"colorbar\":{\"outlinewidth\":0,\"ticks\":\"\"},\"colorscale\":[[0.0,\"#0d0887\"],[0.1111111111111111,\"#46039f\"],[0.2222222222222222,\"#7201a8\"],[0.3333333333333333,\"#9c179e\"],[0.4444444444444444,\"#bd3786\"],[0.5555555555555556,\"#d8576b\"],[0.6666666666666666,\"#ed7953\"],[0.7777777777777778,\"#fb9f3a\"],[0.8888888888888888,\"#fdca26\"],[1.0,\"#f0f921\"]],\"type\":\"histogram2dcontour\"}],\"histogram2d\":[{\"colorbar\":{\"outlinewidth\":0,\"ticks\":\"\"},\"colorscale\":[[0.0,\"#0d0887\"],[0.1111111111111111,\"#46039f\"],[0.2222222222222222,\"#7201a8\"],[0.3333333333333333,\"#9c179e\"],[0.4444444444444444,\"#bd3786\"],[0.5555555555555556,\"#d8576b\"],[0.6666666666666666,\"#ed7953\"],[0.7777777777777778,\"#fb9f3a\"],[0.8888888888888888,\"#fdca26\"],[1.0,\"#f0f921\"]],\"type\":\"histogram2d\"}],\"histogram\":[{\"marker\":{\"pattern\":{\"fillmode\":\"overlay\",\"size\":10,\"solidity\":0.2}},\"type\":\"histogram\"}],\"mesh3d\":[{\"colorbar\":{\"outlinewidth\":0,\"ticks\":\"\"},\"type\":\"mesh3d\"}],\"parcoords\":[{\"line\":{\"colorbar\":{\"outlinewidth\":0,\"ticks\":\"\"}},\"type\":\"parcoords\"}],\"pie\":[{\"automargin\":true,\"type\":\"pie\"}],\"scatter3d\":[{\"line\":{\"colorbar\":{\"outlinewidth\":0,\"ticks\":\"\"}},\"marker\":{\"colorbar\":{\"outlinewidth\":0,\"ticks\":\"\"}},\"type\":\"scatter3d\"}],\"scattercarpet\":[{\"marker\":{\"colorbar\":{\"outlinewidth\":0,\"ticks\":\"\"}},\"type\":\"scattercarpet\"}],\"scattergeo\":[{\"marker\":{\"colorbar\":{\"outlinewidth\":0,\"ticks\":\"\"}},\"type\":\"scattergeo\"}],\"scattergl\":[{\"marker\":{\"colorbar\":{\"outlinewidth\":0,\"ticks\":\"\"}},\"type\":\"scattergl\"}],\"scattermapbox\":[{\"marker\":{\"colorbar\":{\"outlinewidth\":0,\"ticks\":\"\"}},\"type\":\"scattermapbox\"}],\"scatterpolargl\":[{\"marker\":{\"colorbar\":{\"outlinewidth\":0,\"ticks\":\"\"}},\"type\":\"scatterpolargl\"}],\"scatterpolar\":[{\"marker\":{\"colorbar\":{\"outlinewidth\":0,\"ticks\":\"\"}},\"type\":\"scatterpolar\"}],\"scatter\":[{\"fillpattern\":{\"fillmode\":\"overlay\",\"size\":10,\"solidity\":0.2},\"type\":\"scatter\"}],\"scatterternary\":[{\"marker\":{\"colorbar\":{\"outlinewidth\":0,\"ticks\":\"\"}},\"type\":\"scatterternary\"}],\"surface\":[{\"colorbar\":{\"outlinewidth\":0,\"ticks\":\"\"},\"colorscale\":[[0.0,\"#0d0887\"],[0.1111111111111111,\"#46039f\"],[0.2222222222222222,\"#7201a8\"],[0.3333333333333333,\"#9c179e\"],[0.4444444444444444,\"#bd3786\"],[0.5555555555555556,\"#d8576b\"],[0.6666666666666666,\"#ed7953\"],[0.7777777777777778,\"#fb9f3a\"],[0.8888888888888888,\"#fdca26\"],[1.0,\"#f0f921\"]],\"type\":\"surface\"}],\"table\":[{\"cells\":{\"fill\":{\"color\":\"#EBF0F8\"},\"line\":{\"color\":\"white\"}},\"header\":{\"fill\":{\"color\":\"#C8D4E3\"},\"line\":{\"color\":\"white\"}},\"type\":\"table\"}]},\"layout\":{\"annotationdefaults\":{\"arrowcolor\":\"#2a3f5f\",\"arrowhead\":0,\"arrowwidth\":1},\"autotypenumbers\":\"strict\",\"coloraxis\":{\"colorbar\":{\"outlinewidth\":0,\"ticks\":\"\"}},\"colorscale\":{\"diverging\":[[0,\"#8e0152\"],[0.1,\"#c51b7d\"],[0.2,\"#de77ae\"],[0.3,\"#f1b6da\"],[0.4,\"#fde0ef\"],[0.5,\"#f7f7f7\"],[0.6,\"#e6f5d0\"],[0.7,\"#b8e186\"],[0.8,\"#7fbc41\"],[0.9,\"#4d9221\"],[1,\"#276419\"]],\"sequential\":[[0.0,\"#0d0887\"],[0.1111111111111111,\"#46039f\"],[0.2222222222222222,\"#7201a8\"],[0.3333333333333333,\"#9c179e\"],[0.4444444444444444,\"#bd3786\"],[0.5555555555555556,\"#d8576b\"],[0.6666666666666666,\"#ed7953\"],[0.7777777777777778,\"#fb9f3a\"],[0.8888888888888888,\"#fdca26\"],[1.0,\"#f0f921\"]],\"sequentialminus\":[[0.0,\"#0d0887\"],[0.1111111111111111,\"#46039f\"],[0.2222222222222222,\"#7201a8\"],[0.3333333333333333,\"#9c179e\"],[0.4444444444444444,\"#bd3786\"],[0.5555555555555556,\"#d8576b\"],[0.6666666666666666,\"#ed7953\"],[0.7777777777777778,\"#fb9f3a\"],[0.8888888888888888,\"#fdca26\"],[1.0,\"#f0f921\"]]},\"colorway\":[\"#636efa\",\"#EF553B\",\"#00cc96\",\"#ab63fa\",\"#FFA15A\",\"#19d3f3\",\"#FF6692\",\"#B6E880\",\"#FF97FF\",\"#FECB52\"],\"font\":{\"color\":\"#2a3f5f\"},\"geo\":{\"bgcolor\":\"white\",\"lakecolor\":\"white\",\"landcolor\":\"white\",\"showlakes\":true,\"showland\":true,\"subunitcolor\":\"#C8D4E3\"},\"hoverlabel\":{\"align\":\"left\"},\"hovermode\":\"closest\",\"mapbox\":{\"style\":\"light\"},\"paper_bgcolor\":\"white\",\"plot_bgcolor\":\"white\",\"polar\":{\"angularaxis\":{\"gridcolor\":\"#EBF0F8\",\"linecolor\":\"#EBF0F8\",\"ticks\":\"\"},\"bgcolor\":\"white\",\"radialaxis\":{\"gridcolor\":\"#EBF0F8\",\"linecolor\":\"#EBF0F8\",\"ticks\":\"\"}},\"scene\":{\"xaxis\":{\"backgroundcolor\":\"white\",\"gridcolor\":\"#DFE8F3\",\"gridwidth\":2,\"linecolor\":\"#EBF0F8\",\"showbackground\":true,\"ticks\":\"\",\"zerolinecolor\":\"#EBF0F8\"},\"yaxis\":{\"backgroundcolor\":\"white\",\"gridcolor\":\"#DFE8F3\",\"gridwidth\":2,\"linecolor\":\"#EBF0F8\",\"showbackground\":true,\"ticks\":\"\",\"zerolinecolor\":\"#EBF0F8\"},\"zaxis\":{\"backgroundcolor\":\"white\",\"gridcolor\":\"#DFE8F3\",\"gridwidth\":2,\"linecolor\":\"#EBF0F8\",\"showbackground\":true,\"ticks\":\"\",\"zerolinecolor\":\"#EBF0F8\"}},\"shapedefaults\":{\"line\":{\"color\":\"#2a3f5f\"}},\"ternary\":{\"aaxis\":{\"gridcolor\":\"#DFE8F3\",\"linecolor\":\"#A2B1C6\",\"ticks\":\"\"},\"baxis\":{\"gridcolor\":\"#DFE8F3\",\"linecolor\":\"#A2B1C6\",\"ticks\":\"\"},\"bgcolor\":\"white\",\"caxis\":{\"gridcolor\":\"#DFE8F3\",\"linecolor\":\"#A2B1C6\",\"ticks\":\"\"}},\"title\":{\"x\":0.05},\"xaxis\":{\"automargin\":true,\"gridcolor\":\"#EBF0F8\",\"linecolor\":\"#EBF0F8\",\"ticks\":\"\",\"title\":{\"standoff\":15},\"zerolinecolor\":\"#EBF0F8\",\"zerolinewidth\":2},\"yaxis\":{\"automargin\":true,\"gridcolor\":\"#EBF0F8\",\"linecolor\":\"#EBF0F8\",\"ticks\":\"\",\"title\":{\"standoff\":15},\"zerolinecolor\":\"#EBF0F8\",\"zerolinewidth\":2}}},\"legend\":{\"orientation\":\"h\",\"yanchor\":\"bottom\",\"y\":1.02,\"xanchor\":\"right\",\"x\":1},\"margin\":{\"l\":50,\"r\":50,\"t\":80,\"b\":50},\"title\":{\"text\":\"Metabolite Concentrations\"},\"xaxis\":{\"title\":{\"text\":\"Metabolites\"},\"showgrid\":false,\"zeroline\":false,\"tickangle\":-45},\"yaxis\":{\"title\":{\"text\":\"Concentration (mM)\"},\"zeroline\":true,\"zerolinecolor\":\"lightgray\",\"gridcolor\":\"lightgray\",\"gridwidth\":0.5},\"hovermode\":\"closest\"},                        {\"responsive\": true}                    ).then(function(){\n",
              "                            \n",
              "var gd = document.getElementById('17b274df-844f-4ab0-833e-ac6cf868e57c');\n",
              "var x = new MutationObserver(function (mutations, observer) {{\n",
              "        var display = window.getComputedStyle(gd).display;\n",
              "        if (!display || display === 'none') {{\n",
              "            console.log([gd, 'removed!']);\n",
              "            Plotly.purge(gd);\n",
              "            observer.disconnect();\n",
              "        }}\n",
              "}});\n",
              "\n",
              "// Listen for the removal of the full notebook cells\n",
              "var notebookContainer = gd.closest('#notebook-container');\n",
              "if (notebookContainer) {{\n",
              "    x.observe(notebookContainer, {childList: true});\n",
              "}}\n",
              "\n",
              "// Listen for the clearing of the current output cell\n",
              "var outputEl = gd.closest('.output');\n",
              "if (outputEl) {{\n",
              "    x.observe(outputEl, {childList: true});\n",
              "}}\n",
              "\n",
              "                        })                };                            </script>        </div>\n",
              "</body>\n",
              "</html>"
            ]
          },
          "metadata": {},
          "output_type": "display_data"
        }
      ],
      "source": [
        "#create metabolome\n",
        "metabolome = Metabolome(metabolites = [glucose, acetate, co2])\n",
        "\n",
        "#visualize it\n",
        "metabolome.make_plot()\n",
        "\n"
      ]
    },
    {
      "cell_type": "markdown",
      "id": "bcf8d75c",
      "metadata": {
        "id": "bcf8d75c"
      },
      "source": [
        "We can also visualize the model components in Cytoscape"
      ]
    },
    {
      "cell_type": "code",
      "execution_count": 5,
      "id": "2ef4e6cd",
      "metadata": {
        "colab": {
          "base_uri": "https://localhost:8080/",
          "height": 417,
          "referenced_widgets": [
            "98136374edb94bd69bcb0c101389acf4",
            "9e0f221ff9fb4305ac4bd28759d5aebe",
            "a4b093fe78ca47f4aacec312dce32ffc",
            "23e89b0f5f08405d8d38434a8dfb1d0f",
            "c026049247c5444999d1013823c166c4",
            "9e374914f5ad4301a5a735bc536febc0"
          ]
        },
        "id": "2ef4e6cd",
        "outputId": "a22bef4e-8f4d-4eb8-f264-b8c959a74c66"
      },
      "outputs": [
        {
          "data": {
            "application/vnd.jupyter.widget-view+json": {
              "model_id": "98136374edb94bd69bcb0c101389acf4",
              "version_major": 2,
              "version_minor": 0
            },
            "text/plain": [
              "CytoscapeWidget(cytoscape_layout={'name': 'preset'}, cytoscape_style=[{'selector': 'node', 'style': {'label': …"
            ]
          },
          "metadata": {
            "application/vnd.jupyter.widget-view+json": {
              "colab": {
                "custom_widget_manager": {
                  "url": "https://ssl.gstatic.com/colaboratory-static/widgets/colab-cdn-widget-manager/2b70e893a8ba7c0f/manager.min.js"
                }
              }
            }
          },
          "output_type": "display_data"
        }
      ],
      "source": [
        "\n",
        "#cycle through a kson file\n",
        "model = json.loads(metabolome.to_json(full_model=True))\n",
        "\n",
        "# Build the graph specification\n",
        "builder = GraphSpecBuilder()\n",
        "graph_spec = builder.build_from_json(model)\n",
        "\n",
        "# Export to Cytoscape\n",
        "exporter = CytoscapeExporter()\n",
        "cytoscape_data = exporter.export(graph_spec, layout=\"nice\", show_edge_labels=True)\n",
        "\n",
        "# Create the viewer\n",
        "viewer = CytoscapeWidget()\n",
        "viewer.graph.add_graph_from_json(cytoscape_data['elements'])\n",
        "viewer.set_style(cytoscape_data['style'])\n",
        "viewer.set_layout(name=\"preset\")\n",
        "\n",
        "# Display\n",
        "display(viewer)"
      ]
    },
    {
      "cell_type": "markdown",
      "id": "80d81c7c",
      "metadata": {
        "id": "80d81c7c"
      },
      "source": [
        "#### **Fedding terms**"
      ]
    },
    {
      "cell_type": "markdown",
      "id": "XNgP5qvBuzDx",
      "metadata": {
        "id": "XNgP5qvBuzDx"
      },
      "source": [
        "Support for third party widgets will remain active for the duration of the session. To disable support:"
      ]
    },
    {
      "cell_type": "code",
      "execution_count": 6,
      "id": "szCQzEd37jpG",
      "metadata": {
        "id": "szCQzEd37jpG"
      },
      "outputs": [],
      "source": [
        "from google.colab import output\n",
        "output.enable_custom_widget_manager()"
      ]
    },
    {
      "cell_type": "markdown",
      "id": "db2a49a1",
      "metadata": {
        "id": "db2a49a1"
      },
      "source": [
        "`Feeding term` objects encode how microbial subpopulations consume metabolites and release byproducts. They are defined independently and later linked to subpopulations.\n",
        "\n",
        "\n",
        "- If the `feeding term` requires more than one input metabolite, the relation is an `AND`:\n",
        "\n",
        "\n",
        "```css\n",
        "[metabolite A] + [metabolite C] ---> [metabolite B]\n",
        "```\n",
        "\n",
        "\n",
        "- If a subpopulations has more than one feeding term, the relation is an `OR`:\n",
        "\n",
        "```css\n",
        "[metabolite A] ---> [metabolite B] + [metabolite C]\n",
        "\n",
        "[metabolite D] ---> metabolite E]\n",
        "```\n",
        "\n",
        "- A `Boost` is an  `AND` combined with an `OR`.\n",
        "\n",
        "- Sequential (`XOR`) requires alternative subpopulations.\n",
        "\n",
        "\n",
        "In the *E. coli* example, there are two feeding terms."
      ]
    },
    {
      "cell_type": "code",
      "execution_count": 7,
      "id": "c2dc2baa",
      "metadata": {
        "id": "c2dc2baa"
      },
      "outputs": [],
      "source": [
        "#Basic usage with simple metabolome:\n",
        "from kinetic_model import FeedingTerm\n",
        "# Create feeding term: consumes glucose, produces lactate\n",
        "feeding_term_1 = FeedingTerm(\n",
        "    id=\"glucose_to_acetate\",\n",
        "    metDict={\"glucose\": [1.0, 1.0], \"acetate\": [-1.0, 0.0]},\n",
        "    metabolome=metabolome)\n",
        "\n",
        "feeding_term_2 = FeedingTerm(\n",
        "    id=\"acetate_to_co2\",\n",
        "    metDict={\"acetate\": [1.0, 1.0], \"co2\": [-1.0, 0.0]},\n",
        "    metabolome=metabolome\n",
        ")\n"
      ]
    },
    {
      "cell_type": "markdown",
      "id": "718bdcee",
      "metadata": {
        "id": "718bdcee"
      },
      "source": [
        "We can perform basic calculations of metabolic rates using the current metabolite concentrations defined in the `metabolome` object."
      ]
    },
    {
      "cell_type": "code",
      "execution_count": 8,
      "id": "fa0e052c",
      "metadata": {
        "colab": {
          "base_uri": "https://localhost:8080/"
        },
        "id": "fa0e052c",
        "outputId": "879f8726-9f8c-4f04-88a4-04332b5caa28"
      },
      "outputs": [
        {
          "name": "stdout",
          "output_type": "stream",
          "text": [
            "growth_contribution ft 1: 0.833\n",
            "Metabolism rates ft 1: [ 0.83333333 -0.         -0.83333333]\n",
            "growth_contribution ft 2: 0.000\n",
            "Metabolism rates ft 2: [-0.  0. -0.]\n"
          ]
        }
      ],
      "source": [
        "# Get current concentrations\n",
        "concentrations = metabolome.get_concentration()\n",
        "# Calculate growth and metabolism rates\n",
        "growth_contribution = feeding_term_1.intrinsicGrowth(concentrations)\n",
        "metabolism_rates = feeding_term_1.intrinsicMetabolism(concentrations)\n",
        "\n",
        "print(f\"growth_contribution ft 1: {growth_contribution:.3f}\")\n",
        "print(f\"Metabolism rates ft 1: {metabolism_rates}\")\n",
        "\n",
        "\n",
        "# Calculate growth and metabolism rates\n",
        "growth_contribution = feeding_term_2.intrinsicGrowth(concentrations)\n",
        "metabolism_rates = feeding_term_2.intrinsicMetabolism(concentrations)\n",
        "\n",
        "print(f\"growth_contribution ft 2: {growth_contribution:.3f}\")\n",
        "print(f\"Metabolism rates ft 2: {metabolism_rates}\")"
      ]
    },
    {
      "cell_type": "markdown",
      "id": "9bb973eb",
      "metadata": {
        "id": "9bb973eb"
      },
      "source": [
        "Let’s visualize the glucose feeding term."
      ]
    },
    {
      "cell_type": "code",
      "execution_count": 9,
      "id": "b38bb698",
      "metadata": {
        "colab": {
          "base_uri": "https://localhost:8080/",
          "height": 417,
          "referenced_widgets": [
            "1c287cdf89e04b1b8b2764dfd16e394c",
            "c7baa4dc63f248818a2606760af90217",
            "21f2fbc42e5d4672b5bf4707c362e3e6",
            "412096c4b5054fa68f54d2f40b3acc46",
            "cd0f6bde667a4e478253ee8bf57fbbfc",
            "5ff26c0f579e471999a2faa19582e391",
            "607e029438c043d29778642361de5d11",
            "7289438d9828498fb02fe57ecf8b47e2",
            "abe093b37c7544289b7a478bde15d2f2",
            "9fb651396c764d4ba1044edbed28a1f5",
            "6de8e6d467274355a8f0af2ee0fe046f",
            "29b3efe612784756a2bc0277bd43740e",
            "36b893cbc69445888a1d7a1ed34a5364"
          ]
        },
        "id": "b38bb698",
        "outputId": "5a59e218-6dfa-41f9-f2c0-490f3fa8043e"
      },
      "outputs": [
        {
          "data": {
            "application/vnd.jupyter.widget-view+json": {
              "model_id": "1c287cdf89e04b1b8b2764dfd16e394c",
              "version_major": 2,
              "version_minor": 0
            },
            "text/plain": [
              "CytoscapeWidget(cytoscape_layout={'name': 'preset'}, cytoscape_style=[{'selector': 'node', 'style': {'label': …"
            ]
          },
          "metadata": {
            "application/vnd.jupyter.widget-view+json": {
              "colab": {
                "custom_widget_manager": {
                  "url": "https://ssl.gstatic.com/colaboratory-static/widgets/colab-cdn-widget-manager/2b70e893a8ba7c0f/manager.min.js"
                }
              }
            }
          },
          "output_type": "display_data"
        }
      ],
      "source": [
        "model = json.loads(feeding_term_1.to_json(full_model=True))\n",
        "\n",
        "# Build the graph specification\n",
        "builder = GraphSpecBuilder()\n",
        "graph_spec = builder.build_from_json(model)\n",
        "\n",
        "# Export to Cytoscape\n",
        "exporter = CytoscapeExporter()\n",
        "cytoscape_data = exporter.export(graph_spec, layout=\"nice\", show_edge_labels=True)\n",
        "\n",
        "# Create the viewer\n",
        "viewer = CytoscapeWidget()\n",
        "viewer.graph.add_graph_from_json(cytoscape_data['elements'])\n",
        "viewer.set_style(cytoscape_data['style'])\n",
        "viewer.set_layout(name=\"preset\")\n",
        "\n",
        "# Display\n",
        "display(viewer)"
      ]
    },
    {
      "cell_type": "markdown",
      "id": "43bd2920",
      "metadata": {
        "id": "43bd2920"
      },
      "source": [
        "#### **Subpopulations**"
      ]
    },
    {
      "cell_type": "markdown",
      "id": "537c140f",
      "metadata": {
        "id": "537c140f"
      },
      "source": [
        "Subpopulations represent microbial phenotypes—defined by their feeding terms—and their state (e.g., active or inactive)"
      ]
    },
    {
      "cell_type": "code",
      "execution_count": 10,
      "id": "411d43f4",
      "metadata": {
        "colab": {
          "base_uri": "https://localhost:8080/"
        },
        "id": "411d43f4",
        "outputId": "8617eca7-82fe-4566-836a-1dde3f952a05"
      },
      "outputs": [
        {
          "name": "stdout",
          "output_type": "stream",
          "text": [
            "Growth rate: 0.5\n",
            "pH sensitivity at pH 7.0: 1.000\n",
            "Temperature sensitivity at 37°C: 1.000\n"
          ]
        }
      ],
      "source": [
        "from kinetic_model import Subpopulation\n",
        "\n",
        "\n",
        "# Create subpopulation\n",
        "subpop_1 = Subpopulation(\n",
        "    name=\"glucose_ecoli\",\n",
        "    count=1.0,\n",
        "    species=\"E. coli\",\n",
        "    mumax=0.5,\n",
        "    feedingTerms=[feeding_term_1],\n",
        "    pHopt=7.0,\n",
        "    pH_sensitivity_left=1.0,\n",
        "    pH_sensitivity_right=1.0,\n",
        "    Topt=37.0,\n",
        "    tempSensitivity_left=1.0,\n",
        "    tempSensitivity_right=1.0\n",
        "    )\n",
        "\n",
        "\n",
        "subpop_2 = Subpopulation(\n",
        "    name=\"acetate_ecoli\",\n",
        "    count=1.0,\n",
        "    species=\"E. coli\",\n",
        "    mumax=0.3,\n",
        "    feedingTerms=[feeding_term_2],\n",
        "    pHopt=7.0,\n",
        "    pH_sensitivity_left=1.0,\n",
        "    pH_sensitivity_right=1.0,\n",
        "    Topt=37.0,\n",
        "    tempSensitivity_left=1.0,\n",
        "    tempSensitivity_right=1.0\n",
        "    )\n",
        "\n",
        "subpop_3 = Subpopulation(\n",
        "    name=\"inactive_ecoli\",\n",
        "    count=1.0,\n",
        "    species=\"E. coli\",\n",
        "    mumax=0.0,\n",
        "    feedingTerms=[],\n",
        "    state=\"inactive\",\n",
        "    pHopt=7.0,\n",
        "    pH_sensitivity_left=1.0,\n",
        "    pH_sensitivity_right=1.0,\n",
        "    Topt=37.0,\n",
        "    tempSensitivity_left=1.0,\n",
        "    tempSensitivity_right=1.0\n",
        "    )\n",
        "\n",
        "\n",
        "\n",
        "\n",
        "# Access properties\n",
        "print(f\"Growth rate: {subpop_1.mumax}\")\n",
        "print(f\"pH sensitivity at pH 7.0: {subpop_1.pHSensitivity(7.0):.3f}\")\n",
        "print(f\"Temperature sensitivity at 37°C: {subpop_1.tempSensitivity(37.0):.3f}\")\n",
        "\n",
        "# Calculate growth and metabolism with concentration vector\n",
        "growth_rate = subpop_1.intrinsicGrowth(concentrations)\n",
        "metabolism_rates = subpop_1.intrinsicMetabolism(concentrations)\n",
        "\n"
      ]
    },
    {
      "cell_type": "markdown",
      "id": "28148d9d",
      "metadata": {
        "id": "28148d9d"
      },
      "source": [
        "#### **Bacteria and Microbiomes**"
      ]
    },
    {
      "cell_type": "markdown",
      "id": "484910fc",
      "metadata": {
        "id": "484910fc"
      },
      "source": [
        "A species is represented by a `Bacteria` object, defined as a collection of subpopulations and the transition terms between them. Transitions depend on the environment and are specified as boolean or threshold functions, each combined with a rate.\n",
        "\n",
        "For example, we can define that the glucose-consuming E. coli subpopulation transitions to the acetate-consuming subpopulation when glucose falls below $1 mM$, at a rate of $0.001.$ Conversely, when glucose rises above $1 mM$, the acetate-consuming subpopulation transitions back to glucose consumption at a rate of $0.01$.\n",
        "\n",
        "Microbiomes are encoded as collections of species."
      ]
    },
    {
      "cell_type": "code",
      "execution_count": 11,
      "id": "fc9a3850",
      "metadata": {
        "colab": {
          "base_uri": "https://localhost:8080/"
        },
        "id": "fc9a3850",
        "outputId": "a68148c0-1839-4594-c861-1fc97d84ac28"
      },
      "outputs": [
        {
          "name": "stdout",
          "output_type": "stream",
          "text": [
            "Species: E. coli\n",
            "Subpopulations: ['glucose_consumer', 'acetate_consumer', 'inactive']\n",
            "Connections: {'glucose_consumer': [['acetate_consumer', <function evaluate_transition_condition.<locals>.transition_function at 0x7a6842752de0>, 0.001], ['inactive', '', 1e-05]], 'acetate_consumer': [['glucose_consumer', <function evaluate_transition_condition.<locals>.transition_function at 0x7a6842752ac0>, 0.01], ['inactive', '', 1e-07]]}\n"
          ]
        }
      ],
      "source": [
        "from kinetic_model import Bacteria, Microbiome, evaluate_transition_condition\n",
        "\n",
        "# Create bacteria with conditional transitions based on resource availability\n",
        "\n",
        "cond1 = evaluate_transition_condition('glucose <1 and acetate > 1', metabolome)\n",
        "cond2  = evaluate_transition_condition('glucose > 1 and acetate < 1', metabolome)\n",
        "\n",
        "ecoli = Bacteria(\n",
        "    species=\"E. coli\",\n",
        "    subpopulations={\n",
        "        \"glucose_consumer\": subpop_1,\n",
        "        \"acetate_consumer\": subpop_2,\n",
        "        \"inactive\": subpop_3\n",
        "        },\n",
        "    connections={\n",
        "        \"glucose_consumer\": [[\"acetate_consumer\", cond1, 0.001], [\"inactive\", \"\", 0.00001]],\n",
        "        \"acetate_consumer\": [[\"glucose_consumer\", cond2, 0.01], [\"inactive\", \"\", 0.0000001]],\n",
        "        }\n",
        "    )\n",
        "\n",
        "# Access properties\n",
        "print(f\"Species: {ecoli.species}\")\n",
        "print(f\"Subpopulations: {list(ecoli.subpopulations.keys())}\")\n",
        "print(f\"Connections: {ecoli.connections}\")\n",
        "\n",
        "\n",
        "# ===== CREATE MICROBIOME =====\n",
        "microbiome = Microbiome(\"E_coli_monoculture\", {\"E_coli\": ecoli})"
      ]
    },
    {
      "cell_type": "markdown",
      "id": "1cfff072",
      "metadata": {
        "id": "1cfff072"
      },
      "source": [
        "Let’s visualize it."
      ]
    },
    {
      "cell_type": "code",
      "execution_count": 12,
      "id": "5124c432",
      "metadata": {
        "colab": {
          "base_uri": "https://localhost:8080/",
          "height": 417,
          "referenced_widgets": [
            "636802d13c20454d870b00a83610cc09",
            "c137f83bbb6d4fbb9c3c951dd6a06560",
            "04faedd5cb7744c0bb9dbb5da7ddcc00",
            "e5e4a088eef5424a8bf2f0668e8190d8",
            "f30ffcc574cf49a2b3a6981783e68659",
            "8b8d0b8d98d94811bc0aeee3c7cfb5bb",
            "37811bf900674fb5a5c3b2b6094bb02b",
            "c91f64a1738b464fb09f807f30e6930e",
            "85d29cf3ca9140f88f052e749ba2baac",
            "e0df9187bf8f4ab18c4c220ac6b6d559",
            "272b7204832e428c824405e18ff01772",
            "baf80a5aa6354e989d62a19f87abe566",
            "64fd56001655485a8b4c561990aad9e9",
            "b40c53590ff948e3a24cf5612d4c7610",
            "c451e9efec1040a8af2d2800f0bc9c6a",
            "8e9a1352792e43899206c514391aa721",
            "e2b71ef9f2fe46b9a080bac0c5174ea3",
            "384738ed5c484d1b9e2350f66c10475b",
            "4babbac702a141f3b4fb6f05d89653ba",
            "5302325931084bbd9f6acb67192f4b06",
            "01bbbf7e05c64ffc98ea3e42d3f25596",
            "c5ce6699f7f24416bfa6cc19499ad7ac"
          ]
        },
        "id": "5124c432",
        "outputId": "93a46445-791d-4534-f5fc-567b6803739d"
      },
      "outputs": [
        {
          "data": {
            "application/vnd.jupyter.widget-view+json": {
              "model_id": "636802d13c20454d870b00a83610cc09",
              "version_major": 2,
              "version_minor": 0
            },
            "text/plain": [
              "CytoscapeWidget(cytoscape_layout={'name': 'preset'}, cytoscape_style=[{'selector': 'node', 'style': {'label': …"
            ]
          },
          "metadata": {
            "application/vnd.jupyter.widget-view+json": {
              "colab": {
                "custom_widget_manager": {
                  "url": "https://ssl.gstatic.com/colaboratory-static/widgets/colab-cdn-widget-manager/2b70e893a8ba7c0f/manager.min.js"
                }
              }
            }
          },
          "output_type": "display_data"
        }
      ],
      "source": [
        "# Get complete model structure directly - no manual structure creation needed!\n",
        "model = json.loads(microbiome.to_json(full_model=True))\n",
        "\n",
        "# Build the graph specification\n",
        "builder = GraphSpecBuilder()\n",
        "graph_spec = builder.build_from_json(model)\n",
        "\n",
        "# Export to Cytoscape\n",
        "exporter = CytoscapeExporter()\n",
        "cytoscape_data = exporter.export(graph_spec, layout=\"nice\", show_edge_labels=True)\n",
        "\n",
        "# Create the viewer\n",
        "viewer = CytoscapeWidget()\n",
        "viewer.graph.add_graph_from_json(cytoscape_data['elements'])\n",
        "viewer.set_style(cytoscape_data['style'])\n",
        "viewer.set_layout(name=\"preset\")\n",
        "\n",
        "# Display\n",
        "display(viewer)"
      ]
    },
    {
      "cell_type": "markdown",
      "id": "e1e5b22b",
      "metadata": {
        "id": "e1e5b22b"
      },
      "source": [
        "#### **Environment**"
      ]
    },
    {
      "cell_type": "markdown",
      "id": "4cea361b",
      "metadata": {
        "id": "4cea361b"
      },
      "source": [
        "The `Environment` object encodes the system’s environmental conditions—currently pH, temperature, and stirring.\n",
        "\n",
        "- `pH` influences microbial growth through each subpopulation’s pH sensitivity. It can be set as a fixed value or defined as a function of metabolite concentrations.\n",
        "\n",
        "- `Temperature` is specified as a fixed value and affects growth according to the temperature sensitivity parameter.\n",
        "\n",
        "- `Stirring controls` how evenly cells and metabolites are distributed. In a well-mixed system (stirring = 1), concentrations match their true values exactly. When stirring is zero, observed concentrations are taken as random samples of the true values."
      ]
    },
    {
      "cell_type": "code",
      "execution_count": 13,
      "id": "2a318caf",
      "metadata": {
        "colab": {
          "base_uri": "https://localhost:8080/"
        },
        "id": "2a318caf",
        "outputId": "2083e149-4d62-4e84-b96d-de50946b5299"
      },
      "outputs": [
        {
          "name": "stdout",
          "output_type": "stream",
          "text": [
            "pH: 7.0\n",
            "Stirred value: 10.011256780484395\n",
            "Temperature: 37.0\n"
          ]
        }
      ],
      "source": [
        "from kinetic_model import Environment, pH, Stirring, Temperature\n",
        "# Create components\n",
        "ph_obj = pH(metabolome, intercept=7.0, met_dictionary={}) #pH will be fixed at 7\n",
        "stirring_obj = Stirring(rate=0.8, base_std=0.05)\n",
        "temp_obj = Temperature(37.0)\n",
        "\n",
        "# Create environment\n",
        "environment = Environment(ph_obj, stirring_obj, temp_obj)\n",
        "# Apply all environmental factors at once\n",
        "concentrations = metabolome.get_concentration()  # glucose concentration\n",
        "result = environment.apply_all_factors(concentrations)\n",
        "# Or access individual components\n",
        "current_ph = environment.pH.compute_pH(concentrations)\n",
        "stirred_value = environment.stirring.apply_stirring(10.0)\n",
        "current_temp = environment.temperature.temperature\n",
        "\n",
        "\n",
        "print(f\"pH: {current_ph}\")\n",
        "print(f\"Stirred value: {stirred_value}\")\n",
        "print(f\"Temperature: {current_temp}\")"
      ]
    },
    {
      "cell_type": "markdown",
      "id": "e738b275",
      "metadata": {
        "id": "e738b275"
      },
      "source": [
        "#### **Control Pulse**"
      ]
    },
    {
      "cell_type": "markdown",
      "id": "6e31990d",
      "metadata": {
        "id": "6e31990d"
      },
      "source": [
        "The `Pulse` object defines the environmental conditions during a fixed time interval. It specifies what enters or leaves the reactor (metabolites or cells), either as a single event at the start of the interval or continuously throughout it. The `Pulse` also sets the environmental parameters (`pH`, `temperature`, `stirring`) for that period."
      ]
    },
    {
      "cell_type": "code",
      "execution_count": 14,
      "id": "1211a44d",
      "metadata": {
        "id": "1211a44d"
      },
      "outputs": [],
      "source": [
        "from kinetic_model import Pulse\n",
        "pulse = Pulse(\n",
        "        t_start=0.0,\n",
        "        t_end=120.0,   # 120 hours\n",
        "        n_steps=1000,\n",
        "        qin=0.0,\n",
        "        qout=0.0,\n",
        "        vin=0.0,\n",
        "        vout=0.0,\n",
        "        environment=environment\n",
        "    )"
      ]
    },
    {
      "cell_type": "markdown",
      "id": "be7d049a",
      "metadata": {
        "id": "be7d049a"
      },
      "source": [
        "#### **Reactor**"
      ]
    },
    {
      "cell_type": "markdown",
      "id": "0cf5b336",
      "metadata": {
        "id": "0cf5b336"
      },
      "source": [
        "The `Reactor` object is where microbial growth is simulated. It contains a `metabolome`, a `microbiome`, and a sequence of control pulses that define `pH`, `temperature`, `stirring`, and both continuous and non-continuous `feeding`."
      ]
    },
    {
      "cell_type": "code",
      "execution_count": 15,
      "id": "5775ac67",
      "metadata": {
        "id": "5775ac67"
      },
      "outputs": [],
      "source": [
        "from kinetic_model import Reactor\n",
        "reactor = Reactor(\n",
        "        microbiome=microbiome,\n",
        "        metabolome=metabolome,\n",
        "        pulses=[pulse],\n",
        "        volume=15.0,\n",
        "    )"
      ]
    },
    {
      "cell_type": "markdown",
      "id": "97a18f05",
      "metadata": {
        "id": "97a18f05"
      },
      "source": [
        "#### **Simulation**"
      ]
    },
    {
      "cell_type": "markdown",
      "id": "36a97e8a",
      "metadata": {
        "id": "36a97e8a"
      },
      "source": [
        "We can now simulate the reactor and plot the results."
      ]
    },
    {
      "cell_type": "code",
      "execution_count": 16,
      "id": "f647c899",
      "metadata": {
        "colab": {
          "base_uri": "https://localhost:8080/",
          "height": 904
        },
        "id": "f647c899",
        "outputId": "70cd53a8-6cef-40ef-9eff-f74d4005f6ec"
      },
      "outputs": [
        {
          "name": "stdout",
          "output_type": "stream",
          "text": [
            "Setting fast simulation mode...\n",
            "Reduced pulse 0.0-120.0: 1000 → 250 steps\n",
            "Total steps: 1000 → 250\n",
            "Estimated speedup: 4.0x\n",
            "Fast mode enabled: RK45 solver, relaxed tolerances (1e-2)\n"
          ]
        },
        {
          "data": {
            "text/html": [
              "<html>\n",
              "<head><meta charset=\"utf-8\" /></head>\n",
              "<body>\n",
              "    <div>            <script src=\"https://cdnjs.cloudflare.com/ajax/libs/mathjax/2.7.5/MathJax.js?config=TeX-AMS-MML_SVG\"></script><script type=\"text/javascript\">if (window.MathJax && window.MathJax.Hub && window.MathJax.Hub.Config) {window.MathJax.Hub.Config({SVG: {font: \"STIX-Web\"}});}</script>                <script type=\"text/javascript\">window.PlotlyConfig = {MathJaxConfig: 'local'};</script>\n",
              "        <script charset=\"utf-8\" src=\"https://cdn.plot.ly/plotly-2.35.2.min.js\"></script>                <div id=\"777e7c84-b3b0-4a82-bf27-57187c86650e\" class=\"plotly-graph-div\" style=\"height:800px; width:100%;\"></div>            <script type=\"text/javascript\">                                    window.PLOTLYENV=window.PLOTLYENV || {};                                    if (document.getElementById(\"777e7c84-b3b0-4a82-bf27-57187c86650e\")) {                    Plotly.newPlot(                        \"777e7c84-b3b0-4a82-bf27-57187c86650e\",                        [{\"line\":{\"color\":\"#003eff\",\"simplify\":true},\"mode\":\"lines\",\"name\":\"acetate\",\"opacity\":0.8,\"x\":[0.0,0.4819277108433735,0.963855421686747,1.4457831325301205,1.927710843373494,2.4096385542168672,2.891566265060241,3.3734939759036147,3.855421686746988,4.337349397590361,4.8192771084337345,5.301204819277109,5.783132530120482,6.265060240963855,6.746987951807229,7.228915662650603,7.710843373493976,8.19277108433735,8.674698795180722,9.156626506024097,9.638554216867469,10.120481927710843,10.602409638554217,11.08433734939759,11.566265060240964,12.048192771084338,12.53012048192771,13.012048192771084,13.493975903614459,13.975903614457831,14.457831325301205,14.939759036144578,15.421686746987952,15.903614457831326,16.3855421686747,16.867469879518072,17.349397590361445,17.83132530120482,18.313253012048193,18.795180722891565,19.277108433734938,19.759036144578314,20.240963855421686,20.72289156626506,21.204819277108435,21.686746987951807,22.16867469879518,22.650602409638555,23.132530120481928,23.6144578313253,24.096385542168676,24.57831325301205,25.06024096385542,25.542168674698797,26.02409638554217,26.50602409638554,26.987951807228917,27.46987951807229,27.951807228915662,28.433734939759034,28.91566265060241,29.397590361445783,29.879518072289155,30.36144578313253,30.843373493975903,31.325301204819276,31.80722891566265,32.28915662650602,32.7710843373494,33.25301204819277,33.734939759036145,34.21686746987952,34.69879518072289,35.18072289156626,35.66265060240964,36.144578313253014,36.626506024096386,37.10843373493976,37.59036144578313,38.0722891566265,38.554216867469876,39.036144578313255,39.51807228915663,40.0,40.48192771084337,40.963855421686745,41.44578313253012,41.9277108433735,42.40963855421687,42.89156626506024,43.373493975903614,43.855421686746986,44.33734939759036,44.81927710843374,45.30120481927711,45.78313253012048,46.265060240963855,46.74698795180723,47.2289156626506,47.71084337349397,48.19277108433735,48.674698795180724,49.1566265060241,49.63855421686747,50.12048192771084,50.602409638554214,51.08433734939759,51.566265060240966,52.04819277108434,52.53012048192771,53.01204819277108,53.493975903614455,53.975903614457835,54.45783132530121,54.93975903614458,55.42168674698795,55.903614457831324,56.3855421686747,56.86746987951807,57.34939759036145,57.83132530120482,58.31325301204819,58.795180722891565,59.27710843373494,59.75903614457831,60.24096385542169,60.72289156626506,61.204819277108435,61.68674698795181,62.16867469879518,62.65060240963855,63.132530120481924,63.6144578313253,64.09638554216868,64.57831325301204,65.06024096385542,65.5421686746988,66.02409638554217,66.50602409638554,66.98795180722891,67.46987951807229,67.95180722891567,68.43373493975903,68.91566265060241,69.39759036144578,69.87951807228916,70.36144578313252,70.8433734939759,71.32530120481928,71.80722891566265,72.28915662650603,72.7710843373494,73.25301204819277,73.73493975903614,74.21686746987952,74.6987951807229,75.18072289156626,75.66265060240964,76.144578313253,76.62650602409639,77.10843373493975,77.59036144578313,78.07228915662651,78.55421686746988,79.03614457831326,79.51807228915662,80.0,80.48192771084338,80.96385542168674,81.44578313253012,81.92771084337349,82.40963855421687,82.89156626506023,83.37349397590361,83.855421686747,84.33734939759036,84.81927710843374,85.3012048192771,85.78313253012048,86.26506024096385,86.74698795180723,87.2289156626506,87.71084337349397,88.19277108433735,88.67469879518072,89.1566265060241,89.63855421686748,90.12048192771084,90.60240963855422,91.08433734939759,91.56626506024097,92.04819277108433,92.53012048192771,93.01204819277109,93.49397590361446,93.97590361445783,94.4578313253012,94.93975903614458,95.42168674698794,95.90361445783132,96.3855421686747,96.86746987951807,97.34939759036145,97.83132530120481,98.3132530120482,98.79518072289157,99.27710843373494,99.75903614457832,100.24096385542168,100.72289156626506,101.20481927710843,101.6867469879518,102.16867469879519,102.65060240963855,103.13253012048193,103.6144578313253,104.09638554216868,104.57831325301204,105.06024096385542,105.5421686746988,106.02409638554217,106.50602409638554,106.98795180722891,107.46987951807229,107.95180722891567,108.43373493975903,108.91566265060241,109.39759036144578,109.87951807228916,110.36144578313252,110.8433734939759,111.32530120481928,111.80722891566265,112.28915662650603,112.7710843373494,113.25301204819277,113.73493975903614,114.21686746987952,114.6987951807229,115.18072289156626,115.66265060240964,116.144578313253,116.62650602409639,117.10843373493975,117.59036144578313,118.07228915662651,118.55421686746988,119.03614457831326,119.51807228915662,120.0],\"y\":[0.0,0.20849283228153892,0.44327755476795627,0.7129725058074201,1.02823115329645,1.3941050359805751,1.8135025685177582,2.280918259398276,2.765662994805277,3.208748896831684,3.5424183143126027,3.7600966183979234,3.8177243579946336,3.774448321924557,3.595657953526636,3.3079726624210632,2.9619199477826363,2.5382561066173825,2.0829377131443323,1.6056684487187498,1.1338079539836479,0.7095387191281918,0.40588236818879553,0.2501464950269165,0.13243459902611132,0.0905713000542432,0.00780980264511405,0.013732964368127529,0.006259997042559624,0.011881792327084454,0.005882787457930611,0.0014078388538516723,0.009710315091054893,-0.001223568491212433,0.03195304865380959,0.030321335975847838,0.010405213554531702,0.004847025188688707,0.001479739442600239,0.006614318203990041,0.007137901947973742,0.0029170130634859005,0.0026864798415839257,0.011578603805453492,0.006232892464360516,0.006724479122622389,0.0013293476947605371,-0.006830213925875183,-0.00630985606688239,-0.0013708698859499356,0.02410191562198831,0.013905821127702608,0.010993965212541467,0.006595525654293168,0.02083493789070602,0.013718910079807564,0.013385035664958873,0.008499133520198172,0.008183214815026119,0.004886393438847142,-0.00011493687305867781,0.016114016738942735,0.014653315313101002,0.004053510311860707,0.001990733797500146,-0.0017052116946948302,0.0018320582333680195,0.007533744850724604,0.012088045578584988,0.02174148654980556,0.016690614856586128,0.01302965438920431,0.008622103263842848,0.0059830436169826025,0.002400858716444866,0.0056882147312970425,0.022295436995210617,0.03430364698353843,0.01999824207459782,0.009939664754286863,0.012126179252625473,0.011582592570058734,0.005957053011573956,-0.004026687485698578,0.022332550151737865,0.0200127935255114,0.009305724645895156,0.01448393229706877,0.008736392060734012,0.0063538982120158885,0.0005424974820226391,0.011426730236043351,0.003621084650710941,0.010985958381269948,0.004730729278338113,0.0019392030866246053,-0.0033077725332757157,-0.005205970698377869,-0.0012993707033407739,0.0021450686615351617,0.0014604252337020467,0.00131744722225061,0.001306714959497454,0.0005433708092543656,0.0006915219850122722,0.014275280343181802,0.016981139715310567,0.010208549166327109,0.0029281419665970667,-0.0007719660971325076,-0.0007780197441038337,-0.0007780197441038337,-0.00992734884487629,0.02409262490671525,0.02460676780963078,0.007715511085477897,0.01917661219870864,0.009418001028813525,0.019448957472933272,0.022438636000945013,0.008103334493940902,-0.000040411763254030036,0.0005673781296761855,0.0007453093414876556,0.004953669084273897,0.002110962460410651,0.0023421161042104783,0.0017720147982144736,0.0010872932277979225,0.00046402108392631035,0.0009331154301024771,-0.000860639792204651,-0.00038389797823141255,0.011856739840309351,0.006711154483381573,0.0055291410411510335,0.013398031513276435,0.009248859413056889,0.01402365077163931,0.027448948968970467,0.015821169557002124,0.011604437755153251,0.006938738717251501,0.00797233072591014,-0.006989384421370287,0.0023442379845332196,0.00807124033424245,0.008866945976584193,0.00980839733001647,0.01265666346301575,0.017545089713694867,0.0022891991985720343,0.018305508099571682,0.03117827189204139,0.019250323863601204,0.013789699578148386,0.017044415756437687,0.009397734561297812,0.007864924083400887,0.009393148375898304,0.006142609841258088,0.004509815414159711,0.008869132565367088,0.00525020822546459,0.004879299143762541,-0.0005250077463302,0.004239338223192451,0.0023672989028710838,0.008473956144568797,0.001736869807909065,0.012490733099449147,0.00858684208415695,0.007956829802493588,0.006646376831103026,0.010634227019919507,0.0027265071557974483,0.019097895140366368,0.017355577139049422,0.010415269605594576,0.0041964605653183025,0.007128186807966653,0.004226873310686799,0.007275629593637235,0.01870306922476938,0.00953348206823797,0.005353960692032372,0.010237416430121271,0.00389520520045255,0.0038708369805029426,0.004709870246051489,-0.022556380594741007,-0.023988766352352482,-0.01829868676932382,-0.01808255735806659,-0.01759625543528588,-0.017574147946004304,-0.017574147946004304,-0.01759578038148449,-0.017458358976083336,-0.02004833747520956,-0.009696707908254588,0.01427268325885394,0.020126753203270006,0.011352353322977266,-0.005312007352993076,-0.0016207027813755995,0.0006245193623375857,0.0013466992870467566,0.003742226715275267,0.0036582035366069586,0.0073117469586550235,0.0020734658529376984,-0.008264860591666407,-0.004357938285435909,-0.0015021037487572145,0.0018406585612763483,0.0037907830389550274,0.014329738355811276,0.012950181916833881,0.007438558100478602,0.007706698063195815,0.0022886030354227578,0.0051319823550025805,0.002364440062197313,-0.0003040488901542809,0.006309154229230841,0.006802376930740711,0.005750762227001647,0.004685654791617158,0.017535707578488165,0.036116890993340416,0.041467270712045166,0.019541062706145484,0.0228490840549376,0.02037173821625583,0.015624736837412398,0.015999722995547187,0.005920594284039854,-0.010069746110775055,-0.015986603193100708,-0.023223888212709043,-0.01448707408234477,-0.010002351039130258,-0.007336377617191532,0.006111294508610626,-0.0019136308784352563,0.05217723115427802,0.032039325553241856,0.020303103779753355,0.007708984069106471],\"type\":\"scatter\",\"xaxis\":\"x\",\"yaxis\":\"y\"},{\"line\":{\"color\":\"#00B8FF\",\"simplify\":true},\"mode\":\"lines\",\"name\":\"co2\",\"opacity\":0.8,\"x\":[0.0,0.4819277108433735,0.963855421686747,1.4457831325301205,1.927710843373494,2.4096385542168672,2.891566265060241,3.3734939759036147,3.855421686746988,4.337349397590361,4.8192771084337345,5.301204819277109,5.783132530120482,6.265060240963855,6.746987951807229,7.228915662650603,7.710843373493976,8.19277108433735,8.674698795180722,9.156626506024097,9.638554216867469,10.120481927710843,10.602409638554217,11.08433734939759,11.566265060240964,12.048192771084338,12.53012048192771,13.012048192771084,13.493975903614459,13.975903614457831,14.457831325301205,14.939759036144578,15.421686746987952,15.903614457831326,16.3855421686747,16.867469879518072,17.349397590361445,17.83132530120482,18.313253012048193,18.795180722891565,19.277108433734938,19.759036144578314,20.240963855421686,20.72289156626506,21.204819277108435,21.686746987951807,22.16867469879518,22.650602409638555,23.132530120481928,23.6144578313253,24.096385542168676,24.57831325301205,25.06024096385542,25.542168674698797,26.02409638554217,26.50602409638554,26.987951807228917,27.46987951807229,27.951807228915662,28.433734939759034,28.91566265060241,29.397590361445783,29.879518072289155,30.36144578313253,30.843373493975903,31.325301204819276,31.80722891566265,32.28915662650602,32.7710843373494,33.25301204819277,33.734939759036145,34.21686746987952,34.69879518072289,35.18072289156626,35.66265060240964,36.144578313253014,36.626506024096386,37.10843373493976,37.59036144578313,38.0722891566265,38.554216867469876,39.036144578313255,39.51807228915663,40.0,40.48192771084337,40.963855421686745,41.44578313253012,41.9277108433735,42.40963855421687,42.89156626506024,43.373493975903614,43.855421686746986,44.33734939759036,44.81927710843374,45.30120481927711,45.78313253012048,46.265060240963855,46.74698795180723,47.2289156626506,47.71084337349397,48.19277108433735,48.674698795180724,49.1566265060241,49.63855421686747,50.12048192771084,50.602409638554214,51.08433734939759,51.566265060240966,52.04819277108434,52.53012048192771,53.01204819277108,53.493975903614455,53.975903614457835,54.45783132530121,54.93975903614458,55.42168674698795,55.903614457831324,56.3855421686747,56.86746987951807,57.34939759036145,57.83132530120482,58.31325301204819,58.795180722891565,59.27710843373494,59.75903614457831,60.24096385542169,60.72289156626506,61.204819277108435,61.68674698795181,62.16867469879518,62.65060240963855,63.132530120481924,63.6144578313253,64.09638554216868,64.57831325301204,65.06024096385542,65.5421686746988,66.02409638554217,66.50602409638554,66.98795180722891,67.46987951807229,67.95180722891567,68.43373493975903,68.91566265060241,69.39759036144578,69.87951807228916,70.36144578313252,70.8433734939759,71.32530120481928,71.80722891566265,72.28915662650603,72.7710843373494,73.25301204819277,73.73493975903614,74.21686746987952,74.6987951807229,75.18072289156626,75.66265060240964,76.144578313253,76.62650602409639,77.10843373493975,77.59036144578313,78.07228915662651,78.55421686746988,79.03614457831326,79.51807228915662,80.0,80.48192771084338,80.96385542168674,81.44578313253012,81.92771084337349,82.40963855421687,82.89156626506023,83.37349397590361,83.855421686747,84.33734939759036,84.81927710843374,85.3012048192771,85.78313253012048,86.26506024096385,86.74698795180723,87.2289156626506,87.71084337349397,88.19277108433735,88.67469879518072,89.1566265060241,89.63855421686748,90.12048192771084,90.60240963855422,91.08433734939759,91.56626506024097,92.04819277108433,92.53012048192771,93.01204819277109,93.49397590361446,93.97590361445783,94.4578313253012,94.93975903614458,95.42168674698794,95.90361445783132,96.3855421686747,96.86746987951807,97.34939759036145,97.83132530120481,98.3132530120482,98.79518072289157,99.27710843373494,99.75903614457832,100.24096385542168,100.72289156626506,101.20481927710843,101.6867469879518,102.16867469879519,102.65060240963855,103.13253012048193,103.6144578313253,104.09638554216868,104.57831325301204,105.06024096385542,105.5421686746988,106.02409638554217,106.50602409638554,106.98795180722891,107.46987951807229,107.95180722891567,108.43373493975903,108.91566265060241,109.39759036144578,109.87951807228916,110.36144578313252,110.8433734939759,111.32530120481928,111.80722891566265,112.28915662650603,112.7710843373494,113.25301204819277,113.73493975903614,114.21686746987952,114.6987951807229,115.18072289156626,115.66265060240964,116.144578313253,116.62650602409639,117.10843373493975,117.59036144578313,118.07228915662651,118.55421686746988,119.03614457831326,119.51807228915662,120.0],\"y\":[0.0,0.01342599217897809,0.04834025070493597,0.10394814620313475,0.1787368751728681,0.273693446440209,0.38976351628922545,0.529202726245253,0.6933870663681386,0.8845763676909282,1.1043814885112695,1.3551902991835556,1.6391286692081612,1.9573655222568898,2.3123940091125634,2.7040422962439896,3.1324777241366935,3.5947624280370576,4.0840049047325335,4.583633130391976,5.065409877688232,5.498552699198118,5.8579731020620684,6.086012192684189,6.257978860359101,6.354884964362527,6.440803088237989,6.444804531077936,6.463152792142884,6.459474399509943,6.505539179656405,6.522698266159913,6.527270629653875,6.547187910491296,6.543368050393441,6.569498720674564,6.6146522178408125,6.630672740635252,6.639742377660926,6.6489696851301465,6.665462768502642,6.688948172685955,6.701591669403682,6.70460722741496,6.713939316709076,6.722002234653438,6.720915493553389,6.715331509757461,6.717203470105018,6.710811778177532,6.720728805899374,6.798424579901286,6.8163972219100115,6.82722997730019,6.838014438588063,6.915613214293901,6.933945415987863,6.966861058945521,6.9678681938024205,6.980223887820307,6.992982906238998,6.986626199295165,7.0066914473315,7.021592242350699,7.036629627141296,7.024058585304261,7.014199790218785,7.038956100516664,7.049652017158045,7.077200946513416,7.111089630670302,7.119886212221638,7.133176461056344,7.143493752358403,7.162009505364725,7.174508622980738,7.180796182851452,7.2079343998355885,7.304875518602029,7.31972015963892,7.296833060956681,7.307834344707505,7.346184477967202,7.366280950022865,7.364415945536289,7.396465870105357,7.412223856635206,7.420009939559828,7.4422375477978555,7.457886969009858,7.476403619861789,7.480432794733082,7.500019138050623,7.5185393214659575,7.543336340386765,7.558183956165257,7.562478937043889,7.5616284452210945,7.565524579916642,7.573444832996857,7.579769564924503,7.590490263531411,7.5942317214841255,7.611274962827275,7.618869640812873,7.62133414784068,7.638959826180201,7.688640446892898,7.708999186314813,7.72192964020768,7.7230387289847195,7.724737003919476,7.744580385427128,7.746434216735754,7.769918852392064,7.824323451414785,7.840179960909285,7.912572956157527,7.92981212019379,7.999776927068165,8.058499198313019,8.084339115293433,8.090413706591631,8.102345684299294,8.103543055056143,8.092415015179924,8.073119103803068,8.069246322315172,8.067440978547548,8.087977039789543,8.081452172717457,8.097124081154941,8.111757805555346,8.122847777860928,8.179069976864097,8.20401837626889,8.215813683537663,8.231497428280253,8.231705574682367,8.22671611634867,8.362441258991664,8.385899984375207,8.445836679690789,8.470556159471325,8.490799714263368,8.49860591341314,8.53909165381461,8.55156346327771,8.579270740632246,8.590802543177087,8.63241115388952,8.683102361072226,8.690391468194457,8.714011545608475,8.741657168281737,8.759478298755887,8.772619469628578,8.809788337624695,8.83404043668577,8.846484191801425,8.864004182743681,8.882013253601471,8.885434662370297,8.942550382401114,8.957193853634148,8.987647952922144,8.987215396015163,9.000539345249681,8.999339990850272,9.03663172753938,9.039161883364772,9.094849384529285,9.128824520149182,9.138647848059948,9.154138920587373,9.183061646878015,9.176410930261657,9.288525912807392,9.374698032013777,9.392631310327822,9.39761260866796,9.416882376529877,9.443221209372522,9.467788985109406,9.526136829502269,9.556381317651283,9.55669566894483,9.582959670108002,9.60276602095608,9.63294364087985,9.636517238494767,9.653404136783756,9.659278347375858,9.682436492372096,9.685006573240024,9.693519537408656,9.726626544866216,9.73274480374692,9.740901336552243,9.754257623427485,9.74854335836354,9.722738417972641,9.866269350217847,9.948485020487283,9.98549072970248,9.99942288350839,10.022485092481366,10.04855161464868,10.053339908609129,10.044626225144995,10.055966984459149,10.089950685364988,10.134522377897266,10.13594349746649,10.136695742385859,10.139988121240743,10.16509366283829,10.173730663560882,10.184153085843866,10.225848916829488,10.253993822280078,10.25964408058969,10.271601803746051,10.277511662635748,10.277544475469382,10.324717374513318,10.342080036552506,10.340141432306282,10.360391016355667,10.389612108554196,10.367810683030738,10.542288936518666,10.674343665893012,10.721474852864773,10.753813405494958,10.77348671452617,10.777457061572726,10.780580742575935,10.778207584061825,10.799097747623922,10.829353248863713,10.834481065254382,10.853853494986792,10.860839519824017,10.822076973174756,10.855556635813333,10.884406741151682,10.958737837184248,10.98817762002241,11.006770196443869],\"type\":\"scatter\",\"xaxis\":\"x\",\"yaxis\":\"y\"},{\"line\":{\"color\":\"#ff0000\",\"simplify\":true},\"mode\":\"lines\",\"name\":\"glucose\",\"opacity\":0.8,\"x\":[0.0,0.4819277108433735,0.963855421686747,1.4457831325301205,1.927710843373494,2.4096385542168672,2.891566265060241,3.3734939759036147,3.855421686746988,4.337349397590361,4.8192771084337345,5.301204819277109,5.783132530120482,6.265060240963855,6.746987951807229,7.228915662650603,7.710843373493976,8.19277108433735,8.674698795180722,9.156626506024097,9.638554216867469,10.120481927710843,10.602409638554217,11.08433734939759,11.566265060240964,12.048192771084338,12.53012048192771,13.012048192771084,13.493975903614459,13.975903614457831,14.457831325301205,14.939759036144578,15.421686746987952,15.903614457831326,16.3855421686747,16.867469879518072,17.349397590361445,17.83132530120482,18.313253012048193,18.795180722891565,19.277108433734938,19.759036144578314,20.240963855421686,20.72289156626506,21.204819277108435,21.686746987951807,22.16867469879518,22.650602409638555,23.132530120481928,23.6144578313253,24.096385542168676,24.57831325301205,25.06024096385542,25.542168674698797,26.02409638554217,26.50602409638554,26.987951807228917,27.46987951807229,27.951807228915662,28.433734939759034,28.91566265060241,29.397590361445783,29.879518072289155,30.36144578313253,30.843373493975903,31.325301204819276,31.80722891566265,32.28915662650602,32.7710843373494,33.25301204819277,33.734939759036145,34.21686746987952,34.69879518072289,35.18072289156626,35.66265060240964,36.144578313253014,36.626506024096386,37.10843373493976,37.59036144578313,38.0722891566265,38.554216867469876,39.036144578313255,39.51807228915663,40.0,40.48192771084337,40.963855421686745,41.44578313253012,41.9277108433735,42.40963855421687,42.89156626506024,43.373493975903614,43.855421686746986,44.33734939759036,44.81927710843374,45.30120481927711,45.78313253012048,46.265060240963855,46.74698795180723,47.2289156626506,47.71084337349397,48.19277108433735,48.674698795180724,49.1566265060241,49.63855421686747,50.12048192771084,50.602409638554214,51.08433734939759,51.566265060240966,52.04819277108434,52.53012048192771,53.01204819277108,53.493975903614455,53.975903614457835,54.45783132530121,54.93975903614458,55.42168674698795,55.903614457831324,56.3855421686747,56.86746987951807,57.34939759036145,57.83132530120482,58.31325301204819,58.795180722891565,59.27710843373494,59.75903614457831,60.24096385542169,60.72289156626506,61.204819277108435,61.68674698795181,62.16867469879518,62.65060240963855,63.132530120481924,63.6144578313253,64.09638554216868,64.57831325301204,65.06024096385542,65.5421686746988,66.02409638554217,66.50602409638554,66.98795180722891,67.46987951807229,67.95180722891567,68.43373493975903,68.91566265060241,69.39759036144578,69.87951807228916,70.36144578313252,70.8433734939759,71.32530120481928,71.80722891566265,72.28915662650603,72.7710843373494,73.25301204819277,73.73493975903614,74.21686746987952,74.6987951807229,75.18072289156626,75.66265060240964,76.144578313253,76.62650602409639,77.10843373493975,77.59036144578313,78.07228915662651,78.55421686746988,79.03614457831326,79.51807228915662,80.0,80.48192771084338,80.96385542168674,81.44578313253012,81.92771084337349,82.40963855421687,82.89156626506023,83.37349397590361,83.855421686747,84.33734939759036,84.81927710843374,85.3012048192771,85.78313253012048,86.26506024096385,86.74698795180723,87.2289156626506,87.71084337349397,88.19277108433735,88.67469879518072,89.1566265060241,89.63855421686748,90.12048192771084,90.60240963855422,91.08433734939759,91.56626506024097,92.04819277108433,92.53012048192771,93.01204819277109,93.49397590361446,93.97590361445783,94.4578313253012,94.93975903614458,95.42168674698794,95.90361445783132,96.3855421686747,96.86746987951807,97.34939759036145,97.83132530120481,98.3132530120482,98.79518072289157,99.27710843373494,99.75903614457832,100.24096385542168,100.72289156626506,101.20481927710843,101.6867469879518,102.16867469879519,102.65060240963855,103.13253012048193,103.6144578313253,104.09638554216868,104.57831325301204,105.06024096385542,105.5421686746988,106.02409638554217,106.50602409638554,106.98795180722891,107.46987951807229,107.95180722891567,108.43373493975903,108.91566265060241,109.39759036144578,109.87951807228916,110.36144578313252,110.8433734939759,111.32530120481928,111.80722891566265,112.28915662650603,112.7710843373494,113.25301204819277,113.73493975903614,114.21686746987952,114.6987951807229,115.18072289156626,115.66265060240964,116.144578313253,116.62650602409639,117.10843373493975,117.59036144578313,118.07228915662651,118.55421686746988,119.03614457831326,119.51807228915662,120.0],\"y\":[5.0,4.778081175539483,4.508382194527108,4.1830793479894455,3.7930319715306817,3.3322015175792155,2.796733915193016,2.18987901435647,1.5350904714849538,0.9669201913431886,0.5968903130068114,0.36884677341525457,0.22797737089240316,0.1408248686157909,0.08715279253430717,0.05365130553458824,0.03290610990333206,0.02031293176684832,0.012386915929690412,0.008301325106009526,0.007402103090032663,0.0066966765185192826,0.004672664754201706,0.004338641602198367,0.0068887640940942,0.0061137137175806345,0.0036729964873717315,0.002264651467773462,0.002091615800198404,0.0015049279509221536,0.004073675170466567,0.0030050694828149547,0.002325210628693967,0.002440311313526638,0.0015324348101547237,0.0013191053045850088,0.00108362561817489,0.0009422323597855656,0.0011740337574767026,0.0008967769828746798,0.0006599262445072642,0.0006780938337547913,0.0006825193038541827,0.00033446189430224595,0.0007527771658157706,0.0015219388314139594,0.002726709795491281,0.005272398292456125,0.005225023707726299,0.004882270059639819,0.003060848700893895,0.002928742973555354,0.0017995170486757252,0.0016998951809505025,0.0009054173046401832,0.0008594509205499494,0.0005478340455737852,0.00031513802416025156,0.0003005421702149427,0.0003478026805389175,0.0002466891178882309,0.00020255819208257322,0.0001740282797661906,0.0001296120635880454,0.00009366666504331181,0.00006762091012452187,0.000044390594696515665,0.00002819526495817219,0.000031445565742346526,3.422916439223735e-6,-0.00001873060844497076,-0.00001873060844497076,-0.00001873060844497076,-0.00001873060844497076,-0.00001873060844497076,-0.00001873060844497076,-0.00001873060844497076,-0.00001873060844497076,-0.00001873060844497076,-0.00001873060844497076,-0.00001873060844497076,-0.00001873060844497076,-0.00001873060844497076,-0.00001873060844497076,-0.00001873060844497076,-0.00001873060844497076,-0.00001873060844497076,-0.00001873060844497076,-0.00001873060844497076,-0.00001873060844497076,-0.00001873060844497076,-0.00001873060844497076,-0.00001873060844497076,-0.00001873060844497076,-0.00001873060844497076,-0.00001873060844497076,-0.00001873060844497076,-0.00001873060844497076,-0.00001873060844497076,-0.00001873060844497076,-0.00001873060844497076,-0.00001873060844497076,-0.00001873060844497076,-0.00001873060844497076,-0.00001873060844497076,-0.00001873060844497076,-0.00001873060844497076,-0.00001873060844497076,-0.00001873060844497076,-0.00001873060844497076,-0.00001873060844497076,-0.00001873060844497076,-0.00001873060844497076,-0.00001873060844497076,-0.00001873060844497076,-0.00001873060844497076,-0.00001873060844497076,-0.00001873060844497076,-0.00001873060844497076,-0.00001873060844497076,-0.00001873060844497076,-0.00001873060844497076,-0.00001873060844497076,-0.00001873060844497076,-0.00001873060844497076,-0.00001873060844497076,-0.00001873060844497076,-0.00001873060844497076,-0.00001873060844497076,-0.00001873060844497076,-0.00001873060844497076,-0.00001873060844497076,-0.00001873060844497076,-0.00001873060844497076,-0.00001873060844497076,-0.00001873060844497076,-0.00001873060844497076,-0.00001873060844497076,-0.00001873060844497076,-0.00001873060844497076,-0.00001873060844497076,-0.00001873060844497076,-0.00001873060844497076,-0.00001873060844497076,-0.00001873060844497076,-0.00001873060844497076,-0.00001873060844497076,-0.00001873060844497076,-0.00001873060844497076,-0.00001873060844497076,-0.00001873060844497076,-0.00001873060844497076,-0.00001873060844497076,-0.00001873060844497076,-0.00001873060844497076,-0.00001873060844497076,-0.00001873060844497076,-0.00001873060844497076,-0.00001873060844497076,-0.00001873060844497076,-0.00001873060844497076,-0.00001873060844497076,-0.00001873060844497076,-0.00001873060844497076,-0.00001873060844497076,-0.00001873060844497076,-0.00001873060844497076,-0.00001873060844497076,-0.00001873060844497076,-0.00001873060844497076,-0.00001873060844497076,-0.00001873060844497076,-0.00001873060844497076,-0.00001873060844497076,-0.00001873060844497076,-0.00001873060844497076,-0.00001873060844497076,-0.00001873060844497076,-0.00001873060844497076,-0.00001873060844497076,-0.00001873060844497076,-0.00001873060844497076,-0.00001873060844497076,-0.00001873060844497076,-0.00001873060844497076,-0.00001873060844497076,-0.00001873060844497076,-0.00001873060844497076,-0.00001873060844497076,-0.00001873060844497076,-0.00001873060844497076,-0.00001873060844497076,-0.00001873060844497076,-0.00001873060844497076,-0.00001873060844497076,-0.00001873060844497076,-0.00001873060844497076,-0.00001873060844497076,-0.00001873060844497076,-0.00001873060844497076,-0.00001873060844497076,-0.00001873060844497076,-0.00001873060844497076,-0.00001873060844497076,-0.00001873060844497076,-0.00001873060844497076,-0.00001873060844497076,-0.00001873060844497076,-0.00001873060844497076,-0.00001873060844497076,-0.00001873060844497076,-0.00001873060844497076,-0.00001873060844497076,-0.00001873060844497076,-0.00001873060844497076,-0.00001873060844497076,-0.00001873060844497076,-0.00001873060844497076,-0.00001873060844497076,-0.00001873060844497076,-0.00001873060844497076,-0.00001873060844497076,-0.00001873060844497076,-0.00001873060844497076,-0.00001873060844497076,-0.00001873060844497076,-0.00001873060844497076,-0.00001873060844497076,-0.00001873060844497076,-0.00001873060844497076,-0.00001873060844497076,-0.00001873060844497076,-0.00001873060844497076,-0.00001873060844497076,-0.00001873060844497076,-0.00001873060844497076,-0.00001873060844497076,-0.00001873060844497076,-0.00001873060844497076,-0.00001873060844497076,-0.00001873060844497076,-0.00001873060844497076,-0.00001873060844497076,-0.00001873060844497076,-0.00001873060844497076,-0.00001873060844497076,-0.00001873060844497076,-0.00001873060844497076,-0.00001873060844497076,-0.00001873060844497076],\"type\":\"scatter\",\"xaxis\":\"x\",\"yaxis\":\"y\"},{\"line\":{\"color\":\"rgb(57,255,20)\",\"simplify\":true},\"mode\":\"lines\",\"name\":\"pH\",\"opacity\":0.8,\"x\":[0.0,0.4819277108433735,0.963855421686747,1.4457831325301205,1.927710843373494,2.4096385542168672,2.891566265060241,3.3734939759036147,3.855421686746988,4.337349397590361,4.8192771084337345,5.301204819277109,5.783132530120482,6.265060240963855,6.746987951807229,7.228915662650603,7.710843373493976,8.19277108433735,8.674698795180722,9.156626506024097,9.638554216867469,10.120481927710843,10.602409638554217,11.08433734939759,11.566265060240964,12.048192771084338,12.53012048192771,13.012048192771084,13.493975903614459,13.975903614457831,14.457831325301205,14.939759036144578,15.421686746987952,15.903614457831326,16.3855421686747,16.867469879518072,17.349397590361445,17.83132530120482,18.313253012048193,18.795180722891565,19.277108433734938,19.759036144578314,20.240963855421686,20.72289156626506,21.204819277108435,21.686746987951807,22.16867469879518,22.650602409638555,23.132530120481928,23.6144578313253,24.096385542168676,24.57831325301205,25.06024096385542,25.542168674698797,26.02409638554217,26.50602409638554,26.987951807228917,27.46987951807229,27.951807228915662,28.433734939759034,28.91566265060241,29.397590361445783,29.879518072289155,30.36144578313253,30.843373493975903,31.325301204819276,31.80722891566265,32.28915662650602,32.7710843373494,33.25301204819277,33.734939759036145,34.21686746987952,34.69879518072289,35.18072289156626,35.66265060240964,36.144578313253014,36.626506024096386,37.10843373493976,37.59036144578313,38.0722891566265,38.554216867469876,39.036144578313255,39.51807228915663,40.0,40.48192771084337,40.963855421686745,41.44578313253012,41.9277108433735,42.40963855421687,42.89156626506024,43.373493975903614,43.855421686746986,44.33734939759036,44.81927710843374,45.30120481927711,45.78313253012048,46.265060240963855,46.74698795180723,47.2289156626506,47.71084337349397,48.19277108433735,48.674698795180724,49.1566265060241,49.63855421686747,50.12048192771084,50.602409638554214,51.08433734939759,51.566265060240966,52.04819277108434,52.53012048192771,53.01204819277108,53.493975903614455,53.975903614457835,54.45783132530121,54.93975903614458,55.42168674698795,55.903614457831324,56.3855421686747,56.86746987951807,57.34939759036145,57.83132530120482,58.31325301204819,58.795180722891565,59.27710843373494,59.75903614457831,60.24096385542169,60.72289156626506,61.204819277108435,61.68674698795181,62.16867469879518,62.65060240963855,63.132530120481924,63.6144578313253,64.09638554216868,64.57831325301204,65.06024096385542,65.5421686746988,66.02409638554217,66.50602409638554,66.98795180722891,67.46987951807229,67.95180722891567,68.43373493975903,68.91566265060241,69.39759036144578,69.87951807228916,70.36144578313252,70.8433734939759,71.32530120481928,71.80722891566265,72.28915662650603,72.7710843373494,73.25301204819277,73.73493975903614,74.21686746987952,74.6987951807229,75.18072289156626,75.66265060240964,76.144578313253,76.62650602409639,77.10843373493975,77.59036144578313,78.07228915662651,78.55421686746988,79.03614457831326,79.51807228915662,80.0,80.48192771084338,80.96385542168674,81.44578313253012,81.92771084337349,82.40963855421687,82.89156626506023,83.37349397590361,83.855421686747,84.33734939759036,84.81927710843374,85.3012048192771,85.78313253012048,86.26506024096385,86.74698795180723,87.2289156626506,87.71084337349397,88.19277108433735,88.67469879518072,89.1566265060241,89.63855421686748,90.12048192771084,90.60240963855422,91.08433734939759,91.56626506024097,92.04819277108433,92.53012048192771,93.01204819277109,93.49397590361446,93.97590361445783,94.4578313253012,94.93975903614458,95.42168674698794,95.90361445783132,96.3855421686747,96.86746987951807,97.34939759036145,97.83132530120481,98.3132530120482,98.79518072289157,99.27710843373494,99.75903614457832,100.24096385542168,100.72289156626506,101.20481927710843,101.6867469879518,102.16867469879519,102.65060240963855,103.13253012048193,103.6144578313253,104.09638554216868,104.57831325301204,105.06024096385542,105.5421686746988,106.02409638554217,106.50602409638554,106.98795180722891,107.46987951807229,107.95180722891567,108.43373493975903,108.91566265060241,109.39759036144578,109.87951807228916,110.36144578313252,110.8433734939759,111.32530120481928,111.80722891566265,112.28915662650603,112.7710843373494,113.25301204819277,113.73493975903614,114.21686746987952,114.6987951807229,115.18072289156626,115.66265060240964,116.144578313253,116.62650602409639,117.10843373493975,117.59036144578313,118.07228915662651,118.55421686746988,119.03614457831326,119.51807228915662,120.0],\"y\":[7.0,7.0,7.0,7.0,7.0,7.0,7.0,7.0,7.0,7.0,7.0,7.0,7.0,7.0,7.0,7.0,7.0,7.0,7.0,7.0,7.0,7.0,7.0,7.0,7.0,7.0,7.0,7.0,7.0,7.0,7.0,7.0,7.0,7.0,7.0,7.0,7.0,7.0,7.0,7.0,7.0,7.0,7.0,7.0,7.0,7.0,7.0,7.0,7.0,7.0,7.0,7.0,7.0,7.0,7.0,7.0,7.0,7.0,7.0,7.0,7.0,7.0,7.0,7.0,7.0,7.0,7.0,7.0,7.0,7.0,7.0,7.0,7.0,7.0,7.0,7.0,7.0,7.0,7.0,7.0,7.0,7.0,7.0,7.0,7.0,7.0,7.0,7.0,7.0,7.0,7.0,7.0,7.0,7.0,7.0,7.0,7.0,7.0,7.0,7.0,7.0,7.0,7.0,7.0,7.0,7.0,7.0,7.0,7.0,7.0,7.0,7.0,7.0,7.0,7.0,7.0,7.0,7.0,7.0,7.0,7.0,7.0,7.0,7.0,7.0,7.0,7.0,7.0,7.0,7.0,7.0,7.0,7.0,7.0,7.0,7.0,7.0,7.0,7.0,7.0,7.0,7.0,7.0,7.0,7.0,7.0,7.0,7.0,7.0,7.0,7.0,7.0,7.0,7.0,7.0,7.0,7.0,7.0,7.0,7.0,7.0,7.0,7.0,7.0,7.0,7.0,7.0,7.0,7.0,7.0,7.0,7.0,7.0,7.0,7.0,7.0,7.0,7.0,7.0,7.0,7.0,7.0,7.0,7.0,7.0,7.0,7.0,7.0,7.0,7.0,7.0,7.0,7.0,7.0,7.0,7.0,7.0,7.0,7.0,7.0,7.0,7.0,7.0,7.0,7.0,7.0,7.0,7.0,7.0,7.0,7.0,7.0,7.0,7.0,7.0,7.0,7.0,7.0,7.0,7.0,7.0,7.0,7.0,7.0,7.0,7.0,7.0,7.0,7.0,7.0,7.0,7.0,7.0,7.0,7.0,7.0,7.0,7.0,7.0,7.0,7.0,7.0,7.0,7.0,7.0,7.0,7.0,7.0,7.0,7.0],\"type\":\"scatter\",\"xaxis\":\"x2\",\"yaxis\":\"y2\"},{\"line\":{\"color\":\"#cf6f15\",\"simplify\":true},\"mode\":\"lines\",\"name\":\"E_coli_glucose_consumer\",\"opacity\":0.8,\"x\":[0.0,0.4819277108433735,0.963855421686747,1.4457831325301205,1.927710843373494,2.4096385542168672,2.891566265060241,3.3734939759036147,3.855421686746988,4.337349397590361,4.8192771084337345,5.301204819277109,5.783132530120482,6.265060240963855,6.746987951807229,7.228915662650603,7.710843373493976,8.19277108433735,8.674698795180722,9.156626506024097,9.638554216867469,10.120481927710843,10.602409638554217,11.08433734939759,11.566265060240964,12.048192771084338,12.53012048192771,13.012048192771084,13.493975903614459,13.975903614457831,14.457831325301205,14.939759036144578,15.421686746987952,15.903614457831326,16.3855421686747,16.867469879518072,17.349397590361445,17.83132530120482,18.313253012048193,18.795180722891565,19.277108433734938,19.759036144578314,20.240963855421686,20.72289156626506,21.204819277108435,21.686746987951807,22.16867469879518,22.650602409638555,23.132530120481928,23.6144578313253,24.096385542168676,24.57831325301205,25.06024096385542,25.542168674698797,26.02409638554217,26.50602409638554,26.987951807228917,27.46987951807229,27.951807228915662,28.433734939759034,28.91566265060241,29.397590361445783,29.879518072289155,30.36144578313253,30.843373493975903,31.325301204819276,31.80722891566265,32.28915662650602,32.7710843373494,33.25301204819277,33.734939759036145,34.21686746987952,34.69879518072289,35.18072289156626,35.66265060240964,36.144578313253014,36.626506024096386,37.10843373493976,37.59036144578313,38.0722891566265,38.554216867469876,39.036144578313255,39.51807228915663,40.0,40.48192771084337,40.963855421686745,41.44578313253012,41.9277108433735,42.40963855421687,42.89156626506024,43.373493975903614,43.855421686746986,44.33734939759036,44.81927710843374,45.30120481927711,45.78313253012048,46.265060240963855,46.74698795180723,47.2289156626506,47.71084337349397,48.19277108433735,48.674698795180724,49.1566265060241,49.63855421686747,50.12048192771084,50.602409638554214,51.08433734939759,51.566265060240966,52.04819277108434,52.53012048192771,53.01204819277108,53.493975903614455,53.975903614457835,54.45783132530121,54.93975903614458,55.42168674698795,55.903614457831324,56.3855421686747,56.86746987951807,57.34939759036145,57.83132530120482,58.31325301204819,58.795180722891565,59.27710843373494,59.75903614457831,60.24096385542169,60.72289156626506,61.204819277108435,61.68674698795181,62.16867469879518,62.65060240963855,63.132530120481924,63.6144578313253,64.09638554216868,64.57831325301204,65.06024096385542,65.5421686746988,66.02409638554217,66.50602409638554,66.98795180722891,67.46987951807229,67.95180722891567,68.43373493975903,68.91566265060241,69.39759036144578,69.87951807228916,70.36144578313252,70.8433734939759,71.32530120481928,71.80722891566265,72.28915662650603,72.7710843373494,73.25301204819277,73.73493975903614,74.21686746987952,74.6987951807229,75.18072289156626,75.66265060240964,76.144578313253,76.62650602409639,77.10843373493975,77.59036144578313,78.07228915662651,78.55421686746988,79.03614457831326,79.51807228915662,80.0,80.48192771084338,80.96385542168674,81.44578313253012,81.92771084337349,82.40963855421687,82.89156626506023,83.37349397590361,83.855421686747,84.33734939759036,84.81927710843374,85.3012048192771,85.78313253012048,86.26506024096385,86.74698795180723,87.2289156626506,87.71084337349397,88.19277108433735,88.67469879518072,89.1566265060241,89.63855421686748,90.12048192771084,90.60240963855422,91.08433734939759,91.56626506024097,92.04819277108433,92.53012048192771,93.01204819277109,93.49397590361446,93.97590361445783,94.4578313253012,94.93975903614458,95.42168674698794,95.90361445783132,96.3855421686747,96.86746987951807,97.34939759036145,97.83132530120481,98.3132530120482,98.79518072289157,99.27710843373494,99.75903614457832,100.24096385542168,100.72289156626506,101.20481927710843,101.6867469879518,102.16867469879519,102.65060240963855,103.13253012048193,103.6144578313253,104.09638554216868,104.57831325301204,105.06024096385542,105.5421686746988,106.02409638554217,106.50602409638554,106.98795180722891,107.46987951807229,107.95180722891567,108.43373493975903,108.91566265060241,109.39759036144578,109.87951807228916,110.36144578313252,110.8433734939759,111.32530120481928,111.80722891566265,112.28915662650603,112.7710843373494,113.25301204819277,113.73493975903614,114.21686746987952,114.6987951807229,115.18072289156626,115.66265060240964,116.144578313253,116.62650602409639,117.10843373493975,117.59036144578313,118.07228915662651,118.55421686746988,119.03614457831326,119.51807228915662,120.0],\"y\":[1.0,1.2267918494713643,1.5013457112043174,1.8318189740556972,2.2276414083119582,2.691001612650919,3.2263486541840622,3.8318734227305944,4.481236882722079,5.116595354241003,5.677752444273004,6.130381557373911,6.470084990109873,6.723187105361005,6.883168408856402,6.992848885632838,7.069985733867586,7.107048987257392,7.128569865086349,7.150665577884787,7.163922953504083,7.163999334710293,7.132527477387655,7.142328919116886,7.170249078991353,7.202284054388332,7.196813086176934,7.202216117939182,7.183881451971833,7.1938735729302055,7.185375325561747,7.184802828558628,7.18458137121405,7.18808276791461,7.169588168071454,7.176374301763881,7.17167090566152,7.172494638670857,7.195803527623703,7.203088684704463,7.207283943393768,7.209243405760959,7.211449229243965,7.216851069603206,7.237869641982608,7.259251655934668,7.268463336045673,7.311107189252208,7.3101577482110365,7.3147620489255285,7.325403438955189,7.310895545997113,7.311056811247334,7.3323286152718765,7.339622254158429,7.34828192970284,7.361686542844517,7.357020868512403,7.370346458034127,7.383926260523045,7.391983321529884,7.403089271904959,7.401239409229882,7.420096878820364,7.437813316717797,7.454491027704087,7.465063921743537,7.478649129117034,7.478326542868454,7.469683947403349,7.469377364497362,7.468458731974587,7.47352733952918,7.498841371457312,7.4987528478253305,7.506048115709149,7.541298677212748,7.541443894202757,7.533651369860104,7.538180298758993,7.520554454004134,7.532721730135288,7.514620305099864,7.51458294894943,7.51408381092234,7.536318756092308,7.562213599465566,7.564361834835823,7.617299718412749,7.6341026661028994,7.641953283405125,7.648903731699501,7.6612525594123575,7.668182130370784,7.664369105299555,7.660573844804021,7.682209717546349,7.706724281886017,7.708709542963906,7.697579697438499,7.701219969616854,7.71022285893129,7.720807836485418,7.732002313932071,7.74794981201185,7.793675401804372,7.812242125053427,7.844644782736389,7.860602876731378,7.872346730740573,7.869471373946959,7.9006334781851075,7.91943495050705,7.958494591042641,7.96054162490385,7.960438036752418,7.959237548227889,7.962484931488856,7.968470901622914,7.9522561008646315,7.941345305155344,7.96108823498726,7.980556449446512,7.982191253471785,7.997032113815013,8.003745208357039,8.003399082783668,8.004504120156684,8.013891483808456,8.030122691543967,8.035035520998699,8.037687338845926,8.049977520444633,8.047900008203348,8.055207637015855,8.099604996800025,8.096795851660664,8.10125925450411,8.109096643192315,8.113323935297387,8.14613087706835,8.15167663969287,8.149824481208446,8.151876452725661,8.20400748421764,8.214713045288102,8.212825400310283,8.218970824189405,8.254394587587072,8.276143891142056,8.287157035326269,8.296373296880311,8.296629152094779,8.293775154734602,8.30650059751051,8.307742553057732,8.311619024368392,8.312398322888933,8.336824249949707,8.339894635463384,8.34173361961632,8.35297866129763,8.365543654548356,8.388932762307125,8.389432737940565,8.386245765181839,8.387593990531839,8.386606435379667,8.39087000416896,8.381954210180302,8.385779963751835,8.371197007664636,8.389471905608518,8.429279442811696,8.445138997392089,8.444090033882382,8.443964697902123,8.444420761018128,8.459229474160878,8.487587315179377,8.490313383012305,8.484047230296348,8.48471064281509,8.498536238743032,8.525671448349954,8.54529889377076,8.558903347873732,8.590800425551102,8.617970801593689,8.622026366540359,8.62983321052363,8.630265088037904,8.64946292956681,8.650478271517636,8.649221844427595,8.64976430071366,8.690091833845178,8.692697264735555,8.693854043586272,8.713110531301453,8.725715931650946,8.755158738312646,8.748498929801926,8.750564022178779,8.760797041280922,8.7581571116212,8.760565780644564,8.77086953710432,8.79435841779203,8.796683398527666,8.793249062683975,8.786568236738676,8.791925970150603,8.824004245209121,8.854182263917254,8.873078420123264,8.88428368700564,8.892011832944377,8.893467597108462,8.910258295194366,8.921491579650553,8.929746951930982,8.931900402438718,8.935662986668016,8.935588399440622,8.998020151890078,9.003439413490854,9.01759920145025,9.038584021824,9.033734326330151,9.051233578243819,9.057589497730541,9.091312240523974,9.098384983650542,9.10044015918226,9.108052490133737,9.130027874742355,9.123016657879763,9.119994501842287,9.117362217413925,9.130260914580571,9.137078787287143,9.144596677426001,9.148220060271932,9.17231675589573,9.174936024814684,9.20591355857939,9.210224607312323,9.220820395648454,9.220308063373661],\"type\":\"scatter\",\"xaxis\":\"x3\",\"yaxis\":\"y3\"},{\"line\":{\"color\":\"#cf6f15\",\"simplify\":true},\"mode\":\"lines\",\"name\":\"E_coli_acetate_consumer\",\"opacity\":0.8,\"x\":[0.0,0.4819277108433735,0.963855421686747,1.4457831325301205,1.927710843373494,2.4096385542168672,2.891566265060241,3.3734939759036147,3.855421686746988,4.337349397590361,4.8192771084337345,5.301204819277109,5.783132530120482,6.265060240963855,6.746987951807229,7.228915662650603,7.710843373493976,8.19277108433735,8.674698795180722,9.156626506024097,9.638554216867469,10.120481927710843,10.602409638554217,11.08433734939759,11.566265060240964,12.048192771084338,12.53012048192771,13.012048192771084,13.493975903614459,13.975903614457831,14.457831325301205,14.939759036144578,15.421686746987952,15.903614457831326,16.3855421686747,16.867469879518072,17.349397590361445,17.83132530120482,18.313253012048193,18.795180722891565,19.277108433734938,19.759036144578314,20.240963855421686,20.72289156626506,21.204819277108435,21.686746987951807,22.16867469879518,22.650602409638555,23.132530120481928,23.6144578313253,24.096385542168676,24.57831325301205,25.06024096385542,25.542168674698797,26.02409638554217,26.50602409638554,26.987951807228917,27.46987951807229,27.951807228915662,28.433734939759034,28.91566265060241,29.397590361445783,29.879518072289155,30.36144578313253,30.843373493975903,31.325301204819276,31.80722891566265,32.28915662650602,32.7710843373494,33.25301204819277,33.734939759036145,34.21686746987952,34.69879518072289,35.18072289156626,35.66265060240964,36.144578313253014,36.626506024096386,37.10843373493976,37.59036144578313,38.0722891566265,38.554216867469876,39.036144578313255,39.51807228915663,40.0,40.48192771084337,40.963855421686745,41.44578313253012,41.9277108433735,42.40963855421687,42.89156626506024,43.373493975903614,43.855421686746986,44.33734939759036,44.81927710843374,45.30120481927711,45.78313253012048,46.265060240963855,46.74698795180723,47.2289156626506,47.71084337349397,48.19277108433735,48.674698795180724,49.1566265060241,49.63855421686747,50.12048192771084,50.602409638554214,51.08433734939759,51.566265060240966,52.04819277108434,52.53012048192771,53.01204819277108,53.493975903614455,53.975903614457835,54.45783132530121,54.93975903614458,55.42168674698795,55.903614457831324,56.3855421686747,56.86746987951807,57.34939759036145,57.83132530120482,58.31325301204819,58.795180722891565,59.27710843373494,59.75903614457831,60.24096385542169,60.72289156626506,61.204819277108435,61.68674698795181,62.16867469879518,62.65060240963855,63.132530120481924,63.6144578313253,64.09638554216868,64.57831325301204,65.06024096385542,65.5421686746988,66.02409638554217,66.50602409638554,66.98795180722891,67.46987951807229,67.95180722891567,68.43373493975903,68.91566265060241,69.39759036144578,69.87951807228916,70.36144578313252,70.8433734939759,71.32530120481928,71.80722891566265,72.28915662650603,72.7710843373494,73.25301204819277,73.73493975903614,74.21686746987952,74.6987951807229,75.18072289156626,75.66265060240964,76.144578313253,76.62650602409639,77.10843373493975,77.59036144578313,78.07228915662651,78.55421686746988,79.03614457831326,79.51807228915662,80.0,80.48192771084338,80.96385542168674,81.44578313253012,81.92771084337349,82.40963855421687,82.89156626506023,83.37349397590361,83.855421686747,84.33734939759036,84.81927710843374,85.3012048192771,85.78313253012048,86.26506024096385,86.74698795180723,87.2289156626506,87.71084337349397,88.19277108433735,88.67469879518072,89.1566265060241,89.63855421686748,90.12048192771084,90.60240963855422,91.08433734939759,91.56626506024097,92.04819277108433,92.53012048192771,93.01204819277109,93.49397590361446,93.97590361445783,94.4578313253012,94.93975903614458,95.42168674698794,95.90361445783132,96.3855421686747,96.86746987951807,97.34939759036145,97.83132530120481,98.3132530120482,98.79518072289157,99.27710843373494,99.75903614457832,100.24096385542168,100.72289156626506,101.20481927710843,101.6867469879518,102.16867469879519,102.65060240963855,103.13253012048193,103.6144578313253,104.09638554216868,104.57831325301204,105.06024096385542,105.5421686746988,106.02409638554217,106.50602409638554,106.98795180722891,107.46987951807229,107.95180722891567,108.43373493975903,108.91566265060241,109.39759036144578,109.87951807228916,110.36144578313252,110.8433734939759,111.32530120481928,111.80722891566265,112.28915662650603,112.7710843373494,113.25301204819277,113.73493975903614,114.21686746987952,114.6987951807229,115.18072289156626,115.66265060240964,116.144578313253,116.62650602409639,117.10843373493975,117.59036144578313,118.07228915662651,118.55421686746988,119.03614457831326,119.51807228915662,120.0],\"y\":[1.0,1.007445895195718,1.0375515585831079,1.0864012854151173,1.1555859593727222,1.248925548316624,1.3650885703209485,1.5047616389935685,1.6687400689137695,1.86119673787205,2.083621938733774,2.3371120770102114,2.623866130799511,2.945383027908523,3.303790647748409,3.699686460893832,4.132275407261105,4.598204516822822,5.090591813493189,5.59458277923014,6.086178139351295,6.522311662732379,6.8667872603224325,7.1078118883459025,7.275049738771194,7.364157279074635,7.439642623717108,7.444495218381787,7.440380058295526,7.462188983028569,7.510787512854073,7.5222625788696735,7.5080101978536495,7.521344490567891,7.515290473777244,7.547522319899966,7.561185947451509,7.562880695237695,7.5658831749143145,7.569025788521532,7.573785768859698,7.57327999728612,7.578792268842661,7.588250733060047,7.592858940773213,7.605596890653666,7.621900244929646,7.616356898544263,7.618259573979631,7.626748415165649,7.647004981377731,7.751337176848288,7.7603640599017325,7.791642952480668,7.78907392607887,7.876083796077531,7.885598025793847,7.920402246010121,7.930496387865137,7.938424033376358,7.947262004040265,7.975123568600785,7.9898461826518075,8.027873669226121,8.042294276029393,8.045946017901496,8.055484937865094,8.084867667684533,8.108031250298534,8.126502189586537,8.15783051337463,8.182760982696019,8.198231096291684,8.197131597010513,8.192870299564337,8.218342055860951,8.241508441350677,8.277705510103276,8.357704609315537,8.392562983739783,8.412214782289311,8.417180535236838,8.46280343668459,8.473467027455431,8.465041799122837,8.472087256247352,8.521194183169477,8.523980713360979,8.556478907179702,8.571838339440564,8.567056697393452,8.555635218017636,8.60501911772861,8.626270436758572,8.65476674506872,8.682781503959275,8.690862936947589,8.697685140573054,8.689453746290596,8.690025892398875,8.69856362258635,8.706279227882067,8.706910729675917,8.705152517324796,8.70458491372747,8.709056041549372,8.714853220123517,8.754451859326997,8.771700470074238,8.749547758148971,8.74912859323182,8.755945235381054,8.76892210652909,8.76780675297223,8.774119031652306,8.80773452836433,8.835611966285875,8.92084350928585,8.944208169226007,9.043244226194112,9.090707782738692,9.121145060185604,9.13214713344701,9.145755263313191,9.150363132873801,9.186674391742464,9.21784749470766,9.221112366952177,9.218932988636144,9.22139304694701,9.222245699142652,9.230938668703416,9.244784329400648,9.252405103477336,9.320685097227168,9.324772384707792,9.30842367370577,9.3181137705597,9.32910011258044,9.323190732225905,9.475231240562998,9.524762934397112,9.534510865160017,9.5336452260915,9.547309072902614,9.547823434761222,9.594899929941311,9.6277349309716,9.65312444556827,9.68091245485794,9.747102513666531,9.780311369220376,9.776104112084763,9.78252040902273,9.81815480535119,9.835045585583977,9.859488227165922,9.895229188828825,9.905773114792625,9.933694487990646,9.937700921764455,9.941163611892422,9.976548893990625,9.96433566026384,9.98039899364916,9.98425945512492,9.991936439402235,10.05625465867118,10.06221754804895,10.102430607296366,10.103492929432043,10.206844634858985,10.225167501376948,10.239203009370287,10.26286682363414,10.258524418536371,10.254454279260601,10.363112394216625,10.448537674227332,10.472655895539466,10.473873189610542,10.488333769524901,10.499629813340224,10.540858033800243,10.583886120483063,10.607888167736608,10.619539128941405,10.621123297798349,10.62425845640698,10.629442846804759,10.625554984616148,10.64416945463326,10.63205072858847,10.635441787334807,10.62885272499236,10.637969395163312,10.607911095047847,10.600215198647694,10.629054547662287,10.635198377755117,10.634976210334674,10.60977212150313,10.758720363919554,10.831533795821871,10.843463443145215,10.83612156287161,10.872224299254189,10.900932291871065,10.908050810765644,10.919015894486309,10.940436255978309,10.943321104122447,10.972308022676673,10.980107986406203,10.979961368117927,10.979285612975914,10.991785416381669,10.99498423933196,11.029361823251183,11.059820828231402,11.060249304953778,11.05731271284102,11.07950503383804,11.096124767905424,11.121622520530408,11.113938015619617,11.133161146304158,11.142174541490816,11.154290160510673,11.156675937730695,11.15441610399263,11.346999177298457,11.47606955328742,11.487783461667274,11.504485994791885,11.555064514464004,11.603596097769499,11.624024860504228,11.633922751373342,11.653897824634136,11.663568370602512,11.663123820642282,11.655298276466489,11.665730366084473,11.675565281425495,11.707981921210987,11.708194738466753,11.768134215284366,11.835645268523484,11.868914358695225],\"type\":\"scatter\",\"xaxis\":\"x3\",\"yaxis\":\"y3\"},{\"line\":{\"color\":\"#cf6f15\",\"simplify\":true},\"mode\":\"lines\",\"name\":\"E_coli_inactive\",\"opacity\":0.1,\"x\":[0.0,0.4819277108433735,0.963855421686747,1.4457831325301205,1.927710843373494,2.4096385542168672,2.891566265060241,3.3734939759036147,3.855421686746988,4.337349397590361,4.8192771084337345,5.301204819277109,5.783132530120482,6.265060240963855,6.746987951807229,7.228915662650603,7.710843373493976,8.19277108433735,8.674698795180722,9.156626506024097,9.638554216867469,10.120481927710843,10.602409638554217,11.08433734939759,11.566265060240964,12.048192771084338,12.53012048192771,13.012048192771084,13.493975903614459,13.975903614457831,14.457831325301205,14.939759036144578,15.421686746987952,15.903614457831326,16.3855421686747,16.867469879518072,17.349397590361445,17.83132530120482,18.313253012048193,18.795180722891565,19.277108433734938,19.759036144578314,20.240963855421686,20.72289156626506,21.204819277108435,21.686746987951807,22.16867469879518,22.650602409638555,23.132530120481928,23.6144578313253,24.096385542168676,24.57831325301205,25.06024096385542,25.542168674698797,26.02409638554217,26.50602409638554,26.987951807228917,27.46987951807229,27.951807228915662,28.433734939759034,28.91566265060241,29.397590361445783,29.879518072289155,30.36144578313253,30.843373493975903,31.325301204819276,31.80722891566265,32.28915662650602,32.7710843373494,33.25301204819277,33.734939759036145,34.21686746987952,34.69879518072289,35.18072289156626,35.66265060240964,36.144578313253014,36.626506024096386,37.10843373493976,37.59036144578313,38.0722891566265,38.554216867469876,39.036144578313255,39.51807228915663,40.0,40.48192771084337,40.963855421686745,41.44578313253012,41.9277108433735,42.40963855421687,42.89156626506024,43.373493975903614,43.855421686746986,44.33734939759036,44.81927710843374,45.30120481927711,45.78313253012048,46.265060240963855,46.74698795180723,47.2289156626506,47.71084337349397,48.19277108433735,48.674698795180724,49.1566265060241,49.63855421686747,50.12048192771084,50.602409638554214,51.08433734939759,51.566265060240966,52.04819277108434,52.53012048192771,53.01204819277108,53.493975903614455,53.975903614457835,54.45783132530121,54.93975903614458,55.42168674698795,55.903614457831324,56.3855421686747,56.86746987951807,57.34939759036145,57.83132530120482,58.31325301204819,58.795180722891565,59.27710843373494,59.75903614457831,60.24096385542169,60.72289156626506,61.204819277108435,61.68674698795181,62.16867469879518,62.65060240963855,63.132530120481924,63.6144578313253,64.09638554216868,64.57831325301204,65.06024096385542,65.5421686746988,66.02409638554217,66.50602409638554,66.98795180722891,67.46987951807229,67.95180722891567,68.43373493975903,68.91566265060241,69.39759036144578,69.87951807228916,70.36144578313252,70.8433734939759,71.32530120481928,71.80722891566265,72.28915662650603,72.7710843373494,73.25301204819277,73.73493975903614,74.21686746987952,74.6987951807229,75.18072289156626,75.66265060240964,76.144578313253,76.62650602409639,77.10843373493975,77.59036144578313,78.07228915662651,78.55421686746988,79.03614457831326,79.51807228915662,80.0,80.48192771084338,80.96385542168674,81.44578313253012,81.92771084337349,82.40963855421687,82.89156626506023,83.37349397590361,83.855421686747,84.33734939759036,84.81927710843374,85.3012048192771,85.78313253012048,86.26506024096385,86.74698795180723,87.2289156626506,87.71084337349397,88.19277108433735,88.67469879518072,89.1566265060241,89.63855421686748,90.12048192771084,90.60240963855422,91.08433734939759,91.56626506024097,92.04819277108433,92.53012048192771,93.01204819277109,93.49397590361446,93.97590361445783,94.4578313253012,94.93975903614458,95.42168674698794,95.90361445783132,96.3855421686747,96.86746987951807,97.34939759036145,97.83132530120481,98.3132530120482,98.79518072289157,99.27710843373494,99.75903614457832,100.24096385542168,100.72289156626506,101.20481927710843,101.6867469879518,102.16867469879519,102.65060240963855,103.13253012048193,103.6144578313253,104.09638554216868,104.57831325301204,105.06024096385542,105.5421686746988,106.02409638554217,106.50602409638554,106.98795180722891,107.46987951807229,107.95180722891567,108.43373493975903,108.91566265060241,109.39759036144578,109.87951807228916,110.36144578313252,110.8433734939759,111.32530120481928,111.80722891566265,112.28915662650603,112.7710843373494,113.25301204819277,113.73493975903614,114.21686746987952,114.6987951807229,115.18072289156626,115.66265060240964,116.144578313253,116.62650602409639,117.10843373493975,117.59036144578313,118.07228915662651,118.55421686746988,119.03614457831326,119.51807228915662,120.0],\"y\":[1.0,1.0000053965310345,1.0000119986723786,1.0000200572943962,1.0000298656061912,1.0000417480584824,1.0000560398347504,1.0000730921220105,1.0000931899672223,1.0001164225272565,1.0001425439769829,1.0001711601227714,1.000201701038064,1.0002336607870868,1.0002666349614835,1.0003002482957097,1.0003343469782335,1.000368723323165,1.0004032722945049,1.0004379341597553,1.0004727143629446,1.000507554209175,1.000542327238659,1.0005770530774392,1.0006118852714396,1.0006468733123366,1.0006819435653473,1.0007169923001462,1.000752032611187,1.0007870246173918,1.0008220508622112,1.000857041544495,1.0008920279563052,1.0009270220143076,1.0009619885034233,1.0009969005614936,1.00103185261471,1.0010667736283156,1.0011017583721928,1.0011368228705873,1.0011719114762634,1.0012070153191266,1.001242127260997,1.00127726487223,1.0013124512307179,1.001347775609166,1.0013831425878494,1.0014186319379128,1.0014542302423601,1.0014898278251068,1.0015254820884203,1.0015611284777188,1.0015967309738811,1.0016323900625073,1.0016681156649538,1.0017038817492974,1.0017397168477624,1.00177556752862,1.0018114334047474,1.0018473713561915,1.001883353139993,1.0019193902474588,1.001955457251047,1.0019915447409324,1.0020277267357518,1.0020640054982508,1.002100332399676,1.002136739354759,1.002173162835735,1.0022095793841825,1.0022459674927728,1.0022823599460304,1.0023187500345732,1.0023552253414965,1.0023917674148157,1.0024283101898417,1.0024649695492966,1.002501711862122,1.0025384370388388,1.002575156937598,1.0026118522743166,1.0026485412240556,1.0026852175004988,1.0027218398842146,1.0027584619784708,1.0027951224296483,1.0028319213717298,1.0028687830509746,1.0029057599527726,1.0029429235250322,1.002980151963709,1.00301740344612,1.0030547103028784,1.0030920683704958,1.0031294326860907,1.0031667800870094,1.0032041574241597,1.0032416563350521,1.0032792287346692,1.0033167745475462,1.003354295432579,1.0033918545384122,1.0034294609547367,1.0034671064053668,1.0035048173590022,1.0035426879214762,1.0035807141141346,1.0036188609032415,1.0036571287979894,1.0036954582579027,1.0037338121257018,1.0037722228702142,1.0038107568640489,1.003849437714014,1.0038882222712395,1.0039270095457442,1.0039657999610503,1.004004587838075,1.0040433939648288,1.0040822060265386,1.004120943391861,1.004159688071247,1.004198552934471,1.0042374565933099,1.0042763925652813,1.00431539738424,1.004354417037069,1.004393436929808,1.0044324669469962,1.004471569942456,1.0045107309268904,1.0045499064062828,1.0045891181391202,1.0046283618923744,1.00466759686647,1.0047069585829693,1.0047464606963643,1.0047859546032665,1.004825448306243,1.0048650087953082,1.004904613694959,1.0049443470136206,1.0049840874957043,1.0050238348378462,1.0050636847382959,1.005103716418562,1.0051437608829463,1.005183819768748,1.0052239670416316,1.005264282851597,1.0053046598930737,1.0053450876847496,1.0053855475544025,1.0054259919950934,1.0054664669936435,1.0055069739656493,1.005547492595008,1.0055880320111772,1.0056286284649856,1.005669296084354,1.005709964277261,1.0057506680644384,1.0057914476814507,1.0058322910904787,1.0058732006035027,1.0059141075001254,1.005955005970217,1.00599590974425,1.0060368213595228,1.006077730931461,1.0061186105588193,1.0061594884562524,1.0062003752943793,1.0062413838742703,1.0062825512461955,1.0063237432831713,1.0063649326445705,1.0064061229116,1.0064473336176023,1.006488684459158,1.0065300981525205,1.0065715105300264,1.0066129015696115,1.0066543298805017,1.0066958580428893,1.0067375096314959,1.0067792331143939,1.0068210653301617,1.0068630491129045,1.0069051164266691,1.0069471868929027,1.0069892897845854,1.0070314347200124,1.007073642939042,1.0071158339564308,1.0071580336758184,1.0072003109698204,1.0072427125673173,1.007285117275395,1.0073275548330933,1.0073701022783659,1.0074126977255224,1.007455428095202,1.0074981056815597,1.0075408321682071,1.007583575425804,1.007626308783962,1.0076690650042706,1.0077119203929272,1.0077548366774771,1.0077977515421372,1.0078406399668696,1.0078835174532321,1.007926490203745,1.0079696225947492,1.008012874427614,1.008056196288565,1.0080995517876326,1.008142943335423,1.0081863687052102,1.008229873115298,1.0082734177016577,1.0083169942632757,1.0083605735938341,1.0084041886496122,1.0084479087050835,1.0084918372819487,1.0085357815230103,1.0085798306440277,1.008623919125036,1.008668031916747,1.0087122097613912,1.0087564971613805,1.008800891185274,1.0088452990147987,1.0088897241081327,1.0089342269551098,1.0089787777289865,1.009023292541665,1.0090678036125584,1.00911232180757,1.0091569144759496,1.0092015194427568,1.0092461542439515,1.0092908629096786,1.0093356354872913,1.0093804843775114,1.0094254148427155,1.009470401880048,1.0095154323824933],\"type\":\"scatter\",\"xaxis\":\"x3\",\"yaxis\":\"y3\"},{\"line\":{\"color\":\"#54f542\",\"simplify\":true,\"width\":2},\"mode\":\"lines\",\"name\":\"E_coli_active\",\"opacity\":1,\"x\":[0.0,0.4819277108433735,0.963855421686747,1.4457831325301205,1.927710843373494,2.4096385542168672,2.891566265060241,3.3734939759036147,3.855421686746988,4.337349397590361,4.8192771084337345,5.301204819277109,5.783132530120482,6.265060240963855,6.746987951807229,7.228915662650603,7.710843373493976,8.19277108433735,8.674698795180722,9.156626506024097,9.638554216867469,10.120481927710843,10.602409638554217,11.08433734939759,11.566265060240964,12.048192771084338,12.53012048192771,13.012048192771084,13.493975903614459,13.975903614457831,14.457831325301205,14.939759036144578,15.421686746987952,15.903614457831326,16.3855421686747,16.867469879518072,17.349397590361445,17.83132530120482,18.313253012048193,18.795180722891565,19.277108433734938,19.759036144578314,20.240963855421686,20.72289156626506,21.204819277108435,21.686746987951807,22.16867469879518,22.650602409638555,23.132530120481928,23.6144578313253,24.096385542168676,24.57831325301205,25.06024096385542,25.542168674698797,26.02409638554217,26.50602409638554,26.987951807228917,27.46987951807229,27.951807228915662,28.433734939759034,28.91566265060241,29.397590361445783,29.879518072289155,30.36144578313253,30.843373493975903,31.325301204819276,31.80722891566265,32.28915662650602,32.7710843373494,33.25301204819277,33.734939759036145,34.21686746987952,34.69879518072289,35.18072289156626,35.66265060240964,36.144578313253014,36.626506024096386,37.10843373493976,37.59036144578313,38.0722891566265,38.554216867469876,39.036144578313255,39.51807228915663,40.0,40.48192771084337,40.963855421686745,41.44578313253012,41.9277108433735,42.40963855421687,42.89156626506024,43.373493975903614,43.855421686746986,44.33734939759036,44.81927710843374,45.30120481927711,45.78313253012048,46.265060240963855,46.74698795180723,47.2289156626506,47.71084337349397,48.19277108433735,48.674698795180724,49.1566265060241,49.63855421686747,50.12048192771084,50.602409638554214,51.08433734939759,51.566265060240966,52.04819277108434,52.53012048192771,53.01204819277108,53.493975903614455,53.975903614457835,54.45783132530121,54.93975903614458,55.42168674698795,55.903614457831324,56.3855421686747,56.86746987951807,57.34939759036145,57.83132530120482,58.31325301204819,58.795180722891565,59.27710843373494,59.75903614457831,60.24096385542169,60.72289156626506,61.204819277108435,61.68674698795181,62.16867469879518,62.65060240963855,63.132530120481924,63.6144578313253,64.09638554216868,64.57831325301204,65.06024096385542,65.5421686746988,66.02409638554217,66.50602409638554,66.98795180722891,67.46987951807229,67.95180722891567,68.43373493975903,68.91566265060241,69.39759036144578,69.87951807228916,70.36144578313252,70.8433734939759,71.32530120481928,71.80722891566265,72.28915662650603,72.7710843373494,73.25301204819277,73.73493975903614,74.21686746987952,74.6987951807229,75.18072289156626,75.66265060240964,76.144578313253,76.62650602409639,77.10843373493975,77.59036144578313,78.07228915662651,78.55421686746988,79.03614457831326,79.51807228915662,80.0,80.48192771084338,80.96385542168674,81.44578313253012,81.92771084337349,82.40963855421687,82.89156626506023,83.37349397590361,83.855421686747,84.33734939759036,84.81927710843374,85.3012048192771,85.78313253012048,86.26506024096385,86.74698795180723,87.2289156626506,87.71084337349397,88.19277108433735,88.67469879518072,89.1566265060241,89.63855421686748,90.12048192771084,90.60240963855422,91.08433734939759,91.56626506024097,92.04819277108433,92.53012048192771,93.01204819277109,93.49397590361446,93.97590361445783,94.4578313253012,94.93975903614458,95.42168674698794,95.90361445783132,96.3855421686747,96.86746987951807,97.34939759036145,97.83132530120481,98.3132530120482,98.79518072289157,99.27710843373494,99.75903614457832,100.24096385542168,100.72289156626506,101.20481927710843,101.6867469879518,102.16867469879519,102.65060240963855,103.13253012048193,103.6144578313253,104.09638554216868,104.57831325301204,105.06024096385542,105.5421686746988,106.02409638554217,106.50602409638554,106.98795180722891,107.46987951807229,107.95180722891567,108.43373493975903,108.91566265060241,109.39759036144578,109.87951807228916,110.36144578313252,110.8433734939759,111.32530120481928,111.80722891566265,112.28915662650603,112.7710843373494,113.25301204819277,113.73493975903614,114.21686746987952,114.6987951807229,115.18072289156626,115.66265060240964,116.144578313253,116.62650602409639,117.10843373493975,117.59036144578313,118.07228915662651,118.55421686746988,119.03614457831326,119.51807228915662,120.0],\"y\":[2.0,2.234237744667082,2.5388972697874252,2.9182202594708144,3.3832273676846807,3.939927160967543,4.591437224505011,5.336635061724163,6.149976951635849,6.977792092113053,7.761374383006778,8.467493634384123,9.093951120909384,9.668570133269528,10.18695905660481,10.69253534652667,11.202261141128691,11.705253504080215,12.219161678579539,12.745248357114928,13.250101092855378,13.686310997442671,13.999314737710087,14.250140807462788,14.445298817762547,14.566441333462967,14.636455709894042,14.646711336320969,14.62426151026736,14.656062555958774,14.69616283841582,14.707065407428303,14.6925915690677,14.709427258482501,14.684878641848698,14.723896621663847,14.732856853113029,14.735375333908552,14.761686702538018,14.772114473225995,14.781069712253466,14.78252340304708,14.790241498086626,14.805101802663252,14.830728582755821,14.864848546588334,14.890363580975318,14.927464087796471,14.928417322190668,14.941510464091177,14.97240842033292,15.062232722845401,15.071420871149066,15.123971567752545,15.128696180237299,15.224365725780372,15.247284568638364,15.277423114522524,15.300842845899265,15.322350293899403,15.33924532557015,15.378212840505743,15.39108559188169,15.447970548046484,15.48010759274719,15.500437045605583,15.520548859608631,15.563516796801567,15.58635779316699,15.596186136989886,15.627207877871992,15.651219714670606,15.671758435820863,15.695972968467824,15.691623147389667,15.7243901715701,15.782807118563426,15.819149404306033,15.891355979175641,15.930743282498776,15.932769236293446,15.949902265372126,15.977423741784454,15.988049976404861,15.979125610045177,16.008406012339663,16.083407782635042,16.088342548196803,16.17377862559245,16.205941005543465,16.209009980798577,16.204538949717136,16.266271677140967,16.294452567129355,16.319135850368276,16.343355348763296,16.37307265449394,16.40440942245907,16.3981632892545,16.387605589837374,16.399783592203207,16.416502086813356,16.427718566161335,16.43715483125687,16.45253472573932,16.502731443353746,16.527095345176946,16.599096642063387,16.632303346805617,16.621894488889545,16.618599967178778,16.656578713566162,16.68835705703614,16.72630134401487,16.734660656556155,16.76817256511675,16.794849514513764,16.883328440774704,16.91267907084892,16.995500327058743,17.032053087894035,17.082233295172863,17.112703582893523,17.127946516784977,17.147395246688816,17.190419600099503,17.22124657749133,17.22561648710886,17.232824472444598,17.25151573849098,17.25728122014135,17.268626007549344,17.29476184984528,17.300305111680686,17.375892734243024,17.424377381507817,17.405219525366434,17.419373025063813,17.438196755772754,17.43651466752329,17.62136211763135,17.676439574089983,17.684335346368464,17.68552167881716,17.751316557120255,17.762536480049324,17.807725330251593,17.846705755161004,17.907519033155342,17.957056345999995,18.0342595489928,18.07668466610069,18.07273326417954,18.076295563757334,18.1246554028617,18.14278813864171,18.171107251534316,18.20762751171776,18.24259736474233,18.27358912345403,18.279434541380773,18.294142273190054,18.34209254853898,18.353268422570963,18.369831731589727,18.37050522030676,18.37953042993407,18.442861094050848,18.45308755221791,18.484384817476666,18.48927289318388,18.578041642523623,18.614639406985468,18.668482452181983,18.708005821026227,18.702614452418754,18.698418977162724,18.80753315523475,18.90776714838821,18.960243210718843,18.964186572622847,18.972380999821247,18.984340456155316,19.039394272543277,19.10955756883302,19.153187061507367,19.178442476815135,19.21192372334945,19.24222925800067,19.251469213345118,19.25538819513978,19.274434542671166,19.28151365815528,19.285920058852444,19.278074569419957,19.287733695876973,19.298002928893027,19.29291246338325,19.32290859124856,19.34830890905657,19.36069214198562,19.36493085981578,19.50721929372148,19.582097818000648,19.604260484426135,19.59427867449281,19.632790079898754,19.671801828975383,19.702409228557674,19.715699293013977,19.733685318662282,19.72988934086112,19.764233992827275,19.804112231615324,19.83414363203518,19.852364033099178,19.87606910338731,19.886996072276336,19.922829420359644,19.97007912342577,19.98174088460433,19.987059664772,20.011405436276757,20.03178775457344,20.05721091997103,20.111958167509695,20.136600559795014,20.159773742941066,20.192874182334673,20.190410264060844,20.205649682236448,20.404588675028997,20.567381793811393,20.586168445317817,20.604926153974144,20.66311700459774,20.733623972511854,20.74704151838399,20.75391725321563,20.771260042048063,20.793829285183083,20.800202607929425,20.79989495389249,20.813950426356406,20.847882037321227,20.88291794602567,20.91410829704614,20.97835882259669,21.056465664171938,21.089222422068886],\"type\":\"scatter\",\"xaxis\":\"x4\",\"yaxis\":\"y4\"},{\"line\":{\"color\":\"#54f542\",\"simplify\":true,\"width\":2},\"mode\":\"lines\",\"name\":\"E_coli_inactive\",\"opacity\":0.1,\"x\":[0.0,0.4819277108433735,0.963855421686747,1.4457831325301205,1.927710843373494,2.4096385542168672,2.891566265060241,3.3734939759036147,3.855421686746988,4.337349397590361,4.8192771084337345,5.301204819277109,5.783132530120482,6.265060240963855,6.746987951807229,7.228915662650603,7.710843373493976,8.19277108433735,8.674698795180722,9.156626506024097,9.638554216867469,10.120481927710843,10.602409638554217,11.08433734939759,11.566265060240964,12.048192771084338,12.53012048192771,13.012048192771084,13.493975903614459,13.975903614457831,14.457831325301205,14.939759036144578,15.421686746987952,15.903614457831326,16.3855421686747,16.867469879518072,17.349397590361445,17.83132530120482,18.313253012048193,18.795180722891565,19.277108433734938,19.759036144578314,20.240963855421686,20.72289156626506,21.204819277108435,21.686746987951807,22.16867469879518,22.650602409638555,23.132530120481928,23.6144578313253,24.096385542168676,24.57831325301205,25.06024096385542,25.542168674698797,26.02409638554217,26.50602409638554,26.987951807228917,27.46987951807229,27.951807228915662,28.433734939759034,28.91566265060241,29.397590361445783,29.879518072289155,30.36144578313253,30.843373493975903,31.325301204819276,31.80722891566265,32.28915662650602,32.7710843373494,33.25301204819277,33.734939759036145,34.21686746987952,34.69879518072289,35.18072289156626,35.66265060240964,36.144578313253014,36.626506024096386,37.10843373493976,37.59036144578313,38.0722891566265,38.554216867469876,39.036144578313255,39.51807228915663,40.0,40.48192771084337,40.963855421686745,41.44578313253012,41.9277108433735,42.40963855421687,42.89156626506024,43.373493975903614,43.855421686746986,44.33734939759036,44.81927710843374,45.30120481927711,45.78313253012048,46.265060240963855,46.74698795180723,47.2289156626506,47.71084337349397,48.19277108433735,48.674698795180724,49.1566265060241,49.63855421686747,50.12048192771084,50.602409638554214,51.08433734939759,51.566265060240966,52.04819277108434,52.53012048192771,53.01204819277108,53.493975903614455,53.975903614457835,54.45783132530121,54.93975903614458,55.42168674698795,55.903614457831324,56.3855421686747,56.86746987951807,57.34939759036145,57.83132530120482,58.31325301204819,58.795180722891565,59.27710843373494,59.75903614457831,60.24096385542169,60.72289156626506,61.204819277108435,61.68674698795181,62.16867469879518,62.65060240963855,63.132530120481924,63.6144578313253,64.09638554216868,64.57831325301204,65.06024096385542,65.5421686746988,66.02409638554217,66.50602409638554,66.98795180722891,67.46987951807229,67.95180722891567,68.43373493975903,68.91566265060241,69.39759036144578,69.87951807228916,70.36144578313252,70.8433734939759,71.32530120481928,71.80722891566265,72.28915662650603,72.7710843373494,73.25301204819277,73.73493975903614,74.21686746987952,74.6987951807229,75.18072289156626,75.66265060240964,76.144578313253,76.62650602409639,77.10843373493975,77.59036144578313,78.07228915662651,78.55421686746988,79.03614457831326,79.51807228915662,80.0,80.48192771084338,80.96385542168674,81.44578313253012,81.92771084337349,82.40963855421687,82.89156626506023,83.37349397590361,83.855421686747,84.33734939759036,84.81927710843374,85.3012048192771,85.78313253012048,86.26506024096385,86.74698795180723,87.2289156626506,87.71084337349397,88.19277108433735,88.67469879518072,89.1566265060241,89.63855421686748,90.12048192771084,90.60240963855422,91.08433734939759,91.56626506024097,92.04819277108433,92.53012048192771,93.01204819277109,93.49397590361446,93.97590361445783,94.4578313253012,94.93975903614458,95.42168674698794,95.90361445783132,96.3855421686747,96.86746987951807,97.34939759036145,97.83132530120481,98.3132530120482,98.79518072289157,99.27710843373494,99.75903614457832,100.24096385542168,100.72289156626506,101.20481927710843,101.6867469879518,102.16867469879519,102.65060240963855,103.13253012048193,103.6144578313253,104.09638554216868,104.57831325301204,105.06024096385542,105.5421686746988,106.02409638554217,106.50602409638554,106.98795180722891,107.46987951807229,107.95180722891567,108.43373493975903,108.91566265060241,109.39759036144578,109.87951807228916,110.36144578313252,110.8433734939759,111.32530120481928,111.80722891566265,112.28915662650603,112.7710843373494,113.25301204819277,113.73493975903614,114.21686746987952,114.6987951807229,115.18072289156626,115.66265060240964,116.144578313253,116.62650602409639,117.10843373493975,117.59036144578313,118.07228915662651,118.55421686746988,119.03614457831326,119.51807228915662,120.0],\"y\":[1.0,1.0000053965310345,1.0000119986723786,1.0000200572943962,1.0000298656061912,1.0000417480584824,1.0000560398347504,1.0000730921220105,1.0000931899672223,1.0001164225272565,1.0001425439769829,1.0001711601227714,1.000201701038064,1.0002336607870868,1.0002666349614835,1.0003002482957097,1.0003343469782335,1.000368723323165,1.0004032722945049,1.0004379341597553,1.0004727143629446,1.000507554209175,1.000542327238659,1.0005770530774392,1.0006118852714396,1.0006468733123366,1.0006819435653473,1.0007169923001462,1.000752032611187,1.0007870246173918,1.0008220508622112,1.000857041544495,1.0008920279563052,1.0009270220143076,1.0009619885034233,1.0009969005614936,1.00103185261471,1.0010667736283156,1.0011017583721928,1.0011368228705873,1.0011719114762634,1.0012070153191266,1.001242127260997,1.00127726487223,1.0013124512307179,1.001347775609166,1.0013831425878494,1.0014186319379128,1.0014542302423601,1.0014898278251068,1.0015254820884203,1.0015611284777188,1.0015967309738811,1.0016323900625073,1.0016681156649538,1.0017038817492974,1.0017397168477624,1.00177556752862,1.0018114334047474,1.0018473713561915,1.001883353139993,1.0019193902474588,1.001955457251047,1.0019915447409324,1.0020277267357518,1.0020640054982508,1.002100332399676,1.002136739354759,1.002173162835735,1.0022095793841825,1.0022459674927728,1.0022823599460304,1.0023187500345732,1.0023552253414965,1.0023917674148157,1.0024283101898417,1.0024649695492966,1.002501711862122,1.0025384370388388,1.002575156937598,1.0026118522743166,1.0026485412240556,1.0026852175004988,1.0027218398842146,1.0027584619784708,1.0027951224296483,1.0028319213717298,1.0028687830509746,1.0029057599527726,1.0029429235250322,1.002980151963709,1.00301740344612,1.0030547103028784,1.0030920683704958,1.0031294326860907,1.0031667800870094,1.0032041574241597,1.0032416563350521,1.0032792287346692,1.0033167745475462,1.003354295432579,1.0033918545384122,1.0034294609547367,1.0034671064053668,1.0035048173590022,1.0035426879214762,1.0035807141141346,1.0036188609032415,1.0036571287979894,1.0036954582579027,1.0037338121257018,1.0037722228702142,1.0038107568640489,1.003849437714014,1.0038882222712395,1.0039270095457442,1.0039657999610503,1.004004587838075,1.0040433939648288,1.0040822060265386,1.004120943391861,1.004159688071247,1.004198552934471,1.0042374565933099,1.0042763925652813,1.00431539738424,1.004354417037069,1.004393436929808,1.0044324669469962,1.004471569942456,1.0045107309268904,1.0045499064062828,1.0045891181391202,1.0046283618923744,1.00466759686647,1.0047069585829693,1.0047464606963643,1.0047859546032665,1.004825448306243,1.0048650087953082,1.004904613694959,1.0049443470136206,1.0049840874957043,1.0050238348378462,1.0050636847382959,1.005103716418562,1.0051437608829463,1.005183819768748,1.0052239670416316,1.005264282851597,1.0053046598930737,1.0053450876847496,1.0053855475544025,1.0054259919950934,1.0054664669936435,1.0055069739656493,1.005547492595008,1.0055880320111772,1.0056286284649856,1.005669296084354,1.005709964277261,1.0057506680644384,1.0057914476814507,1.0058322910904787,1.0058732006035027,1.0059141075001254,1.005955005970217,1.00599590974425,1.0060368213595228,1.006077730931461,1.0061186105588193,1.0061594884562524,1.0062003752943793,1.0062413838742703,1.0062825512461955,1.0063237432831713,1.0063649326445705,1.0064061229116,1.0064473336176023,1.006488684459158,1.0065300981525205,1.0065715105300264,1.0066129015696115,1.0066543298805017,1.0066958580428893,1.0067375096314959,1.0067792331143939,1.0068210653301617,1.0068630491129045,1.0069051164266691,1.0069471868929027,1.0069892897845854,1.0070314347200124,1.007073642939042,1.0071158339564308,1.0071580336758184,1.0072003109698204,1.0072427125673173,1.007285117275395,1.0073275548330933,1.0073701022783659,1.0074126977255224,1.007455428095202,1.0074981056815597,1.0075408321682071,1.007583575425804,1.007626308783962,1.0076690650042706,1.0077119203929272,1.0077548366774771,1.0077977515421372,1.0078406399668696,1.0078835174532321,1.007926490203745,1.0079696225947492,1.008012874427614,1.008056196288565,1.0080995517876326,1.008142943335423,1.0081863687052102,1.008229873115298,1.0082734177016577,1.0083169942632757,1.0083605735938341,1.0084041886496122,1.0084479087050835,1.0084918372819487,1.0085357815230103,1.0085798306440277,1.008623919125036,1.008668031916747,1.0087122097613912,1.0087564971613805,1.008800891185274,1.0088452990147987,1.0088897241081327,1.0089342269551098,1.0089787777289865,1.009023292541665,1.0090678036125584,1.00911232180757,1.0091569144759496,1.0092015194427568,1.0092461542439515,1.0092908629096786,1.0093356354872913,1.0093804843775114,1.0094254148427155,1.009470401880048,1.0095154323824933],\"type\":\"scatter\",\"xaxis\":\"x4\",\"yaxis\":\"y4\"},{\"line\":{\"color\":\"#54f542\",\"simplify\":true,\"width\":2},\"mode\":\"lines\",\"name\":\"E_coli_dead\",\"opacity\":0.1,\"x\":[0.0,0.4819277108433735,0.963855421686747,1.4457831325301205,1.927710843373494,2.4096385542168672,2.891566265060241,3.3734939759036147,3.855421686746988,4.337349397590361,4.8192771084337345,5.301204819277109,5.783132530120482,6.265060240963855,6.746987951807229,7.228915662650603,7.710843373493976,8.19277108433735,8.674698795180722,9.156626506024097,9.638554216867469,10.120481927710843,10.602409638554217,11.08433734939759,11.566265060240964,12.048192771084338,12.53012048192771,13.012048192771084,13.493975903614459,13.975903614457831,14.457831325301205,14.939759036144578,15.421686746987952,15.903614457831326,16.3855421686747,16.867469879518072,17.349397590361445,17.83132530120482,18.313253012048193,18.795180722891565,19.277108433734938,19.759036144578314,20.240963855421686,20.72289156626506,21.204819277108435,21.686746987951807,22.16867469879518,22.650602409638555,23.132530120481928,23.6144578313253,24.096385542168676,24.57831325301205,25.06024096385542,25.542168674698797,26.02409638554217,26.50602409638554,26.987951807228917,27.46987951807229,27.951807228915662,28.433734939759034,28.91566265060241,29.397590361445783,29.879518072289155,30.36144578313253,30.843373493975903,31.325301204819276,31.80722891566265,32.28915662650602,32.7710843373494,33.25301204819277,33.734939759036145,34.21686746987952,34.69879518072289,35.18072289156626,35.66265060240964,36.144578313253014,36.626506024096386,37.10843373493976,37.59036144578313,38.0722891566265,38.554216867469876,39.036144578313255,39.51807228915663,40.0,40.48192771084337,40.963855421686745,41.44578313253012,41.9277108433735,42.40963855421687,42.89156626506024,43.373493975903614,43.855421686746986,44.33734939759036,44.81927710843374,45.30120481927711,45.78313253012048,46.265060240963855,46.74698795180723,47.2289156626506,47.71084337349397,48.19277108433735,48.674698795180724,49.1566265060241,49.63855421686747,50.12048192771084,50.602409638554214,51.08433734939759,51.566265060240966,52.04819277108434,52.53012048192771,53.01204819277108,53.493975903614455,53.975903614457835,54.45783132530121,54.93975903614458,55.42168674698795,55.903614457831324,56.3855421686747,56.86746987951807,57.34939759036145,57.83132530120482,58.31325301204819,58.795180722891565,59.27710843373494,59.75903614457831,60.24096385542169,60.72289156626506,61.204819277108435,61.68674698795181,62.16867469879518,62.65060240963855,63.132530120481924,63.6144578313253,64.09638554216868,64.57831325301204,65.06024096385542,65.5421686746988,66.02409638554217,66.50602409638554,66.98795180722891,67.46987951807229,67.95180722891567,68.43373493975903,68.91566265060241,69.39759036144578,69.87951807228916,70.36144578313252,70.8433734939759,71.32530120481928,71.80722891566265,72.28915662650603,72.7710843373494,73.25301204819277,73.73493975903614,74.21686746987952,74.6987951807229,75.18072289156626,75.66265060240964,76.144578313253,76.62650602409639,77.10843373493975,77.59036144578313,78.07228915662651,78.55421686746988,79.03614457831326,79.51807228915662,80.0,80.48192771084338,80.96385542168674,81.44578313253012,81.92771084337349,82.40963855421687,82.89156626506023,83.37349397590361,83.855421686747,84.33734939759036,84.81927710843374,85.3012048192771,85.78313253012048,86.26506024096385,86.74698795180723,87.2289156626506,87.71084337349397,88.19277108433735,88.67469879518072,89.1566265060241,89.63855421686748,90.12048192771084,90.60240963855422,91.08433734939759,91.56626506024097,92.04819277108433,92.53012048192771,93.01204819277109,93.49397590361446,93.97590361445783,94.4578313253012,94.93975903614458,95.42168674698794,95.90361445783132,96.3855421686747,96.86746987951807,97.34939759036145,97.83132530120481,98.3132530120482,98.79518072289157,99.27710843373494,99.75903614457832,100.24096385542168,100.72289156626506,101.20481927710843,101.6867469879518,102.16867469879519,102.65060240963855,103.13253012048193,103.6144578313253,104.09638554216868,104.57831325301204,105.06024096385542,105.5421686746988,106.02409638554217,106.50602409638554,106.98795180722891,107.46987951807229,107.95180722891567,108.43373493975903,108.91566265060241,109.39759036144578,109.87951807228916,110.36144578313252,110.8433734939759,111.32530120481928,111.80722891566265,112.28915662650603,112.7710843373494,113.25301204819277,113.73493975903614,114.21686746987952,114.6987951807229,115.18072289156626,115.66265060240964,116.144578313253,116.62650602409639,117.10843373493975,117.59036144578313,118.07228915662651,118.55421686746988,119.03614457831326,119.51807228915662,120.0],\"y\":[0.0,0.0,0.0,0.0,0.0,0.0,0.0,0.0,0.0,0.0,0.0,0.0,0.0,0.0,0.0,0.0,0.0,0.0,0.0,0.0,0.0,0.0,0.0,0.0,0.0,0.0,0.0,0.0,0.0,0.0,0.0,0.0,0.0,0.0,0.0,0.0,0.0,0.0,0.0,0.0,0.0,0.0,0.0,0.0,0.0,0.0,0.0,0.0,0.0,0.0,0.0,0.0,0.0,0.0,0.0,0.0,0.0,0.0,0.0,0.0,0.0,0.0,0.0,0.0,0.0,0.0,0.0,0.0,0.0,0.0,0.0,0.0,0.0,0.0,0.0,0.0,0.0,0.0,0.0,0.0,0.0,0.0,0.0,0.0,0.0,0.0,0.0,0.0,0.0,0.0,0.0,0.0,0.0,0.0,0.0,0.0,0.0,0.0,0.0,0.0,0.0,0.0,0.0,0.0,0.0,0.0,0.0,0.0,0.0,0.0,0.0,0.0,0.0,0.0,0.0,0.0,0.0,0.0,0.0,0.0,0.0,0.0,0.0,0.0,0.0,0.0,0.0,0.0,0.0,0.0,0.0,0.0,0.0,0.0,0.0,0.0,0.0,0.0,0.0,0.0,0.0,0.0,0.0,0.0,0.0,0.0,0.0,0.0,0.0,0.0,0.0,0.0,0.0,0.0,0.0,0.0,0.0,0.0,0.0,0.0,0.0,0.0,0.0,0.0,0.0,0.0,0.0,0.0,0.0,0.0,0.0,0.0,0.0,0.0,0.0,0.0,0.0,0.0,0.0,0.0,0.0,0.0,0.0,0.0,0.0,0.0,0.0,0.0,0.0,0.0,0.0,0.0,0.0,0.0,0.0,0.0,0.0,0.0,0.0,0.0,0.0,0.0,0.0,0.0,0.0,0.0,0.0,0.0,0.0,0.0,0.0,0.0,0.0,0.0,0.0,0.0,0.0,0.0,0.0,0.0,0.0,0.0,0.0,0.0,0.0,0.0,0.0,0.0,0.0,0.0,0.0,0.0,0.0,0.0,0.0,0.0,0.0,0.0,0.0,0.0,0.0,0.0,0.0,0.0,0.0,0.0,0.0,0.0,0.0,0.0],\"type\":\"scatter\",\"xaxis\":\"x4\",\"yaxis\":\"y4\"}],                        {\"template\":{\"data\":{\"histogram2dcontour\":[{\"type\":\"histogram2dcontour\",\"colorbar\":{\"outlinewidth\":0,\"ticks\":\"\"},\"colorscale\":[[0.0,\"#0d0887\"],[0.1111111111111111,\"#46039f\"],[0.2222222222222222,\"#7201a8\"],[0.3333333333333333,\"#9c179e\"],[0.4444444444444444,\"#bd3786\"],[0.5555555555555556,\"#d8576b\"],[0.6666666666666666,\"#ed7953\"],[0.7777777777777778,\"#fb9f3a\"],[0.8888888888888888,\"#fdca26\"],[1.0,\"#f0f921\"]]}],\"choropleth\":[{\"type\":\"choropleth\",\"colorbar\":{\"outlinewidth\":0,\"ticks\":\"\"}}],\"histogram2d\":[{\"type\":\"histogram2d\",\"colorbar\":{\"outlinewidth\":0,\"ticks\":\"\"},\"colorscale\":[[0.0,\"#0d0887\"],[0.1111111111111111,\"#46039f\"],[0.2222222222222222,\"#7201a8\"],[0.3333333333333333,\"#9c179e\"],[0.4444444444444444,\"#bd3786\"],[0.5555555555555556,\"#d8576b\"],[0.6666666666666666,\"#ed7953\"],[0.7777777777777778,\"#fb9f3a\"],[0.8888888888888888,\"#fdca26\"],[1.0,\"#f0f921\"]]}],\"heatmap\":[{\"type\":\"heatmap\",\"colorbar\":{\"outlinewidth\":0,\"ticks\":\"\"},\"colorscale\":[[0.0,\"#0d0887\"],[0.1111111111111111,\"#46039f\"],[0.2222222222222222,\"#7201a8\"],[0.3333333333333333,\"#9c179e\"],[0.4444444444444444,\"#bd3786\"],[0.5555555555555556,\"#d8576b\"],[0.6666666666666666,\"#ed7953\"],[0.7777777777777778,\"#fb9f3a\"],[0.8888888888888888,\"#fdca26\"],[1.0,\"#f0f921\"]]}],\"heatmapgl\":[{\"type\":\"heatmapgl\",\"colorbar\":{\"outlinewidth\":0,\"ticks\":\"\"},\"colorscale\":[[0.0,\"#0d0887\"],[0.1111111111111111,\"#46039f\"],[0.2222222222222222,\"#7201a8\"],[0.3333333333333333,\"#9c179e\"],[0.4444444444444444,\"#bd3786\"],[0.5555555555555556,\"#d8576b\"],[0.6666666666666666,\"#ed7953\"],[0.7777777777777778,\"#fb9f3a\"],[0.8888888888888888,\"#fdca26\"],[1.0,\"#f0f921\"]]}],\"contourcarpet\":[{\"type\":\"contourcarpet\",\"colorbar\":{\"outlinewidth\":0,\"ticks\":\"\"}}],\"contour\":[{\"type\":\"contour\",\"colorbar\":{\"outlinewidth\":0,\"ticks\":\"\"},\"colorscale\":[[0.0,\"#0d0887\"],[0.1111111111111111,\"#46039f\"],[0.2222222222222222,\"#7201a8\"],[0.3333333333333333,\"#9c179e\"],[0.4444444444444444,\"#bd3786\"],[0.5555555555555556,\"#d8576b\"],[0.6666666666666666,\"#ed7953\"],[0.7777777777777778,\"#fb9f3a\"],[0.8888888888888888,\"#fdca26\"],[1.0,\"#f0f921\"]]}],\"surface\":[{\"type\":\"surface\",\"colorbar\":{\"outlinewidth\":0,\"ticks\":\"\"},\"colorscale\":[[0.0,\"#0d0887\"],[0.1111111111111111,\"#46039f\"],[0.2222222222222222,\"#7201a8\"],[0.3333333333333333,\"#9c179e\"],[0.4444444444444444,\"#bd3786\"],[0.5555555555555556,\"#d8576b\"],[0.6666666666666666,\"#ed7953\"],[0.7777777777777778,\"#fb9f3a\"],[0.8888888888888888,\"#fdca26\"],[1.0,\"#f0f921\"]]}],\"mesh3d\":[{\"type\":\"mesh3d\",\"colorbar\":{\"outlinewidth\":0,\"ticks\":\"\"}}],\"scatter\":[{\"fillpattern\":{\"fillmode\":\"overlay\",\"size\":10,\"solidity\":0.2},\"type\":\"scatter\"}],\"parcoords\":[{\"type\":\"parcoords\",\"line\":{\"colorbar\":{\"outlinewidth\":0,\"ticks\":\"\"}}}],\"scatterpolargl\":[{\"type\":\"scatterpolargl\",\"marker\":{\"colorbar\":{\"outlinewidth\":0,\"ticks\":\"\"}}}],\"bar\":[{\"error_x\":{\"color\":\"#2a3f5f\"},\"error_y\":{\"color\":\"#2a3f5f\"},\"marker\":{\"line\":{\"color\":\"#E5ECF6\",\"width\":0.5},\"pattern\":{\"fillmode\":\"overlay\",\"size\":10,\"solidity\":0.2}},\"type\":\"bar\"}],\"scattergeo\":[{\"type\":\"scattergeo\",\"marker\":{\"colorbar\":{\"outlinewidth\":0,\"ticks\":\"\"}}}],\"scatterpolar\":[{\"type\":\"scatterpolar\",\"marker\":{\"colorbar\":{\"outlinewidth\":0,\"ticks\":\"\"}}}],\"histogram\":[{\"marker\":{\"pattern\":{\"fillmode\":\"overlay\",\"size\":10,\"solidity\":0.2}},\"type\":\"histogram\"}],\"scattergl\":[{\"type\":\"scattergl\",\"marker\":{\"colorbar\":{\"outlinewidth\":0,\"ticks\":\"\"}}}],\"scatter3d\":[{\"type\":\"scatter3d\",\"line\":{\"colorbar\":{\"outlinewidth\":0,\"ticks\":\"\"}},\"marker\":{\"colorbar\":{\"outlinewidth\":0,\"ticks\":\"\"}}}],\"scattermapbox\":[{\"type\":\"scattermapbox\",\"marker\":{\"colorbar\":{\"outlinewidth\":0,\"ticks\":\"\"}}}],\"scatterternary\":[{\"type\":\"scatterternary\",\"marker\":{\"colorbar\":{\"outlinewidth\":0,\"ticks\":\"\"}}}],\"scattercarpet\":[{\"type\":\"scattercarpet\",\"marker\":{\"colorbar\":{\"outlinewidth\":0,\"ticks\":\"\"}}}],\"carpet\":[{\"aaxis\":{\"endlinecolor\":\"#2a3f5f\",\"gridcolor\":\"white\",\"linecolor\":\"white\",\"minorgridcolor\":\"white\",\"startlinecolor\":\"#2a3f5f\"},\"baxis\":{\"endlinecolor\":\"#2a3f5f\",\"gridcolor\":\"white\",\"linecolor\":\"white\",\"minorgridcolor\":\"white\",\"startlinecolor\":\"#2a3f5f\"},\"type\":\"carpet\"}],\"table\":[{\"cells\":{\"fill\":{\"color\":\"#EBF0F8\"},\"line\":{\"color\":\"white\"}},\"header\":{\"fill\":{\"color\":\"#C8D4E3\"},\"line\":{\"color\":\"white\"}},\"type\":\"table\"}],\"barpolar\":[{\"marker\":{\"line\":{\"color\":\"#E5ECF6\",\"width\":0.5},\"pattern\":{\"fillmode\":\"overlay\",\"size\":10,\"solidity\":0.2}},\"type\":\"barpolar\"}],\"pie\":[{\"automargin\":true,\"type\":\"pie\"}]},\"layout\":{\"autotypenumbers\":\"strict\",\"colorway\":[\"#636efa\",\"#EF553B\",\"#00cc96\",\"#ab63fa\",\"#FFA15A\",\"#19d3f3\",\"#FF6692\",\"#B6E880\",\"#FF97FF\",\"#FECB52\"],\"font\":{\"color\":\"#2a3f5f\"},\"hovermode\":\"closest\",\"hoverlabel\":{\"align\":\"left\"},\"paper_bgcolor\":\"white\",\"plot_bgcolor\":\"#E5ECF6\",\"polar\":{\"bgcolor\":\"#E5ECF6\",\"angularaxis\":{\"gridcolor\":\"white\",\"linecolor\":\"white\",\"ticks\":\"\"},\"radialaxis\":{\"gridcolor\":\"white\",\"linecolor\":\"white\",\"ticks\":\"\"}},\"ternary\":{\"bgcolor\":\"#E5ECF6\",\"aaxis\":{\"gridcolor\":\"white\",\"linecolor\":\"white\",\"ticks\":\"\"},\"baxis\":{\"gridcolor\":\"white\",\"linecolor\":\"white\",\"ticks\":\"\"},\"caxis\":{\"gridcolor\":\"white\",\"linecolor\":\"white\",\"ticks\":\"\"}},\"coloraxis\":{\"colorbar\":{\"outlinewidth\":0,\"ticks\":\"\"}},\"colorscale\":{\"sequential\":[[0.0,\"#0d0887\"],[0.1111111111111111,\"#46039f\"],[0.2222222222222222,\"#7201a8\"],[0.3333333333333333,\"#9c179e\"],[0.4444444444444444,\"#bd3786\"],[0.5555555555555556,\"#d8576b\"],[0.6666666666666666,\"#ed7953\"],[0.7777777777777778,\"#fb9f3a\"],[0.8888888888888888,\"#fdca26\"],[1.0,\"#f0f921\"]],\"sequentialminus\":[[0.0,\"#0d0887\"],[0.1111111111111111,\"#46039f\"],[0.2222222222222222,\"#7201a8\"],[0.3333333333333333,\"#9c179e\"],[0.4444444444444444,\"#bd3786\"],[0.5555555555555556,\"#d8576b\"],[0.6666666666666666,\"#ed7953\"],[0.7777777777777778,\"#fb9f3a\"],[0.8888888888888888,\"#fdca26\"],[1.0,\"#f0f921\"]],\"diverging\":[[0,\"#8e0152\"],[0.1,\"#c51b7d\"],[0.2,\"#de77ae\"],[0.3,\"#f1b6da\"],[0.4,\"#fde0ef\"],[0.5,\"#f7f7f7\"],[0.6,\"#e6f5d0\"],[0.7,\"#b8e186\"],[0.8,\"#7fbc41\"],[0.9,\"#4d9221\"],[1,\"#276419\"]]},\"xaxis\":{\"gridcolor\":\"white\",\"linecolor\":\"white\",\"ticks\":\"\",\"title\":{\"standoff\":15},\"zerolinecolor\":\"white\",\"automargin\":true,\"zerolinewidth\":2},\"yaxis\":{\"gridcolor\":\"white\",\"linecolor\":\"white\",\"ticks\":\"\",\"title\":{\"standoff\":15},\"zerolinecolor\":\"white\",\"automargin\":true,\"zerolinewidth\":2},\"scene\":{\"xaxis\":{\"backgroundcolor\":\"#E5ECF6\",\"gridcolor\":\"white\",\"linecolor\":\"white\",\"showbackground\":true,\"ticks\":\"\",\"zerolinecolor\":\"white\",\"gridwidth\":2},\"yaxis\":{\"backgroundcolor\":\"#E5ECF6\",\"gridcolor\":\"white\",\"linecolor\":\"white\",\"showbackground\":true,\"ticks\":\"\",\"zerolinecolor\":\"white\",\"gridwidth\":2},\"zaxis\":{\"backgroundcolor\":\"#E5ECF6\",\"gridcolor\":\"white\",\"linecolor\":\"white\",\"showbackground\":true,\"ticks\":\"\",\"zerolinecolor\":\"white\",\"gridwidth\":2}},\"shapedefaults\":{\"line\":{\"color\":\"#2a3f5f\"}},\"annotationdefaults\":{\"arrowcolor\":\"#2a3f5f\",\"arrowhead\":0,\"arrowwidth\":1},\"geo\":{\"bgcolor\":\"white\",\"landcolor\":\"#E5ECF6\",\"subunitcolor\":\"white\",\"showland\":true,\"showlakes\":true,\"lakecolor\":\"white\"},\"title\":{\"x\":0.05},\"mapbox\":{\"style\":\"light\"}}},\"xaxis\":{\"anchor\":\"y\",\"domain\":[0.0,0.45]},\"yaxis\":{\"anchor\":\"x\",\"domain\":[0.625,1.0]},\"xaxis2\":{\"anchor\":\"y2\",\"domain\":[0.55,1.0]},\"yaxis2\":{\"anchor\":\"x2\",\"domain\":[0.625,1.0]},\"xaxis3\":{\"anchor\":\"y3\",\"domain\":[0.0,0.45]},\"yaxis3\":{\"anchor\":\"x3\",\"domain\":[0.0,0.375]},\"xaxis4\":{\"anchor\":\"y4\",\"domain\":[0.55,1.0]},\"yaxis4\":{\"anchor\":\"x4\",\"domain\":[0.0,0.375]},\"annotations\":[{\"font\":{\"size\":16},\"showarrow\":false,\"text\":\"Metabolites\",\"x\":0.225,\"xanchor\":\"center\",\"xref\":\"paper\",\"y\":1.0,\"yanchor\":\"bottom\",\"yref\":\"paper\"},{\"font\":{\"size\":16},\"showarrow\":false,\"text\":\"pH\",\"x\":0.775,\"xanchor\":\"center\",\"xref\":\"paper\",\"y\":1.0,\"yanchor\":\"bottom\",\"yref\":\"paper\"},{\"font\":{\"size\":16},\"showarrow\":false,\"text\":\"Subpopulations\",\"x\":0.225,\"xanchor\":\"center\",\"xref\":\"paper\",\"y\":0.375,\"yanchor\":\"bottom\",\"yref\":\"paper\"},{\"font\":{\"size\":16},\"showarrow\":false,\"text\":\"Species States\",\"x\":0.775,\"xanchor\":\"center\",\"xref\":\"paper\",\"y\":0.375,\"yanchor\":\"bottom\",\"yref\":\"paper\"}],\"title\":{\"text\":\"Reactor Simulation Results\"},\"height\":800,\"showlegend\":true},                        {\"responsive\": true}                    ).then(function(){\n",
              "                            \n",
              "var gd = document.getElementById('777e7c84-b3b0-4a82-bf27-57187c86650e');\n",
              "var x = new MutationObserver(function (mutations, observer) {{\n",
              "        var display = window.getComputedStyle(gd).display;\n",
              "        if (!display || display === 'none') {{\n",
              "            console.log([gd, 'removed!']);\n",
              "            Plotly.purge(gd);\n",
              "            observer.disconnect();\n",
              "        }}\n",
              "}});\n",
              "\n",
              "// Listen for the removal of the full notebook cells\n",
              "var notebookContainer = gd.closest('#notebook-container');\n",
              "if (notebookContainer) {{\n",
              "    x.observe(notebookContainer, {childList: true});\n",
              "}}\n",
              "\n",
              "// Listen for the clearing of the current output cell\n",
              "var outputEl = gd.closest('.output');\n",
              "if (outputEl) {{\n",
              "    x.observe(outputEl, {childList: true});\n",
              "}}\n",
              "\n",
              "                        })                };                            </script>        </div>\n",
              "</body>\n",
              "</html>"
            ]
          },
          "metadata": {},
          "output_type": "display_data"
        }
      ],
      "source": [
        "reactor.set_fast_simulation_mode()\n",
        "reactor.simulate()\n",
        "reactor.make_plot()"
      ]
    },
    {
      "cell_type": "markdown",
      "id": "caf3cf4a",
      "metadata": {
        "id": "caf3cf4a"
      },
      "source": [
        "#### **Example gut synthetic community**"
      ]
    },
    {
      "cell_type": "markdown",
      "id": "74315fc5",
      "metadata": {
        "id": "74315fc5"
      },
      "source": [
        "We can also load the entire model at once from a JSON file."
      ]
    },
    {
      "cell_type": "code",
      "execution_count": 17,
      "id": "92ef11c7",
      "metadata": {
        "id": "92ef11c7"
      },
      "outputs": [],
      "source": [
        "from kinetic_model import ModelFromJson\n",
        "\n",
        "\n",
        "json_file = \"/content/AiSchool/content/DanielGarza/modelTemplates/bh_bt_ri_complete_model_export.json\"\n",
        "model = ModelFromJson(json_file)\n",
        "model_feed = ModelFromJson(json_file)\n",
        "pulse = Pulse(\n",
        "    t_start=0.0,\n",
        "    t_end=1200.0,\n",
        "    n_steps=1000,\n",
        "    qin=0.039*15, #continous feed\n",
        "    qout=0.039*15,#continous feed\n",
        "    vin=0.0,#non-continuos feed\n",
        "    vout=0.0,#non-continuos feed\n",
        "    environment=model.environment,\n",
        "    continuous_feed_metabolome = model_feed.metabolome,\n",
        "    )\n",
        "\n",
        "reactor = Reactor(\n",
        "    microbiome=model.microbiome,\n",
        "    metabolome=model.metabolome,\n",
        "    pulses=[pulse],\n",
        "    volume=15.0,\n",
        "    )\n",
        "\n"
      ]
    },
    {
      "cell_type": "code",
      "execution_count": 18,
      "id": "efab43c3",
      "metadata": {
        "colab": {
          "base_uri": "https://localhost:8080/",
          "height": 417,
          "referenced_widgets": [
            "21d7b700d7ef40b198e540e56e00cc04",
            "f1c7a0938a174a39aa7351aeca085170",
            "9e31d9f11e9d48d38c9cbd2e1afa0de7",
            "a1f29a0a9988494097e18332fe8c88a1",
            "ae3d57d8d971424ea5dd8a66adb44ba3",
            "fc2b39fd25804df3834cbb8747ac5773",
            "e814cecb74db45d0a949a70626eefd77",
            "82a27995d9f4441c93617990716a81f2",
            "fac19eb815a74044ad7ed34f99397c4f",
            "9c26ad886b7e479d80f2e74b91496742",
            "e916982018ba4216a7b9872976ce6ab7",
            "51819622d45847368afa21433e73704c",
            "0d69c9e57c3c4a8ea0a417578296d79d",
            "358a52f5c5444324816044671d94caeb",
            "7caaf7dba0154116a2f9ffffe701d5e1",
            "e473ab129a8b4922b1da03297f9825b3",
            "00940d59f43e453ab947dabd2667afa7",
            "09794dc63f844fe4b09a20fbc753bbcf",
            "38fb8a02a8d3453ca42a93eccf325874",
            "d15d185fbcf544d2823c07e052c33841",
            "20523d48d94e415fb504b3e06c35156b",
            "f142319d684f43b2aec8ff3ae4c354f4",
            "32238c9b1d514fc39a13d997fb04c3cb",
            "148f27c1d4b442dd9bdbc2ef8c5fe0a0",
            "ecba33bfb8aa4ffeb857d64747ec0c0b",
            "56375b12a8884bd690cb42541ed41726",
            "d290eec02fab43b58981f7827633ed58",
            "65f9f0fcaa8348729283ab5eb6ff7028",
            "7f6f4028161f4510af15d4bf8bd00cdb",
            "1a5e2d0f806a45f0b0bf42a151e8da50",
            "350a44016ac546ac99351bcebf3dfeae",
            "c441bf28335d4a5d8e7e41e1c66ed9f2",
            "04591e6cca424fb5862654d117e82240",
            "37c62938e91b4f29b4f5f65a223c2311",
            "d20e287dcd7f4067971bed11b68d2c33",
            "9f2e194ef44245638f0ff738b5cb1672",
            "a9dc99287e4442d29f161dc38e36bf28",
            "f3e52a17efc7422f87dcd973618ff7af",
            "00b65a9cfc634f7095db5a77dea09e52",
            "36205e2ab7f84d989ffcaade68f30b78",
            "6c33dce4371e473bbcb8b666c3536a2a",
            "9ca44ada64ee4ec5a1ad0f45855d5044",
            "9697d506efa140a3907b999ef04d6786",
            "314e6d8145154b029b3cfafe653a1627",
            "06f57fe26d7b4476ac87e98e00f14d5c",
            "f7b6fe5af80b4c30965965218891b7fd",
            "8571836831ee4f968eda6a901bfbdadb",
            "bca4f8a7ac7a4106bbe80e458bfc16eb",
            "0c9d6ac767e2414290ba989f54af2cf6",
            "4a7d98b66ac1481ea936658ec466432b",
            "d0bd587cebc042cc8ee93e4b77e97cb9",
            "6619366d099a4fe19d5a8d495a990dab",
            "46c52f85c2824c119bb1304c5c69fd53",
            "9c28e89140f74bbfbea3d2397ef3c08a",
            "fd633eb686254aa299fa959674390678",
            "d624f6143a5d4937a29b9e3252b7ae4b",
            "c6f342ca3446492a9435db8579bbe90e",
            "aa406861e5114a0bad408c103dfe0d3d",
            "1be9ee9f95894e158f433ace8988232d",
            "752e68ace5674129b37faade3b650ad0",
            "7391a236eba44697a5eeb2462a006242",
            "5a992f9543e34d5ca4a5eaff8eaf77b2",
            "0aa38a7e44974a8ab98f600cc892c2f4",
            "76522d2ef9b248ed8541da3f20673c91",
            "bba94796057f4c3685e2cd46ef9ba50a",
            "3b41ae2032154aa2a44365533fc988c2",
            "2ea28a91d8c548a093cf0b25d0705799",
            "263c95f26bf5402a917654b46b4f9b37",
            "d7786b9c5fdf4d73b3d8cdba9b69eee4",
            "53839685fe28438eab8763e84bf1efb6",
            "61acdcee616f42d48354f85f3f2aa5f9",
            "3eed498a780b4ab2a210806e2e994916",
            "1f690a09943041d7a5b30e85a91ecbb8",
            "21c171b820934803a15096a1a08d4845",
            "40f026a5dc8b449f8b29fe45140b8e7a",
            "e086ca7762b7474d8e51934fb81168e5",
            "f47bcac929994077b00e8fb1b5fa85e8",
            "2834a94044ff4d0ab1882be0b3045252",
            "7f1e87de611d43a3bc9da9761fcf58c8",
            "00d36485b68347e283fd8f337832f90c",
            "c09c14ade6b14bf18c9edde6b8ca3046",
            "a68c08697c2a462cb6bdb899ea94689b",
            "b383b329a6694f17a1ddd01c6a61f79e",
            "1aabf3c6d12d4a2d9a29e5402fbdb1bf",
            "ae6cf044b263436f9c4b5ea7cf4afd2c",
            "790d893055bc42919afe51ba2074eb87",
            "9a6abb795d534aac87ee8d5130a84239",
            "de89e6f8e8924c76ad3a40ae1b1164e3",
            "38e1807d27fd4c1cbfcab0478e92c814",
            "6730afba754f4d7d92ebc6c527eb8faf",
            "fa52316149fb445dad06c2b0639c0bfa",
            "00065328d2a74614a7ce9dc1a833e9e3",
            "38acf5c9ee5d427aa3ea3f2b15d31828",
            "fdbb017e28884a859dcb97538756014e",
            "afd83eccee554d1daef843f3e489ba07",
            "e3ff258302f747428307cddd90fb6ff7",
            "5c09a5be719e453590905aca0cc7ad47"
          ]
        },
        "id": "efab43c3",
        "outputId": "c8722f3c-1d2a-46fb-cae8-1d2318dc8c19"
      },
      "outputs": [
        {
          "data": {
            "application/vnd.jupyter.widget-view+json": {
              "model_id": "21d7b700d7ef40b198e540e56e00cc04",
              "version_major": 2,
              "version_minor": 0
            },
            "text/plain": [
              "CytoscapeWidget(cytoscape_layout={'name': 'preset'}, cytoscape_style=[{'selector': 'node', 'style': {'label': …"
            ]
          },
          "metadata": {
            "application/vnd.jupyter.widget-view+json": {
              "colab": {
                "custom_widget_manager": {
                  "url": "https://ssl.gstatic.com/colaboratory-static/widgets/colab-cdn-widget-manager/2b70e893a8ba7c0f/manager.min.js"
                }
              }
            }
          },
          "output_type": "display_data"
        }
      ],
      "source": [
        "# Load the model\n",
        "with open(json_file, 'r') as f:\n",
        "    mod = json.load(f)\n",
        "# Build the graph specification\n",
        "builder = GraphSpecBuilder()\n",
        "graph_spec = builder.build_from_json(mod)\n",
        "\n",
        "# Export to Cytoscape\n",
        "exporter = CytoscapeExporter()\n",
        "cytoscape_data = exporter.export(graph_spec, layout=\"nice\", show_edge_labels=True)\n",
        "\n",
        "# Create the viewer\n",
        "viewer = CytoscapeWidget()\n",
        "viewer.graph.add_graph_from_json(cytoscape_data['elements'])\n",
        "viewer.set_style(cytoscape_data['style'])  # Use 'style' instead of 'stylesheet'\n",
        "viewer.set_layout(name=\"preset\")\n",
        "\n",
        "# Display\n",
        "display(viewer)"
      ]
    },
    {
      "cell_type": "code",
      "execution_count": 19,
      "id": "791ed5ef",
      "metadata": {
        "colab": {
          "base_uri": "https://localhost:8080/",
          "height": 904
        },
        "id": "791ed5ef",
        "outputId": "300d7117-b2ac-4c72-bf75-3cde2a063c3b"
      },
      "outputs": [
        {
          "name": "stdout",
          "output_type": "stream",
          "text": [
            "Setting fast simulation mode...\n",
            "Reduced pulse 0.0-1200.0: 1000 → 250 steps\n",
            "Total steps: 1000 → 250\n",
            "Estimated speedup: 4.0x\n",
            "Fast mode enabled: RK45 solver, relaxed tolerances (1e-2)\n"
          ]
        },
        {
          "data": {
            "text/html": [
              "<html>\n",
              "<head><meta charset=\"utf-8\" /></head>\n",
              "<body>\n",
              "    <div>            <script src=\"https://cdnjs.cloudflare.com/ajax/libs/mathjax/2.7.5/MathJax.js?config=TeX-AMS-MML_SVG\"></script><script type=\"text/javascript\">if (window.MathJax && window.MathJax.Hub && window.MathJax.Hub.Config) {window.MathJax.Hub.Config({SVG: {font: \"STIX-Web\"}});}</script>                <script type=\"text/javascript\">window.PlotlyConfig = {MathJaxConfig: 'local'};</script>\n",
              "        <script charset=\"utf-8\" src=\"https://cdn.plot.ly/plotly-2.35.2.min.js\"></script>                <div id=\"a5c39694-62f6-4762-9151-8c4c75cc70cb\" class=\"plotly-graph-div\" style=\"height:800px; width:100%;\"></div>            <script type=\"text/javascript\">                                    window.PLOTLYENV=window.PLOTLYENV || {};                                    if (document.getElementById(\"a5c39694-62f6-4762-9151-8c4c75cc70cb\")) {                    Plotly.newPlot(                        \"a5c39694-62f6-4762-9151-8c4c75cc70cb\",                        [{\"line\":{\"color\":\"#003eff\",\"simplify\":true},\"mode\":\"lines\",\"name\":\"acetate\",\"opacity\":0.8,\"x\":[0.0,4.819277108433735,9.63855421686747,14.457831325301207,19.27710843373494,24.096385542168676,28.915662650602414,33.734939759036145,38.55421686746988,43.37349397590362,48.19277108433735,53.01204819277109,57.83132530120483,62.65060240963856,67.46987951807229,72.28915662650603,77.10843373493977,81.9277108433735,86.74698795180724,91.56626506024097,96.3855421686747,101.20481927710844,106.02409638554218,110.84337349397592,115.66265060240966,120.48192771084338,125.30120481927712,130.12048192771084,134.93975903614458,139.75903614457832,144.57831325301206,149.3975903614458,154.21686746987953,159.03614457831327,163.855421686747,168.67469879518075,173.49397590361448,178.31325301204822,183.13253012048193,187.95180722891567,192.7710843373494,197.59036144578315,202.40963855421688,207.22891566265062,212.04819277108436,216.8674698795181,221.68674698795184,226.50602409638557,231.3253012048193,236.14457831325302,240.96385542168676,245.7831325301205,250.60240963855424,255.42168674698797,260.2409638554217,265.06024096385545,269.87951807228916,274.6987951807229,279.51807228915663,284.3373493975904,289.1566265060241,293.9759036144579,298.7951807228916,303.61445783132535,308.43373493975906,313.2530120481928,318.07228915662654,322.89156626506025,327.710843373494,332.5301204819277,337.3493975903615,342.1686746987952,346.98795180722897,351.8072289156627,356.62650602409644,361.44578313253015,366.26506024096386,371.08433734939763,375.90361445783134,380.7228915662651,385.5421686746988,390.3614457831326,395.1807228915663,400.00000000000006,404.81927710843377,409.63855421686753,414.45783132530124,419.27710843373495,424.0963855421687,428.9156626506024,433.7349397590362,438.5542168674699,443.37349397590367,448.1927710843374,453.01204819277115,457.83132530120486,462.6506024096386,467.46987951807233,472.28915662650604,477.1084337349398,481.9277108433735,486.7469879518073,491.566265060241,496.38554216867476,501.20481927710847,506.02409638554224,510.84337349397595,515.6626506024097,520.4819277108434,525.3012048192771,530.1204819277109,534.9397590361447,539.7590361445783,544.5783132530121,549.3975903614459,554.2168674698796,559.0361445783133,563.855421686747,568.6746987951808,573.4939759036145,578.3132530120482,583.132530120482,587.9518072289158,592.7710843373494,597.5903614457832,602.4096385542169,607.2289156626507,612.0481927710844,616.8674698795181,621.6867469879519,626.5060240963855,631.3253012048193,636.1445783132531,640.9638554216868,645.7831325301205,650.6024096385543,655.421686746988,660.2409638554218,665.0602409638554,669.8795180722892,674.698795180723,679.5180722891566,684.3373493975904,689.1566265060242,693.9759036144579,698.7951807228916,703.6144578313254,708.4337349397591,713.2530120481929,718.0722891566265,722.8915662650603,727.7108433734941,732.5301204819277,737.3493975903615,742.1686746987953,746.987951807229,751.8072289156627,756.6265060240964,761.4457831325302,766.265060240964,771.0843373493976,775.9036144578314,780.7228915662652,785.5421686746988,790.3614457831326,795.1807228915663,800.0000000000001,804.8192771084338,809.6385542168675,814.4578313253013,819.2771084337351,824.0963855421687,828.9156626506025,833.7349397590363,838.5542168674699,843.3734939759037,848.1927710843374,853.0120481927712,857.8313253012049,862.6506024096386,867.4698795180724,872.2891566265062,877.1084337349398,881.9277108433736,886.7469879518073,891.566265060241,896.3855421686748,901.2048192771085,906.0240963855423,910.843373493976,915.6626506024097,920.4819277108435,925.3012048192772,930.1204819277109,934.9397590361447,939.7590361445784,944.5783132530121,949.3975903614459,954.2168674698796,959.0361445783134,963.855421686747,968.6746987951808,973.4939759036146,978.3132530120482,983.132530120482,987.9518072289158,992.7710843373495,997.5903614457832,1002.4096385542169,1007.2289156626507,1012.0481927710845,1016.8674698795181,1021.6867469879519,1026.5060240963855,1031.3253012048194,1036.144578313253,1040.9638554216867,1045.7831325301206,1050.6024096385543,1055.4216867469881,1060.2409638554218,1065.0602409638554,1069.8795180722893,1074.698795180723,1079.5180722891566,1084.3373493975905,1089.1566265060242,1093.9759036144578,1098.7951807228917,1103.6144578313254,1108.4337349397592,1113.2530120481929,1118.0722891566265,1122.8915662650604,1127.710843373494,1132.5301204819277,1137.3493975903616,1142.1686746987953,1146.987951807229,1151.8072289156628,1156.6265060240964,1161.4457831325303,1166.265060240964,1171.0843373493976,1175.9036144578315,1180.7228915662652,1185.5421686746988,1190.3614457831327,1195.1807228915663,1200.0],\"y\":[1.99119196216667,2.069420801736967,3.32348640623826,7.912325163380837,10.198689842021528,10.822339718996302,10.895796483445608,10.779810750006128,10.630936787776353,10.506561257305687,10.414537924367545,10.349252932670584,10.30399907692926,10.273355209740165,10.253260996285798,10.24074238285309,10.233645407371851,10.230424329266825,10.229979827983273,10.231537280758067,10.234556101823348,10.238662816285673,10.243602074601792,10.249201091371985,10.255344031624041,10.261953699573022,10.268978540363712,10.276383474632668,10.284143476330907,10.292239100362677,10.30065338876277,10.309369749226985,10.318370521331175,10.3276360342936,10.337144023767038,10.346869320032319,10.356783750696826,10.366856221005367,10.37705294672317,10.387337820260125,10.397672891921413,10.408018946339412,10.418336150620222,10.428584746782255,10.438725757823807,10.448721675178378,10.458537096032122,10.468139282231112,10.477498618117023,10.486588952009539,10.495387814366833,10.503876513939678,10.512040120593017,10.519867349234051,10.527350363063151,10.53448451609373,10.54126805477553,10.547701796985576,10.553788804097954,10.559534058779414,10.564944157979678,10.570027027603867,10.574791662761575,10.579247895376966,10.583406189339403,10.587277462234097,10.590872931954513,10.594203986085619,10.597282071784617,10.600118603914197,10.602724889370268,10.605112065906694,10.607291054414027,10.609272524920554,10.61106687954979,10.612684263012707,10.614134630507086,10.615427955684314,10.616574810290265,10.617587978206531,10.618487042151436,10.619311727875276,10.620161582977303,10.621316209798632,10.623605162581695,10.629556616379514,10.646950779595644,10.69935857320505,10.852231255525359,11.231867624996898,11.801603390117458,12.288068580385694,12.78944115723096,13.325921176412695,13.830230109277085,14.394364980552613,15.210561336062936,16.036849103383787,16.870389897278034,17.464335062665093,17.560579926000848,17.77727801958907,18.063126863502237,18.5091174590449,18.771829590540634,18.62913857733513,19.022537785311954,19.43703905509524,19.737125836729508,19.48787376264468,19.905039243802143,19.6747680476178,20.154000998883774,20.379999616278166,21.07482502691765,20.327219733398653,20.177838961532885,20.464234655121004,20.545833830883442,22.277136105260215,22.542173304669458,23.86260220338608,24.023292765963582,24.236001584734694,24.891417114679555,24.575479102322294,25.54665362428813,25.396674706373144,25.663248977491758,25.90041781092059,25.436774880891157,26.31228509825859,26.035212397879967,26.49841949504578,26.43015167585344,25.987055348510474,26.73826420455665,26.32196371135454,27.003964071463397,26.73795276772716,26.435985388752584,27.025923652495983,26.467851124508485,26.494924496916337,25.486919573828924,24.335800777773695,24.062078231220106,25.3704032762403,24.442980989354652,24.06186403608757,24.028806545394584,24.360814525112175,23.44628637732596,23.868616641769936,24.065903604860416,23.253222119508205,22.318645218685564,21.545611763880864,21.47992152478695,21.848369341546412,22.028915157763677,21.65788892270571,21.261805401231882,21.560497734640137,21.602657609875358,23.428869404122484,23.82747220348404,24.286046937520624,24.88275441527362,24.59764156906778,25.62766891703015,25.475009236366287,25.8849792908324,25.997627574358727,25.557636984302295,26.402041003543314,26.076492095826406,26.67773537387182,26.50546479134182,26.131571255170286,26.804459154069786,26.331855294554547,27.083947037362652,26.794821273253262,26.62836755328116,25.99284941540338,24.71634631326532,24.224485415553506,24.66176235319903,24.55636996012852,24.479807698536415,24.064302694195568,25.231037526804077,24.6822308984264,23.582839330926944,22.953920135935707,22.797598436716243,21.78668233861632,22.23077851526433,22.299078304466065,21.87807859412568,21.6872218281132,21.645062420746534,22.571992258678048,22.820521008085773,22.551885504397983,22.374235635049498,22.331518816211126,22.405997727422115,22.24274115011756,21.512127049300663,20.960203866529163,21.128241418281462,21.079757530648514,21.637931515696483,22.386162928027627,21.863575493838596,21.64506966201173,21.366633327594815,22.070730176268132,22.21470783530786,22.509627757676732,23.584728401965886,24.247493451986138,24.105401123139274,25.26437522879126,25.13985330243709,25.74694113960379,25.75971473803798,25.42528354254186,26.21975892187709,25.850578541469986,26.596430043005313,26.369030520420477,26.128622311157244,26.684853505633292,26.17143556085204,26.983582496394817,26.6873412649933,26.6650940372534,26.999805560240667,26.263821043410214,25.711442889420947,24.994351547138507,25.024146576394898,25.01426699402847,24.45837758190991,24.349590036407733,24.542589674615357,24.2501534687236],\"type\":\"scatter\",\"xaxis\":\"x\",\"yaxis\":\"y\"},{\"line\":{\"color\":\"#ff00a1\",\"simplify\":true},\"mode\":\"lines\",\"name\":\"butyrate\",\"opacity\":0.8,\"x\":[0.0,4.819277108433735,9.63855421686747,14.457831325301207,19.27710843373494,24.096385542168676,28.915662650602414,33.734939759036145,38.55421686746988,43.37349397590362,48.19277108433735,53.01204819277109,57.83132530120483,62.65060240963856,67.46987951807229,72.28915662650603,77.10843373493977,81.9277108433735,86.74698795180724,91.56626506024097,96.3855421686747,101.20481927710844,106.02409638554218,110.84337349397592,115.66265060240966,120.48192771084338,125.30120481927712,130.12048192771084,134.93975903614458,139.75903614457832,144.57831325301206,149.3975903614458,154.21686746987953,159.03614457831327,163.855421686747,168.67469879518075,173.49397590361448,178.31325301204822,183.13253012048193,187.95180722891567,192.7710843373494,197.59036144578315,202.40963855421688,207.22891566265062,212.04819277108436,216.8674698795181,221.68674698795184,226.50602409638557,231.3253012048193,236.14457831325302,240.96385542168676,245.7831325301205,250.60240963855424,255.42168674698797,260.2409638554217,265.06024096385545,269.87951807228916,274.6987951807229,279.51807228915663,284.3373493975904,289.1566265060241,293.9759036144579,298.7951807228916,303.61445783132535,308.43373493975906,313.2530120481928,318.07228915662654,322.89156626506025,327.710843373494,332.5301204819277,337.3493975903615,342.1686746987952,346.98795180722897,351.8072289156627,356.62650602409644,361.44578313253015,366.26506024096386,371.08433734939763,375.90361445783134,380.7228915662651,385.5421686746988,390.3614457831326,395.1807228915663,400.00000000000006,404.81927710843377,409.63855421686753,414.45783132530124,419.27710843373495,424.0963855421687,428.9156626506024,433.7349397590362,438.5542168674699,443.37349397590367,448.1927710843374,453.01204819277115,457.83132530120486,462.6506024096386,467.46987951807233,472.28915662650604,477.1084337349398,481.9277108433735,486.7469879518073,491.566265060241,496.38554216867476,501.20481927710847,506.02409638554224,510.84337349397595,515.6626506024097,520.4819277108434,525.3012048192771,530.1204819277109,534.9397590361447,539.7590361445783,544.5783132530121,549.3975903614459,554.2168674698796,559.0361445783133,563.855421686747,568.6746987951808,573.4939759036145,578.3132530120482,583.132530120482,587.9518072289158,592.7710843373494,597.5903614457832,602.4096385542169,607.2289156626507,612.0481927710844,616.8674698795181,621.6867469879519,626.5060240963855,631.3253012048193,636.1445783132531,640.9638554216868,645.7831325301205,650.6024096385543,655.421686746988,660.2409638554218,665.0602409638554,669.8795180722892,674.698795180723,679.5180722891566,684.3373493975904,689.1566265060242,693.9759036144579,698.7951807228916,703.6144578313254,708.4337349397591,713.2530120481929,718.0722891566265,722.8915662650603,727.7108433734941,732.5301204819277,737.3493975903615,742.1686746987953,746.987951807229,751.8072289156627,756.6265060240964,761.4457831325302,766.265060240964,771.0843373493976,775.9036144578314,780.7228915662652,785.5421686746988,790.3614457831326,795.1807228915663,800.0000000000001,804.8192771084338,809.6385542168675,814.4578313253013,819.2771084337351,824.0963855421687,828.9156626506025,833.7349397590363,838.5542168674699,843.3734939759037,848.1927710843374,853.0120481927712,857.8313253012049,862.6506024096386,867.4698795180724,872.2891566265062,877.1084337349398,881.9277108433736,886.7469879518073,891.566265060241,896.3855421686748,901.2048192771085,906.0240963855423,910.843373493976,915.6626506024097,920.4819277108435,925.3012048192772,930.1204819277109,934.9397590361447,939.7590361445784,944.5783132530121,949.3975903614459,954.2168674698796,959.0361445783134,963.855421686747,968.6746987951808,973.4939759036146,978.3132530120482,983.132530120482,987.9518072289158,992.7710843373495,997.5903614457832,1002.4096385542169,1007.2289156626507,1012.0481927710845,1016.8674698795181,1021.6867469879519,1026.5060240963855,1031.3253012048194,1036.144578313253,1040.9638554216867,1045.7831325301206,1050.6024096385543,1055.4216867469881,1060.2409638554218,1065.0602409638554,1069.8795180722893,1074.698795180723,1079.5180722891566,1084.3373493975905,1089.1566265060242,1093.9759036144578,1098.7951807228917,1103.6144578313254,1108.4337349397592,1113.2530120481929,1118.0722891566265,1122.8915662650604,1127.710843373494,1132.5301204819277,1137.3493975903616,1142.1686746987953,1146.987951807229,1151.8072289156628,1156.6265060240964,1161.4457831325303,1166.265060240964,1171.0843373493976,1175.9036144578315,1180.7228915662652,1185.5421686746988,1190.3614457831327,1195.1807228915663,1200.0],\"y\":[0.003717077,0.04917678271876652,0.5171078823505613,1.9051436240821953,2.509992282785242,2.659668985493567,2.7055158775150776,2.721165918754349,2.7305014571936397,2.7395305796444105,2.7485509108096906,2.7570594577149006,2.7647395526342895,2.771466958300872,2.7772217617207975,2.7820344482925425,2.7859593756435532,2.789061880397425,2.791411596908732,2.7930786655095208,2.794131407483917,2.7946348474151206,2.7946497922063367,2.794232310037246,2.7934335091562366,2.792299543045443,2.7908717836147408,2.789187114659639,2.7872783063638638,2.7851744389757296,2.782901350175855,2.7804820861353554,2.777937340861406,2.7752858721812643,2.7725448857026693,2.7697303804139186,2.766857451379298,2.7639405463875435,2.7609936745627506,2.7580305659818527,2.7550647823705305,2.75210978004666,2.7491789274863665,2.7462854811887696,2.743442524854379,2.7406628781708946,2.7379589825928305,2.735342772279117,2.7328255387050104,2.7304177973178922,2.728129163949711,2.7259682475787193,2.723942564552508,2.722058477687778,2.720321161905826,2.7187345963993312,2.717301581880761,2.716023780320249,2.7149017737830263,2.7139351385244113,2.713122530361052,2.7124617774580324,2.711949976987818,2.7115835925630356,2.711358549860776,2.7112703283912722,2.7113140478797377,2.7114845482003993,2.7117764622093437,2.7121842811587387,2.712702412634576,2.713325231137332,2.7140471215031092,2.7148625152920522,2.715765919911658,2.716751939214566,2.7178152815687193,2.7189507440203315,2.7201531408035384,2.7214170866934655,2.7227363778274074,2.7241022139549784,2.7254979962295125,2.7268837865050197,2.7281489998443678,2.728966059018461,2.7283319218508075,2.7231217023385845,2.7035521981826247,2.639741563446147,2.464787266358868,2.194024745163878,1.913079698481796,1.6446476789870417,1.4011032218056552,1.1912420984968157,1.0157202690156995,0.864168584488442,0.7334017040216095,0.6198112919924256,0.5213235902773481,0.43816436480578863,0.3682150253583613,0.309493075040135,0.2598753573506885,0.21784946482820727,0.18298164563173347,0.15372250629255252,0.12914812301912718,0.10841842750348375,0.09121663337270591,0.07672270742990746,0.06469766445333257,0.05462021426134378,0.046232829375575504,0.039136038146366466,0.03324259925553949,0.028341800361431586,0.0242432276150885,0.020865722165765082,0.01801552890232958,0.01565097205501916,0.01366264574565624,0.012004853129023852,0.010625134680670011,0.009468998393990851,0.008511006727013397,0.007708149739039129,0.0070403625942336455,0.006483858990517108,0.00601910188044945,0.005633914582421716,0.005311746493815104,0.005044184588164956,0.004821024998837448,0.004635103508743832,0.004480906776825477,0.004352148362428475,0.004245330795856492,0.004156232314352236,0.004082124077125265,0.004020607529695206,0.003969307842624463,0.003926708334665981,0.003891224701200402,0.003861729189459347,0.0038372592282812893,0.0038169686230032206,0.0038000417686033616,0.0037859911728212654,0.0037743212265883403,0.003764628522868199,0.003756561580949575,0.003749874697387227,0.003744315422837056,0.003739691617426913,0.0037358511775473415,0.003732663304684032,0.003730018485925799,0.0037278227968689094,0.0037259990312183545,0.003724483593539798,0.0037232252543080834,0.0037221812591167946,0.003721314042582509,0.0037205953549067257,0.003719997525086723,0.0037195012438505813,0.0037190892473558017,0.003718746920459912,0.0037184630743787553,0.003718227203256151,0.003718031515839724,0.0037178690520419506,0.0037177341669160737,0.0037176223264638398,0.0037175294333240106,0.003717452394191359,0.003717388433240994,0.003717335356854455,0.003717291343395226,0.0037172548010972473,0.0037172245024247514,0.0037171993505748643,0.0037171784855461994,0.0037171611733276115,0.0037171468104674156,0.003717134901329656,0.003717125025424062,0.0037171168314149763,0.0037171100346008053,0.0037171043966001726,0.0037170997224608582,0.003717095843242352,0.003717092625653288,0.0037170899577833364,0.0037170877454538007,0.003717085910348937,0.003717084389202366,0.0037170831274503345,0.003717082080936873,0.003717081213153015,0.0037170804935709885,0.003717079896974406,0.003717079402104914,0.0037170789917129513,0.003717078651425884,0.003717078369258931,0.0037170781352949427,0.003717077941292181,0.0037170777804144163,0.003717077647032521,0.0037170775364559084,0.0037170774447682843,0.0037170773687555704,0.003717077305727975,0.003717077253459268,0.0037170772101282287,0.003717077174202944,0.0037170771444215056,0.0037170771197279516,0.003717077099256377,0.00371707708228532,0.0037170770682140395,0.0037170770565471576,0.0037170770468765543,0.003717077038858091,0.0037170770322114957,0.0037170770267011275,0.003717077022133044,0.0037170770183467135,0.0037170770152076364,0.0037170770126057997,0.0037170770104488268,0.00371707700866087,0.0037170770071788917,0.0037170770059503553,0.00371707700493212,0.0037170770040880316,0.0037170770033883916,0.0037170770028084796,0.0037170770023277747,0.003717077001929355,0.003717077001599122,0.003717077001325416,0.003717077001098544,0.0037170770009105005,0.0037170770007546464,0.0037170770006254654,0.0037170770005183935],\"type\":\"scatter\",\"xaxis\":\"x\",\"yaxis\":\"y\"},{\"line\":{\"color\":\"#00c6ff\",\"simplify\":true},\"mode\":\"lines\",\"name\":\"formate\",\"opacity\":0.8,\"x\":[0.0,4.819277108433735,9.63855421686747,14.457831325301207,19.27710843373494,24.096385542168676,28.915662650602414,33.734939759036145,38.55421686746988,43.37349397590362,48.19277108433735,53.01204819277109,57.83132530120483,62.65060240963856,67.46987951807229,72.28915662650603,77.10843373493977,81.9277108433735,86.74698795180724,91.56626506024097,96.3855421686747,101.20481927710844,106.02409638554218,110.84337349397592,115.66265060240966,120.48192771084338,125.30120481927712,130.12048192771084,134.93975903614458,139.75903614457832,144.57831325301206,149.3975903614458,154.21686746987953,159.03614457831327,163.855421686747,168.67469879518075,173.49397590361448,178.31325301204822,183.13253012048193,187.95180722891567,192.7710843373494,197.59036144578315,202.40963855421688,207.22891566265062,212.04819277108436,216.8674698795181,221.68674698795184,226.50602409638557,231.3253012048193,236.14457831325302,240.96385542168676,245.7831325301205,250.60240963855424,255.42168674698797,260.2409638554217,265.06024096385545,269.87951807228916,274.6987951807229,279.51807228915663,284.3373493975904,289.1566265060241,293.9759036144579,298.7951807228916,303.61445783132535,308.43373493975906,313.2530120481928,318.07228915662654,322.89156626506025,327.710843373494,332.5301204819277,337.3493975903615,342.1686746987952,346.98795180722897,351.8072289156627,356.62650602409644,361.44578313253015,366.26506024096386,371.08433734939763,375.90361445783134,380.7228915662651,385.5421686746988,390.3614457831326,395.1807228915663,400.00000000000006,404.81927710843377,409.63855421686753,414.45783132530124,419.27710843373495,424.0963855421687,428.9156626506024,433.7349397590362,438.5542168674699,443.37349397590367,448.1927710843374,453.01204819277115,457.83132530120486,462.6506024096386,467.46987951807233,472.28915662650604,477.1084337349398,481.9277108433735,486.7469879518073,491.566265060241,496.38554216867476,501.20481927710847,506.02409638554224,510.84337349397595,515.6626506024097,520.4819277108434,525.3012048192771,530.1204819277109,534.9397590361447,539.7590361445783,544.5783132530121,549.3975903614459,554.2168674698796,559.0361445783133,563.855421686747,568.6746987951808,573.4939759036145,578.3132530120482,583.132530120482,587.9518072289158,592.7710843373494,597.5903614457832,602.4096385542169,607.2289156626507,612.0481927710844,616.8674698795181,621.6867469879519,626.5060240963855,631.3253012048193,636.1445783132531,640.9638554216868,645.7831325301205,650.6024096385543,655.421686746988,660.2409638554218,665.0602409638554,669.8795180722892,674.698795180723,679.5180722891566,684.3373493975904,689.1566265060242,693.9759036144579,698.7951807228916,703.6144578313254,708.4337349397591,713.2530120481929,718.0722891566265,722.8915662650603,727.7108433734941,732.5301204819277,737.3493975903615,742.1686746987953,746.987951807229,751.8072289156627,756.6265060240964,761.4457831325302,766.265060240964,771.0843373493976,775.9036144578314,780.7228915662652,785.5421686746988,790.3614457831326,795.1807228915663,800.0000000000001,804.8192771084338,809.6385542168675,814.4578313253013,819.2771084337351,824.0963855421687,828.9156626506025,833.7349397590363,838.5542168674699,843.3734939759037,848.1927710843374,853.0120481927712,857.8313253012049,862.6506024096386,867.4698795180724,872.2891566265062,877.1084337349398,881.9277108433736,886.7469879518073,891.566265060241,896.3855421686748,901.2048192771085,906.0240963855423,910.843373493976,915.6626506024097,920.4819277108435,925.3012048192772,930.1204819277109,934.9397590361447,939.7590361445784,944.5783132530121,949.3975903614459,954.2168674698796,959.0361445783134,963.855421686747,968.6746987951808,973.4939759036146,978.3132530120482,983.132530120482,987.9518072289158,992.7710843373495,997.5903614457832,1002.4096385542169,1007.2289156626507,1012.0481927710845,1016.8674698795181,1021.6867469879519,1026.5060240963855,1031.3253012048194,1036.144578313253,1040.9638554216867,1045.7831325301206,1050.6024096385543,1055.4216867469881,1060.2409638554218,1065.0602409638554,1069.8795180722893,1074.698795180723,1079.5180722891566,1084.3373493975905,1089.1566265060242,1093.9759036144578,1098.7951807228917,1103.6144578313254,1108.4337349397592,1113.2530120481929,1118.0722891566265,1122.8915662650604,1127.710843373494,1132.5301204819277,1137.3493975903616,1142.1686746987953,1146.987951807229,1151.8072289156628,1156.6265060240964,1161.4457831325303,1166.265060240964,1171.0843373493976,1175.9036144578315,1180.7228915662652,1185.5421686746988,1190.3614457831327,1195.1807228915663,1200.0],\"y\":[0.699764498666667,0.713676817789156,0.9590278914846069,1.510843572808593,1.5188162773677139,1.4463893679497644,1.38227781992553,1.3340099352024084,1.300514414260777,1.278273086564578,1.2637322907263775,1.254230047238746,1.2479705430011803,1.2437825362651682,1.2409118309176088,1.2388767793632365,1.237372180601827,1.2362060943567241,1.2352585598608907,1.2344548283097831,1.233748174487169,1.2331089914307498,1.23251797116682,1.2319619148260912,1.2314312135438068,1.2309183751301547,1.2304171933612977,1.2299223030834507,1.2294289599372752,1.2289329453113267,1.2284305365789217,1.2279185074683732,1.227394138707502,1.2268552282823075,1.2263000960050685,1.2257275800701595,1.2251370248424904,1.224528259888895,1.2239015706158107,1.2232576610576453,1.2225976095079507,1.2219228178685577,1.2212349558314664,1.2205359012884025,1.2198276786467663,1.2191123969690465,1.2183921899950758,1.2176691601127987,1.21694532819146,1.2162225908813615,1.21550268654293,1.2147871704393547,1.2140773992683087,1.213374524578882,1.212679494170101,1.2119930602340796,1.211315792807844,1.210648097032294,1.209990232768911,1.2093423352688148,1.2087044357935657,1.2080764813228788,1.2074583527245903,1.2068498809864863,1.2062508613045126,1.2056610649800303,1.2050802491982038,1.204508164842109,1.2039445625467886,1.2033891972191697,1.202841831247749,1.2023022366015246,1.2017701959653713,1.2012455029568618,1.200727961253922,1.2002173819600346,1.1997135772677605,1.1992163451200388,1.198725430299811,1.1982404210522957,1.1977604636998525,1.1972834497708291,1.1968036396869342,1.1963045627546505,1.1957374205915654,1.1949545412483897,1.1935036299975177,1.1900052965758445,1.1804549990205686,1.1553484273490988,1.1058868652346303,1.0481869712457306,0.9957988099517293,0.9497998226583316,0.9102164060603117,0.8768312357264118,0.848284255747398,0.8242196636794947,0.8039719258344136,0.7869440326613821,0.7728312065940083,0.7610001774842611,0.751251885942412,0.7427536907685252,0.7356408394783326,0.7297543326810788,0.7247357558713825,0.7205316002429796,0.7170822722161702,0.7141899983604504,0.7117285227324961,0.709957119730712,0.7080499959232511,0.7065782036794525,0.7053171821992417,0.7044786688556635,0.703797642805064,0.7031628717098104,0.7024258890096684,0.7016462815864783,0.701197320213079,0.7006874332391425,0.7004131679894342,0.7001755273060634,0.6999414705672306,0.6998463143501775,0.6996832002811315,0.6996325177771111,0.6995681009929251,0.699527552792005,0.6995318791046595,0.6994871207844741,0.6994979170522004,0.6994897835951546,0.699501637180733,0.699524647676682,0.699519861141847,0.6995427136701877,0.6995453870126325,0.699566292133369,0.6995847145269278,0.6995850081073375,0.6995957516916002,0.6996030302701045,0.6996347280268205,0.6996656808525161,0.6996789925739032,0.6996586634420133,0.6996772515372107,0.699687529700588,0.6996909807076158,0.6996887168454872,0.6997031605078012,0.6997067309488977,0.6997036855939456,0.6997190917194419,0.6997270462312872,0.6997356499278552,0.6997413418716792,0.6997376063198056,0.6997402345353414,0.6997451321815298,0.6997493064215005,0.6997468830119778,0.6997451755349544,0.6997292901705858,0.6997258853014079,0.699726235672434,0.6997259932397909,0.6997293546121042,0.6997266391086587,0.6997291372547217,0.6997292657074221,0.6997307584587046,0.6997338521990629,0.6997325377259255,0.6997349873459674,0.6997344350700411,0.6997364395101805,0.69973868451066,0.6997379482305203,0.6997401946757458,0.6997392355207875,0.6997407690461882,0.6997402816872884,0.6997415875243136,0.6997466914470046,0.6997495449238953,0.6997453266918232,0.6997450469472474,0.6997427726002358,0.6997445013526739,0.6997376269355872,0.6997396968330596,0.6997439026121259,0.6997462040325504,0.6997459450217515,0.699752252959154,0.6997545406477929,0.6997532170617009,0.699755407726017,0.6997548457316776,0.6997573328103356,0.6997486496768874,0.699745028205897,0.6997482758340036,0.6997516820017327,0.6997508250329134,0.6997504961570575,0.6997542713682919,0.6997566315772509,0.699759228515372,0.6997597803132316,0.6997613650139389,0.6997548139850319,0.6997457681496698,0.699750913044065,0.6997526022661533,0.6997554657433191,0.6997457521211876,0.6997438762247775,0.6997421193231931,0.699733313403456,0.6997294137951199,0.6997305862690532,0.6997252020852247,0.6997272132455928,0.6997272358086004,0.6997295892083492,0.6997327876401288,0.6997317651954652,0.699734572140587,0.699733841555525,0.6997361450468526,0.6997381116390177,0.6997378215729657,0.6997402347218911,0.6997392191463137,0.6997410212507683,0.6997417728893609,0.6997404027954649,0.6997413299730468,0.6997422029355137,0.699745927087479,0.6997429078502773,0.6997424789669962,0.699744474569038,0.699744100565171,0.6997414817092289,0.6997423406620965],\"type\":\"scatter\",\"xaxis\":\"x\",\"yaxis\":\"y\"},{\"line\":{\"color\":\"#ff0000\",\"simplify\":true},\"mode\":\"lines\",\"name\":\"glucose\",\"opacity\":0.8,\"x\":[0.0,4.819277108433735,9.63855421686747,14.457831325301207,19.27710843373494,24.096385542168676,28.915662650602414,33.734939759036145,38.55421686746988,43.37349397590362,48.19277108433735,53.01204819277109,57.83132530120483,62.65060240963856,67.46987951807229,72.28915662650603,77.10843373493977,81.9277108433735,86.74698795180724,91.56626506024097,96.3855421686747,101.20481927710844,106.02409638554218,110.84337349397592,115.66265060240966,120.48192771084338,125.30120481927712,130.12048192771084,134.93975903614458,139.75903614457832,144.57831325301206,149.3975903614458,154.21686746987953,159.03614457831327,163.855421686747,168.67469879518075,173.49397590361448,178.31325301204822,183.13253012048193,187.95180722891567,192.7710843373494,197.59036144578315,202.40963855421688,207.22891566265062,212.04819277108436,216.8674698795181,221.68674698795184,226.50602409638557,231.3253012048193,236.14457831325302,240.96385542168676,245.7831325301205,250.60240963855424,255.42168674698797,260.2409638554217,265.06024096385545,269.87951807228916,274.6987951807229,279.51807228915663,284.3373493975904,289.1566265060241,293.9759036144579,298.7951807228916,303.61445783132535,308.43373493975906,313.2530120481928,318.07228915662654,322.89156626506025,327.710843373494,332.5301204819277,337.3493975903615,342.1686746987952,346.98795180722897,351.8072289156627,356.62650602409644,361.44578313253015,366.26506024096386,371.08433734939763,375.90361445783134,380.7228915662651,385.5421686746988,390.3614457831326,395.1807228915663,400.00000000000006,404.81927710843377,409.63855421686753,414.45783132530124,419.27710843373495,424.0963855421687,428.9156626506024,433.7349397590362,438.5542168674699,443.37349397590367,448.1927710843374,453.01204819277115,457.83132530120486,462.6506024096386,467.46987951807233,472.28915662650604,477.1084337349398,481.9277108433735,486.7469879518073,491.566265060241,496.38554216867476,501.20481927710847,506.02409638554224,510.84337349397595,515.6626506024097,520.4819277108434,525.3012048192771,530.1204819277109,534.9397590361447,539.7590361445783,544.5783132530121,549.3975903614459,554.2168674698796,559.0361445783133,563.855421686747,568.6746987951808,573.4939759036145,578.3132530120482,583.132530120482,587.9518072289158,592.7710843373494,597.5903614457832,602.4096385542169,607.2289156626507,612.0481927710844,616.8674698795181,621.6867469879519,626.5060240963855,631.3253012048193,636.1445783132531,640.9638554216868,645.7831325301205,650.6024096385543,655.421686746988,660.2409638554218,665.0602409638554,669.8795180722892,674.698795180723,679.5180722891566,684.3373493975904,689.1566265060242,693.9759036144579,698.7951807228916,703.6144578313254,708.4337349397591,713.2530120481929,718.0722891566265,722.8915662650603,727.7108433734941,732.5301204819277,737.3493975903615,742.1686746987953,746.987951807229,751.8072289156627,756.6265060240964,761.4457831325302,766.265060240964,771.0843373493976,775.9036144578314,780.7228915662652,785.5421686746988,790.3614457831326,795.1807228915663,800.0000000000001,804.8192771084338,809.6385542168675,814.4578313253013,819.2771084337351,824.0963855421687,828.9156626506025,833.7349397590363,838.5542168674699,843.3734939759037,848.1927710843374,853.0120481927712,857.8313253012049,862.6506024096386,867.4698795180724,872.2891566265062,877.1084337349398,881.9277108433736,886.7469879518073,891.566265060241,896.3855421686748,901.2048192771085,906.0240963855423,910.843373493976,915.6626506024097,920.4819277108435,925.3012048192772,930.1204819277109,934.9397590361447,939.7590361445784,944.5783132530121,949.3975903614459,954.2168674698796,959.0361445783134,963.855421686747,968.6746987951808,973.4939759036146,978.3132530120482,983.132530120482,987.9518072289158,992.7710843373495,997.5903614457832,1002.4096385542169,1007.2289156626507,1012.0481927710845,1016.8674698795181,1021.6867469879519,1026.5060240963855,1031.3253012048194,1036.144578313253,1040.9638554216867,1045.7831325301206,1050.6024096385543,1055.4216867469881,1060.2409638554218,1065.0602409638554,1069.8795180722893,1074.698795180723,1079.5180722891566,1084.3373493975905,1089.1566265060242,1093.9759036144578,1098.7951807228917,1103.6144578313254,1108.4337349397592,1113.2530120481929,1118.0722891566265,1122.8915662650604,1127.710843373494,1132.5301204819277,1137.3493975903616,1142.1686746987953,1146.987951807229,1151.8072289156628,1156.6265060240964,1161.4457831325303,1166.265060240964,1171.0843373493976,1175.9036144578315,1180.7228915662652,1185.5421686746988,1190.3614457831327,1195.1807228915663,1200.0],\"y\":[8.917955468,8.843831843440423,7.6490029555266865,3.5330334443363247,1.8388469888424255,1.6276670006715575,1.7909964001576264,2.0140578981403645,2.204630765610433,2.3473835050760545,2.449704271254475,2.521753645330408,2.571913243378822,2.6064760619505423,2.630055565712093,2.645999659971474,2.6567171178071,2.663924974130979,2.6688345130939197,2.6722903814587706,2.6748739581579755,2.676979538528527,2.678869962551261,2.6807168239745485,2.682629219611729,2.684674064552061,2.6868902627725535,2.689298447657683,2.6919075631851377,2.694719218203473,2.6977304913187727,2.700935674041178,2.704327299979051,2.7078967059273795,2.7116342971564715,2.715529636657492,2.7195714408530565,2.723747538012419,2.7280448270791857,2.7324492614226545,2.7369458724210154,2.741518840555598,2.7461516160255366,2.7508270862985604,2.7555277842556176,2.7602361276029477,2.7649346780632937,2.769606407604327,2.77423495868498,2.778804886206479,2.783301870454351,2.7877128926333117,2.7920263673781434,2.796232229579898,2.8003219757176225,2.8042886623881174,2.808126866707763,2.8118326146306236,2.8154032839733407,2.8188374891124535,2.8221349540226996,2.825296379676064,2.828323310947155,2.8312180071862634,2.833983319622934,2.8366225778216743,2.8391394865752053,2.841538033914901,2.8438224103506604,2.8459969390166964,2.848066016077032,2.850034060502812,2.851905472117658,2.853684596505626,2.85537569472629,2.8569829140999037,2.8585102517301713,2.8599614895547996,2.861340042856926,2.8626485564812953,2.8638877621577614,2.865053137345956,2.8661249088583194,2.8670375905408005,2.8675857776236438,2.8671299546196383,2.8636784824478236,2.8511077172893566,2.8117385942002953,2.7049561491516783,2.4925124704382164,2.2123304337863376,1.8649539350514874,1.4404045949887554,1.0148989815785003,0.6870292146108281,0.4981331343840281,0.4390940920399731,0.4547743390946529,0.5075476508082992,0.5790507493462822,0.6493276928785067,0.7334203000554113,0.8335385873242621,0.9425702212943728,1.0332992479594845,1.125783917065573,1.2171249977663072,1.3044757267056644,1.3813775154618038,1.439201636702206,1.499326194759214,1.565369787715958,1.6349243068928274,1.695285983973074,1.7470436635991893,1.7606784775883173,1.7888632210679194,1.8256313921411937,1.9155193452344959,2.0026352324952574,2.0610531705764843,2.1159040206608464,2.1573300187528845,2.1915439004477366,2.218531495392518,2.2399458796585563,2.262072731634898,2.2743449680098884,2.2914003450217413,2.303382381279355,2.3130173635902094,2.3238908820783646,2.328193422397057,2.338773733430314,2.343249986603302,2.348797228630755,2.3545099534402048,2.3548435721474377,2.361841860722868,2.3621925311610594,2.3660483479192833,2.367498830246652,2.3570975882822762,2.318493301680834,2.2681051256005023,2.2556517441424107,2.301856006963229,2.3458983290905673,2.3347760359888223,2.3121213304456623,2.331732727097029,2.359248408812206,2.351844666766718,2.3296100086638347,2.3306834463742128,2.3274593973596573,2.304281639923025,2.2958241967285717,2.296369366539897,2.319805116897628,2.3198594280477867,2.3068218800675617,2.302387087584485,2.33326462423335,2.3530529911409137,2.386020934555079,2.417260903935883,2.435100883550049,2.4381947349685977,2.4397160428852125,2.4437491135596123,2.4367982996924806,2.436342670674954,2.4328246094344443,2.4290307417693295,2.42646125959839,2.4192381126613074,2.420002966339824,2.4147599518454985,2.412540077399202,2.410739609862696,2.4050772115600125,2.40601613607957,2.401122281712553,2.3831881166220303,2.333522351242186,2.291424871139269,2.2876752254196386,2.309538191342981,2.347017231622749,2.3508417693087535,2.363696756349964,2.3876405767536704,2.3645199699920423,2.3231969302464592,2.3138909523895603,2.291997302038331,2.2982466904407577,2.3102752351648594,2.3209082896049096,2.320365059389477,2.3158220692754248,2.3118227189704097,2.355063956292153,2.3629122444598405,2.3436162507916043,2.328766471294638,2.3260007654512886,2.327309157927714,2.308692455805329,2.2953311808035726,2.292144218810837,2.2993945521362353,2.2961557771073573,2.326007936545588,2.3485782037161083,2.3345842852945786,2.313560666607335,2.3158295238269018,2.3423501344586453,2.346584988059846,2.3602543175535016,2.4040551320016785,2.4319064324698956,2.434992834965018,2.4415760213213766,2.4423825945757582,2.442669316434001,2.436474017104604,2.434404962002056,2.4328537778263324,2.4246682405322098,2.424429332476819,2.419134105582827,2.4174317196377917,2.4144847335589885,2.4091742907275613,2.409616692450618,2.403702417124483,2.403834442536458,2.3939852563007955,2.3390124867920754,2.306211212469704,2.2852973884558287,2.329387393169443,2.3418922612589985,2.323141732265033,2.3389416408543005,2.354791784823991],\"type\":\"scatter\",\"xaxis\":\"x\",\"yaxis\":\"y\"},{\"line\":{\"color\":\"#00B8FF\",\"simplify\":true},\"mode\":\"lines\",\"name\":\"glutamate\",\"opacity\":0.8,\"x\":[0.0,4.819277108433735,9.63855421686747,14.457831325301207,19.27710843373494,24.096385542168676,28.915662650602414,33.734939759036145,38.55421686746988,43.37349397590362,48.19277108433735,53.01204819277109,57.83132530120483,62.65060240963856,67.46987951807229,72.28915662650603,77.10843373493977,81.9277108433735,86.74698795180724,91.56626506024097,96.3855421686747,101.20481927710844,106.02409638554218,110.84337349397592,115.66265060240966,120.48192771084338,125.30120481927712,130.12048192771084,134.93975903614458,139.75903614457832,144.57831325301206,149.3975903614458,154.21686746987953,159.03614457831327,163.855421686747,168.67469879518075,173.49397590361448,178.31325301204822,183.13253012048193,187.95180722891567,192.7710843373494,197.59036144578315,202.40963855421688,207.22891566265062,212.04819277108436,216.8674698795181,221.68674698795184,226.50602409638557,231.3253012048193,236.14457831325302,240.96385542168676,245.7831325301205,250.60240963855424,255.42168674698797,260.2409638554217,265.06024096385545,269.87951807228916,274.6987951807229,279.51807228915663,284.3373493975904,289.1566265060241,293.9759036144579,298.7951807228916,303.61445783132535,308.43373493975906,313.2530120481928,318.07228915662654,322.89156626506025,327.710843373494,332.5301204819277,337.3493975903615,342.1686746987952,346.98795180722897,351.8072289156627,356.62650602409644,361.44578313253015,366.26506024096386,371.08433734939763,375.90361445783134,380.7228915662651,385.5421686746988,390.3614457831326,395.1807228915663,400.00000000000006,404.81927710843377,409.63855421686753,414.45783132530124,419.27710843373495,424.0963855421687,428.9156626506024,433.7349397590362,438.5542168674699,443.37349397590367,448.1927710843374,453.01204819277115,457.83132530120486,462.6506024096386,467.46987951807233,472.28915662650604,477.1084337349398,481.9277108433735,486.7469879518073,491.566265060241,496.38554216867476,501.20481927710847,506.02409638554224,510.84337349397595,515.6626506024097,520.4819277108434,525.3012048192771,530.1204819277109,534.9397590361447,539.7590361445783,544.5783132530121,549.3975903614459,554.2168674698796,559.0361445783133,563.855421686747,568.6746987951808,573.4939759036145,578.3132530120482,583.132530120482,587.9518072289158,592.7710843373494,597.5903614457832,602.4096385542169,607.2289156626507,612.0481927710844,616.8674698795181,621.6867469879519,626.5060240963855,631.3253012048193,636.1445783132531,640.9638554216868,645.7831325301205,650.6024096385543,655.421686746988,660.2409638554218,665.0602409638554,669.8795180722892,674.698795180723,679.5180722891566,684.3373493975904,689.1566265060242,693.9759036144579,698.7951807228916,703.6144578313254,708.4337349397591,713.2530120481929,718.0722891566265,722.8915662650603,727.7108433734941,732.5301204819277,737.3493975903615,742.1686746987953,746.987951807229,751.8072289156627,756.6265060240964,761.4457831325302,766.265060240964,771.0843373493976,775.9036144578314,780.7228915662652,785.5421686746988,790.3614457831326,795.1807228915663,800.0000000000001,804.8192771084338,809.6385542168675,814.4578313253013,819.2771084337351,824.0963855421687,828.9156626506025,833.7349397590363,838.5542168674699,843.3734939759037,848.1927710843374,853.0120481927712,857.8313253012049,862.6506024096386,867.4698795180724,872.2891566265062,877.1084337349398,881.9277108433736,886.7469879518073,891.566265060241,896.3855421686748,901.2048192771085,906.0240963855423,910.843373493976,915.6626506024097,920.4819277108435,925.3012048192772,930.1204819277109,934.9397590361447,939.7590361445784,944.5783132530121,949.3975903614459,954.2168674698796,959.0361445783134,963.855421686747,968.6746987951808,973.4939759036146,978.3132530120482,983.132530120482,987.9518072289158,992.7710843373495,997.5903614457832,1002.4096385542169,1007.2289156626507,1012.0481927710845,1016.8674698795181,1021.6867469879519,1026.5060240963855,1031.3253012048194,1036.144578313253,1040.9638554216867,1045.7831325301206,1050.6024096385543,1055.4216867469881,1060.2409638554218,1065.0602409638554,1069.8795180722893,1074.698795180723,1079.5180722891566,1084.3373493975905,1089.1566265060242,1093.9759036144578,1098.7951807228917,1103.6144578313254,1108.4337349397592,1113.2530120481929,1118.0722891566265,1122.8915662650604,1127.710843373494,1132.5301204819277,1137.3493975903616,1142.1686746987953,1146.987951807229,1151.8072289156628,1156.6265060240964,1161.4457831325303,1166.265060240964,1171.0843373493976,1175.9036144578315,1180.7228915662652,1185.5421686746988,1190.3614457831327,1195.1807228915663,1200.0],\"y\":[1.0,0.9999999999864323,0.9999999999303343,0.9999999998420797,0.99999999982235,0.9999999998256394,0.9999999998324351,0.9999999998383279,0.9999999998418553,0.9999999998427564,0.9999999998412041,0.9999999998374428,0.9999999998316854,0.9999999998240958,0.9999999998147915,0.9999999998038493,0.9999999997913109,0.9999999997771869,0.9999999997614607,0.9999999997440925,0.9999999997250206,0.9999999997041644,0.9999999996814253,0.999999999656688,0.9999999996298218,0.9999999996006812,0.999999999569107,0.9999999995349271,0.9999999994979567,0.9999999994580006,0.9999999994148546,0.9999999993683074,0.9999999993181433,0.9999999992641462,0.9999999992061033,0.9999999991438109,0.9999999990770801,0.9999999990057443,0.9999999989296663,0.9999999988487475,0.9999999987629355,0.9999999986722331,0.9999999985767045,0.9999999984764829,0.9999999983717728,0.9999999982628518,0.9999999981500697,0.9999999980338425,0.9999999979146457,0.999999997793003,0.9999999976694744,0.9999999975446409,0.9999999974190875,0.9999999972933822,0.999999997168048,0.999999997043514,0.9999999969200376,0.9999999967975624,0.9999999966754847,0.9999999965522763,0.9999999964249126,0.9999999962880485,0.9999999961328792,0.9999999959455957,0.9999999957052927,0.9999999953810295,0.999999994927457,0.9999999942778477,0.9999999933322472,0.999999991936227,0.9999999898409989,0.999999986625193,0.9999999815345164,0.9999999731377276,0.9999999585536173,0.9999999316333567,0.9999998784969195,0.9999997661189493,0.9999995120396565,0.9999989012646874,0.9999973514241665,0.9999932316100559,0.9999818413552948,0.9999492965970157,0.9998537360897214,0.9995669127677838,0.9986925029421526,0.996015769004584,0.9880182612643865,0.9664398628113231,0.9224650428385928,0.8618129304889041,0.7862455912068425,0.694167692722178,0.5954853159122213,0.5037844314828352,0.42444251620383033,0.36078651917837634,0.3103735688146048,0.2701271824458147,0.23851215079762828,0.21355260129990478,0.19450692015365692,0.18122791500313498,0.17233667766625488,0.16446137069254832,0.15842221268473355,0.15416169064023807,0.15110093753153334,0.14799429345575432,0.14415727261412103,0.14168243439888153,0.1404759066043125,0.14035399232799067,0.13966238422366778,0.13863127989377028,0.13431344990934735,0.13212369251108846,0.1313714915532675,0.13699368791605637,0.14233067152474746,0.14411055653835472,0.14584060319232797,0.14628198017328486,0.14617814008900776,0.14560279575157115,0.14466905494921184,0.14422917754326148,0.1428376177020843,0.1423774520187689,0.14155446357702417,0.14065322461280202,0.1401614890164545,0.13900626247692344,0.1388641316874894,0.13809048399388218,0.13759326316032,0.13726125250934795,0.13633103986094575,0.13639206976036158,0.13567046208177105,0.1354885562482191,0.13506915681626563,0.13315153979129293,0.12759382956500687,0.12056521152746827,0.11861349754434802,0.12442680259696129,0.1299964283905451,0.12828639072940384,0.12507548823569048,0.1274759777383328,0.13095701468766843,0.1298248827888638,0.12674330253028301,0.12677230839232223,0.12625648504606085,0.12312763952073287,0.1219549034203421,0.12198044997673724,0.12504803766129982,0.12502452850838297,0.12327061554319198,0.12266003165136888,0.12672290575369885,0.12930305746035806,0.1336188215089736,0.13770281366927034,0.14000493331077413,0.140352453658205,0.1404919569534246,0.14097015893678685,0.13999361792952597,0.13988257108435334,0.13937011209545414,0.1388225921772906,0.13844220416613529,0.13744647435792307,0.13751440385260733,0.13678809898946176,0.13646413148498548,0.13619939135686773,0.13542309593593638,0.13552563229184925,0.13485526164759545,0.13245772390333516,0.12585963249896004,0.12027536574259827,0.11978188893578298,0.12268953813388565,0.12766586668449423,0.12817656192075388,0.12987861906469061,0.13305517842151138,0.12999199792313648,0.12452140902509723,0.12330022935588002,0.12042423925480877,0.12128518569108421,0.12291032235535283,0.12434964086995903,0.12430572649360404,0.12373275068350872,0.12322810774929721,0.12897688087570258,0.13003259592299024,0.1274878176526193,0.12553161602083485,0.12518107600024636,0.12537607239121382,0.1229335231986545,0.12119392347368345,0.12080201583007331,0.12179680045084083,0.12139617924582223,0.1253622194840758,0.12836337894285565,0.12651782207765472,0.12374225159464751,0.12404614709058653,0.12756591853763852,0.12812617059519335,0.1299197649991686,0.13570290833547538,0.13936563702956092,0.13973387617987768,0.14056857183009577,0.1406378576606896,0.14063926237146354,0.1397828334706631,0.1394744085549212,0.13923822388323548,0.13812212307803431,0.13806344306407436,0.13733587276024833,0.13708569134832688,0.1366731018540878,0.13594715459482148,0.13598714188176725,0.13518463819969107,0.1351848253736382,0.1338630800547956,0.12656044326060464,0.12220831342685298,0.11943777005040147,0.12529216148893899,0.12695840294018595,0.12447715252317425,0.12657702760132655,0.1286869196360621],\"type\":\"scatter\",\"xaxis\":\"x\",\"yaxis\":\"y\"},{\"line\":{\"color\":\"#00ffaf\",\"simplify\":true},\"mode\":\"lines\",\"name\":\"lactate\",\"opacity\":0.8,\"x\":[0.0,4.819277108433735,9.63855421686747,14.457831325301207,19.27710843373494,24.096385542168676,28.915662650602414,33.734939759036145,38.55421686746988,43.37349397590362,48.19277108433735,53.01204819277109,57.83132530120483,62.65060240963856,67.46987951807229,72.28915662650603,77.10843373493977,81.9277108433735,86.74698795180724,91.56626506024097,96.3855421686747,101.20481927710844,106.02409638554218,110.84337349397592,115.66265060240966,120.48192771084338,125.30120481927712,130.12048192771084,134.93975903614458,139.75903614457832,144.57831325301206,149.3975903614458,154.21686746987953,159.03614457831327,163.855421686747,168.67469879518075,173.49397590361448,178.31325301204822,183.13253012048193,187.95180722891567,192.7710843373494,197.59036144578315,202.40963855421688,207.22891566265062,212.04819277108436,216.8674698795181,221.68674698795184,226.50602409638557,231.3253012048193,236.14457831325302,240.96385542168676,245.7831325301205,250.60240963855424,255.42168674698797,260.2409638554217,265.06024096385545,269.87951807228916,274.6987951807229,279.51807228915663,284.3373493975904,289.1566265060241,293.9759036144579,298.7951807228916,303.61445783132535,308.43373493975906,313.2530120481928,318.07228915662654,322.89156626506025,327.710843373494,332.5301204819277,337.3493975903615,342.1686746987952,346.98795180722897,351.8072289156627,356.62650602409644,361.44578313253015,366.26506024096386,371.08433734939763,375.90361445783134,380.7228915662651,385.5421686746988,390.3614457831326,395.1807228915663,400.00000000000006,404.81927710843377,409.63855421686753,414.45783132530124,419.27710843373495,424.0963855421687,428.9156626506024,433.7349397590362,438.5542168674699,443.37349397590367,448.1927710843374,453.01204819277115,457.83132530120486,462.6506024096386,467.46987951807233,472.28915662650604,477.1084337349398,481.9277108433735,486.7469879518073,491.566265060241,496.38554216867476,501.20481927710847,506.02409638554224,510.84337349397595,515.6626506024097,520.4819277108434,525.3012048192771,530.1204819277109,534.9397590361447,539.7590361445783,544.5783132530121,549.3975903614459,554.2168674698796,559.0361445783133,563.855421686747,568.6746987951808,573.4939759036145,578.3132530120482,583.132530120482,587.9518072289158,592.7710843373494,597.5903614457832,602.4096385542169,607.2289156626507,612.0481927710844,616.8674698795181,621.6867469879519,626.5060240963855,631.3253012048193,636.1445783132531,640.9638554216868,645.7831325301205,650.6024096385543,655.421686746988,660.2409638554218,665.0602409638554,669.8795180722892,674.698795180723,679.5180722891566,684.3373493975904,689.1566265060242,693.9759036144579,698.7951807228916,703.6144578313254,708.4337349397591,713.2530120481929,718.0722891566265,722.8915662650603,727.7108433734941,732.5301204819277,737.3493975903615,742.1686746987953,746.987951807229,751.8072289156627,756.6265060240964,761.4457831325302,766.265060240964,771.0843373493976,775.9036144578314,780.7228915662652,785.5421686746988,790.3614457831326,795.1807228915663,800.0000000000001,804.8192771084338,809.6385542168675,814.4578313253013,819.2771084337351,824.0963855421687,828.9156626506025,833.7349397590363,838.5542168674699,843.3734939759037,848.1927710843374,853.0120481927712,857.8313253012049,862.6506024096386,867.4698795180724,872.2891566265062,877.1084337349398,881.9277108433736,886.7469879518073,891.566265060241,896.3855421686748,901.2048192771085,906.0240963855423,910.843373493976,915.6626506024097,920.4819277108435,925.3012048192772,930.1204819277109,934.9397590361447,939.7590361445784,944.5783132530121,949.3975903614459,954.2168674698796,959.0361445783134,963.855421686747,968.6746987951808,973.4939759036146,978.3132530120482,983.132530120482,987.9518072289158,992.7710843373495,997.5903614457832,1002.4096385542169,1007.2289156626507,1012.0481927710845,1016.8674698795181,1021.6867469879519,1026.5060240963855,1031.3253012048194,1036.144578313253,1040.9638554216867,1045.7831325301206,1050.6024096385543,1055.4216867469881,1060.2409638554218,1065.0602409638554,1069.8795180722893,1074.698795180723,1079.5180722891566,1084.3373493975905,1089.1566265060242,1093.9759036144578,1098.7951807228917,1103.6144578313254,1108.4337349397592,1113.2530120481929,1118.0722891566265,1122.8915662650604,1127.710843373494,1132.5301204819277,1137.3493975903616,1142.1686746987953,1146.987951807229,1151.8072289156628,1156.6265060240964,1161.4457831325303,1166.265060240964,1171.0843373493976,1175.9036144578315,1180.7228915662652,1185.5421686746988,1190.3614457831327,1195.1807228915663,1200.0],\"y\":[0.272274459166667,0.32572127845390875,1.0880223607286748,2.8047511366757285,2.894100039644766,2.7006791248413737,2.5176906755871244,2.3782867619486616,2.2828742057478917,2.222082646879987,2.185584579735233,2.165459886353987,2.156299617624775,2.154539030832109,2.157858108233618,2.164758713551076,2.1742808747279962,2.185814384702245,2.1989741495560966,2.2135180231950122,2.2292928965485714,2.2461994970810455,2.26416950186555,2.2831506939527606,2.303097331153487,2.323963869244144,2.3457008370095083,2.3682521002826094,2.3915530458108667,2.4155294106986567,2.4400966111980362,2.465159506845935,2.490612586083208,2.5163405862183232,2.5422195693019125,2.568118469564755,2.5939011099875566,2.6194286576437893,2.6445624525237177,2.669167106364662,2.693113731354181,2.716283128950036,2.7385687520248396,2.759879253725501,2.7801404563981795,2.7992966132830057,2.81731089070327,2.834165062462645,2.8498584725903804,2.864406378763037,2.877837829553229,2.8901932499176746,2.90152191036226,2.9118794385543967,2.921325502683707,2.9299217594974687,2.9377301223334036,2.944811370211395,2.9512240910979903,2.9570239321572513,2.9622631171693614,2.9669901853646774,2.97124990525184,2.9750833200422133,2.978527886518414,2.981617675483971,2.984383608376611,2.986853710642959,2.989053367732563,2.9910055739315493,2.9927311677052235,2.9942490498259278,2.995576382403545,2.996728768069003,2.9977204089199123,2.99856424401798,2.9992720609285883,2.999854567158284,3.0003213801315742,3.0006808163900778,3.000939132535579,3.0010981889189785,3.0011484346434605,3.001047714916116,3.0006564294949873,2.999536964395033,2.996331884184901,2.986880177187179,2.9590890751876717,2.884433364705648,2.7380171855079163,2.5713471606371168,2.419151392940538,2.2780312048900653,2.1513969523708605,2.043979904224195,1.9491781458240107,1.8695421157028498,1.8043506121307156,1.749041473882365,1.7053323350935985,1.6715736835145112,1.6345402986878963,1.604002260492131,1.5839857472203063,1.5697472473058565,1.5479942384970429,1.5338744395922057,1.5261654549861503,1.5167286764936425,1.5106532221857614,1.5033876086864044,1.4932974501332752,1.4902104409108916,1.489216928833014,1.4878191530572646,1.4940338105087267,1.4830642821056603,1.473881033743607,1.4702297370551114,1.4744342793459704,1.4716286641022562,1.4692182231963684,1.4714571359025819,1.4703683829674048,1.4696981920438883,1.4694042372877714,1.469607834987998,1.4699606928665634,1.4688864557388395,1.4699126081564788,1.4694238276159648,1.4692484025535928,1.4698558922511777,1.469258878502886,1.470233005705585,1.469533585310042,1.4697416433681263,1.470109988657865,1.46960254757047,1.4705701658866674,1.4695508641406303,1.4703658310084848,1.4733714222790368,1.4814430957849107,1.4865798485645036,1.4761745911953348,1.4589471137158039,1.4808368112777774,1.4905391225488005,1.4816125382725254,1.4605126151690442,1.4789522374784012,1.4869678348812623,1.4781009425169804,1.4662623804230215,1.476122836575563,1.487885463834217,1.4783072427726016,1.465415672983804,1.4726662903012187,1.4817356006217768,1.477620512147966,1.4678670507194305,1.4686581127086258,1.4722516338374672,1.4641208675066506,1.469151759144177,1.4713322254478558,1.469153955048988,1.4683763399913057,1.4702215451322502,1.4707951297672492,1.469116123309804,1.4704112874669535,1.4703431929111905,1.4700364223929965,1.4703583713225836,1.4700086742798197,1.4709963391963792,1.4701062486811305,1.4703719266876836,1.470656768134229,1.4700812414689213,1.4706512239493466,1.4757843147979621,1.4857720391022748,1.4852223065200887,1.4688242544360972,1.4666257988437421,1.4714027985860048,1.4762520083678266,1.4662581558312364,1.469618632576348,1.4845737990871146,1.4889253465874481,1.4739530097104958,1.4730840584265732,1.4710600089653478,1.47008652768724,1.4728727347690458,1.4746625835505627,1.4723310436732115,1.468468435895662,1.464435534981165,1.4802715621584683,1.4821911813574093,1.4711002490989513,1.4680763551236593,1.4761002905908684,1.4812039479476595,1.476873440901769,1.4687442890939526,1.4717415967952892,1.4750792992496882,1.462703774731186,1.47676679876125,1.4864998843917276,1.480099715769786,1.4629253004823126,1.4712397349610804,1.4788941551757948,1.4653094593151428,1.4655007742854376,1.473902022586524,1.4696004436402212,1.4670226095838026,1.4709873804447715,1.4706985890599458,1.4697342946703449,1.4694196561974586,1.4706163317329726,1.4705407540023359,1.4695512949749459,1.470861060085205,1.4702798942596114,1.4704438576862793,1.470398683769518,1.4701681470453123,1.4710291078270588,1.469789407992907,1.4727581127541218,1.484469656107607,1.4821105866788866,1.472023282051511,1.463679593609558,1.481388394039207,1.48381848198547,1.4648489793481976,1.470455190050074],\"type\":\"scatter\",\"xaxis\":\"x\",\"yaxis\":\"y\"},{\"line\":{\"color\":\"#024059\",\"simplify\":true},\"mode\":\"lines\",\"name\":\"mannose\",\"opacity\":0.8,\"x\":[0.0,4.819277108433735,9.63855421686747,14.457831325301207,19.27710843373494,24.096385542168676,28.915662650602414,33.734939759036145,38.55421686746988,43.37349397590362,48.19277108433735,53.01204819277109,57.83132530120483,62.65060240963856,67.46987951807229,72.28915662650603,77.10843373493977,81.9277108433735,86.74698795180724,91.56626506024097,96.3855421686747,101.20481927710844,106.02409638554218,110.84337349397592,115.66265060240966,120.48192771084338,125.30120481927712,130.12048192771084,134.93975903614458,139.75903614457832,144.57831325301206,149.3975903614458,154.21686746987953,159.03614457831327,163.855421686747,168.67469879518075,173.49397590361448,178.31325301204822,183.13253012048193,187.95180722891567,192.7710843373494,197.59036144578315,202.40963855421688,207.22891566265062,212.04819277108436,216.8674698795181,221.68674698795184,226.50602409638557,231.3253012048193,236.14457831325302,240.96385542168676,245.7831325301205,250.60240963855424,255.42168674698797,260.2409638554217,265.06024096385545,269.87951807228916,274.6987951807229,279.51807228915663,284.3373493975904,289.1566265060241,293.9759036144579,298.7951807228916,303.61445783132535,308.43373493975906,313.2530120481928,318.07228915662654,322.89156626506025,327.710843373494,332.5301204819277,337.3493975903615,342.1686746987952,346.98795180722897,351.8072289156627,356.62650602409644,361.44578313253015,366.26506024096386,371.08433734939763,375.90361445783134,380.7228915662651,385.5421686746988,390.3614457831326,395.1807228915663,400.00000000000006,404.81927710843377,409.63855421686753,414.45783132530124,419.27710843373495,424.0963855421687,428.9156626506024,433.7349397590362,438.5542168674699,443.37349397590367,448.1927710843374,453.01204819277115,457.83132530120486,462.6506024096386,467.46987951807233,472.28915662650604,477.1084337349398,481.9277108433735,486.7469879518073,491.566265060241,496.38554216867476,501.20481927710847,506.02409638554224,510.84337349397595,515.6626506024097,520.4819277108434,525.3012048192771,530.1204819277109,534.9397590361447,539.7590361445783,544.5783132530121,549.3975903614459,554.2168674698796,559.0361445783133,563.855421686747,568.6746987951808,573.4939759036145,578.3132530120482,583.132530120482,587.9518072289158,592.7710843373494,597.5903614457832,602.4096385542169,607.2289156626507,612.0481927710844,616.8674698795181,621.6867469879519,626.5060240963855,631.3253012048193,636.1445783132531,640.9638554216868,645.7831325301205,650.6024096385543,655.421686746988,660.2409638554218,665.0602409638554,669.8795180722892,674.698795180723,679.5180722891566,684.3373493975904,689.1566265060242,693.9759036144579,698.7951807228916,703.6144578313254,708.4337349397591,713.2530120481929,718.0722891566265,722.8915662650603,727.7108433734941,732.5301204819277,737.3493975903615,742.1686746987953,746.987951807229,751.8072289156627,756.6265060240964,761.4457831325302,766.265060240964,771.0843373493976,775.9036144578314,780.7228915662652,785.5421686746988,790.3614457831326,795.1807228915663,800.0000000000001,804.8192771084338,809.6385542168675,814.4578313253013,819.2771084337351,824.0963855421687,828.9156626506025,833.7349397590363,838.5542168674699,843.3734939759037,848.1927710843374,853.0120481927712,857.8313253012049,862.6506024096386,867.4698795180724,872.2891566265062,877.1084337349398,881.9277108433736,886.7469879518073,891.566265060241,896.3855421686748,901.2048192771085,906.0240963855423,910.843373493976,915.6626506024097,920.4819277108435,925.3012048192772,930.1204819277109,934.9397590361447,939.7590361445784,944.5783132530121,949.3975903614459,954.2168674698796,959.0361445783134,963.855421686747,968.6746987951808,973.4939759036146,978.3132530120482,983.132530120482,987.9518072289158,992.7710843373495,997.5903614457832,1002.4096385542169,1007.2289156626507,1012.0481927710845,1016.8674698795181,1021.6867469879519,1026.5060240963855,1031.3253012048194,1036.144578313253,1040.9638554216867,1045.7831325301206,1050.6024096385543,1055.4216867469881,1060.2409638554218,1065.0602409638554,1069.8795180722893,1074.698795180723,1079.5180722891566,1084.3373493975905,1089.1566265060242,1093.9759036144578,1098.7951807228917,1103.6144578313254,1108.4337349397592,1113.2530120481929,1118.0722891566265,1122.8915662650604,1127.710843373494,1132.5301204819277,1137.3493975903616,1142.1686746987953,1146.987951807229,1151.8072289156628,1156.6265060240964,1161.4457831325303,1166.265060240964,1171.0843373493976,1175.9036144578315,1180.7228915662652,1185.5421686746988,1190.3614457831327,1195.1807228915663,1200.0],\"y\":[1.0,0.9997847835272562,0.9820515456528277,0.7576264868633179,0.44987451292279196,0.24947721667300057,0.1399633625265307,0.09283248078022324,0.0761765318421776,0.0699204251334407,0.0669659450766308,0.06533293133120797,0.06439303652396007,0.06387113264506723,0.06361300063567221,0.06352186171189286,0.06353432421057666,0.06360832324977106,0.06371603218407067,0.06383932643128346,0.06396673434821706,0.06409132859106492,0.0642092471838365,0.06431865252868205,0.06441900184015174,0.06451054124225102,0.06459396063039465,0.06467016342957728,0.06474011761343763,0.06480476338294924,0.06486495965667291,0.06492145658074315,0.06497488502738812,0.0650257568206972,0.06507447144035716,0.06512132639059028,0.0651665294259751,0.06521021150907574,0.06525243982181389,0.06529323042961105,0.06533256035463897,0.06537037889147404,0.06540661802622087,0.06544120182317052,0.06547405464060675,0.0655051080432852,0.06553430630177808,0.06556161041117843,0.06558700062112291,0.06561047753918414,0.06563206194103402,0.06565179348353463,0.06566972856272046,0.06568593758211978,0.06570050189656618,0.06571351067471234,0.06572505788486874,0.06573523956008409,0.06574415144633154,0.06575188708817611,0.06575853636360364,0.06576418444634734,0.06576891115084937,0.06577279060136704,0.06577589116137865,0.06577827556040063,0.06578000116066096,0.06578112031407961,0.0657816807691917,0.06578172609698589,0.0657812961136368,0.06578042728655425,0.06577915311892496,0.06577750451928854,0.06577551018285764,0.06577319705708723,0.06577059108146693,0.06576771871129969,0.06576461063686603,0.06576131171767056,0.06575790886275351,0.06575461182234577,0.06575199302268642,0.06575171357622223,0.06575875567281109,0.06578835901082418,0.06588756416723457,0.0662000789355241,0.06713648210827097,0.06958153280141723,0.07362157195555918,0.0762315268810571,0.07736879928070034,0.07820212738790006,0.07843555367779562,0.07753019536457333,0.0793929744321905,0.08234859581567211,0.08546059265815444,0.08873782632317181,0.0887433597165277,0.08285616835116259,0.08266166906412258,0.0839398493909003,0.08627067529470084,0.08373765554775604,0.08768405112553979,0.09007705386149424,0.09191580376450902,0.09400739853771826,0.09179584884565287,0.091345969610762,0.09684250688739895,0.10255984070025007,0.10767502328581115,0.1091044942736079,0.0968516340566149,0.09687079235815345,0.0995528627931278,0.11920691380410157,0.13999833390262892,0.1616953258181241,0.18202618646155816,0.1996548735707215,0.21770248518715057,0.23231012884174523,0.24717173027864772,0.25994742469351684,0.2710480212740012,0.28257536694789115,0.2913111052424379,0.3013045814997212,0.30944156300792064,0.31675512987980825,0.32436719372550665,0.3298044165123356,0.33694881372852475,0.34219468593353514,0.3475366846836031,0.3526805376700894,0.356256783381519,0.36212532176181716,0.36606413490240525,0.3668465758474275,0.3509735556497473,0.3166356803818209,0.2826413086035257,0.2765303812091544,0.2672612939271938,0.25008890321689975,0.2317545165044131,0.22951910114525734,0.22235558817100895,0.21248497934767036,0.20175504270754432,0.19245546972975935,0.17641324051004703,0.148398832338301,0.13374796649212536,0.12813928912170638,0.1265392170404673,0.12113821870479742,0.11597404417593701,0.11544969980192149,0.12430999718031344,0.13822437191088438,0.15904016129742843,0.17876068396782285,0.19912092700137038,0.21630033818075745,0.23407319418132494,0.24920466961810675,0.2624707072242354,0.27565285373253606,0.28591477124686554,0.2972412946666553,0.30637356223555706,0.3149307374465776,0.323189135831587,0.32932014424770106,0.3370006531472591,0.3425955176616149,0.34851699236459033,0.3540733418356881,0.35900170606166903,0.3585298592876654,0.33821734707268497,0.3065923466151437,0.2821168282336614,0.2630781099723193,0.2559423788067613,0.24445982369662916,0.24708260200401022,0.24910809329865294,0.23511788059863198,0.20933988672122833,0.19307587224115086,0.16105003883210123,0.14152912608706344,0.13308300287973387,0.12810169878346644,0.12424662934015922,0.12026571907680726,0.12114099826384979,0.13714184796698706,0.13974719694231788,0.13646960688217927,0.13521715600912107,0.13327869530604508,0.12817103529817295,0.11735636654430424,0.10862436238078013,0.10595065070223143,0.10392159571403665,0.10422963470677495,0.1205694411982656,0.12600247500741632,0.12275436866056558,0.11780821576579215,0.12459452036527292,0.13096959337110228,0.13434385890158923,0.15010177808415728,0.17142045603764722,0.19032425650681886,0.2111850710910486,0.22892468294463098,0.24442241048787408,0.2590259775424162,0.27080401953090605,0.2837196816590718,0.29390968377903093,0.30375554898562873,0.3128713894619548,0.3199559838257117,0.3283706641290525,0.3344836590282494,0.34123446799039653,0.3471267441186478,0.351727439096692,0.3583770633973351,0.360585880013047,0.3439114861467033,0.3200509529475637,0.2937612205476017,0.28542434105190495,0.2682908823587541,0.2474632224586743,0.24223914903759225,0.23440066876381294],\"type\":\"scatter\",\"xaxis\":\"x\",\"yaxis\":\"y\"},{\"line\":{\"color\":\"#ff8900\",\"simplify\":true},\"mode\":\"lines\",\"name\":\"pyruvate\",\"opacity\":0.8,\"x\":[0.0,4.819277108433735,9.63855421686747,14.457831325301207,19.27710843373494,24.096385542168676,28.915662650602414,33.734939759036145,38.55421686746988,43.37349397590362,48.19277108433735,53.01204819277109,57.83132530120483,62.65060240963856,67.46987951807229,72.28915662650603,77.10843373493977,81.9277108433735,86.74698795180724,91.56626506024097,96.3855421686747,101.20481927710844,106.02409638554218,110.84337349397592,115.66265060240966,120.48192771084338,125.30120481927712,130.12048192771084,134.93975903614458,139.75903614457832,144.57831325301206,149.3975903614458,154.21686746987953,159.03614457831327,163.855421686747,168.67469879518075,173.49397590361448,178.31325301204822,183.13253012048193,187.95180722891567,192.7710843373494,197.59036144578315,202.40963855421688,207.22891566265062,212.04819277108436,216.8674698795181,221.68674698795184,226.50602409638557,231.3253012048193,236.14457831325302,240.96385542168676,245.7831325301205,250.60240963855424,255.42168674698797,260.2409638554217,265.06024096385545,269.87951807228916,274.6987951807229,279.51807228915663,284.3373493975904,289.1566265060241,293.9759036144579,298.7951807228916,303.61445783132535,308.43373493975906,313.2530120481928,318.07228915662654,322.89156626506025,327.710843373494,332.5301204819277,337.3493975903615,342.1686746987952,346.98795180722897,351.8072289156627,356.62650602409644,361.44578313253015,366.26506024096386,371.08433734939763,375.90361445783134,380.7228915662651,385.5421686746988,390.3614457831326,395.1807228915663,400.00000000000006,404.81927710843377,409.63855421686753,414.45783132530124,419.27710843373495,424.0963855421687,428.9156626506024,433.7349397590362,438.5542168674699,443.37349397590367,448.1927710843374,453.01204819277115,457.83132530120486,462.6506024096386,467.46987951807233,472.28915662650604,477.1084337349398,481.9277108433735,486.7469879518073,491.566265060241,496.38554216867476,501.20481927710847,506.02409638554224,510.84337349397595,515.6626506024097,520.4819277108434,525.3012048192771,530.1204819277109,534.9397590361447,539.7590361445783,544.5783132530121,549.3975903614459,554.2168674698796,559.0361445783133,563.855421686747,568.6746987951808,573.4939759036145,578.3132530120482,583.132530120482,587.9518072289158,592.7710843373494,597.5903614457832,602.4096385542169,607.2289156626507,612.0481927710844,616.8674698795181,621.6867469879519,626.5060240963855,631.3253012048193,636.1445783132531,640.9638554216868,645.7831325301205,650.6024096385543,655.421686746988,660.2409638554218,665.0602409638554,669.8795180722892,674.698795180723,679.5180722891566,684.3373493975904,689.1566265060242,693.9759036144579,698.7951807228916,703.6144578313254,708.4337349397591,713.2530120481929,718.0722891566265,722.8915662650603,727.7108433734941,732.5301204819277,737.3493975903615,742.1686746987953,746.987951807229,751.8072289156627,756.6265060240964,761.4457831325302,766.265060240964,771.0843373493976,775.9036144578314,780.7228915662652,785.5421686746988,790.3614457831326,795.1807228915663,800.0000000000001,804.8192771084338,809.6385542168675,814.4578313253013,819.2771084337351,824.0963855421687,828.9156626506025,833.7349397590363,838.5542168674699,843.3734939759037,848.1927710843374,853.0120481927712,857.8313253012049,862.6506024096386,867.4698795180724,872.2891566265062,877.1084337349398,881.9277108433736,886.7469879518073,891.566265060241,896.3855421686748,901.2048192771085,906.0240963855423,910.843373493976,915.6626506024097,920.4819277108435,925.3012048192772,930.1204819277109,934.9397590361447,939.7590361445784,944.5783132530121,949.3975903614459,954.2168674698796,959.0361445783134,963.855421686747,968.6746987951808,973.4939759036146,978.3132530120482,983.132530120482,987.9518072289158,992.7710843373495,997.5903614457832,1002.4096385542169,1007.2289156626507,1012.0481927710845,1016.8674698795181,1021.6867469879519,1026.5060240963855,1031.3253012048194,1036.144578313253,1040.9638554216867,1045.7831325301206,1050.6024096385543,1055.4216867469881,1060.2409638554218,1065.0602409638554,1069.8795180722893,1074.698795180723,1079.5180722891566,1084.3373493975905,1089.1566265060242,1093.9759036144578,1098.7951807228917,1103.6144578313254,1108.4337349397592,1113.2530120481929,1118.0722891566265,1122.8915662650604,1127.710843373494,1132.5301204819277,1137.3493975903616,1142.1686746987953,1146.987951807229,1151.8072289156628,1156.6265060240964,1161.4457831325303,1166.265060240964,1171.0843373493976,1175.9036144578315,1180.7228915662652,1185.5421686746988,1190.3614457831327,1195.1807228915663,1200.0],\"y\":[8.1368174275,8.004391651255265,6.186589706079012,1.6398471480444579,0.760229263173346,0.897900915947531,1.1410627118964336,1.350895884223528,1.4990320460679027,1.5937086374493636,1.6513348066656448,1.685237318394676,1.7043935173112217,1.7145591460902772,1.7193693965829966,1.7210959236419936,1.721137756518193,1.7203380932573789,1.7191891558508743,1.7179645446850895,1.716804323073657,1.715769230436418,1.7148747890570624,1.7141123959148816,1.7134620652704877,1.7128998779828295,1.7124021257451343,1.7119474324658868,1.711517670696338,1.7110981875576055,1.710677657816078,1.7102477552977706,1.7098027535410898,1.7093391164395142,1.7088551090531154,1.7083504408378185,1.7078259437193224,1.7072832827598874,1.7067246956940516,1.7061527580393745,1.7055701719258156,1.704979578589568,1.7043833961461927,1.7037836854437989,1.7031820472506605,1.7025795536363366,1.7019767151953327,1.7013734839053394,1.7007692891909854,1.70016310254777,1.6995535242095137,1.69893888410652,1.6983173489287524,1.697687027488939,1.6970460676752008,1.696392739876188,1.6957255035972314,1.6950430558181266,1.6943443612673588,1.693628666067884,1.6928954970924361,1.6921446498487176,1.6913761678498895,1.690590316290855,1.6897875525284327,1.688968495436567,1.6881338952407028,1.6872846049751111,1.6864215542810292,1.6855457258753845,1.6846581346414335,1.6837598088417236,1.6828517722215934,1.6819350242376456,1.6810105119553103,1.6800790776592953,1.679141340761005,1.6781974022311166,1.6772460601490693,1.6762826449747636,1.6752928624075116,1.674234831096674,1.6729855313456816,1.6711781924570719,1.6677012943732947,1.659142392256659,1.6349872937972294,1.5635591189083646,1.359162875230531,0.8797756285678172,0.33966672929766195,0.19177893373744864,0.12889944879840795,0.0909900687293704,0.07385603508003515,0.05193331066623495,0.061504664887982605,0.05914672499844066,0.044723815733707956,0.02423670360148924,0.051849333306560726,0.08133167467599714,0.04688928263048954,-0.0076128201807528495,0.03675357075444606,0.010277230043883069,0.015510925761397579,0.025298442198475338,0.018227452792791372,0.03225641389150556,0.036228920950006877,0.07817111085962228,0.06316367680501414,0.04960035477267944,0.03933476476174232,0.03017500068277619,0.03064288624500946,0.029819307445746124,0.11405434642846686,0.06647240312481253,0.056608057461791095,0.06451835891727427,-0.026420495357913035,0.11751770418554933,0.05491206218549366,0.08607464586843172,0.06595076934020831,-0.02806804143043984,0.10131627718174818,0.032334244511621216,0.10581950720465898,0.0704277325250445,-0.00702121849197458,0.080984204764592,0.0050351562098645275,0.11529455335669507,0.07038646834754804,0.02690915034185254,0.06684570154595486,-0.020556779176066714,0.11588674406657956,0.06003756678445851,0.06422839979272511,0.024009690338993687,0.038107329620356706,0.04447998955188817,0.09788541545518573,0.05045421608102134,0.06881561654450105,0.01248043031286921,-0.0215314561090272,0.07875514293411594,0.08146952856258734,0.019311263079048846,0.03987385141192984,0.001436100205490759,0.026372426786511312,0.07084724098463951,0.04896390358323028,0.04021415945361383,0.030555533232932433,0.03997256032650863,0.05082775677411298,0.08172078689429275,0.07013481290742703,0.06355230278784578,-0.03686794822196378,0.10542653187857444,0.04300691444285758,0.09725275977222986,0.06917882380365563,-0.022903259298426654,0.09053211550704185,0.018951555947541304,0.11114710456155459,0.07053748723481956,0.010829489421306251,0.07354950907371453,-0.008293436782657204,0.11578332538636082,0.067611428893548,0.04330545290500934,0.06269914364733535,-0.026819236589733633,0.09010549800899767,0.09084878710332363,0.047207518609518065,0.04875431999205449,0.011092230202118872,-0.003215807430805309,0.05505328683702317,0.08861821935392203,0.05607194753831103,0.04736211025308784,-0.0010062862636456074,0.07590606185903631,0.020034674332802496,0.04060431517548131,0.02628330053605781,0.03210539098718883,0.04833691188690293,0.02252241955365101,0.015320097162982146,0.0665079288851599,0.025730226522264924,0.027268991969764927,0.026525601986041925,0.02514574985117496,0.02826000487985627,0.03080706638435243,0.03511186152905882,-0.001710899395801456,0.03736516972948892,0.028268106534672467,0.05885413995996298,0.01777165880830288,0.08111747276806586,0.0550865004678831,0.04161429975564468,0.04908798307036268,0.02987627833116667,-0.01981682867242658,0.0997784436847773,0.029742806051827442,0.11338527867073071,0.07103796721553071,0.00010921951901029375,0.08157913881140566,0.002922684214505325,0.11771693059131641,0.07063687275036865,0.03268659923452297,0.06660533996479374,-0.022512455384306962,0.11484763071245202,0.06167288306461391,0.06358370695061508,0.06193500854792603,-0.036815759003296006,0.10662762047704721,0.04365885228685776,0.029555376810190444,0.04079833893168667,0.03087545742980162,0.09657734445784832,0.026951341785144807,0.02824517558104081,0.05920289903038731,0.02332927813971951,-0.007872535739649307],\"type\":\"scatter\",\"xaxis\":\"x\",\"yaxis\":\"y\"},{\"line\":{\"color\":\"#00ff26\",\"simplify\":true},\"mode\":\"lines\",\"name\":\"succinate\",\"opacity\":0.8,\"x\":[0.0,4.819277108433735,9.63855421686747,14.457831325301207,19.27710843373494,24.096385542168676,28.915662650602414,33.734939759036145,38.55421686746988,43.37349397590362,48.19277108433735,53.01204819277109,57.83132530120483,62.65060240963856,67.46987951807229,72.28915662650603,77.10843373493977,81.9277108433735,86.74698795180724,91.56626506024097,96.3855421686747,101.20481927710844,106.02409638554218,110.84337349397592,115.66265060240966,120.48192771084338,125.30120481927712,130.12048192771084,134.93975903614458,139.75903614457832,144.57831325301206,149.3975903614458,154.21686746987953,159.03614457831327,163.855421686747,168.67469879518075,173.49397590361448,178.31325301204822,183.13253012048193,187.95180722891567,192.7710843373494,197.59036144578315,202.40963855421688,207.22891566265062,212.04819277108436,216.8674698795181,221.68674698795184,226.50602409638557,231.3253012048193,236.14457831325302,240.96385542168676,245.7831325301205,250.60240963855424,255.42168674698797,260.2409638554217,265.06024096385545,269.87951807228916,274.6987951807229,279.51807228915663,284.3373493975904,289.1566265060241,293.9759036144579,298.7951807228916,303.61445783132535,308.43373493975906,313.2530120481928,318.07228915662654,322.89156626506025,327.710843373494,332.5301204819277,337.3493975903615,342.1686746987952,346.98795180722897,351.8072289156627,356.62650602409644,361.44578313253015,366.26506024096386,371.08433734939763,375.90361445783134,380.7228915662651,385.5421686746988,390.3614457831326,395.1807228915663,400.00000000000006,404.81927710843377,409.63855421686753,414.45783132530124,419.27710843373495,424.0963855421687,428.9156626506024,433.7349397590362,438.5542168674699,443.37349397590367,448.1927710843374,453.01204819277115,457.83132530120486,462.6506024096386,467.46987951807233,472.28915662650604,477.1084337349398,481.9277108433735,486.7469879518073,491.566265060241,496.38554216867476,501.20481927710847,506.02409638554224,510.84337349397595,515.6626506024097,520.4819277108434,525.3012048192771,530.1204819277109,534.9397590361447,539.7590361445783,544.5783132530121,549.3975903614459,554.2168674698796,559.0361445783133,563.855421686747,568.6746987951808,573.4939759036145,578.3132530120482,583.132530120482,587.9518072289158,592.7710843373494,597.5903614457832,602.4096385542169,607.2289156626507,612.0481927710844,616.8674698795181,621.6867469879519,626.5060240963855,631.3253012048193,636.1445783132531,640.9638554216868,645.7831325301205,650.6024096385543,655.421686746988,660.2409638554218,665.0602409638554,669.8795180722892,674.698795180723,679.5180722891566,684.3373493975904,689.1566265060242,693.9759036144579,698.7951807228916,703.6144578313254,708.4337349397591,713.2530120481929,718.0722891566265,722.8915662650603,727.7108433734941,732.5301204819277,737.3493975903615,742.1686746987953,746.987951807229,751.8072289156627,756.6265060240964,761.4457831325302,766.265060240964,771.0843373493976,775.9036144578314,780.7228915662652,785.5421686746988,790.3614457831326,795.1807228915663,800.0000000000001,804.8192771084338,809.6385542168675,814.4578313253013,819.2771084337351,824.0963855421687,828.9156626506025,833.7349397590363,838.5542168674699,843.3734939759037,848.1927710843374,853.0120481927712,857.8313253012049,862.6506024096386,867.4698795180724,872.2891566265062,877.1084337349398,881.9277108433736,886.7469879518073,891.566265060241,896.3855421686748,901.2048192771085,906.0240963855423,910.843373493976,915.6626506024097,920.4819277108435,925.3012048192772,930.1204819277109,934.9397590361447,939.7590361445784,944.5783132530121,949.3975903614459,954.2168674698796,959.0361445783134,963.855421686747,968.6746987951808,973.4939759036146,978.3132530120482,983.132530120482,987.9518072289158,992.7710843373495,997.5903614457832,1002.4096385542169,1007.2289156626507,1012.0481927710845,1016.8674698795181,1021.6867469879519,1026.5060240963855,1031.3253012048194,1036.144578313253,1040.9638554216867,1045.7831325301206,1050.6024096385543,1055.4216867469881,1060.2409638554218,1065.0602409638554,1069.8795180722893,1074.698795180723,1079.5180722891566,1084.3373493975905,1089.1566265060242,1093.9759036144578,1098.7951807228917,1103.6144578313254,1108.4337349397592,1113.2530120481929,1118.0722891566265,1122.8915662650604,1127.710843373494,1132.5301204819277,1137.3493975903616,1142.1686746987953,1146.987951807229,1151.8072289156628,1156.6265060240964,1161.4457831325303,1166.265060240964,1171.0843373493976,1175.9036144578315,1180.7228915662652,1185.5421686746988,1190.3614457831327,1195.1807228915663,1200.0],\"y\":[0.444971364333333,0.47647709279653505,1.1450988569064866,4.3984478242278415,6.859913432692007,8.003131173010614,8.481700570410773,8.60804427679301,8.594243301896359,8.55104573477297,8.511251813749093,8.480077405800685,8.456645479633558,8.439256780283696,8.426394631516262,8.416858895064225,8.409736382619796,8.40434547352612,8.400183461458505,8.396882650979622,8.394175658904736,8.391868804004055,8.389822103945814,8.387934457965146,8.386132796897533,8.384364214719438,8.382590311063856,8.380783156203313,8.378922436217286,8.376993449853599,8.374985715237333,8.372892009505478,8.3707077125204,8.36843036106996,8.366059345627741,8.36359570034934,8.361041950457128,8.358401990990043,8.35568097817448,8.352885220219022,8.350022058732328,8.34709973560014,8.344127243269128,8.341114159079165,8.33807046657282,8.335006368540382,8.331932097851261,8.32885773280824,8.325793023808558,8.322747237528466,8.319729023757784,8.316746308541816,8.313806215617308,8.310915016443852,8.308078107595144,8.305300013012184,8.30258440770714,8.299934158964462,8.297351380893597,8.294837498292074,8.292393316107539,8.2900190912676,8.28771460420572,8.285479227991182,8.283311993525484,8.281211649766535,8.27917671836821,8.277205542469076,8.275296329631258,8.27344718912373,8.271656163869771,8.269921257441009,8.268240456473922,8.266611748779116,8.265033137114743,8.263502647836562,8.262018331680109,8.260578248692681,8.259180414828247,8.257822646378012,8.256502117669388,8.255214087345722,8.253948154855465,8.252677036599493,8.25132233601465,8.249648867836347,8.246937666376798,8.240998711773345,8.225507922865358,8.185761584139854,8.109216085407077,8.016931578036083,7.915232393974711,7.794548525563077,7.6518146710152815,7.487513229366608,7.277845223190779,7.049801730182433,6.829969872595238,6.627638083921358,6.464929006119308,6.358824456130885,6.239433399439273,6.126429156828313,6.020389203813812,5.952479648933824,5.857754007357837,5.7782358775495215,5.708222250164584,5.642084160759348,5.604929951222611,5.5630728925044215,5.493013882286539,5.424171417126419,5.36090194267701,5.319427851315562,5.354381663466445,5.328451424382663,5.2903172762496355,5.163790565402142,5.031787642489173,4.896283528348199,4.769461514851463,4.658360938591219,4.54697453050501,4.4550071918294165,4.363462494030555,4.284159015162717,4.214853097380293,4.144732189901084,4.090005684008404,4.030021511580239,3.9804485966826806,3.935947804659062,3.890758472922652,3.8572834963723546,3.8158555131807703,3.7845943542555434,3.753378235014161,3.7236355269499826,3.7022077466332446,3.6696236224293144,3.6470868488207424,3.6407207774933776,3.718340617908555,3.8889630917892646,4.058034226992572,4.087189290293319,4.1323758334561775,4.2174060664025905,4.3084037479872075,4.3186753827506195,4.3537928840631706,4.402598944240569,4.455807744239805,4.501910841635893,4.581936638356986,4.722155962149862,4.795381500990648,4.823285774654917,4.831098849110318,4.8580357648186565,4.883825373746075,4.886356080112372,4.841757772261986,4.7717773116337385,4.667127788621531,4.567959028032922,4.465574848604674,4.379157085917544,4.289768183079134,4.213644579310895,4.146893165571102,4.080574525340792,4.02892088050002,3.971937182849723,3.9259746677046117,3.8829084079431926,3.8413515769106326,3.81047785708843,3.7718392803881624,3.743672933858542,3.7138759009092563,3.6859180922253327,3.661117453513355,3.663413645943969,3.7652461683390195,3.923831208038656,4.046557576976515,4.142021248586446,4.177784175198209,4.235362704947945,4.2221879549797885,4.21201424781483,4.282190114611563,4.41151137003378,4.493118036293162,4.6538242797964,4.75183109668231,4.794299613468865,4.819395655150907,4.838852066463214,4.858949784940871,4.854683761749977,4.774486170646578,4.761484763149051,4.7780015193061685,4.784356010039147,4.794151532948836,4.819855293338112,4.8742132648595,4.918152086964539,4.931700586484158,4.942018021963548,4.940609474673211,4.858693746188958,4.831469105518797,4.8478146049182325,4.87269058468565,4.8386796874484395,4.806704019499728,4.789776935249004,4.710674427328192,4.603633359515022,4.5086914116121495,4.403916755865587,4.314798765294275,4.236929204395351,4.163547805588424,4.104346734702235,4.039441728826837,3.988217290272361,3.938724568807311,3.892899886920112,3.8572714493524107,3.8149752862280395,3.784231765982255,3.750293425314242,3.720667108309145,3.697524875504758,3.664108240126771,3.652973350933644,3.736568633475058,3.8562146546103087,3.988050353972194,4.029834413608503,4.115754250945579,4.220215279149649,4.2464100905409214,4.285727248020222],\"type\":\"scatter\",\"xaxis\":\"x\",\"yaxis\":\"y\"},{\"line\":{\"color\":\"#8900ff\",\"simplify\":true},\"mode\":\"lines\",\"name\":\"trehalose\",\"opacity\":0.8,\"x\":[0.0,4.819277108433735,9.63855421686747,14.457831325301207,19.27710843373494,24.096385542168676,28.915662650602414,33.734939759036145,38.55421686746988,43.37349397590362,48.19277108433735,53.01204819277109,57.83132530120483,62.65060240963856,67.46987951807229,72.28915662650603,77.10843373493977,81.9277108433735,86.74698795180724,91.56626506024097,96.3855421686747,101.20481927710844,106.02409638554218,110.84337349397592,115.66265060240966,120.48192771084338,125.30120481927712,130.12048192771084,134.93975903614458,139.75903614457832,144.57831325301206,149.3975903614458,154.21686746987953,159.03614457831327,163.855421686747,168.67469879518075,173.49397590361448,178.31325301204822,183.13253012048193,187.95180722891567,192.7710843373494,197.59036144578315,202.40963855421688,207.22891566265062,212.04819277108436,216.8674698795181,221.68674698795184,226.50602409638557,231.3253012048193,236.14457831325302,240.96385542168676,245.7831325301205,250.60240963855424,255.42168674698797,260.2409638554217,265.06024096385545,269.87951807228916,274.6987951807229,279.51807228915663,284.3373493975904,289.1566265060241,293.9759036144579,298.7951807228916,303.61445783132535,308.43373493975906,313.2530120481928,318.07228915662654,322.89156626506025,327.710843373494,332.5301204819277,337.3493975903615,342.1686746987952,346.98795180722897,351.8072289156627,356.62650602409644,361.44578313253015,366.26506024096386,371.08433734939763,375.90361445783134,380.7228915662651,385.5421686746988,390.3614457831326,395.1807228915663,400.00000000000006,404.81927710843377,409.63855421686753,414.45783132530124,419.27710843373495,424.0963855421687,428.9156626506024,433.7349397590362,438.5542168674699,443.37349397590367,448.1927710843374,453.01204819277115,457.83132530120486,462.6506024096386,467.46987951807233,472.28915662650604,477.1084337349398,481.9277108433735,486.7469879518073,491.566265060241,496.38554216867476,501.20481927710847,506.02409638554224,510.84337349397595,515.6626506024097,520.4819277108434,525.3012048192771,530.1204819277109,534.9397590361447,539.7590361445783,544.5783132530121,549.3975903614459,554.2168674698796,559.0361445783133,563.855421686747,568.6746987951808,573.4939759036145,578.3132530120482,583.132530120482,587.9518072289158,592.7710843373494,597.5903614457832,602.4096385542169,607.2289156626507,612.0481927710844,616.8674698795181,621.6867469879519,626.5060240963855,631.3253012048193,636.1445783132531,640.9638554216868,645.7831325301205,650.6024096385543,655.421686746988,660.2409638554218,665.0602409638554,669.8795180722892,674.698795180723,679.5180722891566,684.3373493975904,689.1566265060242,693.9759036144579,698.7951807228916,703.6144578313254,708.4337349397591,713.2530120481929,718.0722891566265,722.8915662650603,727.7108433734941,732.5301204819277,737.3493975903615,742.1686746987953,746.987951807229,751.8072289156627,756.6265060240964,761.4457831325302,766.265060240964,771.0843373493976,775.9036144578314,780.7228915662652,785.5421686746988,790.3614457831326,795.1807228915663,800.0000000000001,804.8192771084338,809.6385542168675,814.4578313253013,819.2771084337351,824.0963855421687,828.9156626506025,833.7349397590363,838.5542168674699,843.3734939759037,848.1927710843374,853.0120481927712,857.8313253012049,862.6506024096386,867.4698795180724,872.2891566265062,877.1084337349398,881.9277108433736,886.7469879518073,891.566265060241,896.3855421686748,901.2048192771085,906.0240963855423,910.843373493976,915.6626506024097,920.4819277108435,925.3012048192772,930.1204819277109,934.9397590361447,939.7590361445784,944.5783132530121,949.3975903614459,954.2168674698796,959.0361445783134,963.855421686747,968.6746987951808,973.4939759036146,978.3132530120482,983.132530120482,987.9518072289158,992.7710843373495,997.5903614457832,1002.4096385542169,1007.2289156626507,1012.0481927710845,1016.8674698795181,1021.6867469879519,1026.5060240963855,1031.3253012048194,1036.144578313253,1040.9638554216867,1045.7831325301206,1050.6024096385543,1055.4216867469881,1060.2409638554218,1065.0602409638554,1069.8795180722893,1074.698795180723,1079.5180722891566,1084.3373493975905,1089.1566265060242,1093.9759036144578,1098.7951807228917,1103.6144578313254,1108.4337349397592,1113.2530120481929,1118.0722891566265,1122.8915662650604,1127.710843373494,1132.5301204819277,1137.3493975903616,1142.1686746987953,1146.987951807229,1151.8072289156628,1156.6265060240964,1161.4457831325303,1166.265060240964,1171.0843373493976,1175.9036144578315,1180.7228915662652,1185.5421686746988,1190.3614457831327,1195.1807228915663,1200.0],\"y\":[0.684513088333333,0.6805996404689536,0.6699199800050568,0.6513710513333784,0.6393051947797925,0.6333214586823529,0.6298311903966208,0.6270928771853834,0.6243111160370388,0.6212010832837432,0.6176891553551518,0.6137635691357062,0.6094276295065304,0.6046876812543409,0.5995498323333389,0.5940189350719914,0.5880983487122101,0.58179007994726,0.5750951395996367,0.568014026710747,0.5605472845915924,0.5526960928935817,0.5444628720375284,0.5358518837919989,0.5268698157420375,0.517526338759485,0.5078346260955858,0.4978118209525731,0.4874794368695799,0.47686367246738554,0.46599561953328494,0.45491134162481744,0.4436517999000399,0.43226260433312935,0.42079357240575704,0.4092980842143283,0.39783223290551833,0.38645378227951155,0.37522095861879967,0.3641911200769503,0.35341936250892797,0.3429571332576519,0.33285093186499265,0.3231411770151546,0.31386131113951143,0.30503719811359975,0.29668684684078944,0.2888204669707432,0.2814408360554014,0.27454393370195695,0.2681197807355209,0.26215341183576,0.2566259089207736,0.2515154287444172,0.2467981697900642,0.24244923818780637,0.23844338772186577,0.23475562313136203,0.23136166758533314,0.22823830384207258,0.2253636041318845,0.2227170665922269,0.22027967669362652,0.21803391114836218,0.21596369988392972,0.21405435926892444,0.2122925072661774,0.2106659688028297,0.20916367753025678,0.207775578364523,0.20649253376304685,0.20530623557837602,0.20420912349819856,0.20319431048234596,0.20225551519468304,0.20138700116117556,0.20058352223683618,0.19984027394348386,0.19915285046244663,0.19851720798431355,0.19792963830213547,0.19738676725846913,0.19688562847690322,0.1964239819956614,0.19600144229487101,0.1956232740718043,0.19531280359884293,0.19514976262002368,0.19536776841845108,0.19641362907375395,0.19775567455110665,0.19630719575482183,0.19357630852905355,0.19256923089124445,0.192403858914124,0.19149215614107906,0.19151952277318424,0.19131337141231533,0.19044383654601799,0.19001086332713807,0.18882145463468034,0.18670036346594973,0.1887929897378975,0.1900120661334956,0.18877743555526466,0.18681049605869496,0.18915211538999774,0.18943479397168075,0.18806537097296339,0.18816000567434796,0.18744672133934853,0.18809313762438826,0.18980941535737675,0.18917693527629154,0.18795990789411648,0.18742968888225892,0.18395595547009608,0.18766955721005488,0.19054310684768389,0.19109187050705823,0.18878239525158708,0.18931370061144112,0.18996122190845716,0.1887327928662876,0.18889098810002555,0.1890404717700683,0.18895911486499,0.1888043899947321,0.1885742575421979,0.1889642219337131,0.18853808304107542,0.1886835375885064,0.1887644206036277,0.18850017173873923,0.1887582265084659,0.18837935429811542,0.1886615339558998,0.1886003474799254,0.18844979159956946,0.18868302706283802,0.18830301374982109,0.18872465208991762,0.18839922651572724,0.18716314019410138,0.18385834684762703,0.18176759501637277,0.1860897632140261,0.1931970204193997,0.1841576410029256,0.18015336597291695,0.18385221018121434,0.1925833324787213,0.18496732152267525,0.18165353879860127,0.18532022423883046,0.19023827487533587,0.18616594144286952,0.18130700418189316,0.1852782371251256,0.19061006715633177,0.18761187602408635,0.1838635032333371,0.1855716600749544,0.18960606768111088,0.18927665201011373,0.1877708546111247,0.19113245553172067,0.18905044269933774,0.1881476103877233,0.18905313369143753,0.18937187236411548,0.18861097860587236,0.18837370513106197,0.18907041288373072,0.1885378833358475,0.18856455142614287,0.188694360340145,0.188560459563662,0.18870752284342188,0.1883012952290476,0.18866887648094557,0.18856149960237953,0.18844248877562417,0.1886824850162614,0.18844599175849033,0.18632278066731958,0.18219449714236058,0.1824253407763965,0.18920804752175563,0.19011772211390243,0.1881377720718555,0.18613255505771187,0.19026133073740026,0.1888727327638702,0.18268725930770305,0.18088869887297093,0.18708583718248073,0.18745280276706483,0.18829325092113927,0.1886946715704018,0.18754391811268759,0.1868024044510073,0.1877703610861126,0.18935916736748457,0.19102430740264673,0.18447311649570616,0.18368246978830396,0.18827230385353202,0.18952359199143315,0.18620663708756566,0.18409682681597742,0.1858923345129633,0.1892578378527384,0.18801900464266516,0.18662987840157652,0.19174198221946176,0.18592687405481698,0.1819000488778816,0.18455255080925637,0.1916502684743679,0.18820654282634203,0.18503615156020917,0.19064903970985544,0.19056534637268693,0.18708920638426507,0.18886352368704384,0.18993287827657918,0.18829178314791953,0.18841403898915374,0.18881687880358392,0.1889459351223291,0.1884538415302759,0.1884842814546721,0.18889650411917494,0.1883566294191683,0.1885968540250723,0.18853177193824802,0.1885492978413305,0.18864680395664107,0.18829129799017696,0.18880285967481086,0.18757510667743452,0.18272840410166644,0.18370918445426998,0.1878810941815247,0.19133426732694356,0.1840064413481665,0.1830001332221475,0.19084907673431176,0.18852951304193458],\"type\":\"scatter\",\"xaxis\":\"x\",\"yaxis\":\"y\"},{\"line\":{\"color\":\"rgb(57,255,20)\",\"simplify\":true},\"mode\":\"lines\",\"name\":\"pH\",\"opacity\":0.8,\"x\":[0.0,4.819277108433735,9.63855421686747,14.457831325301207,19.27710843373494,24.096385542168676,28.915662650602414,33.734939759036145,38.55421686746988,43.37349397590362,48.19277108433735,53.01204819277109,57.83132530120483,62.65060240963856,67.46987951807229,72.28915662650603,77.10843373493977,81.9277108433735,86.74698795180724,91.56626506024097,96.3855421686747,101.20481927710844,106.02409638554218,110.84337349397592,115.66265060240966,120.48192771084338,125.30120481927712,130.12048192771084,134.93975903614458,139.75903614457832,144.57831325301206,149.3975903614458,154.21686746987953,159.03614457831327,163.855421686747,168.67469879518075,173.49397590361448,178.31325301204822,183.13253012048193,187.95180722891567,192.7710843373494,197.59036144578315,202.40963855421688,207.22891566265062,212.04819277108436,216.8674698795181,221.68674698795184,226.50602409638557,231.3253012048193,236.14457831325302,240.96385542168676,245.7831325301205,250.60240963855424,255.42168674698797,260.2409638554217,265.06024096385545,269.87951807228916,274.6987951807229,279.51807228915663,284.3373493975904,289.1566265060241,293.9759036144579,298.7951807228916,303.61445783132535,308.43373493975906,313.2530120481928,318.07228915662654,322.89156626506025,327.710843373494,332.5301204819277,337.3493975903615,342.1686746987952,346.98795180722897,351.8072289156627,356.62650602409644,361.44578313253015,366.26506024096386,371.08433734939763,375.90361445783134,380.7228915662651,385.5421686746988,390.3614457831326,395.1807228915663,400.00000000000006,404.81927710843377,409.63855421686753,414.45783132530124,419.27710843373495,424.0963855421687,428.9156626506024,433.7349397590362,438.5542168674699,443.37349397590367,448.1927710843374,453.01204819277115,457.83132530120486,462.6506024096386,467.46987951807233,472.28915662650604,477.1084337349398,481.9277108433735,486.7469879518073,491.566265060241,496.38554216867476,501.20481927710847,506.02409638554224,510.84337349397595,515.6626506024097,520.4819277108434,525.3012048192771,530.1204819277109,534.9397590361447,539.7590361445783,544.5783132530121,549.3975903614459,554.2168674698796,559.0361445783133,563.855421686747,568.6746987951808,573.4939759036145,578.3132530120482,583.132530120482,587.9518072289158,592.7710843373494,597.5903614457832,602.4096385542169,607.2289156626507,612.0481927710844,616.8674698795181,621.6867469879519,626.5060240963855,631.3253012048193,636.1445783132531,640.9638554216868,645.7831325301205,650.6024096385543,655.421686746988,660.2409638554218,665.0602409638554,669.8795180722892,674.698795180723,679.5180722891566,684.3373493975904,689.1566265060242,693.9759036144579,698.7951807228916,703.6144578313254,708.4337349397591,713.2530120481929,718.0722891566265,722.8915662650603,727.7108433734941,732.5301204819277,737.3493975903615,742.1686746987953,746.987951807229,751.8072289156627,756.6265060240964,761.4457831325302,766.265060240964,771.0843373493976,775.9036144578314,780.7228915662652,785.5421686746988,790.3614457831326,795.1807228915663,800.0000000000001,804.8192771084338,809.6385542168675,814.4578313253013,819.2771084337351,824.0963855421687,828.9156626506025,833.7349397590363,838.5542168674699,843.3734939759037,848.1927710843374,853.0120481927712,857.8313253012049,862.6506024096386,867.4698795180724,872.2891566265062,877.1084337349398,881.9277108433736,886.7469879518073,891.566265060241,896.3855421686748,901.2048192771085,906.0240963855423,910.843373493976,915.6626506024097,920.4819277108435,925.3012048192772,930.1204819277109,934.9397590361447,939.7590361445784,944.5783132530121,949.3975903614459,954.2168674698796,959.0361445783134,963.855421686747,968.6746987951808,973.4939759036146,978.3132530120482,983.132530120482,987.9518072289158,992.7710843373495,997.5903614457832,1002.4096385542169,1007.2289156626507,1012.0481927710845,1016.8674698795181,1021.6867469879519,1026.5060240963855,1031.3253012048194,1036.144578313253,1040.9638554216867,1045.7831325301206,1050.6024096385543,1055.4216867469881,1060.2409638554218,1065.0602409638554,1069.8795180722893,1074.698795180723,1079.5180722891566,1084.3373493975905,1089.1566265060242,1093.9759036144578,1098.7951807228917,1103.6144578313254,1108.4337349397592,1113.2530120481929,1118.0722891566265,1122.8915662650604,1127.710843373494,1132.5301204819277,1137.3493975903616,1142.1686746987953,1146.987951807229,1151.8072289156628,1156.6265060240964,1161.4457831325303,1166.265060240964,1171.0843373493976,1175.9036144578315,1180.7228915662652,1185.5421686746988,1190.3614457831327,1195.1807228915663,1200.0],\"y\":[6.495719193487217,6.486833757488354,6.339867304891906,5.7378114439530705,5.359925079569643,5.21165720201313,5.159534604959236,5.152266554412729,5.160510691242212,5.170422663573861,5.178415691905839,5.184280364805678,5.1884450602075365,5.191346540776264,5.19333245808796,5.194664162456116,5.195533805329339,5.196080687420932,5.196404612367034,5.196576296023345,5.196645291988634,5.19664592862388,5.196601698693322,5.196528468381799,5.196436799189607,5.196333611603453,5.196223365667132,5.196108890413414,5.195991960354368,5.195873691307081,5.195754808223012,5.195635823033522,5.195517149684099,5.195399175593081,5.1952823030213855,5.19516696972641,5.195053655376215,5.194942878201907,5.194835185026397,5.19473113694313,5.194631292386521,5.194536189024367,5.1944463257203815,5.194362145690666,5.194284021856322,5.194212245238365,5.194147017032632,5.194088444742122,5.194036542448724,5.193991235005504,5.1939523656571245,5.193919706380865,5.193892970106391,5.193871823927079,5.193855902456257,5.193844820592003,5.193838185111386,5.1938356046947,5.193836698158993,5.1938411008402765,5.193848469193803,5.193858483776269,5.193870850832941,5.193885302740499,5.1939015975588285,5.193919517929139,5.193938869528087,5.193959479253665,5.193981193282889,5.194003875106466,5.19402740361291,5.194051671263128,5.19407658236147,5.194102051378337,5.194128001178404,5.194154360766607,5.1941810615263995,5.194208029163685,5.194235163554408,5.194262284062281,5.194288974319624,5.194314128342882,5.194334592988256,5.194341033049797,5.194305159063401,5.194139980008868,5.193577103757334,5.1918083130493,5.1866611994104295,5.174666541468007,5.161760745230419,5.15865060442881,5.1561675756318115,5.1532605147495705,5.152991215141083,5.150412238065972,5.138369478976082,5.126572230566428,5.112714470132049,5.108170954335118,5.1235547177024685,5.126853945796722,5.127473369470918,5.119119520645434,5.118690770913262,5.134130037309967,5.125541705476458,5.114194553822655,5.107337060536949,5.126907774389186,5.110786336655427,5.126793093666592,5.11059678342639,5.10663111575426,5.079030670989363,5.120078792679072,5.124272831972255,5.112944897487806,5.11282371492814,5.040262428788208,5.040204054830641,4.9886450904767,4.993168974593115,4.993596227362034,4.97230223943207,4.9968044287001785,4.958059672734385,4.97316694031464,4.966843794330681,4.962038820373427,4.9901433680206395,4.95300307207411,4.9714398755194065,4.953033549732347,4.960787632457565,4.985805536027762,4.9529547041396285,4.976439256870251,4.945991903225071,4.961947934156152,4.978860543829734,4.953064434074023,4.982658606259319,4.9819499431456595,5.023899883467315,5.063836597896735,5.060843727481061,4.993771980288128,5.034917020589635,5.045365536958633,5.03814419391129,5.020844621810035,5.062334884457425,5.036854810972107,5.021996368108809,5.057418009570618,5.095527395402899,5.119854158752399,5.115962142430683,5.09515915495967,5.085535004062519,5.1011341900700975,5.118075195850309,5.103163463139349,5.105428406598998,5.022563539609313,5.013164101862827,5.000287307588706,4.980940730634506,5.003339592841854,4.961453863788485,4.976348678679335,4.9627073949525276,4.963622543145192,4.990246821276478,4.954325404219596,4.974777416110742,4.949442414966429,4.961940227333714,4.983299327840585,4.954016203578872,4.979958823556993,4.945927391908809,4.962840967027278,4.9734244676704265,5.004405219090783,5.057183400855184,5.065919305593267,5.0325200053247015,5.028415703301237,5.028698754175087,5.043503417042365,4.987497322661985,5.015432612620897,5.062591644472764,5.0809015510361135,5.080644778603835,5.114660112232038,5.083328727423631,5.075847267997186,5.094079018569032,5.1015589226385245,5.101675451335573,5.056577853773302,5.052170298054209,5.066624038111932,5.073741218013308,5.075220957331329,5.070611917974248,5.076129410418523,5.106718967943768,5.129547542715054,5.11997998477553,5.121357688933709,5.094088257067789,5.065312303533747,5.093617581627847,5.10275743543081,5.114010714218854,5.08274541816175,5.07878415002859,5.065948894430342,5.020850216566387,4.998712844402446,5.014917935085496,4.96819640303697,4.982972698304841,4.9607336068196215,4.967239095100776,4.9894140108899725,4.956714036335867,4.979819808441487,4.948009192242619,4.963628667881064,4.978895795087547,4.955696030494527,4.98389312175123,4.947315513929055,4.964740636403802,4.968082400314447,4.954896161494538,4.992115312500506,5.011111618398371,5.034691210050108,5.020413844135655,5.0168375210332075,5.035780282979073,5.030968139521802,5.01894572161858,5.029482711620883],\"type\":\"scatter\",\"xaxis\":\"x2\",\"yaxis\":\"y2\"},{\"line\":{\"color\":\"#FF10F0\",\"simplify\":true},\"mode\":\"lines\",\"name\":\"bh_xa\",\"opacity\":0.8,\"x\":[0.0,4.819277108433735,9.63855421686747,14.457831325301207,19.27710843373494,24.096385542168676,28.915662650602414,33.734939759036145,38.55421686746988,43.37349397590362,48.19277108433735,53.01204819277109,57.83132530120483,62.65060240963856,67.46987951807229,72.28915662650603,77.10843373493977,81.9277108433735,86.74698795180724,91.56626506024097,96.3855421686747,101.20481927710844,106.02409638554218,110.84337349397592,115.66265060240966,120.48192771084338,125.30120481927712,130.12048192771084,134.93975903614458,139.75903614457832,144.57831325301206,149.3975903614458,154.21686746987953,159.03614457831327,163.855421686747,168.67469879518075,173.49397590361448,178.31325301204822,183.13253012048193,187.95180722891567,192.7710843373494,197.59036144578315,202.40963855421688,207.22891566265062,212.04819277108436,216.8674698795181,221.68674698795184,226.50602409638557,231.3253012048193,236.14457831325302,240.96385542168676,245.7831325301205,250.60240963855424,255.42168674698797,260.2409638554217,265.06024096385545,269.87951807228916,274.6987951807229,279.51807228915663,284.3373493975904,289.1566265060241,293.9759036144579,298.7951807228916,303.61445783132535,308.43373493975906,313.2530120481928,318.07228915662654,322.89156626506025,327.710843373494,332.5301204819277,337.3493975903615,342.1686746987952,346.98795180722897,351.8072289156627,356.62650602409644,361.44578313253015,366.26506024096386,371.08433734939763,375.90361445783134,380.7228915662651,385.5421686746988,390.3614457831326,395.1807228915663,400.00000000000006,404.81927710843377,409.63855421686753,414.45783132530124,419.27710843373495,424.0963855421687,428.9156626506024,433.7349397590362,438.5542168674699,443.37349397590367,448.1927710843374,453.01204819277115,457.83132530120486,462.6506024096386,467.46987951807233,472.28915662650604,477.1084337349398,481.9277108433735,486.7469879518073,491.566265060241,496.38554216867476,501.20481927710847,506.02409638554224,510.84337349397595,515.6626506024097,520.4819277108434,525.3012048192771,530.1204819277109,534.9397590361447,539.7590361445783,544.5783132530121,549.3975903614459,554.2168674698796,559.0361445783133,563.855421686747,568.6746987951808,573.4939759036145,578.3132530120482,583.132530120482,587.9518072289158,592.7710843373494,597.5903614457832,602.4096385542169,607.2289156626507,612.0481927710844,616.8674698795181,621.6867469879519,626.5060240963855,631.3253012048193,636.1445783132531,640.9638554216868,645.7831325301205,650.6024096385543,655.421686746988,660.2409638554218,665.0602409638554,669.8795180722892,674.698795180723,679.5180722891566,684.3373493975904,689.1566265060242,693.9759036144579,698.7951807228916,703.6144578313254,708.4337349397591,713.2530120481929,718.0722891566265,722.8915662650603,727.7108433734941,732.5301204819277,737.3493975903615,742.1686746987953,746.987951807229,751.8072289156627,756.6265060240964,761.4457831325302,766.265060240964,771.0843373493976,775.9036144578314,780.7228915662652,785.5421686746988,790.3614457831326,795.1807228915663,800.0000000000001,804.8192771084338,809.6385542168675,814.4578313253013,819.2771084337351,824.0963855421687,828.9156626506025,833.7349397590363,838.5542168674699,843.3734939759037,848.1927710843374,853.0120481927712,857.8313253012049,862.6506024096386,867.4698795180724,872.2891566265062,877.1084337349398,881.9277108433736,886.7469879518073,891.566265060241,896.3855421686748,901.2048192771085,906.0240963855423,910.843373493976,915.6626506024097,920.4819277108435,925.3012048192772,930.1204819277109,934.9397590361447,939.7590361445784,944.5783132530121,949.3975903614459,954.2168674698796,959.0361445783134,963.855421686747,968.6746987951808,973.4939759036146,978.3132530120482,983.132530120482,987.9518072289158,992.7710843373495,997.5903614457832,1002.4096385542169,1007.2289156626507,1012.0481927710845,1016.8674698795181,1021.6867469879519,1026.5060240963855,1031.3253012048194,1036.144578313253,1040.9638554216867,1045.7831325301206,1050.6024096385543,1055.4216867469881,1060.2409638554218,1065.0602409638554,1069.8795180722893,1074.698795180723,1079.5180722891566,1084.3373493975905,1089.1566265060242,1093.9759036144578,1098.7951807228917,1103.6144578313254,1108.4337349397592,1113.2530120481929,1118.0722891566265,1122.8915662650604,1127.710843373494,1132.5301204819277,1137.3493975903616,1142.1686746987953,1146.987951807229,1151.8072289156628,1156.6265060240964,1161.4457831325303,1166.265060240964,1171.0843373493976,1175.9036144578315,1180.7228915662652,1185.5421686746988,1190.3614457831327,1195.1807228915663,1200.0],\"y\":[0.003,0.009094144230243212,0.02646679489395826,0.0529260910376327,0.06424242635143489,0.06833767485087762,0.07079826645633223,0.07330202317884622,0.07645930624559438,0.0803860452940579,0.0850265280600564,0.09030625071532546,0.09616857969276826,0.10257602232214069,0.10950584325839871,0.11694606072263564,0.12489239056647171,0.13334591202668616,0.1423112318561051,0.15179499631993723,0.16180465121834392,0.17234738107450137,0.18342917862347477,0.19505401000508957,0.20722305225084725,0.21993398905445374,0.2331803590671147,0.24695095838231454,0.26122930559571433,0.2759931838253729,0.2912142792044379,0.30685793933293576,0.3228830776015083,0.33924224969655564,0.3558819264497067,0.3727429820472692,0.38976140817767513,0.4068692529847481,0.4239957691671514,0.44106873921307077,0.4580159291328584,0.47476660715186036,0.49125305285629234,0.5074119772909896,0.5231857769225918,0.5385235546437435,0.5533818583069466,0.5677251096412647,0.5815257209421464,0.5947639204195846,0.6074273266227147,0.6195103258489734,0.6310133129680462,0.6419418558952283,0.6523058382375561,0.6621186251677947,0.6713962862493617,0.6801568974291071,0.6884199340006294,0.6962057577837847,0.7035351953823906,0.7104292001202119,0.716908587841122,0.722993835806126,0.7287049340154549,0.734061279059317,0.7390816017519923,0.7437839211030527,0.7481855184737756,0.7523029269623768,0.7561519321104345,0.7597475809142602,0.7631041968680817,0.7662353993933846,0.7691541265774828,0.7718726607548108,0.7744026573154659,0.7767551786287553,0.7789407379977606,0.7809693649159052,0.7828507159680512,0.7845942804114187,0.7862097661067797,0.7877077607102883,0.7891005179959536,0.7904013211228795,0.7916161249876926,0.7927198014900546,0.7937813537647983,0.7973580707442137,0.8201657026735912,0.8603304858333201,0.8681659088779239,0.8603689077681017,0.8642130240612866,0.872987369531132,0.8867256176529472,0.9173693539421791,0.9402251818624601,0.9515786274700724,0.9542104917610681,0.9173928121465782,0.8917872577001184,0.9210567620871991,0.9364415356273401,0.9157292420580998,0.9034116766651017,0.9365693629894629,0.9404524943154203,0.9328785829999116,0.9189771023424208,0.9128740448781248,0.9340216224724496,0.9727567213530713,0.979481102173673,0.9748766041816672,0.9244842396105151,0.8814174937859344,0.9302375387513332,1.0760677431983983,1.120602495582374,1.1344855132952194,1.178864538030356,1.2045472381965383,1.206262075639095,1.214643084001601,1.2310542771643014,1.2332107862843806,1.233781213357235,1.2396696621898367,1.2416630333111607,1.2441297048440936,1.2443234509535979,1.247195587080561,1.2478687246587203,1.2466860086971447,1.2491828452232157,1.24873259945181,1.2504918330710992,1.2499477614335517,1.2491889954893074,1.252300177558119,1.2528109344506588,1.2360767895022016,1.1562058574307017,1.0583100511241004,0.9819707468413688,1.1626311976178418,1.2301333436166406,1.1136312833958772,1.0133740004204694,1.081477177716593,1.2018345355535403,1.099217150758391,1.0098671930597172,1.0386788268573908,1.0718698942060785,0.9904010999957052,0.9195105740523348,0.9430438516595138,1.0445915621358208,0.9895279688975414,0.929416826098905,0.9286842971656001,1.061425000621182,1.0537919176753152,1.1121116587153113,1.200200866111871,1.1918041207652672,1.1902421842110733,1.2270775383831298,1.2356806252460153,1.2284460299810107,1.2350944407422213,1.243348358206433,1.244143308960338,1.2420101839505633,1.2472667835012763,1.248812618241456,1.246305356900444,1.2482825835115994,1.2488243970596722,1.250725611222134,1.2500901712034995,1.2527392345802772,1.2354207837334954,1.1395631438631377,1.0391321064882812,0.9914719184995178,1.121514744754447,1.149358558366425,1.1085817531335822,1.1177667455361926,1.2038557582043266,1.134462285984281,1.032283976902457,0.965811629913097,0.9591627369884107,0.9628427370544298,0.9821804641891274,0.9987468737933645,0.9733222582232135,0.9518084615268029,0.9612933135711952,1.0947930480342671,1.076312783556754,0.9944068013885182,0.951232941752497,1.0093088765096054,1.0083442192787404,0.9575159447785716,0.9040489131767839,0.9151434826827678,0.9564585927167543,0.9379498439658155,0.9960931317288997,1.0815046529720336,0.9996404994536041,0.9247989402870996,0.9521037984690518,1.0787382641056467,1.0286954722879404,1.0327180791135402,1.2051061281807263,1.1982777198264871,1.1761831051600176,1.2220812301160608,1.2427769072766348,1.2254670706335515,1.227680133009792,1.2465225116580774,1.2447734268582185,1.2412832523278705,1.245266096876633,1.2485564794737047,1.2479565987426875,1.2460448930092094,1.250222112756041,1.250204297377653,1.2491490785791854,1.252427417027747,1.2453570347040097,1.1609457875576878,1.0651426160868092,1.013429177229146,1.1797232388861363,1.1562413829686473,1.0601634094714882,1.0445931557708823,1.1629440568755043],\"type\":\"scatter\",\"xaxis\":\"x3\",\"yaxis\":\"y3\"},{\"line\":{\"color\":\"#FF10F0\",\"simplify\":true},\"mode\":\"lines\",\"name\":\"bh_xb\",\"opacity\":0.8,\"x\":[0.0,4.819277108433735,9.63855421686747,14.457831325301207,19.27710843373494,24.096385542168676,28.915662650602414,33.734939759036145,38.55421686746988,43.37349397590362,48.19277108433735,53.01204819277109,57.83132530120483,62.65060240963856,67.46987951807229,72.28915662650603,77.10843373493977,81.9277108433735,86.74698795180724,91.56626506024097,96.3855421686747,101.20481927710844,106.02409638554218,110.84337349397592,115.66265060240966,120.48192771084338,125.30120481927712,130.12048192771084,134.93975903614458,139.75903614457832,144.57831325301206,149.3975903614458,154.21686746987953,159.03614457831327,163.855421686747,168.67469879518075,173.49397590361448,178.31325301204822,183.13253012048193,187.95180722891567,192.7710843373494,197.59036144578315,202.40963855421688,207.22891566265062,212.04819277108436,216.8674698795181,221.68674698795184,226.50602409638557,231.3253012048193,236.14457831325302,240.96385542168676,245.7831325301205,250.60240963855424,255.42168674698797,260.2409638554217,265.06024096385545,269.87951807228916,274.6987951807229,279.51807228915663,284.3373493975904,289.1566265060241,293.9759036144579,298.7951807228916,303.61445783132535,308.43373493975906,313.2530120481928,318.07228915662654,322.89156626506025,327.710843373494,332.5301204819277,337.3493975903615,342.1686746987952,346.98795180722897,351.8072289156627,356.62650602409644,361.44578313253015,366.26506024096386,371.08433734939763,375.90361445783134,380.7228915662651,385.5421686746988,390.3614457831326,395.1807228915663,400.00000000000006,404.81927710843377,409.63855421686753,414.45783132530124,419.27710843373495,424.0963855421687,428.9156626506024,433.7349397590362,438.5542168674699,443.37349397590367,448.1927710843374,453.01204819277115,457.83132530120486,462.6506024096386,467.46987951807233,472.28915662650604,477.1084337349398,481.9277108433735,486.7469879518073,491.566265060241,496.38554216867476,501.20481927710847,506.02409638554224,510.84337349397595,515.6626506024097,520.4819277108434,525.3012048192771,530.1204819277109,534.9397590361447,539.7590361445783,544.5783132530121,549.3975903614459,554.2168674698796,559.0361445783133,563.855421686747,568.6746987951808,573.4939759036145,578.3132530120482,583.132530120482,587.9518072289158,592.7710843373494,597.5903614457832,602.4096385542169,607.2289156626507,612.0481927710844,616.8674698795181,621.6867469879519,626.5060240963855,631.3253012048193,636.1445783132531,640.9638554216868,645.7831325301205,650.6024096385543,655.421686746988,660.2409638554218,665.0602409638554,669.8795180722892,674.698795180723,679.5180722891566,684.3373493975904,689.1566265060242,693.9759036144579,698.7951807228916,703.6144578313254,708.4337349397591,713.2530120481929,718.0722891566265,722.8915662650603,727.7108433734941,732.5301204819277,737.3493975903615,742.1686746987953,746.987951807229,751.8072289156627,756.6265060240964,761.4457831325302,766.265060240964,771.0843373493976,775.9036144578314,780.7228915662652,785.5421686746988,790.3614457831326,795.1807228915663,800.0000000000001,804.8192771084338,809.6385542168675,814.4578313253013,819.2771084337351,824.0963855421687,828.9156626506025,833.7349397590363,838.5542168674699,843.3734939759037,848.1927710843374,853.0120481927712,857.8313253012049,862.6506024096386,867.4698795180724,872.2891566265062,877.1084337349398,881.9277108433736,886.7469879518073,891.566265060241,896.3855421686748,901.2048192771085,906.0240963855423,910.843373493976,915.6626506024097,920.4819277108435,925.3012048192772,930.1204819277109,934.9397590361447,939.7590361445784,944.5783132530121,949.3975903614459,954.2168674698796,959.0361445783134,963.855421686747,968.6746987951808,973.4939759036146,978.3132530120482,983.132530120482,987.9518072289158,992.7710843373495,997.5903614457832,1002.4096385542169,1007.2289156626507,1012.0481927710845,1016.8674698795181,1021.6867469879519,1026.5060240963855,1031.3253012048194,1036.144578313253,1040.9638554216867,1045.7831325301206,1050.6024096385543,1055.4216867469881,1060.2409638554218,1065.0602409638554,1069.8795180722893,1074.698795180723,1079.5180722891566,1084.3373493975905,1089.1566265060242,1093.9759036144578,1098.7951807228917,1103.6144578313254,1108.4337349397592,1113.2530120481929,1118.0722891566265,1122.8915662650604,1127.710843373494,1132.5301204819277,1137.3493975903616,1142.1686746987953,1146.987951807229,1151.8072289156628,1156.6265060240964,1161.4457831325303,1166.265060240964,1171.0843373493976,1175.9036144578315,1180.7228915662652,1185.5421686746988,1190.3614457831327,1195.1807228915663,1200.0],\"y\":[0.0,3.137325692637366e-11,1.0225570024862303e-10,1.294446676486758e-10,9.901092652436058e-11,9.84201646735465e-11,1.0112227153848629e-10,1.0533655243377361e-10,1.1104909444844422e-10,1.1803651330172675e-10,1.2612814751080034e-10,1.3524705368051575e-10,1.4536868382899351e-10,1.5649903463207042e-10,1.6866586385294359e-10,1.8191436866834514e-10,1.963045369205322e-10,2.1190937653763981e-10,2.2881375706764293e-10,2.471135870570651e-10,2.6691524768931256e-10,2.883352012810183e-10,3.1149966973999044e-10,3.3654436121405835e-10,3.6361413995584586e-10,3.9286238362164046e-10,4.244501227440036e-10,4.585448182858188e-10,4.953186858795213e-10,5.349466531019998e-10,5.776034033082729e-10,6.234595605343128e-10,6.726770760543559e-10,7.254036872847645e-10,7.817666673854549e-10,8.418659183727044e-10,9.057658426277659e-10,9.734871172184986e-10,1.0449986547810516e-9,1.1202103459965955e-9,1.19896778785805e-9,1.2810484347033705e-9,1.3661603006209614e-9,1.4539443193801438e-9,1.5439803428528032e-9,1.6357970229086458e-9,1.7288850366635997e-9,1.8227114648046561e-9,1.916736113606446e-9,2.010428427634553e-9,2.1032844492321216e-9,2.1948450954095552e-9,2.2847181259480865e-9,2.3726130346106115e-9,2.458406241345056e-9,2.5422644524177667e-9,2.6248686863874918e-9,2.707795520600995e-9,2.7941196344725226e-9,2.8893036694690286e-9,3.002432172288491e-9,3.147843976745901e-9,3.347256944903898e-9,3.632578042044647e-9,4.049846870064027e-9,4.665298748672477e-9,5.575488169279958e-9,6.925214103826913e-9,8.940574143344925e-9,1.1992098564276954e-8,1.6719861547975275e-8,2.4291569334420004e-8,3.695853293248456e-8,5.9307754725595996e-8,1.0120808499595462e-7,1.8504005894392215e-7,3.6415047039735877e-7,7.716964162222586e-7,1.7542338541658923e-6,4.247964921111106e-6,0.000010866324051308614,0.000029116295251503636,0.00008110031280935269,0.00023327834003229378,0.0006889901611133577,0.002078241857669839,0.006359723301660563,0.019500067828042825,0.058014071223654304,0.15259469922220967,0.288086977618499,0.4109277858192023,0.589584506775054,0.811541103023082,1.0297693322368249,1.2599867431774427,1.5372590603116174,1.7923246502746912,2.043905734275695,2.24447339105182,2.3389811623223937,2.4814066393147027,2.6158225114304128,2.719871269854019,2.796355114653345,2.820106850886666,2.9394977252590175,3.014990190439286,3.094729519373694,3.0727678481127088,3.1882577035165465,3.1629421029195695,3.2534137476410963,3.2761688901636794,3.4250089889035635,3.2915201629868593,3.320662807539647,3.4281784739583614,3.4034555141181713,3.620644882712242,3.6462151803022254,3.9161276606276236,3.9196213586619586,3.9532482197928656,4.098790430417881,4.03951755686086,4.232349013165782,4.210835186786445,4.274798324801947,4.325707970232529,4.238359105221144,4.420795134709778,4.37110637185789,4.46865315514753,4.459392750466187,4.376311488567998,4.53041840124208,4.450767190936765,4.591311870999286,4.541141632689568,4.484449340864228,4.603489932612613,4.492912434740404,4.516960750483789,4.393347320172145,4.251383569073344,4.2558965804272475,4.325218646363303,4.070004479979432,4.10661574805908,4.191529607857871,4.180467750101287,3.876518503277369,4.063124205567743,4.18672770534727,3.9861886294044355,3.7616080461758994,3.681854822560521,3.7308740696853735,3.7742246491810874,3.708151095512572,3.689205414017979,3.6672372859565825,3.72555233882078,3.6018381403667736,3.983885593356519,4.0095662553703,4.022733732330266,4.160614483197855,4.111944278966317,4.291313916881205,4.259296070197417,4.356744377533392,4.378362105317823,4.286920612109568,4.462262116592797,4.402882811853559,4.523903884735108,4.4909436508420235,4.421655841899899,4.558818730489875,4.465505465747252,4.618833167430267,4.5630348824382345,4.5293609610134835,4.420565244039967,4.257826766703309,4.248111720779902,4.367083268256457,4.204049222840916,4.1548477249312805,4.108231601087557,4.330003225969024,4.13245747556972,3.9816569171506497,3.9516083962221513,3.974806450456189,3.766206414911271,3.841235617071299,3.8299854990895,3.7261068072892614,3.7119241843095594,3.722898370505826,3.9001174900225335,3.8175548881100645,3.787859854039819,3.8352587719940265,3.8666128039035748,3.8216009423691757,3.790166741667651,3.692762474579935,3.631082684663641,3.6501032390434114,3.5980383692771296,3.7304138455373046,3.823028425306752,3.6373245320066774,3.678638858913753,3.6950306164864566,3.806571224809008,3.7115811194953423,3.825090267130202,4.039311829191009,4.006389177138858,3.994107807327198,4.258380499446969,4.194114617674879,4.305143209335743,4.331811743694306,4.268060029756147,4.415792606610913,4.348261637486522,4.5078541651302455,4.4616385015792375,4.4141296046053835,4.5307340086763706,4.431995470782467,4.595397446474114,4.53791912773734,4.537501472367529,4.603958898587265,4.46416517011388,4.438093092492345,4.380219709457542,4.424737033641624,4.244245301377332,4.152423410519153,4.2198418251024705,4.263751979494951,4.083019511029877],\"type\":\"scatter\",\"xaxis\":\"x3\",\"yaxis\":\"y3\"},{\"line\":{\"color\":\"#d6d6d6\",\"simplify\":true},\"mode\":\"lines\",\"name\":\"bh_xc\",\"opacity\":0.1,\"x\":[0.0,4.819277108433735,9.63855421686747,14.457831325301207,19.27710843373494,24.096385542168676,28.915662650602414,33.734939759036145,38.55421686746988,43.37349397590362,48.19277108433735,53.01204819277109,57.83132530120483,62.65060240963856,67.46987951807229,72.28915662650603,77.10843373493977,81.9277108433735,86.74698795180724,91.56626506024097,96.3855421686747,101.20481927710844,106.02409638554218,110.84337349397592,115.66265060240966,120.48192771084338,125.30120481927712,130.12048192771084,134.93975903614458,139.75903614457832,144.57831325301206,149.3975903614458,154.21686746987953,159.03614457831327,163.855421686747,168.67469879518075,173.49397590361448,178.31325301204822,183.13253012048193,187.95180722891567,192.7710843373494,197.59036144578315,202.40963855421688,207.22891566265062,212.04819277108436,216.8674698795181,221.68674698795184,226.50602409638557,231.3253012048193,236.14457831325302,240.96385542168676,245.7831325301205,250.60240963855424,255.42168674698797,260.2409638554217,265.06024096385545,269.87951807228916,274.6987951807229,279.51807228915663,284.3373493975904,289.1566265060241,293.9759036144579,298.7951807228916,303.61445783132535,308.43373493975906,313.2530120481928,318.07228915662654,322.89156626506025,327.710843373494,332.5301204819277,337.3493975903615,342.1686746987952,346.98795180722897,351.8072289156627,356.62650602409644,361.44578313253015,366.26506024096386,371.08433734939763,375.90361445783134,380.7228915662651,385.5421686746988,390.3614457831326,395.1807228915663,400.00000000000006,404.81927710843377,409.63855421686753,414.45783132530124,419.27710843373495,424.0963855421687,428.9156626506024,433.7349397590362,438.5542168674699,443.37349397590367,448.1927710843374,453.01204819277115,457.83132530120486,462.6506024096386,467.46987951807233,472.28915662650604,477.1084337349398,481.9277108433735,486.7469879518073,491.566265060241,496.38554216867476,501.20481927710847,506.02409638554224,510.84337349397595,515.6626506024097,520.4819277108434,525.3012048192771,530.1204819277109,534.9397590361447,539.7590361445783,544.5783132530121,549.3975903614459,554.2168674698796,559.0361445783133,563.855421686747,568.6746987951808,573.4939759036145,578.3132530120482,583.132530120482,587.9518072289158,592.7710843373494,597.5903614457832,602.4096385542169,607.2289156626507,612.0481927710844,616.8674698795181,621.6867469879519,626.5060240963855,631.3253012048193,636.1445783132531,640.9638554216868,645.7831325301205,650.6024096385543,655.421686746988,660.2409638554218,665.0602409638554,669.8795180722892,674.698795180723,679.5180722891566,684.3373493975904,689.1566265060242,693.9759036144579,698.7951807228916,703.6144578313254,708.4337349397591,713.2530120481929,718.0722891566265,722.8915662650603,727.7108433734941,732.5301204819277,737.3493975903615,742.1686746987953,746.987951807229,751.8072289156627,756.6265060240964,761.4457831325302,766.265060240964,771.0843373493976,775.9036144578314,780.7228915662652,785.5421686746988,790.3614457831326,795.1807228915663,800.0000000000001,804.8192771084338,809.6385542168675,814.4578313253013,819.2771084337351,824.0963855421687,828.9156626506025,833.7349397590363,838.5542168674699,843.3734939759037,848.1927710843374,853.0120481927712,857.8313253012049,862.6506024096386,867.4698795180724,872.2891566265062,877.1084337349398,881.9277108433736,886.7469879518073,891.566265060241,896.3855421686748,901.2048192771085,906.0240963855423,910.843373493976,915.6626506024097,920.4819277108435,925.3012048192772,930.1204819277109,934.9397590361447,939.7590361445784,944.5783132530121,949.3975903614459,954.2168674698796,959.0361445783134,963.855421686747,968.6746987951808,973.4939759036146,978.3132530120482,983.132530120482,987.9518072289158,992.7710843373495,997.5903614457832,1002.4096385542169,1007.2289156626507,1012.0481927710845,1016.8674698795181,1021.6867469879519,1026.5060240963855,1031.3253012048194,1036.144578313253,1040.9638554216867,1045.7831325301206,1050.6024096385543,1055.4216867469881,1060.2409638554218,1065.0602409638554,1069.8795180722893,1074.698795180723,1079.5180722891566,1084.3373493975905,1089.1566265060242,1093.9759036144578,1098.7951807228917,1103.6144578313254,1108.4337349397592,1113.2530120481929,1118.0722891566265,1122.8915662650604,1127.710843373494,1132.5301204819277,1137.3493975903616,1142.1686746987953,1146.987951807229,1151.8072289156628,1156.6265060240964,1161.4457831325303,1166.265060240964,1171.0843373493976,1175.9036144578315,1180.7228915662652,1185.5421686746988,1190.3614457831327,1195.1807228915663,1200.0],\"y\":[0.0,2.298725103942142e-7,8.459936370369189e-7,2.2562850943118367e-6,4.0043972562177285e-6,5.494852780168417e-6,6.657386873596928e-6,7.566259553364239e-6,8.315206582363452e-6,8.98246928865208e-6,9.622872204783202e-6,0.000010271781926825894,0.000010951225412731885,0.000011674711385809007,0.000012450484820324579,0.000013283624025941755,0.000014177363408637796,0.00001513390960154897,0.0000161549280608823,0.00001724181632928696,0.000018395840169962677,0.00001961818244592123,0.000020909937231560443,0.000022272070179154947,0.000023705358664212934,0.000025210320410097147,0.000026787136279217948,0.00002843557112997515,0.000030154895675601276,0.000031943811865646646,0.00003380038424543009,0.000035721979887629634,0.00003770521971596843,0.000039745944255044435,0.00004183919695315773,0.00004397922815350392,0.000046159522460796926,0.000048372851609261866,0.00005061135395264762,0.000052866640377806384,0.00005512992484859203,0.000057392176029100844,0.000059644284683264884,0.00006187724000184029,0.00006408230688167802,0.000066251195663125,0.00006837621604002712,0.00007045040782010439,0.00007246764285031558,0.00007442269454433074,0.00007631127380690698,0.0000781300324623446,0.00007987653730520244,0.00008154921941463569,0.0000831473043044221,0.00008467072881220457,0.00008612005043390392,0.00008749635420329631,0.00008880116134797017,0.00009003634296360653,0.00009120404095649882,0.00009230659759996255,0.00009334649428721238,0.00009432629946516595,0.00009524862530196129,0.00009611609235874871,0.00009693130137959637,0.00009769681125451488,0.00009841512222232327,0.00009908866343874914,0.00009971978412170623,0.00010031074758487559,0.00010086372757295275,0.00010138080641076139,0.0001018639745712555,0.00010231513135581727,0.00010273608647084882,0.00010312856239434799,0.00010349419759221513,0.00010383455094556105,0.00010415110834743767,0.00010444529360638097,0.0001047184879001694,0.00010497206468513421,0.00010520744518921767,0.00010542614884400697,0.00010562967135908676,0.00010581871313685295,0.00010599326013111774,0.00010619005407201298,0.00010679569840953047,0.00010867567882024536,0.0001109849190971302,0.00011245674905034274,0.0001133755712103826,0.00011434627788528293,0.00011540791691972855,0.00011711246177237254,0.00011945252815837338,0.00012171868277301909,0.00012364682273820416,0.00012425036206889295,0.000123183538820208,0.00012259049586824954,0.00012334371974312655,0.00012372007230875888,0.00012298931729143748,0.0001231350575418026,0.00012410132374691035,0.0001245337092241881,0.00012442958714645576,0.0001238993816568382,0.00012372064991001867,0.00012513264768845042,0.00012703084059209597,0.00012827534208595468,0.00012807594692713166,0.0001257376798573113,0.00012419335797361576,0.00012752432673475902,0.00013392085920603612,0.00013907538051351846,0.0001439013439316834,0.00014889330112108332,0.00015277852728625964,0.0001556514145881908,0.00015823071139352504,0.0001603794538919778,0.00016189145124732382,0.00016309166043925507,0.00016414105224369616,0.00016493900423293956,0.00016551760367316835,0.00016598242576241804,0.00016638132868391256,0.00016668470857608326,0.0001669156712295736,0.00016710754228322646,0.0001672491608739363,0.0001673672055901159,0.00016745639544184522,0.00016755501265224726,0.00016772986874766602,0.00016761476849287758,0.00016552785870882315,0.00016028661817959794,0.0001529444066849884,0.00014889193744367123,0.00015399873251392075,0.00015486303687354608,0.00015093553402269826,0.00014654179436184825,0.0001504030277802566,0.00015153588144224843,0.00014822144740608538,0.00014443051608322016,0.0001441104484353929,0.00014237106623786298,0.00013785610855583913,0.00013345550820957933,0.00013414187108371742,0.00013491393723044144,0.00013286616816735869,0.0001300471898405025,0.0001314516643313062,0.00013471091575034284,0.0001374360840255093,0.00014326548375621348,0.0001485717786523665,0.00015181323458457889,0.00015497239329905412,0.00015817700327382583,0.0001602786772681623,0.0001617155709978977,0.00016314559409510166,0.00016429862898953453,0.00016501212873813506,0.00016557788611433038,0.00016613226049132425,0.00016651826942934862,0.0001667635017228755,0.0001669922032277939,0.00016718585698168546,0.0001673263341195309,0.0001674880423857133,0.00016752566158354128,0.00016505635767582658,0.0001591863790622929,0.0001517526811682568,0.00014892584801821793,0.00015024050605098063,0.00015074623963936783,0.00014984668410626356,0.00015205081956207726,0.000153734286809873,0.00015105194641608718,0.00014556298953390586,0.00014059202498876454,0.00013700098239397224,0.000135017549774177,0.00013450004573375672,0.0001338667783270686,0.00013233282426279607,0.00013094448447946677,0.00013292629306048566,0.00013736398163784113,0.00013771727592686662,0.0001351924604762489,0.000134023261915426,0.0001347652993470088,0.00013388983663913944,0.0001310058301788053,0.00012798614798679753,0.00012746162582784868,0.00012739492350372637,0.000127413231926343,0.0001320931152309599,0.00013433551362700014,0.00013256402274570536,0.00012976857427183776,0.00013278488662763158,0.00013549153157902356,0.00013569510251584447,0.00014049790855135848,0.00014714626986277093,0.00015059788912493804,0.00015358920800548703,0.00015735642841990262,0.00015979535613364515,0.00016114504243702873,0.00016266428120017182,0.0001640603701375702,0.00016482411950768656,0.00016537264766844313,0.00016598431314867161,0.0001664420856867115,0.00016669154126253044,0.00016691402271403873,0.0001671468391563806,0.00016729177762841586,0.00016742188477443255,0.00016758635973246043,0.00016581402557097442,0.00016061939281675599,0.00015385225863435517,0.00015137123672305975,0.00015368881811812438,0.00015201969163219865,0.0001479816117390139,0.00014884898806621254],\"type\":\"scatter\",\"xaxis\":\"x3\",\"yaxis\":\"y3\"},{\"line\":{\"color\":\"#464544\",\"simplify\":true},\"mode\":\"lines\",\"name\":\"bh_xd\",\"opacity\":0.1,\"x\":[0.0,4.819277108433735,9.63855421686747,14.457831325301207,19.27710843373494,24.096385542168676,28.915662650602414,33.734939759036145,38.55421686746988,43.37349397590362,48.19277108433735,53.01204819277109,57.83132530120483,62.65060240963856,67.46987951807229,72.28915662650603,77.10843373493977,81.9277108433735,86.74698795180724,91.56626506024097,96.3855421686747,101.20481927710844,106.02409638554218,110.84337349397592,115.66265060240966,120.48192771084338,125.30120481927712,130.12048192771084,134.93975903614458,139.75903614457832,144.57831325301206,149.3975903614458,154.21686746987953,159.03614457831327,163.855421686747,168.67469879518075,173.49397590361448,178.31325301204822,183.13253012048193,187.95180722891567,192.7710843373494,197.59036144578315,202.40963855421688,207.22891566265062,212.04819277108436,216.8674698795181,221.68674698795184,226.50602409638557,231.3253012048193,236.14457831325302,240.96385542168676,245.7831325301205,250.60240963855424,255.42168674698797,260.2409638554217,265.06024096385545,269.87951807228916,274.6987951807229,279.51807228915663,284.3373493975904,289.1566265060241,293.9759036144579,298.7951807228916,303.61445783132535,308.43373493975906,313.2530120481928,318.07228915662654,322.89156626506025,327.710843373494,332.5301204819277,337.3493975903615,342.1686746987952,346.98795180722897,351.8072289156627,356.62650602409644,361.44578313253015,366.26506024096386,371.08433734939763,375.90361445783134,380.7228915662651,385.5421686746988,390.3614457831326,395.1807228915663,400.00000000000006,404.81927710843377,409.63855421686753,414.45783132530124,419.27710843373495,424.0963855421687,428.9156626506024,433.7349397590362,438.5542168674699,443.37349397590367,448.1927710843374,453.01204819277115,457.83132530120486,462.6506024096386,467.46987951807233,472.28915662650604,477.1084337349398,481.9277108433735,486.7469879518073,491.566265060241,496.38554216867476,501.20481927710847,506.02409638554224,510.84337349397595,515.6626506024097,520.4819277108434,525.3012048192771,530.1204819277109,534.9397590361447,539.7590361445783,544.5783132530121,549.3975903614459,554.2168674698796,559.0361445783133,563.855421686747,568.6746987951808,573.4939759036145,578.3132530120482,583.132530120482,587.9518072289158,592.7710843373494,597.5903614457832,602.4096385542169,607.2289156626507,612.0481927710844,616.8674698795181,621.6867469879519,626.5060240963855,631.3253012048193,636.1445783132531,640.9638554216868,645.7831325301205,650.6024096385543,655.421686746988,660.2409638554218,665.0602409638554,669.8795180722892,674.698795180723,679.5180722891566,684.3373493975904,689.1566265060242,693.9759036144579,698.7951807228916,703.6144578313254,708.4337349397591,713.2530120481929,718.0722891566265,722.8915662650603,727.7108433734941,732.5301204819277,737.3493975903615,742.1686746987953,746.987951807229,751.8072289156627,756.6265060240964,761.4457831325302,766.265060240964,771.0843373493976,775.9036144578314,780.7228915662652,785.5421686746988,790.3614457831326,795.1807228915663,800.0000000000001,804.8192771084338,809.6385542168675,814.4578313253013,819.2771084337351,824.0963855421687,828.9156626506025,833.7349397590363,838.5542168674699,843.3734939759037,848.1927710843374,853.0120481927712,857.8313253012049,862.6506024096386,867.4698795180724,872.2891566265062,877.1084337349398,881.9277108433736,886.7469879518073,891.566265060241,896.3855421686748,901.2048192771085,906.0240963855423,910.843373493976,915.6626506024097,920.4819277108435,925.3012048192772,930.1204819277109,934.9397590361447,939.7590361445784,944.5783132530121,949.3975903614459,954.2168674698796,959.0361445783134,963.855421686747,968.6746987951808,973.4939759036146,978.3132530120482,983.132530120482,987.9518072289158,992.7710843373495,997.5903614457832,1002.4096385542169,1007.2289156626507,1012.0481927710845,1016.8674698795181,1021.6867469879519,1026.5060240963855,1031.3253012048194,1036.144578313253,1040.9638554216867,1045.7831325301206,1050.6024096385543,1055.4216867469881,1060.2409638554218,1065.0602409638554,1069.8795180722893,1074.698795180723,1079.5180722891566,1084.3373493975905,1089.1566265060242,1093.9759036144578,1098.7951807228917,1103.6144578313254,1108.4337349397592,1113.2530120481929,1118.0722891566265,1122.8915662650604,1127.710843373494,1132.5301204819277,1137.3493975903616,1142.1686746987953,1146.987951807229,1151.8072289156628,1156.6265060240964,1161.4457831325303,1166.265060240964,1171.0843373493976,1175.9036144578315,1180.7228915662652,1185.5421686746988,1190.3614457831327,1195.1807228915663,1200.0],\"y\":[0.0,1.581599493905553e-8,9.065814109146043e-8,3.1046195633134546e-7,7.518842657559738e-7,1.3731253309128298e-6,2.0937893527514348e-6,2.8509224881566887e-6,3.6062640172715714e-6,4.341737663999772e-6,5.0526955734765635e-6,5.742202923557842e-6,6.41717636002642e-6,7.086050559777438e-6,7.75746753417822e-6,8.43960000847958e-6,9.139851760362359e-6,9.864772322694656e-6,0.000010620085405584765,0.000011410770068614396,0.000012241158833809957,0.00001311503270729004,0.000014035702807193346,0.000015006074150029021,0.00001602869054795664,0.000017105761444743283,0.000018239172473506647,0.000019430481945341872,0.00002068090562225505,0.000021991292144069204,0.000023362091458125277,0.00002479331859087659,0.000026284515122698943,0.000027834710781215245,0.000029442387639433143,0.00003110544946782085,0.00003282119881053248,0.00003458632429712628,0.0000363969005251505,0.00003824840252165396,0.00004013573629100046,0.00004205328627795147,0.00004399497973528083,0.0000459543670300528,0.00004792471592083175,0.0000498991168785499,0.000051870595705525655,0.00005383222912268996,0.000055777258716772965,0.0000576991987071265,0.00005959193340187106,0.0000614498009210813,0.00006326766069174592,0.00006504094326346445,0.00006676568205055822,0.00006843852757857907,0.00007005674562662614,0.00007161820126545476,0.00007312133117791665,0.00007456510682118649,0.00007594899097770712,0.00007727289008244159,0.0000785371044515818,0.00007974227821439539,0.00008088935040187032,0.00008197950830230505,0.00008301414387579188,0.00008399481373956835,0.00008492320300103876,0.00008580109302633106,0.00008663033308724427,0.00008741281572404176,0.00008815045559003388,0.00008884517150037771,0.00008949887138644175,0.00009011343985370544,0.00009069072805219575,0.00009123254559300405,0.00009174065428573399,0.00009221676354137291,0.00009266252741088878,0.00009307954346964092,0.00009346935421184837,0.00009383345238807575,0.00009417329254830509,0.00009449030970437697,0.00009478593278085373,0.00009506153173007146,0.00009531824312428752,0.00009555867246391369,0.00009581135562525325,0.00009621230698265305,0.00009689634053707962,0.00009776210212014779,0.00009865452911452584,0.00009953909608143168,0.00010042844112697607,0.00010137496863176157,0.00010248527239742377,0.00010377169927740168,0.00010516750451148798,0.0001065391757370537,0.00010761983600394805,0.0001083526612823553,0.00010899301248007645,0.00010963183957342776,0.00011012017691613723,0.00011045494900549051,0.00011084610269521003,0.00011128169069009497,0.00011166924820104659,0.00011193178633080509,0.0001120798725498771,0.00011229952959559575,0.0001127641565248388,0.00011339440831891398,0.00011401987781821014,0.0001143193083662065,0.00011421116788096204,0.00011423214002613016,0.00011509933577907194,0.00011673101636034422,0.00011883801001594752,0.0001213647752923767,0.0001241605874595778,0.00012699124193782583,0.00012975814510888956,0.00013242478271025294,0.0001349172582850997,0.00013718903053157327,0.00013924725430211195,0.00014109751710541566,0.00014273641078562066,0.00014417455755069236,0.0001454339429791407,0.00014653186400398585,0.00014748275233135967,0.00014830355959780827,0.00014900977553338344,0.000149615140682869,0.00015013241405317554,0.00015057514750150208,0.00015096349695994013,0.000151299388560717,0.0001514326676084111,0.00015095857705837835,0.00014955444983685045,0.00014735944579147913,0.00014577267375131544,0.0001449999384341755,0.00014407566182352393,0.0001425540154395708,0.0001412778138358267,0.00014072878782279033,0.00014006251785462213,0.0001388744515251382,0.00013759170370337777,0.00013643283772402448,0.0001349566544832571,0.00013297918702361846,0.00013103053830596585,0.00012963648438047296,0.00012836325721160734,0.00012688582330337944,0.00012548644554105502,0.0001248069948314845,0.0001246612959729635,0.00012521178860254475,0.00012659749640465406,0.00012839121383407886,0.0001303544168595483,0.00013249617990389908,0.00013468819791483415,0.00013676659882597874,0.00013871059585900562,0.00014052869009017072,0.00014217782816104794,0.00014363995570886614,0.00014494031056476578,0.0001460919555566746,0.00014709363404242565,0.00014795966400745267,0.00014871123000910567,0.00014935984558965464,0.00014991847703004708,0.00015040868485081193,0.00015065818305242036,0.00015019135434730487,0.00014872399509476656,0.00014661601950980162,0.000144854524920356,0.0001435744195369735,0.00014244241959479126,0.0001415734091489504,0.00014125848681389668,0.00014090655717677596,0.00013993486672488347,0.00013827686686831227,0.00013623869409101985,0.00013411650971295418,0.0001321731197271457,0.00013050027769108153,0.0001289357202870152,0.00012739451147207495,0.00012610030732836732,0.00012565482739185276,0.0001256649368274738,0.00012545951753941914,0.0001249421076580442,0.00012453653822267852,0.00012420801592313133,0.0001236294956280911,0.000122646262250794,0.00012155241730309576,0.00012064427809577563,0.00011984098189183366,0.00011955471923729208,0.00011994872942428918,0.00012027787933777767,0.00012012627621795504,0.0001199908271126816,0.00012043835337457692,0.00012098593201969601,0.00012174666672135076,0.0001234074968791658,0.00012555924948894146,0.00012779511282233553,0.00013020085614041008,0.0001326927371594422,0.00013503158948832483,0.00013718678156311864,0.00013921128388087536,0.00014105588367378365,0.00014267893903017453,0.0001441151308457489,0.0001453918193038818,0.00014650237169315535,0.0001474576423662494,0.00014828605396868282,0.00014900216834876526,0.0001496150967469321,0.00015015083933479935,0.00015050729236903564,0.00015023919487860531,0.000149045784432559,0.0001472133772866697,0.00014585621349937224,0.00014479219738263178,0.00014340044739967884,0.00014194110569898096],\"type\":\"scatter\",\"xaxis\":\"x3\",\"yaxis\":\"y3\"},{\"line\":{\"color\":\"#ff8300\",\"simplify\":true},\"mode\":\"lines\",\"name\":\"bt_xe\",\"opacity\":0.8,\"x\":[0.0,4.819277108433735,9.63855421686747,14.457831325301207,19.27710843373494,24.096385542168676,28.915662650602414,33.734939759036145,38.55421686746988,43.37349397590362,48.19277108433735,53.01204819277109,57.83132530120483,62.65060240963856,67.46987951807229,72.28915662650603,77.10843373493977,81.9277108433735,86.74698795180724,91.56626506024097,96.3855421686747,101.20481927710844,106.02409638554218,110.84337349397592,115.66265060240966,120.48192771084338,125.30120481927712,130.12048192771084,134.93975903614458,139.75903614457832,144.57831325301206,149.3975903614458,154.21686746987953,159.03614457831327,163.855421686747,168.67469879518075,173.49397590361448,178.31325301204822,183.13253012048193,187.95180722891567,192.7710843373494,197.59036144578315,202.40963855421688,207.22891566265062,212.04819277108436,216.8674698795181,221.68674698795184,226.50602409638557,231.3253012048193,236.14457831325302,240.96385542168676,245.7831325301205,250.60240963855424,255.42168674698797,260.2409638554217,265.06024096385545,269.87951807228916,274.6987951807229,279.51807228915663,284.3373493975904,289.1566265060241,293.9759036144579,298.7951807228916,303.61445783132535,308.43373493975906,313.2530120481928,318.07228915662654,322.89156626506025,327.710843373494,332.5301204819277,337.3493975903615,342.1686746987952,346.98795180722897,351.8072289156627,356.62650602409644,361.44578313253015,366.26506024096386,371.08433734939763,375.90361445783134,380.7228915662651,385.5421686746988,390.3614457831326,395.1807228915663,400.00000000000006,404.81927710843377,409.63855421686753,414.45783132530124,419.27710843373495,424.0963855421687,428.9156626506024,433.7349397590362,438.5542168674699,443.37349397590367,448.1927710843374,453.01204819277115,457.83132530120486,462.6506024096386,467.46987951807233,472.28915662650604,477.1084337349398,481.9277108433735,486.7469879518073,491.566265060241,496.38554216867476,501.20481927710847,506.02409638554224,510.84337349397595,515.6626506024097,520.4819277108434,525.3012048192771,530.1204819277109,534.9397590361447,539.7590361445783,544.5783132530121,549.3975903614459,554.2168674698796,559.0361445783133,563.855421686747,568.6746987951808,573.4939759036145,578.3132530120482,583.132530120482,587.9518072289158,592.7710843373494,597.5903614457832,602.4096385542169,607.2289156626507,612.0481927710844,616.8674698795181,621.6867469879519,626.5060240963855,631.3253012048193,636.1445783132531,640.9638554216868,645.7831325301205,650.6024096385543,655.421686746988,660.2409638554218,665.0602409638554,669.8795180722892,674.698795180723,679.5180722891566,684.3373493975904,689.1566265060242,693.9759036144579,698.7951807228916,703.6144578313254,708.4337349397591,713.2530120481929,718.0722891566265,722.8915662650603,727.7108433734941,732.5301204819277,737.3493975903615,742.1686746987953,746.987951807229,751.8072289156627,756.6265060240964,761.4457831325302,766.265060240964,771.0843373493976,775.9036144578314,780.7228915662652,785.5421686746988,790.3614457831326,795.1807228915663,800.0000000000001,804.8192771084338,809.6385542168675,814.4578313253013,819.2771084337351,824.0963855421687,828.9156626506025,833.7349397590363,838.5542168674699,843.3734939759037,848.1927710843374,853.0120481927712,857.8313253012049,862.6506024096386,867.4698795180724,872.2891566265062,877.1084337349398,881.9277108433736,886.7469879518073,891.566265060241,896.3855421686748,901.2048192771085,906.0240963855423,910.843373493976,915.6626506024097,920.4819277108435,925.3012048192772,930.1204819277109,934.9397590361447,939.7590361445784,944.5783132530121,949.3975903614459,954.2168674698796,959.0361445783134,963.855421686747,968.6746987951808,973.4939759036146,978.3132530120482,983.132530120482,987.9518072289158,992.7710843373495,997.5903614457832,1002.4096385542169,1007.2289156626507,1012.0481927710845,1016.8674698795181,1021.6867469879519,1026.5060240963855,1031.3253012048194,1036.144578313253,1040.9638554216867,1045.7831325301206,1050.6024096385543,1055.4216867469881,1060.2409638554218,1065.0602409638554,1069.8795180722893,1074.698795180723,1079.5180722891566,1084.3373493975905,1089.1566265060242,1093.9759036144578,1098.7951807228917,1103.6144578313254,1108.4337349397592,1113.2530120481929,1118.0722891566265,1122.8915662650604,1127.710843373494,1132.5301204819277,1137.3493975903616,1142.1686746987953,1146.987951807229,1151.8072289156628,1156.6265060240964,1161.4457831325303,1166.265060240964,1171.0843373493976,1175.9036144578315,1180.7228915662652,1185.5421686746988,1190.3614457831327,1195.1807228915663,1200.0],\"y\":[0.003,0.07362461629386767,1.396144538848327,5.665020031955344,7.054408067760961,7.066659539716764,6.811669083666319,6.5566760232592864,6.360099469940681,6.2217677530234035,6.12782643224379,6.0651703111657085,6.024016354966108,5.997452111522882,5.980661380726242,5.970310634318295,5.96410892860929,5.960496208177159,5.958422339367277,5.957190450061022,5.9563461695532425,5.955599737559623,5.954771634718873,5.953754984650706,5.952489846937498,5.9509458799108375,5.949110844323841,5.9469831424549495,5.944567112696524,5.94187017929838,5.938901229331883,5.935669782907642,5.932185659627343,5.928458940046284,5.924500087269163,5.920320139292803,5.915930913626975,5.911345186634167,5.906576824219618,5.901640850319325,5.896553446705374,5.8913318830382,5.8859943805150365,5.880559916228494,5.875047978560232,5.869478286527074,5.863870487814554,5.858243851110103,5.85261696816991,5.847007479798154,5.84143183769515,5.83590511116116,5.830440844230954,5.825050965307861,5.819745748089089,5.81453381979718,5.809422210633503,5.804416437025368,5.799520610632925,5.7947375651265824,5.7900689933030645,5.785515588024205,5.781077181584053,5.776752879303141,5.77254118430872,5.76844011151222,5.764447289695093,5.7605600513419954,5.756775510414004,5.753090628644512,5.749502271180917,5.746007252495478,5.742602373437802,5.739284450033439,5.736050333942273,5.7328969227981705,5.729821154357478,5.726819967001223,5.723890177822617,5.721028140751195,5.7182287890176315,5.715482899252119,5.712769092773766,5.710029950991497,5.707099411543681,5.703479180169397,5.697647727727427,5.6849699221716445,5.65198408040263,5.5664573963381025,5.3940016249816365,5.169727705579585,4.9251051303105235,4.654210330367174,4.346287917193846,3.993207283621441,3.583736504374417,3.1564092660246628,2.7629946622592927,2.42348157139093,2.142534742463123,1.9207786022898197,1.7328877849708428,1.5714777297077573,1.4325837967851913,1.3170347635069712,1.210407096981205,1.1150029505315544,1.0297447612062758,0.9517304303417945,0.8846327340171326,0.8236908414284725,0.7635879934473694,0.7064750490372343,0.6525749766862846,0.6036205587105192,0.5668237840680665,0.5304684169419077,0.49500262055779676,0.4533622431189296,0.41188952139746166,0.37141320425202634,0.3338222204249516,0.2994581444588579,0.2677624518960668,0.23957740426799912,0.21383983169642218,0.19100636255127543,0.17059303616799937,0.15222962762508763,0.1360786647771336,0.12143100287868468,0.10855085443721436,0.09706618050662567,0.08682594864974488,0.07782528786197547,0.06967607088282218,0.06254137796712975,0.056152865775055676,0.05050146984340922,0.04551931947090394,0.04099218571715921,0.03702892834089538,0.033569927924894764,0.03089865863523401,0.028908455061223876,0.027171723011676654,0.02516480126046074,0.023505184076467976,0.022164402385993546,0.021021624003218355,0.019816031887347915,0.01882460891402037,0.01798287340442619,0.01726614031747327,0.016662682413291153,0.016226154393534913,0.016073744763653433,0.015919682958184515,0.015753458582654,0.015578276576379523,0.01549835975966578,0.015466612050442315,0.01541369408199568,0.01520388380044173,0.014875974678287692,0.014423200987954056,0.013929517341739221,0.013398506940256771,0.01288790900968055,0.012362373794702569,0.011875081681161052,0.01141276051286722,0.01097094718906951,0.01057227798656991,0.010180251422369831,0.00983010122740548,0.009499669340154232,0.009195470518466966,0.008923963067911194,0.008656880114428321,0.008424079345308009,0.008200586264974339,0.007998252301349184,0.007809481808335307,0.007664590950356833,0.00765364736350444,0.007734356339808863,0.00781328471111646,0.007904791429011472,0.007955531489505507,0.008048976636160658,0.008061378297410915,0.008084051371610257,0.008198849877049554,0.008404198027092266,0.008591587594298858,0.008935118799252274,0.009277246140587819,0.009585650959927031,0.009883129844204312,0.010175877421070496,0.01048010238115054,0.010727209662676922,0.010792614960792053,0.010912783495315284,0.011069633674267628,0.011203629881407669,0.011339564609775674,0.011515776214318162,0.011763912191988385,0.012059385682346217,0.01232383000899524,0.01258768074943639,0.012820755126831009,0.012817426702958455,0.012832925035762707,0.012923685125166376,0.01305087241040399,0.01305119754857235,0.013009915282707528,0.012972898736113648,0.01276729897131498,0.012452013885655346,0.01211546651959609,0.011720541601012118,0.011342287712608153,0.01097140795181176,0.010612128769853565,0.010279401500212058,0.009941689530624336,0.009639325800255241,0.009346291064855848,0.009075941762183334,0.008830721822274182,0.008587651020832353,0.008375270028665107,0.008166558476069116,0.007979277382721967,0.007808762291160739,0.007634441727585825,0.007496177928750268,0.007472526685189507,0.007518610699486472,0.007603932643099712,0.007631412886098791,0.00772790567189013,0.007867663349712813,0.007944973440264447,0.008045890440772554],\"type\":\"scatter\",\"xaxis\":\"x3\",\"yaxis\":\"y3\"},{\"line\":{\"color\":\"#ff8300\",\"simplify\":true},\"mode\":\"lines\",\"name\":\"bt_xf\",\"opacity\":0.8,\"x\":[0.0,4.819277108433735,9.63855421686747,14.457831325301207,19.27710843373494,24.096385542168676,28.915662650602414,33.734939759036145,38.55421686746988,43.37349397590362,48.19277108433735,53.01204819277109,57.83132530120483,62.65060240963856,67.46987951807229,72.28915662650603,77.10843373493977,81.9277108433735,86.74698795180724,91.56626506024097,96.3855421686747,101.20481927710844,106.02409638554218,110.84337349397592,115.66265060240966,120.48192771084338,125.30120481927712,130.12048192771084,134.93975903614458,139.75903614457832,144.57831325301206,149.3975903614458,154.21686746987953,159.03614457831327,163.855421686747,168.67469879518075,173.49397590361448,178.31325301204822,183.13253012048193,187.95180722891567,192.7710843373494,197.59036144578315,202.40963855421688,207.22891566265062,212.04819277108436,216.8674698795181,221.68674698795184,226.50602409638557,231.3253012048193,236.14457831325302,240.96385542168676,245.7831325301205,250.60240963855424,255.42168674698797,260.2409638554217,265.06024096385545,269.87951807228916,274.6987951807229,279.51807228915663,284.3373493975904,289.1566265060241,293.9759036144579,298.7951807228916,303.61445783132535,308.43373493975906,313.2530120481928,318.07228915662654,322.89156626506025,327.710843373494,332.5301204819277,337.3493975903615,342.1686746987952,346.98795180722897,351.8072289156627,356.62650602409644,361.44578313253015,366.26506024096386,371.08433734939763,375.90361445783134,380.7228915662651,385.5421686746988,390.3614457831326,395.1807228915663,400.00000000000006,404.81927710843377,409.63855421686753,414.45783132530124,419.27710843373495,424.0963855421687,428.9156626506024,433.7349397590362,438.5542168674699,443.37349397590367,448.1927710843374,453.01204819277115,457.83132530120486,462.6506024096386,467.46987951807233,472.28915662650604,477.1084337349398,481.9277108433735,486.7469879518073,491.566265060241,496.38554216867476,501.20481927710847,506.02409638554224,510.84337349397595,515.6626506024097,520.4819277108434,525.3012048192771,530.1204819277109,534.9397590361447,539.7590361445783,544.5783132530121,549.3975903614459,554.2168674698796,559.0361445783133,563.855421686747,568.6746987951808,573.4939759036145,578.3132530120482,583.132530120482,587.9518072289158,592.7710843373494,597.5903614457832,602.4096385542169,607.2289156626507,612.0481927710844,616.8674698795181,621.6867469879519,626.5060240963855,631.3253012048193,636.1445783132531,640.9638554216868,645.7831325301205,650.6024096385543,655.421686746988,660.2409638554218,665.0602409638554,669.8795180722892,674.698795180723,679.5180722891566,684.3373493975904,689.1566265060242,693.9759036144579,698.7951807228916,703.6144578313254,708.4337349397591,713.2530120481929,718.0722891566265,722.8915662650603,727.7108433734941,732.5301204819277,737.3493975903615,742.1686746987953,746.987951807229,751.8072289156627,756.6265060240964,761.4457831325302,766.265060240964,771.0843373493976,775.9036144578314,780.7228915662652,785.5421686746988,790.3614457831326,795.1807228915663,800.0000000000001,804.8192771084338,809.6385542168675,814.4578313253013,819.2771084337351,824.0963855421687,828.9156626506025,833.7349397590363,838.5542168674699,843.3734939759037,848.1927710843374,853.0120481927712,857.8313253012049,862.6506024096386,867.4698795180724,872.2891566265062,877.1084337349398,881.9277108433736,886.7469879518073,891.566265060241,896.3855421686748,901.2048192771085,906.0240963855423,910.843373493976,915.6626506024097,920.4819277108435,925.3012048192772,930.1204819277109,934.9397590361447,939.7590361445784,944.5783132530121,949.3975903614459,954.2168674698796,959.0361445783134,963.855421686747,968.6746987951808,973.4939759036146,978.3132530120482,983.132530120482,987.9518072289158,992.7710843373495,997.5903614457832,1002.4096385542169,1007.2289156626507,1012.0481927710845,1016.8674698795181,1021.6867469879519,1026.5060240963855,1031.3253012048194,1036.144578313253,1040.9638554216867,1045.7831325301206,1050.6024096385543,1055.4216867469881,1060.2409638554218,1065.0602409638554,1069.8795180722893,1074.698795180723,1079.5180722891566,1084.3373493975905,1089.1566265060242,1093.9759036144578,1098.7951807228917,1103.6144578313254,1108.4337349397592,1113.2530120481929,1118.0722891566265,1122.8915662650604,1127.710843373494,1132.5301204819277,1137.3493975903616,1142.1686746987953,1146.987951807229,1151.8072289156628,1156.6265060240964,1161.4457831325303,1166.265060240964,1171.0843373493976,1175.9036144578315,1180.7228915662652,1185.5421686746988,1190.3614457831327,1195.1807228915663,1200.0],\"y\":[0.0,0.0006444082940866972,0.04709629885374015,0.6326635054909449,1.4841486071400842,2.066655156769932,2.3714771782054225,2.4862077390556996,2.5125543442860256,2.510320251402494,2.50037801441551,2.488684640539966,2.4771088195174724,2.46635160059272,2.4566845435746747,2.4481804559534286,2.4408104090319527,2.4344934619055487,2.4291245950660114,2.424590945757326,2.4207812373651456,2.417591066225974,2.4149256063827074,2.412700696031618,2.4108429234400566,2.4092891173726394,2.407985509740269,2.4068867463533308,2.4059548589190265,2.4051582682325403,2.4044708589033448,2.403871145953486,2.4033415404548055,2.402867713035185,2.402438049124706,2.4020431871709382,2.401675629960523,2.401329419092441,2.4009998631739253,2.4006833111847614,2.4003769634996632,2.400078714149918,2.3997870189633685,2.3995007851932435,2.3992192790977294,2.3989420486450745,2.398668859088061,2.39839963958291,2.3981344393374253,2.397873391985092,2.397616687024164,2.397364547261817,2.397117211287358,2.3968749200829484,2.3966379069743615,2.3964063902298234,2.3961805677278494,2.395960613228012,2.395746673884017,2.395538868729794,2.3953372879430046,2.3951419927451445,2.394953015834775,2.394770362273304,2.3945940107546972,2.39442391519549,2.394260006582817,2.3941021950181858,2.3939503718952126,2.393804412151278,2.393664176535733,2.3935295138404724,2.3934002630395903,2.393276255277926,2.393157315619877,2.393043264382921,2.392933917634287,2.3928290857380485,2.3927285668714307,2.3926321267139143,2.392539438587073,2.392449907268047,2.3923621431813595,2.392272367293391,2.392169501152138,2.3920199043875328,2.3917200031068897,2.3909542002282445,2.388828177665103,2.3834878239406163,2.3753639589452735,2.3723310007358993,2.3746544882345892,2.3807734898180044,2.394063366691116,2.4186402578586184,2.4459260210466147,2.4732368850529034,2.4903058700505394,2.4929034811860595,2.491253233682267,2.4945858331483466,2.4790074130140396,2.4579894135888987,2.433857587599218,2.4222307521542548,2.395716253328143,2.3745924337955717,2.356242958489478,2.3387231395980774,2.333082554456902,2.3242704240083603,2.3019182134408416,2.2801699913888314,2.2608801124719164,2.251540033523604,2.2764964754286776,2.2715495916377204,2.2606388314297883,2.2084144347226693,2.15401285454105,2.0978523176060078,2.0454261379971044,1.9999316231621418,1.9535790182866786,1.9158779157381594,1.8776553938214637,1.8446854791196616,1.8159411616623016,1.78621539189604,1.763469115328036,1.7376779606816304,1.7165485084658207,1.6975218705649802,1.6778199443083546,1.663562270721621,1.645138563537075,1.6314708191074976,1.6176192830551297,1.6043098256191968,1.5949288324786164,1.5799201810083205,1.5697316023946442,1.5673948343734487,1.6063062767282494,1.6909233075465442,1.7746770873051811,1.789427721017503,1.8120263792554354,1.8542061581798022,1.8992776547158865,1.9045288557598237,1.9220123522357253,1.9462144340896372,1.972557663967007,1.9953804959409551,2.03490284260032,2.104049409961144,2.140120174748724,2.1538237439074326,2.1576331332761733,2.170867545525873,2.1835298992648697,2.1847218977864045,2.1627153882459953,2.1282238984205946,2.076684354521559,2.0278864535189096,1.9775283967290807,1.9350601728242933,1.891134600932803,1.8537537944520572,1.8209933435114887,1.7884416807921504,1.7631169236641253,1.7351548478598018,1.7126208088862807,1.691506479368456,1.6711279661701182,1.6560109050967728,1.6370547375076447,1.623257003707472,1.6086470741165386,1.5949376220829572,1.582779741890932,1.583984536566838,1.6342771021436169,1.7125356214811482,1.7730635659693956,1.8201191096971465,1.8377085974148446,1.8660580132572029,1.8595017001573424,1.8544385795961829,1.8890180975647217,1.9527577807964056,1.9929351857568898,2.072106426982013,2.1203094295887492,2.141103113791408,2.153334389523705,2.162788912385642,2.1725649773959717,2.1703318984367868,2.1306893338873394,2.12422169512944,2.1323181143457823,2.1354028241146814,2.140187291390171,2.1528140089183814,2.1795604153891968,2.201140199273448,2.207724240410884,2.212716309200355,2.2119266229042385,2.1714749019331956,2.1580411078061763,2.1660904904361633,2.1783361774147942,2.161541039607692,2.145775961376335,2.1374412985711966,2.09846670417567,2.045749968589442,1.9990279699252536,1.9474757475251772,1.9036584916692214,1.8653940591692044,1.8293436412015018,1.8002853769193246,1.7684085624011585,1.7432741932701596,1.718986812794799,1.6965015753307702,1.6790387275630676,1.6582787446712557,1.643210807725507,1.6265594049302274,1.6120286595073874,1.6006904413215217,1.5842774909914057,1.578852896536002,1.6201496986432917,1.6792058433901906,1.7442420264398122,1.7648295907964437,1.807180837299254,1.8586616125116713,1.8715173920210622,1.8908506772674825],\"type\":\"scatter\",\"xaxis\":\"x3\",\"yaxis\":\"y3\"},{\"line\":{\"color\":\"#b1b0af\",\"simplify\":true},\"mode\":\"lines\",\"name\":\"bt_xg\",\"opacity\":0.1,\"x\":[0.0,4.819277108433735,9.63855421686747,14.457831325301207,19.27710843373494,24.096385542168676,28.915662650602414,33.734939759036145,38.55421686746988,43.37349397590362,48.19277108433735,53.01204819277109,57.83132530120483,62.65060240963856,67.46987951807229,72.28915662650603,77.10843373493977,81.9277108433735,86.74698795180724,91.56626506024097,96.3855421686747,101.20481927710844,106.02409638554218,110.84337349397592,115.66265060240966,120.48192771084338,125.30120481927712,130.12048192771084,134.93975903614458,139.75903614457832,144.57831325301206,149.3975903614458,154.21686746987953,159.03614457831327,163.855421686747,168.67469879518075,173.49397590361448,178.31325301204822,183.13253012048193,187.95180722891567,192.7710843373494,197.59036144578315,202.40963855421688,207.22891566265062,212.04819277108436,216.8674698795181,221.68674698795184,226.50602409638557,231.3253012048193,236.14457831325302,240.96385542168676,245.7831325301205,250.60240963855424,255.42168674698797,260.2409638554217,265.06024096385545,269.87951807228916,274.6987951807229,279.51807228915663,284.3373493975904,289.1566265060241,293.9759036144579,298.7951807228916,303.61445783132535,308.43373493975906,313.2530120481928,318.07228915662654,322.89156626506025,327.710843373494,332.5301204819277,337.3493975903615,342.1686746987952,346.98795180722897,351.8072289156627,356.62650602409644,361.44578313253015,366.26506024096386,371.08433734939763,375.90361445783134,380.7228915662651,385.5421686746988,390.3614457831326,395.1807228915663,400.00000000000006,404.81927710843377,409.63855421686753,414.45783132530124,419.27710843373495,424.0963855421687,428.9156626506024,433.7349397590362,438.5542168674699,443.37349397590367,448.1927710843374,453.01204819277115,457.83132530120486,462.6506024096386,467.46987951807233,472.28915662650604,477.1084337349398,481.9277108433735,486.7469879518073,491.566265060241,496.38554216867476,501.20481927710847,506.02409638554224,510.84337349397595,515.6626506024097,520.4819277108434,525.3012048192771,530.1204819277109,534.9397590361447,539.7590361445783,544.5783132530121,549.3975903614459,554.2168674698796,559.0361445783133,563.855421686747,568.6746987951808,573.4939759036145,578.3132530120482,583.132530120482,587.9518072289158,592.7710843373494,597.5903614457832,602.4096385542169,607.2289156626507,612.0481927710844,616.8674698795181,621.6867469879519,626.5060240963855,631.3253012048193,636.1445783132531,640.9638554216868,645.7831325301205,650.6024096385543,655.421686746988,660.2409638554218,665.0602409638554,669.8795180722892,674.698795180723,679.5180722891566,684.3373493975904,689.1566265060242,693.9759036144579,698.7951807228916,703.6144578313254,708.4337349397591,713.2530120481929,718.0722891566265,722.8915662650603,727.7108433734941,732.5301204819277,737.3493975903615,742.1686746987953,746.987951807229,751.8072289156627,756.6265060240964,761.4457831325302,766.265060240964,771.0843373493976,775.9036144578314,780.7228915662652,785.5421686746988,790.3614457831326,795.1807228915663,800.0000000000001,804.8192771084338,809.6385542168675,814.4578313253013,819.2771084337351,824.0963855421687,828.9156626506025,833.7349397590363,838.5542168674699,843.3734939759037,848.1927710843374,853.0120481927712,857.8313253012049,862.6506024096386,867.4698795180724,872.2891566265062,877.1084337349398,881.9277108433736,886.7469879518073,891.566265060241,896.3855421686748,901.2048192771085,906.0240963855423,910.843373493976,915.6626506024097,920.4819277108435,925.3012048192772,930.1204819277109,934.9397590361447,939.7590361445784,944.5783132530121,949.3975903614459,954.2168674698796,959.0361445783134,963.855421686747,968.6746987951808,973.4939759036146,978.3132530120482,983.132530120482,987.9518072289158,992.7710843373495,997.5903614457832,1002.4096385542169,1007.2289156626507,1012.0481927710845,1016.8674698795181,1021.6867469879519,1026.5060240963855,1031.3253012048194,1036.144578313253,1040.9638554216867,1045.7831325301206,1050.6024096385543,1055.4216867469881,1060.2409638554218,1065.0602409638554,1069.8795180722893,1074.698795180723,1079.5180722891566,1084.3373493975905,1089.1566265060242,1093.9759036144578,1098.7951807228917,1103.6144578313254,1108.4337349397592,1113.2530120481929,1118.0722891566265,1122.8915662650604,1127.710843373494,1132.5301204819277,1137.3493975903616,1142.1686746987953,1146.987951807229,1151.8072289156628,1156.6265060240964,1161.4457831325303,1166.265060240964,1171.0843373493976,1175.9036144578315,1180.7228915662652,1185.5421686746988,1190.3614457831327,1195.1807228915663,1200.0],\"y\":[0.0,4.1042541423199723e-7,0.000011376003383230213,0.0003330206948783693,0.0029054742476271166,0.007793866169183285,0.011853186609973539,0.014195512364428219,0.01530532279650953,0.01569919664033251,0.015705225288023022,0.015512869398393213,0.015230211346571041,0.014918590252774477,0.014611986716292963,0.014328095649063597,0.014074881217923088,0.013854570590036202,0.013666128737706219,0.013506798868324897,0.013373053197101512,0.01326116613762572,0.01316754470559123,0.013088903756698479,0.013022343738412144,0.012965369058178775,0.012915872112078869,0.012872099213221175,0.01283260870831922,0.012796227568230893,0.012762010076844113,0.012729200505475699,0.012697200555846277,0.01266554167978982,0.012633861995197988,0.012601887315923365,0.012569415730226087,0.012536305151608584,0.012502463297006813,0.012467839600586172,0.012432418634557657,0.012396214674179066,0.012359267108321364,0.012321636457447811,0.01228340081646472,0.012244652590025731,0.01220549543205977,0.012166041339133979,0.012126407878345857,0.012086715554447344,0.012047085337717893,0.012007636383904128,0.01196848398087591,0.011929737754431485,0.011891500159116265,0.011853865270397269,0.01181691788348158,0.011780732912801437,0.011745375075813592,0.011710898836082976,0.011677348574127427,0.011644758950382696,0.01161315542283814,0.011582554882138345,0.011552966368871972,0.011524391840947763,0.011496826962959124,0.011470261893873481,0.011444682053919743,0.01142006885592926,0.011396400390434885,0.011373652057440913,0.011351797140917752,0.011330807324814838,0.0113106531519556,0.011291304430195217,0.011272730595329851,0.011254901052008269,0.011237785545430803,0.011221354706597112,0.011205581178637887,0.011190442527389982,0.011175929571197668,0.011162071306127551,0.011149011264655773,0.011137244939128347,0.01112836370060122,0.01112737114013685,0.01114956835558712,0.011237539405755358,0.01147805378326956,0.011964725282079291,0.012836990397839884,0.014492494158140792,0.017791718980519365,0.024142018214449917,0.034678536776214026,0.04681412006194954,0.055350298623596784,0.05857856701118191,0.057543567190517175,0.0540440629872029,0.049423922757727126,0.044307086228932445,0.03912912315689385,0.034211580869663076,0.029769025105246063,0.02579646408777683,0.022290398674122757,0.0192330445013009,0.016588402658908572,0.014320987907480718,0.012381889530484098,0.01071208710989559,0.009272856108757277,0.008035143231230234,0.006973837637585416,0.006080740279095391,0.005320191155452737,0.004667328810990637,0.004090838213581857,0.0035831619930511835,0.003137949318267767,0.002746989278667678,0.002405209666473189,0.0021064800592303133,0.0018456736410018787,0.0016179772017139524,0.0014190861510352858,0.0012456903769737324,0.001094102222194367,0.0009617676856643509,0.0008461218411426663,0.0007449558543521416,0.0006565698467812077,0.0005791211812456784,0.0005113752059626349,0.000451991371887964,0.00039991454189595977,0.00035428270181644836,0.0003141803820256179,0.00027901358004859894,0.0002480626997607488,0.00022080734911110152,0.00019693931471824805,0.00017635262879356513,0.00015892316039504213,0.00014394190851274398,0.00013022869425452846,0.00011806287540718958,0.00010759116473774126,0.00009865942157246633,0.00009052036985634872,0.00008332166452363371,0.0000771351286903785,0.00007181570002344502,0.00006709580121190416,0.00006301109113352988,0.00005971740225245877,0.00005702739579985771,0.00005468841776377417,0.00005260587021209303,0.000050900697490157676,0.000049584136125691284,0.00004847993340864291,0.00004741036225565311,0.00004637459497836399,0.00004519058304490238,0.00004390649046974511,0.00004257661323372364,0.00004123855657253851,0.000039888563494496955,0.00003854428190932343,0.000037246705577682776,0.00003597238690726382,0.00003474682314348716,0.000033568673817014474,0.00003243901414603934,0.00003137163372723982,0.000030349045869347624,0.000029392371344986437,0.000028486430930830267,0.000027633600447440414,0.00002683983173279986,0.00002608874389790835,0.000025370151111208357,0.000024741550396928957,0.000024305667850442133,0.000024096356056248326,0.00002394609328330828,0.000023823195957079206,0.000023684234108163813,0.000023637156465461106,0.000023567593747747393,0.000023455078072401484,0.000023458119518464273,0.00002365856981628975,0.000023907723930025843,0.000024321369790544255,0.00002482256127015592,0.000025348241356466844,0.000025911098998908368,0.000026529644808338298,0.000027211533181475066,0.000027919793468176913,0.00002838773205329336,0.000028828350670778882,0.000029336212736894888,0.000029832655219687746,0.000030277289319652408,0.00003069360448118647,0.00003122320819908267,0.00003185125318174381,0.00003248038077799426,0.00003310495317796606,0.00003382985436545125,0.00003425784153382758,0.00003455797709606472,0.00003490500949932733,0.00003538124302457645,0.00003570040931839623,0.00003586596170488026,0.00003604364193079125,0.000036044179547128205,0.0000357588612370611,0.00003532565548566159,0.00003478266120614817,0.000034127060447739,0.00003341936478641169,0.000032672116464212875,0.00003191152695547965,0.0000311311283169272,0.00003034990408741426,0.000029588115927544157,0.0000288308810004204,0.000028103330745994823,0.00002739548943726249,0.000026716636101587612,0.0000260707103675709,0.000025448009136347082,0.000024866939623772905,0.00002429794032277967,0.00002376909977842669,0.00002341432835314431,0.000023219810016907054,0.00002313688954140247,0.000022975468959034165,0.00002288247206346849,0.00002295160029919472,0.000022986452745270903],\"type\":\"scatter\",\"xaxis\":\"x3\",\"yaxis\":\"y3\"},{\"line\":{\"color\":\"#212121\",\"simplify\":true},\"mode\":\"lines\",\"name\":\"bt_xh\",\"opacity\":0.1,\"x\":[0.0,4.819277108433735,9.63855421686747,14.457831325301207,19.27710843373494,24.096385542168676,28.915662650602414,33.734939759036145,38.55421686746988,43.37349397590362,48.19277108433735,53.01204819277109,57.83132530120483,62.65060240963856,67.46987951807229,72.28915662650603,77.10843373493977,81.9277108433735,86.74698795180724,91.56626506024097,96.3855421686747,101.20481927710844,106.02409638554218,110.84337349397592,115.66265060240966,120.48192771084338,125.30120481927712,130.12048192771084,134.93975903614458,139.75903614457832,144.57831325301206,149.3975903614458,154.21686746987953,159.03614457831327,163.855421686747,168.67469879518075,173.49397590361448,178.31325301204822,183.13253012048193,187.95180722891567,192.7710843373494,197.59036144578315,202.40963855421688,207.22891566265062,212.04819277108436,216.8674698795181,221.68674698795184,226.50602409638557,231.3253012048193,236.14457831325302,240.96385542168676,245.7831325301205,250.60240963855424,255.42168674698797,260.2409638554217,265.06024096385545,269.87951807228916,274.6987951807229,279.51807228915663,284.3373493975904,289.1566265060241,293.9759036144579,298.7951807228916,303.61445783132535,308.43373493975906,313.2530120481928,318.07228915662654,322.89156626506025,327.710843373494,332.5301204819277,337.3493975903615,342.1686746987952,346.98795180722897,351.8072289156627,356.62650602409644,361.44578313253015,366.26506024096386,371.08433734939763,375.90361445783134,380.7228915662651,385.5421686746988,390.3614457831326,395.1807228915663,400.00000000000006,404.81927710843377,409.63855421686753,414.45783132530124,419.27710843373495,424.0963855421687,428.9156626506024,433.7349397590362,438.5542168674699,443.37349397590367,448.1927710843374,453.01204819277115,457.83132530120486,462.6506024096386,467.46987951807233,472.28915662650604,477.1084337349398,481.9277108433735,486.7469879518073,491.566265060241,496.38554216867476,501.20481927710847,506.02409638554224,510.84337349397595,515.6626506024097,520.4819277108434,525.3012048192771,530.1204819277109,534.9397590361447,539.7590361445783,544.5783132530121,549.3975903614459,554.2168674698796,559.0361445783133,563.855421686747,568.6746987951808,573.4939759036145,578.3132530120482,583.132530120482,587.9518072289158,592.7710843373494,597.5903614457832,602.4096385542169,607.2289156626507,612.0481927710844,616.8674698795181,621.6867469879519,626.5060240963855,631.3253012048193,636.1445783132531,640.9638554216868,645.7831325301205,650.6024096385543,655.421686746988,660.2409638554218,665.0602409638554,669.8795180722892,674.698795180723,679.5180722891566,684.3373493975904,689.1566265060242,693.9759036144579,698.7951807228916,703.6144578313254,708.4337349397591,713.2530120481929,718.0722891566265,722.8915662650603,727.7108433734941,732.5301204819277,737.3493975903615,742.1686746987953,746.987951807229,751.8072289156627,756.6265060240964,761.4457831325302,766.265060240964,771.0843373493976,775.9036144578314,780.7228915662652,785.5421686746988,790.3614457831326,795.1807228915663,800.0000000000001,804.8192771084338,809.6385542168675,814.4578313253013,819.2771084337351,824.0963855421687,828.9156626506025,833.7349397590363,838.5542168674699,843.3734939759037,848.1927710843374,853.0120481927712,857.8313253012049,862.6506024096386,867.4698795180724,872.2891566265062,877.1084337349398,881.9277108433736,886.7469879518073,891.566265060241,896.3855421686748,901.2048192771085,906.0240963855423,910.843373493976,915.6626506024097,920.4819277108435,925.3012048192772,930.1204819277109,934.9397590361447,939.7590361445784,944.5783132530121,949.3975903614459,954.2168674698796,959.0361445783134,963.855421686747,968.6746987951808,973.4939759036146,978.3132530120482,983.132530120482,987.9518072289158,992.7710843373495,997.5903614457832,1002.4096385542169,1007.2289156626507,1012.0481927710845,1016.8674698795181,1021.6867469879519,1026.5060240963855,1031.3253012048194,1036.144578313253,1040.9638554216867,1045.7831325301206,1050.6024096385543,1055.4216867469881,1060.2409638554218,1065.0602409638554,1069.8795180722893,1074.698795180723,1079.5180722891566,1084.3373493975905,1089.1566265060242,1093.9759036144578,1098.7951807228917,1103.6144578313254,1108.4337349397592,1113.2530120481929,1118.0722891566265,1122.8915662650604,1127.710843373494,1132.5301204819277,1137.3493975903616,1142.1686746987953,1146.987951807229,1151.8072289156628,1156.6265060240964,1161.4457831325303,1166.265060240964,1171.0843373493976,1175.9036144578315,1180.7228915662652,1185.5421686746988,1190.3614457831327,1195.1807228915663,1200.0],\"y\":[0.0,2.2840049657707483e-9,6.884953825454956e-8,2.0874051309846316e-6,0.0000286768226409006,0.00012907890197908333,0.0003034073575001117,0.0005096722022328549,0.0007130389080591684,0.0008953789515969514,0.0010498715059276231,0.0011757786776143853,0.0012753035671096591,0.001351874830550306,0.0014092352108129444,0.0014509735170044422,0.0014803036849554906,0.0014999819348720698,0.0015122997537692794,0.0015191163918969039,0.0015219095690210157,0.0015218320262750092,0.0015197669857551779,0.0015163788958171384,0.0015121578528158994,0.001507457284360044,0.0015025251560615938,0.001497529314755642,0.0014925777302278206,0.0014877344253526098,0.0014830318436108599,0.0014784803268017934,0.0014740752854517033,0.0014698025525600935,0.0014656423250747556,0.0014615720204276146,0.0014575683089406554,0.0014536085269550515,0.0014496716294192726,0.0014457388033146477,0.0014417938334991792,0.001437823289130219,0.0014338165806957333,0.0014297659238822877,0.001425666236207137,0.001421514984840363,0.0014173119987490614,0.0014130592547107726,0.0014087606444457633,0.0014044217287518313,0.0014000494837907084,0.001395652044324202,0.001391238448532878,0.0013868183889205468,0.0013824019736107768,0.001377999502017919,0.0013736212584024286,0.001369277326207995,0.0013649774253576637,0.001360730773901813,0.0013565459746128245,0.001352430926356638,0.0013483927593806915,0.0013444377930713714,0.0013405715142705116,0.0013367985739074035,0.0013331227994981254,0.001329547220977588,0.0013260741073465533,0.0013227050117174672,0.0013194408225096596,0.001316281818757747,0.0013132277277396259,0.00131027778338867,0.0013074307842201882,0.0013046851497752593,0.001302038974887454,0.0012994900814839304,0.001297036068364384,0.001294674361113494,0.0012924022689389356,0.0012902170686620827,0.0012881161763534134,0.0012860975903140055,0.001284161171878328,0.0012823125327748868,0.0012805750907995113,0.001279027684145319,0.0012779198349326777,0.0012779956729907218,0.0012811534634502397,0.0012908261562428387,0.0013118904878969136,0.0013533659457636025,0.0014348637707275926,0.0015952050024814679,0.001894575295787905,0.0023736094701582973,0.0029783020440319503,0.0035925810173982765,0.004119197595636279,0.004507259349284352,0.0047477579088731235,0.004850790736115587,0.004834658108142921,0.004722102769057798,0.004537248568163211,0.0043018255091060225,0.004033675103551176,0.0037474168387047566,0.00345455065471612,0.003163992135208608,0.0028822001642395366,0.0026135209277219993,0.002360573061602459,0.0021248868475640115,0.001907122914347555,0.00170763457635611,0.0015262238774744511,0.001362156375282418,0.0012142096927203695,0.0010810294075721855,0.000961371414446643,0.0008540577009593542,0.0007579818708994133,0.0006721188876436156,0.0005955104747033242,0.0005272628223497405,0.00046654812194851103,0.00041260537937125557,0.00036473505950138633,0.00032229772272252574,0.0002847125450087368,0.0002514527198010878,0.00022204277898509896,0.00019605424073366757,0.00017310239699725173,0.00015284282578538296,0.0001349673977536341,0.00011920159346499308,0.00010530074499474509,0.00009304743496596417,0.00008224849584164281,0.00007273217729120763,0.00006434664956242895,0.00005696415797579718,0.00005047599880331706,0.00004478498313009493,0.000039789585867550235,0.0000353960009777234,0.000031534258217128614,0.000028145684128079974,0.000025171857175682315,0.000022556985384031162,0.000020259174620247458,0.000018243539148694583,0.000016475416347914408,0.000014923619038000027,0.000013566169347382702,0.000012382884928110691,0.000011354090698211072,0.000010458004174796902,9.678414220763615e-6,9.00271324750016e-6,8.420229311387738e-6,7.91572598505468e-6,7.477395032564853e-6,7.092549810192914e-6,6.7493041665521545e-6,6.439154732757114e-6,6.156050626575096e-6,5.895083728603443e-6,5.652431271558459e-6,5.425496168025116e-6,5.212261352743832e-6,5.011094004642855e-6,4.820842271642644e-6,4.640633780776791e-6,4.469806853011563e-6,4.307798832036207e-6,4.154195558894906e-6,4.008673600437287e-6,3.870901738903291e-6,3.740627602998028e-6,3.6175802403715584e-6,3.501350253771526e-6,3.3915744860987956e-6,3.290182160646087e-6,3.199805731574245e-6,3.1217892245824218e-6,3.0545689940745765e-6,2.996134109373345e-6,2.945999166561447e-6,2.903469500065895e-6,2.8662366341117494e-6,2.834219778083153e-6,2.8098736682542303e-6,2.793902189081363e-6,2.7873160921850444e-6,2.7908805043779197e-6,2.8041266835175586e-6,2.8255598912728975e-6,2.854811461745599e-6,2.8916595946686495e-6,2.936472460629148e-6,2.984818600996792e-6,3.033524959042014e-6,3.0831934199467884e-6,3.134410101349331e-6,3.1860518242227214e-6,3.2373515665393355e-6,3.2888457242558163e-6,3.3429666347620932e-6,3.4002803440876765e-6,3.459872181658318e-6,3.522647695185865e-6,3.5864739565393968e-6,3.6457952451390065e-6,3.7012438445217507e-6,3.7550649410143026e-6,3.8080328539186223e-6,3.856274073775992e-6,3.89975295734098e-6,3.937823895067283e-6,3.96634058852077e-6,3.982731536820944e-6,3.986702524390893e-6,3.97821248595342e-6,3.957726922258386e-6,3.926466471918807e-6,3.8857995362286855e-6,3.836959735697275e-6,3.781193107591084e-6,3.719867887797282e-6,3.6541826833952036e-6,3.5852144500107007e-6,3.51399082191147e-6,3.4414157972927005e-6,3.368303032906314e-6,3.2953168665727654e-6,3.2230635455882495e-6,3.151959436276132e-6,3.0820607228738125e-6,3.0156534611081414e-6,2.955115257760991e-6,2.9027485442028103e-6,2.8567068279626097e-6,2.8159497890778454e-6,2.782064739788011e-6,2.7551713275308747e-6],\"type\":\"scatter\",\"xaxis\":\"x3\",\"yaxis\":\"y3\"},{\"line\":{\"color\":\"#c2c2c2\",\"simplify\":true},\"mode\":\"lines\",\"name\":\"ri_xk\",\"opacity\":0.1,\"x\":[0.0,4.819277108433735,9.63855421686747,14.457831325301207,19.27710843373494,24.096385542168676,28.915662650602414,33.734939759036145,38.55421686746988,43.37349397590362,48.19277108433735,53.01204819277109,57.83132530120483,62.65060240963856,67.46987951807229,72.28915662650603,77.10843373493977,81.9277108433735,86.74698795180724,91.56626506024097,96.3855421686747,101.20481927710844,106.02409638554218,110.84337349397592,115.66265060240966,120.48192771084338,125.30120481927712,130.12048192771084,134.93975903614458,139.75903614457832,144.57831325301206,149.3975903614458,154.21686746987953,159.03614457831327,163.855421686747,168.67469879518075,173.49397590361448,178.31325301204822,183.13253012048193,187.95180722891567,192.7710843373494,197.59036144578315,202.40963855421688,207.22891566265062,212.04819277108436,216.8674698795181,221.68674698795184,226.50602409638557,231.3253012048193,236.14457831325302,240.96385542168676,245.7831325301205,250.60240963855424,255.42168674698797,260.2409638554217,265.06024096385545,269.87951807228916,274.6987951807229,279.51807228915663,284.3373493975904,289.1566265060241,293.9759036144579,298.7951807228916,303.61445783132535,308.43373493975906,313.2530120481928,318.07228915662654,322.89156626506025,327.710843373494,332.5301204819277,337.3493975903615,342.1686746987952,346.98795180722897,351.8072289156627,356.62650602409644,361.44578313253015,366.26506024096386,371.08433734939763,375.90361445783134,380.7228915662651,385.5421686746988,390.3614457831326,395.1807228915663,400.00000000000006,404.81927710843377,409.63855421686753,414.45783132530124,419.27710843373495,424.0963855421687,428.9156626506024,433.7349397590362,438.5542168674699,443.37349397590367,448.1927710843374,453.01204819277115,457.83132530120486,462.6506024096386,467.46987951807233,472.28915662650604,477.1084337349398,481.9277108433735,486.7469879518073,491.566265060241,496.38554216867476,501.20481927710847,506.02409638554224,510.84337349397595,515.6626506024097,520.4819277108434,525.3012048192771,530.1204819277109,534.9397590361447,539.7590361445783,544.5783132530121,549.3975903614459,554.2168674698796,559.0361445783133,563.855421686747,568.6746987951808,573.4939759036145,578.3132530120482,583.132530120482,587.9518072289158,592.7710843373494,597.5903614457832,602.4096385542169,607.2289156626507,612.0481927710844,616.8674698795181,621.6867469879519,626.5060240963855,631.3253012048193,636.1445783132531,640.9638554216868,645.7831325301205,650.6024096385543,655.421686746988,660.2409638554218,665.0602409638554,669.8795180722892,674.698795180723,679.5180722891566,684.3373493975904,689.1566265060242,693.9759036144579,698.7951807228916,703.6144578313254,708.4337349397591,713.2530120481929,718.0722891566265,722.8915662650603,727.7108433734941,732.5301204819277,737.3493975903615,742.1686746987953,746.987951807229,751.8072289156627,756.6265060240964,761.4457831325302,766.265060240964,771.0843373493976,775.9036144578314,780.7228915662652,785.5421686746988,790.3614457831326,795.1807228915663,800.0000000000001,804.8192771084338,809.6385542168675,814.4578313253013,819.2771084337351,824.0963855421687,828.9156626506025,833.7349397590363,838.5542168674699,843.3734939759037,848.1927710843374,853.0120481927712,857.8313253012049,862.6506024096386,867.4698795180724,872.2891566265062,877.1084337349398,881.9277108433736,886.7469879518073,891.566265060241,896.3855421686748,901.2048192771085,906.0240963855423,910.843373493976,915.6626506024097,920.4819277108435,925.3012048192772,930.1204819277109,934.9397590361447,939.7590361445784,944.5783132530121,949.3975903614459,954.2168674698796,959.0361445783134,963.855421686747,968.6746987951808,973.4939759036146,978.3132530120482,983.132530120482,987.9518072289158,992.7710843373495,997.5903614457832,1002.4096385542169,1007.2289156626507,1012.0481927710845,1016.8674698795181,1021.6867469879519,1026.5060240963855,1031.3253012048194,1036.144578313253,1040.9638554216867,1045.7831325301206,1050.6024096385543,1055.4216867469881,1060.2409638554218,1065.0602409638554,1069.8795180722893,1074.698795180723,1079.5180722891566,1084.3373493975905,1089.1566265060242,1093.9759036144578,1098.7951807228917,1103.6144578313254,1108.4337349397592,1113.2530120481929,1118.0722891566265,1122.8915662650604,1127.710843373494,1132.5301204819277,1137.3493975903616,1142.1686746987953,1146.987951807229,1151.8072289156628,1156.6265060240964,1161.4457831325303,1166.265060240964,1171.0843373493976,1175.9036144578315,1180.7228915662652,1185.5421686746988,1190.3614457831327,1195.1807228915663,1200.0],\"y\":[0.0,7.208883196298166e-6,0.00022850622238382727,0.002175060863959802,0.00884514425794984,0.019832167272214415,0.03314908105935111,0.047177781264515634,0.06087215787958687,0.07364132534418232,0.08520160297367294,0.09546000015674283,0.10443540174644278,0.11220807744332117,0.11888811593114867,0.12459615497002687,0.12945203593281157,0.13356852035740693,0.13704819087709327,0.1399823066107647,0.14245081282656233,0.14452299077786301,0.14625842367898376,0.14770808019774123,0.14891539865615525,0.14991730764734912,0.15074515175249686,0.1514255111195355,0.15198091535211716,0.15243045848579304,0.15279032481839058,0.15307423634011139,0.15329383233624766,0.15345899095365997,0.15357810146695497,0.15365829485011767,0.15370563916478247,0.15372530527453762,0.15372170750869177,0.15369862313324348,0.15365929383571264,0.15360651188359303,0.15354269316143207,0.15346993891761343,0.1533900877478624,0.15330475909889282,0.15321538938384754,0.1531232616531428,0.15302952965239208,0.1529352370156388,0.15284133227971536,0.1527486803570783,0.15265807106350532,0.15257022525814853,0.15248579911261972,0.15240538698049821,0.15232952328796193,0.15225868381058316,0.15219328664219933,0.152133693101336,0.15208020876137462,0.15203308473484822,0.15199251929189966,0.15195865984948387,0.1519316053321674,0.15191140887763058,0.15189808083994225,0.15189159203070418,0.15189187713133143,0.15189883820796943,0.1519123482627317,0.15193225475998454,0.1519583830732682,0.15199053980614602,0.15202851594776243,0.15207208982969556,0.15212102985204815,0.15217509693700784,0.15223404662978784,0.1522976306509729,0.15236559736983804,0.1524376896995024,0.15251363606182794,0.15259312150854112,0.1526756999421066,0.1527605273577829,0.1528455421791648,0.1529249209793731,0.1529811726251877,0.15296118016153903,0.1527119919928184,0.1519011691274577,0.15014253052364088,0.14718309169743943,0.14292487818042834,0.13740544892158185,0.13077370319539863,0.12325154039014756,0.1150903814474659,0.1065452404805278,0.09785371353584935,0.08922224848230823,0.08081858502107982,0.07277127136427265,0.06517267985658194,0.05808328555548667,0.05153665082614188,0.045544132914252466,0.04010109641495964,0.035190471678265084,0.030786772530135367,0.026858619465564827,0.02337114203603831,0.020287770040660482,0.017572040067793143,0.015188412748071728,0.013103168427211173,0.011284330274372856,0.009701930347942709,0.00832840377524848,0.007138680586442108,0.006110280627808199,0.005223059809507276,0.004459046844631041,0.003802272242498635,0.003238597597475104,0.002755561910909527,0.002342218141422109,0.001988985753933954,0.0016875028064509397,0.0014304920038899541,0.001211638894315748,0.0010254739110024972,0.0008672730452741207,0.0007329625594371254,0.0006190366133740208,0.0005224837450355579,0.00044072033585438973,0.0003715343754574574,0.0003130337733284156,0.0002636027382876656,0.0002218631342418974,0.00018664036339499423,0.00015693489369038308,0.00013189789281209358,0.0001108084801847919,0.00009305408315239076,0.00007811399190377091,0.00006554740626259963,0.000054982414193319924,0.00004610423594909254,0.00003864660915753108,0.00003238456326495584,0.00002712862943220798,0.000022718861158235533,0.000019020334380924124,0.00001591943650026457,0.000013320555147789264,0.000011143121629560615,9.319328885599036e-6,7.792159224789472e-6,6.513737272682356e-6,5.443844884254638e-6,4.5487061029108066e-6,3.7999485895532584e-6,3.173781032014244e-6,2.650247047846252e-6,2.21262018321382e-6,1.8468886811276523e-6,1.5413094151419584e-6,1.2860457901969059e-6,1.072858749774996e-6,8.948502282782161e-7,7.46245845427529e-7,6.222131633392486e-7,5.187096551907848e-7,4.3235369100741384e-7,3.603178200840301e-7,3.0023814898532087e-7,2.5013899349283854e-7,2.083695148127045e-7,1.7355049718440227e-7,1.4453007292214564e-7,1.2034633531945848e-7,1.0019627323857176e-7,8.340951393679e-8,6.9426891343084e-8,5.778178176200893e-8,4.8084753988721185e-8,4.001082295341784e-8,3.3289101774415585e-8,2.7693769277316653e-8,2.303661079289559e-8,1.916073192716967e-8,1.5935446319699702e-8,1.3251874853603254e-8,1.1019270871440572e-8,9.16204104357977e-9,7.617229484451357e-9,6.332394524062328e-9,5.263875406058983e-9,4.375331352170928e-9,3.6365114362391234e-9,3.022236999420316e-9,2.511548912881723e-9,2.087010097603046e-9,1.734117267482511e-9,1.4408019512322014e-9,1.1970234241693272e-9,9.944303640981638e-10,8.26076734065633e-10,6.861860065759569e-10,5.699534552154291e-10,4.733838974840586e-10,3.931558732660795e-10,3.265077271674812e-10,2.711435475903008e-10,2.2515581750482575e-10,1.8695879264090142e-10,1.5523443919936562e-10,1.2888714101089653e-10,1.0700669169450685e-10,8.883669188935419e-11,7.374861302462124e-11,6.12203329370467e-11,5.081807861101771e-11,4.218146591046054e-11,3.501114381104778e-11,2.9058457992766476e-11,2.411686442562586e-11,2.0014813479511835e-11,1.660982467721326e-11,1.3783571488749547e-11,1.1437788600205526e-11,9.490877047665952e-12,7.87508064234767e-12,6.53413957239831e-12,5.421343604310117e-12,4.497911820145655e-12,3.731648983161604e-12,3.095828376248785e-12,2.568263127159401e-12,2.130537771720786e-12,1.76736691511259e-12,1.4660624742491966e-12,1.2160926218651487e-12,1.0087171796185982e-12,8.366835429347131e-13,6.939727048082954e-13,5.755896035734675e-13],\"type\":\"scatter\",\"xaxis\":\"x3\",\"yaxis\":\"y3\"},{\"line\":{\"color\":\"#00B8FF\",\"simplify\":true},\"mode\":\"lines\",\"name\":\"ri_xi\",\"opacity\":0.8,\"x\":[0.0,4.819277108433735,9.63855421686747,14.457831325301207,19.27710843373494,24.096385542168676,28.915662650602414,33.734939759036145,38.55421686746988,43.37349397590362,48.19277108433735,53.01204819277109,57.83132530120483,62.65060240963856,67.46987951807229,72.28915662650603,77.10843373493977,81.9277108433735,86.74698795180724,91.56626506024097,96.3855421686747,101.20481927710844,106.02409638554218,110.84337349397592,115.66265060240966,120.48192771084338,125.30120481927712,130.12048192771084,134.93975903614458,139.75903614457832,144.57831325301206,149.3975903614458,154.21686746987953,159.03614457831327,163.855421686747,168.67469879518075,173.49397590361448,178.31325301204822,183.13253012048193,187.95180722891567,192.7710843373494,197.59036144578315,202.40963855421688,207.22891566265062,212.04819277108436,216.8674698795181,221.68674698795184,226.50602409638557,231.3253012048193,236.14457831325302,240.96385542168676,245.7831325301205,250.60240963855424,255.42168674698797,260.2409638554217,265.06024096385545,269.87951807228916,274.6987951807229,279.51807228915663,284.3373493975904,289.1566265060241,293.9759036144579,298.7951807228916,303.61445783132535,308.43373493975906,313.2530120481928,318.07228915662654,322.89156626506025,327.710843373494,332.5301204819277,337.3493975903615,342.1686746987952,346.98795180722897,351.8072289156627,356.62650602409644,361.44578313253015,366.26506024096386,371.08433734939763,375.90361445783134,380.7228915662651,385.5421686746988,390.3614457831326,395.1807228915663,400.00000000000006,404.81927710843377,409.63855421686753,414.45783132530124,419.27710843373495,424.0963855421687,428.9156626506024,433.7349397590362,438.5542168674699,443.37349397590367,448.1927710843374,453.01204819277115,457.83132530120486,462.6506024096386,467.46987951807233,472.28915662650604,477.1084337349398,481.9277108433735,486.7469879518073,491.566265060241,496.38554216867476,501.20481927710847,506.02409638554224,510.84337349397595,515.6626506024097,520.4819277108434,525.3012048192771,530.1204819277109,534.9397590361447,539.7590361445783,544.5783132530121,549.3975903614459,554.2168674698796,559.0361445783133,563.855421686747,568.6746987951808,573.4939759036145,578.3132530120482,583.132530120482,587.9518072289158,592.7710843373494,597.5903614457832,602.4096385542169,607.2289156626507,612.0481927710844,616.8674698795181,621.6867469879519,626.5060240963855,631.3253012048193,636.1445783132531,640.9638554216868,645.7831325301205,650.6024096385543,655.421686746988,660.2409638554218,665.0602409638554,669.8795180722892,674.698795180723,679.5180722891566,684.3373493975904,689.1566265060242,693.9759036144579,698.7951807228916,703.6144578313254,708.4337349397591,713.2530120481929,718.0722891566265,722.8915662650603,727.7108433734941,732.5301204819277,737.3493975903615,742.1686746987953,746.987951807229,751.8072289156627,756.6265060240964,761.4457831325302,766.265060240964,771.0843373493976,775.9036144578314,780.7228915662652,785.5421686746988,790.3614457831326,795.1807228915663,800.0000000000001,804.8192771084338,809.6385542168675,814.4578313253013,819.2771084337351,824.0963855421687,828.9156626506025,833.7349397590363,838.5542168674699,843.3734939759037,848.1927710843374,853.0120481927712,857.8313253012049,862.6506024096386,867.4698795180724,872.2891566265062,877.1084337349398,881.9277108433736,886.7469879518073,891.566265060241,896.3855421686748,901.2048192771085,906.0240963855423,910.843373493976,915.6626506024097,920.4819277108435,925.3012048192772,930.1204819277109,934.9397590361447,939.7590361445784,944.5783132530121,949.3975903614459,954.2168674698796,959.0361445783134,963.855421686747,968.6746987951808,973.4939759036146,978.3132530120482,983.132530120482,987.9518072289158,992.7710843373495,997.5903614457832,1002.4096385542169,1007.2289156626507,1012.0481927710845,1016.8674698795181,1021.6867469879519,1026.5060240963855,1031.3253012048194,1036.144578313253,1040.9638554216867,1045.7831325301206,1050.6024096385543,1055.4216867469881,1060.2409638554218,1065.0602409638554,1069.8795180722893,1074.698795180723,1079.5180722891566,1084.3373493975905,1089.1566265060242,1093.9759036144578,1098.7951807228917,1103.6144578313254,1108.4337349397592,1113.2530120481929,1118.0722891566265,1122.8915662650604,1127.710843373494,1132.5301204819277,1137.3493975903616,1142.1686746987953,1146.987951807229,1151.8072289156628,1156.6265060240964,1161.4457831325303,1166.265060240964,1171.0843373493976,1175.9036144578315,1180.7228915662652,1185.5421686746988,1190.3614457831327,1195.1807228915663,1200.0],\"y\":[0.003,0.03837476550323375,0.3969973768996039,1.3653179425039945,1.6313407656451564,1.5706135200350335,1.4713959614025554,1.3866952034306528,1.3251333518334538,1.283139907703055,1.2550789453150832,1.2364491560762068,1.2241230922781585,1.2159845022003617,1.2106032159118472,1.2070127485224338,1.2045624915263118,1.2028180561240789,1.2014930089736546,1.200401679079265,1.199426443628292,1.1984951023375583,1.1975653228658978,1.1966140432822736,1.1956303366070518,1.1946106775586793,1.1935558615572526,1.1924690478735038,1.1913545575140094,1.190217169535548,1.1890617396090535,1.1878930210011855,1.1867156074276324,1.1855339443619837,1.184352373923888,1.1831751910036674,1.1820066966684173,1.1808512404696285,1.1797132469791236,1.1785972243811629,1.1775077546961115,1.176449466500401,1.175426992018268,1.1744449112812314,1.173507686708404,1.1726195919396103,1.171784639018112,1.1710065080352299,1.1702884830958928,1.1696333979481959,1.1690435938818131,1.1685208916063847,1.1680665778576356,1.167681406538648,1.1673656133684323,1.1671189423440562,1.1669406818635628,1.166829708114183,1.166784533289297,1.166803356325584,1.166884114105328,1.1670245314023318,1.1672221682202137,1.1674744635430043,1.1677787748629684,1.168132413151708,1.1685326731883547,1.1689768593505172,1.1694623071115144,1.1699864005761098,1.1705465864315616,1.1711403846938158,1.1717653965845314,1.1724193097574627,1.1730999008245087,1.173805034496458,1.1745326570557895,1.175280777651802,1.1760474192801886,1.1768304883246448,1.1776274155595028,1.1784341360715618,1.1792421104291917,1.1800294240697882,1.1807336764852092,1.1811680952052759,1.1807590291633367,1.1777219644239012,1.1665201172397879,1.1306976224715828,1.035468886988378,0.8913596999265524,0.7435958843880347,0.6034320260628789,0.4773410027516829,0.37102763300899916,0.2860171316498451,0.2182714303020013,0.1661837703526714,0.12611472429226334,0.09523163699492987,0.07240400725370486,0.05542052900622587,0.04276798408912483,0.03310218223870165,0.02558764762010079,0.020010827269912088,0.015710707077938,0.012358590369596635,0.009675173461462924,0.007661542156563559,0.006030143042478587,0.004791928761628467,0.003803938541758506,0.003041701030250505,0.0023944626363622263,0.0019039246693894677,0.0015215354683012247,0.0012129922591642944,0.0009855230484457941,0.0007879127720034285,0.0006369815477903262,0.0005086302893225007,0.00040653715002512926,0.0003264114009986232,0.00025960226721536523,0.00020914686312590582,0.00016668776906828402,0.0001333638514854174,0.00010670720312406011,0.00008481946024554506,0.00006828712200137433,0.00005439489938153323,0.00004362742833984341,0.00003482164959677866,0.00002769865708716932,0.00002227936140100693,0.000017732493264843812,0.000014252701864315744,0.000011360689235550479,9.049589188582782e-6,7.259779004022524e-6,5.7696124774336386e-6,4.6144979519793026e-6,3.6659691195440662e-6,2.9135195479628113e-6,2.3327163294070353e-6,1.8857534580748262e-6,1.4994649736336538e-6,1.199494182175979e-6,9.621472880293038e-7,7.719950908426841e-7,6.141808612258742e-7,4.953591879286417e-7,3.9813026437014306e-7,3.1717169018883246e-7,2.5265696877610786e-7,2.021447834631118e-7,1.6271929972208202e-7,1.3139904643313501e-7,1.060183480264194e-7,8.516833835090536e-8,6.839363894261971e-8,5.5206751452134676e-8,4.4408980613170265e-8,3.632222051096592e-8,2.922228792286717e-8,2.345656763781469e-8,1.884216878702713e-8,1.498369635797585e-8,1.2048343990004732e-8,9.593626976272908e-9,7.664230272770927e-9,6.118132943216885e-9,4.855341939649681e-9,3.900335928494866e-9,3.102145448850353e-9,2.484529736722304e-9,1.9792582873307366e-9,1.5725011440012761e-9,1.2621469819867394e-9,1.0028352193684052e-9,8.049347819975321e-10,6.404067258487526e-10,5.088452961504524e-10,4.0494469835535856e-10,3.2125290870272235e-10,2.5682558908649433e-10,2.062500450502746e-10,1.651572076984141e-10,1.322137648637798e-10,1.0563067419903603e-10,8.54472930690636e-11,6.811024075210887e-11,5.4138828409813214e-11,4.327238555069846e-11,3.4678733766213494e-11,2.7661498282643434e-11,2.2392611020372855e-11,1.803906406329976e-11,1.446982231100506e-11,1.1634296584322161e-11,9.376452102142493e-12,7.606736289277736e-12,6.123899022958994e-12,4.9186326744536795e-12,3.955533733747773e-12,3.180630948212471e-12,2.5620079731993893e-12,2.0620170213157e-12,1.6508952245522534e-12,1.3247081797096218e-12,1.0704764026296936e-12,8.637872581997738e-13,7.010980952467272e-13,5.664294313865832e-13,4.5383053046917563e-13,3.651800639667039e-13,2.93615435597215e-13,2.370101243227509e-13,1.9096827339241334e-13,1.541849934400931e-13,1.2458336660288966e-13,9.992583964614328e-14,7.878431204957427e-14,6.258633566539926e-14,4.9798657911920166e-14,3.954562672343574e-14,3.13707613182835e-14,2.476281089963058e-14,1.976653834887011e-14,1.564144470217851e-14,1.24697537144443e-14,9.889432567852647e-15,7.824762116834842e-15,6.249894664016604e-15,4.943826389440511e-15,3.953108494846132e-15,3.136584688585936e-15,2.4867304437752564e-15,1.966149618684082e-15,1.5627203864911858e-15,1.2468350571176853e-15,9.939148176052872e-16,7.943344994718558e-16,6.356505440406971e-16,5.075674493435839e-16,4.070469904679906e-16,3.244487974806807e-16,2.5949850490938286e-16],\"type\":\"scatter\",\"xaxis\":\"x3\",\"yaxis\":\"y3\"},{\"line\":{\"color\":\"#00B8FF\",\"simplify\":true},\"mode\":\"lines\",\"name\":\"ri_xj\",\"opacity\":0.8,\"x\":[0.0,4.819277108433735,9.63855421686747,14.457831325301207,19.27710843373494,24.096385542168676,28.915662650602414,33.734939759036145,38.55421686746988,43.37349397590362,48.19277108433735,53.01204819277109,57.83132530120483,62.65060240963856,67.46987951807229,72.28915662650603,77.10843373493977,81.9277108433735,86.74698795180724,91.56626506024097,96.3855421686747,101.20481927710844,106.02409638554218,110.84337349397592,115.66265060240966,120.48192771084338,125.30120481927712,130.12048192771084,134.93975903614458,139.75903614457832,144.57831325301206,149.3975903614458,154.21686746987953,159.03614457831327,163.855421686747,168.67469879518075,173.49397590361448,178.31325301204822,183.13253012048193,187.95180722891567,192.7710843373494,197.59036144578315,202.40963855421688,207.22891566265062,212.04819277108436,216.8674698795181,221.68674698795184,226.50602409638557,231.3253012048193,236.14457831325302,240.96385542168676,245.7831325301205,250.60240963855424,255.42168674698797,260.2409638554217,265.06024096385545,269.87951807228916,274.6987951807229,279.51807228915663,284.3373493975904,289.1566265060241,293.9759036144579,298.7951807228916,303.61445783132535,308.43373493975906,313.2530120481928,318.07228915662654,322.89156626506025,327.710843373494,332.5301204819277,337.3493975903615,342.1686746987952,346.98795180722897,351.8072289156627,356.62650602409644,361.44578313253015,366.26506024096386,371.08433734939763,375.90361445783134,380.7228915662651,385.5421686746988,390.3614457831326,395.1807228915663,400.00000000000006,404.81927710843377,409.63855421686753,414.45783132530124,419.27710843373495,424.0963855421687,428.9156626506024,433.7349397590362,438.5542168674699,443.37349397590367,448.1927710843374,453.01204819277115,457.83132530120486,462.6506024096386,467.46987951807233,472.28915662650604,477.1084337349398,481.9277108433735,486.7469879518073,491.566265060241,496.38554216867476,501.20481927710847,506.02409638554224,510.84337349397595,515.6626506024097,520.4819277108434,525.3012048192771,530.1204819277109,534.9397590361447,539.7590361445783,544.5783132530121,549.3975903614459,554.2168674698796,559.0361445783133,563.855421686747,568.6746987951808,573.4939759036145,578.3132530120482,583.132530120482,587.9518072289158,592.7710843373494,597.5903614457832,602.4096385542169,607.2289156626507,612.0481927710844,616.8674698795181,621.6867469879519,626.5060240963855,631.3253012048193,636.1445783132531,640.9638554216868,645.7831325301205,650.6024096385543,655.421686746988,660.2409638554218,665.0602409638554,669.8795180722892,674.698795180723,679.5180722891566,684.3373493975904,689.1566265060242,693.9759036144579,698.7951807228916,703.6144578313254,708.4337349397591,713.2530120481929,718.0722891566265,722.8915662650603,727.7108433734941,732.5301204819277,737.3493975903615,742.1686746987953,746.987951807229,751.8072289156627,756.6265060240964,761.4457831325302,766.265060240964,771.0843373493976,775.9036144578314,780.7228915662652,785.5421686746988,790.3614457831326,795.1807228915663,800.0000000000001,804.8192771084338,809.6385542168675,814.4578313253013,819.2771084337351,824.0963855421687,828.9156626506025,833.7349397590363,838.5542168674699,843.3734939759037,848.1927710843374,853.0120481927712,857.8313253012049,862.6506024096386,867.4698795180724,872.2891566265062,877.1084337349398,881.9277108433736,886.7469879518073,891.566265060241,896.3855421686748,901.2048192771085,906.0240963855423,910.843373493976,915.6626506024097,920.4819277108435,925.3012048192772,930.1204819277109,934.9397590361447,939.7590361445784,944.5783132530121,949.3975903614459,954.2168674698796,959.0361445783134,963.855421686747,968.6746987951808,973.4939759036146,978.3132530120482,983.132530120482,987.9518072289158,992.7710843373495,997.5903614457832,1002.4096385542169,1007.2289156626507,1012.0481927710845,1016.8674698795181,1021.6867469879519,1026.5060240963855,1031.3253012048194,1036.144578313253,1040.9638554216867,1045.7831325301206,1050.6024096385543,1055.4216867469881,1060.2409638554218,1065.0602409638554,1069.8795180722893,1074.698795180723,1079.5180722891566,1084.3373493975905,1089.1566265060242,1093.9759036144578,1098.7951807228917,1103.6144578313254,1108.4337349397592,1113.2530120481929,1118.0722891566265,1122.8915662650604,1127.710843373494,1132.5301204819277,1137.3493975903616,1142.1686746987953,1146.987951807229,1151.8072289156628,1156.6265060240964,1161.4457831325303,1166.265060240964,1171.0843373493976,1175.9036144578315,1180.7228915662652,1185.5421686746988,1190.3614457831327,1195.1807228915663,1200.0],\"y\":[0.0,0.0006153154692018451,0.013933897677620467,0.0917368901144466,0.22436532401380238,0.33612794915495703,0.41758711873389054,0.4743905378778275,0.5134391006718939,0.5402776677522427,0.5588252253478168,0.571741480911299,0.5808178550196464,0.5872615883641478,0.5918872630048405,0.5952450440771624,0.5977070002114636,0.5995254278581739,0.600872277714116,0.6018657451170408,0.6025881279451851,0.6030977553260104,0.6034369086034171,0.6036370504074111,0.6037222594502195,0.6037114796854173,0.6036199933584508,0.6034603910087325,0.6032432186065075,0.6029774193317882,0.6026706456192705,0.6023294894138234,0.601959660517396,0.6015661312844509,0.601153258561677,0.6007248891886832,0.6002844525854077,0.599835042291447,0.5993794873645815,0.598920414019398,0.5984602976256519,0.5980015050918328,0.5975463276773528,0.5970970043766012,0.5966557361813568,0.5962246917395401,0.5958060051702947,0.5954017670458546,0.59501400978347,0.5946446888782372,0.5942956615255323,0.5939686642121598,0.5936652907907677,0.5933869723968458,0.5931349603363424,0.5929103127877778,0.5927138858530461,0.5925463291833082,0.5924080861246401,0.5922993980905027,0.5922203126856156,0.5921706949825075,0.592150241285808,0.5921584947036483,0.5921948618710422,0.5922586302262371,0.5923489853173295,0.5924650277035063,0.5926057891052325,0.5927702475443865,0.592957341294303,0.5931659815276609,0.5933950636044847,0.5936434769796279,0.5939101137210503,0.594193875596483,0.5944936795509631,0.5948084610070414,0.5951371733386192,0.5954787788465606,0.595832217918323,0.5961963177483709,0.5965695263639018,0.5969491274724832,0.5973288798040607,0.5976917963116377,0.5979877549035482,0.5980636191945676,0.5974473505417849,0.5947188894107129,0.5861695263280233,0.5670635925354879,0.5373533379309474,0.4993650078840679,0.4557707703055895,0.409267853178641,0.3624628203517836,0.31719812570058425,0.27477552262803917,0.23602843447702979,0.20135064173574757,0.17080530032974164,0.14421500747551225,0.12129321482366283,0.10168866661212625,0.08503789079854264,0.070940648987915,0.059063355660651476,0.04909134343536644,0.040740572368733706,0.033772984424695576,0.027963384621136688,0.023124503877234533,0.019101728285496097,0.01576362899455655,0.012998310362717641,0.010718568518150895,0.008831351814464847,0.007271116133056289,0.005977342781536918,0.004908516238996187,0.004027459807536294,0.003302111362171996,0.0027061017895961166,0.0022163622335438483,0.0018145175720941193,0.001484899779051686,0.0012146566747282073,0.0009933484504101903,0.0008119793702830281,0.0006635738571342432,0.0005420954674072386,0.00044271724280547285,0.00036148651963021494,0.00029504892140276584,0.00024078274091133214,0.00019643017903070125,0.000160210291997556,0.0001306470279797816,0.00010650339895711479,0.00008681345303650121,0.00007074553087632332,0.00005763497236283318,0.00004694808034500869,0.000038264701982032336,0.00003120955597730973,0.000025454748461616012,0.000020737732085459733,0.000016890830609063174,0.0000137623056999259,0.00001121387617148711,9.131067035228449e-6,7.4343418746421435e-6,6.053928249171702e-6,4.930212161378329e-6,4.014036855858769e-6,3.2691856525702666e-6,2.664511400160054e-6,2.1711598138129796e-6,1.7688323332711206e-6,1.4406269144100334e-6,1.1735377148198822e-6,9.560250624355224e-7,7.78817702314531e-7,6.339226274883755e-7,5.158355898436855e-7,4.1936025676448974e-7,3.4086226274889835e-7,2.7693794534430883e-7,2.249620006411032e-7,1.8270325099972368e-7,1.4833621821455324e-7,1.204345603351189e-7,9.774193082777184e-8,7.932336133996976e-8,6.436215430167921e-8,5.221354709887598e-8,4.235852235947855e-8,3.4353449437561746e-8,2.7861914603934207e-8,2.2592005850414147e-8,1.8317348384989332e-8,1.4851072120171755e-8,1.203838165863432e-8,9.758883984601547e-9,7.910071922318081e-9,6.417347058830221e-9,5.209285852087385e-9,4.228289585210856e-9,3.430798216095424e-9,2.7823437769971197e-9,2.256816137657785e-9,1.8295510119755001e-9,1.482849422669791e-9,1.2026843077406188e-9,9.761028819823036e-10,7.920349394964351e-10,6.432058397235785e-10,5.222969184061428e-10,4.2404158511492883e-10,3.4422962073999435e-10,2.794657823655931e-10,2.2690412013114906e-10,1.8423315283875843e-10,1.4941248909355577e-10,1.2120967932797925e-10,9.835571592828241e-11,7.980716562518474e-11,6.475669538617523e-11,5.2553136397359824e-11,4.266586883687135e-11,3.464676607247276e-11,2.8132410647788094e-11,2.2842562878505888e-11,1.8548064343998778e-11,1.504688697006322e-11,1.2204342053378396e-11,9.903213480593181e-12,8.037068582118523e-12,6.52057967738723e-12,5.2878881183486336e-12,4.288387569779581e-12,3.4756622205338857e-12,2.8150923750699873e-12,2.280084954447193e-12,1.8462560695785383e-12,1.4939109071037152e-12,1.2090699046815365e-12,9.781807459151986e-13,7.913828019705721e-13,6.401293461564063e-13,5.177202989754329e-13,4.187306912675453e-13,3.38582609725495e-13,2.737962054442103e-13,2.2136083558670356e-13,1.789644536784354e-13,1.4468440413391454e-13,1.1695230146715796e-13,9.454566274515426e-14,7.642932899233136e-14,6.176916923261454e-14,4.997096179670634e-14,4.043979250298579e-14,3.273880805909064e-14,2.6479630236315958e-14,2.1426269597247894e-14,1.7342734380929258e-14,1.4030841967760029e-14,1.1350472653345638e-14],\"type\":\"scatter\",\"xaxis\":\"x3\",\"yaxis\":\"y3\"},{\"line\":{\"color\":\"#363636\",\"simplify\":true},\"mode\":\"lines\",\"name\":\"ri_xl\",\"opacity\":0.1,\"x\":[0.0,4.819277108433735,9.63855421686747,14.457831325301207,19.27710843373494,24.096385542168676,28.915662650602414,33.734939759036145,38.55421686746988,43.37349397590362,48.19277108433735,53.01204819277109,57.83132530120483,62.65060240963856,67.46987951807229,72.28915662650603,77.10843373493977,81.9277108433735,86.74698795180724,91.56626506024097,96.3855421686747,101.20481927710844,106.02409638554218,110.84337349397592,115.66265060240966,120.48192771084338,125.30120481927712,130.12048192771084,134.93975903614458,139.75903614457832,144.57831325301206,149.3975903614458,154.21686746987953,159.03614457831327,163.855421686747,168.67469879518075,173.49397590361448,178.31325301204822,183.13253012048193,187.95180722891567,192.7710843373494,197.59036144578315,202.40963855421688,207.22891566265062,212.04819277108436,216.8674698795181,221.68674698795184,226.50602409638557,231.3253012048193,236.14457831325302,240.96385542168676,245.7831325301205,250.60240963855424,255.42168674698797,260.2409638554217,265.06024096385545,269.87951807228916,274.6987951807229,279.51807228915663,284.3373493975904,289.1566265060241,293.9759036144579,298.7951807228916,303.61445783132535,308.43373493975906,313.2530120481928,318.07228915662654,322.89156626506025,327.710843373494,332.5301204819277,337.3493975903615,342.1686746987952,346.98795180722897,351.8072289156627,356.62650602409644,361.44578313253015,366.26506024096386,371.08433734939763,375.90361445783134,380.7228915662651,385.5421686746988,390.3614457831326,395.1807228915663,400.00000000000006,404.81927710843377,409.63855421686753,414.45783132530124,419.27710843373495,424.0963855421687,428.9156626506024,433.7349397590362,438.5542168674699,443.37349397590367,448.1927710843374,453.01204819277115,457.83132530120486,462.6506024096386,467.46987951807233,472.28915662650604,477.1084337349398,481.9277108433735,486.7469879518073,491.566265060241,496.38554216867476,501.20481927710847,506.02409638554224,510.84337349397595,515.6626506024097,520.4819277108434,525.3012048192771,530.1204819277109,534.9397590361447,539.7590361445783,544.5783132530121,549.3975903614459,554.2168674698796,559.0361445783133,563.855421686747,568.6746987951808,573.4939759036145,578.3132530120482,583.132530120482,587.9518072289158,592.7710843373494,597.5903614457832,602.4096385542169,607.2289156626507,612.0481927710844,616.8674698795181,621.6867469879519,626.5060240963855,631.3253012048193,636.1445783132531,640.9638554216868,645.7831325301205,650.6024096385543,655.421686746988,660.2409638554218,665.0602409638554,669.8795180722892,674.698795180723,679.5180722891566,684.3373493975904,689.1566265060242,693.9759036144579,698.7951807228916,703.6144578313254,708.4337349397591,713.2530120481929,718.0722891566265,722.8915662650603,727.7108433734941,732.5301204819277,737.3493975903615,742.1686746987953,746.987951807229,751.8072289156627,756.6265060240964,761.4457831325302,766.265060240964,771.0843373493976,775.9036144578314,780.7228915662652,785.5421686746988,790.3614457831326,795.1807228915663,800.0000000000001,804.8192771084338,809.6385542168675,814.4578313253013,819.2771084337351,824.0963855421687,828.9156626506025,833.7349397590363,838.5542168674699,843.3734939759037,848.1927710843374,853.0120481927712,857.8313253012049,862.6506024096386,867.4698795180724,872.2891566265062,877.1084337349398,881.9277108433736,886.7469879518073,891.566265060241,896.3855421686748,901.2048192771085,906.0240963855423,910.843373493976,915.6626506024097,920.4819277108435,925.3012048192772,930.1204819277109,934.9397590361447,939.7590361445784,944.5783132530121,949.3975903614459,954.2168674698796,959.0361445783134,963.855421686747,968.6746987951808,973.4939759036146,978.3132530120482,983.132530120482,987.9518072289158,992.7710843373495,997.5903614457832,1002.4096385542169,1007.2289156626507,1012.0481927710845,1016.8674698795181,1021.6867469879519,1026.5060240963855,1031.3253012048194,1036.144578313253,1040.9638554216867,1045.7831325301206,1050.6024096385543,1055.4216867469881,1060.2409638554218,1065.0602409638554,1069.8795180722893,1074.698795180723,1079.5180722891566,1084.3373493975905,1089.1566265060242,1093.9759036144578,1098.7951807228917,1103.6144578313254,1108.4337349397592,1113.2530120481929,1118.0722891566265,1122.8915662650604,1127.710843373494,1132.5301204819277,1137.3493975903616,1142.1686746987953,1146.987951807229,1151.8072289156628,1156.6265060240964,1161.4457831325303,1166.265060240964,1171.0843373493976,1175.9036144578315,1180.7228915662652,1185.5421686746988,1190.3614457831327,1195.1807228915663,1200.0],\"y\":[0.0,0.000010075608011334586,0.0001373027803056647,0.0016545617452422545,0.00812977527870466,0.01623465268526402,0.021574555555573565,0.02433158870993455,0.025541147629555495,0.025912092953764832,0.025845060804264783,0.025561247354089482,0.0251839244421791,0.024781757453641837,0.024391959918234042,0.02403326275231876,0.023713511121115104,0.02343425383162584,0.023193559187166063,0.022987744343458384,0.022812423002269346,0.022663120715029576,0.0225356160465465,0.022426109907225066,0.02233128968887962,0.022248331525237253,0.022174868553699347,0.02210894277820293,0.022048951316426587,0.02199359333662768,0.021941821094695387,0.021892796654404485,0.02184585475837558,0.021800471670349843,0.021756239464596257,0.021712845083097163,0.021670053440651028,0.0216276938830604,0.021585649362907116,0.021543847771795282,0.021502254946132417,0.02146086893950036,0.021419715225644568,0.02137884256117316,0.02133831929624263,0.02129822997513004,0.02125867211688838,0.021219753109194724,0.02118158718563104,0.021144292487389624,0.021107988234099102,0.02107279204465035,0.02103881745746338,0.02100617170097004,0.02097495376011192,0.020945252774732734,0.020917146792519714,0.020890701884353262,0.020865971615176806,0.020842996850139264,0.02082180586476704,0.020802414719850497,0.020784827856762226,0.020769038866923713,0.02075503138972906,0.02074278009591472,0.02073225171756565,0.020723406091120344,0.02071619718538953,0.020710574092335707,0.020706481963888516,0.02070386288324377,0.0207026566639435,0.02070280157491582,0.02070423499563591,0.02070689401555162,0.020710716013814034,0.020715639311326896,0.02072160414087856,0.020728554619915823,0.020736443695893284,0.020745246879206876,0.020755002289731355,0.02076593077312868,0.020778803433280948,0.020796083867164125,0.02082551980316046,0.020891493713541633,0.021070295587331547,0.02158429126262379,0.022791999431353207,0.024299599518610694,0.02565213269636684,0.02708148776557331,0.029006668533080714,0.0315786708578707,0.03425584767522877,0.0359601825123255,0.035729610595175335,0.033940719475277534,0.03120273649402682,0.027929285434305718,0.02453870728733091,0.021266324601254563,0.01825998263905105,0.015583269750024093,0.013225616226426557,0.011184103484671972,0.009432143016801394,0.007939005262709147,0.006669086561453735,0.005596479475205156,0.004689448279688687,0.003925500436713088,0.0032827591578240612,0.002744182718509926,0.002292513116670529,0.0019140934155210056,0.0015973762690697274,0.0013318634952663418,0.0011102051000879546,0.0009248592701599378,0.0007703621387824642,0.0006414625254194691,0.0005339676432860592,0.00044444718994397835,0.0003697994324398847,0.0003076790937172482,0.0002559365764362602,0.00021286648466256746,0.0001770305530155594,0.0001471893593102077,0.00012237693989354325,0.00010172822647979039,0.0000845588442214406,0.00007028149180060609,0.00005840406456360718,0.00004853357740700765,0.00004032453479008007,0.00003350352729258446,0.000027833953505000247,0.000023120881810924917,0.000019205767828893687,0.00001595246580970141,0.000013250444054345037,0.000011005876343146068,9.140816523766238e-6,7.590675586536442e-6,6.303424981671787e-6,5.234102709982673e-6,4.345957497679521e-6,3.60825306859219e-6,2.9957242462218325e-6,2.4869884376869144e-6,2.0645767229467136e-6,1.7139194041599146e-6,1.4227569370161007e-6,1.1810221879115204e-6,9.803203200386048e-7,8.136946282542445e-7,6.753682709923651e-7,5.605446719452668e-7,4.6523274732397025e-7,3.861112836248701e-7,3.204384853800413e-7,2.6591287018059644e-7,2.2066465781816786e-7,1.831078938061585e-7,1.5193783818819472e-7,1.2607264452968708e-7,1.0460495902478856e-7,8.679282579794022e-8,7.201115512598155e-8,5.97461309794912e-8,4.9569491587904015e-8,4.1124529650725364e-8,3.411836173234293e-8,2.8304829447752554e-8,2.3481796854371418e-8,1.9480290193405593e-8,1.616018633606708e-8,1.3405947589694144e-8,1.112077124345448e-8,9.225127341270612e-9,7.65248166589322e-9,6.347914952014963e-9,5.265763514417858e-9,4.36805440126992e-9,3.623314505545998e-9,3.005523538324316e-9,2.493023614122294e-9,2.067894570238894e-9,1.7152191311844782e-9,1.4226960882350416e-9,1.1800553904824815e-9,9.78790187577646e-10,8.118461820383837e-10,6.733757844941689e-10,5.585166383111104e-10,4.6324534728685865e-10,3.8422332141565086e-10,3.186785383042412e-10,2.643136205619686e-10,2.1922021677964243e-10,1.8181944556522775e-10,1.507988217753179e-10,1.2507015680405978e-10,1.0373081872067653e-10,8.603195623852256e-11,7.135263992830746e-11,5.917786725845183e-11,4.9080301988349594e-11,4.0705445790680714e-11,3.3759540793688083e-11,2.799867174002445e-11,2.322070616457587e-11,1.9258090648765634e-11,1.5971618284030846e-11,1.3245976812289413e-11,1.0985395673671958e-11,9.110590812023455e-12,7.55570664651126e-12,6.26614282540048e-12,5.196651873130387e-12,4.309680217462791e-12,3.5740636161400336e-12,2.9640079459064403e-12,2.4580661167196862e-12,2.038482460841153e-12,1.6905156021931687e-12,1.4019376117553357e-12,1.1626207661453958e-12,9.641507865905304e-13,7.995611696940818e-13,6.630665737258412e-13,5.498709416095119e-13,4.559993784431315e-13,3.7815127199846876e-13,3.135933484067463e-13,2.6005598624891766e-13,2.1565804058280444e-13,1.788399067648395e-13,1.4830742077433298e-13,1.22987578753793e-13,1.0199021407977941e-13,8.457753320097843e-14,7.013759002938459e-14,5.8162870605368e-14,4.8232510553256983e-14,3.99975555624466e-14],\"type\":\"scatter\",\"xaxis\":\"x3\",\"yaxis\":\"y3\"},{\"line\":{\"color\":\"#f73be7\",\"simplify\":true,\"width\":2},\"mode\":\"lines\",\"name\":\"bh_active\",\"opacity\":1,\"x\":[0.0,4.819277108433735,9.63855421686747,14.457831325301207,19.27710843373494,24.096385542168676,28.915662650602414,33.734939759036145,38.55421686746988,43.37349397590362,48.19277108433735,53.01204819277109,57.83132530120483,62.65060240963856,67.46987951807229,72.28915662650603,77.10843373493977,81.9277108433735,86.74698795180724,91.56626506024097,96.3855421686747,101.20481927710844,106.02409638554218,110.84337349397592,115.66265060240966,120.48192771084338,125.30120481927712,130.12048192771084,134.93975903614458,139.75903614457832,144.57831325301206,149.3975903614458,154.21686746987953,159.03614457831327,163.855421686747,168.67469879518075,173.49397590361448,178.31325301204822,183.13253012048193,187.95180722891567,192.7710843373494,197.59036144578315,202.40963855421688,207.22891566265062,212.04819277108436,216.8674698795181,221.68674698795184,226.50602409638557,231.3253012048193,236.14457831325302,240.96385542168676,245.7831325301205,250.60240963855424,255.42168674698797,260.2409638554217,265.06024096385545,269.87951807228916,274.6987951807229,279.51807228915663,284.3373493975904,289.1566265060241,293.9759036144579,298.7951807228916,303.61445783132535,308.43373493975906,313.2530120481928,318.07228915662654,322.89156626506025,327.710843373494,332.5301204819277,337.3493975903615,342.1686746987952,346.98795180722897,351.8072289156627,356.62650602409644,361.44578313253015,366.26506024096386,371.08433734939763,375.90361445783134,380.7228915662651,385.5421686746988,390.3614457831326,395.1807228915663,400.00000000000006,404.81927710843377,409.63855421686753,414.45783132530124,419.27710843373495,424.0963855421687,428.9156626506024,433.7349397590362,438.5542168674699,443.37349397590367,448.1927710843374,453.01204819277115,457.83132530120486,462.6506024096386,467.46987951807233,472.28915662650604,477.1084337349398,481.9277108433735,486.7469879518073,491.566265060241,496.38554216867476,501.20481927710847,506.02409638554224,510.84337349397595,515.6626506024097,520.4819277108434,525.3012048192771,530.1204819277109,534.9397590361447,539.7590361445783,544.5783132530121,549.3975903614459,554.2168674698796,559.0361445783133,563.855421686747,568.6746987951808,573.4939759036145,578.3132530120482,583.132530120482,587.9518072289158,592.7710843373494,597.5903614457832,602.4096385542169,607.2289156626507,612.0481927710844,616.8674698795181,621.6867469879519,626.5060240963855,631.3253012048193,636.1445783132531,640.9638554216868,645.7831325301205,650.6024096385543,655.421686746988,660.2409638554218,665.0602409638554,669.8795180722892,674.698795180723,679.5180722891566,684.3373493975904,689.1566265060242,693.9759036144579,698.7951807228916,703.6144578313254,708.4337349397591,713.2530120481929,718.0722891566265,722.8915662650603,727.7108433734941,732.5301204819277,737.3493975903615,742.1686746987953,746.987951807229,751.8072289156627,756.6265060240964,761.4457831325302,766.265060240964,771.0843373493976,775.9036144578314,780.7228915662652,785.5421686746988,790.3614457831326,795.1807228915663,800.0000000000001,804.8192771084338,809.6385542168675,814.4578313253013,819.2771084337351,824.0963855421687,828.9156626506025,833.7349397590363,838.5542168674699,843.3734939759037,848.1927710843374,853.0120481927712,857.8313253012049,862.6506024096386,867.4698795180724,872.2891566265062,877.1084337349398,881.9277108433736,886.7469879518073,891.566265060241,896.3855421686748,901.2048192771085,906.0240963855423,910.843373493976,915.6626506024097,920.4819277108435,925.3012048192772,930.1204819277109,934.9397590361447,939.7590361445784,944.5783132530121,949.3975903614459,954.2168674698796,959.0361445783134,963.855421686747,968.6746987951808,973.4939759036146,978.3132530120482,983.132530120482,987.9518072289158,992.7710843373495,997.5903614457832,1002.4096385542169,1007.2289156626507,1012.0481927710845,1016.8674698795181,1021.6867469879519,1026.5060240963855,1031.3253012048194,1036.144578313253,1040.9638554216867,1045.7831325301206,1050.6024096385543,1055.4216867469881,1060.2409638554218,1065.0602409638554,1069.8795180722893,1074.698795180723,1079.5180722891566,1084.3373493975905,1089.1566265060242,1093.9759036144578,1098.7951807228917,1103.6144578313254,1108.4337349397592,1113.2530120481929,1118.0722891566265,1122.8915662650604,1127.710843373494,1132.5301204819277,1137.3493975903616,1142.1686746987953,1146.987951807229,1151.8072289156628,1156.6265060240964,1161.4457831325303,1166.265060240964,1171.0843373493976,1175.9036144578315,1180.7228915662652,1185.5421686746988,1190.3614457831327,1195.1807228915663,1200.0],\"y\":[0.003,0.009094144261616468,0.02646679499621396,0.05292609116707737,0.06424242645044581,0.06833767494929778,0.07079826655745451,0.07330202328418278,0.07645930635664348,0.08038604541209442,0.08502652818618454,0.0903062508505725,0.09616857983813695,0.10257602247863973,0.10950584342706457,0.11694606090455001,0.12489239076277625,0.13334591223859554,0.14231123208491886,0.1517949965670508,0.16180465148525916,0.17234738136283656,0.18342917893497443,0.19505401034163392,0.2072230526144614,0.21993398944731612,0.23318035949156482,0.24695095884085935,0.261229306091033,0.27599318436031955,0.2912142797820413,0.3068579399563953,0.3228830782741854,0.3392422504219593,0.3558819272314733,0.3727429828891351,0.389761409083441,0.4068692539582352,0.42399577021215007,0.44106874033328114,0.4580159303318262,0.4747666084329088,0.49125305422245263,0.5074119787449339,0.5231857784665722,0.5385235562795405,0.5533818600358317,0.5677251114639761,0.5815257228588825,0.594763922430013,0.6074273287259991,0.6195103280438184,0.6310133152527643,0.6419418582678413,0.6523058406959623,0.6621186277100591,0.6713962888742303,0.6801569001369027,0.688419936794749,0.6962057606730884,0.7035351983848228,0.7104292032680559,0.7169085911883789,0.722993839438704,0.7287049380653018,0.7340612837246157,0.7390816073274805,0.7437839280282668,0.7481855274143497,0.7523029389544753,0.756151948830296,0.7597476052058295,0.7631042338266146,0.7662354587011393,0.7691542277855679,0.7718728457948697,0.7744030214659363,0.7767559503251715,0.7789424922316148,0.7809736128808263,0.7828615822921026,0.7846233967066701,0.7862908664195891,0.7879410390503205,0.7897895081570669,0.7924795629805493,0.7979758482893532,0.8122198693180974,0.8517954249884526,0.9499527699664234,1.1082526802920902,1.2712582716525223,1.457750415652978,1.6719100107911837,1.8939823562981115,2.132974112708575,2.4239846779645644,2.7096940042168702,2.984130916138155,3.1960520185218924,3.293191654083462,3.398799451461281,3.5076097691305312,3.6409280319412183,3.7327966502806853,3.7358360929447656,3.8429094019241195,3.951559553428749,4.0351820136891146,4.00564643111262,4.107234805858967,4.075816147797695,4.187435370113546,4.248925611516751,4.404490091077236,4.266396767168526,4.245147047150162,4.309595967744296,4.333693052869505,4.69671262591064,4.7668176758845995,5.050613173922843,5.098485896692314,5.157795457989404,5.305052506056976,5.254160640862461,5.463403290330084,5.444045973070826,5.508579538159182,5.565377632422366,5.480022138532305,5.664924839553871,5.615429822811488,5.715848742228092,5.707261475124907,5.622997497265143,5.779601246465296,5.699499790388575,5.841803704070386,5.791089394123119,5.733638336353535,5.855790110170732,5.745723369191063,5.753037539985991,5.549553177602847,5.309693620197444,5.237867327268616,5.487849843981145,5.3001378235960726,5.220247031454957,5.20490360827834,5.26194492781788,5.078353038830909,5.162341356326134,5.196594898406987,5.024867456261826,4.833477940381978,4.672255922556226,4.650384643737708,4.717268500840601,4.752742657648393,4.67873338291552,4.596654112055488,4.65423663598638,4.663263140987956,5.037677511031834,5.121677914085612,5.222934598442137,5.352418603963122,5.3021864631773905,5.518391455264335,5.494976695443432,5.5851904075144025,5.6134565460600445,5.530268970316001,5.706405425553134,5.644892995804122,5.771170668236384,5.73975626908348,5.667961198800342,5.807101314001475,5.714329862806924,5.869558778652402,5.813125053641734,5.7821001955937605,5.655986027773462,5.397389910566448,5.287243827268183,5.358555186755975,5.325563967595363,5.304206283297706,5.216813354221139,5.447769971505217,5.336313233774047,5.1161192031349305,4.9838923731246085,4.940618080369286,4.725369151899682,4.804078354125729,4.812165963278628,4.724853681082626,4.6852464425327724,4.674706832032629,4.861410803593729,4.912347936144331,4.864172637596573,4.829665573382544,4.817845745656072,4.830909818878781,4.798510960946391,4.650278419358506,4.535131597840425,4.565246721726179,4.554496961993884,4.66836368950312,4.819121557035651,4.718829184978711,4.678279358367357,4.619829556773556,4.75867502327806,4.790319383600989,4.853785739418142,5.072029908304549,5.211495305319584,5.192385527153685,5.4345636046069865,5.41619584779094,5.547920116612378,5.557278814327858,5.495740162765939,5.662315118268991,5.593035064344741,5.749137417458116,5.70690459845587,5.6626860840790885,5.778690607419058,5.678040363791676,5.845619559230155,5.788123425114994,5.786650550946714,5.856386315615012,5.7095222048178895,5.599038880050033,5.445362325544351,5.4381662108707705,5.423968540263468,5.3086647934878,5.2800052345739585,5.308345135265833,5.245963567905381],\"type\":\"scatter\",\"xaxis\":\"x4\",\"yaxis\":\"y4\"},{\"line\":{\"color\":\"#f73be7\",\"simplify\":true,\"width\":2},\"mode\":\"lines\",\"name\":\"bh_inactive\",\"opacity\":0.1,\"x\":[0.0,4.819277108433735,9.63855421686747,14.457831325301207,19.27710843373494,24.096385542168676,28.915662650602414,33.734939759036145,38.55421686746988,43.37349397590362,48.19277108433735,53.01204819277109,57.83132530120483,62.65060240963856,67.46987951807229,72.28915662650603,77.10843373493977,81.9277108433735,86.74698795180724,91.56626506024097,96.3855421686747,101.20481927710844,106.02409638554218,110.84337349397592,115.66265060240966,120.48192771084338,125.30120481927712,130.12048192771084,134.93975903614458,139.75903614457832,144.57831325301206,149.3975903614458,154.21686746987953,159.03614457831327,163.855421686747,168.67469879518075,173.49397590361448,178.31325301204822,183.13253012048193,187.95180722891567,192.7710843373494,197.59036144578315,202.40963855421688,207.22891566265062,212.04819277108436,216.8674698795181,221.68674698795184,226.50602409638557,231.3253012048193,236.14457831325302,240.96385542168676,245.7831325301205,250.60240963855424,255.42168674698797,260.2409638554217,265.06024096385545,269.87951807228916,274.6987951807229,279.51807228915663,284.3373493975904,289.1566265060241,293.9759036144579,298.7951807228916,303.61445783132535,308.43373493975906,313.2530120481928,318.07228915662654,322.89156626506025,327.710843373494,332.5301204819277,337.3493975903615,342.1686746987952,346.98795180722897,351.8072289156627,356.62650602409644,361.44578313253015,366.26506024096386,371.08433734939763,375.90361445783134,380.7228915662651,385.5421686746988,390.3614457831326,395.1807228915663,400.00000000000006,404.81927710843377,409.63855421686753,414.45783132530124,419.27710843373495,424.0963855421687,428.9156626506024,433.7349397590362,438.5542168674699,443.37349397590367,448.1927710843374,453.01204819277115,457.83132530120486,462.6506024096386,467.46987951807233,472.28915662650604,477.1084337349398,481.9277108433735,486.7469879518073,491.566265060241,496.38554216867476,501.20481927710847,506.02409638554224,510.84337349397595,515.6626506024097,520.4819277108434,525.3012048192771,530.1204819277109,534.9397590361447,539.7590361445783,544.5783132530121,549.3975903614459,554.2168674698796,559.0361445783133,563.855421686747,568.6746987951808,573.4939759036145,578.3132530120482,583.132530120482,587.9518072289158,592.7710843373494,597.5903614457832,602.4096385542169,607.2289156626507,612.0481927710844,616.8674698795181,621.6867469879519,626.5060240963855,631.3253012048193,636.1445783132531,640.9638554216868,645.7831325301205,650.6024096385543,655.421686746988,660.2409638554218,665.0602409638554,669.8795180722892,674.698795180723,679.5180722891566,684.3373493975904,689.1566265060242,693.9759036144579,698.7951807228916,703.6144578313254,708.4337349397591,713.2530120481929,718.0722891566265,722.8915662650603,727.7108433734941,732.5301204819277,737.3493975903615,742.1686746987953,746.987951807229,751.8072289156627,756.6265060240964,761.4457831325302,766.265060240964,771.0843373493976,775.9036144578314,780.7228915662652,785.5421686746988,790.3614457831326,795.1807228915663,800.0000000000001,804.8192771084338,809.6385542168675,814.4578313253013,819.2771084337351,824.0963855421687,828.9156626506025,833.7349397590363,838.5542168674699,843.3734939759037,848.1927710843374,853.0120481927712,857.8313253012049,862.6506024096386,867.4698795180724,872.2891566265062,877.1084337349398,881.9277108433736,886.7469879518073,891.566265060241,896.3855421686748,901.2048192771085,906.0240963855423,910.843373493976,915.6626506024097,920.4819277108435,925.3012048192772,930.1204819277109,934.9397590361447,939.7590361445784,944.5783132530121,949.3975903614459,954.2168674698796,959.0361445783134,963.855421686747,968.6746987951808,973.4939759036146,978.3132530120482,983.132530120482,987.9518072289158,992.7710843373495,997.5903614457832,1002.4096385542169,1007.2289156626507,1012.0481927710845,1016.8674698795181,1021.6867469879519,1026.5060240963855,1031.3253012048194,1036.144578313253,1040.9638554216867,1045.7831325301206,1050.6024096385543,1055.4216867469881,1060.2409638554218,1065.0602409638554,1069.8795180722893,1074.698795180723,1079.5180722891566,1084.3373493975905,1089.1566265060242,1093.9759036144578,1098.7951807228917,1103.6144578313254,1108.4337349397592,1113.2530120481929,1118.0722891566265,1122.8915662650604,1127.710843373494,1132.5301204819277,1137.3493975903616,1142.1686746987953,1146.987951807229,1151.8072289156628,1156.6265060240964,1161.4457831325303,1166.265060240964,1171.0843373493976,1175.9036144578315,1180.7228915662652,1185.5421686746988,1190.3614457831327,1195.1807228915663,1200.0],\"y\":[0.0,2.298725103942142e-7,8.459936370369189e-7,2.2562850943118367e-6,4.0043972562177285e-6,5.494852780168417e-6,6.657386873596928e-6,7.566259553364239e-6,8.315206582363452e-6,8.98246928865208e-6,9.622872204783202e-6,0.000010271781926825894,0.000010951225412731885,0.000011674711385809007,0.000012450484820324579,0.000013283624025941755,0.000014177363408637796,0.00001513390960154897,0.0000161549280608823,0.00001724181632928696,0.000018395840169962677,0.00001961818244592123,0.000020909937231560443,0.000022272070179154947,0.000023705358664212934,0.000025210320410097147,0.000026787136279217948,0.00002843557112997515,0.000030154895675601276,0.000031943811865646646,0.00003380038424543009,0.000035721979887629634,0.00003770521971596843,0.000039745944255044435,0.00004183919695315773,0.00004397922815350392,0.000046159522460796926,0.000048372851609261866,0.00005061135395264762,0.000052866640377806384,0.00005512992484859203,0.000057392176029100844,0.000059644284683264884,0.00006187724000184029,0.00006408230688167802,0.000066251195663125,0.00006837621604002712,0.00007045040782010439,0.00007246764285031558,0.00007442269454433074,0.00007631127380690698,0.0000781300324623446,0.00007987653730520244,0.00008154921941463569,0.0000831473043044221,0.00008467072881220457,0.00008612005043390392,0.00008749635420329631,0.00008880116134797017,0.00009003634296360653,0.00009120404095649882,0.00009230659759996255,0.00009334649428721238,0.00009432629946516595,0.00009524862530196129,0.00009611609235874871,0.00009693130137959637,0.00009769681125451488,0.00009841512222232327,0.00009908866343874914,0.00009971978412170623,0.00010031074758487559,0.00010086372757295275,0.00010138080641076139,0.0001018639745712555,0.00010231513135581727,0.00010273608647084882,0.00010312856239434799,0.00010349419759221513,0.00010383455094556105,0.00010415110834743767,0.00010444529360638097,0.0001047184879001694,0.00010497206468513421,0.00010520744518921767,0.00010542614884400697,0.00010562967135908676,0.00010581871313685295,0.00010599326013111774,0.00010619005407201298,0.00010679569840953047,0.00010867567882024536,0.0001109849190971302,0.00011245674905034274,0.0001133755712103826,0.00011434627788528293,0.00011540791691972855,0.00011711246177237254,0.00011945252815837338,0.00012171868277301909,0.00012364682273820416,0.00012425036206889295,0.000123183538820208,0.00012259049586824954,0.00012334371974312655,0.00012372007230875888,0.00012298931729143748,0.0001231350575418026,0.00012410132374691035,0.0001245337092241881,0.00012442958714645576,0.0001238993816568382,0.00012372064991001867,0.00012513264768845042,0.00012703084059209597,0.00012827534208595468,0.00012807594692713166,0.0001257376798573113,0.00012419335797361576,0.00012752432673475902,0.00013392085920603612,0.00013907538051351846,0.0001439013439316834,0.00014889330112108332,0.00015277852728625964,0.0001556514145881908,0.00015823071139352504,0.0001603794538919778,0.00016189145124732382,0.00016309166043925507,0.00016414105224369616,0.00016493900423293956,0.00016551760367316835,0.00016598242576241804,0.00016638132868391256,0.00016668470857608326,0.0001669156712295736,0.00016710754228322646,0.0001672491608739363,0.0001673672055901159,0.00016745639544184522,0.00016755501265224726,0.00016772986874766602,0.00016761476849287758,0.00016552785870882315,0.00016028661817959794,0.0001529444066849884,0.00014889193744367123,0.00015399873251392075,0.00015486303687354608,0.00015093553402269826,0.00014654179436184825,0.0001504030277802566,0.00015153588144224843,0.00014822144740608538,0.00014443051608322016,0.0001441104484353929,0.00014237106623786298,0.00013785610855583913,0.00013345550820957933,0.00013414187108371742,0.00013491393723044144,0.00013286616816735869,0.0001300471898405025,0.0001314516643313062,0.00013471091575034284,0.0001374360840255093,0.00014326548375621348,0.0001485717786523665,0.00015181323458457889,0.00015497239329905412,0.00015817700327382583,0.0001602786772681623,0.0001617155709978977,0.00016314559409510166,0.00016429862898953453,0.00016501212873813506,0.00016557788611433038,0.00016613226049132425,0.00016651826942934862,0.0001667635017228755,0.0001669922032277939,0.00016718585698168546,0.0001673263341195309,0.0001674880423857133,0.00016752566158354128,0.00016505635767582658,0.0001591863790622929,0.0001517526811682568,0.00014892584801821793,0.00015024050605098063,0.00015074623963936783,0.00014984668410626356,0.00015205081956207726,0.000153734286809873,0.00015105194641608718,0.00014556298953390586,0.00014059202498876454,0.00013700098239397224,0.000135017549774177,0.00013450004573375672,0.0001338667783270686,0.00013233282426279607,0.00013094448447946677,0.00013292629306048566,0.00013736398163784113,0.00013771727592686662,0.0001351924604762489,0.000134023261915426,0.0001347652993470088,0.00013388983663913944,0.0001310058301788053,0.00012798614798679753,0.00012746162582784868,0.00012739492350372637,0.000127413231926343,0.0001320931152309599,0.00013433551362700014,0.00013256402274570536,0.00012976857427183776,0.00013278488662763158,0.00013549153157902356,0.00013569510251584447,0.00014049790855135848,0.00014714626986277093,0.00015059788912493804,0.00015358920800548703,0.00015735642841990262,0.00015979535613364515,0.00016114504243702873,0.00016266428120017182,0.0001640603701375702,0.00016482411950768656,0.00016537264766844313,0.00016598431314867161,0.0001664420856867115,0.00016669154126253044,0.00016691402271403873,0.0001671468391563806,0.00016729177762841586,0.00016742188477443255,0.00016758635973246043,0.00016581402557097442,0.00016061939281675599,0.00015385225863435517,0.00015137123672305975,0.00015368881811812438,0.00015201969163219865,0.0001479816117390139,0.00014884898806621254],\"type\":\"scatter\",\"xaxis\":\"x4\",\"yaxis\":\"y4\"},{\"line\":{\"color\":\"#f73be7\",\"simplify\":true,\"width\":2},\"mode\":\"lines\",\"name\":\"bh_dead\",\"opacity\":0.1,\"x\":[0.0,4.819277108433735,9.63855421686747,14.457831325301207,19.27710843373494,24.096385542168676,28.915662650602414,33.734939759036145,38.55421686746988,43.37349397590362,48.19277108433735,53.01204819277109,57.83132530120483,62.65060240963856,67.46987951807229,72.28915662650603,77.10843373493977,81.9277108433735,86.74698795180724,91.56626506024097,96.3855421686747,101.20481927710844,106.02409638554218,110.84337349397592,115.66265060240966,120.48192771084338,125.30120481927712,130.12048192771084,134.93975903614458,139.75903614457832,144.57831325301206,149.3975903614458,154.21686746987953,159.03614457831327,163.855421686747,168.67469879518075,173.49397590361448,178.31325301204822,183.13253012048193,187.95180722891567,192.7710843373494,197.59036144578315,202.40963855421688,207.22891566265062,212.04819277108436,216.8674698795181,221.68674698795184,226.50602409638557,231.3253012048193,236.14457831325302,240.96385542168676,245.7831325301205,250.60240963855424,255.42168674698797,260.2409638554217,265.06024096385545,269.87951807228916,274.6987951807229,279.51807228915663,284.3373493975904,289.1566265060241,293.9759036144579,298.7951807228916,303.61445783132535,308.43373493975906,313.2530120481928,318.07228915662654,322.89156626506025,327.710843373494,332.5301204819277,337.3493975903615,342.1686746987952,346.98795180722897,351.8072289156627,356.62650602409644,361.44578313253015,366.26506024096386,371.08433734939763,375.90361445783134,380.7228915662651,385.5421686746988,390.3614457831326,395.1807228915663,400.00000000000006,404.81927710843377,409.63855421686753,414.45783132530124,419.27710843373495,424.0963855421687,428.9156626506024,433.7349397590362,438.5542168674699,443.37349397590367,448.1927710843374,453.01204819277115,457.83132530120486,462.6506024096386,467.46987951807233,472.28915662650604,477.1084337349398,481.9277108433735,486.7469879518073,491.566265060241,496.38554216867476,501.20481927710847,506.02409638554224,510.84337349397595,515.6626506024097,520.4819277108434,525.3012048192771,530.1204819277109,534.9397590361447,539.7590361445783,544.5783132530121,549.3975903614459,554.2168674698796,559.0361445783133,563.855421686747,568.6746987951808,573.4939759036145,578.3132530120482,583.132530120482,587.9518072289158,592.7710843373494,597.5903614457832,602.4096385542169,607.2289156626507,612.0481927710844,616.8674698795181,621.6867469879519,626.5060240963855,631.3253012048193,636.1445783132531,640.9638554216868,645.7831325301205,650.6024096385543,655.421686746988,660.2409638554218,665.0602409638554,669.8795180722892,674.698795180723,679.5180722891566,684.3373493975904,689.1566265060242,693.9759036144579,698.7951807228916,703.6144578313254,708.4337349397591,713.2530120481929,718.0722891566265,722.8915662650603,727.7108433734941,732.5301204819277,737.3493975903615,742.1686746987953,746.987951807229,751.8072289156627,756.6265060240964,761.4457831325302,766.265060240964,771.0843373493976,775.9036144578314,780.7228915662652,785.5421686746988,790.3614457831326,795.1807228915663,800.0000000000001,804.8192771084338,809.6385542168675,814.4578313253013,819.2771084337351,824.0963855421687,828.9156626506025,833.7349397590363,838.5542168674699,843.3734939759037,848.1927710843374,853.0120481927712,857.8313253012049,862.6506024096386,867.4698795180724,872.2891566265062,877.1084337349398,881.9277108433736,886.7469879518073,891.566265060241,896.3855421686748,901.2048192771085,906.0240963855423,910.843373493976,915.6626506024097,920.4819277108435,925.3012048192772,930.1204819277109,934.9397590361447,939.7590361445784,944.5783132530121,949.3975903614459,954.2168674698796,959.0361445783134,963.855421686747,968.6746987951808,973.4939759036146,978.3132530120482,983.132530120482,987.9518072289158,992.7710843373495,997.5903614457832,1002.4096385542169,1007.2289156626507,1012.0481927710845,1016.8674698795181,1021.6867469879519,1026.5060240963855,1031.3253012048194,1036.144578313253,1040.9638554216867,1045.7831325301206,1050.6024096385543,1055.4216867469881,1060.2409638554218,1065.0602409638554,1069.8795180722893,1074.698795180723,1079.5180722891566,1084.3373493975905,1089.1566265060242,1093.9759036144578,1098.7951807228917,1103.6144578313254,1108.4337349397592,1113.2530120481929,1118.0722891566265,1122.8915662650604,1127.710843373494,1132.5301204819277,1137.3493975903616,1142.1686746987953,1146.987951807229,1151.8072289156628,1156.6265060240964,1161.4457831325303,1166.265060240964,1171.0843373493976,1175.9036144578315,1180.7228915662652,1185.5421686746988,1190.3614457831327,1195.1807228915663,1200.0],\"y\":[0.0,1.581599493905553e-8,9.065814109146043e-8,3.1046195633134546e-7,7.518842657559738e-7,1.3731253309128298e-6,2.0937893527514348e-6,2.8509224881566887e-6,3.6062640172715714e-6,4.341737663999772e-6,5.0526955734765635e-6,5.742202923557842e-6,6.41717636002642e-6,7.086050559777438e-6,7.75746753417822e-6,8.43960000847958e-6,9.139851760362359e-6,9.864772322694656e-6,0.000010620085405584765,0.000011410770068614396,0.000012241158833809957,0.00001311503270729004,0.000014035702807193346,0.000015006074150029021,0.00001602869054795664,0.000017105761444743283,0.000018239172473506647,0.000019430481945341872,0.00002068090562225505,0.000021991292144069204,0.000023362091458125277,0.00002479331859087659,0.000026284515122698943,0.000027834710781215245,0.000029442387639433143,0.00003110544946782085,0.00003282119881053248,0.00003458632429712628,0.0000363969005251505,0.00003824840252165396,0.00004013573629100046,0.00004205328627795147,0.00004399497973528083,0.0000459543670300528,0.00004792471592083175,0.0000498991168785499,0.000051870595705525655,0.00005383222912268996,0.000055777258716772965,0.0000576991987071265,0.00005959193340187106,0.0000614498009210813,0.00006326766069174592,0.00006504094326346445,0.00006676568205055822,0.00006843852757857907,0.00007005674562662614,0.00007161820126545476,0.00007312133117791665,0.00007456510682118649,0.00007594899097770712,0.00007727289008244159,0.0000785371044515818,0.00007974227821439539,0.00008088935040187032,0.00008197950830230505,0.00008301414387579188,0.00008399481373956835,0.00008492320300103876,0.00008580109302633106,0.00008663033308724427,0.00008741281572404176,0.00008815045559003388,0.00008884517150037771,0.00008949887138644175,0.00009011343985370544,0.00009069072805219575,0.00009123254559300405,0.00009174065428573399,0.00009221676354137291,0.00009266252741088878,0.00009307954346964092,0.00009346935421184837,0.00009383345238807575,0.00009417329254830509,0.00009449030970437697,0.00009478593278085373,0.00009506153173007146,0.00009531824312428752,0.00009555867246391369,0.00009581135562525325,0.00009621230698265305,0.00009689634053707962,0.00009776210212014779,0.00009865452911452584,0.00009953909608143168,0.00010042844112697607,0.00010137496863176157,0.00010248527239742377,0.00010377169927740168,0.00010516750451148798,0.0001065391757370537,0.00010761983600394805,0.0001083526612823553,0.00010899301248007645,0.00010963183957342776,0.00011012017691613723,0.00011045494900549051,0.00011084610269521003,0.00011128169069009497,0.00011166924820104659,0.00011193178633080509,0.0001120798725498771,0.00011229952959559575,0.0001127641565248388,0.00011339440831891398,0.00011401987781821014,0.0001143193083662065,0.00011421116788096204,0.00011423214002613016,0.00011509933577907194,0.00011673101636034422,0.00011883801001594752,0.0001213647752923767,0.0001241605874595778,0.00012699124193782583,0.00012975814510888956,0.00013242478271025294,0.0001349172582850997,0.00013718903053157327,0.00013924725430211195,0.00014109751710541566,0.00014273641078562066,0.00014417455755069236,0.0001454339429791407,0.00014653186400398585,0.00014748275233135967,0.00014830355959780827,0.00014900977553338344,0.000149615140682869,0.00015013241405317554,0.00015057514750150208,0.00015096349695994013,0.000151299388560717,0.0001514326676084111,0.00015095857705837835,0.00014955444983685045,0.00014735944579147913,0.00014577267375131544,0.0001449999384341755,0.00014407566182352393,0.0001425540154395708,0.0001412778138358267,0.00014072878782279033,0.00014006251785462213,0.0001388744515251382,0.00013759170370337777,0.00013643283772402448,0.0001349566544832571,0.00013297918702361846,0.00013103053830596585,0.00012963648438047296,0.00012836325721160734,0.00012688582330337944,0.00012548644554105502,0.0001248069948314845,0.0001246612959729635,0.00012521178860254475,0.00012659749640465406,0.00012839121383407886,0.0001303544168595483,0.00013249617990389908,0.00013468819791483415,0.00013676659882597874,0.00013871059585900562,0.00014052869009017072,0.00014217782816104794,0.00014363995570886614,0.00014494031056476578,0.0001460919555566746,0.00014709363404242565,0.00014795966400745267,0.00014871123000910567,0.00014935984558965464,0.00014991847703004708,0.00015040868485081193,0.00015065818305242036,0.00015019135434730487,0.00014872399509476656,0.00014661601950980162,0.000144854524920356,0.0001435744195369735,0.00014244241959479126,0.0001415734091489504,0.00014125848681389668,0.00014090655717677596,0.00013993486672488347,0.00013827686686831227,0.00013623869409101985,0.00013411650971295418,0.0001321731197271457,0.00013050027769108153,0.0001289357202870152,0.00012739451147207495,0.00012610030732836732,0.00012565482739185276,0.0001256649368274738,0.00012545951753941914,0.0001249421076580442,0.00012453653822267852,0.00012420801592313133,0.0001236294956280911,0.000122646262250794,0.00012155241730309576,0.00012064427809577563,0.00011984098189183366,0.00011955471923729208,0.00011994872942428918,0.00012027787933777767,0.00012012627621795504,0.0001199908271126816,0.00012043835337457692,0.00012098593201969601,0.00012174666672135076,0.0001234074968791658,0.00012555924948894146,0.00012779511282233553,0.00013020085614041008,0.0001326927371594422,0.00013503158948832483,0.00013718678156311864,0.00013921128388087536,0.00014105588367378365,0.00014267893903017453,0.0001441151308457489,0.0001453918193038818,0.00014650237169315535,0.0001474576423662494,0.00014828605396868282,0.00014900216834876526,0.0001496150967469321,0.00015015083933479935,0.00015050729236903564,0.00015023919487860531,0.000149045784432559,0.0001472133772866697,0.00014585621349937224,0.00014479219738263178,0.00014340044739967884,0.00014194110569898096],\"type\":\"scatter\",\"xaxis\":\"x4\",\"yaxis\":\"y4\"},{\"line\":{\"color\":\"#f7963b\",\"simplify\":true,\"width\":2},\"mode\":\"lines\",\"name\":\"bt_active\",\"opacity\":1,\"x\":[0.0,4.819277108433735,9.63855421686747,14.457831325301207,19.27710843373494,24.096385542168676,28.915662650602414,33.734939759036145,38.55421686746988,43.37349397590362,48.19277108433735,53.01204819277109,57.83132530120483,62.65060240963856,67.46987951807229,72.28915662650603,77.10843373493977,81.9277108433735,86.74698795180724,91.56626506024097,96.3855421686747,101.20481927710844,106.02409638554218,110.84337349397592,115.66265060240966,120.48192771084338,125.30120481927712,130.12048192771084,134.93975903614458,139.75903614457832,144.57831325301206,149.3975903614458,154.21686746987953,159.03614457831327,163.855421686747,168.67469879518075,173.49397590361448,178.31325301204822,183.13253012048193,187.95180722891567,192.7710843373494,197.59036144578315,202.40963855421688,207.22891566265062,212.04819277108436,216.8674698795181,221.68674698795184,226.50602409638557,231.3253012048193,236.14457831325302,240.96385542168676,245.7831325301205,250.60240963855424,255.42168674698797,260.2409638554217,265.06024096385545,269.87951807228916,274.6987951807229,279.51807228915663,284.3373493975904,289.1566265060241,293.9759036144579,298.7951807228916,303.61445783132535,308.43373493975906,313.2530120481928,318.07228915662654,322.89156626506025,327.710843373494,332.5301204819277,337.3493975903615,342.1686746987952,346.98795180722897,351.8072289156627,356.62650602409644,361.44578313253015,366.26506024096386,371.08433734939763,375.90361445783134,380.7228915662651,385.5421686746988,390.3614457831326,395.1807228915663,400.00000000000006,404.81927710843377,409.63855421686753,414.45783132530124,419.27710843373495,424.0963855421687,428.9156626506024,433.7349397590362,438.5542168674699,443.37349397590367,448.1927710843374,453.01204819277115,457.83132530120486,462.6506024096386,467.46987951807233,472.28915662650604,477.1084337349398,481.9277108433735,486.7469879518073,491.566265060241,496.38554216867476,501.20481927710847,506.02409638554224,510.84337349397595,515.6626506024097,520.4819277108434,525.3012048192771,530.1204819277109,534.9397590361447,539.7590361445783,544.5783132530121,549.3975903614459,554.2168674698796,559.0361445783133,563.855421686747,568.6746987951808,573.4939759036145,578.3132530120482,583.132530120482,587.9518072289158,592.7710843373494,597.5903614457832,602.4096385542169,607.2289156626507,612.0481927710844,616.8674698795181,621.6867469879519,626.5060240963855,631.3253012048193,636.1445783132531,640.9638554216868,645.7831325301205,650.6024096385543,655.421686746988,660.2409638554218,665.0602409638554,669.8795180722892,674.698795180723,679.5180722891566,684.3373493975904,689.1566265060242,693.9759036144579,698.7951807228916,703.6144578313254,708.4337349397591,713.2530120481929,718.0722891566265,722.8915662650603,727.7108433734941,732.5301204819277,737.3493975903615,742.1686746987953,746.987951807229,751.8072289156627,756.6265060240964,761.4457831325302,766.265060240964,771.0843373493976,775.9036144578314,780.7228915662652,785.5421686746988,790.3614457831326,795.1807228915663,800.0000000000001,804.8192771084338,809.6385542168675,814.4578313253013,819.2771084337351,824.0963855421687,828.9156626506025,833.7349397590363,838.5542168674699,843.3734939759037,848.1927710843374,853.0120481927712,857.8313253012049,862.6506024096386,867.4698795180724,872.2891566265062,877.1084337349398,881.9277108433736,886.7469879518073,891.566265060241,896.3855421686748,901.2048192771085,906.0240963855423,910.843373493976,915.6626506024097,920.4819277108435,925.3012048192772,930.1204819277109,934.9397590361447,939.7590361445784,944.5783132530121,949.3975903614459,954.2168674698796,959.0361445783134,963.855421686747,968.6746987951808,973.4939759036146,978.3132530120482,983.132530120482,987.9518072289158,992.7710843373495,997.5903614457832,1002.4096385542169,1007.2289156626507,1012.0481927710845,1016.8674698795181,1021.6867469879519,1026.5060240963855,1031.3253012048194,1036.144578313253,1040.9638554216867,1045.7831325301206,1050.6024096385543,1055.4216867469881,1060.2409638554218,1065.0602409638554,1069.8795180722893,1074.698795180723,1079.5180722891566,1084.3373493975905,1089.1566265060242,1093.9759036144578,1098.7951807228917,1103.6144578313254,1108.4337349397592,1113.2530120481929,1118.0722891566265,1122.8915662650604,1127.710843373494,1132.5301204819277,1137.3493975903616,1142.1686746987953,1146.987951807229,1151.8072289156628,1156.6265060240964,1161.4457831325303,1166.265060240964,1171.0843373493976,1175.9036144578315,1180.7228915662652,1185.5421686746988,1190.3614457831327,1195.1807228915663,1200.0],\"y\":[0.003,0.07426902458795437,1.4432408377020671,6.297683537446289,8.538556674901045,9.133314696486696,9.183146261871741,9.042883762314986,8.872653814226707,8.732088004425897,8.6282044466593,8.553854951705674,8.50112517448358,8.463803712115602,8.437345924300917,8.418491090271724,8.404919337641243,8.394989670082708,8.387546934433288,8.381781395818347,8.377127406918389,8.373190803785597,8.36969724110158,8.366455680682325,8.363332770377554,8.360234997283477,8.35709635406411,8.35386988880828,8.350521971615551,8.34702844753092,8.343372088235228,8.339540928861128,8.335527200082147,8.331326653081469,8.326938136393869,8.32236332646374,8.317606543587498,8.312674605726608,8.307576687393544,8.302324161504085,8.296930410205038,8.291410597188118,8.285781399478406,8.280060701421737,8.27426725765796,8.268420335172149,8.262539346902614,8.256643490693014,8.250751407507336,8.244880871783245,8.239048524719314,8.233269658422977,8.227558055518312,8.22192588539081,8.21638365506345,8.210940210027005,8.205602778361353,8.20037705025338,8.195267284516941,8.190276433856376,8.185406281246069,8.18065758076935,8.176030197418829,8.171523241576445,8.167135195063416,8.162864026707709,8.15870729627791,8.154662246360182,8.150725882309217,8.14689504079579,8.14316644771665,8.13953676633595,8.136002636477393,8.132560705311365,8.129207649562149,8.125940187181092,8.122755071991765,8.119649052739272,8.116618744694048,8.113660267465109,8.110768227604705,8.107932806520166,8.105131235955126,8.102302318284888,8.09926891269582,8.09549908455693,8.089367730834317,8.07592412239989,8.040812258067733,7.949945220278719,7.76936558392691,7.542058706315484,7.299759618545113,7.034983820185178,6.740351283884962,6.411847541480059,6.029662525421031,5.629646151077566,5.253300532309832,4.91638505257699,4.63378797614539,4.415364435438166,4.211895197984882,4.029467143296656,3.866441384384409,3.7392655156612262,3.606123350309348,3.489595384327126,3.3859877196957537,3.290453569939872,3.2177152884740345,3.147961265436833,3.065506206888211,2.986645040426066,2.913455089158201,2.8551605922341237,2.8433202594967444,2.802018008579628,2.755641451987585,2.661776677841599,2.565902375938512,2.469265521858034,2.379248358422056,2.299389767621,2.2213414701827454,2.1554553200061584,2.091495225517886,2.035691841670937,1.9865341978303008,1.9384450195211276,1.8995477801051694,1.859108963560315,1.8250993629030352,1.794588051071606,1.7646458929580995,1.7413875585835965,1.7148146344198971,1.6940121970746274,1.6737721488301853,1.654811295462606,1.6404481519495204,1.6209123667254797,1.6067605307355395,1.6009647622983434,1.6372049353634834,1.7198317626077682,1.8018488103168577,1.8145925222779637,1.8355315633319034,1.8763705605657957,1.9202992787191049,1.9243448876471716,1.9408369611497456,1.9641973074940635,1.9898238042844802,2.0120431783542463,2.051128996993855,2.1201231547247974,2.1560398577069084,2.169577202490087,2.173211409852553,2.1863659052855384,2.198996511315312,2.2001355918684,2.177919272046437,2.1430998730988824,2.091107555509513,2.041815970860649,1.9909269036693373,1.9479480818339738,1.9034969747275055,1.8656288761332183,1.832406104024356,1.79941262798122,1.7736892016506953,1.7453350992821717,1.7224509101136862,1.7010061487086103,1.680323436688585,1.664934868164684,1.645711617622073,1.6316810830527801,1.616847660381513,1.6029358743843063,1.5905892236992674,1.5916491275171947,1.6419307495071214,1.7202699778209571,1.7808768506805122,1.828023901126158,1.84566412890435,1.8741069898933636,1.8675630784547532,1.8625226309677931,1.8972169474417713,1.961161978823498,2.0015267733511886,2.0810415457812654,2.129586675729337,2.1506887647513353,2.163217519367909,2.1729647898067124,2.183045079777122,2.1810591080994635,2.1414819488481314,2.1351344786247552,2.14338774802005,2.146606453996089,2.151526855999947,2.1643297851326997,2.191324327581185,2.2131995849557944,2.220048070419879,2.2253039899497913,2.2247473780310694,2.184292328636154,2.170874032841939,2.1790141755613295,2.1913870498251984,2.1745922371562645,2.1587858766590426,2.15041419730731,2.111234003146985,2.0582019824750972,2.0111434364448497,1.9591962891261894,1.9150007793818296,1.8763654671210162,1.8399557699713553,1.8105647784195367,1.7783502519317829,1.7529135190704148,1.7283331038596548,1.7055775170929535,1.687869449385342,1.666866395692088,1.651586077754172,1.6347259634062965,1.6200079368901092,1.6084992036126824,1.5919119327189915,1.5863490744647524,1.6276222253284813,1.686724454089677,1.7518459590829119,1.7724610036825426,1.8149087429711441,1.866529275861384,1.8794623654613265,1.898896567708255],\"type\":\"scatter\",\"xaxis\":\"x4\",\"yaxis\":\"y4\"},{\"line\":{\"color\":\"#f7963b\",\"simplify\":true,\"width\":2},\"mode\":\"lines\",\"name\":\"bt_inactive\",\"opacity\":0.1,\"x\":[0.0,4.819277108433735,9.63855421686747,14.457831325301207,19.27710843373494,24.096385542168676,28.915662650602414,33.734939759036145,38.55421686746988,43.37349397590362,48.19277108433735,53.01204819277109,57.83132530120483,62.65060240963856,67.46987951807229,72.28915662650603,77.10843373493977,81.9277108433735,86.74698795180724,91.56626506024097,96.3855421686747,101.20481927710844,106.02409638554218,110.84337349397592,115.66265060240966,120.48192771084338,125.30120481927712,130.12048192771084,134.93975903614458,139.75903614457832,144.57831325301206,149.3975903614458,154.21686746987953,159.03614457831327,163.855421686747,168.67469879518075,173.49397590361448,178.31325301204822,183.13253012048193,187.95180722891567,192.7710843373494,197.59036144578315,202.40963855421688,207.22891566265062,212.04819277108436,216.8674698795181,221.68674698795184,226.50602409638557,231.3253012048193,236.14457831325302,240.96385542168676,245.7831325301205,250.60240963855424,255.42168674698797,260.2409638554217,265.06024096385545,269.87951807228916,274.6987951807229,279.51807228915663,284.3373493975904,289.1566265060241,293.9759036144579,298.7951807228916,303.61445783132535,308.43373493975906,313.2530120481928,318.07228915662654,322.89156626506025,327.710843373494,332.5301204819277,337.3493975903615,342.1686746987952,346.98795180722897,351.8072289156627,356.62650602409644,361.44578313253015,366.26506024096386,371.08433734939763,375.90361445783134,380.7228915662651,385.5421686746988,390.3614457831326,395.1807228915663,400.00000000000006,404.81927710843377,409.63855421686753,414.45783132530124,419.27710843373495,424.0963855421687,428.9156626506024,433.7349397590362,438.5542168674699,443.37349397590367,448.1927710843374,453.01204819277115,457.83132530120486,462.6506024096386,467.46987951807233,472.28915662650604,477.1084337349398,481.9277108433735,486.7469879518073,491.566265060241,496.38554216867476,501.20481927710847,506.02409638554224,510.84337349397595,515.6626506024097,520.4819277108434,525.3012048192771,530.1204819277109,534.9397590361447,539.7590361445783,544.5783132530121,549.3975903614459,554.2168674698796,559.0361445783133,563.855421686747,568.6746987951808,573.4939759036145,578.3132530120482,583.132530120482,587.9518072289158,592.7710843373494,597.5903614457832,602.4096385542169,607.2289156626507,612.0481927710844,616.8674698795181,621.6867469879519,626.5060240963855,631.3253012048193,636.1445783132531,640.9638554216868,645.7831325301205,650.6024096385543,655.421686746988,660.2409638554218,665.0602409638554,669.8795180722892,674.698795180723,679.5180722891566,684.3373493975904,689.1566265060242,693.9759036144579,698.7951807228916,703.6144578313254,708.4337349397591,713.2530120481929,718.0722891566265,722.8915662650603,727.7108433734941,732.5301204819277,737.3493975903615,742.1686746987953,746.987951807229,751.8072289156627,756.6265060240964,761.4457831325302,766.265060240964,771.0843373493976,775.9036144578314,780.7228915662652,785.5421686746988,790.3614457831326,795.1807228915663,800.0000000000001,804.8192771084338,809.6385542168675,814.4578313253013,819.2771084337351,824.0963855421687,828.9156626506025,833.7349397590363,838.5542168674699,843.3734939759037,848.1927710843374,853.0120481927712,857.8313253012049,862.6506024096386,867.4698795180724,872.2891566265062,877.1084337349398,881.9277108433736,886.7469879518073,891.566265060241,896.3855421686748,901.2048192771085,906.0240963855423,910.843373493976,915.6626506024097,920.4819277108435,925.3012048192772,930.1204819277109,934.9397590361447,939.7590361445784,944.5783132530121,949.3975903614459,954.2168674698796,959.0361445783134,963.855421686747,968.6746987951808,973.4939759036146,978.3132530120482,983.132530120482,987.9518072289158,992.7710843373495,997.5903614457832,1002.4096385542169,1007.2289156626507,1012.0481927710845,1016.8674698795181,1021.6867469879519,1026.5060240963855,1031.3253012048194,1036.144578313253,1040.9638554216867,1045.7831325301206,1050.6024096385543,1055.4216867469881,1060.2409638554218,1065.0602409638554,1069.8795180722893,1074.698795180723,1079.5180722891566,1084.3373493975905,1089.1566265060242,1093.9759036144578,1098.7951807228917,1103.6144578313254,1108.4337349397592,1113.2530120481929,1118.0722891566265,1122.8915662650604,1127.710843373494,1132.5301204819277,1137.3493975903616,1142.1686746987953,1146.987951807229,1151.8072289156628,1156.6265060240964,1161.4457831325303,1166.265060240964,1171.0843373493976,1175.9036144578315,1180.7228915662652,1185.5421686746988,1190.3614457831327,1195.1807228915663,1200.0],\"y\":[0.0,4.1042541423199723e-7,0.000011376003383230213,0.0003330206948783693,0.0029054742476271166,0.007793866169183285,0.011853186609973539,0.014195512364428219,0.01530532279650953,0.01569919664033251,0.015705225288023022,0.015512869398393213,0.015230211346571041,0.014918590252774477,0.014611986716292963,0.014328095649063597,0.014074881217923088,0.013854570590036202,0.013666128737706219,0.013506798868324897,0.013373053197101512,0.01326116613762572,0.01316754470559123,0.013088903756698479,0.013022343738412144,0.012965369058178775,0.012915872112078869,0.012872099213221175,0.01283260870831922,0.012796227568230893,0.012762010076844113,0.012729200505475699,0.012697200555846277,0.01266554167978982,0.012633861995197988,0.012601887315923365,0.012569415730226087,0.012536305151608584,0.012502463297006813,0.012467839600586172,0.012432418634557657,0.012396214674179066,0.012359267108321364,0.012321636457447811,0.01228340081646472,0.012244652590025731,0.01220549543205977,0.012166041339133979,0.012126407878345857,0.012086715554447344,0.012047085337717893,0.012007636383904128,0.01196848398087591,0.011929737754431485,0.011891500159116265,0.011853865270397269,0.01181691788348158,0.011780732912801437,0.011745375075813592,0.011710898836082976,0.011677348574127427,0.011644758950382696,0.01161315542283814,0.011582554882138345,0.011552966368871972,0.011524391840947763,0.011496826962959124,0.011470261893873481,0.011444682053919743,0.01142006885592926,0.011396400390434885,0.011373652057440913,0.011351797140917752,0.011330807324814838,0.0113106531519556,0.011291304430195217,0.011272730595329851,0.011254901052008269,0.011237785545430803,0.011221354706597112,0.011205581178637887,0.011190442527389982,0.011175929571197668,0.011162071306127551,0.011149011264655773,0.011137244939128347,0.01112836370060122,0.01112737114013685,0.01114956835558712,0.011237539405755358,0.01147805378326956,0.011964725282079291,0.012836990397839884,0.014492494158140792,0.017791718980519365,0.024142018214449917,0.034678536776214026,0.04681412006194954,0.055350298623596784,0.05857856701118191,0.057543567190517175,0.0540440629872029,0.049423922757727126,0.044307086228932445,0.03912912315689385,0.034211580869663076,0.029769025105246063,0.02579646408777683,0.022290398674122757,0.0192330445013009,0.016588402658908572,0.014320987907480718,0.012381889530484098,0.01071208710989559,0.009272856108757277,0.008035143231230234,0.006973837637585416,0.006080740279095391,0.005320191155452737,0.004667328810990637,0.004090838213581857,0.0035831619930511835,0.003137949318267767,0.002746989278667678,0.002405209666473189,0.0021064800592303133,0.0018456736410018787,0.0016179772017139524,0.0014190861510352858,0.0012456903769737324,0.001094102222194367,0.0009617676856643509,0.0008461218411426663,0.0007449558543521416,0.0006565698467812077,0.0005791211812456784,0.0005113752059626349,0.000451991371887964,0.00039991454189595977,0.00035428270181644836,0.0003141803820256179,0.00027901358004859894,0.0002480626997607488,0.00022080734911110152,0.00019693931471824805,0.00017635262879356513,0.00015892316039504213,0.00014394190851274398,0.00013022869425452846,0.00011806287540718958,0.00010759116473774126,0.00009865942157246633,0.00009052036985634872,0.00008332166452363371,0.0000771351286903785,0.00007181570002344502,0.00006709580121190416,0.00006301109113352988,0.00005971740225245877,0.00005702739579985771,0.00005468841776377417,0.00005260587021209303,0.000050900697490157676,0.000049584136125691284,0.00004847993340864291,0.00004741036225565311,0.00004637459497836399,0.00004519058304490238,0.00004390649046974511,0.00004257661323372364,0.00004123855657253851,0.000039888563494496955,0.00003854428190932343,0.000037246705577682776,0.00003597238690726382,0.00003474682314348716,0.000033568673817014474,0.00003243901414603934,0.00003137163372723982,0.000030349045869347624,0.000029392371344986437,0.000028486430930830267,0.000027633600447440414,0.00002683983173279986,0.00002608874389790835,0.000025370151111208357,0.000024741550396928957,0.000024305667850442133,0.000024096356056248326,0.00002394609328330828,0.000023823195957079206,0.000023684234108163813,0.000023637156465461106,0.000023567593747747393,0.000023455078072401484,0.000023458119518464273,0.00002365856981628975,0.000023907723930025843,0.000024321369790544255,0.00002482256127015592,0.000025348241356466844,0.000025911098998908368,0.000026529644808338298,0.000027211533181475066,0.000027919793468176913,0.00002838773205329336,0.000028828350670778882,0.000029336212736894888,0.000029832655219687746,0.000030277289319652408,0.00003069360448118647,0.00003122320819908267,0.00003185125318174381,0.00003248038077799426,0.00003310495317796606,0.00003382985436545125,0.00003425784153382758,0.00003455797709606472,0.00003490500949932733,0.00003538124302457645,0.00003570040931839623,0.00003586596170488026,0.00003604364193079125,0.000036044179547128205,0.0000357588612370611,0.00003532565548566159,0.00003478266120614817,0.000034127060447739,0.00003341936478641169,0.000032672116464212875,0.00003191152695547965,0.0000311311283169272,0.00003034990408741426,0.000029588115927544157,0.0000288308810004204,0.000028103330745994823,0.00002739548943726249,0.000026716636101587612,0.0000260707103675709,0.000025448009136347082,0.000024866939623772905,0.00002429794032277967,0.00002376909977842669,0.00002341432835314431,0.000023219810016907054,0.00002313688954140247,0.000022975468959034165,0.00002288247206346849,0.00002295160029919472,0.000022986452745270903],\"type\":\"scatter\",\"xaxis\":\"x4\",\"yaxis\":\"y4\"},{\"line\":{\"color\":\"#f7963b\",\"simplify\":true,\"width\":2},\"mode\":\"lines\",\"name\":\"bt_dead\",\"opacity\":0.1,\"x\":[0.0,4.819277108433735,9.63855421686747,14.457831325301207,19.27710843373494,24.096385542168676,28.915662650602414,33.734939759036145,38.55421686746988,43.37349397590362,48.19277108433735,53.01204819277109,57.83132530120483,62.65060240963856,67.46987951807229,72.28915662650603,77.10843373493977,81.9277108433735,86.74698795180724,91.56626506024097,96.3855421686747,101.20481927710844,106.02409638554218,110.84337349397592,115.66265060240966,120.48192771084338,125.30120481927712,130.12048192771084,134.93975903614458,139.75903614457832,144.57831325301206,149.3975903614458,154.21686746987953,159.03614457831327,163.855421686747,168.67469879518075,173.49397590361448,178.31325301204822,183.13253012048193,187.95180722891567,192.7710843373494,197.59036144578315,202.40963855421688,207.22891566265062,212.04819277108436,216.8674698795181,221.68674698795184,226.50602409638557,231.3253012048193,236.14457831325302,240.96385542168676,245.7831325301205,250.60240963855424,255.42168674698797,260.2409638554217,265.06024096385545,269.87951807228916,274.6987951807229,279.51807228915663,284.3373493975904,289.1566265060241,293.9759036144579,298.7951807228916,303.61445783132535,308.43373493975906,313.2530120481928,318.07228915662654,322.89156626506025,327.710843373494,332.5301204819277,337.3493975903615,342.1686746987952,346.98795180722897,351.8072289156627,356.62650602409644,361.44578313253015,366.26506024096386,371.08433734939763,375.90361445783134,380.7228915662651,385.5421686746988,390.3614457831326,395.1807228915663,400.00000000000006,404.81927710843377,409.63855421686753,414.45783132530124,419.27710843373495,424.0963855421687,428.9156626506024,433.7349397590362,438.5542168674699,443.37349397590367,448.1927710843374,453.01204819277115,457.83132530120486,462.6506024096386,467.46987951807233,472.28915662650604,477.1084337349398,481.9277108433735,486.7469879518073,491.566265060241,496.38554216867476,501.20481927710847,506.02409638554224,510.84337349397595,515.6626506024097,520.4819277108434,525.3012048192771,530.1204819277109,534.9397590361447,539.7590361445783,544.5783132530121,549.3975903614459,554.2168674698796,559.0361445783133,563.855421686747,568.6746987951808,573.4939759036145,578.3132530120482,583.132530120482,587.9518072289158,592.7710843373494,597.5903614457832,602.4096385542169,607.2289156626507,612.0481927710844,616.8674698795181,621.6867469879519,626.5060240963855,631.3253012048193,636.1445783132531,640.9638554216868,645.7831325301205,650.6024096385543,655.421686746988,660.2409638554218,665.0602409638554,669.8795180722892,674.698795180723,679.5180722891566,684.3373493975904,689.1566265060242,693.9759036144579,698.7951807228916,703.6144578313254,708.4337349397591,713.2530120481929,718.0722891566265,722.8915662650603,727.7108433734941,732.5301204819277,737.3493975903615,742.1686746987953,746.987951807229,751.8072289156627,756.6265060240964,761.4457831325302,766.265060240964,771.0843373493976,775.9036144578314,780.7228915662652,785.5421686746988,790.3614457831326,795.1807228915663,800.0000000000001,804.8192771084338,809.6385542168675,814.4578313253013,819.2771084337351,824.0963855421687,828.9156626506025,833.7349397590363,838.5542168674699,843.3734939759037,848.1927710843374,853.0120481927712,857.8313253012049,862.6506024096386,867.4698795180724,872.2891566265062,877.1084337349398,881.9277108433736,886.7469879518073,891.566265060241,896.3855421686748,901.2048192771085,906.0240963855423,910.843373493976,915.6626506024097,920.4819277108435,925.3012048192772,930.1204819277109,934.9397590361447,939.7590361445784,944.5783132530121,949.3975903614459,954.2168674698796,959.0361445783134,963.855421686747,968.6746987951808,973.4939759036146,978.3132530120482,983.132530120482,987.9518072289158,992.7710843373495,997.5903614457832,1002.4096385542169,1007.2289156626507,1012.0481927710845,1016.8674698795181,1021.6867469879519,1026.5060240963855,1031.3253012048194,1036.144578313253,1040.9638554216867,1045.7831325301206,1050.6024096385543,1055.4216867469881,1060.2409638554218,1065.0602409638554,1069.8795180722893,1074.698795180723,1079.5180722891566,1084.3373493975905,1089.1566265060242,1093.9759036144578,1098.7951807228917,1103.6144578313254,1108.4337349397592,1113.2530120481929,1118.0722891566265,1122.8915662650604,1127.710843373494,1132.5301204819277,1137.3493975903616,1142.1686746987953,1146.987951807229,1151.8072289156628,1156.6265060240964,1161.4457831325303,1166.265060240964,1171.0843373493976,1175.9036144578315,1180.7228915662652,1185.5421686746988,1190.3614457831327,1195.1807228915663,1200.0],\"y\":[0.0,2.2840049657707483e-9,6.884953825454956e-8,2.0874051309846316e-6,0.0000286768226409006,0.00012907890197908333,0.0003034073575001117,0.0005096722022328549,0.0007130389080591684,0.0008953789515969514,0.0010498715059276231,0.0011757786776143853,0.0012753035671096591,0.001351874830550306,0.0014092352108129444,0.0014509735170044422,0.0014803036849554906,0.0014999819348720698,0.0015122997537692794,0.0015191163918969039,0.0015219095690210157,0.0015218320262750092,0.0015197669857551779,0.0015163788958171384,0.0015121578528158994,0.001507457284360044,0.0015025251560615938,0.001497529314755642,0.0014925777302278206,0.0014877344253526098,0.0014830318436108599,0.0014784803268017934,0.0014740752854517033,0.0014698025525600935,0.0014656423250747556,0.0014615720204276146,0.0014575683089406554,0.0014536085269550515,0.0014496716294192726,0.0014457388033146477,0.0014417938334991792,0.001437823289130219,0.0014338165806957333,0.0014297659238822877,0.001425666236207137,0.001421514984840363,0.0014173119987490614,0.0014130592547107726,0.0014087606444457633,0.0014044217287518313,0.0014000494837907084,0.001395652044324202,0.001391238448532878,0.0013868183889205468,0.0013824019736107768,0.001377999502017919,0.0013736212584024286,0.001369277326207995,0.0013649774253576637,0.001360730773901813,0.0013565459746128245,0.001352430926356638,0.0013483927593806915,0.0013444377930713714,0.0013405715142705116,0.0013367985739074035,0.0013331227994981254,0.001329547220977588,0.0013260741073465533,0.0013227050117174672,0.0013194408225096596,0.001316281818757747,0.0013132277277396259,0.00131027778338867,0.0013074307842201882,0.0013046851497752593,0.001302038974887454,0.0012994900814839304,0.001297036068364384,0.001294674361113494,0.0012924022689389356,0.0012902170686620827,0.0012881161763534134,0.0012860975903140055,0.001284161171878328,0.0012823125327748868,0.0012805750907995113,0.001279027684145319,0.0012779198349326777,0.0012779956729907218,0.0012811534634502397,0.0012908261562428387,0.0013118904878969136,0.0013533659457636025,0.0014348637707275926,0.0015952050024814679,0.001894575295787905,0.0023736094701582973,0.0029783020440319503,0.0035925810173982765,0.004119197595636279,0.004507259349284352,0.0047477579088731235,0.004850790736115587,0.004834658108142921,0.004722102769057798,0.004537248568163211,0.0043018255091060225,0.004033675103551176,0.0037474168387047566,0.00345455065471612,0.003163992135208608,0.0028822001642395366,0.0026135209277219993,0.002360573061602459,0.0021248868475640115,0.001907122914347555,0.00170763457635611,0.0015262238774744511,0.001362156375282418,0.0012142096927203695,0.0010810294075721855,0.000961371414446643,0.0008540577009593542,0.0007579818708994133,0.0006721188876436156,0.0005955104747033242,0.0005272628223497405,0.00046654812194851103,0.00041260537937125557,0.00036473505950138633,0.00032229772272252574,0.0002847125450087368,0.0002514527198010878,0.00022204277898509896,0.00019605424073366757,0.00017310239699725173,0.00015284282578538296,0.0001349673977536341,0.00011920159346499308,0.00010530074499474509,0.00009304743496596417,0.00008224849584164281,0.00007273217729120763,0.00006434664956242895,0.00005696415797579718,0.00005047599880331706,0.00004478498313009493,0.000039789585867550235,0.0000353960009777234,0.000031534258217128614,0.000028145684128079974,0.000025171857175682315,0.000022556985384031162,0.000020259174620247458,0.000018243539148694583,0.000016475416347914408,0.000014923619038000027,0.000013566169347382702,0.000012382884928110691,0.000011354090698211072,0.000010458004174796902,9.678414220763615e-6,9.00271324750016e-6,8.420229311387738e-6,7.91572598505468e-6,7.477395032564853e-6,7.092549810192914e-6,6.7493041665521545e-6,6.439154732757114e-6,6.156050626575096e-6,5.895083728603443e-6,5.652431271558459e-6,5.425496168025116e-6,5.212261352743832e-6,5.011094004642855e-6,4.820842271642644e-6,4.640633780776791e-6,4.469806853011563e-6,4.307798832036207e-6,4.154195558894906e-6,4.008673600437287e-6,3.870901738903291e-6,3.740627602998028e-6,3.6175802403715584e-6,3.501350253771526e-6,3.3915744860987956e-6,3.290182160646087e-6,3.199805731574245e-6,3.1217892245824218e-6,3.0545689940745765e-6,2.996134109373345e-6,2.945999166561447e-6,2.903469500065895e-6,2.8662366341117494e-6,2.834219778083153e-6,2.8098736682542303e-6,2.793902189081363e-6,2.7873160921850444e-6,2.7908805043779197e-6,2.8041266835175586e-6,2.8255598912728975e-6,2.854811461745599e-6,2.8916595946686495e-6,2.936472460629148e-6,2.984818600996792e-6,3.033524959042014e-6,3.0831934199467884e-6,3.134410101349331e-6,3.1860518242227214e-6,3.2373515665393355e-6,3.2888457242558163e-6,3.3429666347620932e-6,3.4002803440876765e-6,3.459872181658318e-6,3.522647695185865e-6,3.5864739565393968e-6,3.6457952451390065e-6,3.7012438445217507e-6,3.7550649410143026e-6,3.8080328539186223e-6,3.856274073775992e-6,3.89975295734098e-6,3.937823895067283e-6,3.96634058852077e-6,3.982731536820944e-6,3.986702524390893e-6,3.97821248595342e-6,3.957726922258386e-6,3.926466471918807e-6,3.8857995362286855e-6,3.836959735697275e-6,3.781193107591084e-6,3.719867887797282e-6,3.6541826833952036e-6,3.5852144500107007e-6,3.51399082191147e-6,3.4414157972927005e-6,3.368303032906314e-6,3.2953168665727654e-6,3.2230635455882495e-6,3.151959436276132e-6,3.0820607228738125e-6,3.0156534611081414e-6,2.955115257760991e-6,2.9027485442028103e-6,2.8567068279626097e-6,2.8159497890778454e-6,2.782064739788011e-6,2.7551713275308747e-6],\"type\":\"scatter\",\"xaxis\":\"x4\",\"yaxis\":\"y4\"},{\"line\":{\"color\":\"#3b82f6\",\"simplify\":true,\"width\":2},\"mode\":\"lines\",\"name\":\"ri_active\",\"opacity\":1,\"x\":[0.0,4.819277108433735,9.63855421686747,14.457831325301207,19.27710843373494,24.096385542168676,28.915662650602414,33.734939759036145,38.55421686746988,43.37349397590362,48.19277108433735,53.01204819277109,57.83132530120483,62.65060240963856,67.46987951807229,72.28915662650603,77.10843373493977,81.9277108433735,86.74698795180724,91.56626506024097,96.3855421686747,101.20481927710844,106.02409638554218,110.84337349397592,115.66265060240966,120.48192771084338,125.30120481927712,130.12048192771084,134.93975903614458,139.75903614457832,144.57831325301206,149.3975903614458,154.21686746987953,159.03614457831327,163.855421686747,168.67469879518075,173.49397590361448,178.31325301204822,183.13253012048193,187.95180722891567,192.7710843373494,197.59036144578315,202.40963855421688,207.22891566265062,212.04819277108436,216.8674698795181,221.68674698795184,226.50602409638557,231.3253012048193,236.14457831325302,240.96385542168676,245.7831325301205,250.60240963855424,255.42168674698797,260.2409638554217,265.06024096385545,269.87951807228916,274.6987951807229,279.51807228915663,284.3373493975904,289.1566265060241,293.9759036144579,298.7951807228916,303.61445783132535,308.43373493975906,313.2530120481928,318.07228915662654,322.89156626506025,327.710843373494,332.5301204819277,337.3493975903615,342.1686746987952,346.98795180722897,351.8072289156627,356.62650602409644,361.44578313253015,366.26506024096386,371.08433734939763,375.90361445783134,380.7228915662651,385.5421686746988,390.3614457831326,395.1807228915663,400.00000000000006,404.81927710843377,409.63855421686753,414.45783132530124,419.27710843373495,424.0963855421687,428.9156626506024,433.7349397590362,438.5542168674699,443.37349397590367,448.1927710843374,453.01204819277115,457.83132530120486,462.6506024096386,467.46987951807233,472.28915662650604,477.1084337349398,481.9277108433735,486.7469879518073,491.566265060241,496.38554216867476,501.20481927710847,506.02409638554224,510.84337349397595,515.6626506024097,520.4819277108434,525.3012048192771,530.1204819277109,534.9397590361447,539.7590361445783,544.5783132530121,549.3975903614459,554.2168674698796,559.0361445783133,563.855421686747,568.6746987951808,573.4939759036145,578.3132530120482,583.132530120482,587.9518072289158,592.7710843373494,597.5903614457832,602.4096385542169,607.2289156626507,612.0481927710844,616.8674698795181,621.6867469879519,626.5060240963855,631.3253012048193,636.1445783132531,640.9638554216868,645.7831325301205,650.6024096385543,655.421686746988,660.2409638554218,665.0602409638554,669.8795180722892,674.698795180723,679.5180722891566,684.3373493975904,689.1566265060242,693.9759036144579,698.7951807228916,703.6144578313254,708.4337349397591,713.2530120481929,718.0722891566265,722.8915662650603,727.7108433734941,732.5301204819277,737.3493975903615,742.1686746987953,746.987951807229,751.8072289156627,756.6265060240964,761.4457831325302,766.265060240964,771.0843373493976,775.9036144578314,780.7228915662652,785.5421686746988,790.3614457831326,795.1807228915663,800.0000000000001,804.8192771084338,809.6385542168675,814.4578313253013,819.2771084337351,824.0963855421687,828.9156626506025,833.7349397590363,838.5542168674699,843.3734939759037,848.1927710843374,853.0120481927712,857.8313253012049,862.6506024096386,867.4698795180724,872.2891566265062,877.1084337349398,881.9277108433736,886.7469879518073,891.566265060241,896.3855421686748,901.2048192771085,906.0240963855423,910.843373493976,915.6626506024097,920.4819277108435,925.3012048192772,930.1204819277109,934.9397590361447,939.7590361445784,944.5783132530121,949.3975903614459,954.2168674698796,959.0361445783134,963.855421686747,968.6746987951808,973.4939759036146,978.3132530120482,983.132530120482,987.9518072289158,992.7710843373495,997.5903614457832,1002.4096385542169,1007.2289156626507,1012.0481927710845,1016.8674698795181,1021.6867469879519,1026.5060240963855,1031.3253012048194,1036.144578313253,1040.9638554216867,1045.7831325301206,1050.6024096385543,1055.4216867469881,1060.2409638554218,1065.0602409638554,1069.8795180722893,1074.698795180723,1079.5180722891566,1084.3373493975905,1089.1566265060242,1093.9759036144578,1098.7951807228917,1103.6144578313254,1108.4337349397592,1113.2530120481929,1118.0722891566265,1122.8915662650604,1127.710843373494,1132.5301204819277,1137.3493975903616,1142.1686746987953,1146.987951807229,1151.8072289156628,1156.6265060240964,1161.4457831325303,1166.265060240964,1171.0843373493976,1175.9036144578315,1180.7228915662652,1185.5421686746988,1190.3614457831327,1195.1807228915663,1200.0],\"y\":[0.003,0.038990080972435594,0.4109312745772244,1.4570548326184412,1.8557060896589588,1.9067414691899907,1.888983080136446,1.8610857413084803,1.8385724525053477,1.8234175754552977,1.8139041706629,1.8081906369875056,1.8049409472978049,1.8032460905645094,1.8024904789166878,1.8022577925995962,1.8022694917377753,1.8023434839822527,1.8023652866877706,1.802267424196306,1.8020145715734772,1.8015928576635687,1.8010022314693148,1.8002510936896847,1.7993525960572714,1.7983221572440966,1.7971758549157033,1.7959294388822364,1.794597776120517,1.793194588867336,1.791732385228324,1.790222510415009,1.7886752679450284,1.7871000756464346,1.785505632485565,1.7839000801923506,1.7822911492538251,1.7806862827610757,1.779092734343705,1.7775176384005609,1.7759680523217634,1.7744509715922339,1.772973319695621,1.7715419156578327,1.7701634228897607,1.7688442836791505,1.7675906441884066,1.7664082750810843,1.7653024928793628,1.7642780868264332,1.7633392554073453,1.7624895558185445,1.7617318686484031,1.761068378935494,1.7605005737047748,1.7600292551318342,1.7596545677166089,1.7593760372974911,1.7591926194139371,1.7591027544160867,1.7591044267909437,1.7591952263848394,1.7593724095060217,1.7596329582466526,1.7599736367340106,1.760391043377945,1.7608816585056841,1.7614418870540236,1.762068096216747,1.7627566481204964,1.7635039277258646,1.7643063662214766,1.765160460189016,1.7660627867370906,1.767010014545559,1.767998910092941,1.7690263366067525,1.7700892386588434,1.7711845926188077,1.7723092671712055,1.7734596334778256,1.7746304538199327,1.7758116367930934,1.7769785515422714,1.77806255628927,1.7788598915169136,1.778746784066885,1.7757855836184688,1.7639674677815727,1.7254165118822957,1.6216384133164012,1.4584232924620402,1.280949222318982,1.1027970339469468,0.9331117730572724,0.7802954861876401,0.6484799520016287,0.5354695560025855,0.44095929298071057,0.36214315876929315,0.29658227873067744,0.2432093075834465,0.19963553648173812,0.16406119891278764,0.1347908488508279,0.11062553841864343,0.09095147625782708,0.07477406273858947,0.061449933804963074,0.05041574583019663,0.04143452658125914,0.033993527663615276,0.027916432638863,0.022905666827254603,0.018805330024807054,0.015392772999079868,0.012622493187540362,0.010352887282766073,0.008484108392220583,0.006962865829982711,0.0056964290109996155,0.00466444135532662,0.0038107416514944967,0.003112638939621246,0.0025427736345424714,0.0020741198393094845,0.0016940466421775918,0.0013813444437964914,0.0011267123018956077,0.0009186865734070882,0.0007483933173797883,0.0006103825894086129,0.0004971121421870061,0.0004051139479700584,0.0003298705709995445,0.00026848139799850144,0.00021870954043170818,0.0001779427852623998,0.00014489972984409733,0.00011786408819266527,0.000095863042225084,0.00007800530988034584,0.00006340458484026682,0.00005156257829698799,0.0000419306711015764,0.00003412307552527254,0.00002778746479102305,0.00002262348554353456,0.000018390295582696826,0.000014961799882101878,0.000012176023459516414,9.903062126071133e-6,8.048522735868017e-6,6.549287437100344e-6,5.3283424257484725e-6,4.331208546047601e-6,3.5218426213463745e-6,2.866656183623166e-6,2.3338791135350616e-6,1.9002313797042556e-6,1.5466452624364528e-6,1.2587060531707876e-6,1.024418701378142e-6,8.340244537666657e-7,6.783316081015457e-7,5.521578103546515e-7,4.485825446873569e-7,3.6431883038671306e-7,2.9578011413133596e-7,2.3994569699907905e-7,1.947515949897284e-7,1.5792984519082615e-7,1.280987906078898e-7,1.0386006377098873e-7,8.417870327961944e-8,6.826249023017408e-8,5.5315692547726336e-8,4.484305209620085e-8,3.6332707724892485e-8,2.9434415747935483e-8,2.3854152832400885e-8,1.9320183604357736e-8,1.5656006902169286e-8,1.2678788384483072e-8,1.0267729280752e-8,8.31501662067344e-9,6.738599967532943e-9,5.466111441173879e-9,4.434539630261131e-9,3.595955423793838e-9,2.9145575418608997e-9,2.362446811856821e-9,1.914998305044564e-9,1.5509596634219e-9,1.256823136150432e-9,1.0193752675330021e-9,8.267136732626485e-10,6.70867338006222e-10,5.446895294265157e-10,4.4208064917822857e-10,3.586994430509994e-10,2.911000789499153e-10,2.3628057223329154e-10,1.9183988912803617e-10,1.5553638811651477e-10,1.2612831200243293e-10,1.0231124966203019e-10,8.298779657339722e-11,6.731870335937462e-11,5.461515341867552e-11,4.43167640614236e-11,3.597147425218238e-11,2.920288705041779e-11,2.3706350136705663e-11,1.9249162439245506e-11,1.5613316401449805e-11,1.2658172583847571e-11,1.0268393544559886e-11,8.330684017715738e-12,6.757589801709981e-12,5.4788563917410466e-12,4.442572563219674e-12,3.6002455871367752e-12,2.9150182147161304e-12,2.358869266496767e-12,1.9088424052439377e-12,1.5437095650156354e-12,1.2486155314049722e-12,1.0095515072334821e-12,8.161456128702027e-13,6.598958845052764e-13,5.333617436776115e-13,4.3120044498198957e-13,3.4847204229334766e-13,2.816209675610451e-13,2.2761073025072017e-13,1.8390828006787592e-13,1.4863751262876067e-13,1.200888861557439e-13,9.703239318892952e-14,7.839547861101544e-14,6.333188961910573e-14,5.1217796853824024e-14,4.143370732059108e-14,3.353314255856249e-14,2.7115280780356656e-14,2.1933837046591477e-14,1.774978137139725e-14,1.435529076524071e-14,1.1609971158255022e-14],\"type\":\"scatter\",\"xaxis\":\"x4\",\"yaxis\":\"y4\"},{\"line\":{\"color\":\"#3b82f6\",\"simplify\":true,\"width\":2},\"mode\":\"lines\",\"name\":\"ri_inactive\",\"opacity\":0.1,\"x\":[0.0,4.819277108433735,9.63855421686747,14.457831325301207,19.27710843373494,24.096385542168676,28.915662650602414,33.734939759036145,38.55421686746988,43.37349397590362,48.19277108433735,53.01204819277109,57.83132530120483,62.65060240963856,67.46987951807229,72.28915662650603,77.10843373493977,81.9277108433735,86.74698795180724,91.56626506024097,96.3855421686747,101.20481927710844,106.02409638554218,110.84337349397592,115.66265060240966,120.48192771084338,125.30120481927712,130.12048192771084,134.93975903614458,139.75903614457832,144.57831325301206,149.3975903614458,154.21686746987953,159.03614457831327,163.855421686747,168.67469879518075,173.49397590361448,178.31325301204822,183.13253012048193,187.95180722891567,192.7710843373494,197.59036144578315,202.40963855421688,207.22891566265062,212.04819277108436,216.8674698795181,221.68674698795184,226.50602409638557,231.3253012048193,236.14457831325302,240.96385542168676,245.7831325301205,250.60240963855424,255.42168674698797,260.2409638554217,265.06024096385545,269.87951807228916,274.6987951807229,279.51807228915663,284.3373493975904,289.1566265060241,293.9759036144579,298.7951807228916,303.61445783132535,308.43373493975906,313.2530120481928,318.07228915662654,322.89156626506025,327.710843373494,332.5301204819277,337.3493975903615,342.1686746987952,346.98795180722897,351.8072289156627,356.62650602409644,361.44578313253015,366.26506024096386,371.08433734939763,375.90361445783134,380.7228915662651,385.5421686746988,390.3614457831326,395.1807228915663,400.00000000000006,404.81927710843377,409.63855421686753,414.45783132530124,419.27710843373495,424.0963855421687,428.9156626506024,433.7349397590362,438.5542168674699,443.37349397590367,448.1927710843374,453.01204819277115,457.83132530120486,462.6506024096386,467.46987951807233,472.28915662650604,477.1084337349398,481.9277108433735,486.7469879518073,491.566265060241,496.38554216867476,501.20481927710847,506.02409638554224,510.84337349397595,515.6626506024097,520.4819277108434,525.3012048192771,530.1204819277109,534.9397590361447,539.7590361445783,544.5783132530121,549.3975903614459,554.2168674698796,559.0361445783133,563.855421686747,568.6746987951808,573.4939759036145,578.3132530120482,583.132530120482,587.9518072289158,592.7710843373494,597.5903614457832,602.4096385542169,607.2289156626507,612.0481927710844,616.8674698795181,621.6867469879519,626.5060240963855,631.3253012048193,636.1445783132531,640.9638554216868,645.7831325301205,650.6024096385543,655.421686746988,660.2409638554218,665.0602409638554,669.8795180722892,674.698795180723,679.5180722891566,684.3373493975904,689.1566265060242,693.9759036144579,698.7951807228916,703.6144578313254,708.4337349397591,713.2530120481929,718.0722891566265,722.8915662650603,727.7108433734941,732.5301204819277,737.3493975903615,742.1686746987953,746.987951807229,751.8072289156627,756.6265060240964,761.4457831325302,766.265060240964,771.0843373493976,775.9036144578314,780.7228915662652,785.5421686746988,790.3614457831326,795.1807228915663,800.0000000000001,804.8192771084338,809.6385542168675,814.4578313253013,819.2771084337351,824.0963855421687,828.9156626506025,833.7349397590363,838.5542168674699,843.3734939759037,848.1927710843374,853.0120481927712,857.8313253012049,862.6506024096386,867.4698795180724,872.2891566265062,877.1084337349398,881.9277108433736,886.7469879518073,891.566265060241,896.3855421686748,901.2048192771085,906.0240963855423,910.843373493976,915.6626506024097,920.4819277108435,925.3012048192772,930.1204819277109,934.9397590361447,939.7590361445784,944.5783132530121,949.3975903614459,954.2168674698796,959.0361445783134,963.855421686747,968.6746987951808,973.4939759036146,978.3132530120482,983.132530120482,987.9518072289158,992.7710843373495,997.5903614457832,1002.4096385542169,1007.2289156626507,1012.0481927710845,1016.8674698795181,1021.6867469879519,1026.5060240963855,1031.3253012048194,1036.144578313253,1040.9638554216867,1045.7831325301206,1050.6024096385543,1055.4216867469881,1060.2409638554218,1065.0602409638554,1069.8795180722893,1074.698795180723,1079.5180722891566,1084.3373493975905,1089.1566265060242,1093.9759036144578,1098.7951807228917,1103.6144578313254,1108.4337349397592,1113.2530120481929,1118.0722891566265,1122.8915662650604,1127.710843373494,1132.5301204819277,1137.3493975903616,1142.1686746987953,1146.987951807229,1151.8072289156628,1156.6265060240964,1161.4457831325303,1166.265060240964,1171.0843373493976,1175.9036144578315,1180.7228915662652,1185.5421686746988,1190.3614457831327,1195.1807228915663,1200.0],\"y\":[0.0,7.208883196298166e-6,0.00022850622238382727,0.002175060863959802,0.00884514425794984,0.019832167272214415,0.03314908105935111,0.047177781264515634,0.06087215787958687,0.07364132534418232,0.08520160297367294,0.09546000015674283,0.10443540174644278,0.11220807744332117,0.11888811593114867,0.12459615497002687,0.12945203593281157,0.13356852035740693,0.13704819087709327,0.1399823066107647,0.14245081282656233,0.14452299077786301,0.14625842367898376,0.14770808019774123,0.14891539865615525,0.14991730764734912,0.15074515175249686,0.1514255111195355,0.15198091535211716,0.15243045848579304,0.15279032481839058,0.15307423634011139,0.15329383233624766,0.15345899095365997,0.15357810146695497,0.15365829485011767,0.15370563916478247,0.15372530527453762,0.15372170750869177,0.15369862313324348,0.15365929383571264,0.15360651188359303,0.15354269316143207,0.15346993891761343,0.1533900877478624,0.15330475909889282,0.15321538938384754,0.1531232616531428,0.15302952965239208,0.1529352370156388,0.15284133227971536,0.1527486803570783,0.15265807106350532,0.15257022525814853,0.15248579911261972,0.15240538698049821,0.15232952328796193,0.15225868381058316,0.15219328664219933,0.152133693101336,0.15208020876137462,0.15203308473484822,0.15199251929189966,0.15195865984948387,0.1519316053321674,0.15191140887763058,0.15189808083994225,0.15189159203070418,0.15189187713133143,0.15189883820796943,0.1519123482627317,0.15193225475998454,0.1519583830732682,0.15199053980614602,0.15202851594776243,0.15207208982969556,0.15212102985204815,0.15217509693700784,0.15223404662978784,0.1522976306509729,0.15236559736983804,0.1524376896995024,0.15251363606182794,0.15259312150854112,0.1526756999421066,0.1527605273577829,0.1528455421791648,0.1529249209793731,0.1529811726251877,0.15296118016153903,0.1527119919928184,0.1519011691274577,0.15014253052364088,0.14718309169743943,0.14292487818042834,0.13740544892158185,0.13077370319539863,0.12325154039014756,0.1150903814474659,0.1065452404805278,0.09785371353584935,0.08922224848230823,0.08081858502107982,0.07277127136427265,0.06517267985658194,0.05808328555548667,0.05153665082614188,0.045544132914252466,0.04010109641495964,0.035190471678265084,0.030786772530135367,0.026858619465564827,0.02337114203603831,0.020287770040660482,0.017572040067793143,0.015188412748071728,0.013103168427211173,0.011284330274372856,0.009701930347942709,0.00832840377524848,0.007138680586442108,0.006110280627808199,0.005223059809507276,0.004459046844631041,0.003802272242498635,0.003238597597475104,0.002755561910909527,0.002342218141422109,0.001988985753933954,0.0016875028064509397,0.0014304920038899541,0.001211638894315748,0.0010254739110024972,0.0008672730452741207,0.0007329625594371254,0.0006190366133740208,0.0005224837450355579,0.00044072033585438973,0.0003715343754574574,0.0003130337733284156,0.0002636027382876656,0.0002218631342418974,0.00018664036339499423,0.00015693489369038308,0.00013189789281209358,0.0001108084801847919,0.00009305408315239076,0.00007811399190377091,0.00006554740626259963,0.000054982414193319924,0.00004610423594909254,0.00003864660915753108,0.00003238456326495584,0.00002712862943220798,0.000022718861158235533,0.000019020334380924124,0.00001591943650026457,0.000013320555147789264,0.000011143121629560615,9.319328885599036e-6,7.792159224789472e-6,6.513737272682356e-6,5.443844884254638e-6,4.5487061029108066e-6,3.7999485895532584e-6,3.173781032014244e-6,2.650247047846252e-6,2.21262018321382e-6,1.8468886811276523e-6,1.5413094151419584e-6,1.2860457901969059e-6,1.072858749774996e-6,8.948502282782161e-7,7.46245845427529e-7,6.222131633392486e-7,5.187096551907848e-7,4.3235369100741384e-7,3.603178200840301e-7,3.0023814898532087e-7,2.5013899349283854e-7,2.083695148127045e-7,1.7355049718440227e-7,1.4453007292214564e-7,1.2034633531945848e-7,1.0019627323857176e-7,8.340951393679e-8,6.9426891343084e-8,5.778178176200893e-8,4.8084753988721185e-8,4.001082295341784e-8,3.3289101774415585e-8,2.7693769277316653e-8,2.303661079289559e-8,1.916073192716967e-8,1.5935446319699702e-8,1.3251874853603254e-8,1.1019270871440572e-8,9.16204104357977e-9,7.617229484451357e-9,6.332394524062328e-9,5.263875406058983e-9,4.375331352170928e-9,3.6365114362391234e-9,3.022236999420316e-9,2.511548912881723e-9,2.087010097603046e-9,1.734117267482511e-9,1.4408019512322014e-9,1.1970234241693272e-9,9.944303640981638e-10,8.26076734065633e-10,6.861860065759569e-10,5.699534552154291e-10,4.733838974840586e-10,3.931558732660795e-10,3.265077271674812e-10,2.711435475903008e-10,2.2515581750482575e-10,1.8695879264090142e-10,1.5523443919936562e-10,1.2888714101089653e-10,1.0700669169450685e-10,8.883669188935419e-11,7.374861302462124e-11,6.12203329370467e-11,5.081807861101771e-11,4.218146591046054e-11,3.501114381104778e-11,2.9058457992766476e-11,2.411686442562586e-11,2.0014813479511835e-11,1.660982467721326e-11,1.3783571488749547e-11,1.1437788600205526e-11,9.490877047665952e-12,7.87508064234767e-12,6.53413957239831e-12,5.421343604310117e-12,4.497911820145655e-12,3.731648983161604e-12,3.095828376248785e-12,2.568263127159401e-12,2.130537771720786e-12,1.76736691511259e-12,1.4660624742491966e-12,1.2160926218651487e-12,1.0087171796185982e-12,8.366835429347131e-13,6.939727048082954e-13,5.755896035734675e-13],\"type\":\"scatter\",\"xaxis\":\"x4\",\"yaxis\":\"y4\"},{\"line\":{\"color\":\"#3b82f6\",\"simplify\":true,\"width\":2},\"mode\":\"lines\",\"name\":\"ri_dead\",\"opacity\":0.1,\"x\":[0.0,4.819277108433735,9.63855421686747,14.457831325301207,19.27710843373494,24.096385542168676,28.915662650602414,33.734939759036145,38.55421686746988,43.37349397590362,48.19277108433735,53.01204819277109,57.83132530120483,62.65060240963856,67.46987951807229,72.28915662650603,77.10843373493977,81.9277108433735,86.74698795180724,91.56626506024097,96.3855421686747,101.20481927710844,106.02409638554218,110.84337349397592,115.66265060240966,120.48192771084338,125.30120481927712,130.12048192771084,134.93975903614458,139.75903614457832,144.57831325301206,149.3975903614458,154.21686746987953,159.03614457831327,163.855421686747,168.67469879518075,173.49397590361448,178.31325301204822,183.13253012048193,187.95180722891567,192.7710843373494,197.59036144578315,202.40963855421688,207.22891566265062,212.04819277108436,216.8674698795181,221.68674698795184,226.50602409638557,231.3253012048193,236.14457831325302,240.96385542168676,245.7831325301205,250.60240963855424,255.42168674698797,260.2409638554217,265.06024096385545,269.87951807228916,274.6987951807229,279.51807228915663,284.3373493975904,289.1566265060241,293.9759036144579,298.7951807228916,303.61445783132535,308.43373493975906,313.2530120481928,318.07228915662654,322.89156626506025,327.710843373494,332.5301204819277,337.3493975903615,342.1686746987952,346.98795180722897,351.8072289156627,356.62650602409644,361.44578313253015,366.26506024096386,371.08433734939763,375.90361445783134,380.7228915662651,385.5421686746988,390.3614457831326,395.1807228915663,400.00000000000006,404.81927710843377,409.63855421686753,414.45783132530124,419.27710843373495,424.0963855421687,428.9156626506024,433.7349397590362,438.5542168674699,443.37349397590367,448.1927710843374,453.01204819277115,457.83132530120486,462.6506024096386,467.46987951807233,472.28915662650604,477.1084337349398,481.9277108433735,486.7469879518073,491.566265060241,496.38554216867476,501.20481927710847,506.02409638554224,510.84337349397595,515.6626506024097,520.4819277108434,525.3012048192771,530.1204819277109,534.9397590361447,539.7590361445783,544.5783132530121,549.3975903614459,554.2168674698796,559.0361445783133,563.855421686747,568.6746987951808,573.4939759036145,578.3132530120482,583.132530120482,587.9518072289158,592.7710843373494,597.5903614457832,602.4096385542169,607.2289156626507,612.0481927710844,616.8674698795181,621.6867469879519,626.5060240963855,631.3253012048193,636.1445783132531,640.9638554216868,645.7831325301205,650.6024096385543,655.421686746988,660.2409638554218,665.0602409638554,669.8795180722892,674.698795180723,679.5180722891566,684.3373493975904,689.1566265060242,693.9759036144579,698.7951807228916,703.6144578313254,708.4337349397591,713.2530120481929,718.0722891566265,722.8915662650603,727.7108433734941,732.5301204819277,737.3493975903615,742.1686746987953,746.987951807229,751.8072289156627,756.6265060240964,761.4457831325302,766.265060240964,771.0843373493976,775.9036144578314,780.7228915662652,785.5421686746988,790.3614457831326,795.1807228915663,800.0000000000001,804.8192771084338,809.6385542168675,814.4578313253013,819.2771084337351,824.0963855421687,828.9156626506025,833.7349397590363,838.5542168674699,843.3734939759037,848.1927710843374,853.0120481927712,857.8313253012049,862.6506024096386,867.4698795180724,872.2891566265062,877.1084337349398,881.9277108433736,886.7469879518073,891.566265060241,896.3855421686748,901.2048192771085,906.0240963855423,910.843373493976,915.6626506024097,920.4819277108435,925.3012048192772,930.1204819277109,934.9397590361447,939.7590361445784,944.5783132530121,949.3975903614459,954.2168674698796,959.0361445783134,963.855421686747,968.6746987951808,973.4939759036146,978.3132530120482,983.132530120482,987.9518072289158,992.7710843373495,997.5903614457832,1002.4096385542169,1007.2289156626507,1012.0481927710845,1016.8674698795181,1021.6867469879519,1026.5060240963855,1031.3253012048194,1036.144578313253,1040.9638554216867,1045.7831325301206,1050.6024096385543,1055.4216867469881,1060.2409638554218,1065.0602409638554,1069.8795180722893,1074.698795180723,1079.5180722891566,1084.3373493975905,1089.1566265060242,1093.9759036144578,1098.7951807228917,1103.6144578313254,1108.4337349397592,1113.2530120481929,1118.0722891566265,1122.8915662650604,1127.710843373494,1132.5301204819277,1137.3493975903616,1142.1686746987953,1146.987951807229,1151.8072289156628,1156.6265060240964,1161.4457831325303,1166.265060240964,1171.0843373493976,1175.9036144578315,1180.7228915662652,1185.5421686746988,1190.3614457831327,1195.1807228915663,1200.0],\"y\":[0.0,0.000010075608011334586,0.0001373027803056647,0.0016545617452422545,0.00812977527870466,0.01623465268526402,0.021574555555573565,0.02433158870993455,0.025541147629555495,0.025912092953764832,0.025845060804264783,0.025561247354089482,0.0251839244421791,0.024781757453641837,0.024391959918234042,0.02403326275231876,0.023713511121115104,0.02343425383162584,0.023193559187166063,0.022987744343458384,0.022812423002269346,0.022663120715029576,0.0225356160465465,0.022426109907225066,0.02233128968887962,0.022248331525237253,0.022174868553699347,0.02210894277820293,0.022048951316426587,0.02199359333662768,0.021941821094695387,0.021892796654404485,0.02184585475837558,0.021800471670349843,0.021756239464596257,0.021712845083097163,0.021670053440651028,0.0216276938830604,0.021585649362907116,0.021543847771795282,0.021502254946132417,0.02146086893950036,0.021419715225644568,0.02137884256117316,0.02133831929624263,0.02129822997513004,0.02125867211688838,0.021219753109194724,0.02118158718563104,0.021144292487389624,0.021107988234099102,0.02107279204465035,0.02103881745746338,0.02100617170097004,0.02097495376011192,0.020945252774732734,0.020917146792519714,0.020890701884353262,0.020865971615176806,0.020842996850139264,0.02082180586476704,0.020802414719850497,0.020784827856762226,0.020769038866923713,0.02075503138972906,0.02074278009591472,0.02073225171756565,0.020723406091120344,0.02071619718538953,0.020710574092335707,0.020706481963888516,0.02070386288324377,0.0207026566639435,0.02070280157491582,0.02070423499563591,0.02070689401555162,0.020710716013814034,0.020715639311326896,0.02072160414087856,0.020728554619915823,0.020736443695893284,0.020745246879206876,0.020755002289731355,0.02076593077312868,0.020778803433280948,0.020796083867164125,0.02082551980316046,0.020891493713541633,0.021070295587331547,0.02158429126262379,0.022791999431353207,0.024299599518610694,0.02565213269636684,0.02708148776557331,0.029006668533080714,0.0315786708578707,0.03425584767522877,0.0359601825123255,0.035729610595175335,0.033940719475277534,0.03120273649402682,0.027929285434305718,0.02453870728733091,0.021266324601254563,0.01825998263905105,0.015583269750024093,0.013225616226426557,0.011184103484671972,0.009432143016801394,0.007939005262709147,0.006669086561453735,0.005596479475205156,0.004689448279688687,0.003925500436713088,0.0032827591578240612,0.002744182718509926,0.002292513116670529,0.0019140934155210056,0.0015973762690697274,0.0013318634952663418,0.0011102051000879546,0.0009248592701599378,0.0007703621387824642,0.0006414625254194691,0.0005339676432860592,0.00044444718994397835,0.0003697994324398847,0.0003076790937172482,0.0002559365764362602,0.00021286648466256746,0.0001770305530155594,0.0001471893593102077,0.00012237693989354325,0.00010172822647979039,0.0000845588442214406,0.00007028149180060609,0.00005840406456360718,0.00004853357740700765,0.00004032453479008007,0.00003350352729258446,0.000027833953505000247,0.000023120881810924917,0.000019205767828893687,0.00001595246580970141,0.000013250444054345037,0.000011005876343146068,9.140816523766238e-6,7.590675586536442e-6,6.303424981671787e-6,5.234102709982673e-6,4.345957497679521e-6,3.60825306859219e-6,2.9957242462218325e-6,2.4869884376869144e-6,2.0645767229467136e-6,1.7139194041599146e-6,1.4227569370161007e-6,1.1810221879115204e-6,9.803203200386048e-7,8.136946282542445e-7,6.753682709923651e-7,5.605446719452668e-7,4.6523274732397025e-7,3.861112836248701e-7,3.204384853800413e-7,2.6591287018059644e-7,2.2066465781816786e-7,1.831078938061585e-7,1.5193783818819472e-7,1.2607264452968708e-7,1.0460495902478856e-7,8.679282579794022e-8,7.201115512598155e-8,5.97461309794912e-8,4.9569491587904015e-8,4.1124529650725364e-8,3.411836173234293e-8,2.8304829447752554e-8,2.3481796854371418e-8,1.9480290193405593e-8,1.616018633606708e-8,1.3405947589694144e-8,1.112077124345448e-8,9.225127341270612e-9,7.65248166589322e-9,6.347914952014963e-9,5.265763514417858e-9,4.36805440126992e-9,3.623314505545998e-9,3.005523538324316e-9,2.493023614122294e-9,2.067894570238894e-9,1.7152191311844782e-9,1.4226960882350416e-9,1.1800553904824815e-9,9.78790187577646e-10,8.118461820383837e-10,6.733757844941689e-10,5.585166383111104e-10,4.6324534728685865e-10,3.8422332141565086e-10,3.186785383042412e-10,2.643136205619686e-10,2.1922021677964243e-10,1.8181944556522775e-10,1.507988217753179e-10,1.2507015680405978e-10,1.0373081872067653e-10,8.603195623852256e-11,7.135263992830746e-11,5.917786725845183e-11,4.9080301988349594e-11,4.0705445790680714e-11,3.3759540793688083e-11,2.799867174002445e-11,2.322070616457587e-11,1.9258090648765634e-11,1.5971618284030846e-11,1.3245976812289413e-11,1.0985395673671958e-11,9.110590812023455e-12,7.55570664651126e-12,6.26614282540048e-12,5.196651873130387e-12,4.309680217462791e-12,3.5740636161400336e-12,2.9640079459064403e-12,2.4580661167196862e-12,2.038482460841153e-12,1.6905156021931687e-12,1.4019376117553357e-12,1.1626207661453958e-12,9.641507865905304e-13,7.995611696940818e-13,6.630665737258412e-13,5.498709416095119e-13,4.559993784431315e-13,3.7815127199846876e-13,3.135933484067463e-13,2.6005598624891766e-13,2.1565804058280444e-13,1.788399067648395e-13,1.4830742077433298e-13,1.22987578753793e-13,1.0199021407977941e-13,8.457753320097843e-14,7.013759002938459e-14,5.8162870605368e-14,4.8232510553256983e-14,3.99975555624466e-14],\"type\":\"scatter\",\"xaxis\":\"x4\",\"yaxis\":\"y4\"}],                        {\"template\":{\"data\":{\"histogram2dcontour\":[{\"type\":\"histogram2dcontour\",\"colorbar\":{\"outlinewidth\":0,\"ticks\":\"\"},\"colorscale\":[[0.0,\"#0d0887\"],[0.1111111111111111,\"#46039f\"],[0.2222222222222222,\"#7201a8\"],[0.3333333333333333,\"#9c179e\"],[0.4444444444444444,\"#bd3786\"],[0.5555555555555556,\"#d8576b\"],[0.6666666666666666,\"#ed7953\"],[0.7777777777777778,\"#fb9f3a\"],[0.8888888888888888,\"#fdca26\"],[1.0,\"#f0f921\"]]}],\"choropleth\":[{\"type\":\"choropleth\",\"colorbar\":{\"outlinewidth\":0,\"ticks\":\"\"}}],\"histogram2d\":[{\"type\":\"histogram2d\",\"colorbar\":{\"outlinewidth\":0,\"ticks\":\"\"},\"colorscale\":[[0.0,\"#0d0887\"],[0.1111111111111111,\"#46039f\"],[0.2222222222222222,\"#7201a8\"],[0.3333333333333333,\"#9c179e\"],[0.4444444444444444,\"#bd3786\"],[0.5555555555555556,\"#d8576b\"],[0.6666666666666666,\"#ed7953\"],[0.7777777777777778,\"#fb9f3a\"],[0.8888888888888888,\"#fdca26\"],[1.0,\"#f0f921\"]]}],\"heatmap\":[{\"type\":\"heatmap\",\"colorbar\":{\"outlinewidth\":0,\"ticks\":\"\"},\"colorscale\":[[0.0,\"#0d0887\"],[0.1111111111111111,\"#46039f\"],[0.2222222222222222,\"#7201a8\"],[0.3333333333333333,\"#9c179e\"],[0.4444444444444444,\"#bd3786\"],[0.5555555555555556,\"#d8576b\"],[0.6666666666666666,\"#ed7953\"],[0.7777777777777778,\"#fb9f3a\"],[0.8888888888888888,\"#fdca26\"],[1.0,\"#f0f921\"]]}],\"heatmapgl\":[{\"type\":\"heatmapgl\",\"colorbar\":{\"outlinewidth\":0,\"ticks\":\"\"},\"colorscale\":[[0.0,\"#0d0887\"],[0.1111111111111111,\"#46039f\"],[0.2222222222222222,\"#7201a8\"],[0.3333333333333333,\"#9c179e\"],[0.4444444444444444,\"#bd3786\"],[0.5555555555555556,\"#d8576b\"],[0.6666666666666666,\"#ed7953\"],[0.7777777777777778,\"#fb9f3a\"],[0.8888888888888888,\"#fdca26\"],[1.0,\"#f0f921\"]]}],\"contourcarpet\":[{\"type\":\"contourcarpet\",\"colorbar\":{\"outlinewidth\":0,\"ticks\":\"\"}}],\"contour\":[{\"type\":\"contour\",\"colorbar\":{\"outlinewidth\":0,\"ticks\":\"\"},\"colorscale\":[[0.0,\"#0d0887\"],[0.1111111111111111,\"#46039f\"],[0.2222222222222222,\"#7201a8\"],[0.3333333333333333,\"#9c179e\"],[0.4444444444444444,\"#bd3786\"],[0.5555555555555556,\"#d8576b\"],[0.6666666666666666,\"#ed7953\"],[0.7777777777777778,\"#fb9f3a\"],[0.8888888888888888,\"#fdca26\"],[1.0,\"#f0f921\"]]}],\"surface\":[{\"type\":\"surface\",\"colorbar\":{\"outlinewidth\":0,\"ticks\":\"\"},\"colorscale\":[[0.0,\"#0d0887\"],[0.1111111111111111,\"#46039f\"],[0.2222222222222222,\"#7201a8\"],[0.3333333333333333,\"#9c179e\"],[0.4444444444444444,\"#bd3786\"],[0.5555555555555556,\"#d8576b\"],[0.6666666666666666,\"#ed7953\"],[0.7777777777777778,\"#fb9f3a\"],[0.8888888888888888,\"#fdca26\"],[1.0,\"#f0f921\"]]}],\"mesh3d\":[{\"type\":\"mesh3d\",\"colorbar\":{\"outlinewidth\":0,\"ticks\":\"\"}}],\"scatter\":[{\"fillpattern\":{\"fillmode\":\"overlay\",\"size\":10,\"solidity\":0.2},\"type\":\"scatter\"}],\"parcoords\":[{\"type\":\"parcoords\",\"line\":{\"colorbar\":{\"outlinewidth\":0,\"ticks\":\"\"}}}],\"scatterpolargl\":[{\"type\":\"scatterpolargl\",\"marker\":{\"colorbar\":{\"outlinewidth\":0,\"ticks\":\"\"}}}],\"bar\":[{\"error_x\":{\"color\":\"#2a3f5f\"},\"error_y\":{\"color\":\"#2a3f5f\"},\"marker\":{\"line\":{\"color\":\"#E5ECF6\",\"width\":0.5},\"pattern\":{\"fillmode\":\"overlay\",\"size\":10,\"solidity\":0.2}},\"type\":\"bar\"}],\"scattergeo\":[{\"type\":\"scattergeo\",\"marker\":{\"colorbar\":{\"outlinewidth\":0,\"ticks\":\"\"}}}],\"scatterpolar\":[{\"type\":\"scatterpolar\",\"marker\":{\"colorbar\":{\"outlinewidth\":0,\"ticks\":\"\"}}}],\"histogram\":[{\"marker\":{\"pattern\":{\"fillmode\":\"overlay\",\"size\":10,\"solidity\":0.2}},\"type\":\"histogram\"}],\"scattergl\":[{\"type\":\"scattergl\",\"marker\":{\"colorbar\":{\"outlinewidth\":0,\"ticks\":\"\"}}}],\"scatter3d\":[{\"type\":\"scatter3d\",\"line\":{\"colorbar\":{\"outlinewidth\":0,\"ticks\":\"\"}},\"marker\":{\"colorbar\":{\"outlinewidth\":0,\"ticks\":\"\"}}}],\"scattermapbox\":[{\"type\":\"scattermapbox\",\"marker\":{\"colorbar\":{\"outlinewidth\":0,\"ticks\":\"\"}}}],\"scatterternary\":[{\"type\":\"scatterternary\",\"marker\":{\"colorbar\":{\"outlinewidth\":0,\"ticks\":\"\"}}}],\"scattercarpet\":[{\"type\":\"scattercarpet\",\"marker\":{\"colorbar\":{\"outlinewidth\":0,\"ticks\":\"\"}}}],\"carpet\":[{\"aaxis\":{\"endlinecolor\":\"#2a3f5f\",\"gridcolor\":\"white\",\"linecolor\":\"white\",\"minorgridcolor\":\"white\",\"startlinecolor\":\"#2a3f5f\"},\"baxis\":{\"endlinecolor\":\"#2a3f5f\",\"gridcolor\":\"white\",\"linecolor\":\"white\",\"minorgridcolor\":\"white\",\"startlinecolor\":\"#2a3f5f\"},\"type\":\"carpet\"}],\"table\":[{\"cells\":{\"fill\":{\"color\":\"#EBF0F8\"},\"line\":{\"color\":\"white\"}},\"header\":{\"fill\":{\"color\":\"#C8D4E3\"},\"line\":{\"color\":\"white\"}},\"type\":\"table\"}],\"barpolar\":[{\"marker\":{\"line\":{\"color\":\"#E5ECF6\",\"width\":0.5},\"pattern\":{\"fillmode\":\"overlay\",\"size\":10,\"solidity\":0.2}},\"type\":\"barpolar\"}],\"pie\":[{\"automargin\":true,\"type\":\"pie\"}]},\"layout\":{\"autotypenumbers\":\"strict\",\"colorway\":[\"#636efa\",\"#EF553B\",\"#00cc96\",\"#ab63fa\",\"#FFA15A\",\"#19d3f3\",\"#FF6692\",\"#B6E880\",\"#FF97FF\",\"#FECB52\"],\"font\":{\"color\":\"#2a3f5f\"},\"hovermode\":\"closest\",\"hoverlabel\":{\"align\":\"left\"},\"paper_bgcolor\":\"white\",\"plot_bgcolor\":\"#E5ECF6\",\"polar\":{\"bgcolor\":\"#E5ECF6\",\"angularaxis\":{\"gridcolor\":\"white\",\"linecolor\":\"white\",\"ticks\":\"\"},\"radialaxis\":{\"gridcolor\":\"white\",\"linecolor\":\"white\",\"ticks\":\"\"}},\"ternary\":{\"bgcolor\":\"#E5ECF6\",\"aaxis\":{\"gridcolor\":\"white\",\"linecolor\":\"white\",\"ticks\":\"\"},\"baxis\":{\"gridcolor\":\"white\",\"linecolor\":\"white\",\"ticks\":\"\"},\"caxis\":{\"gridcolor\":\"white\",\"linecolor\":\"white\",\"ticks\":\"\"}},\"coloraxis\":{\"colorbar\":{\"outlinewidth\":0,\"ticks\":\"\"}},\"colorscale\":{\"sequential\":[[0.0,\"#0d0887\"],[0.1111111111111111,\"#46039f\"],[0.2222222222222222,\"#7201a8\"],[0.3333333333333333,\"#9c179e\"],[0.4444444444444444,\"#bd3786\"],[0.5555555555555556,\"#d8576b\"],[0.6666666666666666,\"#ed7953\"],[0.7777777777777778,\"#fb9f3a\"],[0.8888888888888888,\"#fdca26\"],[1.0,\"#f0f921\"]],\"sequentialminus\":[[0.0,\"#0d0887\"],[0.1111111111111111,\"#46039f\"],[0.2222222222222222,\"#7201a8\"],[0.3333333333333333,\"#9c179e\"],[0.4444444444444444,\"#bd3786\"],[0.5555555555555556,\"#d8576b\"],[0.6666666666666666,\"#ed7953\"],[0.7777777777777778,\"#fb9f3a\"],[0.8888888888888888,\"#fdca26\"],[1.0,\"#f0f921\"]],\"diverging\":[[0,\"#8e0152\"],[0.1,\"#c51b7d\"],[0.2,\"#de77ae\"],[0.3,\"#f1b6da\"],[0.4,\"#fde0ef\"],[0.5,\"#f7f7f7\"],[0.6,\"#e6f5d0\"],[0.7,\"#b8e186\"],[0.8,\"#7fbc41\"],[0.9,\"#4d9221\"],[1,\"#276419\"]]},\"xaxis\":{\"gridcolor\":\"white\",\"linecolor\":\"white\",\"ticks\":\"\",\"title\":{\"standoff\":15},\"zerolinecolor\":\"white\",\"automargin\":true,\"zerolinewidth\":2},\"yaxis\":{\"gridcolor\":\"white\",\"linecolor\":\"white\",\"ticks\":\"\",\"title\":{\"standoff\":15},\"zerolinecolor\":\"white\",\"automargin\":true,\"zerolinewidth\":2},\"scene\":{\"xaxis\":{\"backgroundcolor\":\"#E5ECF6\",\"gridcolor\":\"white\",\"linecolor\":\"white\",\"showbackground\":true,\"ticks\":\"\",\"zerolinecolor\":\"white\",\"gridwidth\":2},\"yaxis\":{\"backgroundcolor\":\"#E5ECF6\",\"gridcolor\":\"white\",\"linecolor\":\"white\",\"showbackground\":true,\"ticks\":\"\",\"zerolinecolor\":\"white\",\"gridwidth\":2},\"zaxis\":{\"backgroundcolor\":\"#E5ECF6\",\"gridcolor\":\"white\",\"linecolor\":\"white\",\"showbackground\":true,\"ticks\":\"\",\"zerolinecolor\":\"white\",\"gridwidth\":2}},\"shapedefaults\":{\"line\":{\"color\":\"#2a3f5f\"}},\"annotationdefaults\":{\"arrowcolor\":\"#2a3f5f\",\"arrowhead\":0,\"arrowwidth\":1},\"geo\":{\"bgcolor\":\"white\",\"landcolor\":\"#E5ECF6\",\"subunitcolor\":\"white\",\"showland\":true,\"showlakes\":true,\"lakecolor\":\"white\"},\"title\":{\"x\":0.05},\"mapbox\":{\"style\":\"light\"}}},\"xaxis\":{\"anchor\":\"y\",\"domain\":[0.0,0.45]},\"yaxis\":{\"anchor\":\"x\",\"domain\":[0.625,1.0]},\"xaxis2\":{\"anchor\":\"y2\",\"domain\":[0.55,1.0]},\"yaxis2\":{\"anchor\":\"x2\",\"domain\":[0.625,1.0]},\"xaxis3\":{\"anchor\":\"y3\",\"domain\":[0.0,0.45]},\"yaxis3\":{\"anchor\":\"x3\",\"domain\":[0.0,0.375]},\"xaxis4\":{\"anchor\":\"y4\",\"domain\":[0.55,1.0]},\"yaxis4\":{\"anchor\":\"x4\",\"domain\":[0.0,0.375]},\"annotations\":[{\"font\":{\"size\":16},\"showarrow\":false,\"text\":\"Metabolites\",\"x\":0.225,\"xanchor\":\"center\",\"xref\":\"paper\",\"y\":1.0,\"yanchor\":\"bottom\",\"yref\":\"paper\"},{\"font\":{\"size\":16},\"showarrow\":false,\"text\":\"pH\",\"x\":0.775,\"xanchor\":\"center\",\"xref\":\"paper\",\"y\":1.0,\"yanchor\":\"bottom\",\"yref\":\"paper\"},{\"font\":{\"size\":16},\"showarrow\":false,\"text\":\"Subpopulations\",\"x\":0.225,\"xanchor\":\"center\",\"xref\":\"paper\",\"y\":0.375,\"yanchor\":\"bottom\",\"yref\":\"paper\"},{\"font\":{\"size\":16},\"showarrow\":false,\"text\":\"Species States\",\"x\":0.775,\"xanchor\":\"center\",\"xref\":\"paper\",\"y\":0.375,\"yanchor\":\"bottom\",\"yref\":\"paper\"}],\"title\":{\"text\":\"Reactor Simulation Results\"},\"height\":800,\"showlegend\":true},                        {\"responsive\": true}                    ).then(function(){\n",
              "                            \n",
              "var gd = document.getElementById('a5c39694-62f6-4762-9151-8c4c75cc70cb');\n",
              "var x = new MutationObserver(function (mutations, observer) {{\n",
              "        var display = window.getComputedStyle(gd).display;\n",
              "        if (!display || display === 'none') {{\n",
              "            console.log([gd, 'removed!']);\n",
              "            Plotly.purge(gd);\n",
              "            observer.disconnect();\n",
              "        }}\n",
              "}});\n",
              "\n",
              "// Listen for the removal of the full notebook cells\n",
              "var notebookContainer = gd.closest('#notebook-container');\n",
              "if (notebookContainer) {{\n",
              "    x.observe(notebookContainer, {childList: true});\n",
              "}}\n",
              "\n",
              "// Listen for the clearing of the current output cell\n",
              "var outputEl = gd.closest('.output');\n",
              "if (outputEl) {{\n",
              "    x.observe(outputEl, {childList: true});\n",
              "}}\n",
              "\n",
              "                        })                };                            </script>        </div>\n",
              "</body>\n",
              "</html>"
            ]
          },
          "metadata": {},
          "output_type": "display_data"
        }
      ],
      "source": [
        "reactor.set_fast_simulation_mode()\n",
        "reactor.simulate()\n",
        "reactor.make_plot()"
      ]
    },
    {
      "cell_type": "markdown",
      "id": "KCbcWPMe7jpH",
      "metadata": {
        "id": "KCbcWPMe7jpH"
      },
      "source": [
        "Support for third party widgets will remain active for the duration of the session. To disable support:"
      ]
    },
    {
      "cell_type": "code",
      "execution_count": 20,
      "id": "Xyw3pUk87jpH",
      "metadata": {
        "id": "Xyw3pUk87jpH"
      },
      "outputs": [],
      "source": [
        "from google.colab import output\n",
        "output.disable_custom_widget_manager()"
      ]
    }
  ],
  "metadata": {
    "colab": {
      "include_colab_link": true,
      "provenance": []
    },
    "kernelspec": {
      "display_name": "Python (uv-venv)",
      "language": "python",
      "name": "uv-venv"
    },
    "language_info": {
      "codemirror_mode": {
        "name": "ipython",
        "version": 3
      },
      "file_extension": ".py",
      "mimetype": "text/x-python",
      "name": "python",
      "nbconvert_exporter": "python",
      "pygments_lexer": "ipython3",
      "version": "3.13.3"
    },
    "widgets": {
      "application/vnd.jupyter.widget-state+json": {
        "00065328d2a74614a7ce9dc1a833e9e3": {
          "model_module": "jupyter-cytoscape",
          "model_module_version": "^1.3.3",
          "model_name": "NodeModel",
          "state": {
            "_model_module": "jupyter-cytoscape",
            "_model_module_version": "^1.3.3",
            "_model_name": "NodeModel",
            "_view_count": null,
            "_view_module": "jupyter-cytoscape",
            "_view_module_version": "^1.3.3",
            "_view_name": "NodeView",
            "classes": "",
            "data": {
              "hoverLabel": "xi_glucose (feeding-term)",
              "id": "ft:sub:bac:ri:xi:xi_glucose",
              "label": "xi_glucose",
              "parent": "bac:ri",
              "size": 0.35,
              "type": "feedingTerm"
            },
            "grabbable": true,
            "grabbed": false,
            "locked": false,
            "pannable": false,
            "position": {
              "x": -284,
              "y": 928
            },
            "removed": false,
            "selectable": false,
            "selected": false
          }
        },
        "00940d59f43e453ab947dabd2667afa7": {
          "model_module": "jupyter-cytoscape",
          "model_module_version": "^1.3.3",
          "model_name": "EdgeModel",
          "state": {
            "_model_module": "jupyter-cytoscape",
            "_model_module_version": "^1.3.3",
            "_model_name": "EdgeModel",
            "_view_count": null,
            "_view_module": "jupyter-cytoscape",
            "_view_module_version": "^1.3.3",
            "_view_name": "EdgeView",
            "classes": "",
            "data": {
              "edgeLabel": "feeds",
              "id": "edge:sub:bac:bh:xb:ft:sub:bac:bh:xb:xb_glucose_glutamate:feeds",
              "kind": "feeds",
              "role": "feeds",
              "source": "sub:bac:bh:xb",
              "target": "ft:sub:bac:bh:xb:xb_glucose_glutamate"
            },
            "pannable": true,
            "removed": false,
            "selectable": false,
            "selected": false
          }
        },
        "00b65a9cfc634f7095db5a77dea09e52": {
          "model_module": "jupyter-cytoscape",
          "model_module_version": "^1.3.3",
          "model_name": "EdgeModel",
          "state": {
            "_model_module": "jupyter-cytoscape",
            "_model_module_version": "^1.3.3",
            "_model_name": "EdgeModel",
            "_view_count": null,
            "_view_module": "jupyter-cytoscape",
            "_view_module_version": "^1.3.3",
            "_view_name": "EdgeView",
            "classes": "",
            "data": {
              "condition": "(7.162e-07 ** 29.9999999967/(7.162e-07 ** 29.9999999967 + (mannose ** 29.9999999967))) * (5.5 ** 10.0/(5.5 ** 10.0 + environment.pH.compute_pH(concentrations) ** 10.0))",
              "edgeLabel": "Condition: (7.162e-07 ** 29.9999999967/(7.162e-07 ** 29.99999... | Rate: 0.0765445031",
              "id": "edge:sub:bac:bt:xf:sub:bac:bt:xg:transition:1",
              "kind": "transition",
              "rate": 0.0765445031,
              "role": "connects",
              "source": "sub:bac:bt:xf",
              "source_subpop": "xf",
              "target": "sub:bac:bt:xg",
              "target_subpop": "xg"
            },
            "pannable": true,
            "removed": false,
            "selectable": false,
            "selected": false
          }
        },
        "00d36485b68347e283fd8f337832f90c": {
          "model_module": "jupyter-cytoscape",
          "model_module_version": "^1.3.3",
          "model_name": "NodeModel",
          "state": {
            "_model_module": "jupyter-cytoscape",
            "_model_module_version": "^1.3.3",
            "_model_name": "NodeModel",
            "_view_count": null,
            "_view_module": "jupyter-cytoscape",
            "_view_module_version": "^1.3.3",
            "_view_name": "NodeView",
            "classes": "",
            "data": {
              "hoverLabel": "xb_glucose_glutamate (feeding-term)",
              "id": "ft:sub:bac:bh:xb:xb_glucose_glutamate",
              "label": "xb_glucose_glutamate",
              "parent": "bac:bh",
              "size": 0.35,
              "type": "feedingTerm"
            },
            "grabbable": true,
            "grabbed": false,
            "locked": false,
            "pannable": false,
            "position": {
              "x": -124,
              "y": 0
            },
            "removed": false,
            "selectable": false,
            "selected": false
          }
        },
        "01bbbf7e05c64ffc98ea3e42d3f25596": {
          "model_module": "jupyter-cytoscape",
          "model_module_version": "^1.3.3",
          "model_name": "NodeModel",
          "state": {
            "_model_module": "jupyter-cytoscape",
            "_model_module_version": "^1.3.3",
            "_model_name": "NodeModel",
            "_view_count": null,
            "_view_module": "jupyter-cytoscape",
            "_view_module_version": "^1.3.3",
            "_view_name": "NodeView",
            "classes": "",
            "data": {
              "hoverLabel": "acetate_to_co2 (feeding-term)",
              "id": "ft:sub:bac:E_coli:acetate_ecoli:acetate_to_co2",
              "label": "acetate_to_co2",
              "metabolome_metabolites": [
                "acetate",
                "co2",
                "glucose"
              ],
              "parent": "bac:E_coli",
              "size": 0.35,
              "type": "feedingTerm"
            },
            "grabbable": true,
            "grabbed": false,
            "locked": false,
            "pannable": false,
            "position": {
              "x": -160,
              "y": 0
            },
            "removed": false,
            "selectable": false,
            "selected": false
          }
        },
        "04591e6cca424fb5862654d117e82240": {
          "model_module": "jupyter-cytoscape",
          "model_module_version": "^1.3.3",
          "model_name": "EdgeModel",
          "state": {
            "_model_module": "jupyter-cytoscape",
            "_model_module_version": "^1.3.3",
            "_model_name": "EdgeModel",
            "_view_count": null,
            "_view_module": "jupyter-cytoscape",
            "_view_module_version": "^1.3.3",
            "_view_name": "EdgeView",
            "classes": "",
            "data": {
              "K": 0,
              "dirFrom": "K",
              "edgeLabel": "succinate | r=0.625, K=0",
              "ft": "ft:sub:bac:bt:xe:xe_glucose",
              "id": "edge:ft:sub:bac:bt:xe:xe_glucose:met:succinate:produces:1",
              "metKey": "succinate",
              "rate": 0.6252715462,
              "rateAbs": 0.6252715462,
              "rateNorm": 0.06252715462,
              "role": "produces",
              "source": "ft:sub:bac:bt:xe:xe_glucose",
              "target": "met:succinate"
            },
            "pannable": true,
            "removed": false,
            "selectable": false,
            "selected": false
          }
        },
        "04faedd5cb7744c0bb9dbb5da7ddcc00": {
          "model_module": "@jupyter-widgets/base",
          "model_module_version": "1.2.0",
          "model_name": "LayoutModel",
          "state": {
            "_model_module": "@jupyter-widgets/base",
            "_model_module_version": "1.2.0",
            "_model_name": "LayoutModel",
            "_view_count": null,
            "_view_module": "@jupyter-widgets/base",
            "_view_module_version": "1.2.0",
            "_view_name": "LayoutView",
            "align_content": null,
            "align_items": null,
            "align_self": null,
            "border": null,
            "bottom": null,
            "display": null,
            "flex": null,
            "flex_flow": null,
            "grid_area": null,
            "grid_auto_columns": null,
            "grid_auto_flow": null,
            "grid_auto_rows": null,
            "grid_column": null,
            "grid_gap": null,
            "grid_row": null,
            "grid_template_areas": null,
            "grid_template_columns": null,
            "grid_template_rows": null,
            "height": null,
            "justify_content": null,
            "justify_items": null,
            "left": null,
            "margin": null,
            "max_height": null,
            "max_width": null,
            "min_height": null,
            "min_width": null,
            "object_fit": null,
            "object_position": null,
            "order": null,
            "overflow": null,
            "overflow_x": null,
            "overflow_y": null,
            "padding": null,
            "right": null,
            "top": null,
            "visibility": null,
            "width": null
          }
        },
        "06f57fe26d7b4476ac87e98e00f14d5c": {
          "model_module": "jupyter-cytoscape",
          "model_module_version": "^1.3.3",
          "model_name": "EdgeModel",
          "state": {
            "_model_module": "jupyter-cytoscape",
            "_model_module_version": "^1.3.3",
            "_model_name": "EdgeModel",
            "_view_count": null,
            "_view_module": "jupyter-cytoscape",
            "_view_module_version": "^1.3.3",
            "_view_name": "EdgeView",
            "classes": "",
            "data": {
              "K": 0,
              "dirFrom": "K",
              "edgeLabel": "lactate | r=0.377, K=0",
              "ft": "ft:sub:bac:ri:xi:xi_glucose",
              "id": "edge:ft:sub:bac:ri:xi:xi_glucose:met:lactate:produces:0",
              "metKey": "lactate",
              "rate": 0.3774439538,
              "rateAbs": 0.3774439538,
              "rateNorm": 0.037744395380000004,
              "role": "produces",
              "source": "ft:sub:bac:ri:xi:xi_glucose",
              "target": "met:lactate"
            },
            "pannable": true,
            "removed": false,
            "selectable": false,
            "selected": false
          }
        },
        "09794dc63f844fe4b09a20fbc753bbcf": {
          "model_module": "jupyter-cytoscape",
          "model_module_version": "^1.3.3",
          "model_name": "EdgeModel",
          "state": {
            "_model_module": "jupyter-cytoscape",
            "_model_module_version": "^1.3.3",
            "_model_name": "EdgeModel",
            "_view_count": null,
            "_view_module": "jupyter-cytoscape",
            "_view_module_version": "^1.3.3",
            "_view_name": "EdgeView",
            "classes": "",
            "data": {
              "K": 0.1039681099,
              "dirFrom": "K",
              "edgeLabel": "glucose | r=3.76, K=0.104",
              "ft": "ft:sub:bac:bh:xb:xb_glucose_glutamate",
              "id": "edge:met:glucose:ft:sub:bac:bh:xb:xb_glucose_glutamate:consumes:1",
              "metKey": "glucose",
              "rate": 3.7638796806,
              "rateAbs": 3.7638796806,
              "rateNorm": 0.37638796806,
              "role": "consumes",
              "source": "met:glucose",
              "target": "ft:sub:bac:bh:xb:xb_glucose_glutamate"
            },
            "pannable": true,
            "removed": false,
            "selectable": false,
            "selected": false
          }
        },
        "0aa38a7e44974a8ab98f600cc892c2f4": {
          "model_module": "jupyter-cytoscape",
          "model_module_version": "^1.3.3",
          "model_name": "NodeModel",
          "state": {
            "_model_module": "jupyter-cytoscape",
            "_model_module_version": "^1.3.3",
            "_model_name": "NodeModel",
            "_view_count": null,
            "_view_module": "jupyter-cytoscape",
            "_view_module_version": "^1.3.3",
            "_view_name": "NodeView",
            "classes": "",
            "data": {
              "id": "bac:ri",
              "label": "ri",
              "type": "group"
            },
            "grabbable": true,
            "grabbed": false,
            "locked": false,
            "pannable": false,
            "position": {},
            "removed": false,
            "selectable": false,
            "selected": false
          }
        },
        "0c9d6ac767e2414290ba989f54af2cf6": {
          "model_module": "jupyter-cytoscape",
          "model_module_version": "^1.3.3",
          "model_name": "EdgeModel",
          "state": {
            "_model_module": "jupyter-cytoscape",
            "_model_module_version": "^1.3.3",
            "_model_name": "EdgeModel",
            "_view_count": null,
            "_view_module": "jupyter-cytoscape",
            "_view_module_version": "^1.3.3",
            "_view_name": "EdgeView",
            "classes": "",
            "data": {
              "K": 0,
              "dirFrom": "K",
              "edgeLabel": "acetate | r=0.305, K=0",
              "ft": "ft:sub:bac:ri:xi:xi_pyruvate",
              "id": "edge:ft:sub:bac:ri:xi:xi_pyruvate:met:acetate:produces:1",
              "metKey": "acetate",
              "rate": 0.3051280298,
              "rateAbs": 0.3051280298,
              "rateNorm": 0.030512802979999996,
              "role": "produces",
              "source": "ft:sub:bac:ri:xi:xi_pyruvate",
              "target": "met:acetate"
            },
            "pannable": true,
            "removed": false,
            "selectable": false,
            "selected": false
          }
        },
        "0d69c9e57c3c4a8ea0a417578296d79d": {
          "model_module": "jupyter-cytoscape",
          "model_module_version": "^1.3.3",
          "model_name": "EdgeModel",
          "state": {
            "_model_module": "jupyter-cytoscape",
            "_model_module_version": "^1.3.3",
            "_model_name": "EdgeModel",
            "_view_count": null,
            "_view_module": "jupyter-cytoscape",
            "_view_module_version": "^1.3.3",
            "_view_name": "EdgeView",
            "classes": "",
            "data": {
              "K": 0,
              "dirFrom": "K",
              "edgeLabel": "acetate | r=1.87, K=0",
              "ft": "ft:sub:bac:bh:xa:xa_pyruvate",
              "id": "edge:ft:sub:bac:bh:xa:xa_pyruvate:met:acetate:produces:1",
              "metKey": "acetate",
              "rate": 1.8699494242,
              "rateAbs": 1.8699494242,
              "rateNorm": 0.18699494242,
              "role": "produces",
              "source": "ft:sub:bac:bh:xa:xa_pyruvate",
              "target": "met:acetate"
            },
            "pannable": true,
            "removed": false,
            "selectable": false,
            "selected": false
          }
        },
        "148f27c1d4b442dd9bdbc2ef8c5fe0a0": {
          "model_module": "jupyter-cytoscape",
          "model_module_version": "^1.3.3",
          "model_name": "EdgeModel",
          "state": {
            "_model_module": "jupyter-cytoscape",
            "_model_module_version": "^1.3.3",
            "_model_name": "EdgeModel",
            "_view_count": null,
            "_view_module": "jupyter-cytoscape",
            "_view_module_version": "^1.3.3",
            "_view_name": "EdgeView",
            "classes": "",
            "data": {
              "condition": "\"\"",
              "edgeLabel": "Condition: \"\" | Rate: 0.0355569688",
              "id": "edge:sub:bac:bh:xc:sub:bac:bh:xd:transition:0",
              "kind": "transition",
              "rate": 0.0355569688,
              "role": "connects",
              "source": "sub:bac:bh:xc",
              "source_subpop": "xc",
              "target": "sub:bac:bh:xd",
              "target_subpop": "xd"
            },
            "pannable": true,
            "removed": false,
            "selectable": false,
            "selected": false
          }
        },
        "1a5e2d0f806a45f0b0bf42a151e8da50": {
          "model_module": "jupyter-cytoscape",
          "model_module_version": "^1.3.3",
          "model_name": "EdgeModel",
          "state": {
            "_model_module": "jupyter-cytoscape",
            "_model_module_version": "^1.3.3",
            "_model_name": "EdgeModel",
            "_view_count": null,
            "_view_module": "jupyter-cytoscape",
            "_view_module_version": "^1.3.3",
            "_view_name": "EdgeView",
            "classes": "",
            "data": {
              "edgeLabel": "feeds",
              "id": "edge:sub:bac:bt:xe:ft:sub:bac:bt:xe:xe_glucose:feeds",
              "kind": "feeds",
              "role": "feeds",
              "source": "sub:bac:bt:xe",
              "target": "ft:sub:bac:bt:xe:xe_glucose"
            },
            "pannable": true,
            "removed": false,
            "selectable": false,
            "selected": false
          }
        },
        "1aabf3c6d12d4a2d9a29e5402fbdb1bf": {
          "model_module": "jupyter-cytoscape",
          "model_module_version": "^1.3.3",
          "model_name": "NodeModel",
          "state": {
            "_model_module": "jupyter-cytoscape",
            "_model_module_version": "^1.3.3",
            "_model_name": "NodeModel",
            "_view_count": null,
            "_view_module": "jupyter-cytoscape",
            "_view_module_version": "^1.3.3",
            "_view_name": "NodeView",
            "classes": "",
            "data": {
              "hoverLabel": "xe_pyruvate (feeding-term)",
              "id": "ft:sub:bac:bt:xe:xe_pyruvate",
              "label": "xe_pyruvate",
              "parent": "bac:bt",
              "size": 0.35,
              "type": "feedingTerm"
            },
            "grabbable": true,
            "grabbed": false,
            "locked": false,
            "pannable": false,
            "position": {
              "x": -196,
              "y": 464
            },
            "removed": false,
            "selectable": false,
            "selected": false
          }
        },
        "1be9ee9f95894e158f433ace8988232d": {
          "model_module": "jupyter-cytoscape",
          "model_module_version": "^1.3.3",
          "model_name": "EdgeModel",
          "state": {
            "_model_module": "jupyter-cytoscape",
            "_model_module_version": "^1.3.3",
            "_model_name": "EdgeModel",
            "_view_count": null,
            "_view_module": "jupyter-cytoscape",
            "_view_module_version": "^1.3.3",
            "_view_name": "EdgeView",
            "classes": "",
            "data": {
              "condition": "\"\"",
              "edgeLabel": "Condition: \"\" | Rate: 1e-05",
              "id": "edge:sub:bac:ri:xk:sub:bac:ri:xl:transition:0",
              "kind": "transition",
              "rate": 0.00001,
              "role": "connects",
              "source": "sub:bac:ri:xk",
              "source_subpop": "xk",
              "target": "sub:bac:ri:xl",
              "target_subpop": "xl"
            },
            "pannable": true,
            "removed": false,
            "selectable": false,
            "selected": false
          }
        },
        "1c287cdf89e04b1b8b2764dfd16e394c": {
          "model_module": "jupyter-cytoscape",
          "model_module_version": "^1.3.3",
          "model_name": "CytoscapeModel",
          "state": {
            "_dom_classes": [],
            "_interaction_handlers": {},
            "_model_module": "jupyter-cytoscape",
            "_model_module_version": "^1.3.3",
            "_model_name": "CytoscapeModel",
            "_view_count": null,
            "_view_module": "jupyter-cytoscape",
            "_view_module_version": "^1.3.3",
            "_view_name": "CytoscapeView",
            "auto_ungrabify": false,
            "auto_unselectify": true,
            "autolock": false,
            "box_selection_enabled": false,
            "cytoscape_layout": {
              "name": "preset"
            },
            "cytoscape_style": [
              {
                "selector": "node",
                "style": {
                  "background-color": "data(color)",
                  "border-color": "#334155",
                  "border-width": 1,
                  "font-size": 10,
                  "height": "mapData(size, 0, 5, 20, 120)",
                  "label": "data(label)",
                  "text-max-width": 120,
                  "text-wrap": "wrap",
                  "width": "mapData(size, 0, 5, 20, 120)"
                }
              },
              {
                "selector": "node[type = \"metabolite\"]",
                "style": {
                  "background-color": "data(color)",
                  "shape": "ellipse"
                }
              },
              {
                "selector": "node[type = \"subpopulation\"]",
                "style": {
                  "background-color": "data(color)",
                  "shape": "hexagon"
                }
              },
              {
                "selector": "node[type = \"feedingTerm\"]",
                "style": {
                  "background-color": "data(color)",
                  "shape": "triangle"
                }
              },
              {
                "selector": "node[type = \"pH\"]",
                "style": {
                  "background-color": "data(color)",
                  "shape": "diamond"
                }
              },
              {
                "selector": "node[type = \"group\"]",
                "style": {
                  "background-opacity": 0,
                  "border-color": "#94a3b8",
                  "border-width": 6,
                  "padding": "12px",
                  "shape": "round-rectangle",
                  "z-compound-depth": "bottom"
                }
              },
              {
                "selector": "edge",
                "style": {
                  "curve-style": "bezier",
                  "line-color": "#94a3b8",
                  "target-arrow-color": "#94a3b8",
                  "target-arrow-shape": "vee",
                  "width": 2
                }
              },
              {
                "selector": "edge[role = \"feeds\"]",
                "style": {
                  "display": "element",
                  "line-color": "#64748b",
                  "target-arrow-color": "#64748b",
                  "target-arrow-shape": "triangle"
                }
              },
              {
                "selector": "edge[role = \"consumes\"]",
                "style": {
                  "display": "element",
                  "line-color": "#3b82f6",
                  "target-arrow-color": "#3b82f6",
                  "target-arrow-shape": "triangle",
                  "width": "mapData(rateAbs, 0, 5, 1, 8)"
                }
              },
              {
                "selector": "edge[role = \"produces\"]",
                "style": {
                  "display": "element",
                  "line-color": "#16a34a",
                  "target-arrow-color": "#16a34a",
                  "target-arrow-shape": "triangle",
                  "width": "mapData(rateAbs, 0, 5, 1, 8)"
                }
              },
              {
                "selector": "edge[role = \"connects\"]",
                "style": {
                  "display": "element",
                  "line-color": "#6b7280",
                  "line-style": "dashed",
                  "target-arrow-color": "#6b7280"
                }
              },
              {
                "selector": "edge[role = \"controls\"]",
                "style": {
                  "display": "element",
                  "line-color": "#f97316",
                  "target-arrow-color": "#f97316",
                  "target-arrow-shape": "triangle",
                  "width": "mapData(coeff, -1, 1, 1, 6)"
                }
              },
              {
                "selector": "node:selected",
                "style": {
                  "font-size": 11,
                  "label": "data(hoverLabel)",
                  "text-background-color": "#ffffff",
                  "text-background-opacity": 0.85,
                  "text-background-padding": 2,
                  "z-index": 999
                }
              },
              {
                "selector": "edge:selected",
                "style": {
                  "font-size": 10,
                  "label": "data(edgeLabel)",
                  "text-background-color": "#ffffff",
                  "text-background-opacity": 0.85,
                  "text-background-padding": 2,
                  "text-rotation": "autorotate",
                  "z-index": 999
                }
              },
              {
                "selector": "edge",
                "style": {
                  "font-size": 9,
                  "label": "data(edgeLabel)",
                  "text-background-color": "#ffffff",
                  "text-background-opacity": 0.7,
                  "text-background-padding": 2,
                  "text-rotation": "autorotate"
                }
              }
            ],
            "desktop_tap_threshold": 4,
            "graph": "IPY_MODEL_c7baa4dc63f248818a2606760af90217",
            "headless": false,
            "hide_edges_on_viewport": false,
            "layout": "IPY_MODEL_21f2fbc42e5d4672b5bf4707c362e3e6",
            "max_zoom": 1e+50,
            "min_zoom": 1e-50,
            "motion_blur": false,
            "motion_blur_opacity": 0.2,
            "panning_enabled": true,
            "pixel_ratio": "auto",
            "rendered_position": {
              "renderedPosition": {
                "x": 100,
                "y": 100
              }
            },
            "selection_type": "single",
            "style_enabled": true,
            "texture_on_viewport": false,
            "tooltip_source": "tooltip",
            "touch_tap_threshold": 8,
            "user_panning_enabled": true,
            "user_zooming_enabled": true,
            "wheel_sensitivity": 1,
            "zoom": 2,
            "zooming_enabled": true
          }
        },
        "1f690a09943041d7a5b30e85a91ecbb8": {
          "model_module": "jupyter-cytoscape",
          "model_module_version": "^1.3.3",
          "model_name": "NodeModel",
          "state": {
            "_model_module": "jupyter-cytoscape",
            "_model_module_version": "^1.3.3",
            "_model_name": "NodeModel",
            "_view_count": null,
            "_view_module": "jupyter-cytoscape",
            "_view_module_version": "^1.3.3",
            "_view_name": "NodeView",
            "classes": "",
            "data": {
              "color": "#00B8FF",
              "concentration": 1,
              "description": "Glutamate metabolite",
              "formula": {
                "C": 5,
                "H": 9,
                "N": 1,
                "O": 4,
                "P": 0,
                "S": 0
              },
              "hoverLabel": "glutamate (metabolite) | conc=1 | formula=C5H9O4N1",
              "id": "met:glutamate",
              "label": "glutamate",
              "size": 0.8,
              "type": "metabolite"
            },
            "grabbable": true,
            "grabbed": false,
            "locked": false,
            "pannable": false,
            "position": {
              "x": -92,
              "y": -180
            },
            "removed": false,
            "selectable": false,
            "selected": false
          }
        },
        "20523d48d94e415fb504b3e06c35156b": {
          "model_module": "jupyter-cytoscape",
          "model_module_version": "^1.3.3",
          "model_name": "EdgeModel",
          "state": {
            "_model_module": "jupyter-cytoscape",
            "_model_module_version": "^1.3.3",
            "_model_name": "EdgeModel",
            "_view_count": null,
            "_view_module": "jupyter-cytoscape",
            "_view_module_version": "^1.3.3",
            "_view_name": "EdgeView",
            "classes": "",
            "data": {
              "condition": "(4.57e-08 ** 1.0/(4.57e-08 ** 1.0 + trehalose ** 1.0))",
              "edgeLabel": "Condition: (4.57e-08 ** 1.0/(4.57e-08 ** 1.0 + trehalose ** 1... | Rate: 0.0250945181",
              "id": "edge:sub:bac:bh:xa:sub:bac:bh:xb:transition:0",
              "kind": "transition",
              "rate": 0.0250945181,
              "role": "connects",
              "source": "sub:bac:bh:xa",
              "source_subpop": "xa",
              "target": "sub:bac:bh:xb",
              "target_subpop": "xb"
            },
            "pannable": true,
            "removed": false,
            "selectable": false,
            "selected": false
          }
        },
        "21c171b820934803a15096a1a08d4845": {
          "model_module": "jupyter-cytoscape",
          "model_module_version": "^1.3.3",
          "model_name": "NodeModel",
          "state": {
            "_model_module": "jupyter-cytoscape",
            "_model_module_version": "^1.3.3",
            "_model_name": "NodeModel",
            "_view_count": null,
            "_view_module": "jupyter-cytoscape",
            "_view_module_version": "^1.3.3",
            "_view_name": "NodeView",
            "classes": "",
            "data": {
              "baseValue": 6.6369,
              "color": "#10b981",
              "description": "pH control node that can be influenced by metabolites",
              "hoverLabel": "pH",
              "id": "pH",
              "label": "pH",
              "name": "pH Control",
              "type": "pH"
            },
            "grabbable": true,
            "grabbed": false,
            "locked": false,
            "pannable": false,
            "position": {
              "x": 560,
              "y": 534
            },
            "removed": false,
            "selectable": false,
            "selected": false
          }
        },
        "21d7b700d7ef40b198e540e56e00cc04": {
          "model_module": "jupyter-cytoscape",
          "model_module_version": "^1.3.3",
          "model_name": "CytoscapeModel",
          "state": {
            "_dom_classes": [],
            "_interaction_handlers": {},
            "_model_module": "jupyter-cytoscape",
            "_model_module_version": "^1.3.3",
            "_model_name": "CytoscapeModel",
            "_view_count": null,
            "_view_module": "jupyter-cytoscape",
            "_view_module_version": "^1.3.3",
            "_view_name": "CytoscapeView",
            "auto_ungrabify": false,
            "auto_unselectify": true,
            "autolock": false,
            "box_selection_enabled": false,
            "cytoscape_layout": {
              "name": "preset"
            },
            "cytoscape_style": [
              {
                "selector": "node",
                "style": {
                  "background-color": "data(color)",
                  "border-color": "#334155",
                  "border-width": 1,
                  "font-size": 10,
                  "height": "mapData(size, 0, 5, 20, 120)",
                  "label": "data(label)",
                  "text-max-width": 120,
                  "text-wrap": "wrap",
                  "width": "mapData(size, 0, 5, 20, 120)"
                }
              },
              {
                "selector": "node[type = \"metabolite\"]",
                "style": {
                  "background-color": "data(color)",
                  "shape": "ellipse"
                }
              },
              {
                "selector": "node[type = \"subpopulation\"]",
                "style": {
                  "background-color": "data(color)",
                  "shape": "hexagon"
                }
              },
              {
                "selector": "node[type = \"feedingTerm\"]",
                "style": {
                  "background-color": "data(color)",
                  "shape": "triangle"
                }
              },
              {
                "selector": "node[type = \"pH\"]",
                "style": {
                  "background-color": "data(color)",
                  "shape": "diamond"
                }
              },
              {
                "selector": "node[type = \"group\"]",
                "style": {
                  "background-opacity": 0,
                  "border-color": "#94a3b8",
                  "border-width": 6,
                  "padding": "12px",
                  "shape": "round-rectangle",
                  "z-compound-depth": "bottom"
                }
              },
              {
                "selector": "edge",
                "style": {
                  "curve-style": "bezier",
                  "line-color": "#94a3b8",
                  "target-arrow-color": "#94a3b8",
                  "target-arrow-shape": "vee",
                  "width": 2
                }
              },
              {
                "selector": "edge[role = \"feeds\"]",
                "style": {
                  "display": "element",
                  "line-color": "#64748b",
                  "target-arrow-color": "#64748b",
                  "target-arrow-shape": "triangle"
                }
              },
              {
                "selector": "edge[role = \"consumes\"]",
                "style": {
                  "display": "element",
                  "line-color": "#3b82f6",
                  "target-arrow-color": "#3b82f6",
                  "target-arrow-shape": "triangle",
                  "width": "mapData(rateAbs, 0, 5, 1, 8)"
                }
              },
              {
                "selector": "edge[role = \"produces\"]",
                "style": {
                  "display": "element",
                  "line-color": "#16a34a",
                  "target-arrow-color": "#16a34a",
                  "target-arrow-shape": "triangle",
                  "width": "mapData(rateAbs, 0, 5, 1, 8)"
                }
              },
              {
                "selector": "edge[role = \"connects\"]",
                "style": {
                  "display": "element",
                  "line-color": "#6b7280",
                  "line-style": "dashed",
                  "target-arrow-color": "#6b7280"
                }
              },
              {
                "selector": "edge[role = \"controls\"]",
                "style": {
                  "display": "element",
                  "line-color": "#f97316",
                  "target-arrow-color": "#f97316",
                  "target-arrow-shape": "triangle",
                  "width": "mapData(coeff, -1, 1, 1, 6)"
                }
              },
              {
                "selector": "node:selected",
                "style": {
                  "font-size": 11,
                  "label": "data(hoverLabel)",
                  "text-background-color": "#ffffff",
                  "text-background-opacity": 0.85,
                  "text-background-padding": 2,
                  "z-index": 999
                }
              },
              {
                "selector": "edge:selected",
                "style": {
                  "font-size": 10,
                  "label": "data(edgeLabel)",
                  "text-background-color": "#ffffff",
                  "text-background-opacity": 0.85,
                  "text-background-padding": 2,
                  "text-rotation": "autorotate",
                  "z-index": 999
                }
              },
              {
                "selector": "edge",
                "style": {
                  "font-size": 9,
                  "label": "data(edgeLabel)",
                  "text-background-color": "#ffffff",
                  "text-background-opacity": 0.7,
                  "text-background-padding": 2,
                  "text-rotation": "autorotate"
                }
              }
            ],
            "desktop_tap_threshold": 4,
            "graph": "IPY_MODEL_f1c7a0938a174a39aa7351aeca085170",
            "headless": false,
            "hide_edges_on_viewport": false,
            "layout": "IPY_MODEL_9e31d9f11e9d48d38c9cbd2e1afa0de7",
            "max_zoom": 1e+50,
            "min_zoom": 1e-50,
            "motion_blur": false,
            "motion_blur_opacity": 0.2,
            "panning_enabled": true,
            "pixel_ratio": "auto",
            "rendered_position": {
              "renderedPosition": {
                "x": 100,
                "y": 100
              }
            },
            "selection_type": "single",
            "style_enabled": true,
            "texture_on_viewport": false,
            "tooltip_source": "tooltip",
            "touch_tap_threshold": 8,
            "user_panning_enabled": true,
            "user_zooming_enabled": true,
            "wheel_sensitivity": 1,
            "zoom": 2,
            "zooming_enabled": true
          }
        },
        "21f2fbc42e5d4672b5bf4707c362e3e6": {
          "model_module": "@jupyter-widgets/base",
          "model_module_version": "1.2.0",
          "model_name": "LayoutModel",
          "state": {
            "_model_module": "@jupyter-widgets/base",
            "_model_module_version": "1.2.0",
            "_model_name": "LayoutModel",
            "_view_count": null,
            "_view_module": "@jupyter-widgets/base",
            "_view_module_version": "1.2.0",
            "_view_name": "LayoutView",
            "align_content": null,
            "align_items": null,
            "align_self": null,
            "border": null,
            "bottom": null,
            "display": null,
            "flex": null,
            "flex_flow": null,
            "grid_area": null,
            "grid_auto_columns": null,
            "grid_auto_flow": null,
            "grid_auto_rows": null,
            "grid_column": null,
            "grid_gap": null,
            "grid_row": null,
            "grid_template_areas": null,
            "grid_template_columns": null,
            "grid_template_rows": null,
            "height": null,
            "justify_content": null,
            "justify_items": null,
            "left": null,
            "margin": null,
            "max_height": null,
            "max_width": null,
            "min_height": null,
            "min_width": null,
            "object_fit": null,
            "object_position": null,
            "order": null,
            "overflow": null,
            "overflow_x": null,
            "overflow_y": null,
            "padding": null,
            "right": null,
            "top": null,
            "visibility": null,
            "width": null
          }
        },
        "23e89b0f5f08405d8d38434a8dfb1d0f": {
          "model_module": "jupyter-cytoscape",
          "model_module_version": "^1.3.3",
          "model_name": "NodeModel",
          "state": {
            "_model_module": "jupyter-cytoscape",
            "_model_module_version": "^1.3.3",
            "_model_name": "NodeModel",
            "_view_count": null,
            "_view_module": "jupyter-cytoscape",
            "_view_module_version": "^1.3.3",
            "_view_name": "NodeView",
            "classes": "",
            "data": {
              "color": "#003eff",
              "concentration": 0,
              "formula": {
                "C": 2,
                "H": 4,
                "N": 0,
                "O": 3,
                "P": 0,
                "S": 0
              },
              "hoverLabel": "acetate (metabolite) | conc=0 | formula=C2H4O3",
              "id": "met:acetate",
              "label": "acetate",
              "size": 0,
              "type": "metabolite"
            },
            "grabbable": true,
            "grabbed": false,
            "locked": false,
            "pannable": false,
            "position": {
              "x": -128,
              "y": 0
            },
            "removed": false,
            "selectable": false,
            "selected": false
          }
        },
        "263c95f26bf5402a917654b46b4f9b37": {
          "model_module": "jupyter-cytoscape",
          "model_module_version": "^1.3.3",
          "model_name": "NodeModel",
          "state": {
            "_model_module": "jupyter-cytoscape",
            "_model_module_version": "^1.3.3",
            "_model_name": "NodeModel",
            "_view_count": null,
            "_view_module": "jupyter-cytoscape",
            "_view_module_version": "^1.3.3",
            "_view_name": "NodeView",
            "classes": "",
            "data": {
              "color": "#00ffaf",
              "concentration": 0.272274459166667,
              "description": "Lactate metabolite",
              "formula": {
                "C": 3,
                "H": 6,
                "N": 0,
                "O": 3,
                "P": 0,
                "S": 0
              },
              "hoverLabel": "lactate (metabolite) | conc=0.272274 | formula=C3H6O3",
              "id": "met:lactate",
              "label": "lactate",
              "size": 0.43613722958333345,
              "type": "metabolite"
            },
            "grabbable": true,
            "grabbed": false,
            "locked": false,
            "pannable": false,
            "position": {
              "x": -196,
              "y": 320
            },
            "removed": false,
            "selectable": false,
            "selected": false
          }
        },
        "272b7204832e428c824405e18ff01772": {
          "model_module": "jupyter-cytoscape",
          "model_module_version": "^1.3.3",
          "model_name": "EdgeModel",
          "state": {
            "_model_module": "jupyter-cytoscape",
            "_model_module_version": "^1.3.3",
            "_model_name": "EdgeModel",
            "_view_count": null,
            "_view_module": "jupyter-cytoscape",
            "_view_module_version": "^1.3.3",
            "_view_name": "EdgeView",
            "classes": "",
            "data": {
              "condition": "",
              "edgeLabel": "Transition",
              "id": "edge:sub:bac:E_coli:glucose_ecoli:sub:bac:E_coli:inactive_ecoli:transition:1",
              "kind": "transition",
              "rate": 0.00001,
              "role": "connects",
              "source": "sub:bac:E_coli:glucose_ecoli",
              "source_subpop": "glucose_ecoli",
              "target": "sub:bac:E_coli:inactive_ecoli",
              "target_subpop": "inactive_ecoli"
            },
            "pannable": true,
            "removed": false,
            "selectable": false,
            "selected": false
          }
        },
        "2834a94044ff4d0ab1882be0b3045252": {
          "model_module": "jupyter-cytoscape",
          "model_module_version": "^1.3.3",
          "model_name": "NodeModel",
          "state": {
            "_model_module": "jupyter-cytoscape",
            "_model_module_version": "^1.3.3",
            "_model_name": "NodeModel",
            "_view_count": null,
            "_view_module": "jupyter-cytoscape",
            "_view_module_version": "^1.3.3",
            "_view_name": "NodeView",
            "classes": "",
            "data": {
              "Topt": 37,
              "color": "#FF10F0",
              "count": 0,
              "hoverLabel": "xb (subpop) | μmax=0.978104 | state=active",
              "id": "sub:bac:bh:xb",
              "label": "xb",
              "mumax": 0.978104098,
              "pH_sensitivity_left": 1.1712,
              "pH_sensitivity_right": 1.1712,
              "pHopt": 6.5395960604,
              "parent": "bac:bh",
              "size": 0.3,
              "species": "bh",
              "state": "active",
              "tempSensitivity_left": 3,
              "tempSensitivity_right": 4,
              "type": "subpopulation"
            },
            "grabbable": true,
            "grabbed": false,
            "locked": false,
            "pannable": false,
            "position": {
              "x": -80,
              "y": 140
            },
            "removed": false,
            "selectable": false,
            "selected": false
          }
        },
        "29b3efe612784756a2bc0277bd43740e": {
          "model_module": "jupyter-cytoscape",
          "model_module_version": "^1.3.3",
          "model_name": "NodeModel",
          "state": {
            "_model_module": "jupyter-cytoscape",
            "_model_module_version": "^1.3.3",
            "_model_name": "NodeModel",
            "_view_count": null,
            "_view_module": "jupyter-cytoscape",
            "_view_module_version": "^1.3.3",
            "_view_name": "NodeView",
            "classes": "",
            "data": {
              "Topt": 37,
              "color": "#ff4444",
              "count": 1,
              "hoverLabel": "default_subpop (subpop) | μmax=0.5 | state=active",
              "id": "sub:bac:default_species:default_subpop",
              "label": "default_subpop",
              "mumax": 0.5,
              "pH_sensitivity_left": 2,
              "pH_sensitivity_right": 2,
              "pHopt": 7,
              "parent": "bac:default_species",
              "size": 1,
              "species": "default_species",
              "state": "active",
              "tempSensitivity_left": 5,
              "tempSensitivity_right": 2,
              "type": "subpopulation"
            },
            "grabbable": true,
            "grabbed": false,
            "locked": false,
            "pannable": false,
            "position": {
              "x": 0,
              "y": 140
            },
            "removed": false,
            "selectable": false,
            "selected": false
          }
        },
        "2ea28a91d8c548a093cf0b25d0705799": {
          "model_module": "jupyter-cytoscape",
          "model_module_version": "^1.3.3",
          "model_name": "NodeModel",
          "state": {
            "_model_module": "jupyter-cytoscape",
            "_model_module_version": "^1.3.3",
            "_model_name": "NodeModel",
            "_view_count": null,
            "_view_module": "jupyter-cytoscape",
            "_view_module_version": "^1.3.3",
            "_view_name": "NodeView",
            "classes": "",
            "data": {
              "color": "#00ff26",
              "concentration": 0.444971364333333,
              "description": "Succinate metabolite",
              "formula": {
                "C": 4,
                "H": 6,
                "N": 0,
                "O": 4,
                "P": 0,
                "S": 0
              },
              "hoverLabel": "succinate (metabolite) | conc=0.444971 | formula=C4H6O4",
              "id": "met:succinate",
              "label": "succinate",
              "size": 0.5224856821666665,
              "type": "metabolite"
            },
            "grabbable": true,
            "grabbed": false,
            "locked": false,
            "pannable": false,
            "position": {
              "x": -80,
              "y": 784
            },
            "removed": false,
            "selectable": false,
            "selected": false
          }
        },
        "314e6d8145154b029b3cfafe653a1627": {
          "model_module": "jupyter-cytoscape",
          "model_module_version": "^1.3.3",
          "model_name": "EdgeModel",
          "state": {
            "_model_module": "jupyter-cytoscape",
            "_model_module_version": "^1.3.3",
            "_model_name": "EdgeModel",
            "_view_count": null,
            "_view_module": "jupyter-cytoscape",
            "_view_module_version": "^1.3.3",
            "_view_name": "EdgeView",
            "classes": "",
            "data": {
              "K": 0,
              "dirFrom": "K",
              "edgeLabel": "acetate | r=0.728, K=0",
              "ft": "ft:sub:bac:ri:xi:xi_glucose",
              "id": "edge:ft:sub:bac:ri:xi:xi_glucose:met:acetate:produces:0",
              "metKey": "acetate",
              "rate": 0.7276644727,
              "rateAbs": 0.7276644727,
              "rateNorm": 0.07276644727,
              "role": "produces",
              "source": "ft:sub:bac:ri:xi:xi_glucose",
              "target": "met:acetate"
            },
            "pannable": true,
            "removed": false,
            "selectable": false,
            "selected": false
          }
        },
        "32238c9b1d514fc39a13d997fb04c3cb": {
          "model_module": "jupyter-cytoscape",
          "model_module_version": "^1.3.3",
          "model_name": "EdgeModel",
          "state": {
            "_model_module": "jupyter-cytoscape",
            "_model_module_version": "^1.3.3",
            "_model_name": "EdgeModel",
            "_view_count": null,
            "_view_module": "jupyter-cytoscape",
            "_view_module_version": "^1.3.3",
            "_view_name": "EdgeView",
            "classes": "",
            "data": {
              "condition": "(0.0001293346 ** 2.9055456987/(0.0001293346 ** 2.9055456987 + ((glucose + glutamate - ((glucose - glutamate)**2)**0.5)/2) ** 2.9055456987))",
              "edgeLabel": "Condition: (0.0001293346 ** 2.9055456987/(0.0001293346 ** 2.9... | Rate: 0.2960374542",
              "id": "edge:sub:bac:bh:xb:sub:bac:bh:xc:transition:1",
              "kind": "transition",
              "rate": 0.2960374542,
              "role": "connects",
              "source": "sub:bac:bh:xb",
              "source_subpop": "xb",
              "target": "sub:bac:bh:xc",
              "target_subpop": "xc"
            },
            "pannable": true,
            "removed": false,
            "selectable": false,
            "selected": false
          }
        },
        "350a44016ac546ac99351bcebf3dfeae": {
          "model_module": "jupyter-cytoscape",
          "model_module_version": "^1.3.3",
          "model_name": "EdgeModel",
          "state": {
            "_model_module": "jupyter-cytoscape",
            "_model_module_version": "^1.3.3",
            "_model_name": "EdgeModel",
            "_view_count": null,
            "_view_module": "jupyter-cytoscape",
            "_view_module_version": "^1.3.3",
            "_view_name": "EdgeView",
            "classes": "",
            "data": {
              "K": 0.3530205777,
              "dirFrom": "K",
              "edgeLabel": "glucose | r=1.03, K=0.353",
              "ft": "ft:sub:bac:bt:xe:xe_glucose",
              "id": "edge:met:glucose:ft:sub:bac:bt:xe:xe_glucose:consumes:1",
              "metKey": "glucose",
              "rate": 1.0269754623,
              "rateAbs": 1.0269754623,
              "rateNorm": 0.10269754623,
              "role": "consumes",
              "source": "met:glucose",
              "target": "ft:sub:bac:bt:xe:xe_glucose"
            },
            "pannable": true,
            "removed": false,
            "selectable": false,
            "selected": false
          }
        },
        "358a52f5c5444324816044671d94caeb": {
          "model_module": "jupyter-cytoscape",
          "model_module_version": "^1.3.3",
          "model_name": "EdgeModel",
          "state": {
            "_model_module": "jupyter-cytoscape",
            "_model_module_version": "^1.3.3",
            "_model_name": "EdgeModel",
            "_view_count": null,
            "_view_module": "jupyter-cytoscape",
            "_view_module_version": "^1.3.3",
            "_view_name": "EdgeView",
            "classes": "",
            "data": {
              "edgeLabel": "feeds",
              "id": "edge:sub:bac:bh:xb:ft:sub:bac:bh:xb:xb_pyruvate:feeds",
              "kind": "feeds",
              "role": "feeds",
              "source": "sub:bac:bh:xb",
              "target": "ft:sub:bac:bh:xb:xb_pyruvate"
            },
            "pannable": true,
            "removed": false,
            "selectable": false,
            "selected": false
          }
        },
        "36205e2ab7f84d989ffcaade68f30b78": {
          "model_module": "jupyter-cytoscape",
          "model_module_version": "^1.3.3",
          "model_name": "EdgeModel",
          "state": {
            "_model_module": "jupyter-cytoscape",
            "_model_module_version": "^1.3.3",
            "_model_name": "EdgeModel",
            "_view_count": null,
            "_view_module": "jupyter-cytoscape",
            "_view_module_version": "^1.3.3",
            "_view_name": "EdgeView",
            "classes": "",
            "data": {
              "condition": "\"\"",
              "edgeLabel": "Condition: \"\" | Rate: 0.0044568271",
              "id": "edge:sub:bac:bt:xg:sub:bac:bt:xh:transition:0",
              "kind": "transition",
              "rate": 0.0044568271,
              "role": "connects",
              "source": "sub:bac:bt:xg",
              "source_subpop": "xg",
              "target": "sub:bac:bt:xh",
              "target_subpop": "xh"
            },
            "pannable": true,
            "removed": false,
            "selectable": false,
            "selected": false
          }
        },
        "36b893cbc69445888a1d7a1ed34a5364": {
          "model_module": "jupyter-cytoscape",
          "model_module_version": "^1.3.3",
          "model_name": "NodeModel",
          "state": {
            "_model_module": "jupyter-cytoscape",
            "_model_module_version": "^1.3.3",
            "_model_name": "NodeModel",
            "_view_count": null,
            "_view_module": "jupyter-cytoscape",
            "_view_module_version": "^1.3.3",
            "_view_name": "NodeView",
            "classes": "",
            "data": {
              "hoverLabel": "glucose_to_acetate (feeding-term)",
              "id": "ft:sub:bac:default_species:default_subpop:glucose_to_acetate",
              "label": "glucose_to_acetate",
              "metabolome_metabolites": [
                "acetate",
                "co2",
                "glucose"
              ],
              "parent": "bac:default_species",
              "size": 0.35,
              "type": "feedingTerm"
            },
            "grabbable": true,
            "grabbed": false,
            "locked": false,
            "pannable": false,
            "position": {
              "x": 0,
              "y": 0
            },
            "removed": false,
            "selectable": false,
            "selected": false
          }
        },
        "37811bf900674fb5a5c3b2b6094bb02b": {
          "model_module": "jupyter-cytoscape",
          "model_module_version": "^1.3.3",
          "model_name": "EdgeModel",
          "state": {
            "_model_module": "jupyter-cytoscape",
            "_model_module_version": "^1.3.3",
            "_model_name": "EdgeModel",
            "_view_count": null,
            "_view_module": "jupyter-cytoscape",
            "_view_module_version": "^1.3.3",
            "_view_name": "EdgeView",
            "classes": "",
            "data": {
              "edgeLabel": "feeds",
              "id": "edge:sub:bac:E_coli:acetate_ecoli:ft:sub:bac:E_coli:acetate_ecoli:acetate_to_co2:feeds",
              "kind": "feeds",
              "role": "feeds",
              "source": "sub:bac:E_coli:acetate_ecoli",
              "target": "ft:sub:bac:E_coli:acetate_ecoli:acetate_to_co2"
            },
            "pannable": true,
            "removed": false,
            "selectable": false,
            "selected": false
          }
        },
        "37c62938e91b4f29b4f5f65a223c2311": {
          "model_module": "jupyter-cytoscape",
          "model_module_version": "^1.3.3",
          "model_name": "EdgeModel",
          "state": {
            "_model_module": "jupyter-cytoscape",
            "_model_module_version": "^1.3.3",
            "_model_name": "EdgeModel",
            "_view_count": null,
            "_view_module": "jupyter-cytoscape",
            "_view_module_version": "^1.3.3",
            "_view_name": "EdgeView",
            "classes": "",
            "data": {
              "edgeLabel": "feeds",
              "id": "edge:sub:bac:bt:xf:ft:sub:bac:bt:xf:xf_mannose:feeds",
              "kind": "feeds",
              "role": "feeds",
              "source": "sub:bac:bt:xf",
              "target": "ft:sub:bac:bt:xf:xf_mannose"
            },
            "pannable": true,
            "removed": false,
            "selectable": false,
            "selected": false
          }
        },
        "384738ed5c484d1b9e2350f66c10475b": {
          "model_module": "jupyter-cytoscape",
          "model_module_version": "^1.3.3",
          "model_name": "NodeModel",
          "state": {
            "_model_module": "jupyter-cytoscape",
            "_model_module_version": "^1.3.3",
            "_model_name": "NodeModel",
            "_view_count": null,
            "_view_module": "jupyter-cytoscape",
            "_view_module_version": "^1.3.3",
            "_view_name": "NodeView",
            "classes": "",
            "data": {
              "Topt": 37,
              "color": "#cf6f15",
              "count": 1,
              "hoverLabel": "glucose_ecoli (subpop) | μmax=0.5 | state=active",
              "id": "sub:bac:E_coli:glucose_ecoli",
              "label": "glucose_ecoli",
              "mumax": 0.5,
              "pHalpha": 1,
              "pHopt": 7,
              "parent": "bac:E_coli",
              "size": 1,
              "species": "E. coli",
              "state": "active",
              "tempSensitivity_left": 1,
              "tempSensitivity_right": 1,
              "type": "subpopulation"
            },
            "grabbable": true,
            "grabbed": false,
            "locked": false,
            "pannable": false,
            "position": {
              "x": 0,
              "y": 140
            },
            "removed": false,
            "selectable": false,
            "selected": false
          }
        },
        "38acf5c9ee5d427aa3ea3f2b15d31828": {
          "model_module": "jupyter-cytoscape",
          "model_module_version": "^1.3.3",
          "model_name": "NodeModel",
          "state": {
            "_model_module": "jupyter-cytoscape",
            "_model_module_version": "^1.3.3",
            "_model_name": "NodeModel",
            "_view_count": null,
            "_view_module": "jupyter-cytoscape",
            "_view_module_version": "^1.3.3",
            "_view_name": "NodeView",
            "classes": "",
            "data": {
              "hoverLabel": "xi_pyruvate (feeding-term)",
              "id": "ft:sub:bac:ri:xi:xi_pyruvate",
              "label": "xi_pyruvate",
              "parent": "bac:ri",
              "size": 0.35,
              "type": "feedingTerm"
            },
            "grabbable": true,
            "grabbed": false,
            "locked": false,
            "pannable": false,
            "position": {
              "x": -196,
              "y": 928
            },
            "removed": false,
            "selectable": false,
            "selected": false
          }
        },
        "38e1807d27fd4c1cbfcab0478e92c814": {
          "model_module": "jupyter-cytoscape",
          "model_module_version": "^1.3.3",
          "model_name": "NodeModel",
          "state": {
            "_model_module": "jupyter-cytoscape",
            "_model_module_version": "^1.3.3",
            "_model_name": "NodeModel",
            "_view_count": null,
            "_view_module": "jupyter-cytoscape",
            "_view_module_version": "^1.3.3",
            "_view_name": "NodeView",
            "classes": "",
            "data": {
              "Topt": 37,
              "color": "#212121",
              "count": 0,
              "hoverLabel": "xh (subpop) | μmax=0 | state=dead",
              "id": "sub:bac:bt:xh",
              "label": "xh",
              "mumax": 0,
              "pH_sensitivity_left": 2,
              "pH_sensitivity_right": 2,
              "pHopt": 7,
              "parent": "bac:bt",
              "size": 0.3,
              "species": "bt",
              "state": "dead",
              "tempSensitivity_left": 5,
              "tempSensitivity_right": 2,
              "type": "subpopulation"
            },
            "grabbable": true,
            "grabbed": false,
            "locked": false,
            "pannable": false,
            "position": {
              "x": 240,
              "y": 604
            },
            "removed": false,
            "selectable": false,
            "selected": false
          }
        },
        "38fb8a02a8d3453ca42a93eccf325874": {
          "model_module": "jupyter-cytoscape",
          "model_module_version": "^1.3.3",
          "model_name": "EdgeModel",
          "state": {
            "_model_module": "jupyter-cytoscape",
            "_model_module_version": "^1.3.3",
            "_model_name": "EdgeModel",
            "_view_count": null,
            "_view_module": "jupyter-cytoscape",
            "_view_module_version": "^1.3.3",
            "_view_name": "EdgeView",
            "classes": "",
            "data": {
              "K": 1.2700484896,
              "dirFrom": "K",
              "edgeLabel": "glutamate | r=0.5, K=1.27",
              "ft": "ft:sub:bac:bh:xb:xb_glucose_glutamate",
              "id": "edge:met:glutamate:ft:sub:bac:bh:xb:xb_glucose_glutamate:consumes:1",
              "metKey": "glutamate",
              "rate": 0.5,
              "rateAbs": 0.5,
              "rateNorm": 0.05,
              "role": "consumes",
              "source": "met:glutamate",
              "target": "ft:sub:bac:bh:xb:xb_glucose_glutamate"
            },
            "pannable": true,
            "removed": false,
            "selectable": false,
            "selected": false
          }
        },
        "3b41ae2032154aa2a44365533fc988c2": {
          "model_module": "jupyter-cytoscape",
          "model_module_version": "^1.3.3",
          "model_name": "NodeModel",
          "state": {
            "_model_module": "jupyter-cytoscape",
            "_model_module_version": "^1.3.3",
            "_model_name": "NodeModel",
            "_view_count": null,
            "_view_module": "jupyter-cytoscape",
            "_view_module_version": "^1.3.3",
            "_view_name": "NodeView",
            "classes": "",
            "data": {
              "color": "#8900ff",
              "concentration": 0.684513088333333,
              "description": "Trehalose metabolite",
              "formula": {
                "C": 12,
                "H": 22,
                "N": 0,
                "O": 11,
                "P": 0,
                "S": 0
              },
              "hoverLabel": "trehalose (metabolite) | conc=0.684513 | formula=C12H22O11",
              "id": "met:trehalose",
              "label": "trehalose",
              "size": 0.6422565441666666,
              "type": "metabolite"
            },
            "grabbable": true,
            "grabbed": false,
            "locked": false,
            "pannable": false,
            "position": {
              "x": -196,
              "y": -180
            },
            "removed": false,
            "selectable": false,
            "selected": false
          }
        },
        "3eed498a780b4ab2a210806e2e994916": {
          "model_module": "jupyter-cytoscape",
          "model_module_version": "^1.3.3",
          "model_name": "NodeModel",
          "state": {
            "_model_module": "jupyter-cytoscape",
            "_model_module_version": "^1.3.3",
            "_model_name": "NodeModel",
            "_view_count": null,
            "_view_module": "jupyter-cytoscape",
            "_view_module_version": "^1.3.3",
            "_view_name": "NodeView",
            "classes": "",
            "data": {
              "color": "#024059",
              "concentration": 1,
              "description": "Mannose metabolite",
              "formula": {
                "C": 6,
                "H": 12,
                "N": 1,
                "O": 6,
                "P": 0,
                "S": 0
              },
              "hoverLabel": "mannose (metabolite) | conc=1 | formula=C6H12O6N1",
              "id": "met:mannose",
              "label": "mannose",
              "size": 0.8,
              "type": "metabolite"
            },
            "grabbable": true,
            "grabbed": false,
            "locked": false,
            "pannable": false,
            "position": {
              "x": -80,
              "y": 284
            },
            "removed": false,
            "selectable": false,
            "selected": false
          }
        },
        "40f026a5dc8b449f8b29fe45140b8e7a": {
          "model_module": "jupyter-cytoscape",
          "model_module_version": "^1.3.3",
          "model_name": "NodeModel",
          "state": {
            "_model_module": "jupyter-cytoscape",
            "_model_module_version": "^1.3.3",
            "_model_name": "NodeModel",
            "_view_count": null,
            "_view_module": "jupyter-cytoscape",
            "_view_module_version": "^1.3.3",
            "_view_name": "NodeView",
            "classes": "",
            "data": {
              "Topt": 37,
              "color": "#FF10F0",
              "count": 0.003,
              "hoverLabel": "xa (subpop) | μmax=0.192793 | state=active",
              "id": "sub:bac:bh:xa",
              "label": "xa",
              "mumax": 0.1927934811,
              "pH_sensitivity_left": 1.3789,
              "pH_sensitivity_right": 1.3789,
              "pHopt": 6.818018847,
              "parent": "bac:bh",
              "size": 0.3,
              "species": "bh",
              "state": "active",
              "tempSensitivity_left": 700,
              "tempSensitivity_right": 800,
              "type": "subpopulation"
            },
            "grabbable": true,
            "grabbed": false,
            "locked": false,
            "pannable": false,
            "position": {
              "x": -240,
              "y": 140
            },
            "removed": false,
            "selectable": false,
            "selected": false
          }
        },
        "412096c4b5054fa68f54d2f40b3acc46": {
          "model_module": "jupyter-cytoscape",
          "model_module_version": "^1.3.3",
          "model_name": "EdgeModel",
          "state": {
            "_model_module": "jupyter-cytoscape",
            "_model_module_version": "^1.3.3",
            "_model_name": "EdgeModel",
            "_view_count": null,
            "_view_module": "jupyter-cytoscape",
            "_view_module_version": "^1.3.3",
            "_view_name": "EdgeView",
            "classes": "",
            "data": {
              "edgeLabel": "feeds",
              "id": "edge:sub:bac:default_species:default_subpop:ft:sub:bac:default_species:default_subpop:glucose_to_acetate:feeds",
              "kind": "feeds",
              "role": "feeds",
              "source": "sub:bac:default_species:default_subpop",
              "target": "ft:sub:bac:default_species:default_subpop:glucose_to_acetate"
            },
            "pannable": true,
            "removed": false,
            "selectable": false,
            "selected": false
          }
        },
        "46c52f85c2824c119bb1304c5c69fd53": {
          "model_module": "jupyter-cytoscape",
          "model_module_version": "^1.3.3",
          "model_name": "EdgeModel",
          "state": {
            "_model_module": "jupyter-cytoscape",
            "_model_module_version": "^1.3.3",
            "_model_name": "EdgeModel",
            "_view_count": null,
            "_view_module": "jupyter-cytoscape",
            "_view_module_version": "^1.3.3",
            "_view_name": "EdgeView",
            "classes": "",
            "data": {
              "K": 0,
              "dirFrom": "K",
              "edgeLabel": "butyrate | r=2.99, K=0",
              "ft": "ft:sub:bac:ri:xj:xj_lactate",
              "id": "edge:ft:sub:bac:ri:xj:xj_lactate:met:butyrate:produces:0",
              "metKey": "butyrate",
              "rate": 2.98819627,
              "rateAbs": 2.98819627,
              "rateNorm": 0.298819627,
              "role": "produces",
              "source": "ft:sub:bac:ri:xj:xj_lactate",
              "target": "met:butyrate"
            },
            "pannable": true,
            "removed": false,
            "selectable": false,
            "selected": false
          }
        },
        "4a7d98b66ac1481ea936658ec466432b": {
          "model_module": "jupyter-cytoscape",
          "model_module_version": "^1.3.3",
          "model_name": "EdgeModel",
          "state": {
            "_model_module": "jupyter-cytoscape",
            "_model_module_version": "^1.3.3",
            "_model_name": "EdgeModel",
            "_view_count": null,
            "_view_module": "jupyter-cytoscape",
            "_view_module_version": "^1.3.3",
            "_view_name": "EdgeView",
            "classes": "",
            "data": {
              "K": 0,
              "dirFrom": "K",
              "edgeLabel": "butyrate | r=1.99, K=0",
              "ft": "ft:sub:bac:ri:xi:xi_pyruvate",
              "id": "edge:ft:sub:bac:ri:xi:xi_pyruvate:met:butyrate:produces:1",
              "metKey": "butyrate",
              "rate": 1.9948315995,
              "rateAbs": 1.9948315995,
              "rateNorm": 0.19948315995000002,
              "role": "produces",
              "source": "ft:sub:bac:ri:xi:xi_pyruvate",
              "target": "met:butyrate"
            },
            "pannable": true,
            "removed": false,
            "selectable": false,
            "selected": false
          }
        },
        "4babbac702a141f3b4fb6f05d89653ba": {
          "model_module": "jupyter-cytoscape",
          "model_module_version": "^1.3.3",
          "model_name": "NodeModel",
          "state": {
            "_model_module": "jupyter-cytoscape",
            "_model_module_version": "^1.3.3",
            "_model_name": "NodeModel",
            "_view_count": null,
            "_view_module": "jupyter-cytoscape",
            "_view_module_version": "^1.3.3",
            "_view_name": "NodeView",
            "classes": "",
            "data": {
              "hoverLabel": "glucose_to_acetate (feeding-term)",
              "id": "ft:sub:bac:E_coli:glucose_ecoli:glucose_to_acetate",
              "label": "glucose_to_acetate",
              "metabolome_metabolites": [
                "acetate",
                "co2",
                "glucose"
              ],
              "parent": "bac:E_coli",
              "size": 0.35,
              "type": "feedingTerm"
            },
            "grabbable": true,
            "grabbed": false,
            "locked": false,
            "pannable": false,
            "position": {
              "x": 0,
              "y": 0
            },
            "removed": false,
            "selectable": false,
            "selected": false
          }
        },
        "51819622d45847368afa21433e73704c": {
          "model_module": "jupyter-cytoscape",
          "model_module_version": "^1.3.3",
          "model_name": "EdgeModel",
          "state": {
            "_model_module": "jupyter-cytoscape",
            "_model_module_version": "^1.3.3",
            "_model_name": "EdgeModel",
            "_view_count": null,
            "_view_module": "jupyter-cytoscape",
            "_view_module_version": "^1.3.3",
            "_view_name": "EdgeView",
            "classes": "",
            "data": {
              "K": 2.3916509762,
              "dirFrom": "K",
              "edgeLabel": "pyruvate | r=1, K=2.39",
              "ft": "ft:sub:bac:bh:xa:xa_pyruvate",
              "id": "edge:met:pyruvate:ft:sub:bac:bh:xa:xa_pyruvate:consumes:1",
              "metKey": "pyruvate",
              "rate": 1,
              "rateAbs": 1,
              "rateNorm": 0.1,
              "role": "consumes",
              "source": "met:pyruvate",
              "target": "ft:sub:bac:bh:xa:xa_pyruvate"
            },
            "pannable": true,
            "removed": false,
            "selectable": false,
            "selected": false
          }
        },
        "5302325931084bbd9f6acb67192f4b06": {
          "model_module": "jupyter-cytoscape",
          "model_module_version": "^1.3.3",
          "model_name": "NodeModel",
          "state": {
            "_model_module": "jupyter-cytoscape",
            "_model_module_version": "^1.3.3",
            "_model_name": "NodeModel",
            "_view_count": null,
            "_view_module": "jupyter-cytoscape",
            "_view_module_version": "^1.3.3",
            "_view_name": "NodeView",
            "classes": "",
            "data": {
              "Topt": 37,
              "color": "#cf6f15",
              "count": 1,
              "hoverLabel": "acetate_ecoli (subpop) | μmax=0.3 | state=active",
              "id": "sub:bac:E_coli:acetate_ecoli",
              "label": "acetate_ecoli",
              "mumax": 0.3,
              "pHalpha": 1,
              "pHopt": 7,
              "parent": "bac:E_coli",
              "size": 1,
              "species": "E. coli",
              "state": "active",
              "tempSensitivity_left": 1,
              "tempSensitivity_right": 1,
              "type": "subpopulation"
            },
            "grabbable": true,
            "grabbed": false,
            "locked": false,
            "pannable": false,
            "position": {
              "x": -160,
              "y": 140
            },
            "removed": false,
            "selectable": false,
            "selected": false
          }
        },
        "53839685fe28438eab8763e84bf1efb6": {
          "model_module": "jupyter-cytoscape",
          "model_module_version": "^1.3.3",
          "model_name": "NodeModel",
          "state": {
            "_model_module": "jupyter-cytoscape",
            "_model_module_version": "^1.3.3",
            "_model_name": "NodeModel",
            "_view_count": null,
            "_view_module": "jupyter-cytoscape",
            "_view_module_version": "^1.3.3",
            "_view_name": "NodeView",
            "classes": "",
            "data": {
              "color": "#003eff",
              "concentration": 1.99119196216667,
              "description": "Acetate metabolite",
              "formula": {
                "C": 2,
                "H": 4,
                "N": 0,
                "O": 2,
                "P": 0,
                "S": 0
              },
              "hoverLabel": "acetate (metabolite) | conc=1.99119 | formula=C2H4O2",
              "id": "met:acetate",
              "label": "acetate",
              "size": 0.9196452521959988,
              "type": "metabolite"
            },
            "grabbable": true,
            "grabbed": false,
            "locked": false,
            "pannable": false,
            "position": {
              "x": -36,
              "y": 320
            },
            "removed": false,
            "selectable": false,
            "selected": false
          }
        },
        "56375b12a8884bd690cb42541ed41726": {
          "model_module": "jupyter-cytoscape",
          "model_module_version": "^1.3.3",
          "model_name": "EdgeModel",
          "state": {
            "_model_module": "jupyter-cytoscape",
            "_model_module_version": "^1.3.3",
            "_model_name": "EdgeModel",
            "_view_count": null,
            "_view_module": "jupyter-cytoscape",
            "_view_module_version": "^1.3.3",
            "_view_name": "EdgeView",
            "classes": "",
            "data": {
              "K": 9.9999999149,
              "dirFrom": "K",
              "edgeLabel": "pyruvate | r=2.9, K=10",
              "ft": "ft:sub:bac:bt:xe:xe_pyruvate",
              "id": "edge:met:pyruvate:ft:sub:bac:bt:xe:xe_pyruvate:consumes:0",
              "metKey": "pyruvate",
              "rate": 2.9010309178,
              "rateAbs": 2.9010309178,
              "rateNorm": 0.29010309178,
              "role": "consumes",
              "source": "met:pyruvate",
              "target": "ft:sub:bac:bt:xe:xe_pyruvate"
            },
            "pannable": true,
            "removed": false,
            "selectable": false,
            "selected": false
          }
        },
        "5a992f9543e34d5ca4a5eaff8eaf77b2": {
          "model_module": "jupyter-cytoscape",
          "model_module_version": "^1.3.3",
          "model_name": "NodeModel",
          "state": {
            "_model_module": "jupyter-cytoscape",
            "_model_module_version": "^1.3.3",
            "_model_name": "NodeModel",
            "_view_count": null,
            "_view_module": "jupyter-cytoscape",
            "_view_module_version": "^1.3.3",
            "_view_name": "NodeView",
            "classes": "",
            "data": {
              "id": "bac:bt",
              "label": "bt",
              "type": "group"
            },
            "grabbable": true,
            "grabbed": false,
            "locked": false,
            "pannable": false,
            "position": {},
            "removed": false,
            "selectable": false,
            "selected": false
          }
        },
        "5c09a5be719e453590905aca0cc7ad47": {
          "model_module": "jupyter-cytoscape",
          "model_module_version": "^1.3.3",
          "model_name": "NodeModel",
          "state": {
            "_model_module": "jupyter-cytoscape",
            "_model_module_version": "^1.3.3",
            "_model_name": "NodeModel",
            "_view_count": null,
            "_view_module": "jupyter-cytoscape",
            "_view_module_version": "^1.3.3",
            "_view_name": "NodeView",
            "classes": "",
            "data": {
              "Topt": 37,
              "color": "#363636",
              "count": 0,
              "hoverLabel": "xl (subpop) | μmax=0 | state=dead",
              "id": "sub:bac:ri:xl",
              "label": "xl",
              "mumax": 0,
              "pH_sensitivity_left": 2,
              "pH_sensitivity_right": 2,
              "pHopt": 7,
              "parent": "bac:ri",
              "size": 0.3,
              "species": "ri",
              "state": "dead",
              "tempSensitivity_left": 5,
              "tempSensitivity_right": 2,
              "type": "subpopulation"
            },
            "grabbable": true,
            "grabbed": false,
            "locked": false,
            "pannable": false,
            "position": {
              "x": 240,
              "y": 1068
            },
            "removed": false,
            "selectable": false,
            "selected": false
          }
        },
        "5ff26c0f579e471999a2faa19582e391": {
          "model_module": "jupyter-cytoscape",
          "model_module_version": "^1.3.3",
          "model_name": "EdgeModel",
          "state": {
            "_model_module": "jupyter-cytoscape",
            "_model_module_version": "^1.3.3",
            "_model_name": "EdgeModel",
            "_view_count": null,
            "_view_module": "jupyter-cytoscape",
            "_view_module_version": "^1.3.3",
            "_view_name": "EdgeView",
            "classes": "",
            "data": {
              "K": 1,
              "dirFrom": "K",
              "edgeLabel": "glucose | r=1, K=1",
              "ft": "ft:sub:bac:default_species:default_subpop:glucose_to_acetate",
              "id": "edge:met:glucose:ft:sub:bac:default_species:default_subpop:glucose_to_acetate:consumes:0",
              "metKey": "glucose",
              "rate": 1,
              "rateAbs": 1,
              "rateNorm": 1,
              "role": "consumes",
              "source": "met:glucose",
              "target": "ft:sub:bac:default_species:default_subpop:glucose_to_acetate"
            },
            "pannable": true,
            "removed": false,
            "selectable": false,
            "selected": false
          }
        },
        "607e029438c043d29778642361de5d11": {
          "model_module": "jupyter-cytoscape",
          "model_module_version": "^1.3.3",
          "model_name": "NodeModel",
          "state": {
            "_model_module": "jupyter-cytoscape",
            "_model_module_version": "^1.3.3",
            "_model_name": "NodeModel",
            "_view_count": null,
            "_view_module": "jupyter-cytoscape",
            "_view_module_version": "^1.3.3",
            "_view_name": "NodeView",
            "classes": "",
            "data": {
              "id": "bac:default_species",
              "label": "default_species",
              "type": "group"
            },
            "grabbable": true,
            "grabbed": false,
            "locked": false,
            "pannable": false,
            "position": {},
            "removed": false,
            "selectable": false,
            "selected": false
          }
        },
        "61acdcee616f42d48354f85f3f2aa5f9": {
          "model_module": "jupyter-cytoscape",
          "model_module_version": "^1.3.3",
          "model_name": "NodeModel",
          "state": {
            "_model_module": "jupyter-cytoscape",
            "_model_module_version": "^1.3.3",
            "_model_name": "NodeModel",
            "_view_count": null,
            "_view_module": "jupyter-cytoscape",
            "_view_module_version": "^1.3.3",
            "_view_name": "NodeView",
            "classes": "",
            "data": {
              "color": "#ff00a1",
              "concentration": 0.003717077,
              "description": "Butyrate metabolite",
              "formula": {
                "C": 4,
                "H": 8,
                "N": 0,
                "O": 2,
                "P": 0,
                "S": 0
              },
              "hoverLabel": "butyrate (metabolite) | conc=0.00371708 | formula=C4H8O2",
              "id": "met:butyrate",
              "label": "butyrate",
              "size": 0.3,
              "type": "metabolite"
            },
            "grabbable": true,
            "grabbed": false,
            "locked": false,
            "pannable": false,
            "position": {
              "x": -36,
              "y": 1248
            },
            "removed": false,
            "selectable": false,
            "selected": false
          }
        },
        "636802d13c20454d870b00a83610cc09": {
          "model_module": "jupyter-cytoscape",
          "model_module_version": "^1.3.3",
          "model_name": "CytoscapeModel",
          "state": {
            "_dom_classes": [],
            "_interaction_handlers": {},
            "_model_module": "jupyter-cytoscape",
            "_model_module_version": "^1.3.3",
            "_model_name": "CytoscapeModel",
            "_view_count": null,
            "_view_module": "jupyter-cytoscape",
            "_view_module_version": "^1.3.3",
            "_view_name": "CytoscapeView",
            "auto_ungrabify": false,
            "auto_unselectify": true,
            "autolock": false,
            "box_selection_enabled": false,
            "cytoscape_layout": {
              "name": "preset"
            },
            "cytoscape_style": [
              {
                "selector": "node",
                "style": {
                  "background-color": "data(color)",
                  "border-color": "#334155",
                  "border-width": 1,
                  "font-size": 10,
                  "height": "mapData(size, 0, 5, 20, 120)",
                  "label": "data(label)",
                  "text-max-width": 120,
                  "text-wrap": "wrap",
                  "width": "mapData(size, 0, 5, 20, 120)"
                }
              },
              {
                "selector": "node[type = \"metabolite\"]",
                "style": {
                  "background-color": "data(color)",
                  "shape": "ellipse"
                }
              },
              {
                "selector": "node[type = \"subpopulation\"]",
                "style": {
                  "background-color": "data(color)",
                  "shape": "hexagon"
                }
              },
              {
                "selector": "node[type = \"feedingTerm\"]",
                "style": {
                  "background-color": "data(color)",
                  "shape": "triangle"
                }
              },
              {
                "selector": "node[type = \"pH\"]",
                "style": {
                  "background-color": "data(color)",
                  "shape": "diamond"
                }
              },
              {
                "selector": "node[type = \"group\"]",
                "style": {
                  "background-opacity": 0,
                  "border-color": "#94a3b8",
                  "border-width": 6,
                  "padding": "12px",
                  "shape": "round-rectangle",
                  "z-compound-depth": "bottom"
                }
              },
              {
                "selector": "edge",
                "style": {
                  "curve-style": "bezier",
                  "line-color": "#94a3b8",
                  "target-arrow-color": "#94a3b8",
                  "target-arrow-shape": "vee",
                  "width": 2
                }
              },
              {
                "selector": "edge[role = \"feeds\"]",
                "style": {
                  "display": "element",
                  "line-color": "#64748b",
                  "target-arrow-color": "#64748b",
                  "target-arrow-shape": "triangle"
                }
              },
              {
                "selector": "edge[role = \"consumes\"]",
                "style": {
                  "display": "element",
                  "line-color": "#3b82f6",
                  "target-arrow-color": "#3b82f6",
                  "target-arrow-shape": "triangle",
                  "width": "mapData(rateAbs, 0, 5, 1, 8)"
                }
              },
              {
                "selector": "edge[role = \"produces\"]",
                "style": {
                  "display": "element",
                  "line-color": "#16a34a",
                  "target-arrow-color": "#16a34a",
                  "target-arrow-shape": "triangle",
                  "width": "mapData(rateAbs, 0, 5, 1, 8)"
                }
              },
              {
                "selector": "edge[role = \"connects\"]",
                "style": {
                  "display": "element",
                  "line-color": "#6b7280",
                  "line-style": "dashed",
                  "target-arrow-color": "#6b7280"
                }
              },
              {
                "selector": "edge[role = \"controls\"]",
                "style": {
                  "display": "element",
                  "line-color": "#f97316",
                  "target-arrow-color": "#f97316",
                  "target-arrow-shape": "triangle",
                  "width": "mapData(coeff, -1, 1, 1, 6)"
                }
              },
              {
                "selector": "node:selected",
                "style": {
                  "font-size": 11,
                  "label": "data(hoverLabel)",
                  "text-background-color": "#ffffff",
                  "text-background-opacity": 0.85,
                  "text-background-padding": 2,
                  "z-index": 999
                }
              },
              {
                "selector": "edge:selected",
                "style": {
                  "font-size": 10,
                  "label": "data(edgeLabel)",
                  "text-background-color": "#ffffff",
                  "text-background-opacity": 0.85,
                  "text-background-padding": 2,
                  "text-rotation": "autorotate",
                  "z-index": 999
                }
              },
              {
                "selector": "edge",
                "style": {
                  "font-size": 9,
                  "label": "data(edgeLabel)",
                  "text-background-color": "#ffffff",
                  "text-background-opacity": 0.7,
                  "text-background-padding": 2,
                  "text-rotation": "autorotate"
                }
              }
            ],
            "desktop_tap_threshold": 4,
            "graph": "IPY_MODEL_c137f83bbb6d4fbb9c3c951dd6a06560",
            "headless": false,
            "hide_edges_on_viewport": false,
            "layout": "IPY_MODEL_04faedd5cb7744c0bb9dbb5da7ddcc00",
            "max_zoom": 1e+50,
            "min_zoom": 1e-50,
            "motion_blur": false,
            "motion_blur_opacity": 0.2,
            "panning_enabled": true,
            "pixel_ratio": "auto",
            "rendered_position": {
              "renderedPosition": {
                "x": 100,
                "y": 100
              }
            },
            "selection_type": "single",
            "style_enabled": true,
            "texture_on_viewport": false,
            "tooltip_source": "tooltip",
            "touch_tap_threshold": 8,
            "user_panning_enabled": true,
            "user_zooming_enabled": true,
            "wheel_sensitivity": 1,
            "zoom": 2,
            "zooming_enabled": true
          }
        },
        "64fd56001655485a8b4c561990aad9e9": {
          "model_module": "jupyter-cytoscape",
          "model_module_version": "^1.3.3",
          "model_name": "NodeModel",
          "state": {
            "_model_module": "jupyter-cytoscape",
            "_model_module_version": "^1.3.3",
            "_model_name": "NodeModel",
            "_view_count": null,
            "_view_module": "jupyter-cytoscape",
            "_view_module_version": "^1.3.3",
            "_view_name": "NodeView",
            "classes": "",
            "data": {
              "id": "bac:E_coli",
              "label": "E_coli",
              "type": "group"
            },
            "grabbable": true,
            "grabbed": false,
            "locked": false,
            "pannable": false,
            "position": {},
            "removed": false,
            "selectable": false,
            "selected": false
          }
        },
        "65f9f0fcaa8348729283ab5eb6ff7028": {
          "model_module": "jupyter-cytoscape",
          "model_module_version": "^1.3.3",
          "model_name": "EdgeModel",
          "state": {
            "_model_module": "jupyter-cytoscape",
            "_model_module_version": "^1.3.3",
            "_model_name": "EdgeModel",
            "_view_count": null,
            "_view_module": "jupyter-cytoscape",
            "_view_module_version": "^1.3.3",
            "_view_name": "EdgeView",
            "classes": "",
            "data": {
              "K": 0,
              "dirFrom": "K",
              "edgeLabel": "lactate | r=1.72, K=0",
              "ft": "ft:sub:bac:bt:xe:xe_pyruvate",
              "id": "edge:ft:sub:bac:bt:xe:xe_pyruvate:met:lactate:produces:0",
              "metKey": "lactate",
              "rate": 1.7181885318,
              "rateAbs": 1.7181885318,
              "rateNorm": 0.17181885318,
              "role": "produces",
              "source": "ft:sub:bac:bt:xe:xe_pyruvate",
              "target": "met:lactate"
            },
            "pannable": true,
            "removed": false,
            "selectable": false,
            "selected": false
          }
        },
        "6619366d099a4fe19d5a8d495a990dab": {
          "model_module": "jupyter-cytoscape",
          "model_module_version": "^1.3.3",
          "model_name": "EdgeModel",
          "state": {
            "_model_module": "jupyter-cytoscape",
            "_model_module_version": "^1.3.3",
            "_model_name": "EdgeModel",
            "_view_count": null,
            "_view_module": "jupyter-cytoscape",
            "_view_module_version": "^1.3.3",
            "_view_name": "EdgeView",
            "classes": "",
            "data": {
              "K": 9.9994578496,
              "dirFrom": "K",
              "edgeLabel": "lactate | r=1.96, K=10",
              "ft": "ft:sub:bac:ri:xj:xj_lactate",
              "id": "edge:met:lactate:ft:sub:bac:ri:xj:xj_lactate:consumes:0",
              "metKey": "lactate",
              "rate": 1.9604511472,
              "rateAbs": 1.9604511472,
              "rateNorm": 0.19604511472,
              "role": "consumes",
              "source": "met:lactate",
              "target": "ft:sub:bac:ri:xj:xj_lactate"
            },
            "pannable": true,
            "removed": false,
            "selectable": false,
            "selected": false
          }
        },
        "6730afba754f4d7d92ebc6c527eb8faf": {
          "model_module": "jupyter-cytoscape",
          "model_module_version": "^1.3.3",
          "model_name": "NodeModel",
          "state": {
            "_model_module": "jupyter-cytoscape",
            "_model_module_version": "^1.3.3",
            "_model_name": "NodeModel",
            "_view_count": null,
            "_view_module": "jupyter-cytoscape",
            "_view_module_version": "^1.3.3",
            "_view_name": "NodeView",
            "classes": "",
            "data": {
              "Topt": 37,
              "color": "#c2c2c2",
              "count": 0,
              "hoverLabel": "xk (subpop) | μmax=0 | state=inactive",
              "id": "sub:bac:ri:xk",
              "label": "xk",
              "mumax": 0,
              "pH_sensitivity_left": 2,
              "pH_sensitivity_right": 2,
              "pHopt": 7,
              "parent": "bac:ri",
              "size": 0.3,
              "species": "ri",
              "state": "inactive",
              "tempSensitivity_left": 500,
              "tempSensitivity_right": 200,
              "type": "subpopulation"
            },
            "grabbable": true,
            "grabbed": false,
            "locked": false,
            "pannable": false,
            "position": {
              "x": 80,
              "y": 1068
            },
            "removed": false,
            "selectable": false,
            "selected": false
          }
        },
        "6c33dce4371e473bbcb8b666c3536a2a": {
          "model_module": "jupyter-cytoscape",
          "model_module_version": "^1.3.3",
          "model_name": "EdgeModel",
          "state": {
            "_model_module": "jupyter-cytoscape",
            "_model_module_version": "^1.3.3",
            "_model_name": "EdgeModel",
            "_view_count": null,
            "_view_module": "jupyter-cytoscape",
            "_view_module_version": "^1.3.3",
            "_view_name": "EdgeView",
            "classes": "",
            "data": {
              "condition": "(0.0065072254 ** 1.459916231/(0.0065072254 ** 1.459916231 + (glucose ** 1.459916231))) * (5.5 ** 10.0/(5.5 ** 10.0 + environment.pH.compute_pH(concentrations) ** 10.0))",
              "edgeLabel": "Condition: (0.0065072254 ** 1.459916231/(0.0065072254 ** 1.45... | Rate: 0.9575532048",
              "id": "edge:sub:bac:bt:xe:sub:bac:bt:xg:transition:0",
              "kind": "transition",
              "rate": 0.9575532048,
              "role": "connects",
              "source": "sub:bac:bt:xe",
              "source_subpop": "xe",
              "target": "sub:bac:bt:xg",
              "target_subpop": "xg"
            },
            "pannable": true,
            "removed": false,
            "selectable": false,
            "selected": false
          }
        },
        "6de8e6d467274355a8f0af2ee0fe046f": {
          "model_module": "jupyter-cytoscape",
          "model_module_version": "^1.3.3",
          "model_name": "NodeModel",
          "state": {
            "_model_module": "jupyter-cytoscape",
            "_model_module_version": "^1.3.3",
            "_model_name": "NodeModel",
            "_view_count": null,
            "_view_module": "jupyter-cytoscape",
            "_view_module_version": "^1.3.3",
            "_view_name": "NodeView",
            "classes": "",
            "data": {
              "baseValue": 7,
              "color": "#10b981",
              "description": "Default pH control",
              "hoverLabel": "pH",
              "id": "pH",
              "label": "pH",
              "name": "pH Control",
              "type": "pH"
            },
            "grabbable": true,
            "grabbed": false,
            "locked": false,
            "pannable": false,
            "position": {
              "x": 320,
              "y": 70
            },
            "removed": false,
            "selectable": false,
            "selected": false
          }
        },
        "7289438d9828498fb02fe57ecf8b47e2": {
          "model_module": "jupyter-cytoscape",
          "model_module_version": "^1.3.3",
          "model_name": "NodeModel",
          "state": {
            "_model_module": "jupyter-cytoscape",
            "_model_module_version": "^1.3.3",
            "_model_name": "NodeModel",
            "_view_count": null,
            "_view_module": "jupyter-cytoscape",
            "_view_module_version": "^1.3.3",
            "_view_name": "NodeView",
            "classes": "",
            "data": {
              "color": "#003eff",
              "concentration": 0,
              "formula": {
                "C": 2,
                "H": 4,
                "N": 0,
                "O": 3,
                "P": 0,
                "S": 0
              },
              "hoverLabel": "acetate (metabolite) | conc=0 | formula=C2H4O3",
              "id": "met:acetate",
              "label": "acetate",
              "size": 0,
              "type": "metabolite"
            },
            "grabbable": true,
            "grabbed": false,
            "locked": false,
            "pannable": false,
            "position": {
              "x": 0,
              "y": 320
            },
            "removed": false,
            "selectable": false,
            "selected": false
          }
        },
        "7391a236eba44697a5eeb2462a006242": {
          "model_module": "jupyter-cytoscape",
          "model_module_version": "^1.3.3",
          "model_name": "NodeModel",
          "state": {
            "_model_module": "jupyter-cytoscape",
            "_model_module_version": "^1.3.3",
            "_model_name": "NodeModel",
            "_view_count": null,
            "_view_module": "jupyter-cytoscape",
            "_view_module_version": "^1.3.3",
            "_view_name": "NodeView",
            "classes": "",
            "data": {
              "id": "bac:bh",
              "label": "bh",
              "type": "group"
            },
            "grabbable": true,
            "grabbed": false,
            "locked": false,
            "pannable": false,
            "position": {},
            "removed": false,
            "selectable": false,
            "selected": false
          }
        },
        "752e68ace5674129b37faade3b650ad0": {
          "model_module": "jupyter-cytoscape",
          "model_module_version": "^1.3.3",
          "model_name": "EdgeModel",
          "state": {
            "_model_module": "jupyter-cytoscape",
            "_model_module_version": "^1.3.3",
            "_model_name": "EdgeModel",
            "_view_count": null,
            "_view_module": "jupyter-cytoscape",
            "_view_module_version": "^1.3.3",
            "_view_name": "EdgeView",
            "classes": "",
            "data": {
              "condition": "(0.0034909802 ** 1.1123778083/(0.0034909802 ** 1.1123778083 + (glucose + pyruvate) ** 1.1123778083))",
              "edgeLabel": "Condition: (0.0034909802 ** 1.1123778083/(0.0034909802 ** 1.1... | Rate: 1.9999999999",
              "id": "edge:sub:bac:ri:xi:sub:bac:ri:xl:transition:0",
              "kind": "transition",
              "rate": 1.9999999999,
              "role": "connects",
              "source": "sub:bac:ri:xi",
              "source_subpop": "xi",
              "target": "sub:bac:ri:xl",
              "target_subpop": "xl"
            },
            "pannable": true,
            "removed": false,
            "selectable": false,
            "selected": false
          }
        },
        "76522d2ef9b248ed8541da3f20673c91": {
          "model_module": "jupyter-cytoscape",
          "model_module_version": "^1.3.3",
          "model_name": "NodeModel",
          "state": {
            "_model_module": "jupyter-cytoscape",
            "_model_module_version": "^1.3.3",
            "_model_name": "NodeModel",
            "_view_count": null,
            "_view_module": "jupyter-cytoscape",
            "_view_module_version": "^1.3.3",
            "_view_name": "NodeView",
            "classes": "",
            "data": {
              "color": "#ff0000",
              "concentration": 8.917955468,
              "description": "Glucose metabolite",
              "formula": {
                "C": 6,
                "H": 12,
                "N": 0,
                "O": 6,
                "P": 0,
                "S": 0
              },
              "hoverLabel": "glucose (metabolite) | conc=8.91796 | formula=C6H12O6",
              "id": "met:glucose",
              "label": "glucose",
              "size": 1.1801061197441143,
              "type": "metabolite"
            },
            "grabbable": true,
            "grabbed": false,
            "locked": false,
            "pannable": false,
            "position": {
              "x": -156,
              "y": -180
            },
            "removed": false,
            "selectable": false,
            "selected": false
          }
        },
        "790d893055bc42919afe51ba2074eb87": {
          "model_module": "jupyter-cytoscape",
          "model_module_version": "^1.3.3",
          "model_name": "NodeModel",
          "state": {
            "_model_module": "jupyter-cytoscape",
            "_model_module_version": "^1.3.3",
            "_model_name": "NodeModel",
            "_view_count": null,
            "_view_module": "jupyter-cytoscape",
            "_view_module_version": "^1.3.3",
            "_view_name": "NodeView",
            "classes": "",
            "data": {
              "Topt": 37,
              "color": "#ff8300",
              "count": 0,
              "hoverLabel": "xf (subpop) | μmax=1.19651 | state=active",
              "id": "sub:bac:bt:xf",
              "label": "xf",
              "mumax": 1.1965073511,
              "pH_sensitivity_left": 1.1325,
              "pH_sensitivity_right": 1.1325,
              "pHopt": 6.9840946443,
              "parent": "bac:bt",
              "size": 0.3,
              "species": "bt",
              "state": "active",
              "tempSensitivity_left": 2,
              "tempSensitivity_right": 3,
              "type": "subpopulation"
            },
            "grabbable": true,
            "grabbed": false,
            "locked": false,
            "pannable": false,
            "position": {
              "x": -80,
              "y": 604
            },
            "removed": false,
            "selectable": false,
            "selected": false
          }
        },
        "7caaf7dba0154116a2f9ffffe701d5e1": {
          "model_module": "jupyter-cytoscape",
          "model_module_version": "^1.3.3",
          "model_name": "EdgeModel",
          "state": {
            "_model_module": "jupyter-cytoscape",
            "_model_module_version": "^1.3.3",
            "_model_name": "EdgeModel",
            "_view_count": null,
            "_view_module": "jupyter-cytoscape",
            "_view_module_version": "^1.3.3",
            "_view_name": "EdgeView",
            "classes": "",
            "data": {
              "K": 0.5,
              "dirFrom": "K",
              "edgeLabel": "pyruvate | r=10, K=0.5",
              "ft": "ft:sub:bac:bh:xb:xb_pyruvate",
              "id": "edge:met:pyruvate:ft:sub:bac:bh:xb:xb_pyruvate:consumes:0",
              "metKey": "pyruvate",
              "rate": 10,
              "rateAbs": 10,
              "rateNorm": 1,
              "role": "consumes",
              "source": "met:pyruvate",
              "target": "ft:sub:bac:bh:xb:xb_pyruvate"
            },
            "pannable": true,
            "removed": false,
            "selectable": false,
            "selected": false
          }
        },
        "7f1e87de611d43a3bc9da9761fcf58c8": {
          "model_module": "jupyter-cytoscape",
          "model_module_version": "^1.3.3",
          "model_name": "NodeModel",
          "state": {
            "_model_module": "jupyter-cytoscape",
            "_model_module_version": "^1.3.3",
            "_model_name": "NodeModel",
            "_view_count": null,
            "_view_module": "jupyter-cytoscape",
            "_view_module_version": "^1.3.3",
            "_view_name": "NodeView",
            "classes": "",
            "data": {
              "hoverLabel": "xb_pyruvate (feeding-term)",
              "id": "ft:sub:bac:bh:xb:xb_pyruvate",
              "label": "xb_pyruvate",
              "parent": "bac:bh",
              "size": 0.35,
              "type": "feedingTerm"
            },
            "grabbable": true,
            "grabbed": false,
            "locked": false,
            "pannable": false,
            "position": {
              "x": -36,
              "y": 0
            },
            "removed": false,
            "selectable": false,
            "selected": false
          }
        },
        "7f6f4028161f4510af15d4bf8bd00cdb": {
          "model_module": "jupyter-cytoscape",
          "model_module_version": "^1.3.3",
          "model_name": "EdgeModel",
          "state": {
            "_model_module": "jupyter-cytoscape",
            "_model_module_version": "^1.3.3",
            "_model_name": "EdgeModel",
            "_view_count": null,
            "_view_module": "jupyter-cytoscape",
            "_view_module_version": "^1.3.3",
            "_view_name": "EdgeView",
            "classes": "",
            "data": {
              "K": 0,
              "dirFrom": "K",
              "edgeLabel": "formate | r=0.616, K=0",
              "ft": "ft:sub:bac:bt:xe:xe_pyruvate",
              "id": "edge:ft:sub:bac:bt:xe:xe_pyruvate:met:formate:produces:0",
              "metKey": "formate",
              "rate": 0.6158861983,
              "rateAbs": 0.6158861983,
              "rateNorm": 0.06158861983,
              "role": "produces",
              "source": "ft:sub:bac:bt:xe:xe_pyruvate",
              "target": "met:formate"
            },
            "pannable": true,
            "removed": false,
            "selectable": false,
            "selected": false
          }
        },
        "82a27995d9f4441c93617990716a81f2": {
          "model_module": "jupyter-cytoscape",
          "model_module_version": "^1.3.3",
          "model_name": "EdgeModel",
          "state": {
            "_model_module": "jupyter-cytoscape",
            "_model_module_version": "^1.3.3",
            "_model_name": "EdgeModel",
            "_view_count": null,
            "_view_module": "jupyter-cytoscape",
            "_view_module_version": "^1.3.3",
            "_view_name": "EdgeView",
            "classes": "",
            "data": {
              "K": 0.287608049,
              "dirFrom": "K",
              "edgeLabel": "trehalose | r=1.24, K=0.288",
              "ft": "ft:sub:bac:bh:xa:xa_trehalose",
              "id": "edge:met:trehalose:ft:sub:bac:bh:xa:xa_trehalose:consumes:0",
              "metKey": "trehalose",
              "rate": 1.2417775764,
              "rateAbs": 1.2417775764,
              "rateNorm": 0.12417775764000001,
              "role": "consumes",
              "source": "met:trehalose",
              "target": "ft:sub:bac:bh:xa:xa_trehalose"
            },
            "pannable": true,
            "removed": false,
            "selectable": false,
            "selected": false
          }
        },
        "8571836831ee4f968eda6a901bfbdadb": {
          "model_module": "jupyter-cytoscape",
          "model_module_version": "^1.3.3",
          "model_name": "EdgeModel",
          "state": {
            "_model_module": "jupyter-cytoscape",
            "_model_module_version": "^1.3.3",
            "_model_name": "EdgeModel",
            "_view_count": null,
            "_view_module": "jupyter-cytoscape",
            "_view_module_version": "^1.3.3",
            "_view_name": "EdgeView",
            "classes": "",
            "data": {
              "edgeLabel": "feeds",
              "id": "edge:sub:bac:ri:xi:ft:sub:bac:ri:xi:xi_pyruvate:feeds",
              "kind": "feeds",
              "role": "feeds",
              "source": "sub:bac:ri:xi",
              "target": "ft:sub:bac:ri:xi:xi_pyruvate"
            },
            "pannable": true,
            "removed": false,
            "selectable": false,
            "selected": false
          }
        },
        "85d29cf3ca9140f88f052e749ba2baac": {
          "model_module": "jupyter-cytoscape",
          "model_module_version": "^1.3.3",
          "model_name": "EdgeModel",
          "state": {
            "_model_module": "jupyter-cytoscape",
            "_model_module_version": "^1.3.3",
            "_model_name": "EdgeModel",
            "_view_count": null,
            "_view_module": "jupyter-cytoscape",
            "_view_module_version": "^1.3.3",
            "_view_name": "EdgeView",
            "classes": "",
            "data": {
              "K": 0,
              "dirFrom": "K",
              "edgeLabel": "co2 | r=-1, K=0",
              "ft": "ft:sub:bac:E_coli:acetate_ecoli:acetate_to_co2",
              "id": "edge:ft:sub:bac:E_coli:acetate_ecoli:acetate_to_co2:met:co2:produces:0",
              "metKey": "co2",
              "rate": -1,
              "rateAbs": 1,
              "rateNorm": 1,
              "role": "produces",
              "source": "ft:sub:bac:E_coli:acetate_ecoli:acetate_to_co2",
              "target": "met:co2"
            },
            "pannable": true,
            "removed": false,
            "selectable": false,
            "selected": false
          }
        },
        "8b8d0b8d98d94811bc0aeee3c7cfb5bb": {
          "model_module": "jupyter-cytoscape",
          "model_module_version": "^1.3.3",
          "model_name": "EdgeModel",
          "state": {
            "_model_module": "jupyter-cytoscape",
            "_model_module_version": "^1.3.3",
            "_model_name": "EdgeModel",
            "_view_count": null,
            "_view_module": "jupyter-cytoscape",
            "_view_module_version": "^1.3.3",
            "_view_name": "EdgeView",
            "classes": "",
            "data": {
              "K": 1,
              "dirFrom": "K",
              "edgeLabel": "glucose | r=1, K=1",
              "ft": "ft:sub:bac:E_coli:glucose_ecoli:glucose_to_acetate",
              "id": "edge:met:glucose:ft:sub:bac:E_coli:glucose_ecoli:glucose_to_acetate:consumes:0",
              "metKey": "glucose",
              "rate": 1,
              "rateAbs": 1,
              "rateNorm": 1,
              "role": "consumes",
              "source": "met:glucose",
              "target": "ft:sub:bac:E_coli:glucose_ecoli:glucose_to_acetate"
            },
            "pannable": true,
            "removed": false,
            "selectable": false,
            "selected": false
          }
        },
        "8e9a1352792e43899206c514391aa721": {
          "model_module": "jupyter-cytoscape",
          "model_module_version": "^1.3.3",
          "model_name": "NodeModel",
          "state": {
            "_model_module": "jupyter-cytoscape",
            "_model_module_version": "^1.3.3",
            "_model_name": "NodeModel",
            "_view_count": null,
            "_view_module": "jupyter-cytoscape",
            "_view_module_version": "^1.3.3",
            "_view_name": "NodeView",
            "classes": "",
            "data": {
              "color": "#00B8FF",
              "concentration": 0,
              "formula": {
                "C": 1,
                "H": 0,
                "N": 0,
                "O": 2,
                "P": 0,
                "S": 0
              },
              "hoverLabel": "co2 (metabolite) | conc=0 | formula=C1O2",
              "id": "met:co2",
              "label": "co2",
              "size": 0,
              "type": "metabolite"
            },
            "grabbable": true,
            "grabbed": false,
            "locked": false,
            "pannable": false,
            "position": {
              "x": -160,
              "y": 320
            },
            "removed": false,
            "selectable": false,
            "selected": false
          }
        },
        "9697d506efa140a3907b999ef04d6786": {
          "model_module": "jupyter-cytoscape",
          "model_module_version": "^1.3.3",
          "model_name": "EdgeModel",
          "state": {
            "_model_module": "jupyter-cytoscape",
            "_model_module_version": "^1.3.3",
            "_model_name": "EdgeModel",
            "_view_count": null,
            "_view_module": "jupyter-cytoscape",
            "_view_module_version": "^1.3.3",
            "_view_name": "EdgeView",
            "classes": "",
            "data": {
              "K": 6.8653726711,
              "dirFrom": "K",
              "edgeLabel": "glucose | r=1.76, K=6.87",
              "ft": "ft:sub:bac:ri:xi:xi_glucose",
              "id": "edge:met:glucose:ft:sub:bac:ri:xi:xi_glucose:consumes:0",
              "metKey": "glucose",
              "rate": 1.7594802851,
              "rateAbs": 1.7594802851,
              "rateNorm": 0.17594802851,
              "role": "consumes",
              "source": "met:glucose",
              "target": "ft:sub:bac:ri:xi:xi_glucose"
            },
            "pannable": true,
            "removed": false,
            "selectable": false,
            "selected": false
          }
        },
        "98136374edb94bd69bcb0c101389acf4": {
          "model_module": "jupyter-cytoscape",
          "model_module_version": "^1.3.3",
          "model_name": "CytoscapeModel",
          "state": {
            "_dom_classes": [],
            "_interaction_handlers": {},
            "_model_module": "jupyter-cytoscape",
            "_model_module_version": "^1.3.3",
            "_model_name": "CytoscapeModel",
            "_view_count": null,
            "_view_module": "jupyter-cytoscape",
            "_view_module_version": "^1.3.3",
            "_view_name": "CytoscapeView",
            "auto_ungrabify": false,
            "auto_unselectify": true,
            "autolock": false,
            "box_selection_enabled": false,
            "cytoscape_layout": {
              "name": "preset"
            },
            "cytoscape_style": [
              {
                "selector": "node",
                "style": {
                  "background-color": "data(color)",
                  "border-color": "#334155",
                  "border-width": 1,
                  "font-size": 10,
                  "height": "mapData(size, 0, 5, 20, 120)",
                  "label": "data(label)",
                  "text-max-width": 120,
                  "text-wrap": "wrap",
                  "width": "mapData(size, 0, 5, 20, 120)"
                }
              },
              {
                "selector": "node[type = \"metabolite\"]",
                "style": {
                  "background-color": "data(color)",
                  "shape": "ellipse"
                }
              },
              {
                "selector": "node[type = \"subpopulation\"]",
                "style": {
                  "background-color": "data(color)",
                  "shape": "hexagon"
                }
              },
              {
                "selector": "node[type = \"feedingTerm\"]",
                "style": {
                  "background-color": "data(color)",
                  "shape": "triangle"
                }
              },
              {
                "selector": "node[type = \"pH\"]",
                "style": {
                  "background-color": "data(color)",
                  "shape": "diamond"
                }
              },
              {
                "selector": "node[type = \"group\"]",
                "style": {
                  "background-opacity": 0,
                  "border-color": "#94a3b8",
                  "border-width": 6,
                  "padding": "12px",
                  "shape": "round-rectangle",
                  "z-compound-depth": "bottom"
                }
              },
              {
                "selector": "edge",
                "style": {
                  "curve-style": "bezier",
                  "line-color": "#94a3b8",
                  "target-arrow-color": "#94a3b8",
                  "target-arrow-shape": "vee",
                  "width": 2
                }
              },
              {
                "selector": "edge[role = \"feeds\"]",
                "style": {
                  "display": "element",
                  "line-color": "#64748b",
                  "target-arrow-color": "#64748b",
                  "target-arrow-shape": "triangle"
                }
              },
              {
                "selector": "edge[role = \"consumes\"]",
                "style": {
                  "display": "element",
                  "line-color": "#3b82f6",
                  "target-arrow-color": "#3b82f6",
                  "target-arrow-shape": "triangle",
                  "width": "mapData(rateAbs, 0, 5, 1, 8)"
                }
              },
              {
                "selector": "edge[role = \"produces\"]",
                "style": {
                  "display": "element",
                  "line-color": "#16a34a",
                  "target-arrow-color": "#16a34a",
                  "target-arrow-shape": "triangle",
                  "width": "mapData(rateAbs, 0, 5, 1, 8)"
                }
              },
              {
                "selector": "edge[role = \"connects\"]",
                "style": {
                  "display": "element",
                  "line-color": "#6b7280",
                  "line-style": "dashed",
                  "target-arrow-color": "#6b7280"
                }
              },
              {
                "selector": "edge[role = \"controls\"]",
                "style": {
                  "display": "element",
                  "line-color": "#f97316",
                  "target-arrow-color": "#f97316",
                  "target-arrow-shape": "triangle",
                  "width": "mapData(coeff, -1, 1, 1, 6)"
                }
              },
              {
                "selector": "node:selected",
                "style": {
                  "font-size": 11,
                  "label": "data(hoverLabel)",
                  "text-background-color": "#ffffff",
                  "text-background-opacity": 0.85,
                  "text-background-padding": 2,
                  "z-index": 999
                }
              },
              {
                "selector": "edge:selected",
                "style": {
                  "font-size": 10,
                  "label": "data(edgeLabel)",
                  "text-background-color": "#ffffff",
                  "text-background-opacity": 0.85,
                  "text-background-padding": 2,
                  "text-rotation": "autorotate",
                  "z-index": 999
                }
              },
              {
                "selector": "edge",
                "style": {
                  "font-size": 9,
                  "label": "data(edgeLabel)",
                  "text-background-color": "#ffffff",
                  "text-background-opacity": 0.7,
                  "text-background-padding": 2,
                  "text-rotation": "autorotate"
                }
              }
            ],
            "desktop_tap_threshold": 4,
            "graph": "IPY_MODEL_9e0f221ff9fb4305ac4bd28759d5aebe",
            "headless": false,
            "hide_edges_on_viewport": false,
            "layout": "IPY_MODEL_a4b093fe78ca47f4aacec312dce32ffc",
            "max_zoom": 1e+50,
            "min_zoom": 1e-50,
            "motion_blur": false,
            "motion_blur_opacity": 0.2,
            "panning_enabled": true,
            "pixel_ratio": "auto",
            "rendered_position": {
              "renderedPosition": {
                "x": 100,
                "y": 100
              }
            },
            "selection_type": "single",
            "style_enabled": true,
            "texture_on_viewport": false,
            "tooltip_source": "tooltip",
            "touch_tap_threshold": 8,
            "user_panning_enabled": true,
            "user_zooming_enabled": true,
            "wheel_sensitivity": 1,
            "zoom": 2,
            "zooming_enabled": true
          }
        },
        "9a6abb795d534aac87ee8d5130a84239": {
          "model_module": "jupyter-cytoscape",
          "model_module_version": "^1.3.3",
          "model_name": "NodeModel",
          "state": {
            "_model_module": "jupyter-cytoscape",
            "_model_module_version": "^1.3.3",
            "_model_name": "NodeModel",
            "_view_count": null,
            "_view_module": "jupyter-cytoscape",
            "_view_module_version": "^1.3.3",
            "_view_name": "NodeView",
            "classes": "",
            "data": {
              "hoverLabel": "xf_mannose (feeding-term)",
              "id": "ft:sub:bac:bt:xf:xf_mannose",
              "label": "xf_mannose",
              "parent": "bac:bt",
              "size": 0.35,
              "type": "feedingTerm"
            },
            "grabbable": true,
            "grabbed": false,
            "locked": false,
            "pannable": false,
            "position": {
              "x": -80,
              "y": 464
            },
            "removed": false,
            "selectable": false,
            "selected": false
          }
        },
        "9c26ad886b7e479d80f2e74b91496742": {
          "model_module": "jupyter-cytoscape",
          "model_module_version": "^1.3.3",
          "model_name": "EdgeModel",
          "state": {
            "_model_module": "jupyter-cytoscape",
            "_model_module_version": "^1.3.3",
            "_model_name": "EdgeModel",
            "_view_count": null,
            "_view_module": "jupyter-cytoscape",
            "_view_module_version": "^1.3.3",
            "_view_name": "EdgeView",
            "classes": "",
            "data": {
              "K": 0,
              "dirFrom": "K",
              "edgeLabel": "acetate | r=1e-10, K=0",
              "ft": "ft:sub:bac:bh:xa:xa_trehalose",
              "id": "edge:ft:sub:bac:bh:xa:xa_trehalose:met:acetate:produces:0",
              "metKey": "acetate",
              "rate": 1e-10,
              "rateAbs": 1e-10,
              "rateNorm": 1.0000000000000001e-11,
              "role": "produces",
              "source": "ft:sub:bac:bh:xa:xa_trehalose",
              "target": "met:acetate"
            },
            "pannable": true,
            "removed": false,
            "selectable": false,
            "selected": false
          }
        },
        "9c28e89140f74bbfbea3d2397ef3c08a": {
          "model_module": "jupyter-cytoscape",
          "model_module_version": "^1.3.3",
          "model_name": "EdgeModel",
          "state": {
            "_model_module": "jupyter-cytoscape",
            "_model_module_version": "^1.3.3",
            "_model_name": "EdgeModel",
            "_view_count": null,
            "_view_module": "jupyter-cytoscape",
            "_view_module_version": "^1.3.3",
            "_view_name": "EdgeView",
            "classes": "",
            "data": {
              "edgeLabel": "feeds",
              "id": "edge:sub:bac:ri:xj:ft:sub:bac:ri:xj:xj_acetate:feeds",
              "kind": "feeds",
              "role": "feeds",
              "source": "sub:bac:ri:xj",
              "target": "ft:sub:bac:ri:xj:xj_acetate"
            },
            "pannable": true,
            "removed": false,
            "selectable": false,
            "selected": false
          }
        },
        "9ca44ada64ee4ec5a1ad0f45855d5044": {
          "model_module": "jupyter-cytoscape",
          "model_module_version": "^1.3.3",
          "model_name": "EdgeModel",
          "state": {
            "_model_module": "jupyter-cytoscape",
            "_model_module_version": "^1.3.3",
            "_model_name": "EdgeModel",
            "_view_count": null,
            "_view_module": "jupyter-cytoscape",
            "_view_module_version": "^1.3.3",
            "_view_name": "EdgeView",
            "classes": "",
            "data": {
              "edgeLabel": "feeds",
              "id": "edge:sub:bac:ri:xi:ft:sub:bac:ri:xi:xi_glucose:feeds",
              "kind": "feeds",
              "role": "feeds",
              "source": "sub:bac:ri:xi",
              "target": "ft:sub:bac:ri:xi:xi_glucose"
            },
            "pannable": true,
            "removed": false,
            "selectable": false,
            "selected": false
          }
        },
        "9e0f221ff9fb4305ac4bd28759d5aebe": {
          "model_module": "jupyter-cytoscape",
          "model_module_version": "^1.3.3",
          "model_name": "GraphModel",
          "state": {
            "_adj": {
              "met:acetate": {},
              "met:co2": {},
              "met:glucose": {}
            },
            "_model_module": "jupyter-cytoscape",
            "_model_module_version": "^1.3.3",
            "_model_name": "GraphModel",
            "_view_count": null,
            "_view_module": "jupyter-cytoscape",
            "_view_module_version": "^1.3.3",
            "_view_name": null,
            "edges": [],
            "nodes": [
              "IPY_MODEL_23e89b0f5f08405d8d38434a8dfb1d0f",
              "IPY_MODEL_c026049247c5444999d1013823c166c4",
              "IPY_MODEL_9e374914f5ad4301a5a735bc536febc0"
            ]
          }
        },
        "9e31d9f11e9d48d38c9cbd2e1afa0de7": {
          "model_module": "@jupyter-widgets/base",
          "model_module_version": "1.2.0",
          "model_name": "LayoutModel",
          "state": {
            "_model_module": "@jupyter-widgets/base",
            "_model_module_version": "1.2.0",
            "_model_name": "LayoutModel",
            "_view_count": null,
            "_view_module": "@jupyter-widgets/base",
            "_view_module_version": "1.2.0",
            "_view_name": "LayoutView",
            "align_content": null,
            "align_items": null,
            "align_self": null,
            "border": null,
            "bottom": null,
            "display": null,
            "flex": null,
            "flex_flow": null,
            "grid_area": null,
            "grid_auto_columns": null,
            "grid_auto_flow": null,
            "grid_auto_rows": null,
            "grid_column": null,
            "grid_gap": null,
            "grid_row": null,
            "grid_template_areas": null,
            "grid_template_columns": null,
            "grid_template_rows": null,
            "height": null,
            "justify_content": null,
            "justify_items": null,
            "left": null,
            "margin": null,
            "max_height": null,
            "max_width": null,
            "min_height": null,
            "min_width": null,
            "object_fit": null,
            "object_position": null,
            "order": null,
            "overflow": null,
            "overflow_x": null,
            "overflow_y": null,
            "padding": null,
            "right": null,
            "top": null,
            "visibility": null,
            "width": null
          }
        },
        "9e374914f5ad4301a5a735bc536febc0": {
          "model_module": "jupyter-cytoscape",
          "model_module_version": "^1.3.3",
          "model_name": "NodeModel",
          "state": {
            "_model_module": "jupyter-cytoscape",
            "_model_module_version": "^1.3.3",
            "_model_name": "NodeModel",
            "_view_count": null,
            "_view_module": "jupyter-cytoscape",
            "_view_module_version": "^1.3.3",
            "_view_name": "NodeView",
            "classes": "",
            "data": {
              "color": "#ff0000",
              "concentration": 5,
              "formula": {
                "C": 6,
                "H": 12,
                "N": 0,
                "O": 6,
                "P": 0,
                "S": 0
              },
              "hoverLabel": "glucose (metabolite) | conc=5 | formula=C6H12O6",
              "id": "met:glucose",
              "label": "glucose",
              "size": 1.0795880017344075,
              "type": "metabolite"
            },
            "grabbable": true,
            "grabbed": false,
            "locked": false,
            "pannable": false,
            "position": {
              "x": 128,
              "y": 0
            },
            "removed": false,
            "selectable": false,
            "selected": false
          }
        },
        "9f2e194ef44245638f0ff738b5cb1672": {
          "model_module": "jupyter-cytoscape",
          "model_module_version": "^1.3.3",
          "model_name": "EdgeModel",
          "state": {
            "_model_module": "jupyter-cytoscape",
            "_model_module_version": "^1.3.3",
            "_model_name": "EdgeModel",
            "_view_count": null,
            "_view_module": "jupyter-cytoscape",
            "_view_module_version": "^1.3.3",
            "_view_name": "EdgeView",
            "classes": "",
            "data": {
              "K": 0,
              "dirFrom": "K",
              "edgeLabel": "acetate | r=0.853, K=0",
              "ft": "ft:sub:bac:bt:xf:xf_mannose",
              "id": "edge:ft:sub:bac:bt:xf:xf_mannose:met:acetate:produces:0",
              "metKey": "acetate",
              "rate": 0.8532416313,
              "rateAbs": 0.8532416313,
              "rateNorm": 0.08532416312999999,
              "role": "produces",
              "source": "ft:sub:bac:bt:xf:xf_mannose",
              "target": "met:acetate"
            },
            "pannable": true,
            "removed": false,
            "selectable": false,
            "selected": false
          }
        },
        "9fb651396c764d4ba1044edbed28a1f5": {
          "model_module": "jupyter-cytoscape",
          "model_module_version": "^1.3.3",
          "model_name": "NodeModel",
          "state": {
            "_model_module": "jupyter-cytoscape",
            "_model_module_version": "^1.3.3",
            "_model_name": "NodeModel",
            "_view_count": null,
            "_view_module": "jupyter-cytoscape",
            "_view_module_version": "^1.3.3",
            "_view_name": "NodeView",
            "classes": "",
            "data": {
              "color": "#ff0000",
              "concentration": 5,
              "formula": {
                "C": 6,
                "H": 12,
                "N": 0,
                "O": 6,
                "P": 0,
                "S": 0
              },
              "hoverLabel": "glucose (metabolite) | conc=5 | formula=C6H12O6",
              "id": "met:glucose",
              "label": "glucose",
              "size": 1.0795880017344075,
              "type": "metabolite"
            },
            "grabbable": true,
            "grabbed": false,
            "locked": false,
            "pannable": false,
            "position": {
              "x": 0,
              "y": -180
            },
            "removed": false,
            "selectable": false,
            "selected": false
          }
        },
        "a1f29a0a9988494097e18332fe8c88a1": {
          "model_module": "jupyter-cytoscape",
          "model_module_version": "^1.3.3",
          "model_name": "EdgeModel",
          "state": {
            "_model_module": "jupyter-cytoscape",
            "_model_module_version": "^1.3.3",
            "_model_name": "EdgeModel",
            "_view_count": null,
            "_view_module": "jupyter-cytoscape",
            "_view_module_version": "^1.3.3",
            "_view_name": "EdgeView",
            "classes": "",
            "data": {
              "coeff": -0.0972,
              "coeffNorm": 1,
              "edgeLabel": "pH coeff=-0.0972",
              "id": "edge:pH:met:succinate",
              "kind": "pH_effect",
              "role": "controls",
              "source": "pH",
              "target": "met:succinate"
            },
            "pannable": true,
            "removed": false,
            "selectable": false,
            "selected": false
          }
        },
        "a4b093fe78ca47f4aacec312dce32ffc": {
          "model_module": "@jupyter-widgets/base",
          "model_module_version": "1.2.0",
          "model_name": "LayoutModel",
          "state": {
            "_model_module": "@jupyter-widgets/base",
            "_model_module_version": "1.2.0",
            "_model_name": "LayoutModel",
            "_view_count": null,
            "_view_module": "@jupyter-widgets/base",
            "_view_module_version": "1.2.0",
            "_view_name": "LayoutView",
            "align_content": null,
            "align_items": null,
            "align_self": null,
            "border": null,
            "bottom": null,
            "display": null,
            "flex": null,
            "flex_flow": null,
            "grid_area": null,
            "grid_auto_columns": null,
            "grid_auto_flow": null,
            "grid_auto_rows": null,
            "grid_column": null,
            "grid_gap": null,
            "grid_row": null,
            "grid_template_areas": null,
            "grid_template_columns": null,
            "grid_template_rows": null,
            "height": null,
            "justify_content": null,
            "justify_items": null,
            "left": null,
            "margin": null,
            "max_height": null,
            "max_width": null,
            "min_height": null,
            "min_width": null,
            "object_fit": null,
            "object_position": null,
            "order": null,
            "overflow": null,
            "overflow_x": null,
            "overflow_y": null,
            "padding": null,
            "right": null,
            "top": null,
            "visibility": null,
            "width": null
          }
        },
        "a68c08697c2a462cb6bdb899ea94689b": {
          "model_module": "jupyter-cytoscape",
          "model_module_version": "^1.3.3",
          "model_name": "NodeModel",
          "state": {
            "_model_module": "jupyter-cytoscape",
            "_model_module_version": "^1.3.3",
            "_model_name": "NodeModel",
            "_view_count": null,
            "_view_module": "jupyter-cytoscape",
            "_view_module_version": "^1.3.3",
            "_view_name": "NodeView",
            "classes": "",
            "data": {
              "Topt": 37,
              "color": "#464544",
              "count": 0,
              "hoverLabel": "xd (subpop) | μmax=0 | state=dead",
              "id": "sub:bac:bh:xd",
              "label": "xd",
              "mumax": 0,
              "pH_sensitivity_left": 2,
              "pH_sensitivity_right": 2,
              "pHopt": 7,
              "parent": "bac:bh",
              "size": 0.3,
              "species": "bh",
              "state": "dead",
              "tempSensitivity_left": 5,
              "tempSensitivity_right": 2,
              "type": "subpopulation"
            },
            "grabbable": true,
            "grabbed": false,
            "locked": false,
            "pannable": false,
            "position": {
              "x": 240,
              "y": 140
            },
            "removed": false,
            "selectable": false,
            "selected": false
          }
        },
        "a9dc99287e4442d29f161dc38e36bf28": {
          "model_module": "jupyter-cytoscape",
          "model_module_version": "^1.3.3",
          "model_name": "EdgeModel",
          "state": {
            "_model_module": "jupyter-cytoscape",
            "_model_module_version": "^1.3.3",
            "_model_name": "EdgeModel",
            "_view_count": null,
            "_view_module": "jupyter-cytoscape",
            "_view_module_version": "^1.3.3",
            "_view_name": "EdgeView",
            "classes": "",
            "data": {
              "K": 0,
              "dirFrom": "K",
              "edgeLabel": "succinate | r=2.03, K=0",
              "ft": "ft:sub:bac:bt:xf:xf_mannose",
              "id": "edge:ft:sub:bac:bt:xf:xf_mannose:met:succinate:produces:0",
              "metKey": "succinate",
              "rate": 2.0255236699,
              "rateAbs": 2.0255236699,
              "rateNorm": 0.20255236699,
              "role": "produces",
              "source": "ft:sub:bac:bt:xf:xf_mannose",
              "target": "met:succinate"
            },
            "pannable": true,
            "removed": false,
            "selectable": false,
            "selected": false
          }
        },
        "aa406861e5114a0bad408c103dfe0d3d": {
          "model_module": "jupyter-cytoscape",
          "model_module_version": "^1.3.3",
          "model_name": "EdgeModel",
          "state": {
            "_model_module": "jupyter-cytoscape",
            "_model_module_version": "^1.3.3",
            "_model_name": "EdgeModel",
            "_view_count": null,
            "_view_module": "jupyter-cytoscape",
            "_view_module_version": "^1.3.3",
            "_view_name": "EdgeView",
            "classes": "",
            "data": {
              "condition": "\"\"",
              "edgeLabel": "Condition: \"\" | Rate: 0.0099999999",
              "id": "edge:sub:bac:ri:xj:sub:bac:ri:xk:transition:1",
              "kind": "transition",
              "rate": 0.0099999999,
              "role": "connects",
              "source": "sub:bac:ri:xj",
              "source_subpop": "xj",
              "target": "sub:bac:ri:xk",
              "target_subpop": "xk"
            },
            "pannable": true,
            "removed": false,
            "selectable": false,
            "selected": false
          }
        },
        "abe093b37c7544289b7a478bde15d2f2": {
          "model_module": "jupyter-cytoscape",
          "model_module_version": "^1.3.3",
          "model_name": "NodeModel",
          "state": {
            "_model_module": "jupyter-cytoscape",
            "_model_module_version": "^1.3.3",
            "_model_name": "NodeModel",
            "_view_count": null,
            "_view_module": "jupyter-cytoscape",
            "_view_module_version": "^1.3.3",
            "_view_name": "NodeView",
            "classes": "",
            "data": {
              "color": "#00B8FF",
              "concentration": 0,
              "formula": {
                "C": 1,
                "H": 0,
                "N": 0,
                "O": 2,
                "P": 0,
                "S": 0
              },
              "hoverLabel": "co2 (metabolite) | conc=0 | formula=C1O2",
              "id": "met:co2",
              "label": "co2",
              "size": 0,
              "type": "metabolite"
            },
            "grabbable": true,
            "grabbed": false,
            "locked": false,
            "pannable": false,
            "position": {
              "x": 0,
              "y": -180
            },
            "removed": false,
            "selectable": false,
            "selected": false
          }
        },
        "ae3d57d8d971424ea5dd8a66adb44ba3": {
          "model_module": "jupyter-cytoscape",
          "model_module_version": "^1.3.3",
          "model_name": "EdgeModel",
          "state": {
            "_model_module": "jupyter-cytoscape",
            "_model_module_version": "^1.3.3",
            "_model_name": "EdgeModel",
            "_view_count": null,
            "_view_module": "jupyter-cytoscape",
            "_view_module_version": "^1.3.3",
            "_view_name": "EdgeView",
            "classes": "",
            "data": {
              "coeff": -0.0436,
              "coeffNorm": 0.448559670781893,
              "edgeLabel": "pH coeff=-0.0436",
              "id": "edge:pH:met:butyrate",
              "kind": "pH_effect",
              "role": "controls",
              "source": "pH",
              "target": "met:butyrate"
            },
            "pannable": true,
            "removed": false,
            "selectable": false,
            "selected": false
          }
        },
        "ae6cf044b263436f9c4b5ea7cf4afd2c": {
          "model_module": "jupyter-cytoscape",
          "model_module_version": "^1.3.3",
          "model_name": "NodeModel",
          "state": {
            "_model_module": "jupyter-cytoscape",
            "_model_module_version": "^1.3.3",
            "_model_name": "NodeModel",
            "_view_count": null,
            "_view_module": "jupyter-cytoscape",
            "_view_module_version": "^1.3.3",
            "_view_name": "NodeView",
            "classes": "",
            "data": {
              "hoverLabel": "xe_glucose (feeding-term)",
              "id": "ft:sub:bac:bt:xe:xe_glucose",
              "label": "xe_glucose",
              "parent": "bac:bt",
              "size": 0.35,
              "type": "feedingTerm"
            },
            "grabbable": true,
            "grabbed": false,
            "locked": false,
            "pannable": false,
            "position": {
              "x": -284,
              "y": 464
            },
            "removed": false,
            "selectable": false,
            "selected": false
          }
        },
        "afd83eccee554d1daef843f3e489ba07": {
          "model_module": "jupyter-cytoscape",
          "model_module_version": "^1.3.3",
          "model_name": "NodeModel",
          "state": {
            "_model_module": "jupyter-cytoscape",
            "_model_module_version": "^1.3.3",
            "_model_name": "NodeModel",
            "_view_count": null,
            "_view_module": "jupyter-cytoscape",
            "_view_module_version": "^1.3.3",
            "_view_name": "NodeView",
            "classes": "",
            "data": {
              "hoverLabel": "xj_lactate (feeding-term)",
              "id": "ft:sub:bac:ri:xj:xj_lactate",
              "label": "xj_lactate",
              "parent": "bac:ri",
              "size": 0.35,
              "type": "feedingTerm"
            },
            "grabbable": true,
            "grabbed": false,
            "locked": false,
            "pannable": false,
            "position": {
              "x": -36,
              "y": 928
            },
            "removed": false,
            "selectable": false,
            "selected": false
          }
        },
        "b383b329a6694f17a1ddd01c6a61f79e": {
          "model_module": "jupyter-cytoscape",
          "model_module_version": "^1.3.3",
          "model_name": "NodeModel",
          "state": {
            "_model_module": "jupyter-cytoscape",
            "_model_module_version": "^1.3.3",
            "_model_name": "NodeModel",
            "_view_count": null,
            "_view_module": "jupyter-cytoscape",
            "_view_module_version": "^1.3.3",
            "_view_name": "NodeView",
            "classes": "",
            "data": {
              "Topt": 37,
              "color": "#ff8300",
              "count": 0.003,
              "hoverLabel": "xe (subpop) | μmax=0.921546 | state=active",
              "id": "sub:bac:bt:xe",
              "label": "xe",
              "mumax": 0.9215459253,
              "pH_sensitivity_left": 1.2969,
              "pH_sensitivity_right": 1.2969,
              "pHopt": 7.5078120464,
              "parent": "bac:bt",
              "size": 0.3,
              "species": "bt",
              "state": "active",
              "tempSensitivity_left": 2,
              "tempSensitivity_right": 3,
              "type": "subpopulation"
            },
            "grabbable": true,
            "grabbed": false,
            "locked": false,
            "pannable": false,
            "position": {
              "x": -240,
              "y": 604
            },
            "removed": false,
            "selectable": false,
            "selected": false
          }
        },
        "b40c53590ff948e3a24cf5612d4c7610": {
          "model_module": "jupyter-cytoscape",
          "model_module_version": "^1.3.3",
          "model_name": "NodeModel",
          "state": {
            "_model_module": "jupyter-cytoscape",
            "_model_module_version": "^1.3.3",
            "_model_name": "NodeModel",
            "_view_count": null,
            "_view_module": "jupyter-cytoscape",
            "_view_module_version": "^1.3.3",
            "_view_name": "NodeView",
            "classes": "",
            "data": {
              "color": "#ff0000",
              "concentration": 5,
              "formula": {
                "C": 6,
                "H": 12,
                "N": 0,
                "O": 6,
                "P": 0,
                "S": 0
              },
              "hoverLabel": "glucose (metabolite) | conc=5 | formula=C6H12O6",
              "id": "met:glucose",
              "label": "glucose",
              "size": 1.0795880017344075,
              "type": "metabolite"
            },
            "grabbable": true,
            "grabbed": false,
            "locked": false,
            "pannable": false,
            "position": {
              "x": 0,
              "y": -180
            },
            "removed": false,
            "selectable": false,
            "selected": false
          }
        },
        "baf80a5aa6354e989d62a19f87abe566": {
          "model_module": "jupyter-cytoscape",
          "model_module_version": "^1.3.3",
          "model_name": "EdgeModel",
          "state": {
            "_model_module": "jupyter-cytoscape",
            "_model_module_version": "^1.3.3",
            "_model_name": "EdgeModel",
            "_view_count": null,
            "_view_module": "jupyter-cytoscape",
            "_view_module_version": "^1.3.3",
            "_view_name": "EdgeView",
            "classes": "",
            "data": {
              "condition": "",
              "edgeLabel": "Transition",
              "id": "edge:sub:bac:E_coli:acetate_ecoli:sub:bac:E_coli:inactive_ecoli:transition:1",
              "kind": "transition",
              "rate": 1e-7,
              "role": "connects",
              "source": "sub:bac:E_coli:acetate_ecoli",
              "source_subpop": "acetate_ecoli",
              "target": "sub:bac:E_coli:inactive_ecoli",
              "target_subpop": "inactive_ecoli"
            },
            "pannable": true,
            "removed": false,
            "selectable": false,
            "selected": false
          }
        },
        "bba94796057f4c3685e2cd46ef9ba50a": {
          "model_module": "jupyter-cytoscape",
          "model_module_version": "^1.3.3",
          "model_name": "NodeModel",
          "state": {
            "_model_module": "jupyter-cytoscape",
            "_model_module_version": "^1.3.3",
            "_model_name": "NodeModel",
            "_view_count": null,
            "_view_module": "jupyter-cytoscape",
            "_view_module_version": "^1.3.3",
            "_view_name": "NodeView",
            "classes": "",
            "data": {
              "color": "#ff8900",
              "concentration": 8.1368174275,
              "description": "Pyruvate metabolite",
              "formula": {
                "C": 3,
                "H": 4,
                "N": 0,
                "O": 3,
                "P": 0,
                "S": 0
              },
              "hoverLabel": "pyruvate (metabolite) | conc=8.13682 | formula=C3H4O3",
              "id": "met:pyruvate",
              "label": "pyruvate",
              "size": 1.1641818285922314,
              "type": "metabolite"
            },
            "grabbable": true,
            "grabbed": false,
            "locked": false,
            "pannable": false,
            "position": {
              "x": -36,
              "y": -180
            },
            "removed": false,
            "selectable": false,
            "selected": false
          }
        },
        "bca4f8a7ac7a4106bbe80e458bfc16eb": {
          "model_module": "jupyter-cytoscape",
          "model_module_version": "^1.3.3",
          "model_name": "EdgeModel",
          "state": {
            "_model_module": "jupyter-cytoscape",
            "_model_module_version": "^1.3.3",
            "_model_name": "EdgeModel",
            "_view_count": null,
            "_view_module": "jupyter-cytoscape",
            "_view_module_version": "^1.3.3",
            "_view_name": "EdgeView",
            "classes": "",
            "data": {
              "K": 0.5475232775,
              "dirFrom": "K",
              "edgeLabel": "pyruvate | r=2.78, K=0.548",
              "ft": "ft:sub:bac:ri:xi:xi_pyruvate",
              "id": "edge:met:pyruvate:ft:sub:bac:ri:xi:xi_pyruvate:consumes:1",
              "metKey": "pyruvate",
              "rate": 2.783751318,
              "rateAbs": 2.783751318,
              "rateNorm": 0.2783751318,
              "role": "consumes",
              "source": "met:pyruvate",
              "target": "ft:sub:bac:ri:xi:xi_pyruvate"
            },
            "pannable": true,
            "removed": false,
            "selectable": false,
            "selected": false
          }
        },
        "c026049247c5444999d1013823c166c4": {
          "model_module": "jupyter-cytoscape",
          "model_module_version": "^1.3.3",
          "model_name": "NodeModel",
          "state": {
            "_model_module": "jupyter-cytoscape",
            "_model_module_version": "^1.3.3",
            "_model_name": "NodeModel",
            "_view_count": null,
            "_view_module": "jupyter-cytoscape",
            "_view_module_version": "^1.3.3",
            "_view_name": "NodeView",
            "classes": "",
            "data": {
              "color": "#00B8FF",
              "concentration": 0,
              "formula": {
                "C": 1,
                "H": 0,
                "N": 0,
                "O": 2,
                "P": 0,
                "S": 0
              },
              "hoverLabel": "co2 (metabolite) | conc=0 | formula=C1O2",
              "id": "met:co2",
              "label": "co2",
              "size": 0,
              "type": "metabolite"
            },
            "grabbable": true,
            "grabbed": false,
            "locked": false,
            "pannable": false,
            "position": {
              "x": 0,
              "y": 0
            },
            "removed": false,
            "selectable": false,
            "selected": false
          }
        },
        "c09c14ade6b14bf18c9edde6b8ca3046": {
          "model_module": "jupyter-cytoscape",
          "model_module_version": "^1.3.3",
          "model_name": "NodeModel",
          "state": {
            "_model_module": "jupyter-cytoscape",
            "_model_module_version": "^1.3.3",
            "_model_name": "NodeModel",
            "_view_count": null,
            "_view_module": "jupyter-cytoscape",
            "_view_module_version": "^1.3.3",
            "_view_name": "NodeView",
            "classes": "",
            "data": {
              "Topt": 37,
              "color": "#d6d6d6",
              "count": 0,
              "hoverLabel": "xc (subpop) | μmax=0 | state=inactive",
              "id": "sub:bac:bh:xc",
              "label": "xc",
              "mumax": 0,
              "pH_sensitivity_left": 2,
              "pH_sensitivity_right": 2,
              "pHopt": 7,
              "parent": "bac:bh",
              "size": 0.3,
              "species": "bh",
              "state": "inactive",
              "tempSensitivity_left": 5,
              "tempSensitivity_right": 2,
              "type": "subpopulation"
            },
            "grabbable": true,
            "grabbed": false,
            "locked": false,
            "pannable": false,
            "position": {
              "x": 80,
              "y": 140
            },
            "removed": false,
            "selectable": false,
            "selected": false
          }
        },
        "c137f83bbb6d4fbb9c3c951dd6a06560": {
          "model_module": "jupyter-cytoscape",
          "model_module_version": "^1.3.3",
          "model_name": "GraphModel",
          "state": {
            "_adj": {
              "bac:E_coli": {},
              "ft:sub:bac:E_coli:acetate_ecoli:acetate_to_co2": {},
              "ft:sub:bac:E_coli:glucose_ecoli:glucose_to_acetate": {},
              "met:acetate": {},
              "met:co2": {},
              "met:glucose": {},
              "pH": {},
              "sub:bac:E_coli:acetate_ecoli": {},
              "sub:bac:E_coli:glucose_ecoli": {},
              "sub:bac:E_coli:inactive_ecoli": {}
            },
            "_model_module": "jupyter-cytoscape",
            "_model_module_version": "^1.3.3",
            "_model_name": "GraphModel",
            "_view_count": null,
            "_view_module": "jupyter-cytoscape",
            "_view_module_version": "^1.3.3",
            "_view_name": null,
            "edges": [
              "IPY_MODEL_e5e4a088eef5424a8bf2f0668e8190d8",
              "IPY_MODEL_f30ffcc574cf49a2b3a6981783e68659",
              "IPY_MODEL_8b8d0b8d98d94811bc0aeee3c7cfb5bb",
              "IPY_MODEL_37811bf900674fb5a5c3b2b6094bb02b",
              "IPY_MODEL_c91f64a1738b464fb09f807f30e6930e",
              "IPY_MODEL_85d29cf3ca9140f88f052e749ba2baac",
              "IPY_MODEL_e0df9187bf8f4ab18c4c220ac6b6d559",
              "IPY_MODEL_272b7204832e428c824405e18ff01772",
              "IPY_MODEL_baf80a5aa6354e989d62a19f87abe566"
            ],
            "nodes": [
              "IPY_MODEL_64fd56001655485a8b4c561990aad9e9",
              "IPY_MODEL_b40c53590ff948e3a24cf5612d4c7610",
              "IPY_MODEL_c451e9efec1040a8af2d2800f0bc9c6a",
              "IPY_MODEL_8e9a1352792e43899206c514391aa721",
              "IPY_MODEL_e2b71ef9f2fe46b9a080bac0c5174ea3",
              "IPY_MODEL_384738ed5c484d1b9e2350f66c10475b",
              "IPY_MODEL_4babbac702a141f3b4fb6f05d89653ba",
              "IPY_MODEL_5302325931084bbd9f6acb67192f4b06",
              "IPY_MODEL_01bbbf7e05c64ffc98ea3e42d3f25596",
              "IPY_MODEL_c5ce6699f7f24416bfa6cc19499ad7ac"
            ]
          }
        },
        "c441bf28335d4a5d8e7e41e1c66ed9f2": {
          "model_module": "jupyter-cytoscape",
          "model_module_version": "^1.3.3",
          "model_name": "EdgeModel",
          "state": {
            "_model_module": "jupyter-cytoscape",
            "_model_module_version": "^1.3.3",
            "_model_name": "EdgeModel",
            "_view_count": null,
            "_view_module": "jupyter-cytoscape",
            "_view_module_version": "^1.3.3",
            "_view_name": "EdgeView",
            "classes": "",
            "data": {
              "K": 0,
              "dirFrom": "K",
              "edgeLabel": "acetate | r=0.997, K=0",
              "ft": "ft:sub:bac:bt:xe:xe_glucose",
              "id": "edge:ft:sub:bac:bt:xe:xe_glucose:met:acetate:produces:1",
              "metKey": "acetate",
              "rate": 0.9965936487,
              "rateAbs": 0.9965936487,
              "rateNorm": 0.09965936487,
              "role": "produces",
              "source": "ft:sub:bac:bt:xe:xe_glucose",
              "target": "met:acetate"
            },
            "pannable": true,
            "removed": false,
            "selectable": false,
            "selected": false
          }
        },
        "c451e9efec1040a8af2d2800f0bc9c6a": {
          "model_module": "jupyter-cytoscape",
          "model_module_version": "^1.3.3",
          "model_name": "NodeModel",
          "state": {
            "_model_module": "jupyter-cytoscape",
            "_model_module_version": "^1.3.3",
            "_model_name": "NodeModel",
            "_view_count": null,
            "_view_module": "jupyter-cytoscape",
            "_view_module_version": "^1.3.3",
            "_view_name": "NodeView",
            "classes": "",
            "data": {
              "color": "#003eff",
              "concentration": 0,
              "formula": {
                "C": 2,
                "H": 4,
                "N": 0,
                "O": 3,
                "P": 0,
                "S": 0
              },
              "hoverLabel": "acetate (metabolite) | conc=0 | formula=C2H4O3",
              "id": "met:acetate",
              "label": "acetate",
              "size": 0,
              "type": "metabolite"
            },
            "grabbable": true,
            "grabbed": false,
            "locked": false,
            "pannable": false,
            "position": {
              "x": -160,
              "y": -180
            },
            "removed": false,
            "selectable": false,
            "selected": false
          }
        },
        "c5ce6699f7f24416bfa6cc19499ad7ac": {
          "model_module": "jupyter-cytoscape",
          "model_module_version": "^1.3.3",
          "model_name": "NodeModel",
          "state": {
            "_model_module": "jupyter-cytoscape",
            "_model_module_version": "^1.3.3",
            "_model_name": "NodeModel",
            "_view_count": null,
            "_view_module": "jupyter-cytoscape",
            "_view_module_version": "^1.3.3",
            "_view_name": "NodeView",
            "classes": "",
            "data": {
              "Topt": 37,
              "color": "#cf6f15",
              "count": 1,
              "hoverLabel": "inactive_ecoli (subpop) | μmax=0 | state=inactive",
              "id": "sub:bac:E_coli:inactive_ecoli",
              "label": "inactive_ecoli",
              "mumax": 0,
              "pHalpha": 1,
              "pHopt": 7,
              "parent": "bac:E_coli",
              "size": 1,
              "species": "E. coli",
              "state": "inactive",
              "tempSensitivity_left": 1,
              "tempSensitivity_right": 1,
              "type": "subpopulation"
            },
            "grabbable": true,
            "grabbed": false,
            "locked": false,
            "pannable": false,
            "position": {
              "x": 160,
              "y": 140
            },
            "removed": false,
            "selectable": false,
            "selected": false
          }
        },
        "c6f342ca3446492a9435db8579bbe90e": {
          "model_module": "jupyter-cytoscape",
          "model_module_version": "^1.3.3",
          "model_name": "EdgeModel",
          "state": {
            "_model_module": "jupyter-cytoscape",
            "_model_module_version": "^1.3.3",
            "_model_name": "EdgeModel",
            "_view_count": null,
            "_view_module": "jupyter-cytoscape",
            "_view_module_version": "^1.3.3",
            "_view_name": "EdgeView",
            "classes": "",
            "data": {
              "condition": "((glucose + pyruvate) ** 50.0/((glucose + pyruvate)  ** 50.0 + 8.0 ** 50.0))",
              "edgeLabel": "Condition: ((glucose + pyruvate) ** 50.0/((glucose + pyruvate... | Rate: 0.1",
              "id": "edge:sub:bac:ri:xj:sub:bac:ri:xi:transition:0",
              "kind": "transition",
              "rate": 0.1,
              "role": "connects",
              "source": "sub:bac:ri:xj",
              "source_subpop": "xj",
              "target": "sub:bac:ri:xi",
              "target_subpop": "xi"
            },
            "pannable": true,
            "removed": false,
            "selectable": false,
            "selected": false
          }
        },
        "c7baa4dc63f248818a2606760af90217": {
          "model_module": "jupyter-cytoscape",
          "model_module_version": "^1.3.3",
          "model_name": "GraphModel",
          "state": {
            "_adj": {
              "bac:default_species": {},
              "ft:sub:bac:default_species:default_subpop:glucose_to_acetate": {},
              "met:acetate": {},
              "met:co2": {},
              "met:glucose": {},
              "pH": {},
              "sub:bac:default_species:default_subpop": {}
            },
            "_model_module": "jupyter-cytoscape",
            "_model_module_version": "^1.3.3",
            "_model_name": "GraphModel",
            "_view_count": null,
            "_view_module": "jupyter-cytoscape",
            "_view_module_version": "^1.3.3",
            "_view_name": null,
            "edges": [
              "IPY_MODEL_412096c4b5054fa68f54d2f40b3acc46",
              "IPY_MODEL_cd0f6bde667a4e478253ee8bf57fbbfc",
              "IPY_MODEL_5ff26c0f579e471999a2faa19582e391"
            ],
            "nodes": [
              "IPY_MODEL_607e029438c043d29778642361de5d11",
              "IPY_MODEL_7289438d9828498fb02fe57ecf8b47e2",
              "IPY_MODEL_abe093b37c7544289b7a478bde15d2f2",
              "IPY_MODEL_9fb651396c764d4ba1044edbed28a1f5",
              "IPY_MODEL_6de8e6d467274355a8f0af2ee0fe046f",
              "IPY_MODEL_29b3efe612784756a2bc0277bd43740e",
              "IPY_MODEL_36b893cbc69445888a1d7a1ed34a5364"
            ]
          }
        },
        "c91f64a1738b464fb09f807f30e6930e": {
          "model_module": "jupyter-cytoscape",
          "model_module_version": "^1.3.3",
          "model_name": "EdgeModel",
          "state": {
            "_model_module": "jupyter-cytoscape",
            "_model_module_version": "^1.3.3",
            "_model_name": "EdgeModel",
            "_view_count": null,
            "_view_module": "jupyter-cytoscape",
            "_view_module_version": "^1.3.3",
            "_view_name": "EdgeView",
            "classes": "",
            "data": {
              "K": 1,
              "dirFrom": "K",
              "edgeLabel": "acetate | r=1, K=1",
              "ft": "ft:sub:bac:E_coli:acetate_ecoli:acetate_to_co2",
              "id": "edge:met:acetate:ft:sub:bac:E_coli:acetate_ecoli:acetate_to_co2:consumes:0",
              "metKey": "acetate",
              "rate": 1,
              "rateAbs": 1,
              "rateNorm": 1,
              "role": "consumes",
              "source": "met:acetate",
              "target": "ft:sub:bac:E_coli:acetate_ecoli:acetate_to_co2"
            },
            "pannable": true,
            "removed": false,
            "selectable": false,
            "selected": false
          }
        },
        "cd0f6bde667a4e478253ee8bf57fbbfc": {
          "model_module": "jupyter-cytoscape",
          "model_module_version": "^1.3.3",
          "model_name": "EdgeModel",
          "state": {
            "_model_module": "jupyter-cytoscape",
            "_model_module_version": "^1.3.3",
            "_model_name": "EdgeModel",
            "_view_count": null,
            "_view_module": "jupyter-cytoscape",
            "_view_module_version": "^1.3.3",
            "_view_name": "EdgeView",
            "classes": "",
            "data": {
              "K": 0,
              "dirFrom": "K",
              "edgeLabel": "acetate | r=-1, K=0",
              "ft": "ft:sub:bac:default_species:default_subpop:glucose_to_acetate",
              "id": "edge:ft:sub:bac:default_species:default_subpop:glucose_to_acetate:met:acetate:produces:0",
              "metKey": "acetate",
              "rate": -1,
              "rateAbs": 1,
              "rateNorm": 1,
              "role": "produces",
              "source": "ft:sub:bac:default_species:default_subpop:glucose_to_acetate",
              "target": "met:acetate"
            },
            "pannable": true,
            "removed": false,
            "selectable": false,
            "selected": false
          }
        },
        "d0bd587cebc042cc8ee93e4b77e97cb9": {
          "model_module": "jupyter-cytoscape",
          "model_module_version": "^1.3.3",
          "model_name": "EdgeModel",
          "state": {
            "_model_module": "jupyter-cytoscape",
            "_model_module_version": "^1.3.3",
            "_model_name": "EdgeModel",
            "_view_count": null,
            "_view_module": "jupyter-cytoscape",
            "_view_module_version": "^1.3.3",
            "_view_name": "EdgeView",
            "classes": "",
            "data": {
              "edgeLabel": "feeds",
              "id": "edge:sub:bac:ri:xj:ft:sub:bac:ri:xj:xj_lactate:feeds",
              "kind": "feeds",
              "role": "feeds",
              "source": "sub:bac:ri:xj",
              "target": "ft:sub:bac:ri:xj:xj_lactate"
            },
            "pannable": true,
            "removed": false,
            "selectable": false,
            "selected": false
          }
        },
        "d15d185fbcf544d2823c07e052c33841": {
          "model_module": "jupyter-cytoscape",
          "model_module_version": "^1.3.3",
          "model_name": "EdgeModel",
          "state": {
            "_model_module": "jupyter-cytoscape",
            "_model_module_version": "^1.3.3",
            "_model_name": "EdgeModel",
            "_view_count": null,
            "_view_module": "jupyter-cytoscape",
            "_view_module_version": "^1.3.3",
            "_view_name": "EdgeView",
            "classes": "",
            "data": {
              "K": 0,
              "dirFrom": "K",
              "edgeLabel": "acetate | r=3, K=0",
              "ft": "ft:sub:bac:bh:xb:xb_glucose_glutamate",
              "id": "edge:ft:sub:bac:bh:xb:xb_glucose_glutamate:met:acetate:produces:1",
              "metKey": "acetate",
              "rate": 2.9999999999,
              "rateAbs": 2.9999999999,
              "rateNorm": 0.29999999999,
              "role": "produces",
              "source": "ft:sub:bac:bh:xb:xb_glucose_glutamate",
              "target": "met:acetate"
            },
            "pannable": true,
            "removed": false,
            "selectable": false,
            "selected": false
          }
        },
        "d20e287dcd7f4067971bed11b68d2c33": {
          "model_module": "jupyter-cytoscape",
          "model_module_version": "^1.3.3",
          "model_name": "EdgeModel",
          "state": {
            "_model_module": "jupyter-cytoscape",
            "_model_module_version": "^1.3.3",
            "_model_name": "EdgeModel",
            "_view_count": null,
            "_view_module": "jupyter-cytoscape",
            "_view_module_version": "^1.3.3",
            "_view_name": "EdgeView",
            "classes": "",
            "data": {
              "K": 0.105982109,
              "dirFrom": "K",
              "edgeLabel": "mannose | r=0.404, K=0.106",
              "ft": "ft:sub:bac:bt:xf:xf_mannose",
              "id": "edge:met:mannose:ft:sub:bac:bt:xf:xf_mannose:consumes:0",
              "metKey": "mannose",
              "rate": 0.404023368,
              "rateAbs": 0.404023368,
              "rateNorm": 0.0404023368,
              "role": "consumes",
              "source": "met:mannose",
              "target": "ft:sub:bac:bt:xf:xf_mannose"
            },
            "pannable": true,
            "removed": false,
            "selectable": false,
            "selected": false
          }
        },
        "d290eec02fab43b58981f7827633ed58": {
          "model_module": "jupyter-cytoscape",
          "model_module_version": "^1.3.3",
          "model_name": "EdgeModel",
          "state": {
            "_model_module": "jupyter-cytoscape",
            "_model_module_version": "^1.3.3",
            "_model_name": "EdgeModel",
            "_view_count": null,
            "_view_module": "jupyter-cytoscape",
            "_view_module_version": "^1.3.3",
            "_view_name": "EdgeView",
            "classes": "",
            "data": {
              "K": 0,
              "dirFrom": "K",
              "edgeLabel": "acetate | r=0.26, K=0",
              "ft": "ft:sub:bac:bt:xe:xe_pyruvate",
              "id": "edge:ft:sub:bac:bt:xe:xe_pyruvate:met:acetate:produces:0",
              "metKey": "acetate",
              "rate": 0.260294755,
              "rateAbs": 0.260294755,
              "rateNorm": 0.0260294755,
              "role": "produces",
              "source": "ft:sub:bac:bt:xe:xe_pyruvate",
              "target": "met:acetate"
            },
            "pannable": true,
            "removed": false,
            "selectable": false,
            "selected": false
          }
        },
        "d624f6143a5d4937a29b9e3252b7ae4b": {
          "model_module": "jupyter-cytoscape",
          "model_module_version": "^1.3.3",
          "model_name": "EdgeModel",
          "state": {
            "_model_module": "jupyter-cytoscape",
            "_model_module_version": "^1.3.3",
            "_model_name": "EdgeModel",
            "_view_count": null,
            "_view_module": "jupyter-cytoscape",
            "_view_module_version": "^1.3.3",
            "_view_name": "EdgeView",
            "classes": "",
            "data": {
              "K": 0,
              "dirFrom": "K",
              "edgeLabel": "butyrate | r=1.99e-09, K=0",
              "ft": "ft:sub:bac:ri:xj:xj_acetate",
              "id": "edge:ft:sub:bac:ri:xj:xj_acetate:met:butyrate:produces:1",
              "metKey": "butyrate",
              "rate": 1.9947949958e-9,
              "rateAbs": 1.9947949958e-9,
              "rateNorm": 1.9947949958000001e-10,
              "role": "produces",
              "source": "ft:sub:bac:ri:xj:xj_acetate",
              "target": "met:butyrate"
            },
            "pannable": true,
            "removed": false,
            "selectable": false,
            "selected": false
          }
        },
        "d7786b9c5fdf4d73b3d8cdba9b69eee4": {
          "model_module": "jupyter-cytoscape",
          "model_module_version": "^1.3.3",
          "model_name": "NodeModel",
          "state": {
            "_model_module": "jupyter-cytoscape",
            "_model_module_version": "^1.3.3",
            "_model_name": "NodeModel",
            "_view_count": null,
            "_view_module": "jupyter-cytoscape",
            "_view_module_version": "^1.3.3",
            "_view_name": "NodeView",
            "classes": "",
            "data": {
              "color": "#00c6ff",
              "concentration": 0.699764498666667,
              "description": "Formate metabolite",
              "formula": {
                "C": 1,
                "H": 2,
                "N": 0,
                "O": 2,
                "P": 0,
                "S": 0
              },
              "hoverLabel": "formate (metabolite) | conc=0.699764 | formula=C1H2O2",
              "id": "met:formate",
              "label": "formate",
              "size": 0.6498822493333335,
              "type": "metabolite"
            },
            "grabbable": true,
            "grabbed": false,
            "locked": false,
            "pannable": false,
            "position": {
              "x": -196,
              "y": 784
            },
            "removed": false,
            "selectable": false,
            "selected": false
          }
        },
        "de89e6f8e8924c76ad3a40ae1b1164e3": {
          "model_module": "jupyter-cytoscape",
          "model_module_version": "^1.3.3",
          "model_name": "NodeModel",
          "state": {
            "_model_module": "jupyter-cytoscape",
            "_model_module_version": "^1.3.3",
            "_model_name": "NodeModel",
            "_view_count": null,
            "_view_module": "jupyter-cytoscape",
            "_view_module_version": "^1.3.3",
            "_view_name": "NodeView",
            "classes": "",
            "data": {
              "Topt": 37,
              "color": "#b1b0af",
              "count": 0,
              "hoverLabel": "xg (subpop) | μmax=0 | state=inactive",
              "id": "sub:bac:bt:xg",
              "label": "xg",
              "mumax": 0,
              "pH_sensitivity_left": 2,
              "pH_sensitivity_right": 2,
              "pHopt": 7,
              "parent": "bac:bt",
              "size": 0.3,
              "species": "bt",
              "state": "inactive",
              "tempSensitivity_left": 5,
              "tempSensitivity_right": 2,
              "type": "subpopulation"
            },
            "grabbable": true,
            "grabbed": false,
            "locked": false,
            "pannable": false,
            "position": {
              "x": 80,
              "y": 604
            },
            "removed": false,
            "selectable": false,
            "selected": false
          }
        },
        "e086ca7762b7474d8e51934fb81168e5": {
          "model_module": "jupyter-cytoscape",
          "model_module_version": "^1.3.3",
          "model_name": "NodeModel",
          "state": {
            "_model_module": "jupyter-cytoscape",
            "_model_module_version": "^1.3.3",
            "_model_name": "NodeModel",
            "_view_count": null,
            "_view_module": "jupyter-cytoscape",
            "_view_module_version": "^1.3.3",
            "_view_name": "NodeView",
            "classes": "",
            "data": {
              "hoverLabel": "xa_trehalose (feeding-term)",
              "id": "ft:sub:bac:bh:xa:xa_trehalose",
              "label": "xa_trehalose",
              "parent": "bac:bh",
              "size": 0.35,
              "type": "feedingTerm"
            },
            "grabbable": true,
            "grabbed": false,
            "locked": false,
            "pannable": false,
            "position": {
              "x": -196,
              "y": 0
            },
            "removed": false,
            "selectable": false,
            "selected": false
          }
        },
        "e0df9187bf8f4ab18c4c220ac6b6d559": {
          "model_module": "jupyter-cytoscape",
          "model_module_version": "^1.3.3",
          "model_name": "EdgeModel",
          "state": {
            "_model_module": "jupyter-cytoscape",
            "_model_module_version": "^1.3.3",
            "_model_name": "EdgeModel",
            "_view_count": null,
            "_view_module": "jupyter-cytoscape",
            "_view_module_version": "^1.3.3",
            "_view_name": "EdgeView",
            "classes": "",
            "data": {
              "condition": "<callable_condition>",
              "edgeLabel": "Condition: <callable_condition> | Rate: 0.001",
              "id": "edge:sub:bac:E_coli:glucose_ecoli:sub:bac:E_coli:acetate_ecoli:transition:0",
              "kind": "transition",
              "rate": 0.001,
              "role": "connects",
              "source": "sub:bac:E_coli:glucose_ecoli",
              "source_subpop": "glucose_ecoli",
              "target": "sub:bac:E_coli:acetate_ecoli",
              "target_subpop": "acetate_ecoli"
            },
            "pannable": true,
            "removed": false,
            "selectable": false,
            "selected": false
          }
        },
        "e2b71ef9f2fe46b9a080bac0c5174ea3": {
          "model_module": "jupyter-cytoscape",
          "model_module_version": "^1.3.3",
          "model_name": "NodeModel",
          "state": {
            "_model_module": "jupyter-cytoscape",
            "_model_module_version": "^1.3.3",
            "_model_name": "NodeModel",
            "_view_count": null,
            "_view_module": "jupyter-cytoscape",
            "_view_module_version": "^1.3.3",
            "_view_name": "NodeView",
            "classes": "",
            "data": {
              "baseValue": 7,
              "color": "#10b981",
              "description": "Default pH control",
              "hoverLabel": "pH",
              "id": "pH",
              "label": "pH",
              "name": "pH Control",
              "type": "pH"
            },
            "grabbable": true,
            "grabbed": false,
            "locked": false,
            "pannable": false,
            "position": {
              "x": 480,
              "y": 70
            },
            "removed": false,
            "selectable": false,
            "selected": false
          }
        },
        "e3ff258302f747428307cddd90fb6ff7": {
          "model_module": "jupyter-cytoscape",
          "model_module_version": "^1.3.3",
          "model_name": "NodeModel",
          "state": {
            "_model_module": "jupyter-cytoscape",
            "_model_module_version": "^1.3.3",
            "_model_name": "NodeModel",
            "_view_count": null,
            "_view_module": "jupyter-cytoscape",
            "_view_module_version": "^1.3.3",
            "_view_name": "NodeView",
            "classes": "",
            "data": {
              "hoverLabel": "xj_acetate (feeding-term)",
              "id": "ft:sub:bac:ri:xj:xj_acetate",
              "label": "xj_acetate",
              "parent": "bac:ri",
              "size": 0.35,
              "type": "feedingTerm"
            },
            "grabbable": true,
            "grabbed": false,
            "locked": false,
            "pannable": false,
            "position": {
              "x": -124,
              "y": 928
            },
            "removed": false,
            "selectable": false,
            "selected": false
          }
        },
        "e473ab129a8b4922b1da03297f9825b3": {
          "model_module": "jupyter-cytoscape",
          "model_module_version": "^1.3.3",
          "model_name": "EdgeModel",
          "state": {
            "_model_module": "jupyter-cytoscape",
            "_model_module_version": "^1.3.3",
            "_model_name": "EdgeModel",
            "_view_count": null,
            "_view_module": "jupyter-cytoscape",
            "_view_module_version": "^1.3.3",
            "_view_name": "EdgeView",
            "classes": "",
            "data": {
              "K": 0,
              "dirFrom": "K",
              "edgeLabel": "acetate | r=5, K=0",
              "ft": "ft:sub:bac:bh:xb:xb_pyruvate",
              "id": "edge:ft:sub:bac:bh:xb:xb_pyruvate:met:acetate:produces:0",
              "metKey": "acetate",
              "rate": 4.9999999999,
              "rateAbs": 4.9999999999,
              "rateNorm": 0.49999999999,
              "role": "produces",
              "source": "ft:sub:bac:bh:xb:xb_pyruvate",
              "target": "met:acetate"
            },
            "pannable": true,
            "removed": false,
            "selectable": false,
            "selected": false
          }
        },
        "e5e4a088eef5424a8bf2f0668e8190d8": {
          "model_module": "jupyter-cytoscape",
          "model_module_version": "^1.3.3",
          "model_name": "EdgeModel",
          "state": {
            "_model_module": "jupyter-cytoscape",
            "_model_module_version": "^1.3.3",
            "_model_name": "EdgeModel",
            "_view_count": null,
            "_view_module": "jupyter-cytoscape",
            "_view_module_version": "^1.3.3",
            "_view_name": "EdgeView",
            "classes": "",
            "data": {
              "edgeLabel": "feeds",
              "id": "edge:sub:bac:E_coli:glucose_ecoli:ft:sub:bac:E_coli:glucose_ecoli:glucose_to_acetate:feeds",
              "kind": "feeds",
              "role": "feeds",
              "source": "sub:bac:E_coli:glucose_ecoli",
              "target": "ft:sub:bac:E_coli:glucose_ecoli:glucose_to_acetate"
            },
            "pannable": true,
            "removed": false,
            "selectable": false,
            "selected": false
          }
        },
        "e814cecb74db45d0a949a70626eefd77": {
          "model_module": "jupyter-cytoscape",
          "model_module_version": "^1.3.3",
          "model_name": "EdgeModel",
          "state": {
            "_model_module": "jupyter-cytoscape",
            "_model_module_version": "^1.3.3",
            "_model_name": "EdgeModel",
            "_view_count": null,
            "_view_module": "jupyter-cytoscape",
            "_view_module_version": "^1.3.3",
            "_view_name": "EdgeView",
            "classes": "",
            "data": {
              "edgeLabel": "feeds",
              "id": "edge:sub:bac:bh:xa:ft:sub:bac:bh:xa:xa_trehalose:feeds",
              "kind": "feeds",
              "role": "feeds",
              "source": "sub:bac:bh:xa",
              "target": "ft:sub:bac:bh:xa:xa_trehalose"
            },
            "pannable": true,
            "removed": false,
            "selectable": false,
            "selected": false
          }
        },
        "e916982018ba4216a7b9872976ce6ab7": {
          "model_module": "jupyter-cytoscape",
          "model_module_version": "^1.3.3",
          "model_name": "EdgeModel",
          "state": {
            "_model_module": "jupyter-cytoscape",
            "_model_module_version": "^1.3.3",
            "_model_name": "EdgeModel",
            "_view_count": null,
            "_view_module": "jupyter-cytoscape",
            "_view_module_version": "^1.3.3",
            "_view_name": "EdgeView",
            "classes": "",
            "data": {
              "edgeLabel": "feeds",
              "id": "edge:sub:bac:bh:xa:ft:sub:bac:bh:xa:xa_pyruvate:feeds",
              "kind": "feeds",
              "role": "feeds",
              "source": "sub:bac:bh:xa",
              "target": "ft:sub:bac:bh:xa:xa_pyruvate"
            },
            "pannable": true,
            "removed": false,
            "selectable": false,
            "selected": false
          }
        },
        "ecba33bfb8aa4ffeb857d64747ec0c0b": {
          "model_module": "jupyter-cytoscape",
          "model_module_version": "^1.3.3",
          "model_name": "EdgeModel",
          "state": {
            "_model_module": "jupyter-cytoscape",
            "_model_module_version": "^1.3.3",
            "_model_name": "EdgeModel",
            "_view_count": null,
            "_view_module": "jupyter-cytoscape",
            "_view_module_version": "^1.3.3",
            "_view_name": "EdgeView",
            "classes": "",
            "data": {
              "edgeLabel": "feeds",
              "id": "edge:sub:bac:bt:xe:ft:sub:bac:bt:xe:xe_pyruvate:feeds",
              "kind": "feeds",
              "role": "feeds",
              "source": "sub:bac:bt:xe",
              "target": "ft:sub:bac:bt:xe:xe_pyruvate"
            },
            "pannable": true,
            "removed": false,
            "selectable": false,
            "selected": false
          }
        },
        "f142319d684f43b2aec8ff3ae4c354f4": {
          "model_module": "jupyter-cytoscape",
          "model_module_version": "^1.3.3",
          "model_name": "EdgeModel",
          "state": {
            "_model_module": "jupyter-cytoscape",
            "_model_module_version": "^1.3.3",
            "_model_name": "EdgeModel",
            "_view_count": null,
            "_view_module": "jupyter-cytoscape",
            "_view_module_version": "^1.3.3",
            "_view_name": "EdgeView",
            "classes": "",
            "data": {
              "condition": "\"\"",
              "edgeLabel": "Condition: \"\" | Rate: 1e-05",
              "id": "edge:sub:bac:bh:xa:sub:bac:bh:xc:transition:1",
              "kind": "transition",
              "rate": 0.00001,
              "role": "connects",
              "source": "sub:bac:bh:xa",
              "source_subpop": "xa",
              "target": "sub:bac:bh:xc",
              "target_subpop": "xc"
            },
            "pannable": true,
            "removed": false,
            "selectable": false,
            "selected": false
          }
        },
        "f1c7a0938a174a39aa7351aeca085170": {
          "model_module": "jupyter-cytoscape",
          "model_module_version": "^1.3.3",
          "model_name": "GraphModel",
          "state": {
            "_adj": {
              "bac:bh": {},
              "bac:bt": {},
              "bac:ri": {},
              "ft:sub:bac:bh:xa:xa_pyruvate": {},
              "ft:sub:bac:bh:xa:xa_trehalose": {},
              "ft:sub:bac:bh:xb:xb_glucose_glutamate": {},
              "ft:sub:bac:bh:xb:xb_pyruvate": {},
              "ft:sub:bac:bt:xe:xe_glucose": {},
              "ft:sub:bac:bt:xe:xe_pyruvate": {},
              "ft:sub:bac:bt:xf:xf_mannose": {},
              "ft:sub:bac:ri:xi:xi_glucose": {},
              "ft:sub:bac:ri:xi:xi_pyruvate": {},
              "ft:sub:bac:ri:xj:xj_acetate": {},
              "ft:sub:bac:ri:xj:xj_lactate": {},
              "met:acetate": {},
              "met:butyrate": {},
              "met:formate": {},
              "met:glucose": {},
              "met:glutamate": {},
              "met:lactate": {},
              "met:mannose": {},
              "met:pyruvate": {},
              "met:succinate": {},
              "met:trehalose": {},
              "pH": {},
              "sub:bac:bh:xa": {},
              "sub:bac:bh:xb": {},
              "sub:bac:bh:xc": {},
              "sub:bac:bh:xd": {},
              "sub:bac:bt:xe": {},
              "sub:bac:bt:xf": {},
              "sub:bac:bt:xg": {},
              "sub:bac:bt:xh": {},
              "sub:bac:ri:xi": {},
              "sub:bac:ri:xj": {},
              "sub:bac:ri:xk": {},
              "sub:bac:ri:xl": {}
            },
            "_model_module": "jupyter-cytoscape",
            "_model_module_version": "^1.3.3",
            "_model_name": "GraphModel",
            "_view_count": null,
            "_view_module": "jupyter-cytoscape",
            "_view_module_version": "^1.3.3",
            "_view_name": null,
            "edges": [
              "IPY_MODEL_a1f29a0a9988494097e18332fe8c88a1",
              "IPY_MODEL_ae3d57d8d971424ea5dd8a66adb44ba3",
              "IPY_MODEL_fc2b39fd25804df3834cbb8747ac5773",
              "IPY_MODEL_e814cecb74db45d0a949a70626eefd77",
              "IPY_MODEL_82a27995d9f4441c93617990716a81f2",
              "IPY_MODEL_fac19eb815a74044ad7ed34f99397c4f",
              "IPY_MODEL_9c26ad886b7e479d80f2e74b91496742",
              "IPY_MODEL_e916982018ba4216a7b9872976ce6ab7",
              "IPY_MODEL_51819622d45847368afa21433e73704c",
              "IPY_MODEL_0d69c9e57c3c4a8ea0a417578296d79d",
              "IPY_MODEL_358a52f5c5444324816044671d94caeb",
              "IPY_MODEL_7caaf7dba0154116a2f9ffffe701d5e1",
              "IPY_MODEL_e473ab129a8b4922b1da03297f9825b3",
              "IPY_MODEL_00940d59f43e453ab947dabd2667afa7",
              "IPY_MODEL_09794dc63f844fe4b09a20fbc753bbcf",
              "IPY_MODEL_38fb8a02a8d3453ca42a93eccf325874",
              "IPY_MODEL_d15d185fbcf544d2823c07e052c33841",
              "IPY_MODEL_20523d48d94e415fb504b3e06c35156b",
              "IPY_MODEL_f142319d684f43b2aec8ff3ae4c354f4",
              "IPY_MODEL_32238c9b1d514fc39a13d997fb04c3cb",
              "IPY_MODEL_148f27c1d4b442dd9bdbc2ef8c5fe0a0",
              "IPY_MODEL_ecba33bfb8aa4ffeb857d64747ec0c0b",
              "IPY_MODEL_56375b12a8884bd690cb42541ed41726",
              "IPY_MODEL_d290eec02fab43b58981f7827633ed58",
              "IPY_MODEL_65f9f0fcaa8348729283ab5eb6ff7028",
              "IPY_MODEL_7f6f4028161f4510af15d4bf8bd00cdb",
              "IPY_MODEL_1a5e2d0f806a45f0b0bf42a151e8da50",
              "IPY_MODEL_350a44016ac546ac99351bcebf3dfeae",
              "IPY_MODEL_c441bf28335d4a5d8e7e41e1c66ed9f2",
              "IPY_MODEL_04591e6cca424fb5862654d117e82240",
              "IPY_MODEL_37c62938e91b4f29b4f5f65a223c2311",
              "IPY_MODEL_d20e287dcd7f4067971bed11b68d2c33",
              "IPY_MODEL_9f2e194ef44245638f0ff738b5cb1672",
              "IPY_MODEL_a9dc99287e4442d29f161dc38e36bf28",
              "IPY_MODEL_f3e52a17efc7422f87dcd973618ff7af",
              "IPY_MODEL_00b65a9cfc634f7095db5a77dea09e52",
              "IPY_MODEL_36205e2ab7f84d989ffcaade68f30b78",
              "IPY_MODEL_6c33dce4371e473bbcb8b666c3536a2a",
              "IPY_MODEL_9ca44ada64ee4ec5a1ad0f45855d5044",
              "IPY_MODEL_9697d506efa140a3907b999ef04d6786",
              "IPY_MODEL_314e6d8145154b029b3cfafe653a1627",
              "IPY_MODEL_06f57fe26d7b4476ac87e98e00f14d5c",
              "IPY_MODEL_f7b6fe5af80b4c30965965218891b7fd",
              "IPY_MODEL_8571836831ee4f968eda6a901bfbdadb",
              "IPY_MODEL_bca4f8a7ac7a4106bbe80e458bfc16eb",
              "IPY_MODEL_0c9d6ac767e2414290ba989f54af2cf6",
              "IPY_MODEL_4a7d98b66ac1481ea936658ec466432b",
              "IPY_MODEL_d0bd587cebc042cc8ee93e4b77e97cb9",
              "IPY_MODEL_6619366d099a4fe19d5a8d495a990dab",
              "IPY_MODEL_46c52f85c2824c119bb1304c5c69fd53",
              "IPY_MODEL_9c28e89140f74bbfbea3d2397ef3c08a",
              "IPY_MODEL_fd633eb686254aa299fa959674390678",
              "IPY_MODEL_d624f6143a5d4937a29b9e3252b7ae4b",
              "IPY_MODEL_c6f342ca3446492a9435db8579bbe90e",
              "IPY_MODEL_aa406861e5114a0bad408c103dfe0d3d",
              "IPY_MODEL_1be9ee9f95894e158f433ace8988232d",
              "IPY_MODEL_752e68ace5674129b37faade3b650ad0"
            ],
            "nodes": [
              "IPY_MODEL_7391a236eba44697a5eeb2462a006242",
              "IPY_MODEL_5a992f9543e34d5ca4a5eaff8eaf77b2",
              "IPY_MODEL_0aa38a7e44974a8ab98f600cc892c2f4",
              "IPY_MODEL_76522d2ef9b248ed8541da3f20673c91",
              "IPY_MODEL_bba94796057f4c3685e2cd46ef9ba50a",
              "IPY_MODEL_3b41ae2032154aa2a44365533fc988c2",
              "IPY_MODEL_2ea28a91d8c548a093cf0b25d0705799",
              "IPY_MODEL_263c95f26bf5402a917654b46b4f9b37",
              "IPY_MODEL_d7786b9c5fdf4d73b3d8cdba9b69eee4",
              "IPY_MODEL_53839685fe28438eab8763e84bf1efb6",
              "IPY_MODEL_61acdcee616f42d48354f85f3f2aa5f9",
              "IPY_MODEL_3eed498a780b4ab2a210806e2e994916",
              "IPY_MODEL_1f690a09943041d7a5b30e85a91ecbb8",
              "IPY_MODEL_21c171b820934803a15096a1a08d4845",
              "IPY_MODEL_40f026a5dc8b449f8b29fe45140b8e7a",
              "IPY_MODEL_e086ca7762b7474d8e51934fb81168e5",
              "IPY_MODEL_f47bcac929994077b00e8fb1b5fa85e8",
              "IPY_MODEL_2834a94044ff4d0ab1882be0b3045252",
              "IPY_MODEL_7f1e87de611d43a3bc9da9761fcf58c8",
              "IPY_MODEL_00d36485b68347e283fd8f337832f90c",
              "IPY_MODEL_c09c14ade6b14bf18c9edde6b8ca3046",
              "IPY_MODEL_a68c08697c2a462cb6bdb899ea94689b",
              "IPY_MODEL_b383b329a6694f17a1ddd01c6a61f79e",
              "IPY_MODEL_1aabf3c6d12d4a2d9a29e5402fbdb1bf",
              "IPY_MODEL_ae6cf044b263436f9c4b5ea7cf4afd2c",
              "IPY_MODEL_790d893055bc42919afe51ba2074eb87",
              "IPY_MODEL_9a6abb795d534aac87ee8d5130a84239",
              "IPY_MODEL_de89e6f8e8924c76ad3a40ae1b1164e3",
              "IPY_MODEL_38e1807d27fd4c1cbfcab0478e92c814",
              "IPY_MODEL_6730afba754f4d7d92ebc6c527eb8faf",
              "IPY_MODEL_fa52316149fb445dad06c2b0639c0bfa",
              "IPY_MODEL_00065328d2a74614a7ce9dc1a833e9e3",
              "IPY_MODEL_38acf5c9ee5d427aa3ea3f2b15d31828",
              "IPY_MODEL_fdbb017e28884a859dcb97538756014e",
              "IPY_MODEL_afd83eccee554d1daef843f3e489ba07",
              "IPY_MODEL_e3ff258302f747428307cddd90fb6ff7",
              "IPY_MODEL_5c09a5be719e453590905aca0cc7ad47"
            ]
          }
        },
        "f30ffcc574cf49a2b3a6981783e68659": {
          "model_module": "jupyter-cytoscape",
          "model_module_version": "^1.3.3",
          "model_name": "EdgeModel",
          "state": {
            "_model_module": "jupyter-cytoscape",
            "_model_module_version": "^1.3.3",
            "_model_name": "EdgeModel",
            "_view_count": null,
            "_view_module": "jupyter-cytoscape",
            "_view_module_version": "^1.3.3",
            "_view_name": "EdgeView",
            "classes": "",
            "data": {
              "K": 0,
              "dirFrom": "K",
              "edgeLabel": "acetate | r=-1, K=0",
              "ft": "ft:sub:bac:E_coli:glucose_ecoli:glucose_to_acetate",
              "id": "edge:ft:sub:bac:E_coli:glucose_ecoli:glucose_to_acetate:met:acetate:produces:0",
              "metKey": "acetate",
              "rate": -1,
              "rateAbs": 1,
              "rateNorm": 1,
              "role": "produces",
              "source": "ft:sub:bac:E_coli:glucose_ecoli:glucose_to_acetate",
              "target": "met:acetate"
            },
            "pannable": true,
            "removed": false,
            "selectable": false,
            "selected": false
          }
        },
        "f3e52a17efc7422f87dcd973618ff7af": {
          "model_module": "jupyter-cytoscape",
          "model_module_version": "^1.3.3",
          "model_name": "EdgeModel",
          "state": {
            "_model_module": "jupyter-cytoscape",
            "_model_module_version": "^1.3.3",
            "_model_name": "EdgeModel",
            "_view_count": null,
            "_view_module": "jupyter-cytoscape",
            "_view_module_version": "^1.3.3",
            "_view_name": "EdgeView",
            "classes": "",
            "data": {
              "condition": "((glucose) ** 10.0/((glucose) ** 10.0 + 0.5 ** 10.0))",
              "edgeLabel": "Condition: ((glucose) ** 10.0/((glucose) ** 10.0 + 0.5 ** 10.... | Rate: 0.0001",
              "id": "edge:sub:bac:bt:xf:sub:bac:bt:xe:transition:0",
              "kind": "transition",
              "rate": 0.0001,
              "role": "connects",
              "source": "sub:bac:bt:xf",
              "source_subpop": "xf",
              "target": "sub:bac:bt:xe",
              "target_subpop": "xe"
            },
            "pannable": true,
            "removed": false,
            "selectable": false,
            "selected": false
          }
        },
        "f47bcac929994077b00e8fb1b5fa85e8": {
          "model_module": "jupyter-cytoscape",
          "model_module_version": "^1.3.3",
          "model_name": "NodeModel",
          "state": {
            "_model_module": "jupyter-cytoscape",
            "_model_module_version": "^1.3.3",
            "_model_name": "NodeModel",
            "_view_count": null,
            "_view_module": "jupyter-cytoscape",
            "_view_module_version": "^1.3.3",
            "_view_name": "NodeView",
            "classes": "",
            "data": {
              "hoverLabel": "xa_pyruvate (feeding-term)",
              "id": "ft:sub:bac:bh:xa:xa_pyruvate",
              "label": "xa_pyruvate",
              "parent": "bac:bh",
              "size": 0.35,
              "type": "feedingTerm"
            },
            "grabbable": true,
            "grabbed": false,
            "locked": false,
            "pannable": false,
            "position": {
              "x": -284,
              "y": 0
            },
            "removed": false,
            "selectable": false,
            "selected": false
          }
        },
        "f7b6fe5af80b4c30965965218891b7fd": {
          "model_module": "jupyter-cytoscape",
          "model_module_version": "^1.3.3",
          "model_name": "EdgeModel",
          "state": {
            "_model_module": "jupyter-cytoscape",
            "_model_module_version": "^1.3.3",
            "_model_name": "EdgeModel",
            "_view_count": null,
            "_view_module": "jupyter-cytoscape",
            "_view_module_version": "^1.3.3",
            "_view_name": "EdgeView",
            "classes": "",
            "data": {
              "K": 0,
              "dirFrom": "K",
              "edgeLabel": "butyrate | r=6.87e-12, K=0",
              "ft": "ft:sub:bac:ri:xi:xi_glucose",
              "id": "edge:ft:sub:bac:ri:xi:xi_glucose:met:butyrate:produces:0",
              "metKey": "butyrate",
              "rate": 6.865175095e-12,
              "rateAbs": 6.865175095e-12,
              "rateNorm": 6.865175095e-13,
              "role": "produces",
              "source": "ft:sub:bac:ri:xi:xi_glucose",
              "target": "met:butyrate"
            },
            "pannable": true,
            "removed": false,
            "selectable": false,
            "selected": false
          }
        },
        "fa52316149fb445dad06c2b0639c0bfa": {
          "model_module": "jupyter-cytoscape",
          "model_module_version": "^1.3.3",
          "model_name": "NodeModel",
          "state": {
            "_model_module": "jupyter-cytoscape",
            "_model_module_version": "^1.3.3",
            "_model_name": "NodeModel",
            "_view_count": null,
            "_view_module": "jupyter-cytoscape",
            "_view_module_version": "^1.3.3",
            "_view_name": "NodeView",
            "classes": "",
            "data": {
              "Topt": 37,
              "color": "#00B8FF",
              "count": 0.003,
              "hoverLabel": "xi (subpop) | μmax=0.705967 | state=active",
              "id": "sub:bac:ri:xi",
              "label": "xi",
              "mumax": 0.705966814,
              "pH_sensitivity_left": 1.6335,
              "pH_sensitivity_right": 1.6335,
              "pHopt": 7.7682760382,
              "parent": "bac:ri",
              "size": 0.3,
              "species": "ri",
              "state": "active",
              "tempSensitivity_left": 5,
              "tempSensitivity_right": 6,
              "type": "subpopulation"
            },
            "grabbable": true,
            "grabbed": false,
            "locked": false,
            "pannable": false,
            "position": {
              "x": -240,
              "y": 1068
            },
            "removed": false,
            "selectable": false,
            "selected": false
          }
        },
        "fac19eb815a74044ad7ed34f99397c4f": {
          "model_module": "jupyter-cytoscape",
          "model_module_version": "^1.3.3",
          "model_name": "EdgeModel",
          "state": {
            "_model_module": "jupyter-cytoscape",
            "_model_module_version": "^1.3.3",
            "_model_name": "EdgeModel",
            "_view_count": null,
            "_view_module": "jupyter-cytoscape",
            "_view_module_version": "^1.3.3",
            "_view_name": "EdgeView",
            "classes": "",
            "data": {
              "K": 0,
              "dirFrom": "K",
              "edgeLabel": "lactate | r=3, K=0",
              "ft": "ft:sub:bac:bh:xa:xa_trehalose",
              "id": "edge:ft:sub:bac:bh:xa:xa_trehalose:met:lactate:produces:0",
              "metKey": "lactate",
              "rate": 2.9999999999,
              "rateAbs": 2.9999999999,
              "rateNorm": 0.29999999999,
              "role": "produces",
              "source": "ft:sub:bac:bh:xa:xa_trehalose",
              "target": "met:lactate"
            },
            "pannable": true,
            "removed": false,
            "selectable": false,
            "selected": false
          }
        },
        "fc2b39fd25804df3834cbb8747ac5773": {
          "model_module": "jupyter-cytoscape",
          "model_module_version": "^1.3.3",
          "model_name": "EdgeModel",
          "state": {
            "_model_module": "jupyter-cytoscape",
            "_model_module_version": "^1.3.3",
            "_model_name": "EdgeModel",
            "_view_count": null,
            "_view_module": "jupyter-cytoscape",
            "_view_module_version": "^1.3.3",
            "_view_name": "EdgeView",
            "classes": "",
            "data": {
              "coeff": -0.0491,
              "coeffNorm": 0.5051440329218108,
              "edgeLabel": "pH coeff=-0.0491",
              "id": "edge:pH:met:acetate",
              "kind": "pH_effect",
              "role": "controls",
              "source": "pH",
              "target": "met:acetate"
            },
            "pannable": true,
            "removed": false,
            "selectable": false,
            "selected": false
          }
        },
        "fd633eb686254aa299fa959674390678": {
          "model_module": "jupyter-cytoscape",
          "model_module_version": "^1.3.3",
          "model_name": "EdgeModel",
          "state": {
            "_model_module": "jupyter-cytoscape",
            "_model_module_version": "^1.3.3",
            "_model_name": "EdgeModel",
            "_view_count": null,
            "_view_module": "jupyter-cytoscape",
            "_view_module_version": "^1.3.3",
            "_view_name": "EdgeView",
            "classes": "",
            "data": {
              "K": 0.2756122752,
              "dirFrom": "K",
              "edgeLabel": "acetate | r=0.853, K=0.276",
              "ft": "ft:sub:bac:ri:xj:xj_acetate",
              "id": "edge:met:acetate:ft:sub:bac:ri:xj:xj_acetate:consumes:1",
              "metKey": "acetate",
              "rate": 0.8533874512,
              "rateAbs": 0.8533874512,
              "rateNorm": 0.08533874512,
              "role": "consumes",
              "source": "met:acetate",
              "target": "ft:sub:bac:ri:xj:xj_acetate"
            },
            "pannable": true,
            "removed": false,
            "selectable": false,
            "selected": false
          }
        },
        "fdbb017e28884a859dcb97538756014e": {
          "model_module": "jupyter-cytoscape",
          "model_module_version": "^1.3.3",
          "model_name": "NodeModel",
          "state": {
            "_model_module": "jupyter-cytoscape",
            "_model_module_version": "^1.3.3",
            "_model_name": "NodeModel",
            "_view_count": null,
            "_view_module": "jupyter-cytoscape",
            "_view_module_version": "^1.3.3",
            "_view_name": "NodeView",
            "classes": "",
            "data": {
              "Topt": 37,
              "color": "#00B8FF",
              "count": 0,
              "hoverLabel": "xj (subpop) | μmax=0.0153452 | state=active",
              "id": "sub:bac:ri:xj",
              "label": "xj",
              "mumax": 0.0153451944,
              "pH_sensitivity_left": 2.2477,
              "pH_sensitivity_right": 2.2477,
              "pHopt": 7.6243042258,
              "parent": "bac:ri",
              "size": 0.3,
              "species": "ri",
              "state": "active",
              "tempSensitivity_left": 500,
              "tempSensitivity_right": 500,
              "type": "subpopulation"
            },
            "grabbable": true,
            "grabbed": false,
            "locked": false,
            "pannable": false,
            "position": {
              "x": -80,
              "y": 1068
            },
            "removed": false,
            "selectable": false,
            "selected": false
          }
        }
      }
    }
  },
  "nbformat": 4,
  "nbformat_minor": 5
}
